{
  "nbformat": 4,
  "nbformat_minor": 0,
  "metadata": {
    "colab": {
      "provenance": [],
      "collapsed_sections": [
        "epqaV4bo4uuI",
        "PEuBxWWbUkGS",
        "tcYrSUs34LVu",
        "JDu3sPfwTQQa",
        "ltvb9xhYQVm7"
      ],
      "gpuType": "T4",
      "machine_shape": "hm"
    },
    "kernelspec": {
      "name": "python3",
      "display_name": "Python 3"
    },
    "language_info": {
      "name": "python"
    },
    "widgets": {
      "application/vnd.jupyter.widget-state+json": {
        "990468c8c3eb429d9b040d52b1af8338": {
          "model_module": "@jupyter-widgets/controls",
          "model_name": "HBoxModel",
          "model_module_version": "1.5.0",
          "state": {
            "_dom_classes": [],
            "_model_module": "@jupyter-widgets/controls",
            "_model_module_version": "1.5.0",
            "_model_name": "HBoxModel",
            "_view_count": null,
            "_view_module": "@jupyter-widgets/controls",
            "_view_module_version": "1.5.0",
            "_view_name": "HBoxView",
            "box_style": "",
            "children": [
              "IPY_MODEL_6919580149de46128616253983b0873b",
              "IPY_MODEL_b803ca455a014f0ba4ff0dc823ca6188",
              "IPY_MODEL_6babd989d8754572ae25f40d614d37ad"
            ],
            "layout": "IPY_MODEL_7e5af470d89144318a85903ae1daa164"
          }
        },
        "6919580149de46128616253983b0873b": {
          "model_module": "@jupyter-widgets/controls",
          "model_name": "HTMLModel",
          "model_module_version": "1.5.0",
          "state": {
            "_dom_classes": [],
            "_model_module": "@jupyter-widgets/controls",
            "_model_module_version": "1.5.0",
            "_model_name": "HTMLModel",
            "_view_count": null,
            "_view_module": "@jupyter-widgets/controls",
            "_view_module_version": "1.5.0",
            "_view_name": "HTMLView",
            "description": "",
            "description_tooltip": null,
            "layout": "IPY_MODEL_49465b56058c4d0abf214911069e79ee",
            "placeholder": "​",
            "style": "IPY_MODEL_928d500048284cd6bae87ecdefac8f33",
            "value": "config.json: 100%"
          }
        },
        "b803ca455a014f0ba4ff0dc823ca6188": {
          "model_module": "@jupyter-widgets/controls",
          "model_name": "FloatProgressModel",
          "model_module_version": "1.5.0",
          "state": {
            "_dom_classes": [],
            "_model_module": "@jupyter-widgets/controls",
            "_model_module_version": "1.5.0",
            "_model_name": "FloatProgressModel",
            "_view_count": null,
            "_view_module": "@jupyter-widgets/controls",
            "_view_module_version": "1.5.0",
            "_view_name": "ProgressView",
            "bar_style": "success",
            "description": "",
            "description_tooltip": null,
            "layout": "IPY_MODEL_be386f925da44f0b8d6570d94aff27d2",
            "max": 665,
            "min": 0,
            "orientation": "horizontal",
            "style": "IPY_MODEL_5f6be8c9dea444f58df4b34ec0563848",
            "value": 665
          }
        },
        "6babd989d8754572ae25f40d614d37ad": {
          "model_module": "@jupyter-widgets/controls",
          "model_name": "HTMLModel",
          "model_module_version": "1.5.0",
          "state": {
            "_dom_classes": [],
            "_model_module": "@jupyter-widgets/controls",
            "_model_module_version": "1.5.0",
            "_model_name": "HTMLModel",
            "_view_count": null,
            "_view_module": "@jupyter-widgets/controls",
            "_view_module_version": "1.5.0",
            "_view_name": "HTMLView",
            "description": "",
            "description_tooltip": null,
            "layout": "IPY_MODEL_19d0517bd32844d99080e79b15aeee12",
            "placeholder": "​",
            "style": "IPY_MODEL_f46b17d5ba654e00aedd4cd7fe6577a7",
            "value": " 665/665 [00:00&lt;00:00, 57.5kB/s]"
          }
        },
        "7e5af470d89144318a85903ae1daa164": {
          "model_module": "@jupyter-widgets/base",
          "model_name": "LayoutModel",
          "model_module_version": "1.2.0",
          "state": {
            "_model_module": "@jupyter-widgets/base",
            "_model_module_version": "1.2.0",
            "_model_name": "LayoutModel",
            "_view_count": null,
            "_view_module": "@jupyter-widgets/base",
            "_view_module_version": "1.2.0",
            "_view_name": "LayoutView",
            "align_content": null,
            "align_items": null,
            "align_self": null,
            "border": null,
            "bottom": null,
            "display": null,
            "flex": null,
            "flex_flow": null,
            "grid_area": null,
            "grid_auto_columns": null,
            "grid_auto_flow": null,
            "grid_auto_rows": null,
            "grid_column": null,
            "grid_gap": null,
            "grid_row": null,
            "grid_template_areas": null,
            "grid_template_columns": null,
            "grid_template_rows": null,
            "height": null,
            "justify_content": null,
            "justify_items": null,
            "left": null,
            "margin": null,
            "max_height": null,
            "max_width": null,
            "min_height": null,
            "min_width": null,
            "object_fit": null,
            "object_position": null,
            "order": null,
            "overflow": null,
            "overflow_x": null,
            "overflow_y": null,
            "padding": null,
            "right": null,
            "top": null,
            "visibility": null,
            "width": null
          }
        },
        "49465b56058c4d0abf214911069e79ee": {
          "model_module": "@jupyter-widgets/base",
          "model_name": "LayoutModel",
          "model_module_version": "1.2.0",
          "state": {
            "_model_module": "@jupyter-widgets/base",
            "_model_module_version": "1.2.0",
            "_model_name": "LayoutModel",
            "_view_count": null,
            "_view_module": "@jupyter-widgets/base",
            "_view_module_version": "1.2.0",
            "_view_name": "LayoutView",
            "align_content": null,
            "align_items": null,
            "align_self": null,
            "border": null,
            "bottom": null,
            "display": null,
            "flex": null,
            "flex_flow": null,
            "grid_area": null,
            "grid_auto_columns": null,
            "grid_auto_flow": null,
            "grid_auto_rows": null,
            "grid_column": null,
            "grid_gap": null,
            "grid_row": null,
            "grid_template_areas": null,
            "grid_template_columns": null,
            "grid_template_rows": null,
            "height": null,
            "justify_content": null,
            "justify_items": null,
            "left": null,
            "margin": null,
            "max_height": null,
            "max_width": null,
            "min_height": null,
            "min_width": null,
            "object_fit": null,
            "object_position": null,
            "order": null,
            "overflow": null,
            "overflow_x": null,
            "overflow_y": null,
            "padding": null,
            "right": null,
            "top": null,
            "visibility": null,
            "width": null
          }
        },
        "928d500048284cd6bae87ecdefac8f33": {
          "model_module": "@jupyter-widgets/controls",
          "model_name": "DescriptionStyleModel",
          "model_module_version": "1.5.0",
          "state": {
            "_model_module": "@jupyter-widgets/controls",
            "_model_module_version": "1.5.0",
            "_model_name": "DescriptionStyleModel",
            "_view_count": null,
            "_view_module": "@jupyter-widgets/base",
            "_view_module_version": "1.2.0",
            "_view_name": "StyleView",
            "description_width": ""
          }
        },
        "be386f925da44f0b8d6570d94aff27d2": {
          "model_module": "@jupyter-widgets/base",
          "model_name": "LayoutModel",
          "model_module_version": "1.2.0",
          "state": {
            "_model_module": "@jupyter-widgets/base",
            "_model_module_version": "1.2.0",
            "_model_name": "LayoutModel",
            "_view_count": null,
            "_view_module": "@jupyter-widgets/base",
            "_view_module_version": "1.2.0",
            "_view_name": "LayoutView",
            "align_content": null,
            "align_items": null,
            "align_self": null,
            "border": null,
            "bottom": null,
            "display": null,
            "flex": null,
            "flex_flow": null,
            "grid_area": null,
            "grid_auto_columns": null,
            "grid_auto_flow": null,
            "grid_auto_rows": null,
            "grid_column": null,
            "grid_gap": null,
            "grid_row": null,
            "grid_template_areas": null,
            "grid_template_columns": null,
            "grid_template_rows": null,
            "height": null,
            "justify_content": null,
            "justify_items": null,
            "left": null,
            "margin": null,
            "max_height": null,
            "max_width": null,
            "min_height": null,
            "min_width": null,
            "object_fit": null,
            "object_position": null,
            "order": null,
            "overflow": null,
            "overflow_x": null,
            "overflow_y": null,
            "padding": null,
            "right": null,
            "top": null,
            "visibility": null,
            "width": null
          }
        },
        "5f6be8c9dea444f58df4b34ec0563848": {
          "model_module": "@jupyter-widgets/controls",
          "model_name": "ProgressStyleModel",
          "model_module_version": "1.5.0",
          "state": {
            "_model_module": "@jupyter-widgets/controls",
            "_model_module_version": "1.5.0",
            "_model_name": "ProgressStyleModel",
            "_view_count": null,
            "_view_module": "@jupyter-widgets/base",
            "_view_module_version": "1.2.0",
            "_view_name": "StyleView",
            "bar_color": null,
            "description_width": ""
          }
        },
        "19d0517bd32844d99080e79b15aeee12": {
          "model_module": "@jupyter-widgets/base",
          "model_name": "LayoutModel",
          "model_module_version": "1.2.0",
          "state": {
            "_model_module": "@jupyter-widgets/base",
            "_model_module_version": "1.2.0",
            "_model_name": "LayoutModel",
            "_view_count": null,
            "_view_module": "@jupyter-widgets/base",
            "_view_module_version": "1.2.0",
            "_view_name": "LayoutView",
            "align_content": null,
            "align_items": null,
            "align_self": null,
            "border": null,
            "bottom": null,
            "display": null,
            "flex": null,
            "flex_flow": null,
            "grid_area": null,
            "grid_auto_columns": null,
            "grid_auto_flow": null,
            "grid_auto_rows": null,
            "grid_column": null,
            "grid_gap": null,
            "grid_row": null,
            "grid_template_areas": null,
            "grid_template_columns": null,
            "grid_template_rows": null,
            "height": null,
            "justify_content": null,
            "justify_items": null,
            "left": null,
            "margin": null,
            "max_height": null,
            "max_width": null,
            "min_height": null,
            "min_width": null,
            "object_fit": null,
            "object_position": null,
            "order": null,
            "overflow": null,
            "overflow_x": null,
            "overflow_y": null,
            "padding": null,
            "right": null,
            "top": null,
            "visibility": null,
            "width": null
          }
        },
        "f46b17d5ba654e00aedd4cd7fe6577a7": {
          "model_module": "@jupyter-widgets/controls",
          "model_name": "DescriptionStyleModel",
          "model_module_version": "1.5.0",
          "state": {
            "_model_module": "@jupyter-widgets/controls",
            "_model_module_version": "1.5.0",
            "_model_name": "DescriptionStyleModel",
            "_view_count": null,
            "_view_module": "@jupyter-widgets/base",
            "_view_module_version": "1.2.0",
            "_view_name": "StyleView",
            "description_width": ""
          }
        },
        "d7c68ac112894f82b5e694e443c9da2a": {
          "model_module": "@jupyter-widgets/controls",
          "model_name": "HBoxModel",
          "model_module_version": "1.5.0",
          "state": {
            "_dom_classes": [],
            "_model_module": "@jupyter-widgets/controls",
            "_model_module_version": "1.5.0",
            "_model_name": "HBoxModel",
            "_view_count": null,
            "_view_module": "@jupyter-widgets/controls",
            "_view_module_version": "1.5.0",
            "_view_name": "HBoxView",
            "box_style": "",
            "children": [
              "IPY_MODEL_71d85be7941a4b328386b93d4264c598",
              "IPY_MODEL_a79fd6eb4f564f02bc4c0c83c9c357a2",
              "IPY_MODEL_a545c1f3666e496e80a37acbf8ac6c39"
            ],
            "layout": "IPY_MODEL_297ad8958d3d4f6ab308c89bdbbb5eed"
          }
        },
        "71d85be7941a4b328386b93d4264c598": {
          "model_module": "@jupyter-widgets/controls",
          "model_name": "HTMLModel",
          "model_module_version": "1.5.0",
          "state": {
            "_dom_classes": [],
            "_model_module": "@jupyter-widgets/controls",
            "_model_module_version": "1.5.0",
            "_model_name": "HTMLModel",
            "_view_count": null,
            "_view_module": "@jupyter-widgets/controls",
            "_view_module_version": "1.5.0",
            "_view_name": "HTMLView",
            "description": "",
            "description_tooltip": null,
            "layout": "IPY_MODEL_3cbd6d9bc9784ddf9d3e81b8baf10084",
            "placeholder": "​",
            "style": "IPY_MODEL_dfc80c1b69494ea0a8ae9f971b1fb85c",
            "value": "model.safetensors: 100%"
          }
        },
        "a79fd6eb4f564f02bc4c0c83c9c357a2": {
          "model_module": "@jupyter-widgets/controls",
          "model_name": "FloatProgressModel",
          "model_module_version": "1.5.0",
          "state": {
            "_dom_classes": [],
            "_model_module": "@jupyter-widgets/controls",
            "_model_module_version": "1.5.0",
            "_model_name": "FloatProgressModel",
            "_view_count": null,
            "_view_module": "@jupyter-widgets/controls",
            "_view_module_version": "1.5.0",
            "_view_name": "ProgressView",
            "bar_style": "success",
            "description": "",
            "description_tooltip": null,
            "layout": "IPY_MODEL_794cd953414643e1b5eec13ad257f259",
            "max": 548105171,
            "min": 0,
            "orientation": "horizontal",
            "style": "IPY_MODEL_176e0d129e6a415b96ba4a31b89f42c1",
            "value": 548105171
          }
        },
        "a545c1f3666e496e80a37acbf8ac6c39": {
          "model_module": "@jupyter-widgets/controls",
          "model_name": "HTMLModel",
          "model_module_version": "1.5.0",
          "state": {
            "_dom_classes": [],
            "_model_module": "@jupyter-widgets/controls",
            "_model_module_version": "1.5.0",
            "_model_name": "HTMLModel",
            "_view_count": null,
            "_view_module": "@jupyter-widgets/controls",
            "_view_module_version": "1.5.0",
            "_view_name": "HTMLView",
            "description": "",
            "description_tooltip": null,
            "layout": "IPY_MODEL_03043301ce7f4ce5b2e6580890a1df27",
            "placeholder": "​",
            "style": "IPY_MODEL_a91af149a54646a2ab3332a1f675e7e0",
            "value": " 548M/548M [00:01&lt;00:00, 551MB/s]"
          }
        },
        "297ad8958d3d4f6ab308c89bdbbb5eed": {
          "model_module": "@jupyter-widgets/base",
          "model_name": "LayoutModel",
          "model_module_version": "1.2.0",
          "state": {
            "_model_module": "@jupyter-widgets/base",
            "_model_module_version": "1.2.0",
            "_model_name": "LayoutModel",
            "_view_count": null,
            "_view_module": "@jupyter-widgets/base",
            "_view_module_version": "1.2.0",
            "_view_name": "LayoutView",
            "align_content": null,
            "align_items": null,
            "align_self": null,
            "border": null,
            "bottom": null,
            "display": null,
            "flex": null,
            "flex_flow": null,
            "grid_area": null,
            "grid_auto_columns": null,
            "grid_auto_flow": null,
            "grid_auto_rows": null,
            "grid_column": null,
            "grid_gap": null,
            "grid_row": null,
            "grid_template_areas": null,
            "grid_template_columns": null,
            "grid_template_rows": null,
            "height": null,
            "justify_content": null,
            "justify_items": null,
            "left": null,
            "margin": null,
            "max_height": null,
            "max_width": null,
            "min_height": null,
            "min_width": null,
            "object_fit": null,
            "object_position": null,
            "order": null,
            "overflow": null,
            "overflow_x": null,
            "overflow_y": null,
            "padding": null,
            "right": null,
            "top": null,
            "visibility": null,
            "width": null
          }
        },
        "3cbd6d9bc9784ddf9d3e81b8baf10084": {
          "model_module": "@jupyter-widgets/base",
          "model_name": "LayoutModel",
          "model_module_version": "1.2.0",
          "state": {
            "_model_module": "@jupyter-widgets/base",
            "_model_module_version": "1.2.0",
            "_model_name": "LayoutModel",
            "_view_count": null,
            "_view_module": "@jupyter-widgets/base",
            "_view_module_version": "1.2.0",
            "_view_name": "LayoutView",
            "align_content": null,
            "align_items": null,
            "align_self": null,
            "border": null,
            "bottom": null,
            "display": null,
            "flex": null,
            "flex_flow": null,
            "grid_area": null,
            "grid_auto_columns": null,
            "grid_auto_flow": null,
            "grid_auto_rows": null,
            "grid_column": null,
            "grid_gap": null,
            "grid_row": null,
            "grid_template_areas": null,
            "grid_template_columns": null,
            "grid_template_rows": null,
            "height": null,
            "justify_content": null,
            "justify_items": null,
            "left": null,
            "margin": null,
            "max_height": null,
            "max_width": null,
            "min_height": null,
            "min_width": null,
            "object_fit": null,
            "object_position": null,
            "order": null,
            "overflow": null,
            "overflow_x": null,
            "overflow_y": null,
            "padding": null,
            "right": null,
            "top": null,
            "visibility": null,
            "width": null
          }
        },
        "dfc80c1b69494ea0a8ae9f971b1fb85c": {
          "model_module": "@jupyter-widgets/controls",
          "model_name": "DescriptionStyleModel",
          "model_module_version": "1.5.0",
          "state": {
            "_model_module": "@jupyter-widgets/controls",
            "_model_module_version": "1.5.0",
            "_model_name": "DescriptionStyleModel",
            "_view_count": null,
            "_view_module": "@jupyter-widgets/base",
            "_view_module_version": "1.2.0",
            "_view_name": "StyleView",
            "description_width": ""
          }
        },
        "794cd953414643e1b5eec13ad257f259": {
          "model_module": "@jupyter-widgets/base",
          "model_name": "LayoutModel",
          "model_module_version": "1.2.0",
          "state": {
            "_model_module": "@jupyter-widgets/base",
            "_model_module_version": "1.2.0",
            "_model_name": "LayoutModel",
            "_view_count": null,
            "_view_module": "@jupyter-widgets/base",
            "_view_module_version": "1.2.0",
            "_view_name": "LayoutView",
            "align_content": null,
            "align_items": null,
            "align_self": null,
            "border": null,
            "bottom": null,
            "display": null,
            "flex": null,
            "flex_flow": null,
            "grid_area": null,
            "grid_auto_columns": null,
            "grid_auto_flow": null,
            "grid_auto_rows": null,
            "grid_column": null,
            "grid_gap": null,
            "grid_row": null,
            "grid_template_areas": null,
            "grid_template_columns": null,
            "grid_template_rows": null,
            "height": null,
            "justify_content": null,
            "justify_items": null,
            "left": null,
            "margin": null,
            "max_height": null,
            "max_width": null,
            "min_height": null,
            "min_width": null,
            "object_fit": null,
            "object_position": null,
            "order": null,
            "overflow": null,
            "overflow_x": null,
            "overflow_y": null,
            "padding": null,
            "right": null,
            "top": null,
            "visibility": null,
            "width": null
          }
        },
        "176e0d129e6a415b96ba4a31b89f42c1": {
          "model_module": "@jupyter-widgets/controls",
          "model_name": "ProgressStyleModel",
          "model_module_version": "1.5.0",
          "state": {
            "_model_module": "@jupyter-widgets/controls",
            "_model_module_version": "1.5.0",
            "_model_name": "ProgressStyleModel",
            "_view_count": null,
            "_view_module": "@jupyter-widgets/base",
            "_view_module_version": "1.2.0",
            "_view_name": "StyleView",
            "bar_color": null,
            "description_width": ""
          }
        },
        "03043301ce7f4ce5b2e6580890a1df27": {
          "model_module": "@jupyter-widgets/base",
          "model_name": "LayoutModel",
          "model_module_version": "1.2.0",
          "state": {
            "_model_module": "@jupyter-widgets/base",
            "_model_module_version": "1.2.0",
            "_model_name": "LayoutModel",
            "_view_count": null,
            "_view_module": "@jupyter-widgets/base",
            "_view_module_version": "1.2.0",
            "_view_name": "LayoutView",
            "align_content": null,
            "align_items": null,
            "align_self": null,
            "border": null,
            "bottom": null,
            "display": null,
            "flex": null,
            "flex_flow": null,
            "grid_area": null,
            "grid_auto_columns": null,
            "grid_auto_flow": null,
            "grid_auto_rows": null,
            "grid_column": null,
            "grid_gap": null,
            "grid_row": null,
            "grid_template_areas": null,
            "grid_template_columns": null,
            "grid_template_rows": null,
            "height": null,
            "justify_content": null,
            "justify_items": null,
            "left": null,
            "margin": null,
            "max_height": null,
            "max_width": null,
            "min_height": null,
            "min_width": null,
            "object_fit": null,
            "object_position": null,
            "order": null,
            "overflow": null,
            "overflow_x": null,
            "overflow_y": null,
            "padding": null,
            "right": null,
            "top": null,
            "visibility": null,
            "width": null
          }
        },
        "a91af149a54646a2ab3332a1f675e7e0": {
          "model_module": "@jupyter-widgets/controls",
          "model_name": "DescriptionStyleModel",
          "model_module_version": "1.5.0",
          "state": {
            "_model_module": "@jupyter-widgets/controls",
            "_model_module_version": "1.5.0",
            "_model_name": "DescriptionStyleModel",
            "_view_count": null,
            "_view_module": "@jupyter-widgets/base",
            "_view_module_version": "1.2.0",
            "_view_name": "StyleView",
            "description_width": ""
          }
        },
        "50c5a44da50f484d839edebfb2f4fdfa": {
          "model_module": "@jupyter-widgets/controls",
          "model_name": "HBoxModel",
          "model_module_version": "1.5.0",
          "state": {
            "_dom_classes": [],
            "_model_module": "@jupyter-widgets/controls",
            "_model_module_version": "1.5.0",
            "_model_name": "HBoxModel",
            "_view_count": null,
            "_view_module": "@jupyter-widgets/controls",
            "_view_module_version": "1.5.0",
            "_view_name": "HBoxView",
            "box_style": "",
            "children": [
              "IPY_MODEL_bab3f28525f541e38c01ad78b33d0a74",
              "IPY_MODEL_b2003c490d7946c08d1ae819fe5a32fd",
              "IPY_MODEL_ca4e9a6422da449d86617da828600f37"
            ],
            "layout": "IPY_MODEL_29e3fdaf65bf4d088b4c2b3cce7922f5"
          }
        },
        "bab3f28525f541e38c01ad78b33d0a74": {
          "model_module": "@jupyter-widgets/controls",
          "model_name": "HTMLModel",
          "model_module_version": "1.5.0",
          "state": {
            "_dom_classes": [],
            "_model_module": "@jupyter-widgets/controls",
            "_model_module_version": "1.5.0",
            "_model_name": "HTMLModel",
            "_view_count": null,
            "_view_module": "@jupyter-widgets/controls",
            "_view_module_version": "1.5.0",
            "_view_name": "HTMLView",
            "description": "",
            "description_tooltip": null,
            "layout": "IPY_MODEL_d6cd41c405eb459b90b867aed2d6ac5e",
            "placeholder": "​",
            "style": "IPY_MODEL_28d5e7a33dfb4cf5a0d21ab340034b30",
            "value": "generation_config.json: 100%"
          }
        },
        "b2003c490d7946c08d1ae819fe5a32fd": {
          "model_module": "@jupyter-widgets/controls",
          "model_name": "FloatProgressModel",
          "model_module_version": "1.5.0",
          "state": {
            "_dom_classes": [],
            "_model_module": "@jupyter-widgets/controls",
            "_model_module_version": "1.5.0",
            "_model_name": "FloatProgressModel",
            "_view_count": null,
            "_view_module": "@jupyter-widgets/controls",
            "_view_module_version": "1.5.0",
            "_view_name": "ProgressView",
            "bar_style": "success",
            "description": "",
            "description_tooltip": null,
            "layout": "IPY_MODEL_29e1c78fa3b042aba9f468d89c349df2",
            "max": 124,
            "min": 0,
            "orientation": "horizontal",
            "style": "IPY_MODEL_f22488df422a409096db1ee7a2d434e8",
            "value": 124
          }
        },
        "ca4e9a6422da449d86617da828600f37": {
          "model_module": "@jupyter-widgets/controls",
          "model_name": "HTMLModel",
          "model_module_version": "1.5.0",
          "state": {
            "_dom_classes": [],
            "_model_module": "@jupyter-widgets/controls",
            "_model_module_version": "1.5.0",
            "_model_name": "HTMLModel",
            "_view_count": null,
            "_view_module": "@jupyter-widgets/controls",
            "_view_module_version": "1.5.0",
            "_view_name": "HTMLView",
            "description": "",
            "description_tooltip": null,
            "layout": "IPY_MODEL_d3bd1fb000fc4e07921e72591a975d96",
            "placeholder": "​",
            "style": "IPY_MODEL_efe9036055954eab8dd8d0fedf624fb4",
            "value": " 124/124 [00:00&lt;00:00, 11.1kB/s]"
          }
        },
        "29e3fdaf65bf4d088b4c2b3cce7922f5": {
          "model_module": "@jupyter-widgets/base",
          "model_name": "LayoutModel",
          "model_module_version": "1.2.0",
          "state": {
            "_model_module": "@jupyter-widgets/base",
            "_model_module_version": "1.2.0",
            "_model_name": "LayoutModel",
            "_view_count": null,
            "_view_module": "@jupyter-widgets/base",
            "_view_module_version": "1.2.0",
            "_view_name": "LayoutView",
            "align_content": null,
            "align_items": null,
            "align_self": null,
            "border": null,
            "bottom": null,
            "display": null,
            "flex": null,
            "flex_flow": null,
            "grid_area": null,
            "grid_auto_columns": null,
            "grid_auto_flow": null,
            "grid_auto_rows": null,
            "grid_column": null,
            "grid_gap": null,
            "grid_row": null,
            "grid_template_areas": null,
            "grid_template_columns": null,
            "grid_template_rows": null,
            "height": null,
            "justify_content": null,
            "justify_items": null,
            "left": null,
            "margin": null,
            "max_height": null,
            "max_width": null,
            "min_height": null,
            "min_width": null,
            "object_fit": null,
            "object_position": null,
            "order": null,
            "overflow": null,
            "overflow_x": null,
            "overflow_y": null,
            "padding": null,
            "right": null,
            "top": null,
            "visibility": null,
            "width": null
          }
        },
        "d6cd41c405eb459b90b867aed2d6ac5e": {
          "model_module": "@jupyter-widgets/base",
          "model_name": "LayoutModel",
          "model_module_version": "1.2.0",
          "state": {
            "_model_module": "@jupyter-widgets/base",
            "_model_module_version": "1.2.0",
            "_model_name": "LayoutModel",
            "_view_count": null,
            "_view_module": "@jupyter-widgets/base",
            "_view_module_version": "1.2.0",
            "_view_name": "LayoutView",
            "align_content": null,
            "align_items": null,
            "align_self": null,
            "border": null,
            "bottom": null,
            "display": null,
            "flex": null,
            "flex_flow": null,
            "grid_area": null,
            "grid_auto_columns": null,
            "grid_auto_flow": null,
            "grid_auto_rows": null,
            "grid_column": null,
            "grid_gap": null,
            "grid_row": null,
            "grid_template_areas": null,
            "grid_template_columns": null,
            "grid_template_rows": null,
            "height": null,
            "justify_content": null,
            "justify_items": null,
            "left": null,
            "margin": null,
            "max_height": null,
            "max_width": null,
            "min_height": null,
            "min_width": null,
            "object_fit": null,
            "object_position": null,
            "order": null,
            "overflow": null,
            "overflow_x": null,
            "overflow_y": null,
            "padding": null,
            "right": null,
            "top": null,
            "visibility": null,
            "width": null
          }
        },
        "28d5e7a33dfb4cf5a0d21ab340034b30": {
          "model_module": "@jupyter-widgets/controls",
          "model_name": "DescriptionStyleModel",
          "model_module_version": "1.5.0",
          "state": {
            "_model_module": "@jupyter-widgets/controls",
            "_model_module_version": "1.5.0",
            "_model_name": "DescriptionStyleModel",
            "_view_count": null,
            "_view_module": "@jupyter-widgets/base",
            "_view_module_version": "1.2.0",
            "_view_name": "StyleView",
            "description_width": ""
          }
        },
        "29e1c78fa3b042aba9f468d89c349df2": {
          "model_module": "@jupyter-widgets/base",
          "model_name": "LayoutModel",
          "model_module_version": "1.2.0",
          "state": {
            "_model_module": "@jupyter-widgets/base",
            "_model_module_version": "1.2.0",
            "_model_name": "LayoutModel",
            "_view_count": null,
            "_view_module": "@jupyter-widgets/base",
            "_view_module_version": "1.2.0",
            "_view_name": "LayoutView",
            "align_content": null,
            "align_items": null,
            "align_self": null,
            "border": null,
            "bottom": null,
            "display": null,
            "flex": null,
            "flex_flow": null,
            "grid_area": null,
            "grid_auto_columns": null,
            "grid_auto_flow": null,
            "grid_auto_rows": null,
            "grid_column": null,
            "grid_gap": null,
            "grid_row": null,
            "grid_template_areas": null,
            "grid_template_columns": null,
            "grid_template_rows": null,
            "height": null,
            "justify_content": null,
            "justify_items": null,
            "left": null,
            "margin": null,
            "max_height": null,
            "max_width": null,
            "min_height": null,
            "min_width": null,
            "object_fit": null,
            "object_position": null,
            "order": null,
            "overflow": null,
            "overflow_x": null,
            "overflow_y": null,
            "padding": null,
            "right": null,
            "top": null,
            "visibility": null,
            "width": null
          }
        },
        "f22488df422a409096db1ee7a2d434e8": {
          "model_module": "@jupyter-widgets/controls",
          "model_name": "ProgressStyleModel",
          "model_module_version": "1.5.0",
          "state": {
            "_model_module": "@jupyter-widgets/controls",
            "_model_module_version": "1.5.0",
            "_model_name": "ProgressStyleModel",
            "_view_count": null,
            "_view_module": "@jupyter-widgets/base",
            "_view_module_version": "1.2.0",
            "_view_name": "StyleView",
            "bar_color": null,
            "description_width": ""
          }
        },
        "d3bd1fb000fc4e07921e72591a975d96": {
          "model_module": "@jupyter-widgets/base",
          "model_name": "LayoutModel",
          "model_module_version": "1.2.0",
          "state": {
            "_model_module": "@jupyter-widgets/base",
            "_model_module_version": "1.2.0",
            "_model_name": "LayoutModel",
            "_view_count": null,
            "_view_module": "@jupyter-widgets/base",
            "_view_module_version": "1.2.0",
            "_view_name": "LayoutView",
            "align_content": null,
            "align_items": null,
            "align_self": null,
            "border": null,
            "bottom": null,
            "display": null,
            "flex": null,
            "flex_flow": null,
            "grid_area": null,
            "grid_auto_columns": null,
            "grid_auto_flow": null,
            "grid_auto_rows": null,
            "grid_column": null,
            "grid_gap": null,
            "grid_row": null,
            "grid_template_areas": null,
            "grid_template_columns": null,
            "grid_template_rows": null,
            "height": null,
            "justify_content": null,
            "justify_items": null,
            "left": null,
            "margin": null,
            "max_height": null,
            "max_width": null,
            "min_height": null,
            "min_width": null,
            "object_fit": null,
            "object_position": null,
            "order": null,
            "overflow": null,
            "overflow_x": null,
            "overflow_y": null,
            "padding": null,
            "right": null,
            "top": null,
            "visibility": null,
            "width": null
          }
        },
        "efe9036055954eab8dd8d0fedf624fb4": {
          "model_module": "@jupyter-widgets/controls",
          "model_name": "DescriptionStyleModel",
          "model_module_version": "1.5.0",
          "state": {
            "_model_module": "@jupyter-widgets/controls",
            "_model_module_version": "1.5.0",
            "_model_name": "DescriptionStyleModel",
            "_view_count": null,
            "_view_module": "@jupyter-widgets/base",
            "_view_module_version": "1.2.0",
            "_view_name": "StyleView",
            "description_width": ""
          }
        },
        "604bc6c7b68d41c184dd45f42e3d0568": {
          "model_module": "@jupyter-widgets/controls",
          "model_name": "HBoxModel",
          "model_module_version": "1.5.0",
          "state": {
            "_dom_classes": [],
            "_model_module": "@jupyter-widgets/controls",
            "_model_module_version": "1.5.0",
            "_model_name": "HBoxModel",
            "_view_count": null,
            "_view_module": "@jupyter-widgets/controls",
            "_view_module_version": "1.5.0",
            "_view_name": "HBoxView",
            "box_style": "",
            "children": [
              "IPY_MODEL_49b06038340b40dbaba03b29598b33a1",
              "IPY_MODEL_cc58f2011fcc48fd8f96538893e053f8",
              "IPY_MODEL_3e05ca1576444c10b37cf4fa58b203d5"
            ],
            "layout": "IPY_MODEL_1787392b64184783bcde822fac7be315"
          }
        },
        "49b06038340b40dbaba03b29598b33a1": {
          "model_module": "@jupyter-widgets/controls",
          "model_name": "HTMLModel",
          "model_module_version": "1.5.0",
          "state": {
            "_dom_classes": [],
            "_model_module": "@jupyter-widgets/controls",
            "_model_module_version": "1.5.0",
            "_model_name": "HTMLModel",
            "_view_count": null,
            "_view_module": "@jupyter-widgets/controls",
            "_view_module_version": "1.5.0",
            "_view_name": "HTMLView",
            "description": "",
            "description_tooltip": null,
            "layout": "IPY_MODEL_85e34ea54ec246c0927a01d846ffc917",
            "placeholder": "​",
            "style": "IPY_MODEL_df6aab9481a94951aaa625b4a8e3a68a",
            "value": "vocab.json: 100%"
          }
        },
        "cc58f2011fcc48fd8f96538893e053f8": {
          "model_module": "@jupyter-widgets/controls",
          "model_name": "FloatProgressModel",
          "model_module_version": "1.5.0",
          "state": {
            "_dom_classes": [],
            "_model_module": "@jupyter-widgets/controls",
            "_model_module_version": "1.5.0",
            "_model_name": "FloatProgressModel",
            "_view_count": null,
            "_view_module": "@jupyter-widgets/controls",
            "_view_module_version": "1.5.0",
            "_view_name": "ProgressView",
            "bar_style": "success",
            "description": "",
            "description_tooltip": null,
            "layout": "IPY_MODEL_39a9c54f49344ae19033fa4157959a49",
            "max": 1042301,
            "min": 0,
            "orientation": "horizontal",
            "style": "IPY_MODEL_ff44363735b547f29e4634e7f33fa60d",
            "value": 1042301
          }
        },
        "3e05ca1576444c10b37cf4fa58b203d5": {
          "model_module": "@jupyter-widgets/controls",
          "model_name": "HTMLModel",
          "model_module_version": "1.5.0",
          "state": {
            "_dom_classes": [],
            "_model_module": "@jupyter-widgets/controls",
            "_model_module_version": "1.5.0",
            "_model_name": "HTMLModel",
            "_view_count": null,
            "_view_module": "@jupyter-widgets/controls",
            "_view_module_version": "1.5.0",
            "_view_name": "HTMLView",
            "description": "",
            "description_tooltip": null,
            "layout": "IPY_MODEL_06d7ac7746f94f68918a417d98ce292b",
            "placeholder": "​",
            "style": "IPY_MODEL_d561de77433847dd8913dc33a6a6cde0",
            "value": " 1.04M/1.04M [00:00&lt;00:00, 1.20MB/s]"
          }
        },
        "1787392b64184783bcde822fac7be315": {
          "model_module": "@jupyter-widgets/base",
          "model_name": "LayoutModel",
          "model_module_version": "1.2.0",
          "state": {
            "_model_module": "@jupyter-widgets/base",
            "_model_module_version": "1.2.0",
            "_model_name": "LayoutModel",
            "_view_count": null,
            "_view_module": "@jupyter-widgets/base",
            "_view_module_version": "1.2.0",
            "_view_name": "LayoutView",
            "align_content": null,
            "align_items": null,
            "align_self": null,
            "border": null,
            "bottom": null,
            "display": null,
            "flex": null,
            "flex_flow": null,
            "grid_area": null,
            "grid_auto_columns": null,
            "grid_auto_flow": null,
            "grid_auto_rows": null,
            "grid_column": null,
            "grid_gap": null,
            "grid_row": null,
            "grid_template_areas": null,
            "grid_template_columns": null,
            "grid_template_rows": null,
            "height": null,
            "justify_content": null,
            "justify_items": null,
            "left": null,
            "margin": null,
            "max_height": null,
            "max_width": null,
            "min_height": null,
            "min_width": null,
            "object_fit": null,
            "object_position": null,
            "order": null,
            "overflow": null,
            "overflow_x": null,
            "overflow_y": null,
            "padding": null,
            "right": null,
            "top": null,
            "visibility": null,
            "width": null
          }
        },
        "85e34ea54ec246c0927a01d846ffc917": {
          "model_module": "@jupyter-widgets/base",
          "model_name": "LayoutModel",
          "model_module_version": "1.2.0",
          "state": {
            "_model_module": "@jupyter-widgets/base",
            "_model_module_version": "1.2.0",
            "_model_name": "LayoutModel",
            "_view_count": null,
            "_view_module": "@jupyter-widgets/base",
            "_view_module_version": "1.2.0",
            "_view_name": "LayoutView",
            "align_content": null,
            "align_items": null,
            "align_self": null,
            "border": null,
            "bottom": null,
            "display": null,
            "flex": null,
            "flex_flow": null,
            "grid_area": null,
            "grid_auto_columns": null,
            "grid_auto_flow": null,
            "grid_auto_rows": null,
            "grid_column": null,
            "grid_gap": null,
            "grid_row": null,
            "grid_template_areas": null,
            "grid_template_columns": null,
            "grid_template_rows": null,
            "height": null,
            "justify_content": null,
            "justify_items": null,
            "left": null,
            "margin": null,
            "max_height": null,
            "max_width": null,
            "min_height": null,
            "min_width": null,
            "object_fit": null,
            "object_position": null,
            "order": null,
            "overflow": null,
            "overflow_x": null,
            "overflow_y": null,
            "padding": null,
            "right": null,
            "top": null,
            "visibility": null,
            "width": null
          }
        },
        "df6aab9481a94951aaa625b4a8e3a68a": {
          "model_module": "@jupyter-widgets/controls",
          "model_name": "DescriptionStyleModel",
          "model_module_version": "1.5.0",
          "state": {
            "_model_module": "@jupyter-widgets/controls",
            "_model_module_version": "1.5.0",
            "_model_name": "DescriptionStyleModel",
            "_view_count": null,
            "_view_module": "@jupyter-widgets/base",
            "_view_module_version": "1.2.0",
            "_view_name": "StyleView",
            "description_width": ""
          }
        },
        "39a9c54f49344ae19033fa4157959a49": {
          "model_module": "@jupyter-widgets/base",
          "model_name": "LayoutModel",
          "model_module_version": "1.2.0",
          "state": {
            "_model_module": "@jupyter-widgets/base",
            "_model_module_version": "1.2.0",
            "_model_name": "LayoutModel",
            "_view_count": null,
            "_view_module": "@jupyter-widgets/base",
            "_view_module_version": "1.2.0",
            "_view_name": "LayoutView",
            "align_content": null,
            "align_items": null,
            "align_self": null,
            "border": null,
            "bottom": null,
            "display": null,
            "flex": null,
            "flex_flow": null,
            "grid_area": null,
            "grid_auto_columns": null,
            "grid_auto_flow": null,
            "grid_auto_rows": null,
            "grid_column": null,
            "grid_gap": null,
            "grid_row": null,
            "grid_template_areas": null,
            "grid_template_columns": null,
            "grid_template_rows": null,
            "height": null,
            "justify_content": null,
            "justify_items": null,
            "left": null,
            "margin": null,
            "max_height": null,
            "max_width": null,
            "min_height": null,
            "min_width": null,
            "object_fit": null,
            "object_position": null,
            "order": null,
            "overflow": null,
            "overflow_x": null,
            "overflow_y": null,
            "padding": null,
            "right": null,
            "top": null,
            "visibility": null,
            "width": null
          }
        },
        "ff44363735b547f29e4634e7f33fa60d": {
          "model_module": "@jupyter-widgets/controls",
          "model_name": "ProgressStyleModel",
          "model_module_version": "1.5.0",
          "state": {
            "_model_module": "@jupyter-widgets/controls",
            "_model_module_version": "1.5.0",
            "_model_name": "ProgressStyleModel",
            "_view_count": null,
            "_view_module": "@jupyter-widgets/base",
            "_view_module_version": "1.2.0",
            "_view_name": "StyleView",
            "bar_color": null,
            "description_width": ""
          }
        },
        "06d7ac7746f94f68918a417d98ce292b": {
          "model_module": "@jupyter-widgets/base",
          "model_name": "LayoutModel",
          "model_module_version": "1.2.0",
          "state": {
            "_model_module": "@jupyter-widgets/base",
            "_model_module_version": "1.2.0",
            "_model_name": "LayoutModel",
            "_view_count": null,
            "_view_module": "@jupyter-widgets/base",
            "_view_module_version": "1.2.0",
            "_view_name": "LayoutView",
            "align_content": null,
            "align_items": null,
            "align_self": null,
            "border": null,
            "bottom": null,
            "display": null,
            "flex": null,
            "flex_flow": null,
            "grid_area": null,
            "grid_auto_columns": null,
            "grid_auto_flow": null,
            "grid_auto_rows": null,
            "grid_column": null,
            "grid_gap": null,
            "grid_row": null,
            "grid_template_areas": null,
            "grid_template_columns": null,
            "grid_template_rows": null,
            "height": null,
            "justify_content": null,
            "justify_items": null,
            "left": null,
            "margin": null,
            "max_height": null,
            "max_width": null,
            "min_height": null,
            "min_width": null,
            "object_fit": null,
            "object_position": null,
            "order": null,
            "overflow": null,
            "overflow_x": null,
            "overflow_y": null,
            "padding": null,
            "right": null,
            "top": null,
            "visibility": null,
            "width": null
          }
        },
        "d561de77433847dd8913dc33a6a6cde0": {
          "model_module": "@jupyter-widgets/controls",
          "model_name": "DescriptionStyleModel",
          "model_module_version": "1.5.0",
          "state": {
            "_model_module": "@jupyter-widgets/controls",
            "_model_module_version": "1.5.0",
            "_model_name": "DescriptionStyleModel",
            "_view_count": null,
            "_view_module": "@jupyter-widgets/base",
            "_view_module_version": "1.2.0",
            "_view_name": "StyleView",
            "description_width": ""
          }
        },
        "78899a36e0f14414bd20bf2de71a91a9": {
          "model_module": "@jupyter-widgets/controls",
          "model_name": "HBoxModel",
          "model_module_version": "1.5.0",
          "state": {
            "_dom_classes": [],
            "_model_module": "@jupyter-widgets/controls",
            "_model_module_version": "1.5.0",
            "_model_name": "HBoxModel",
            "_view_count": null,
            "_view_module": "@jupyter-widgets/controls",
            "_view_module_version": "1.5.0",
            "_view_name": "HBoxView",
            "box_style": "",
            "children": [
              "IPY_MODEL_64f79834ceb84f75bd59df775956949e",
              "IPY_MODEL_558e88a787cc46e58b20e9e7c35da0b7",
              "IPY_MODEL_2a6b5b969e664f73a9c568db62494418"
            ],
            "layout": "IPY_MODEL_3913ad0fad7a4ac884f7bca5b27f84c5"
          }
        },
        "64f79834ceb84f75bd59df775956949e": {
          "model_module": "@jupyter-widgets/controls",
          "model_name": "HTMLModel",
          "model_module_version": "1.5.0",
          "state": {
            "_dom_classes": [],
            "_model_module": "@jupyter-widgets/controls",
            "_model_module_version": "1.5.0",
            "_model_name": "HTMLModel",
            "_view_count": null,
            "_view_module": "@jupyter-widgets/controls",
            "_view_module_version": "1.5.0",
            "_view_name": "HTMLView",
            "description": "",
            "description_tooltip": null,
            "layout": "IPY_MODEL_6478fa44c557470195989c0761498f14",
            "placeholder": "​",
            "style": "IPY_MODEL_33254406ea57486ebb10a066fb1f80a3",
            "value": "merges.txt: 100%"
          }
        },
        "558e88a787cc46e58b20e9e7c35da0b7": {
          "model_module": "@jupyter-widgets/controls",
          "model_name": "FloatProgressModel",
          "model_module_version": "1.5.0",
          "state": {
            "_dom_classes": [],
            "_model_module": "@jupyter-widgets/controls",
            "_model_module_version": "1.5.0",
            "_model_name": "FloatProgressModel",
            "_view_count": null,
            "_view_module": "@jupyter-widgets/controls",
            "_view_module_version": "1.5.0",
            "_view_name": "ProgressView",
            "bar_style": "success",
            "description": "",
            "description_tooltip": null,
            "layout": "IPY_MODEL_4e83d8d4611645c883b39691b2e673f1",
            "max": 456318,
            "min": 0,
            "orientation": "horizontal",
            "style": "IPY_MODEL_fb4e6e08744246a59185c4a5258a4a90",
            "value": 456318
          }
        },
        "2a6b5b969e664f73a9c568db62494418": {
          "model_module": "@jupyter-widgets/controls",
          "model_name": "HTMLModel",
          "model_module_version": "1.5.0",
          "state": {
            "_dom_classes": [],
            "_model_module": "@jupyter-widgets/controls",
            "_model_module_version": "1.5.0",
            "_model_name": "HTMLModel",
            "_view_count": null,
            "_view_module": "@jupyter-widgets/controls",
            "_view_module_version": "1.5.0",
            "_view_name": "HTMLView",
            "description": "",
            "description_tooltip": null,
            "layout": "IPY_MODEL_a107d22c4c2544d3b76d4f7fc8472609",
            "placeholder": "​",
            "style": "IPY_MODEL_9eed3fc2658c48f088082b02ad6ee306",
            "value": " 456k/456k [00:00&lt;00:00, 35.0MB/s]"
          }
        },
        "3913ad0fad7a4ac884f7bca5b27f84c5": {
          "model_module": "@jupyter-widgets/base",
          "model_name": "LayoutModel",
          "model_module_version": "1.2.0",
          "state": {
            "_model_module": "@jupyter-widgets/base",
            "_model_module_version": "1.2.0",
            "_model_name": "LayoutModel",
            "_view_count": null,
            "_view_module": "@jupyter-widgets/base",
            "_view_module_version": "1.2.0",
            "_view_name": "LayoutView",
            "align_content": null,
            "align_items": null,
            "align_self": null,
            "border": null,
            "bottom": null,
            "display": null,
            "flex": null,
            "flex_flow": null,
            "grid_area": null,
            "grid_auto_columns": null,
            "grid_auto_flow": null,
            "grid_auto_rows": null,
            "grid_column": null,
            "grid_gap": null,
            "grid_row": null,
            "grid_template_areas": null,
            "grid_template_columns": null,
            "grid_template_rows": null,
            "height": null,
            "justify_content": null,
            "justify_items": null,
            "left": null,
            "margin": null,
            "max_height": null,
            "max_width": null,
            "min_height": null,
            "min_width": null,
            "object_fit": null,
            "object_position": null,
            "order": null,
            "overflow": null,
            "overflow_x": null,
            "overflow_y": null,
            "padding": null,
            "right": null,
            "top": null,
            "visibility": null,
            "width": null
          }
        },
        "6478fa44c557470195989c0761498f14": {
          "model_module": "@jupyter-widgets/base",
          "model_name": "LayoutModel",
          "model_module_version": "1.2.0",
          "state": {
            "_model_module": "@jupyter-widgets/base",
            "_model_module_version": "1.2.0",
            "_model_name": "LayoutModel",
            "_view_count": null,
            "_view_module": "@jupyter-widgets/base",
            "_view_module_version": "1.2.0",
            "_view_name": "LayoutView",
            "align_content": null,
            "align_items": null,
            "align_self": null,
            "border": null,
            "bottom": null,
            "display": null,
            "flex": null,
            "flex_flow": null,
            "grid_area": null,
            "grid_auto_columns": null,
            "grid_auto_flow": null,
            "grid_auto_rows": null,
            "grid_column": null,
            "grid_gap": null,
            "grid_row": null,
            "grid_template_areas": null,
            "grid_template_columns": null,
            "grid_template_rows": null,
            "height": null,
            "justify_content": null,
            "justify_items": null,
            "left": null,
            "margin": null,
            "max_height": null,
            "max_width": null,
            "min_height": null,
            "min_width": null,
            "object_fit": null,
            "object_position": null,
            "order": null,
            "overflow": null,
            "overflow_x": null,
            "overflow_y": null,
            "padding": null,
            "right": null,
            "top": null,
            "visibility": null,
            "width": null
          }
        },
        "33254406ea57486ebb10a066fb1f80a3": {
          "model_module": "@jupyter-widgets/controls",
          "model_name": "DescriptionStyleModel",
          "model_module_version": "1.5.0",
          "state": {
            "_model_module": "@jupyter-widgets/controls",
            "_model_module_version": "1.5.0",
            "_model_name": "DescriptionStyleModel",
            "_view_count": null,
            "_view_module": "@jupyter-widgets/base",
            "_view_module_version": "1.2.0",
            "_view_name": "StyleView",
            "description_width": ""
          }
        },
        "4e83d8d4611645c883b39691b2e673f1": {
          "model_module": "@jupyter-widgets/base",
          "model_name": "LayoutModel",
          "model_module_version": "1.2.0",
          "state": {
            "_model_module": "@jupyter-widgets/base",
            "_model_module_version": "1.2.0",
            "_model_name": "LayoutModel",
            "_view_count": null,
            "_view_module": "@jupyter-widgets/base",
            "_view_module_version": "1.2.0",
            "_view_name": "LayoutView",
            "align_content": null,
            "align_items": null,
            "align_self": null,
            "border": null,
            "bottom": null,
            "display": null,
            "flex": null,
            "flex_flow": null,
            "grid_area": null,
            "grid_auto_columns": null,
            "grid_auto_flow": null,
            "grid_auto_rows": null,
            "grid_column": null,
            "grid_gap": null,
            "grid_row": null,
            "grid_template_areas": null,
            "grid_template_columns": null,
            "grid_template_rows": null,
            "height": null,
            "justify_content": null,
            "justify_items": null,
            "left": null,
            "margin": null,
            "max_height": null,
            "max_width": null,
            "min_height": null,
            "min_width": null,
            "object_fit": null,
            "object_position": null,
            "order": null,
            "overflow": null,
            "overflow_x": null,
            "overflow_y": null,
            "padding": null,
            "right": null,
            "top": null,
            "visibility": null,
            "width": null
          }
        },
        "fb4e6e08744246a59185c4a5258a4a90": {
          "model_module": "@jupyter-widgets/controls",
          "model_name": "ProgressStyleModel",
          "model_module_version": "1.5.0",
          "state": {
            "_model_module": "@jupyter-widgets/controls",
            "_model_module_version": "1.5.0",
            "_model_name": "ProgressStyleModel",
            "_view_count": null,
            "_view_module": "@jupyter-widgets/base",
            "_view_module_version": "1.2.0",
            "_view_name": "StyleView",
            "bar_color": null,
            "description_width": ""
          }
        },
        "a107d22c4c2544d3b76d4f7fc8472609": {
          "model_module": "@jupyter-widgets/base",
          "model_name": "LayoutModel",
          "model_module_version": "1.2.0",
          "state": {
            "_model_module": "@jupyter-widgets/base",
            "_model_module_version": "1.2.0",
            "_model_name": "LayoutModel",
            "_view_count": null,
            "_view_module": "@jupyter-widgets/base",
            "_view_module_version": "1.2.0",
            "_view_name": "LayoutView",
            "align_content": null,
            "align_items": null,
            "align_self": null,
            "border": null,
            "bottom": null,
            "display": null,
            "flex": null,
            "flex_flow": null,
            "grid_area": null,
            "grid_auto_columns": null,
            "grid_auto_flow": null,
            "grid_auto_rows": null,
            "grid_column": null,
            "grid_gap": null,
            "grid_row": null,
            "grid_template_areas": null,
            "grid_template_columns": null,
            "grid_template_rows": null,
            "height": null,
            "justify_content": null,
            "justify_items": null,
            "left": null,
            "margin": null,
            "max_height": null,
            "max_width": null,
            "min_height": null,
            "min_width": null,
            "object_fit": null,
            "object_position": null,
            "order": null,
            "overflow": null,
            "overflow_x": null,
            "overflow_y": null,
            "padding": null,
            "right": null,
            "top": null,
            "visibility": null,
            "width": null
          }
        },
        "9eed3fc2658c48f088082b02ad6ee306": {
          "model_module": "@jupyter-widgets/controls",
          "model_name": "DescriptionStyleModel",
          "model_module_version": "1.5.0",
          "state": {
            "_model_module": "@jupyter-widgets/controls",
            "_model_module_version": "1.5.0",
            "_model_name": "DescriptionStyleModel",
            "_view_count": null,
            "_view_module": "@jupyter-widgets/base",
            "_view_module_version": "1.2.0",
            "_view_name": "StyleView",
            "description_width": ""
          }
        },
        "5616946191aa4643aa221716e05dcdcd": {
          "model_module": "@jupyter-widgets/controls",
          "model_name": "HBoxModel",
          "model_module_version": "1.5.0",
          "state": {
            "_dom_classes": [],
            "_model_module": "@jupyter-widgets/controls",
            "_model_module_version": "1.5.0",
            "_model_name": "HBoxModel",
            "_view_count": null,
            "_view_module": "@jupyter-widgets/controls",
            "_view_module_version": "1.5.0",
            "_view_name": "HBoxView",
            "box_style": "",
            "children": [
              "IPY_MODEL_f243ee88eeb0436ea73ca300ea85ed90",
              "IPY_MODEL_1c129d8fa2714642a0398aab950c55f3",
              "IPY_MODEL_6e113c782e0a41d1a2b36521adfe0c4c"
            ],
            "layout": "IPY_MODEL_1a5aa6ddb1114836af241c3274df693a"
          }
        },
        "f243ee88eeb0436ea73ca300ea85ed90": {
          "model_module": "@jupyter-widgets/controls",
          "model_name": "HTMLModel",
          "model_module_version": "1.5.0",
          "state": {
            "_dom_classes": [],
            "_model_module": "@jupyter-widgets/controls",
            "_model_module_version": "1.5.0",
            "_model_name": "HTMLModel",
            "_view_count": null,
            "_view_module": "@jupyter-widgets/controls",
            "_view_module_version": "1.5.0",
            "_view_name": "HTMLView",
            "description": "",
            "description_tooltip": null,
            "layout": "IPY_MODEL_3a939db751964c6997f3faec0ad38acd",
            "placeholder": "​",
            "style": "IPY_MODEL_2e3244e3406b4504a497fcde3989ea18",
            "value": "tokenizer.json: 100%"
          }
        },
        "1c129d8fa2714642a0398aab950c55f3": {
          "model_module": "@jupyter-widgets/controls",
          "model_name": "FloatProgressModel",
          "model_module_version": "1.5.0",
          "state": {
            "_dom_classes": [],
            "_model_module": "@jupyter-widgets/controls",
            "_model_module_version": "1.5.0",
            "_model_name": "FloatProgressModel",
            "_view_count": null,
            "_view_module": "@jupyter-widgets/controls",
            "_view_module_version": "1.5.0",
            "_view_name": "ProgressView",
            "bar_style": "success",
            "description": "",
            "description_tooltip": null,
            "layout": "IPY_MODEL_1852bf8764c042b782b6ae3acf283437",
            "max": 1355256,
            "min": 0,
            "orientation": "horizontal",
            "style": "IPY_MODEL_a20d2ddccef1440c8d08a01c5e69f1b8",
            "value": 1355256
          }
        },
        "6e113c782e0a41d1a2b36521adfe0c4c": {
          "model_module": "@jupyter-widgets/controls",
          "model_name": "HTMLModel",
          "model_module_version": "1.5.0",
          "state": {
            "_dom_classes": [],
            "_model_module": "@jupyter-widgets/controls",
            "_model_module_version": "1.5.0",
            "_model_name": "HTMLModel",
            "_view_count": null,
            "_view_module": "@jupyter-widgets/controls",
            "_view_module_version": "1.5.0",
            "_view_name": "HTMLView",
            "description": "",
            "description_tooltip": null,
            "layout": "IPY_MODEL_e755f301f14143a0aca8ce13f5f8d159",
            "placeholder": "​",
            "style": "IPY_MODEL_c4f0fe05d340415fb7d8049697d46e97",
            "value": " 1.36M/1.36M [00:00&lt;00:00, 1.60MB/s]"
          }
        },
        "1a5aa6ddb1114836af241c3274df693a": {
          "model_module": "@jupyter-widgets/base",
          "model_name": "LayoutModel",
          "model_module_version": "1.2.0",
          "state": {
            "_model_module": "@jupyter-widgets/base",
            "_model_module_version": "1.2.0",
            "_model_name": "LayoutModel",
            "_view_count": null,
            "_view_module": "@jupyter-widgets/base",
            "_view_module_version": "1.2.0",
            "_view_name": "LayoutView",
            "align_content": null,
            "align_items": null,
            "align_self": null,
            "border": null,
            "bottom": null,
            "display": null,
            "flex": null,
            "flex_flow": null,
            "grid_area": null,
            "grid_auto_columns": null,
            "grid_auto_flow": null,
            "grid_auto_rows": null,
            "grid_column": null,
            "grid_gap": null,
            "grid_row": null,
            "grid_template_areas": null,
            "grid_template_columns": null,
            "grid_template_rows": null,
            "height": null,
            "justify_content": null,
            "justify_items": null,
            "left": null,
            "margin": null,
            "max_height": null,
            "max_width": null,
            "min_height": null,
            "min_width": null,
            "object_fit": null,
            "object_position": null,
            "order": null,
            "overflow": null,
            "overflow_x": null,
            "overflow_y": null,
            "padding": null,
            "right": null,
            "top": null,
            "visibility": null,
            "width": null
          }
        },
        "3a939db751964c6997f3faec0ad38acd": {
          "model_module": "@jupyter-widgets/base",
          "model_name": "LayoutModel",
          "model_module_version": "1.2.0",
          "state": {
            "_model_module": "@jupyter-widgets/base",
            "_model_module_version": "1.2.0",
            "_model_name": "LayoutModel",
            "_view_count": null,
            "_view_module": "@jupyter-widgets/base",
            "_view_module_version": "1.2.0",
            "_view_name": "LayoutView",
            "align_content": null,
            "align_items": null,
            "align_self": null,
            "border": null,
            "bottom": null,
            "display": null,
            "flex": null,
            "flex_flow": null,
            "grid_area": null,
            "grid_auto_columns": null,
            "grid_auto_flow": null,
            "grid_auto_rows": null,
            "grid_column": null,
            "grid_gap": null,
            "grid_row": null,
            "grid_template_areas": null,
            "grid_template_columns": null,
            "grid_template_rows": null,
            "height": null,
            "justify_content": null,
            "justify_items": null,
            "left": null,
            "margin": null,
            "max_height": null,
            "max_width": null,
            "min_height": null,
            "min_width": null,
            "object_fit": null,
            "object_position": null,
            "order": null,
            "overflow": null,
            "overflow_x": null,
            "overflow_y": null,
            "padding": null,
            "right": null,
            "top": null,
            "visibility": null,
            "width": null
          }
        },
        "2e3244e3406b4504a497fcde3989ea18": {
          "model_module": "@jupyter-widgets/controls",
          "model_name": "DescriptionStyleModel",
          "model_module_version": "1.5.0",
          "state": {
            "_model_module": "@jupyter-widgets/controls",
            "_model_module_version": "1.5.0",
            "_model_name": "DescriptionStyleModel",
            "_view_count": null,
            "_view_module": "@jupyter-widgets/base",
            "_view_module_version": "1.2.0",
            "_view_name": "StyleView",
            "description_width": ""
          }
        },
        "1852bf8764c042b782b6ae3acf283437": {
          "model_module": "@jupyter-widgets/base",
          "model_name": "LayoutModel",
          "model_module_version": "1.2.0",
          "state": {
            "_model_module": "@jupyter-widgets/base",
            "_model_module_version": "1.2.0",
            "_model_name": "LayoutModel",
            "_view_count": null,
            "_view_module": "@jupyter-widgets/base",
            "_view_module_version": "1.2.0",
            "_view_name": "LayoutView",
            "align_content": null,
            "align_items": null,
            "align_self": null,
            "border": null,
            "bottom": null,
            "display": null,
            "flex": null,
            "flex_flow": null,
            "grid_area": null,
            "grid_auto_columns": null,
            "grid_auto_flow": null,
            "grid_auto_rows": null,
            "grid_column": null,
            "grid_gap": null,
            "grid_row": null,
            "grid_template_areas": null,
            "grid_template_columns": null,
            "grid_template_rows": null,
            "height": null,
            "justify_content": null,
            "justify_items": null,
            "left": null,
            "margin": null,
            "max_height": null,
            "max_width": null,
            "min_height": null,
            "min_width": null,
            "object_fit": null,
            "object_position": null,
            "order": null,
            "overflow": null,
            "overflow_x": null,
            "overflow_y": null,
            "padding": null,
            "right": null,
            "top": null,
            "visibility": null,
            "width": null
          }
        },
        "a20d2ddccef1440c8d08a01c5e69f1b8": {
          "model_module": "@jupyter-widgets/controls",
          "model_name": "ProgressStyleModel",
          "model_module_version": "1.5.0",
          "state": {
            "_model_module": "@jupyter-widgets/controls",
            "_model_module_version": "1.5.0",
            "_model_name": "ProgressStyleModel",
            "_view_count": null,
            "_view_module": "@jupyter-widgets/base",
            "_view_module_version": "1.2.0",
            "_view_name": "StyleView",
            "bar_color": null,
            "description_width": ""
          }
        },
        "e755f301f14143a0aca8ce13f5f8d159": {
          "model_module": "@jupyter-widgets/base",
          "model_name": "LayoutModel",
          "model_module_version": "1.2.0",
          "state": {
            "_model_module": "@jupyter-widgets/base",
            "_model_module_version": "1.2.0",
            "_model_name": "LayoutModel",
            "_view_count": null,
            "_view_module": "@jupyter-widgets/base",
            "_view_module_version": "1.2.0",
            "_view_name": "LayoutView",
            "align_content": null,
            "align_items": null,
            "align_self": null,
            "border": null,
            "bottom": null,
            "display": null,
            "flex": null,
            "flex_flow": null,
            "grid_area": null,
            "grid_auto_columns": null,
            "grid_auto_flow": null,
            "grid_auto_rows": null,
            "grid_column": null,
            "grid_gap": null,
            "grid_row": null,
            "grid_template_areas": null,
            "grid_template_columns": null,
            "grid_template_rows": null,
            "height": null,
            "justify_content": null,
            "justify_items": null,
            "left": null,
            "margin": null,
            "max_height": null,
            "max_width": null,
            "min_height": null,
            "min_width": null,
            "object_fit": null,
            "object_position": null,
            "order": null,
            "overflow": null,
            "overflow_x": null,
            "overflow_y": null,
            "padding": null,
            "right": null,
            "top": null,
            "visibility": null,
            "width": null
          }
        },
        "c4f0fe05d340415fb7d8049697d46e97": {
          "model_module": "@jupyter-widgets/controls",
          "model_name": "DescriptionStyleModel",
          "model_module_version": "1.5.0",
          "state": {
            "_model_module": "@jupyter-widgets/controls",
            "_model_module_version": "1.5.0",
            "_model_name": "DescriptionStyleModel",
            "_view_count": null,
            "_view_module": "@jupyter-widgets/base",
            "_view_module_version": "1.2.0",
            "_view_name": "StyleView",
            "description_width": ""
          }
        }
      }
    },
    "accelerator": "GPU"
  },
  "cells": [
    {
      "cell_type": "markdown",
      "metadata": {
        "id": "b13177b7"
      },
      "source": [
        "<a href=\"https://colab.research.google.com/github/wlg100/numseqcont_circuit_expms/blob/main/notebook_templates/headFNs_expms_template.ipynb\"><img src=\"https://colab.research.google.com/assets/colab-badge.svg\" align=\"left\"/></a>&nbsp;or in a local notebook."
      ]
    },
    {
      "cell_type": "markdown",
      "metadata": {
        "id": "epqaV4bo4uuI"
      },
      "source": [
        "# Setup"
      ]
    },
    {
      "cell_type": "code",
      "source": [
        "# %pip install git+https://github.com/neelnanda-io/TransformerLens.git"
      ],
      "metadata": {
        "id": "4t-OqbMCRnU7"
      },
      "execution_count": 1,
      "outputs": []
    },
    {
      "cell_type": "code",
      "source": [
        "# import torch\n",
        "# import transformer_lens\n",
        "# import transformer_lens.utils as utils\n",
        "# from transformer_lens.hook_points import (\n",
        "#     HookedRootModule,\n",
        "#     HookPoint,\n",
        "# )  # Hooking utilities\n",
        "# from transformer_lens import HookedTransformer, HookedTransformerConfig, FactoredMatrix, ActivationCache\n",
        "# torch.set_grad_enabled(False)"
      ],
      "metadata": {
        "id": "gN3X0S4TR7HC"
      },
      "execution_count": 2,
      "outputs": []
    },
    {
      "cell_type": "code",
      "source": [
        "# model_name = \"gpt2-small\"\n",
        "# model = HookedTransformer.from_pretrained(\n",
        "#     model_name,\n",
        "#     center_unembed=True,\n",
        "#     center_writing_weights=True,\n",
        "#     fold_ln=True,\n",
        "#     refactor_factored_attn_matrices=True,\n",
        "# )"
      ],
      "metadata": {
        "id": "7Px31EQcSh8c"
      },
      "execution_count": 3,
      "outputs": []
    },
    {
      "cell_type": "code",
      "execution_count": 4,
      "metadata": {
        "id": "3ANUnkaP41tk"
      },
      "outputs": [],
      "source": [
        "%%capture\n",
        "%pip install git+https://github.com/redwoodresearch/Easy-Transformer.git\n",
        "%pip install einops datasets transformers fancy_einsum"
      ]
    },
    {
      "cell_type": "code",
      "execution_count": 6,
      "metadata": {
        "id": "rmhOgC9o4uuI"
      },
      "outputs": [],
      "source": [
        "# assert torch.cuda.device_count() == 1\n",
        "# from tqdm import tqdm\n",
        "# import pandas as pd\n",
        "import torch\n",
        "import torch as t\n",
        "from easy_transformer.EasyTransformer import (\n",
        "    EasyTransformer,\n",
        ")\n",
        "# from time import ctime\n",
        "# from functools import partial\n",
        "\n",
        "import numpy as np\n",
        "import einops\n",
        "from copy import deepcopy"
      ]
    },
    {
      "cell_type": "code",
      "execution_count": 7,
      "metadata": {
        "colab": {
          "base_uri": "https://localhost:8080/",
          "referenced_widgets": [
            "990468c8c3eb429d9b040d52b1af8338",
            "6919580149de46128616253983b0873b",
            "b803ca455a014f0ba4ff0dc823ca6188",
            "6babd989d8754572ae25f40d614d37ad",
            "7e5af470d89144318a85903ae1daa164",
            "49465b56058c4d0abf214911069e79ee",
            "928d500048284cd6bae87ecdefac8f33",
            "be386f925da44f0b8d6570d94aff27d2",
            "5f6be8c9dea444f58df4b34ec0563848",
            "19d0517bd32844d99080e79b15aeee12",
            "f46b17d5ba654e00aedd4cd7fe6577a7",
            "d7c68ac112894f82b5e694e443c9da2a",
            "71d85be7941a4b328386b93d4264c598",
            "a79fd6eb4f564f02bc4c0c83c9c357a2",
            "a545c1f3666e496e80a37acbf8ac6c39",
            "297ad8958d3d4f6ab308c89bdbbb5eed",
            "3cbd6d9bc9784ddf9d3e81b8baf10084",
            "dfc80c1b69494ea0a8ae9f971b1fb85c",
            "794cd953414643e1b5eec13ad257f259",
            "176e0d129e6a415b96ba4a31b89f42c1",
            "03043301ce7f4ce5b2e6580890a1df27",
            "a91af149a54646a2ab3332a1f675e7e0",
            "50c5a44da50f484d839edebfb2f4fdfa",
            "bab3f28525f541e38c01ad78b33d0a74",
            "b2003c490d7946c08d1ae819fe5a32fd",
            "ca4e9a6422da449d86617da828600f37",
            "29e3fdaf65bf4d088b4c2b3cce7922f5",
            "d6cd41c405eb459b90b867aed2d6ac5e",
            "28d5e7a33dfb4cf5a0d21ab340034b30",
            "29e1c78fa3b042aba9f468d89c349df2",
            "f22488df422a409096db1ee7a2d434e8",
            "d3bd1fb000fc4e07921e72591a975d96",
            "efe9036055954eab8dd8d0fedf624fb4",
            "604bc6c7b68d41c184dd45f42e3d0568",
            "49b06038340b40dbaba03b29598b33a1",
            "cc58f2011fcc48fd8f96538893e053f8",
            "3e05ca1576444c10b37cf4fa58b203d5",
            "1787392b64184783bcde822fac7be315",
            "85e34ea54ec246c0927a01d846ffc917",
            "df6aab9481a94951aaa625b4a8e3a68a",
            "39a9c54f49344ae19033fa4157959a49",
            "ff44363735b547f29e4634e7f33fa60d",
            "06d7ac7746f94f68918a417d98ce292b",
            "d561de77433847dd8913dc33a6a6cde0",
            "78899a36e0f14414bd20bf2de71a91a9",
            "64f79834ceb84f75bd59df775956949e",
            "558e88a787cc46e58b20e9e7c35da0b7",
            "2a6b5b969e664f73a9c568db62494418",
            "3913ad0fad7a4ac884f7bca5b27f84c5",
            "6478fa44c557470195989c0761498f14",
            "33254406ea57486ebb10a066fb1f80a3",
            "4e83d8d4611645c883b39691b2e673f1",
            "fb4e6e08744246a59185c4a5258a4a90",
            "a107d22c4c2544d3b76d4f7fc8472609",
            "9eed3fc2658c48f088082b02ad6ee306",
            "5616946191aa4643aa221716e05dcdcd",
            "f243ee88eeb0436ea73ca300ea85ed90",
            "1c129d8fa2714642a0398aab950c55f3",
            "6e113c782e0a41d1a2b36521adfe0c4c",
            "1a5aa6ddb1114836af241c3274df693a",
            "3a939db751964c6997f3faec0ad38acd",
            "2e3244e3406b4504a497fcde3989ea18",
            "1852bf8764c042b782b6ae3acf283437",
            "a20d2ddccef1440c8d08a01c5e69f1b8",
            "e755f301f14143a0aca8ce13f5f8d159",
            "c4f0fe05d340415fb7d8049697d46e97"
          ],
          "height": 520
        },
        "id": "J_cd_q8q4uuK",
        "outputId": "51ddfb0f-b0d3-43a8-d0af-c6c34ccaec74"
      },
      "outputs": [
        {
          "output_type": "stream",
          "name": "stderr",
          "text": [
            "/usr/local/lib/python3.10/dist-packages/huggingface_hub/utils/_token.py:88: UserWarning: \n",
            "The secret `HF_TOKEN` does not exist in your Colab secrets.\n",
            "To authenticate with the Hugging Face Hub, create a token in your settings tab (https://huggingface.co/settings/tokens), set it as secret in your Google Colab and restart your session.\n",
            "You will be able to reuse this secret in all of your notebooks.\n",
            "Please note that authentication is recommended but still optional to access public models or datasets.\n",
            "  warnings.warn(\n"
          ]
        },
        {
          "output_type": "display_data",
          "data": {
            "text/plain": [
              "config.json:   0%|          | 0.00/665 [00:00<?, ?B/s]"
            ],
            "application/vnd.jupyter.widget-view+json": {
              "version_major": 2,
              "version_minor": 0,
              "model_id": "990468c8c3eb429d9b040d52b1af8338"
            }
          },
          "metadata": {}
        },
        {
          "output_type": "display_data",
          "data": {
            "text/plain": [
              "model.safetensors:   0%|          | 0.00/548M [00:00<?, ?B/s]"
            ],
            "application/vnd.jupyter.widget-view+json": {
              "version_major": 2,
              "version_minor": 0,
              "model_id": "d7c68ac112894f82b5e694e443c9da2a"
            }
          },
          "metadata": {}
        },
        {
          "output_type": "display_data",
          "data": {
            "text/plain": [
              "generation_config.json:   0%|          | 0.00/124 [00:00<?, ?B/s]"
            ],
            "application/vnd.jupyter.widget-view+json": {
              "version_major": 2,
              "version_minor": 0,
              "model_id": "50c5a44da50f484d839edebfb2f4fdfa"
            }
          },
          "metadata": {}
        },
        {
          "output_type": "display_data",
          "data": {
            "text/plain": [
              "vocab.json:   0%|          | 0.00/1.04M [00:00<?, ?B/s]"
            ],
            "application/vnd.jupyter.widget-view+json": {
              "version_major": 2,
              "version_minor": 0,
              "model_id": "604bc6c7b68d41c184dd45f42e3d0568"
            }
          },
          "metadata": {}
        },
        {
          "output_type": "display_data",
          "data": {
            "text/plain": [
              "merges.txt:   0%|          | 0.00/456k [00:00<?, ?B/s]"
            ],
            "application/vnd.jupyter.widget-view+json": {
              "version_major": 2,
              "version_minor": 0,
              "model_id": "78899a36e0f14414bd20bf2de71a91a9"
            }
          },
          "metadata": {}
        },
        {
          "output_type": "display_data",
          "data": {
            "text/plain": [
              "tokenizer.json:   0%|          | 0.00/1.36M [00:00<?, ?B/s]"
            ],
            "application/vnd.jupyter.widget-view+json": {
              "version_major": 2,
              "version_minor": 0,
              "model_id": "5616946191aa4643aa221716e05dcdcd"
            }
          },
          "metadata": {}
        },
        {
          "output_type": "stream",
          "name": "stderr",
          "text": [
            "/usr/local/lib/python3.10/dist-packages/easy_transformer/components.py:616: UserWarning: Moved LN1 to the attention block\n",
            "  warnings.warn(\"Moved LN1 to the attention block\")\n"
          ]
        },
        {
          "output_type": "stream",
          "name": "stdout",
          "text": [
            "Moving model to device:  cuda\n",
            "Finished loading pretrained model gpt2 into EasyTransformer!\n"
          ]
        }
      ],
      "source": [
        "model = EasyTransformer.from_pretrained(\"gpt2\").cuda()\n",
        "# model = EasyTransformer.from_pretrained(\"gpt2\")\n",
        "model.set_use_attn_result(True)"
      ]
    },
    {
      "cell_type": "markdown",
      "metadata": {
        "id": "PEuBxWWbUkGS"
      },
      "source": [
        "# Dataset and Score Functions"
      ]
    },
    {
      "cell_type": "code",
      "source": [
        "class Dataset:\n",
        "    def __init__(self, prompts, tokenizer, S1_is_first=False):\n",
        "        self.prompts = prompts\n",
        "        self.tokenizer = tokenizer\n",
        "        self.N = len(prompts)\n",
        "\n",
        "        texts = [ prompt[\"text\"] for prompt in self.prompts ]\n",
        "        self.toks = torch.Tensor(self.tokenizer(texts, padding=True).input_ids).type(\n",
        "            torch.int\n",
        "        )\n",
        "\n",
        "        # word_idx: for every prompt, find the token index of each target token and \"end\"\n",
        "        # word_idx is a tensor with an element for each prompt. The element is the targ token's ind at that prompt\n",
        "        self.word_idx = {}\n",
        "        for targ in [key for key in self.prompts[0].keys() if key != 'text']:\n",
        "            targ_lst = []\n",
        "            for prompt in self.prompts:\n",
        "                input_text = prompt[\"text\"]\n",
        "                tokens = model.tokenizer.tokenize(input_text)\n",
        "                if S1_is_first and targ == \"S1\":  # only use this if first token doesn't have space Ġ in front\n",
        "                    target_token = prompt[targ]\n",
        "                else:\n",
        "                    target_token = \"Ġ\" + prompt[targ]\n",
        "                target_index = tokens.index(target_token)\n",
        "                targ_lst.append(target_index)\n",
        "            self.word_idx[targ] = torch.tensor(targ_lst)\n",
        "\n",
        "        targ_lst = []\n",
        "        for prompt in self.prompts:\n",
        "            input_text = prompt[\"text\"]\n",
        "            tokens = self.tokenizer.tokenize(input_text)\n",
        "            end_token_index = len(tokens) - 1\n",
        "            targ_lst.append(end_token_index)\n",
        "        self.word_idx[\"end\"] = torch.tensor(targ_lst)\n",
        "\n",
        "    def __len__(self):\n",
        "        return self.N"
      ],
      "metadata": {
        "id": "4wXBNWj5FwVn"
      },
      "execution_count": 20,
      "outputs": []
    },
    {
      "cell_type": "code",
      "source": [
        "def get_next_scores(model, layer, head, dataset, task=\"numerals\", neg=False, print_all_results=True):\n",
        "    cache = {}\n",
        "    model.cache_some(cache, lambda x: x == \"blocks.0.hook_resid_post\")\n",
        "    model(dataset.toks.long())\n",
        "    if neg:\n",
        "        sign = -1\n",
        "    else:\n",
        "        sign = 1\n",
        "    z_0 = model.blocks[1].attn.ln1(cache[\"blocks.0.hook_resid_post\"])\n",
        "    # z_0 = model.blocks[1].attn.hook_z(cache[\"blocks.0.hook_resid_post\"])\n",
        "\n",
        "    v = torch.einsum(\"eab,bc->eac\", z_0, model.blocks[layer].attn.W_V[head])\n",
        "    v += model.blocks[layer].attn.b_V[head].unsqueeze(0).unsqueeze(0)\n",
        "\n",
        "    o = sign * torch.einsum(\"sph,hd->spd\", v, model.blocks[layer].attn.W_O[head])\n",
        "    logits = model.unembed(model.ln_final(o))\n",
        "\n",
        "    k = 5\n",
        "    n_right = 0\n",
        "\n",
        "    pred_tokens_dict = {}\n",
        "    words_moved = []\n",
        "    # get the keys from the first prompt in the dataset\n",
        "    words = [key for key in dataset.prompts[0].keys() if key != 'text']\n",
        "\n",
        "    numwords = ['one', 'two', 'three', 'four', 'five', 'six', 'seven', 'eight', 'nine', 'ten', 'eleven', 'twelve']\n",
        "    months = ['January', 'February', 'March', 'April', 'May', 'June', 'July', 'August', 'September', 'October', 'November', 'December']\n",
        "    ranks = ['first', 'second', 'third', 'fourth', 'fifth', 'sixth', 'seventh', 'eighth', 'ninth', 'tenth', 'eleventh', 'twelfth']\n",
        "\n",
        "    for seq_idx, prompt in enumerate(dataset.prompts):\n",
        "        for word in words:\n",
        "            pred_tokens = [\n",
        "                model.tokenizer.decode(token)\n",
        "                for token in torch.topk(\n",
        "                    logits[seq_idx, dataset.word_idx[word][seq_idx]], k\n",
        "                ).indices\n",
        "            ]\n",
        "\n",
        "            # get next member after seq member prompt[word]\n",
        "            if task == \"numerals\":\n",
        "                next_word = str(int(prompt[word]) + 1)\n",
        "            elif task == \"numwords\":\n",
        "                next_word = str(numwords[numwords.index(prompt[word]) + 1])\n",
        "            elif task == \"months\":\n",
        "                next_word = str(ranks[months.index(prompt[word]) + 1])\n",
        "\n",
        "            nextToken_in_topK = 'no'\n",
        "            if \" \" + next_word in pred_tokens or next_word in pred_tokens:\n",
        "                n_right += 1\n",
        "                words_moved.append(prompt[word])\n",
        "                nextToken_in_topK = 'yes'\n",
        "            pred_tokens_dict[prompt[word]] = (pred_tokens, next_word, nextToken_in_topK)\n",
        "\n",
        "    percent_right = (n_right / (dataset.N * len(words))) * 100\n",
        "    if percent_right > 0:\n",
        "        print(f\"Next circuit for head {layer}.{head}: Top {k} accuracy: {percent_right}%\")\n",
        "\n",
        "    if print_all_results == True:\n",
        "        print(pred_tokens_dict)\n",
        "\n",
        "    return percent_right"
      ],
      "metadata": {
        "id": "z-6vNWETUkGZ"
      },
      "execution_count": 22,
      "outputs": []
    },
    {
      "cell_type": "code",
      "source": [
        "def get_copy_scores(model, layer, head, dataset, neg=False, print_all_results=True):\n",
        "    cache = {}\n",
        "    model.cache_some(cache, lambda x: x == \"blocks.0.hook_resid_post\")\n",
        "    model(dataset.toks.long())\n",
        "    if neg:\n",
        "        sign = -1\n",
        "    else:\n",
        "        sign = 1\n",
        "    z_0 = model.blocks[1].attn.ln1(cache[\"blocks.0.hook_resid_post\"])\n",
        "    # z_0 = model.blocks[1].attn.hook_z(cache[\"blocks.0.hook_resid_post\"])\n",
        "\n",
        "    v = torch.einsum(\"eab,bc->eac\", z_0, model.blocks[layer].attn.W_V[head])\n",
        "    v += model.blocks[layer].attn.b_V[head].unsqueeze(0).unsqueeze(0)\n",
        "\n",
        "    o = sign * torch.einsum(\"sph,hd->spd\", v, model.blocks[layer].attn.W_O[head])\n",
        "    logits = model.unembed(model.ln_final(o))\n",
        "\n",
        "    k = 5\n",
        "    n_right = 0\n",
        "\n",
        "    pred_tokens_dict = {}\n",
        "    words_moved = []\n",
        "    # get the keys from the first prompt in the dataset\n",
        "    words = [key for key in dataset.prompts[0].keys() if key != 'text']\n",
        "\n",
        "    for seq_idx, prompt in enumerate(dataset.prompts):\n",
        "        for word in words:\n",
        "            pred_tokens = [\n",
        "                model.tokenizer.decode(token)\n",
        "                for token in torch.topk(\n",
        "                    logits[seq_idx, dataset.word_idx[word][seq_idx]], k\n",
        "                ).indices\n",
        "            ]\n",
        "\n",
        "            token_in_topK = 'no'\n",
        "            if \" \" + prompt[word] in pred_tokens or prompt[word] in pred_tokens:\n",
        "                n_right += 1\n",
        "                words_moved.append(prompt[word])\n",
        "                token_in_topK = 'yes'\n",
        "            pred_tokens_dict[prompt[word]] = (pred_tokens, token_in_topK)\n",
        "\n",
        "    percent_right = (n_right / (dataset.N * len(words))) * 100\n",
        "    if percent_right > 0:\n",
        "        print(f\"Copy circuit for head {layer}.{head}: Top {k} accuracy: {percent_right}%\")\n",
        "\n",
        "    if print_all_results == True:\n",
        "        print(pred_tokens_dict)\n",
        "\n",
        "    return percent_right"
      ],
      "metadata": {
        "id": "qs1yXNo8toUk"
      },
      "execution_count": 23,
      "outputs": []
    },
    {
      "cell_type": "markdown",
      "source": [
        "# Numerals"
      ],
      "metadata": {
        "id": "tcYrSUs34LVu"
      }
    },
    {
      "cell_type": "code",
      "source": [
        "def generate_prompts_list():\n",
        "    prompts_list = []\n",
        "    for i in range(1, 98):\n",
        "        prompt_dict = {\n",
        "            'S1': str(i),\n",
        "            'S2': str(i+1),\n",
        "            'S3': str(i+2),\n",
        "            'S4': str(i+3),\n",
        "            'text': f\"{i} {i+1} {i+2} {i+3}\"\n",
        "        }\n",
        "        prompts_list.append(prompt_dict)\n",
        "    return prompts_list\n",
        "\n",
        "prompts_list = generate_prompts_list()"
      ],
      "metadata": {
        "id": "tub8nC_9Mp6a"
      },
      "execution_count": 24,
      "outputs": []
    },
    {
      "cell_type": "code",
      "source": [
        "dataset = Dataset(prompts_list, model.tokenizer, S1_is_first=True)"
      ],
      "metadata": {
        "id": "b8HJww_CPuzj"
      },
      "execution_count": 25,
      "outputs": []
    },
    {
      "cell_type": "code",
      "source": [
        "get_next_scores(model, 9, 1, dataset, task=\"numerals\")"
      ],
      "metadata": {
        "colab": {
          "base_uri": "https://localhost:8080/"
        },
        "id": "Z6ixOTJ1SsEM",
        "outputId": "0172abda-2b83-4473-f96e-2a3ddfbdbd1d"
      },
      "execution_count": 26,
      "outputs": [
        {
          "output_type": "stream",
          "name": "stdout",
          "text": [
            "Next circuit for head 9.1: Top 5 accuracy: 87.37113402061856%\n",
            "{'1': ([' one', ' needed', ' preferred', ' single', '2'], '2', 'yes'), '2': ([' third', ' fourth', 'third', '3', ' fifth'], '3', 'yes'), '3': ([' fourth', ' third', ' fifth', 'Fourth', 'fourth'], '4', 'no'), '4': ([' fifth', ' sixth', ' seventh', 'fifth', 'five'], '5', 'no'), '5': ([' sixth', ' seventh', ' fifth', '6', ' eighth'], '6', 'yes'), '6': ([' seventh', ' Seventh', ' sixth', '7', ' eighth'], '7', 'yes'), '7': ([' seventh', ' eighth', ' ninth', ' VIII', ' Seventh'], '8', 'no'), '8': ([' ninth', ' eighth', 'ighth', ' seventh', '9'], '9', 'yes'), '9': ([' ninth', ' seventh', ' tenth', ' eighth', ' sixth'], '10', 'no'), '10': ([' tenth', ' seventh', ' eighth', ' ninth', ' sixth'], '11', 'no'), '11': ([' eighth', ' seventh', ' specific', ' 12', '12'], '12', 'yes'), '12': ([' seventh', ' eighth', '13', ' specific', '14'], '13', 'yes'), '13': ([' seventh', '14', ' 14', ' eighth', 'Only'], '14', 'yes'), '14': ([' eighth', ' seventh', ' fifth', ' maximum', ' ninth'], '15', 'no'), '15': ([' seventh', ' eighth', ' sixth', ' fifth', ' final'], '16', 'no'), '16': ([' final', ' seventh', 'ighth', 'each', ' ninth'], '17', 'no'), '17': ([' seventh', ' fifth', ' eighth', ' sixth', 'ighth'], '18', 'no'), '18': (['ighth', ' 19', ' twentieth', 'Only', ' nineteen'], '19', 'yes'), '19': ([' seventh', ' sixth', ' eighth', ' third', ' fifth'], '20', 'no'), '20': (['maximum', ' third', ' maximum', ' final', ' seventh'], '21', 'no'), '21': ([' seventh', ' eighth', 'each', ' maximum', ' third'], '22', 'no'), '22': ([' third', ' seventh', 'single', ' sufficient', ' eighth'], '23', 'no'), '23': ([' third', ' fourth', ' fifth', ' seventh', 'Fourth'], '24', 'no'), '24': ([' fifth', ' seventh', ' third', ' fourth', ' sixth'], '25', 'no'), '25': ([' seventh', ' third', ' sixth', ' fifth', ' fourth'], '26', 'no'), '26': ([' seventh', ' third', 'third', ' sixth', ' fifth'], '27', 'no'), '27': ([' seventh', ' third', ' eighth', 'third', ' fourth'], '28', 'no'), '28': ([' 29', ' third', 'ighth', ' 30', '29'], '29', 'yes'), '29': (['310', ' third', ' seventh', ' 30', 'never'], '30', 'yes'), '30': ([' third', '310', ' maximum', '31', ' 31'], '31', 'yes'), '31': ([' third', ' seventh', ' 32', ' single', 'third'], '32', 'yes'), '32': ([' third', ' fourth', ' seventh', 'third', 'Fourth'], '33', 'no'), '33': ([' third', ' fourth', ' seventh', ' fifth', 'third'], '34', 'no'), '34': ([' fifth', ' seventh', ' third', ' sixth', 'fifth'], '35', 'no'), '35': ([' seventh', ' sixth', ' fifth', ' third', ' fourth'], '36', 'no'), '36': ([' seventh', 'ighth', 'each', ' 57', ' 58'], '37', 'no'), '37': ([' seventh', ' 78', ' eighth', ' 58', ' 59'], '38', 'no'), '38': ([' 79', ' 60', ' 80', ' ninety', ' sixty'], '39', 'no'), '39': ([' 80', ' seventh', ' 60', ' 61', ' 81'], '40', 'no'), '40': ([' 81', ' eighty', ' 80', ' ninety', ' 90'], '41', 'no'), '41': ([' 81', 'each', ' 83', ' ninety', ' 82'], '42', 'no'), '42': ([' seventh', ' fifth', ' final', ' ninety', ' 83'], '43', 'no'), '43': ([' fifth', ' seventh', ' fourth', ' sixth', 'five'], '44', 'no'), '44': ([' fifth', ' seventh', 'single', 'ubis', ' 95'], '45', 'no'), '45': ([' seventh', ' fifth', ' 95', ' 60', ' sixth'], '46', 'no'), '46': ([' particular', ' seventh', ' 52', 'ighth', ' specific'], '47', 'no'), '47': ([' 80', ' particular', ' 81', ' 90', ' 78'], '48', 'no'), '48': (['ighth', ' particular', ' fifth', 'single', ' final'], '49', 'no'), '49': ([' seventh', ' fifth', ' sixth', ' eighth', ' ninth'], '50', 'no'), '50': ([' ninety', ' eighty', ' sixty', ' 81', ' 75'], '51', 'no'), '51': ([' seventh', ' specific', ' particular', ' 55', ' 52'], '52', 'yes'), '52': ([' seventh', ' sixth', ' fifth', ' 55', ' whichever'], '53', 'no'), '53': ([' seventh', ' sixth', ' fifth', ' fourth', ' third'], '54', 'no'), '54': ([' seventh', ' sixth', ' fifth', ' 55', '59'], '55', 'yes'), '55': ([' seventh', ' sixth', ' fifth', ' eighth', ' third'], '56', 'no'), '56': ([' seventh', ' 57', ' 58', ' sixth', ' fifth'], '57', 'yes'), '57': ([' seventh', ' sixth', ' 58', '59', ' fifth'], '58', 'yes'), '58': ([' 59', ' sixty', '59', ' 60', ' 61'], '59', 'yes'), '59': ([' 61', ' 60', '59', ' seventh', ' 59'], '60', 'yes'), '60': ([' 81', ' 61', ' 80', '81', ' 76'], '61', 'yes'), '61': ([' 62', ' 61', '62', ' 81', ' seventh'], '62', 'yes'), '62': ([' 78', ' seventh', ' 79', ' 77', ' 63'], '63', 'yes'), '63': ([' seventh', ' 79', ' 78', ' 64', ' 65'], '64', 'yes'), '64': ([' seventh', ' sixth', ' must', ' fifth', ' 65'], '65', 'yes'), '65': ([' seventh', ' sixth', ' fifth', ' 75', ' 76'], '66', 'no'), '66': ([' seventh', ' 77', ' 78', ' 67', ' 68'], '67', 'yes'), '67': ([' seventh', ' 78', ' 79', ' 77', ' eighth'], '68', 'no'), '68': ([' 79', ' 78', ' 70', ' 80', ' seventh'], '69', 'no'), '69': ([' 80', ' 79', ' 81', ' 78', ' 76'], '70', 'no'), '70': ([' 81', ' 80', ' 76', ' 75', ' 78'], '71', 'no'), '71': ([' 81', ' 78', ' 76', ' 82', ' 77'], '72', 'no'), '72': ([' 76', ' 81', ' 77', ' 78', ' 79'], '73', 'no'), '73': ([' seventh', ' occasional', ' 78', ' 75', ' 76'], '74', 'no'), '74': ([' seventh', ' eighth', ' 76', 'ighth', ' 78'], '75', 'no'), '75': ([' seventh', ' sixth', ' eighth', ' 76', ' 78'], '76', 'yes'), '76': ([' 78', ' 77', ' seventh', ' 79', ' 81'], '77', 'yes'), '77': ([' 78', ' 79', ' 80', ' 81', '78'], '78', 'yes'), '78': ([' 79', ' 80', ' 81', ' ninety', 'ighth'], '79', 'yes'), '79': ([' 81', ' 80', ' 79', ' 90', ' eighty'], '80', 'yes'), '80': ([' 81', ' 80', ' ninety', ' 90', ' eighty'], '81', 'yes'), '81': ([' 81', ' 82', ' 83', ' occasional', ' 84'], '82', 'yes'), '82': ([' 83', ' 84', ' 85', ' ninety', ' 81'], '83', 'yes'), '83': ([' 84', ' 85', ' 83', ' occasional', ' ninety'], '84', 'yes'), '84': ([' 85', ' occasional', ' 86', '85', ' ninety'], '85', 'yes'), '85': ([' ninety', ' 86', ' occasional', ' 85', ' 90'], '86', 'yes'), '86': ([' 87', ' 88', ' 86', ' 91', ' 90'], '87', 'yes'), '87': ([' 88', ' 90', ' ninety', ' occasional', ' 91'], '88', 'yes'), '88': ([' 90', ' ninety', ' 91', ' 89', ' 98'], '89', 'yes'), '89': ([' ninety', ' 91', ' 95', ' 90', ' 94'], '90', 'yes'), '90': ([' 91', ' ninety', ' 90', ' 95', '91'], '91', 'yes'), '91': ([' 92', ' 93', ' 95', ' 94', ' 91'], '92', 'yes'), '92': ([' 95', ' 94', ' 93', ' 96', '95'], '93', 'yes'), '93': ([' 95', ' 94', ' occasional', '95', ' 96'], '94', 'yes'), '94': ([' 95', ' 96', ' occasional', '95', ' particular'], '95', 'yes'), '95': ([' 96', ' seventh', ' occasional', ' 95', ' sixth'], '96', 'yes'), '96': ([' seventh', ' 97', ' 98', ' 96', ' occasional'], '97', 'yes'), '97': ([' 98', ' 99', ' seventh', ' 97', ' occasional'], '98', 'yes'), '98': ([' 99', ' 100', ' 102', ' 103', ' 105'], '99', 'yes'), '99': ([' 99', ' 100', ' 102', ' 101', ' 105'], '100', 'yes'), '100': ([' 100', ' 101', '100', '101', ' 200'], '101', 'yes')}\n"
          ]
        },
        {
          "output_type": "execute_result",
          "data": {
            "text/plain": [
              "87.37113402061856"
            ]
          },
          "metadata": {},
          "execution_count": 26
        }
      ]
    },
    {
      "cell_type": "code",
      "source": [
        "get_copy_scores(model, 9, 1, dataset)"
      ],
      "metadata": {
        "colab": {
          "base_uri": "https://localhost:8080/"
        },
        "id": "4rTl9Yd0Bcro",
        "outputId": "e3914996-977d-48b6-88ac-2363385d1839"
      },
      "execution_count": 28,
      "outputs": [
        {
          "output_type": "stream",
          "name": "stdout",
          "text": [
            "Copy circuit for head 9.1: Top 5 accuracy: 59.27835051546392%\n",
            "{'1': ([' one', ' needed', ' preferred', ' single', '2'], 'no'), '2': ([' third', ' fourth', 'third', '3', ' fifth'], 'no'), '3': ([' fourth', ' third', ' fifth', 'Fourth', 'fourth'], 'no'), '4': ([' fifth', ' sixth', ' seventh', 'fifth', 'five'], 'no'), '5': ([' sixth', ' seventh', ' fifth', '6', ' eighth'], 'no'), '6': ([' seventh', ' Seventh', ' sixth', '7', ' eighth'], 'no'), '7': ([' seventh', ' eighth', ' ninth', ' VIII', ' Seventh'], 'no'), '8': ([' ninth', ' eighth', 'ighth', ' seventh', '9'], 'no'), '9': ([' ninth', ' seventh', ' tenth', ' eighth', ' sixth'], 'no'), '10': ([' tenth', ' seventh', ' eighth', ' ninth', ' sixth'], 'no'), '11': ([' eighth', ' seventh', ' specific', ' 12', '12'], 'no'), '12': ([' seventh', ' eighth', '13', ' specific', '14'], 'no'), '13': ([' seventh', '14', ' 14', ' eighth', 'Only'], 'no'), '14': ([' eighth', ' seventh', ' fifth', ' maximum', ' ninth'], 'no'), '15': ([' seventh', ' eighth', ' sixth', ' fifth', ' final'], 'no'), '16': ([' final', ' seventh', 'ighth', 'each', ' ninth'], 'no'), '17': ([' seventh', ' fifth', ' eighth', ' sixth', 'ighth'], 'no'), '18': (['ighth', ' 19', ' twentieth', 'Only', ' nineteen'], 'no'), '19': ([' seventh', ' sixth', ' eighth', ' third', ' fifth'], 'no'), '20': (['maximum', ' third', ' maximum', ' final', ' seventh'], 'no'), '21': ([' seventh', ' eighth', 'each', ' maximum', ' third'], 'no'), '22': ([' third', ' seventh', 'single', ' sufficient', ' eighth'], 'no'), '23': ([' third', ' fourth', ' fifth', ' seventh', 'Fourth'], 'no'), '24': ([' fifth', ' seventh', ' third', ' fourth', ' sixth'], 'no'), '25': ([' seventh', ' third', ' sixth', ' fifth', ' fourth'], 'no'), '26': ([' seventh', ' third', 'third', ' sixth', ' fifth'], 'no'), '27': ([' seventh', ' third', ' eighth', 'third', ' fourth'], 'no'), '28': ([' 29', ' third', 'ighth', ' 30', '29'], 'no'), '29': (['310', ' third', ' seventh', ' 30', 'never'], 'no'), '30': ([' third', '310', ' maximum', '31', ' 31'], 'no'), '31': ([' third', ' seventh', ' 32', ' single', 'third'], 'no'), '32': ([' third', ' fourth', ' seventh', 'third', 'Fourth'], 'no'), '33': ([' third', ' fourth', ' seventh', ' fifth', 'third'], 'no'), '34': ([' fifth', ' seventh', ' third', ' sixth', 'fifth'], 'no'), '35': ([' seventh', ' sixth', ' fifth', ' third', ' fourth'], 'no'), '36': ([' seventh', 'ighth', 'each', ' 57', ' 58'], 'no'), '37': ([' seventh', ' 78', ' eighth', ' 58', ' 59'], 'no'), '38': ([' 79', ' 60', ' 80', ' ninety', ' sixty'], 'no'), '39': ([' 80', ' seventh', ' 60', ' 61', ' 81'], 'no'), '40': ([' 81', ' eighty', ' 80', ' ninety', ' 90'], 'no'), '41': ([' 81', 'each', ' 83', ' ninety', ' 82'], 'no'), '42': ([' seventh', ' fifth', ' final', ' ninety', ' 83'], 'no'), '43': ([' fifth', ' seventh', ' fourth', ' sixth', 'five'], 'no'), '44': ([' fifth', ' seventh', 'single', 'ubis', ' 95'], 'no'), '45': ([' seventh', ' fifth', ' 95', ' 60', ' sixth'], 'no'), '46': ([' particular', ' seventh', ' 52', 'ighth', ' specific'], 'no'), '47': ([' 80', ' particular', ' 81', ' 90', ' 78'], 'no'), '48': (['ighth', ' particular', ' fifth', 'single', ' final'], 'no'), '49': ([' seventh', ' fifth', ' sixth', ' eighth', ' ninth'], 'no'), '50': ([' ninety', ' eighty', ' sixty', ' 81', ' 75'], 'no'), '51': ([' seventh', ' specific', ' particular', ' 55', ' 52'], 'no'), '52': ([' seventh', ' sixth', ' fifth', ' 55', ' whichever'], 'no'), '53': ([' seventh', ' sixth', ' fifth', ' fourth', ' third'], 'no'), '54': ([' seventh', ' sixth', ' fifth', ' 55', '59'], 'no'), '55': ([' seventh', ' sixth', ' fifth', ' eighth', ' third'], 'no'), '56': ([' seventh', ' 57', ' 58', ' sixth', ' fifth'], 'no'), '57': ([' seventh', ' sixth', ' 58', '59', ' fifth'], 'no'), '58': ([' 59', ' sixty', '59', ' 60', ' 61'], 'no'), '59': ([' 61', ' 60', '59', ' seventh', ' 59'], 'yes'), '60': ([' 81', ' 61', ' 80', '81', ' 76'], 'no'), '61': ([' 62', ' 61', '62', ' 81', ' seventh'], 'yes'), '62': ([' 78', ' seventh', ' 79', ' 77', ' 63'], 'no'), '63': ([' seventh', ' 79', ' 78', ' 64', ' 65'], 'no'), '64': ([' seventh', ' sixth', ' must', ' fifth', ' 65'], 'no'), '65': ([' seventh', ' sixth', ' fifth', ' 75', ' 76'], 'no'), '66': ([' seventh', ' 77', ' 78', ' 67', ' 68'], 'no'), '67': ([' seventh', ' 78', ' 79', ' 77', ' eighth'], 'no'), '68': ([' 79', ' 78', ' 70', ' 80', ' seventh'], 'no'), '69': ([' 80', ' 79', ' 81', ' 78', ' 76'], 'no'), '70': ([' 81', ' 80', ' 76', ' 75', ' 78'], 'no'), '71': ([' 81', ' 78', ' 76', ' 82', ' 77'], 'no'), '72': ([' 76', ' 81', ' 77', ' 78', ' 79'], 'no'), '73': ([' seventh', ' occasional', ' 78', ' 75', ' 76'], 'no'), '74': ([' seventh', ' eighth', ' 76', 'ighth', ' 78'], 'no'), '75': ([' seventh', ' sixth', ' eighth', ' 76', ' 78'], 'no'), '76': ([' 78', ' 77', ' seventh', ' 79', ' 81'], 'no'), '77': ([' 78', ' 79', ' 80', ' 81', '78'], 'no'), '78': ([' 79', ' 80', ' 81', ' ninety', 'ighth'], 'no'), '79': ([' 81', ' 80', ' 79', ' 90', ' eighty'], 'yes'), '80': ([' 81', ' 80', ' ninety', ' 90', ' eighty'], 'yes'), '81': ([' 81', ' 82', ' 83', ' occasional', ' 84'], 'yes'), '82': ([' 83', ' 84', ' 85', ' ninety', ' 81'], 'no'), '83': ([' 84', ' 85', ' 83', ' occasional', ' ninety'], 'yes'), '84': ([' 85', ' occasional', ' 86', '85', ' ninety'], 'no'), '85': ([' ninety', ' 86', ' occasional', ' 85', ' 90'], 'yes'), '86': ([' 87', ' 88', ' 86', ' 91', ' 90'], 'yes'), '87': ([' 88', ' 90', ' ninety', ' occasional', ' 91'], 'no'), '88': ([' 90', ' ninety', ' 91', ' 89', ' 98'], 'no'), '89': ([' ninety', ' 91', ' 95', ' 90', ' 94'], 'no'), '90': ([' 91', ' ninety', ' 90', ' 95', '91'], 'yes'), '91': ([' 92', ' 93', ' 95', ' 94', ' 91'], 'yes'), '92': ([' 95', ' 94', ' 93', ' 96', '95'], 'no'), '93': ([' 95', ' 94', ' occasional', '95', ' 96'], 'no'), '94': ([' 95', ' 96', ' occasional', '95', ' particular'], 'no'), '95': ([' 96', ' seventh', ' occasional', ' 95', ' sixth'], 'yes'), '96': ([' seventh', ' 97', ' 98', ' 96', ' occasional'], 'yes'), '97': ([' 98', ' 99', ' seventh', ' 97', ' occasional'], 'yes'), '98': ([' 99', ' 100', ' 102', ' 103', ' 105'], 'no'), '99': ([' 99', ' 100', ' 102', ' 101', ' 105'], 'yes'), '100': ([' 100', ' 101', '100', '101', ' 200'], 'yes')}\n"
          ]
        },
        {
          "output_type": "execute_result",
          "data": {
            "text/plain": [
              "59.27835051546392"
            ]
          },
          "metadata": {},
          "execution_count": 28
        }
      ]
    },
    {
      "cell_type": "code",
      "source": [
        "# %%capture\n",
        "all_copy_scores = []\n",
        "all_heads = [(layer, head) for layer in range(12) for head in range(12)]\n",
        "for index, (layer, head) in enumerate(all_heads):\n",
        "    all_copy_scores.append(get_copy_scores(model, layer, head, dataset, print_all_results=False))\n",
        "    # all_copy_scores.append( (layer, head, get_copy_scores(model, layer, head, dataset, print_all_results=False)) )"
      ],
      "metadata": {
        "colab": {
          "base_uri": "https://localhost:8080/"
        },
        "id": "-ZqG-leY32dn",
        "outputId": "6bcd6369-1293-44f1-8cbd-da423473a274"
      },
      "execution_count": 33,
      "outputs": [
        {
          "output_type": "stream",
          "name": "stdout",
          "text": [
            "Copy circuit for head 1.7: Top 5 accuracy: 2.0618556701030926%\n",
            "Copy circuit for head 2.1: Top 5 accuracy: 1.5463917525773196%\n",
            "Copy circuit for head 2.4: Top 5 accuracy: 0.25773195876288657%\n",
            "Copy circuit for head 3.5: Top 5 accuracy: 1.2886597938144329%\n",
            "Copy circuit for head 4.8: Top 5 accuracy: 0.25773195876288657%\n",
            "Copy circuit for head 5.0: Top 5 accuracy: 11.34020618556701%\n",
            "Copy circuit for head 5.1: Top 5 accuracy: 48.71134020618557%\n",
            "Copy circuit for head 5.5: Top 5 accuracy: 0.25773195876288657%\n",
            "Copy circuit for head 6.1: Top 5 accuracy: 1.804123711340206%\n",
            "Copy circuit for head 6.4: Top 5 accuracy: 0.5154639175257731%\n",
            "Copy circuit for head 6.9: Top 5 accuracy: 83.76288659793815%\n",
            "Copy circuit for head 6.10: Top 5 accuracy: 1.0309278350515463%\n",
            "Copy circuit for head 7.1: Top 5 accuracy: 1.0309278350515463%\n",
            "Copy circuit for head 7.2: Top 5 accuracy: 79.12371134020619%\n",
            "Copy circuit for head 7.5: Top 5 accuracy: 0.7731958762886598%\n",
            "Copy circuit for head 7.7: Top 5 accuracy: 2.3195876288659796%\n",
            "Copy circuit for head 7.8: Top 5 accuracy: 5.412371134020619%\n",
            "Copy circuit for head 7.10: Top 5 accuracy: 87.37113402061856%\n",
            "Copy circuit for head 7.11: Top 5 accuracy: 16.49484536082474%\n",
            "Copy circuit for head 8.1: Top 5 accuracy: 75.25773195876289%\n",
            "Copy circuit for head 8.5: Top 5 accuracy: 0.25773195876288657%\n",
            "Copy circuit for head 8.6: Top 5 accuracy: 0.25773195876288657%\n",
            "Copy circuit for head 8.8: Top 5 accuracy: 36.597938144329895%\n",
            "Copy circuit for head 8.11: Top 5 accuracy: 76.28865979381443%\n",
            "Copy circuit for head 9.1: Top 5 accuracy: 59.27835051546392%\n",
            "Copy circuit for head 9.3: Top 5 accuracy: 0.25773195876288657%\n",
            "Copy circuit for head 9.9: Top 5 accuracy: 85.56701030927834%\n",
            "Copy circuit for head 9.11: Top 5 accuracy: 15.463917525773196%\n",
            "Copy circuit for head 10.1: Top 5 accuracy: 1.804123711340206%\n",
            "Copy circuit for head 10.2: Top 5 accuracy: 95.10309278350515%\n",
            "Copy circuit for head 11.2: Top 5 accuracy: 14.690721649484537%\n",
            "Copy circuit for head 11.4: Top 5 accuracy: 17.525773195876287%\n",
            "Copy circuit for head 11.11: Top 5 accuracy: 0.7731958762886598%\n"
          ]
        }
      ]
    },
    {
      "cell_type": "code",
      "source": [
        "sum(all_copy_scores)/len(all_copy_scores)"
      ],
      "metadata": {
        "colab": {
          "base_uri": "https://localhost:8080/"
        },
        "id": "sTFw1DAx4C0W",
        "outputId": "2828bd80-dd36-4d56-881c-1b37993ec481"
      },
      "execution_count": 34,
      "outputs": [
        {
          "output_type": "execute_result",
          "data": {
            "text/plain": [
              "5.725587056128294"
            ]
          },
          "metadata": {},
          "execution_count": 34
        }
      ]
    },
    {
      "cell_type": "code",
      "source": [
        "# %%capture\n",
        "all_next_scores = []\n",
        "all_heads = [(layer, head) for layer in range(12) for head in range(12)]\n",
        "for index, (layer, head) in enumerate(all_heads):\n",
        "    all_next_scores.append(get_next_scores(model, layer, head, dataset, task=\"numerals\", print_all_results=False))\n",
        "    # all_next_scores.append( (layer, head, get_next_scores(model, layer, head, dataset, task=\"numerals\", print_tokens=False)) )"
      ],
      "metadata": {
        "colab": {
          "base_uri": "https://localhost:8080/"
        },
        "id": "9vgrXP_U36Zi",
        "outputId": "c9eb434b-4380-4218-b611-fc54fa198a04"
      },
      "execution_count": 31,
      "outputs": [
        {
          "output_type": "stream",
          "name": "stdout",
          "text": [
            "Next circuit for head 1.7: Top 5 accuracy: 0.7731958762886598%\n",
            "Next circuit for head 2.1: Top 5 accuracy: 0.25773195876288657%\n",
            "Next circuit for head 3.5: Top 5 accuracy: 2.3195876288659796%\n",
            "Next circuit for head 4.9: Top 5 accuracy: 0.25773195876288657%\n",
            "Next circuit for head 5.0: Top 5 accuracy: 7.731958762886598%\n",
            "Next circuit for head 5.1: Top 5 accuracy: 2.0618556701030926%\n",
            "Next circuit for head 5.5: Top 5 accuracy: 0.25773195876288657%\n",
            "Next circuit for head 6.1: Top 5 accuracy: 14.948453608247423%\n",
            "Next circuit for head 6.9: Top 5 accuracy: 57.73195876288659%\n",
            "Next circuit for head 7.2: Top 5 accuracy: 31.185567010309278%\n",
            "Next circuit for head 7.7: Top 5 accuracy: 1.5463917525773196%\n",
            "Next circuit for head 7.8: Top 5 accuracy: 1.2886597938144329%\n",
            "Next circuit for head 7.10: Top 5 accuracy: 48.71134020618557%\n",
            "Next circuit for head 7.11: Top 5 accuracy: 9.278350515463918%\n",
            "Next circuit for head 8.0: Top 5 accuracy: 1.0309278350515463%\n",
            "Next circuit for head 8.1: Top 5 accuracy: 33.50515463917525%\n",
            "Next circuit for head 8.6: Top 5 accuracy: 0.25773195876288657%\n",
            "Next circuit for head 8.8: Top 5 accuracy: 55.412371134020624%\n",
            "Next circuit for head 8.11: Top 5 accuracy: 25.773195876288657%\n",
            "Next circuit for head 9.1: Top 5 accuracy: 87.37113402061856%\n",
            "Next circuit for head 9.3: Top 5 accuracy: 1.0309278350515463%\n",
            "Next circuit for head 9.9: Top 5 accuracy: 1.5463917525773196%\n",
            "Next circuit for head 9.11: Top 5 accuracy: 4.123711340206185%\n",
            "Next circuit for head 10.2: Top 5 accuracy: 77.83505154639175%\n",
            "Next circuit for head 11.2: Top 5 accuracy: 0.5154639175257731%\n",
            "Next circuit for head 11.4: Top 5 accuracy: 7.474226804123711%\n"
          ]
        }
      ]
    },
    {
      "cell_type": "code",
      "source": [
        "sum(all_next_scores)/len(all_next_scores)"
      ],
      "metadata": {
        "colab": {
          "base_uri": "https://localhost:8080/"
        },
        "id": "n-shPbdk30Q4",
        "outputId": "1ccd089a-9ff1-4820-d6de-06b1e19e81a6"
      },
      "execution_count": 32,
      "outputs": [
        {
          "output_type": "execute_result",
          "data": {
            "text/plain": [
              "3.2932416953035517"
            ]
          },
          "metadata": {},
          "execution_count": 32
        }
      ]
    },
    {
      "cell_type": "markdown",
      "source": [
        "# Numwords"
      ],
      "metadata": {
        "id": "JDu3sPfwTQQa"
      }
    },
    {
      "cell_type": "code",
      "source": [
        "def generate_prompts_list(x ,y):\n",
        "    words = ['one', 'two', 'three', 'four', 'five', 'six', 'seven', 'eight', 'nine', 'ten', 'eleven', 'twelve']\n",
        "    prompts_list = []\n",
        "    for i in range(x, y):\n",
        "        prompt_dict = {\n",
        "            'S1': words[i],\n",
        "            'S2': words[i+1],\n",
        "            'S3': words[i+2],\n",
        "            'S4': words[i+3],\n",
        "            'text': f\"{words[i]} {words[i+1]} {words[i+2]} {words[i+3]}\"\n",
        "        }\n",
        "        prompts_list.append(prompt_dict)\n",
        "    return prompts_list\n",
        "\n",
        "prompts_list = generate_prompts_list(0, 8)\n",
        "dataset = Dataset(prompts_list, model.tokenizer, S1_is_first=True)"
      ],
      "metadata": {
        "id": "IyNr5ZJeTQQb"
      },
      "execution_count": null,
      "outputs": []
    },
    {
      "cell_type": "code",
      "source": [
        "all_next_scores = []\n",
        "all_heads = [(layer, head) for layer in range(12) for head in range(12)]\n",
        "for index, (layer, head) in enumerate(all_heads):\n",
        "    all_next_scores.append(get_next_scores(model, layer, head, dataset, task=\"numwords\", print_all_results=False))"
      ],
      "metadata": {
        "colab": {
          "base_uri": "https://localhost:8080/"
        },
        "outputId": "3b024271-8cba-4a00-ac92-2595297c0e9f",
        "id": "F4-MdsHHTQQc"
      },
      "execution_count": null,
      "outputs": [
        {
          "output_type": "stream",
          "name": "stdout",
          "text": [
            "Next circuit for head 1.7: Top 5 accuracy: 3.125%\n",
            "Next circuit for head 2.1: Top 5 accuracy: 3.125%\n",
            "Next circuit for head 4.8: Top 5 accuracy: 3.125%\n",
            "Next circuit for head 5.0: Top 5 accuracy: 9.375%\n",
            "Next circuit for head 6.1: Top 5 accuracy: 75.0%\n",
            "Next circuit for head 7.2: Top 5 accuracy: 21.875%\n",
            "Next circuit for head 7.7: Top 5 accuracy: 18.75%\n",
            "Next circuit for head 7.11: Top 5 accuracy: 6.25%\n",
            "Next circuit for head 8.1: Top 5 accuracy: 43.75%\n",
            "Next circuit for head 8.8: Top 5 accuracy: 56.25%\n",
            "Next circuit for head 9.1: Top 5 accuracy: 90.625%\n",
            "Next circuit for head 9.7: Top 5 accuracy: 9.375%\n",
            "Next circuit for head 10.2: Top 5 accuracy: 43.75%\n",
            "Next circuit for head 11.4: Top 5 accuracy: 43.75%\n"
          ]
        }
      ]
    },
    {
      "cell_type": "code",
      "source": [
        "sum(all_next_scores)/len(all_next_scores)"
      ],
      "metadata": {
        "colab": {
          "base_uri": "https://localhost:8080/"
        },
        "outputId": "597ec045-05b3-4741-fd74-612834d9dec9",
        "id": "FYE4RLgJTQQc"
      },
      "execution_count": null,
      "outputs": [
        {
          "output_type": "execute_result",
          "data": {
            "text/plain": [
              "2.9730902777777777"
            ]
          },
          "metadata": {},
          "execution_count": 46
        }
      ]
    },
    {
      "cell_type": "markdown",
      "source": [
        "# Months"
      ],
      "metadata": {
        "id": "ltvb9xhYQVm7"
      }
    },
    {
      "cell_type": "code",
      "source": [
        "def generate_prompts_list():\n",
        "    months = ['January', 'February', 'March', 'April', 'May', 'June', 'July', 'August', 'September', 'October', 'November', 'December']\n",
        "    prompts_list = []\n",
        "    for i in range(0, 8):\n",
        "        prompt_dict = {\n",
        "            'S1': months[i],\n",
        "            'S2': months[i+1],\n",
        "            'S3': months[i+2],\n",
        "            'S4': months[i+3],\n",
        "            'text': f\"{months[i]} {months[i+1]} {months[i+2]} {months[i+3]}\"\n",
        "        }\n",
        "        prompts_list.append(prompt_dict)\n",
        "    return prompts_list\n",
        "\n",
        "prompts_list = generate_prompts_list()\n",
        "dataset = Dataset(prompts_list, model.tokenizer, S1_is_first=True)"
      ],
      "metadata": {
        "id": "IwVs9-OpQVnC"
      },
      "execution_count": 35,
      "outputs": []
    },
    {
      "cell_type": "code",
      "source": [
        "all_copy_scores = []\n",
        "all_heads = [(layer, head) for layer in range(12) for head in range(12)]\n",
        "for index, (layer, head) in enumerate(all_heads):\n",
        "    all_copy_scores.append(get_copy_scores(model, layer, head, dataset, print_all_results=False))"
      ],
      "metadata": {
        "colab": {
          "base_uri": "https://localhost:8080/"
        },
        "outputId": "480afe73-2587-4509-9100-c79e78401af7",
        "id": "VkTF_1XUQVnD"
      },
      "execution_count": 36,
      "outputs": [
        {
          "output_type": "stream",
          "name": "stdout",
          "text": [
            "Copy circuit for head 5.0: Top 5 accuracy: 34.375%\n",
            "Copy circuit for head 5.1: Top 5 accuracy: 31.25%\n",
            "Copy circuit for head 5.4: Top 5 accuracy: 6.25%\n",
            "Copy circuit for head 5.7: Top 5 accuracy: 3.125%\n",
            "Copy circuit for head 6.0: Top 5 accuracy: 3.125%\n",
            "Copy circuit for head 6.1: Top 5 accuracy: 3.125%\n",
            "Copy circuit for head 6.9: Top 5 accuracy: 81.25%\n",
            "Copy circuit for head 6.10: Top 5 accuracy: 6.25%\n",
            "Copy circuit for head 7.2: Top 5 accuracy: 75.0%\n",
            "Copy circuit for head 7.5: Top 5 accuracy: 3.125%\n",
            "Copy circuit for head 7.7: Top 5 accuracy: 9.375%\n",
            "Copy circuit for head 7.8: Top 5 accuracy: 59.375%\n",
            "Copy circuit for head 7.10: Top 5 accuracy: 71.875%\n",
            "Copy circuit for head 7.11: Top 5 accuracy: 71.875%\n",
            "Copy circuit for head 8.1: Top 5 accuracy: 75.0%\n",
            "Copy circuit for head 8.6: Top 5 accuracy: 9.375%\n",
            "Copy circuit for head 8.7: Top 5 accuracy: 3.125%\n",
            "Copy circuit for head 8.8: Top 5 accuracy: 6.25%\n",
            "Copy circuit for head 8.11: Top 5 accuracy: 65.625%\n",
            "Copy circuit for head 9.3: Top 5 accuracy: 28.125%\n",
            "Copy circuit for head 9.9: Top 5 accuracy: 78.125%\n",
            "Copy circuit for head 9.11: Top 5 accuracy: 65.625%\n",
            "Copy circuit for head 10.2: Top 5 accuracy: 87.5%\n",
            "Copy circuit for head 10.3: Top 5 accuracy: 90.625%\n",
            "Copy circuit for head 11.1: Top 5 accuracy: 62.5%\n",
            "Copy circuit for head 11.5: Top 5 accuracy: 12.5%\n",
            "Copy circuit for head 11.6: Top 5 accuracy: 21.875%\n"
          ]
        }
      ]
    },
    {
      "cell_type": "code",
      "source": [
        "sum(all_copy_scores)/len(all_copy_scores)"
      ],
      "metadata": {
        "colab": {
          "base_uri": "https://localhost:8080/"
        },
        "outputId": "6ea7e15b-e838-4623-aced-a4eb114e2b80",
        "id": "mdlB8z8iQVnD"
      },
      "execution_count": 37,
      "outputs": [
        {
          "output_type": "execute_result",
          "data": {
            "text/plain": [
              "7.400173611111111"
            ]
          },
          "metadata": {},
          "execution_count": 37
        }
      ]
    },
    {
      "cell_type": "code",
      "source": [
        "all_next_scores = []\n",
        "all_heads = [(layer, head) for layer in range(12) for head in range(12)]\n",
        "for index, (layer, head) in enumerate(all_heads):\n",
        "    all_next_scores.append(get_next_scores(model, layer, head, dataset, task=\"months\", print_all_results=False))"
      ],
      "metadata": {
        "colab": {
          "base_uri": "https://localhost:8080/"
        },
        "outputId": "f1f311b1-19d6-40a4-a5de-8d9c56403141",
        "id": "8h-hFYb6QVnD"
      },
      "execution_count": 39,
      "outputs": [
        {
          "output_type": "stream",
          "name": "stdout",
          "text": [
            "Next circuit for head 9.1: Top 5 accuracy: 31.25%\n"
          ]
        }
      ]
    },
    {
      "cell_type": "code",
      "source": [
        "sum(all_next_scores)/len(all_next_scores)"
      ],
      "metadata": {
        "colab": {
          "base_uri": "https://localhost:8080/"
        },
        "outputId": "2cb72aa1-07d3-4542-a927-b9e6d83e420b",
        "id": "7ZAY2Vs-QVnD"
      },
      "execution_count": 40,
      "outputs": [
        {
          "output_type": "execute_result",
          "data": {
            "text/plain": [
              "0.2170138888888889"
            ]
          },
          "metadata": {},
          "execution_count": 40
        }
      ]
    },
    {
      "cell_type": "code",
      "source": [
        "get_next_scores(model, 9, 1, dataset, task=\"months\")"
      ],
      "metadata": {
        "colab": {
          "base_uri": "https://localhost:8080/"
        },
        "id": "pUnSdBSHRgyi",
        "outputId": "2a8adffc-cc7e-4b1f-a6ad-645cf23bef86"
      },
      "execution_count": 41,
      "outputs": [
        {
          "output_type": "stream",
          "name": "stdout",
          "text": [
            "Next circuit for head 9.1: Top 5 accuracy: 31.25%\n",
            "{'January': ([' once', 'once', ' occasional', ' seventh', '296'], 'second', 'no'), 'February': ([' third', ' fourth', ' once', ' seventh', ' fifth'], 'third', 'yes'), 'March': ([' fifth', ' seventh', ' fourth', ' sixth', ' third'], 'fourth', 'yes'), 'April': ([' seventh', ' fifth', ' sixth', 'ISC', ' five'], 'fifth', 'yes'), 'May': ([' seventh', ' sixth', 'ISC', ' once', ' 157'], 'sixth', 'yes'), 'June': ([' seventh', ' third', ' seven', ' sixth', 'seven'], 'seventh', 'yes'), 'July': ([' seventh', ' eighth', 'seven', ' once', ' seven'], 'eighth', 'yes'), 'August': (['ighth', ' eighth', ' ninth', ' final', ' occasional'], 'ninth', 'yes'), 'September': ([' 120', 'ure', 'Loading', '�', ' Nguyen'], 'tenth', 'no'), 'October': ([' Nur', 'undrum', '�', '�', ' 121'], 'eleventh', 'no'), 'November': (['oor', 'ة', ' 122', 'Enlarge', ' Nur'], 'twelfth', 'no')}\n"
          ]
        },
        {
          "output_type": "execute_result",
          "data": {
            "text/plain": [
              "31.25"
            ]
          },
          "metadata": {},
          "execution_count": 41
        }
      ]
    }
  ]
}