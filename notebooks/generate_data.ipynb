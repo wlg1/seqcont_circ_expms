{
  "cells": [
    {
      "cell_type": "markdown",
      "metadata": {
        "id": "DcZG9rm2IAiA"
      },
      "source": [
        "# Setup"
      ]
    },
    {
      "cell_type": "code",
      "execution_count": null,
      "metadata": {
        "id": "rMcpSDdjIAiA"
      },
      "outputs": [],
      "source": [
        "%%capture\n",
        "%pip install git+https://github.com/neelnanda-io/TransformerLens.git\n",
        "!pip install faker"
      ]
    },
    {
      "cell_type": "code",
      "execution_count": null,
      "metadata": {
        "id": "Z6b1n2tvIAiD"
      },
      "outputs": [],
      "source": [
        "import torch\n",
        "from typing import Optional\n",
        "import copy"
      ]
    },
    {
      "cell_type": "code",
      "execution_count": null,
      "metadata": {
        "id": "zuhzYxbsIAiE"
      },
      "outputs": [],
      "source": [
        "import transformer_lens.utils as utils  # for test prompts\n",
        "from transformer_lens import HookedTransformer\n",
        "torch.set_grad_enabled(False)"
      ]
    },
    {
      "cell_type": "markdown",
      "metadata": {
        "id": "OLkInsdjyHMx"
      },
      "source": [
        "## Load Model"
      ]
    },
    {
      "cell_type": "code",
      "execution_count": null,
      "metadata": {
        "colab": {
          "base_uri": "https://localhost:8080/",
          "referenced_widgets": [
            "59188cdfd4534e319b5d5656270cc700",
            "487d884b1a6a4ed6b1b2e7e5700061c2",
            "c48687adbc024398ace290ba6224f610",
            "7fdf5a8e4de241a9a29543845b315baa",
            "6394846b871e4ac08d734f1b8c7899a2",
            "e3195556708449f0bf1d07314e26d835",
            "52831539219a4042893a4e57deb56cdc",
            "d5f7f3adb4a14445bd3226389a156688",
            "76babe1a1eda4f99be851d02e5c93307",
            "be39a27f09cd45309aec2061a9245ade",
            "b8133afdcb604b1eb45e3f85aebf77ab",
            "770e2d9d5e2e439885f025f8766bfb2f",
            "6d6bdca7768c42e7a33f8844d7763769",
            "bcbe5edeea80483aaa1fbc9b66898440",
            "aea792eff6d34b66a6a2f2decc88ba7c",
            "6665f5aabc2e41248912e03ac53da87f",
            "78ad782082a04849b0bd6b8588292ca7",
            "259838b1d1324b73bb87ce6e568cad74",
            "bba0a281467e4923afd069f120beed37",
            "64c84badc0174c3da65a81baadb14057",
            "2620b02b346d45c1bb2350cfb38d7c4c",
            "2523ace72ee54999bd8fb1451ac8bdb2",
            "a5f5b83dc08542e382a0d171c878a7b5",
            "f7d49f17dcc54b2eb0d5ff99e88420ea",
            "357e9ac3266c47bf9ac9201fc52ca84f",
            "c393a09f69fe42a6a3f3419ba72c24b8",
            "0803db3cf6424de5a2b0869f804993fd",
            "a5ee472054f2412ab26999dde8dff174",
            "f865869c10f543479abffb979bb8009c",
            "2cf627e03d654c9eb9889073fe0e2711",
            "20fde44498774129a4d857ce7a4b2760",
            "1b253f8c1744434fbbb0b103f3268623",
            "eb8fa79561dd4b86ac3628902a3ca9b0",
            "87262ef0b73644b8b00896eb5f891d03",
            "41a54e76f5ae49caad734df780a1eef4",
            "c1bafc070dde405d8f86033c63e72240",
            "d9f1cafa51474fe5bb0ffb077a2cd156",
            "4304de7e26d54776b25ea220a81866a9",
            "53d0ed0ee9524d03af2eb9d021fa606c",
            "771a0355e9734a87ae283c488df8bdbd",
            "b563f04a09014253a23a73aad8fac7ab",
            "c6b9d0f9e2d34460ae2b0780402bc14e",
            "4f65023abef94e8a9b596ea89b994df4",
            "109670a607da48f6a0a6cdf8c30a3a16",
            "186397dd65744a90ad996bc181ce9c5e",
            "8fa13c323c024108bd2e544dd63ab1d6",
            "e03b894596044f44ac955992f3fabf09",
            "b9272d4f37f84f5db9ecc153191763f7",
            "0e7c766add3842d28273d7e520626b92",
            "25ef001325bf499f90610403b7263fe7",
            "6e02c943b509414c8d11f0f58ce5594a",
            "7e264f7ec81342a280fb3ab0eb30cab7",
            "d33b2674b07349988971548cc030c978",
            "407ebdc2722f4c12b820f9e7de0a843d",
            "b9f3d46b9be149b88a8ae117d238360a",
            "335dc1291b8841a59737a16dd2e7349e",
            "1006cf8d75264ad59ae5e12a25242f61",
            "2146626320a844b5acb44cc6b345e534",
            "9b1831fafd3e4e6b8230678a3da81c21",
            "5957f8bcbe1b4845a46111a94214523b",
            "42fcbef60d2642af852bb7c96d53ac42",
            "8cab79253b3d4cf8b1dc36a9cc013c0a",
            "a07383398cfd4855ab9694ce622e70d0",
            "0696cc3940f7416b8edc4bb140ef9eb3",
            "7b1f7813864a46e6ae604095a3ac2a9b",
            "5715550085ca4c2d8d07fa8e71db160b"
          ]
        },
        "id": "xLwDyosvIAiJ",
        "outputId": "8f8de86f-17a4-4aef-d8ec-08ccc6f05650"
      },
      "outputs": [
        {
          "output_type": "display_data",
          "data": {
            "text/plain": [
              "config.json:   0%|          | 0.00/665 [00:00<?, ?B/s]"
            ],
            "application/vnd.jupyter.widget-view+json": {
              "version_major": 2,
              "version_minor": 0,
              "model_id": "59188cdfd4534e319b5d5656270cc700"
            }
          },
          "metadata": {}
        },
        {
          "output_type": "display_data",
          "data": {
            "text/plain": [
              "model.safetensors:   0%|          | 0.00/548M [00:00<?, ?B/s]"
            ],
            "application/vnd.jupyter.widget-view+json": {
              "version_major": 2,
              "version_minor": 0,
              "model_id": "770e2d9d5e2e439885f025f8766bfb2f"
            }
          },
          "metadata": {}
        },
        {
          "output_type": "display_data",
          "data": {
            "text/plain": [
              "generation_config.json:   0%|          | 0.00/124 [00:00<?, ?B/s]"
            ],
            "application/vnd.jupyter.widget-view+json": {
              "version_major": 2,
              "version_minor": 0,
              "model_id": "a5f5b83dc08542e382a0d171c878a7b5"
            }
          },
          "metadata": {}
        },
        {
          "output_type": "display_data",
          "data": {
            "text/plain": [
              "vocab.json:   0%|          | 0.00/1.04M [00:00<?, ?B/s]"
            ],
            "application/vnd.jupyter.widget-view+json": {
              "version_major": 2,
              "version_minor": 0,
              "model_id": "87262ef0b73644b8b00896eb5f891d03"
            }
          },
          "metadata": {}
        },
        {
          "output_type": "display_data",
          "data": {
            "text/plain": [
              "merges.txt:   0%|          | 0.00/456k [00:00<?, ?B/s]"
            ],
            "application/vnd.jupyter.widget-view+json": {
              "version_major": 2,
              "version_minor": 0,
              "model_id": "186397dd65744a90ad996bc181ce9c5e"
            }
          },
          "metadata": {}
        },
        {
          "output_type": "display_data",
          "data": {
            "text/plain": [
              "tokenizer.json:   0%|          | 0.00/1.36M [00:00<?, ?B/s]"
            ],
            "application/vnd.jupyter.widget-view+json": {
              "version_major": 2,
              "version_minor": 0,
              "model_id": "335dc1291b8841a59737a16dd2e7349e"
            }
          },
          "metadata": {}
        },
        {
          "output_type": "stream",
          "name": "stdout",
          "text": [
            "Loaded pretrained model gpt2-small into HookedTransformer\n"
          ]
        }
      ],
      "source": [
        "model = HookedTransformer.from_pretrained(\n",
        "    \"gpt2-small\",\n",
        "    center_unembed=True,\n",
        "    center_writing_weights=True,\n",
        "    fold_ln=True,\n",
        "    refactor_factored_attn_matrices=True,\n",
        ")"
      ]
    },
    {
      "cell_type": "markdown",
      "source": [
        "## Import functions from repo"
      ],
      "metadata": {
        "id": "Z4iJEGh6b56v"
      }
    },
    {
      "cell_type": "code",
      "source": [
        "!git clone https://github.com/apartresearch/seqcont_circuits.git\n",
        "%cd /content/seqcont_circuits/src/generate_data"
      ],
      "metadata": {
        "colab": {
          "base_uri": "https://localhost:8080/"
        },
        "outputId": "87abb83b-65cf-469f-83b9-57670362bf5f",
        "id": "F8TXMRL3CoPd"
      },
      "execution_count": null,
      "outputs": [
        {
          "output_type": "stream",
          "name": "stdout",
          "text": [
            "Cloning into 'seqcont_circ_expms'...\n",
            "remote: Enumerating objects: 339, done.\u001b[K\n",
            "remote: Counting objects: 100% (339/339), done.\u001b[K\n",
            "remote: Compressing objects: 100% (153/153), done.\u001b[K\n",
            "remote: Total 339 (delta 213), reused 302 (delta 179), pack-reused 0\u001b[K\n",
            "Receiving objects: 100% (339/339), 15.01 MiB | 18.04 MiB/s, done.\n",
            "Resolving deltas: 100% (213/213), done.\n"
          ]
        }
      ]
    },
    {
      "cell_type": "code",
      "source": [
        "from generate_data import *"
      ],
      "metadata": {
        "id": "22TI4zjMDMfQ"
      },
      "execution_count": null,
      "outputs": []
    },
    {
      "cell_type": "markdown",
      "metadata": {
        "id": "79xkXyvVPaLv"
      },
      "source": [
        "# numwords, months- names"
      ]
    },
    {
      "cell_type": "code",
      "execution_count": null,
      "metadata": {
        "id": "m5Vxi25FPaL2"
      },
      "outputs": [],
      "source": [
        "from faker import Faker\n",
        "\n",
        "# Generate 100 unique first names\n",
        "fake = Faker()\n",
        "first_names = set()\n",
        "while len(first_names) < 500:\n",
        "    first_name = fake.first_name()\n",
        "    first_names.add(first_name)\n",
        "first_names = list(first_names)"
      ]
    },
    {
      "cell_type": "code",
      "execution_count": null,
      "metadata": {
        "colab": {
          "base_uri": "https://localhost:8080/"
        },
        "id": "O1dNBo96PaL2",
        "outputId": "54437589-eab8-4381-a048-4a47ea3e0cf4"
      },
      "outputs": [
        {
          "output_type": "execute_result",
          "data": {
            "text/plain": [
              "137"
            ]
          },
          "metadata": {},
          "execution_count": 40
        }
      ],
      "source": [
        "names = filter_to_single_token(model, first_names)\n",
        "len(names)"
      ]
    },
    {
      "cell_type": "code",
      "execution_count": null,
      "metadata": {
        "id": "Hqer4vQVPaL2"
      },
      "outputs": [],
      "source": [
        "# \"Claire was born in February. John was born in March. Eve was born in April. Bob was born in”\n",
        "prompts_list = generate_prompts_list(0, 8, names[:100], 'born')"
      ]
    },
    {
      "cell_type": "code",
      "execution_count": null,
      "metadata": {
        "id": "qs6n4WMSk1kg"
      },
      "outputs": [],
      "source": [
        "# Replace the month names in the data\n",
        "prompts_list_months = replace_nw_seqtype(prompts_list, 'months')"
      ]
    },
    {
      "cell_type": "code",
      "execution_count": null,
      "metadata": {
        "id": "qSlC73ymPaL2"
      },
      "outputs": [],
      "source": [
        "good_prompts, good_prompts_months, all_probs = get_good_prompts_nw_months(model, prompts_list, prompts_list_months)"
      ]
    },
    {
      "cell_type": "code",
      "source": [
        "print(len(good_prompts))\n",
        "print(len(good_prompts_months))"
      ],
      "metadata": {
        "id": "cxrVGP-VlfJv"
      },
      "execution_count": null,
      "outputs": []
    },
    {
      "cell_type": "code",
      "source": [
        "example_prompt = good_prompts[57]['text']\n",
        "example_answer = good_prompts[57]['corr']\n",
        "utils.test_prompt(example_prompt, example_answer, model, prepend_bos=True)"
      ],
      "metadata": {
        "id": "gAiKmUPAmKKx"
      },
      "execution_count": null,
      "outputs": []
    },
    {
      "cell_type": "code",
      "source": [
        "example_prompt = good_prompts_months[50]['text']\n",
        "example_answer = good_prompts_months[50]['corr']\n",
        "utils.test_prompt(example_prompt, example_answer, model, prepend_bos=True)"
      ],
      "metadata": {
        "id": "yP468RrYmEuy"
      },
      "execution_count": null,
      "outputs": []
    },
    {
      "cell_type": "code",
      "execution_count": null,
      "metadata": {
        "id": "sLV2Dz_MPaL2"
      },
      "outputs": [],
      "source": [
        "with open('nw_prompts_names.pkl', 'wb') as file:\n",
        "    pickle.dump(good_prompts, file)\n",
        "files.download('nw_prompts_names.pkl')"
      ]
    },
    {
      "cell_type": "code",
      "source": [
        "with open('months_prompts_names.pkl', 'wb') as file:\n",
        "    pickle.dump(good_prompts_months, file)\n",
        "files.download('months_prompts_names.pkl')"
      ],
      "metadata": {
        "id": "z9qiBSmbldun"
      },
      "execution_count": null,
      "outputs": []
    },
    {
      "cell_type": "code",
      "execution_count": null,
      "metadata": {
        "id": "WLZ2HGEkPaL2"
      },
      "outputs": [],
      "source": [
        "plt.hist([probs[0].item() for probs in all_probs], bins = 20, edgecolor='black')\n",
        "plt.xlabel('probs')\n",
        "plt.ylabel('Frequency')\n",
        "plt.title('Distribution')"
      ]
    },
    {
      "cell_type": "code",
      "source": [
        "freqs = {}\n",
        "for pd in good_prompts_months:\n",
        "    if pd['S1'] not in freqs:\n",
        "        freqs[pd['S1']] = 1\n",
        "    else:\n",
        "        freqs[pd['S1']] += 1\n",
        "freqs"
      ],
      "metadata": {
        "id": "BwxidIBj0IVT"
      },
      "execution_count": null,
      "outputs": []
    },
    {
      "cell_type": "code",
      "source": [
        "freqs = {}\n",
        "for pd in good_prompts:\n",
        "    if pd['S1'] not in freqs:\n",
        "        freqs[pd['S1']] = 1\n",
        "    else:\n",
        "        freqs[pd['S1']] += 1\n",
        "freqs"
      ],
      "metadata": {
        "id": "GTJOwJjL0V9O"
      },
      "execution_count": null,
      "outputs": []
    },
    {
      "cell_type": "markdown",
      "metadata": {
        "id": "dcfkbU4eSdjx"
      },
      "source": [
        "# numwords, months- lost"
      ]
    },
    {
      "cell_type": "code",
      "execution_count": null,
      "metadata": {
        "id": "VFq5JfcgSdj3"
      },
      "outputs": [],
      "source": [
        "# List of common, short words which are likely to be single tokens in GPT-2\n",
        "common_words = [\n",
        "    \"Apple\", \"Ball\", \"Car\", \"Dog\", \"Egg\", \"Fish\", \"Gold\", \"Hat\", \"Ink\", \"Jar\",\n",
        "    \"Kite\", \"Lamp\", \"Moon\", \"Nest\", \"Owl\", \"Pig\", \"Quilt\", \"Rat\", \"Sun\", \"Tree\",\n",
        "    \"Umbrella\", \"Vase\", \"Wolf\", \"Yarn\", \"Zip\", \"Bird\", \"Cat\", \"Drum\", \"Frog\",\n",
        "    \"Grape\", \"House\", \"Ice\", \"Juice\", \"Key\", \"Leaf\", \"Map\", \"Nut\", \"Orange\",\n",
        "    \"Piano\", \"Queen\", \"Ring\", \"Star\", \"Train\", \"Van\", \"Whale\", \"Xylophone\",\n",
        "    \"Yacht\", \"Zebra\", \"Ax\", \"Box\", \"Cow\", \"Desk\", \"Ear\", \"Fan\", \"Gate\", \"Hill\",\n",
        "    \"Iron\", \"Joke\", \"King\", \"Lion\", \"Milk\", \"Nose\", \"Oil\", \"Pen\", \"Quiz\", \"Rose\",\n",
        "    \"Shoe\", \"Tail\", \"Vine\", \"Wall\", \"Year\", \"Ant\", \"Bug\", \"Corn\", \"Duck\", \"Fire\",\n",
        "    \"Grass\", \"Hand\", \"Island\", \"Jam\", \"Knee\", \"Lake\", \"Mouse\", \"Nail\", \"Pear\",\n",
        "    \"Quack\", \"Road\", \"Sand\", \"Tent\", \"Valley\", \"Wind\", \"Yard\", \"Arm\", \"Boat\",\n",
        "    \"Cake\", \"Door\", \"Eye\", \"Flag\", \"Horse\", \"Jeep\", \"Knife\", \"Light\", \"Mountain\",\n",
        "    \"Night\", \"Ocean\", \"Plate\", \"Queen\", \"Rain\", \"Snow\", \"Tree\", \"Umbrella\",\n",
        "    \"Valley\", \"Window\", \"Yogurt\", \"Zoo\", \"Balloon\", \"Bicycle\", \"Car\", \"Doll\", \"Eagle\", \"Flag\", \"Giraffe\", \"Helmet\", \"Igloo\", \"Jacket\",\n",
        "    \"Kite\", \"Lion\", \"Monkey\", \"Nest\", \"Oven\", \"Pencil\", \"Quill\", \"Rabbit\", \"Star\", \"Truck\",\n",
        "    \"Umbrella\", \"Violin\", \"Whale\", \"Xylophone\", \"Yak\", \"Zebra\", \"Apple\", \"Banana\", \"Camera\", \"Drum\",\n",
        "    \"Elephant\", \"Fork\", \"Glass\", \"House\", \"Island\", \"Jewel\", \"Kangaroo\", \"Lamp\", \"Mountain\", \"Notebook\",\n",
        "    \"Orange\", \"Piano\", \"Queen\", \"Rose\", \"Snake\", \"Tiger\", \"Urn\", \"Vase\", \"Window\", \"Xerox\",\n",
        "    \"Yoyo\", \"Zipper\", \"Anchor\", \"Brush\", \"Clock\", \"Dress\", \"Easel\", \"Fan\", \"Guitar\", \"Harp\",\n",
        "    \"Ink\", \"Jug\", \"Knife\", \"Leaf\", \"Mirror\", \"Nut\", \"Owl\", \"Penguin\", \"Quartz\", \"Ring\",\n",
        "    \"Spoon\", \"Table\", \"Ukulele\", \"Van\", \"Watch\", \"X-ray\", \"Yarn\", \"Zucchini\", \"Artichoke\", \"Broccoli\",\n",
        "    \"Cup\", \"Desk\", \"Egg\", \"Fridge\", \"Grape\", \"Hose\", \"Iris\", \"Jackal\", \"Kettle\", \"Lizard\",\n",
        "    \"Mango\", \"Napkin\", \"Ostrich\", \"Peacock\", \"Quokka\", \"Racoon\", \"Seal\", \"Tulip\", \"Urchin\", \"Violet\",\n",
        "    \"apple\", \"ball\", \"chair\", \"desk\", \"elephant\", \"flower\", \"guitar\", \"hat\", \"jug\", \"kite\",\n",
        "    \"lamp\", \"mirror\", \"orange\", \"piano\", \"quilt\", \"ring\", \"television\", \"umbrella\", \"violin\", \"watch\",\n",
        "    \"yacht\", \"zebra\", \"book\", \"cup\", \"drone\", \"fridge\", \"gloves\", \"helmet\", \"igloo\", \"jacket\",\n",
        "    \"key\", \"lemon\", \"mug\", \"nail\", \"octopus\", \"pillow\", \"robot\", \"spoon\", \"tree\", \"unicorn\",\n",
        "    \"vase\", \"wheel\", \"yo-yo\", \"zipper\", \"backpack\", \"camera\", \"dumbbell\", \"envelope\", \"flashlight\", \"goggles\",\n",
        "    \"hammer\", \"ink\", \"jeans\", \"ladder\", \"microphone\", \"nest\", \"owl\", \"penguin\", \"quill\", \"ruler\",\n",
        "    \"scissors\", \"tent\", \"volcano\", \"wallet\", \"yogurt\", \"zucchini\", \"accordion\", \"bicycle\", \"candle\", \"dice\",\n",
        "    \"egg\", \"fan\"\n",
        "    ]"
      ]
    },
    {
      "cell_type": "code",
      "execution_count": null,
      "metadata": {
        "id": "vnvCBxyCSdj4",
        "colab": {
          "base_uri": "https://localhost:8080/"
        },
        "outputId": "8a5b5e87-91fa-4d9b-9a47-97efd29f2071"
      },
      "outputs": [
        {
          "output_type": "execute_result",
          "data": {
            "text/plain": [
              "100"
            ]
          },
          "metadata": {},
          "execution_count": 11
        }
      ],
      "source": [
        "random_single_word_objects = [obj.capitalize() for obj in common_words]\n",
        "random_single_word_objects = filter_to_single_token(model, random_single_word_objects)\n",
        "len(random_single_word_objects)"
      ]
    },
    {
      "cell_type": "code",
      "execution_count": null,
      "metadata": {
        "id": "JjcEchRtSdj4"
      },
      "outputs": [],
      "source": [
        "prompts_list = generate_prompts_list(0, 8, random_single_word_objects, 'lost')"
      ]
    },
    {
      "cell_type": "code",
      "source": [
        "prompts_list_months = replace_nw_seqtype(prompts_list, 'months')"
      ],
      "metadata": {
        "id": "WQLhxbh5x7in"
      },
      "execution_count": null,
      "outputs": []
    },
    {
      "cell_type": "code",
      "source": [
        "good_prompts, good_prompts_months, all_probs = get_good_prompts_nw_months(model, prompts_list, prompts_list_months)"
      ],
      "metadata": {
        "id": "kVsgEcQF0LNt"
      },
      "execution_count": null,
      "outputs": []
    },
    {
      "cell_type": "code",
      "execution_count": null,
      "metadata": {
        "colab": {
          "base_uri": "https://localhost:8080/",
          "height": 17
        },
        "id": "hl83Kh29Sdj5",
        "outputId": "856c56b8-8e4f-4730-ea93-b6ee71daf2cb"
      },
      "outputs": [
        {
          "output_type": "display_data",
          "data": {
            "text/plain": [
              "<IPython.core.display.Javascript object>"
            ],
            "application/javascript": [
              "\n",
              "    async function download(id, filename, size) {\n",
              "      if (!google.colab.kernel.accessAllowed) {\n",
              "        return;\n",
              "      }\n",
              "      const div = document.createElement('div');\n",
              "      const label = document.createElement('label');\n",
              "      label.textContent = `Downloading \"${filename}\": `;\n",
              "      div.appendChild(label);\n",
              "      const progress = document.createElement('progress');\n",
              "      progress.max = size;\n",
              "      div.appendChild(progress);\n",
              "      document.body.appendChild(div);\n",
              "\n",
              "      const buffers = [];\n",
              "      let downloaded = 0;\n",
              "\n",
              "      const channel = await google.colab.kernel.comms.open(id);\n",
              "      // Send a message to notify the kernel that we're ready.\n",
              "      channel.send({})\n",
              "\n",
              "      for await (const message of channel.messages) {\n",
              "        // Send a message to notify the kernel that we're ready.\n",
              "        channel.send({})\n",
              "        if (message.buffers) {\n",
              "          for (const buffer of message.buffers) {\n",
              "            buffers.push(buffer);\n",
              "            downloaded += buffer.byteLength;\n",
              "            progress.value = downloaded;\n",
              "          }\n",
              "        }\n",
              "      }\n",
              "      const blob = new Blob(buffers, {type: 'application/binary'});\n",
              "      const a = document.createElement('a');\n",
              "      a.href = window.URL.createObjectURL(blob);\n",
              "      a.download = filename;\n",
              "      div.appendChild(a);\n",
              "      a.click();\n",
              "      div.remove();\n",
              "    }\n",
              "  "
            ]
          },
          "metadata": {}
        },
        {
          "output_type": "display_data",
          "data": {
            "text/plain": [
              "<IPython.core.display.Javascript object>"
            ],
            "application/javascript": [
              "download(\"download_b87bfcfc-4cd0-47e4-9d5c-9c5b9cc432a2\", \"nw_prompts_lost.pkl\", 137820)"
            ]
          },
          "metadata": {}
        }
      ],
      "source": [
        "with open('nw_prompts_lost.pkl', 'wb') as file:\n",
        "    pickle.dump(good_prompts, file)\n",
        "files.download('nw_prompts_lost.pkl')"
      ]
    },
    {
      "cell_type": "code",
      "source": [
        "with open('months_prompts_lost.pkl', 'wb') as file:\n",
        "    pickle.dump(good_prompts_months, file)\n",
        "files.download('months_prompts_lost.pkl')"
      ],
      "metadata": {
        "colab": {
          "base_uri": "https://localhost:8080/",
          "height": 17
        },
        "id": "TXQ5liPkyWAW",
        "outputId": "c086a7bd-21f6-4532-ee32-78225470a1fa"
      },
      "execution_count": null,
      "outputs": [
        {
          "output_type": "display_data",
          "data": {
            "text/plain": [
              "<IPython.core.display.Javascript object>"
            ],
            "application/javascript": [
              "\n",
              "    async function download(id, filename, size) {\n",
              "      if (!google.colab.kernel.accessAllowed) {\n",
              "        return;\n",
              "      }\n",
              "      const div = document.createElement('div');\n",
              "      const label = document.createElement('label');\n",
              "      label.textContent = `Downloading \"${filename}\": `;\n",
              "      div.appendChild(label);\n",
              "      const progress = document.createElement('progress');\n",
              "      progress.max = size;\n",
              "      div.appendChild(progress);\n",
              "      document.body.appendChild(div);\n",
              "\n",
              "      const buffers = [];\n",
              "      let downloaded = 0;\n",
              "\n",
              "      const channel = await google.colab.kernel.comms.open(id);\n",
              "      // Send a message to notify the kernel that we're ready.\n",
              "      channel.send({})\n",
              "\n",
              "      for await (const message of channel.messages) {\n",
              "        // Send a message to notify the kernel that we're ready.\n",
              "        channel.send({})\n",
              "        if (message.buffers) {\n",
              "          for (const buffer of message.buffers) {\n",
              "            buffers.push(buffer);\n",
              "            downloaded += buffer.byteLength;\n",
              "            progress.value = downloaded;\n",
              "          }\n",
              "        }\n",
              "      }\n",
              "      const blob = new Blob(buffers, {type: 'application/binary'});\n",
              "      const a = document.createElement('a');\n",
              "      a.href = window.URL.createObjectURL(blob);\n",
              "      a.download = filename;\n",
              "      div.appendChild(a);\n",
              "      a.click();\n",
              "      div.remove();\n",
              "    }\n",
              "  "
            ]
          },
          "metadata": {}
        },
        {
          "output_type": "display_data",
          "data": {
            "text/plain": [
              "<IPython.core.display.Javascript object>"
            ],
            "application/javascript": [
              "download(\"download_0b558208-dc03-42bc-98ba-5931ef73d704\", \"months_prompts_lost.pkl\", 146545)"
            ]
          },
          "metadata": {}
        }
      ]
    },
    {
      "cell_type": "code",
      "execution_count": null,
      "metadata": {
        "colab": {
          "base_uri": "https://localhost:8080/",
          "height": 489
        },
        "id": "ll0dVswtSdj5",
        "outputId": "d0e2ca2d-e406-4710-923d-01661133e143"
      },
      "outputs": [
        {
          "output_type": "execute_result",
          "data": {
            "text/plain": [
              "Text(0.5, 1.0, 'Distribution')"
            ]
          },
          "metadata": {},
          "execution_count": 62
        },
        {
          "output_type": "display_data",
          "data": {
            "text/plain": [
              "<Figure size 640x480 with 1 Axes>"
            ],
            "image/png": "[encoded data removed]"
          },
          "metadata": {}
        }
      ],
      "source": [
        "plt.hist([probs[0].item() for probs in all_probs], bins = 20, edgecolor='black')\n",
        "plt.xlabel('probs')\n",
        "plt.ylabel('Frequency')\n",
        "plt.title('Distribution')"
      ]
    },
    {
      "cell_type": "code",
      "source": [
        "freqs = {}\n",
        "for pd in good_prompts_months:\n",
        "    if pd['S1'] not in freqs:\n",
        "        freqs[pd['S1']] = 1\n",
        "    else:\n",
        "        freqs[pd['S1']] += 1\n",
        "freqs"
      ],
      "metadata": {
        "colab": {
          "base_uri": "https://localhost:8080/"
        },
        "outputId": "1fcfe195-5b4d-4493-97ef-1531624fb731",
        "id": "8414gkTvGwf9"
      },
      "execution_count": null,
      "outputs": [
        {
          "output_type": "execute_result",
          "data": {
            "text/plain": [
              "{'January': 128,\n",
              " 'February': 128,\n",
              " 'March': 128,\n",
              " 'April': 128,\n",
              " 'May': 128,\n",
              " 'June': 128,\n",
              " 'July': 128,\n",
              " 'August': 128}"
            ]
          },
          "metadata": {},
          "execution_count": 63
        }
      ]
    },
    {
      "cell_type": "code",
      "source": [
        "freqs = {}\n",
        "for pd in good_prompts:\n",
        "    if pd['S1'] not in freqs:\n",
        "        freqs[pd['S1']] = 1\n",
        "    else:\n",
        "        freqs[pd['S1']] += 1\n",
        "freqs"
      ],
      "metadata": {
        "colab": {
          "base_uri": "https://localhost:8080/"
        },
        "outputId": "d4c49690-40c0-44b4-8aef-b31e605f6eef",
        "id": "h6BJZL6IGwgD"
      },
      "execution_count": null,
      "outputs": [
        {
          "output_type": "execute_result",
          "data": {
            "text/plain": [
              "{'one': 128,\n",
              " 'two': 128,\n",
              " 'three': 128,\n",
              " 'four': 128,\n",
              " 'five': 128,\n",
              " 'six': 128,\n",
              " 'seven': 128,\n",
              " 'eight': 128}"
            ]
          },
          "metadata": {},
          "execution_count": 64
        }
      ]
    },
    {
      "cell_type": "markdown",
      "metadata": {
        "id": "e3BTCtmwSdj5"
      },
      "source": [
        "# numwords, months- done"
      ]
    },
    {
      "cell_type": "code",
      "execution_count": null,
      "metadata": {
        "id": "4YlplXiQSdj5"
      },
      "outputs": [],
      "source": [
        "prompts_list = generate_prompts_list(0, 8, random_single_word_objects, 'done')"
      ]
    },
    {
      "cell_type": "code",
      "source": [
        "prompts_list_months = replace_nw_seqtype(prompts_list, 'months')"
      ],
      "metadata": {
        "id": "aUS5Oy-zwwpB"
      },
      "execution_count": null,
      "outputs": []
    },
    {
      "cell_type": "code",
      "execution_count": null,
      "metadata": {
        "id": "wcEy-I4Lw5Fw"
      },
      "outputs": [],
      "source": [
        "good_prompts, good_prompts_months, all_probs = get_good_prompts_nw_months(model, prompts_list, prompts_list_months)"
      ]
    },
    {
      "cell_type": "code",
      "execution_count": null,
      "metadata": {
        "colab": {
          "base_uri": "https://localhost:8080/",
          "height": 17
        },
        "id": "6WeYtrqlSdj6",
        "outputId": "b2c9339c-5aa9-4ebb-a461-e7f26a2ecf95"
      },
      "outputs": [
        {
          "output_type": "display_data",
          "data": {
            "text/plain": [
              "<IPython.core.display.Javascript object>"
            ],
            "application/javascript": [
              "\n",
              "    async function download(id, filename, size) {\n",
              "      if (!google.colab.kernel.accessAllowed) {\n",
              "        return;\n",
              "      }\n",
              "      const div = document.createElement('div');\n",
              "      const label = document.createElement('label');\n",
              "      label.textContent = `Downloading \"${filename}\": `;\n",
              "      div.appendChild(label);\n",
              "      const progress = document.createElement('progress');\n",
              "      progress.max = size;\n",
              "      div.appendChild(progress);\n",
              "      document.body.appendChild(div);\n",
              "\n",
              "      const buffers = [];\n",
              "      let downloaded = 0;\n",
              "\n",
              "      const channel = await google.colab.kernel.comms.open(id);\n",
              "      // Send a message to notify the kernel that we're ready.\n",
              "      channel.send({})\n",
              "\n",
              "      for await (const message of channel.messages) {\n",
              "        // Send a message to notify the kernel that we're ready.\n",
              "        channel.send({})\n",
              "        if (message.buffers) {\n",
              "          for (const buffer of message.buffers) {\n",
              "            buffers.push(buffer);\n",
              "            downloaded += buffer.byteLength;\n",
              "            progress.value = downloaded;\n",
              "          }\n",
              "        }\n",
              "      }\n",
              "      const blob = new Blob(buffers, {type: 'application/binary'});\n",
              "      const a = document.createElement('a');\n",
              "      a.href = window.URL.createObjectURL(blob);\n",
              "      a.download = filename;\n",
              "      div.appendChild(a);\n",
              "      a.click();\n",
              "      div.remove();\n",
              "    }\n",
              "  "
            ]
          },
          "metadata": {}
        },
        {
          "output_type": "display_data",
          "data": {
            "text/plain": [
              "<IPython.core.display.Javascript object>"
            ],
            "application/javascript": [
              "download(\"download_5f07a3fc-bfb1-4328-b3f6-de9ad61a0931\", \"nw_prompts_done.pkl\", 137767)"
            ]
          },
          "metadata": {}
        }
      ],
      "source": [
        "with open('nw_prompts_done.pkl', 'wb') as file:\n",
        "    pickle.dump(good_prompts, file)\n",
        "files.download('nw_prompts_done.pkl')"
      ]
    },
    {
      "cell_type": "code",
      "source": [
        "with open('months_prompts_done.pkl', 'wb') as file:\n",
        "    pickle.dump(good_prompts_months, file)\n",
        "files.download('months_prompts_done.pkl')"
      ],
      "metadata": {
        "colab": {
          "base_uri": "https://localhost:8080/",
          "height": 17
        },
        "outputId": "091677aa-c1e5-45fe-deb9-ea219b9ce810",
        "id": "4J4MSJ5Xxfd9"
      },
      "execution_count": null,
      "outputs": [
        {
          "output_type": "display_data",
          "data": {
            "text/plain": [
              "<IPython.core.display.Javascript object>"
            ],
            "application/javascript": [
              "\n",
              "    async function download(id, filename, size) {\n",
              "      if (!google.colab.kernel.accessAllowed) {\n",
              "        return;\n",
              "      }\n",
              "      const div = document.createElement('div');\n",
              "      const label = document.createElement('label');\n",
              "      label.textContent = `Downloading \"${filename}\": `;\n",
              "      div.appendChild(label);\n",
              "      const progress = document.createElement('progress');\n",
              "      progress.max = size;\n",
              "      div.appendChild(progress);\n",
              "      document.body.appendChild(div);\n",
              "\n",
              "      const buffers = [];\n",
              "      let downloaded = 0;\n",
              "\n",
              "      const channel = await google.colab.kernel.comms.open(id);\n",
              "      // Send a message to notify the kernel that we're ready.\n",
              "      channel.send({})\n",
              "\n",
              "      for await (const message of channel.messages) {\n",
              "        // Send a message to notify the kernel that we're ready.\n",
              "        channel.send({})\n",
              "        if (message.buffers) {\n",
              "          for (const buffer of message.buffers) {\n",
              "            buffers.push(buffer);\n",
              "            downloaded += buffer.byteLength;\n",
              "            progress.value = downloaded;\n",
              "          }\n",
              "        }\n",
              "      }\n",
              "      const blob = new Blob(buffers, {type: 'application/binary'});\n",
              "      const a = document.createElement('a');\n",
              "      a.href = window.URL.createObjectURL(blob);\n",
              "      a.download = filename;\n",
              "      div.appendChild(a);\n",
              "      a.click();\n",
              "      div.remove();\n",
              "    }\n",
              "  "
            ]
          },
          "metadata": {}
        },
        {
          "output_type": "display_data",
          "data": {
            "text/plain": [
              "<IPython.core.display.Javascript object>"
            ],
            "application/javascript": [
              "download(\"download_1ddea2fc-842c-41a2-9a51-f01ad18478cd\", \"months_prompts_done.pkl\", 146492)"
            ]
          },
          "metadata": {}
        }
      ]
    },
    {
      "cell_type": "code",
      "execution_count": null,
      "metadata": {
        "colab": {
          "base_uri": "https://localhost:8080/",
          "height": 489
        },
        "id": "Jo7EIuD5Sdj6",
        "outputId": "bde9fa7f-8dfc-4784-ee3e-f6f86940d7b3"
      },
      "outputs": [
        {
          "output_type": "execute_result",
          "data": {
            "text/plain": [
              "Text(0.5, 1.0, 'Distribution')"
            ]
          },
          "metadata": {},
          "execution_count": 21
        },
        {
          "output_type": "display_data",
          "data": {
            "text/plain": [
              "<Figure size 640x480 with 1 Axes>"
            ],
            "image/png": "[encoded data removed]"
          },
          "metadata": {}
        }
      ],
      "source": [
        "plt.hist([probs[0].item() for probs in all_probs], bins = 20, edgecolor='black')\n",
        "plt.xlabel('probs')\n",
        "plt.ylabel('Frequency')\n",
        "plt.title('Distribution')"
      ]
    },
    {
      "cell_type": "code",
      "source": [
        "freqs = {}\n",
        "for pd in good_prompts_months:\n",
        "    if pd['S1'] not in freqs:\n",
        "        freqs[pd['S1']] = 1\n",
        "    else:\n",
        "        freqs[pd['S1']] += 1\n",
        "freqs"
      ],
      "metadata": {
        "colab": {
          "base_uri": "https://localhost:8080/"
        },
        "outputId": "6424578c-db7a-4fe8-9eab-00f5623c74e0",
        "id": "Ef3nGHU0HG9Y"
      },
      "execution_count": null,
      "outputs": [
        {
          "output_type": "execute_result",
          "data": {
            "text/plain": [
              "{'January': 128,\n",
              " 'February': 128,\n",
              " 'March': 128,\n",
              " 'April': 128,\n",
              " 'May': 128,\n",
              " 'June': 128,\n",
              " 'July': 128,\n",
              " 'August': 128}"
            ]
          },
          "metadata": {},
          "execution_count": 22
        }
      ]
    },
    {
      "cell_type": "code",
      "source": [
        "freqs = {}\n",
        "for pd in good_prompts:\n",
        "    if pd['S1'] not in freqs:\n",
        "        freqs[pd['S1']] = 1\n",
        "    else:\n",
        "        freqs[pd['S1']] += 1\n",
        "freqs"
      ],
      "metadata": {
        "colab": {
          "base_uri": "https://localhost:8080/"
        },
        "outputId": "ea6c9497-445d-443f-89e6-d8e4fb422cd5",
        "id": "qizGERw8HG9Z"
      },
      "execution_count": null,
      "outputs": [
        {
          "output_type": "execute_result",
          "data": {
            "text/plain": [
              "{'one': 128,\n",
              " 'two': 128,\n",
              " 'three': 128,\n",
              " 'four': 128,\n",
              " 'five': 128,\n",
              " 'six': 128,\n",
              " 'seven': 128,\n",
              " 'eight': 128}"
            ]
          },
          "metadata": {},
          "execution_count": 23
        }
      ]
    },
    {
      "cell_type": "markdown",
      "metadata": {
        "id": "wWPk49RQJvuI"
      },
      "source": [
        "# numerals- names"
      ]
    },
    {
      "cell_type": "code",
      "execution_count": null,
      "metadata": {
        "id": "nUIJQgHUJvuI"
      },
      "outputs": [],
      "source": [
        "file_name = 'nw_prompts_names.pkl'\n",
        "with open(file_name, 'rb') as file:\n",
        "    prompts_list = pickle.load(file)"
      ]
    },
    {
      "cell_type": "code",
      "execution_count": null,
      "metadata": {
        "id": "nwwd5oX1JvuI"
      },
      "outputs": [],
      "source": [
        "prompts_list = replace_nw_seqtype(prompts_list, 'numerals')"
      ]
    },
    {
      "cell_type": "code",
      "execution_count": null,
      "metadata": {
        "id": "sX1Zs28OJvuI"
      },
      "outputs": [],
      "source": [
        "good_prompts, all_probs = get_good_prompts_numerals(model, prompts_list)"
      ]
    },
    {
      "cell_type": "code",
      "execution_count": null,
      "metadata": {
        "id": "27Z1sGeyJvuJ"
      },
      "outputs": [],
      "source": [
        "with open('digits_prompts_names.pkl', 'wb') as file:\n",
        "    pickle.dump(good_prompts, file)\n",
        "files.download('digits_prompts_names.pkl')"
      ]
    },
    {
      "cell_type": "code",
      "execution_count": null,
      "metadata": {
        "id": "YtqEd7euJvuJ"
      },
      "outputs": [],
      "source": [
        "plt.hist([probs[0].item() for probs in all_probs], bins = 20, edgecolor='black')\n",
        "plt.xlabel('probs')\n",
        "plt.ylabel('Frequency')\n",
        "plt.title('Distribution')"
      ]
    },
    {
      "cell_type": "markdown",
      "metadata": {
        "id": "OfxS2mztGgtd"
      },
      "source": [
        "# numerals- lost"
      ]
    },
    {
      "cell_type": "code",
      "execution_count": null,
      "metadata": {
        "colab": {
          "base_uri": "https://localhost:8080/"
        },
        "id": "gw0l9xgNGoMU",
        "outputId": "bc522aec-bb72-4885-acff-8c38267e84e8"
      },
      "outputs": [
        {
          "output_type": "stream",
          "name": "stdout",
          "text": [
            "[{'S1': 'one', 'S2': 'two', 'S3': 'three', 'S4': 'four', 'corr': ' five', 'incorr': ' four', 'text': 'Oil lost in one. Apple lost in two. Tree lost in three. Snow lost in four. Apple lost in'}, {'S1': 'two', 'S2': 'three', 'S3': 'four', 'S4': 'five', 'corr': ' six', 'incorr': ' five', 'text': 'Rose lost in two. Tree lost in three. Jam lost in four. Mouse lost in five. Wheel lost in'}, {'S1': 'three', 'S2': 'four', 'S3': 'five', 'S4': 'six', 'corr': ' seven', 'incorr': ' six', 'text': 'Wallet lost in three. Jam lost in four. Wall lost in five. Watch lost in six. Train lost in'}, {'S1': 'four', 'S2': 'five', 'S3': 'six', 'S4': 'seven', 'corr': ' eight', 'incorr': ' seven', 'text': 'Car lost in four. Camera lost in five. Ring lost in six. Tree lost in seven. Chair lost in'}, {'S1': 'five', 'S2': 'six', 'S3': 'seven', 'S4': 'eight', 'corr': ' nine', 'incorr': ' eight', 'text': 'Ice lost in five. Tree lost in six. Desk lost in seven. Desk lost in eight. Pen lost in'}, {'S1': 'six', 'S2': 'seven', 'S3': 'eight', 'S4': 'nine', 'corr': ' ten', 'incorr': ' nine', 'text': 'Hill lost in six. Clock lost in seven. Nut lost in eight. Van lost in nine. Lake lost in'}, {'S1': 'seven', 'S2': 'eight', 'S3': 'nine', 'S4': 'ten', 'corr': ' eleven', 'incorr': ' ten', 'text': 'Map lost in seven. Apple lost in eight. Sand lost in nine. Light lost in ten. Key lost in'}, {'S1': 'eight', 'S2': 'nine', 'S3': 'ten', 'S4': 'eleven', 'corr': ' twelve', 'incorr': ' eleven', 'text': 'Nut lost in eight. Fan lost in nine. King lost in ten. Star lost in eleven. Eye lost in'}, {'S1': 'one', 'S2': 'two', 'S3': 'three', 'S4': 'four', 'corr': ' five', 'incorr': ' four', 'text': 'Ring lost in one. Arm lost in two. Rose lost in three. Moon lost in four. Nut lost in'}, {'S1': 'two', 'S2': 'three', 'S3': 'four', 'S4': 'five', 'corr': ' six', 'incorr': ' five', 'text': 'Wolf lost in two. Orange lost in three. Oil lost in four. Queen lost in five. Hat lost in'}, {'S1': 'three', 'S2': 'four', 'S3': 'five', 'S4': 'six', 'corr': ' seven', 'incorr': ' six', 'text': 'Rose lost in three. Nut lost in four. Train lost in five. Key lost in six. Hand lost in'}, {'S1': 'four', 'S2': 'five', 'S3': 'six', 'S4': 'seven', 'corr': ' eight', 'incorr': ' seven', 'text': 'Nut lost in four. Key lost in five. Rain lost in six. Moon lost in seven. Desk lost in'}, {'S1': 'five', 'S2': 'six', 'S3': 'seven', 'S4': 'eight', 'corr': ' nine', 'incorr': ' eight', 'text': 'Tree lost in five. Book lost in six. Rose lost in seven. Nut lost in eight. Train lost in'}, {'S1': 'six', 'S2': 'seven', 'S3': 'eight', 'S4': 'nine', 'corr': ' ten', 'incorr': ' nine', 'text': 'Fish lost in six. Camera lost in seven. Pear lost in eight. Wheel lost in nine. Snake lost in'}, {'S1': 'seven', 'S2': 'eight', 'S3': 'nine', 'S4': 'ten', 'corr': ' eleven', 'incorr': ' ten', 'text': 'House lost in seven. Gate lost in eight. Jar lost in nine. Apple lost in ten. Desk lost in'}, {'S1': 'eight', 'S2': 'nine', 'S3': 'ten', 'S4': 'eleven', 'corr': ' twelve', 'incorr': ' eleven', 'text': 'Hand lost in eight. Lake lost in nine. Ring lost in ten. Van lost in eleven. Snow lost in'}, {'S1': 'one', 'S2': 'two', 'S3': 'three', 'S4': 'four', 'corr': ' five', 'incorr': ' four', 'text': 'Lake lost in one. Flag lost in two. Bird lost in three. Window lost in four. Wallet lost in'}, {'S1': 'two', 'S2': 'three', 'S3': 'four', 'S4': 'five', 'corr': ' six', 'incorr': ' five', 'text': 'Queen lost in two. Bird lost in three. Dog lost in four. Table lost in five. Fan lost in'}, {'S1': 'three', 'S2': 'four', 'S3': 'five', 'S4': 'six', 'corr': ' seven', 'incorr': ' six', 'text': 'Jar lost in three. Dog lost in four. Tree lost in five. Gold lost in six. Clock lost in'}, {'S1': 'four', 'S2': 'five', 'S3': 'six', 'S4': 'seven', 'corr': ' eight', 'incorr': ' seven', 'text': 'Ice lost in four. Hat lost in five. Snake lost in six. Iron lost in seven. Rat lost in'}, {'S1': 'five', 'S2': 'six', 'S3': 'seven', 'S4': 'eight', 'corr': ' nine', 'incorr': ' eight', 'text': 'Mouse lost in five. Tree lost in six. Corn lost in seven. Cow lost in eight. Wolf lost in'}, {'S1': 'six', 'S2': 'seven', 'S3': 'eight', 'S4': 'nine', 'corr': ' ten', 'incorr': ' nine', 'text': 'Car lost in six. Iron lost in seven. Wind lost in eight. Window lost in nine. Gate lost in'}, {'S1': 'seven', 'S2': 'eight', 'S3': 'nine', 'S4': 'ten', 'corr': ' eleven', 'incorr': ' ten', 'text': 'Ball lost in seven. Fan lost in eight. Tree lost in nine. Ring lost in ten. Desk lost in'}, {'S1': 'eight', 'S2': 'nine', 'S3': 'ten', 'S4': 'eleven', 'corr': ' twelve', 'incorr': ' eleven', 'text': 'Map lost in eight. Watch lost in nine. Cat lost in ten. Ball lost in eleven. Ring lost in'}, {'S1': 'one', 'S2': 'two', 'S3': 'three', 'S4': 'four', 'corr': ' five', 'incorr': ' four', 'text': 'Fire lost in one. Van lost in two. Sand lost in three. Pen lost in four. Cat lost in'}, {'S1': 'two', 'S2': 'three', 'S3': 'four', 'S4': 'five', 'corr': ' six', 'incorr': ' five', 'text': 'Hat lost in two. Nut lost in three. Bird lost in four. Wallet lost in five. Chair lost in'}, {'S1': 'three', 'S2': 'four', 'S3': 'five', 'S4': 'six', 'corr': ' seven', 'incorr': ' six', 'text': 'Queen lost in three. King lost in four. Queen lost in five. Fire lost in six. Apple lost in'}, {'S1': 'four', 'S2': 'five', 'S3': 'six', 'S4': 'seven', 'corr': ' eight', 'incorr': ' seven', 'text': 'Gold lost in four. Tree lost in five. Wheel lost in six. Wolf lost in seven. Desk lost in'}, {'S1': 'five', 'S2': 'six', 'S3': 'seven', 'S4': 'eight', 'corr': ' nine', 'incorr': ' eight', 'text': 'Tree lost in five. Cat lost in six. Orange lost in seven. House lost in eight. Corn lost in'}, {'S1': 'six', 'S2': 'seven', 'S3': 'eight', 'S4': 'nine', 'corr': ' ten', 'incorr': ' nine', 'text': 'Orange lost in six. Tree lost in seven. Eye lost in eight. Moon lost in nine. Hill lost in'}, {'S1': 'seven', 'S2': 'eight', 'S3': 'nine', 'S4': 'ten', 'corr': ' eleven', 'incorr': ' ten', 'text': 'Ice lost in seven. Fan lost in eight. House lost in nine. Hill lost in ten. Clock lost in'}, {'S1': 'eight', 'S2': 'nine', 'S3': 'ten', 'S4': 'eleven', 'corr': ' twelve', 'incorr': ' eleven', 'text': 'Map lost in eight. Chair lost in nine. Star lost in ten. Van lost in eleven. Flag lost in'}, {'S1': 'one', 'S2': 'two', 'S3': 'three', 'S4': 'four', 'corr': ' five', 'incorr': ' four', 'text': 'Desk lost in one. Wallet lost in two. Ring lost in three. Rain lost in four. Fire lost in'}, {'S1': 'two', 'S2': 'three', 'S3': 'four', 'S4': 'five', 'corr': ' six', 'incorr': ' five', 'text': 'Box lost in two. Bug lost in three. Hand lost in four. Chair lost in five. Bird lost in'}, {'S1': 'three', 'S2': 'four', 'S3': 'five', 'S4': 'six', 'corr': ' seven', 'incorr': ' six', 'text': 'Wolf lost in three. Bug lost in four. Night lost in five. Ball lost in six. Mouse lost in'}, {'S1': 'four', 'S2': 'five', 'S3': 'six', 'S4': 'seven', 'corr': ' eight', 'incorr': ' seven', 'text': 'Iron lost in four. Car lost in five. Hill lost in six. Ear lost in seven. Road lost in'}, {'S1': 'five', 'S2': 'six', 'S3': 'seven', 'S4': 'eight', 'corr': ' nine', 'incorr': ' eight', 'text': 'Box lost in five. Eye lost in six. Hat lost in seven. House lost in eight. Window lost in'}, {'S1': 'six', 'S2': 'seven', 'S3': 'eight', 'S4': 'nine', 'corr': ' ten', 'incorr': ' nine', 'text': 'Ball lost in six. Camera lost in seven. Key lost in eight. Fan lost in nine. Van lost in'}, {'S1': 'seven', 'S2': 'eight', 'S3': 'nine', 'S4': 'ten', 'corr': ' eleven', 'incorr': ' ten', 'text': 'Van lost in seven. Snow lost in eight. Key lost in nine. Apple lost in ten. Clock lost in'}, {'S1': 'eight', 'S2': 'nine', 'S3': 'ten', 'S4': 'eleven', 'corr': ' twelve', 'incorr': ' eleven', 'text': 'Fan lost in eight. Orange lost in nine. King lost in ten. Hat lost in eleven. Fire lost in'}, {'S1': 'one', 'S2': 'two', 'S3': 'three', 'S4': 'four', 'corr': ' five', 'incorr': ' four', 'text': 'Cat lost in one. Gate lost in two. Glass lost in three. Arm lost in four. Dog lost in'}, {'S1': 'two', 'S2': 'three', 'S3': 'four', 'S4': 'five', 'corr': ' six', 'incorr': ' five', 'text': 'Queen lost in two. Orange lost in three. Rose lost in four. Tree lost in five. Rat lost in'}, {'S1': 'three', 'S2': 'four', 'S3': 'five', 'S4': 'six', 'corr': ' seven', 'incorr': ' six', 'text': 'Snow lost in three. Watch lost in four. Night lost in five. Ball lost in six. Ring lost in'}, {'S1': 'four', 'S2': 'five', 'S3': 'six', 'S4': 'seven', 'corr': ' eight', 'incorr': ' seven', 'text': 'Zip lost in four. Snow lost in five. Ball lost in six. Queen lost in seven. Tree lost in'}, {'S1': 'five', 'S2': 'six', 'S3': 'seven', 'S4': 'eight', 'corr': ' nine', 'incorr': ' eight', 'text': 'Window lost in five. Car lost in six. Watch lost in seven. Lake lost in eight. Ocean lost in'}, {'S1': 'six', 'S2': 'seven', 'S3': 'eight', 'S4': 'nine', 'corr': ' ten', 'incorr': ' nine', 'text': 'Rose lost in six. Hill lost in seven. Dog lost in eight. Desk lost in nine. Car lost in'}, {'S1': 'seven', 'S2': 'eight', 'S3': 'nine', 'S4': 'ten', 'corr': ' eleven', 'incorr': ' ten', 'text': 'Ice lost in seven. Nut lost in eight. Gate lost in nine. Apple lost in ten. Hat lost in'}, {'S1': 'eight', 'S2': 'nine', 'S3': 'ten', 'S4': 'eleven', 'corr': ' twelve', 'incorr': ' eleven', 'text': 'Rose lost in eight. Clock lost in nine. Train lost in ten. Apple lost in eleven. House lost in'}, {'S1': 'one', 'S2': 'two', 'S3': 'three', 'S4': 'four', 'corr': ' five', 'incorr': ' four', 'text': 'Apple lost in one. Tree lost in two. Glass lost in three. Mouse lost in four. Cow lost in'}, {'S1': 'two', 'S2': 'three', 'S3': 'four', 'S4': 'five', 'corr': ' six', 'incorr': ' five', 'text': 'Rat lost in two. Ring lost in three. Tree lost in four. Jam lost in five. Ball lost in'}, {'S1': 'three', 'S2': 'four', 'S3': 'five', 'S4': 'six', 'corr': ' seven', 'incorr': ' six', 'text': 'Apple lost in three. Table lost in four. Train lost in five. Van lost in six. Lake lost in'}, {'S1': 'four', 'S2': 'five', 'S3': 'six', 'S4': 'seven', 'corr': ' eight', 'incorr': ' seven', 'text': 'Ocean lost in four. Ax lost in five. Window lost in six. Orange lost in seven. Orange lost in'}, {'S1': 'five', 'S2': 'six', 'S3': 'seven', 'S4': 'eight', 'corr': ' nine', 'incorr': ' eight', 'text': 'Car lost in five. Snake lost in six. Rat lost in seven. Ear lost in eight. Pen lost in'}, {'S1': 'six', 'S2': 'seven', 'S3': 'eight', 'S4': 'nine', 'corr': ' ten', 'incorr': ' nine', 'text': 'Hat lost in six. Zip lost in seven. Oil lost in eight. Train lost in nine. Fire lost in'}, {'S1': 'seven', 'S2': 'eight', 'S3': 'nine', 'S4': 'ten', 'corr': ' eleven', 'incorr': ' ten', 'text': 'Zip lost in seven. Flag lost in eight. Ocean lost in nine. Night lost in ten. Wheel lost in'}, {'S1': 'eight', 'S2': 'nine', 'S3': 'ten', 'S4': 'eleven', 'corr': ' twelve', 'incorr': ' eleven', 'text': 'Rose lost in eight. Arm lost in nine. Dog lost in ten. Star lost in eleven. Hand lost in'}, {'S1': 'one', 'S2': 'two', 'S3': 'three', 'S4': 'four', 'corr': ' five', 'incorr': ' four', 'text': 'Year lost in one. Star lost in two. Ant lost in three. Ring lost in four. Desk lost in'}, {'S1': 'two', 'S2': 'three', 'S3': 'four', 'S4': 'five', 'corr': ' six', 'incorr': ' five', 'text': 'Wallet lost in two. Mouse lost in three. Ball lost in four. Wheel lost in five. Apple lost in'}, {'S1': 'three', 'S2': 'four', 'S3': 'five', 'S4': 'six', 'corr': ' seven', 'incorr': ' six', 'text': 'Map lost in three. Oil lost in four. Tree lost in five. Watch lost in six. Ear lost in'}, {'S1': 'four', 'S2': 'five', 'S3': 'six', 'S4': 'seven', 'corr': ' eight', 'incorr': ' seven', 'text': 'Ice lost in four. Hat lost in five. Queen lost in six. Camera lost in seven. Watch lost in'}, {'S1': 'five', 'S2': 'six', 'S3': 'seven', 'S4': 'eight', 'corr': ' nine', 'incorr': ' eight', 'text': 'Key lost in five. Car lost in six. Star lost in seven. Sun lost in eight. Camera lost in'}, {'S1': 'six', 'S2': 'seven', 'S3': 'eight', 'S4': 'nine', 'corr': ' ten', 'incorr': ' nine', 'text': 'Hill lost in six. Eye lost in seven. Flag lost in eight. Desk lost in nine. Cat lost in'}, {'S1': 'seven', 'S2': 'eight', 'S3': 'nine', 'S4': 'ten', 'corr': ' eleven', 'incorr': ' ten', 'text': 'Sand lost in seven. Nut lost in eight. Glass lost in nine. Window lost in ten. Light lost in'}, {'S1': 'eight', 'S2': 'nine', 'S3': 'ten', 'S4': 'eleven', 'corr': ' twelve', 'incorr': ' eleven', 'text': 'Ice lost in eight. Cow lost in nine. Ring lost in ten. Gold lost in eleven. Cat lost in'}, {'S1': 'one', 'S2': 'two', 'S3': 'three', 'S4': 'four', 'corr': ' five', 'incorr': ' four', 'text': 'Ring lost in one. Bird lost in two. Rose lost in three. Snow lost in four. Iron lost in'}, {'S1': 'two', 'S2': 'three', 'S3': 'four', 'S4': 'five', 'corr': ' six', 'incorr': ' five', 'text': 'Fire lost in two. Sand lost in three. Ice lost in four. Rat lost in five. Snow lost in'}, {'S1': 'three', 'S2': 'four', 'S3': 'five', 'S4': 'six', 'corr': ' seven', 'incorr': ' six', 'text': 'Ear lost in three. Van lost in four. Wolf lost in five. House lost in six. Lake lost in'}, {'S1': 'four', 'S2': 'five', 'S3': 'six', 'S4': 'seven', 'corr': ' eight', 'incorr': ' seven', 'text': 'Apple lost in four. Iron lost in five. Zip lost in six. Nut lost in seven. Cat lost in'}, {'S1': 'five', 'S2': 'six', 'S3': 'seven', 'S4': 'eight', 'corr': ' nine', 'incorr': ' eight', 'text': 'Tree lost in five. Ball lost in six. Star lost in seven. Fan lost in eight. Tree lost in'}, {'S1': 'six', 'S2': 'seven', 'S3': 'eight', 'S4': 'nine', 'corr': ' ten', 'incorr': ' nine', 'text': 'Ear lost in six. Ring lost in seven. Key lost in eight. Desk lost in nine. Arm lost in'}, {'S1': 'seven', 'S2': 'eight', 'S3': 'nine', 'S4': 'ten', 'corr': ' eleven', 'incorr': ' ten', 'text': 'Bird lost in seven. King lost in eight. Tree lost in nine. Clock lost in ten. Cat lost in'}, {'S1': 'eight', 'S2': 'nine', 'S3': 'ten', 'S4': 'eleven', 'corr': ' twelve', 'incorr': ' eleven', 'text': 'Table lost in eight. Hat lost in nine. Desk lost in ten. Fan lost in eleven. Corn lost in'}, {'S1': 'one', 'S2': 'two', 'S3': 'three', 'S4': 'four', 'corr': ' five', 'incorr': ' four', 'text': 'Camera lost in one. Ring lost in two. Ball lost in three. Zip lost in four. Ring lost in'}, {'S1': 'two', 'S2': 'three', 'S3': 'four', 'S4': 'five', 'corr': ' six', 'incorr': ' five', 'text': 'Tree lost in two. Rose lost in three. Fan lost in four. Bird lost in five. Key lost in'}, {'S1': 'three', 'S2': 'four', 'S3': 'five', 'S4': 'six', 'corr': ' seven', 'incorr': ' six', 'text': 'Glass lost in three. Queen lost in four. Ant lost in five. Wall lost in six. Cow lost in'}, {'S1': 'four', 'S2': 'five', 'S3': 'six', 'S4': 'seven', 'corr': ' eight', 'incorr': ' seven', 'text': 'Rat lost in four. Apple lost in five. Hand lost in six. Fish lost in seven. Tree lost in'}, {'S1': 'five', 'S2': 'six', 'S3': 'seven', 'S4': 'eight', 'corr': ' nine', 'incorr': ' eight', 'text': 'Sun lost in five. Key lost in six. Clock lost in seven. Desk lost in eight. Hat lost in'}, {'S1': 'six', 'S2': 'seven', 'S3': 'eight', 'S4': 'nine', 'corr': ' ten', 'incorr': ' nine', 'text': 'Desk lost in six. Ring lost in seven. Key lost in eight. Rose lost in nine. Bird lost in'}, {'S1': 'seven', 'S2': 'eight', 'S3': 'nine', 'S4': 'ten', 'corr': ' eleven', 'incorr': ' ten', 'text': 'Clock lost in seven. Fan lost in eight. Queen lost in nine. Gate lost in ten. Sand lost in'}, {'S1': 'eight', 'S2': 'nine', 'S3': 'ten', 'S4': 'eleven', 'corr': ' twelve', 'incorr': ' eleven', 'text': 'Key lost in eight. Corn lost in nine. Nut lost in ten. Ring lost in eleven. Window lost in'}, {'S1': 'one', 'S2': 'two', 'S3': 'three', 'S4': 'four', 'corr': ' five', 'incorr': ' four', 'text': 'Sand lost in one. Desk lost in two. Desk lost in three. Wheel lost in four. Apple lost in'}, {'S1': 'two', 'S2': 'three', 'S3': 'four', 'S4': 'five', 'corr': ' six', 'incorr': ' five', 'text': 'Window lost in two. Rose lost in three. Jam lost in four. Sand lost in five. Ball lost in'}, {'S1': 'three', 'S2': 'four', 'S3': 'five', 'S4': 'six', 'corr': ' seven', 'incorr': ' six', 'text': 'Light lost in three. Dog lost in four. Ball lost in five. Moon lost in six. Window lost in'}, {'S1': 'four', 'S2': 'five', 'S3': 'six', 'S4': 'seven', 'corr': ' eight', 'incorr': ' seven', 'text': 'Rat lost in four. Hand lost in five. Tree lost in six. Oil lost in seven. Desk lost in'}, {'S1': 'five', 'S2': 'six', 'S3': 'seven', 'S4': 'eight', 'corr': ' nine', 'incorr': ' eight', 'text': 'Road lost in five. Bird lost in six. Tree lost in seven. Rose lost in eight. Bug lost in'}, {'S1': 'six', 'S2': 'seven', 'S3': 'eight', 'S4': 'nine', 'corr': ' ten', 'incorr': ' nine', 'text': 'Gold lost in six. Corn lost in seven. Queen lost in eight. Pear lost in nine. Map lost in'}, {'S1': 'seven', 'S2': 'eight', 'S3': 'nine', 'S4': 'ten', 'corr': ' eleven', 'incorr': ' ten', 'text': 'Snake lost in seven. Gate lost in eight. Fan lost in nine. Zip lost in ten. Wind lost in'}, {'S1': 'eight', 'S2': 'nine', 'S3': 'ten', 'S4': 'eleven', 'corr': ' twelve', 'incorr': ' eleven', 'text': 'House lost in eight. Wall lost in nine. Corn lost in ten. Ocean lost in eleven. Wheel lost in'}, {'S1': 'one', 'S2': 'two', 'S3': 'three', 'S4': 'four', 'corr': ' five', 'incorr': ' four', 'text': 'Rain lost in one. Light lost in two. Queen lost in three. Watch lost in four. Jar lost in'}, {'S1': 'two', 'S2': 'three', 'S3': 'four', 'S4': 'five', 'corr': ' six', 'incorr': ' five', 'text': 'Tree lost in two. Snake lost in three. Year lost in four. Ice lost in five. Gate lost in'}, {'S1': 'three', 'S2': 'four', 'S3': 'five', 'S4': 'six', 'corr': ' seven', 'incorr': ' six', 'text': 'Car lost in three. Snake lost in four. Nut lost in five. Hand lost in six. Apple lost in'}, {'S1': 'four', 'S2': 'five', 'S3': 'six', 'S4': 'seven', 'corr': ' eight', 'incorr': ' seven', 'text': 'Bird lost in four. Fish lost in five. Ax lost in six. Watch lost in seven. Sun lost in'}, {'S1': 'five', 'S2': 'six', 'S3': 'seven', 'S4': 'eight', 'corr': ' nine', 'incorr': ' eight', 'text': 'Hat lost in five. Ocean lost in six. Gate lost in seven. Clock lost in eight. Rat lost in'}, {'S1': 'six', 'S2': 'seven', 'S3': 'eight', 'S4': 'nine', 'corr': ' ten', 'incorr': ' nine', 'text': 'Dog lost in six. Apple lost in seven. Tree lost in eight. Fan lost in nine. Hill lost in'}, {'S1': 'seven', 'S2': 'eight', 'S3': 'nine', 'S4': 'ten', 'corr': ' eleven', 'incorr': ' ten', 'text': 'Car lost in seven. Desk lost in eight. Rose lost in nine. Wheel lost in ten. Wallet lost in'}, {'S1': 'eight', 'S2': 'nine', 'S3': 'ten', 'S4': 'eleven', 'corr': ' twelve', 'incorr': ' eleven', 'text': 'Queen lost in eight. Lake lost in nine. Moon lost in ten. Nut lost in eleven. Night lost in'}, {'S1': 'one', 'S2': 'two', 'S3': 'three', 'S4': 'four', 'corr': ' five', 'incorr': ' four', 'text': 'Pen lost in one. House lost in two. Fan lost in three. Snake lost in four. Road lost in'}, {'S1': 'two', 'S2': 'three', 'S3': 'four', 'S4': 'five', 'corr': ' six', 'incorr': ' five', 'text': 'Orange lost in two. Hat lost in three. Book lost in four. Sun lost in five. Iron lost in'}, {'S1': 'three', 'S2': 'four', 'S3': 'five', 'S4': 'six', 'corr': ' seven', 'incorr': ' six', 'text': 'Camera lost in three. Map lost in four. Ring lost in five. Nut lost in six. Key lost in'}, {'S1': 'four', 'S2': 'five', 'S3': 'six', 'S4': 'seven', 'corr': ' eight', 'incorr': ' seven', 'text': 'Bird lost in four. Light lost in five. Van lost in six. Ball lost in seven. Window lost in'}, {'S1': 'five', 'S2': 'six', 'S3': 'seven', 'S4': 'eight', 'corr': ' nine', 'incorr': ' eight', 'text': 'Ice lost in five. Fish lost in six. Queen lost in seven. Oil lost in eight. House lost in'}, {'S1': 'six', 'S2': 'seven', 'S3': 'eight', 'S4': 'nine', 'corr': ' ten', 'incorr': ' nine', 'text': 'Dog lost in six. Chair lost in seven. Flag lost in eight. Apple lost in nine. Queen lost in'}, {'S1': 'seven', 'S2': 'eight', 'S3': 'nine', 'S4': 'ten', 'corr': ' eleven', 'incorr': ' ten', 'text': 'Key lost in seven. Wall lost in eight. Camera lost in nine. Bird lost in ten. Rose lost in'}, {'S1': 'eight', 'S2': 'nine', 'S3': 'ten', 'S4': 'eleven', 'corr': ' twelve', 'incorr': ' eleven', 'text': 'Snake lost in eight. Road lost in nine. Bird lost in ten. Cow lost in eleven. Ring lost in'}, {'S1': 'one', 'S2': 'two', 'S3': 'three', 'S4': 'four', 'corr': ' five', 'incorr': ' four', 'text': 'Tree lost in one. Clock lost in two. Arm lost in three. Cow lost in four. Fan lost in'}, {'S1': 'two', 'S2': 'three', 'S3': 'four', 'S4': 'five', 'corr': ' six', 'incorr': ' five', 'text': 'Queen lost in two. Watch lost in three. Car lost in four. Iron lost in five. Key lost in'}, {'S1': 'three', 'S2': 'four', 'S3': 'five', 'S4': 'six', 'corr': ' seven', 'incorr': ' six', 'text': 'Map lost in three. Road lost in four. Rose lost in five. Rat lost in six. Wallet lost in'}, {'S1': 'four', 'S2': 'five', 'S3': 'six', 'S4': 'seven', 'corr': ' eight', 'incorr': ' seven', 'text': 'Desk lost in four. Wallet lost in five. Ax lost in six. Ice lost in seven. Arm lost in'}, {'S1': 'five', 'S2': 'six', 'S3': 'seven', 'S4': 'eight', 'corr': ' nine', 'incorr': ' eight', 'text': 'Desk lost in five. Watch lost in six. Snow lost in seven. Star lost in eight. Fan lost in'}, {'S1': 'six', 'S2': 'seven', 'S3': 'eight', 'S4': 'nine', 'corr': ' ten', 'incorr': ' nine', 'text': 'Watch lost in six. Nut lost in seven. Flag lost in eight. Hand lost in nine. Wheel lost in'}, {'S1': 'seven', 'S2': 'eight', 'S3': 'nine', 'S4': 'ten', 'corr': ' eleven', 'incorr': ' ten', 'text': 'Tree lost in seven. Key lost in eight. Key lost in nine. Eye lost in ten. Year lost in'}, {'S1': 'eight', 'S2': 'nine', 'S3': 'ten', 'S4': 'eleven', 'corr': ' twelve', 'incorr': ' eleven', 'text': 'Rain lost in eight. Wheel lost in nine. Book lost in ten. Table lost in eleven. Corn lost in'}, {'S1': 'one', 'S2': 'two', 'S3': 'three', 'S4': 'four', 'corr': ' five', 'incorr': ' four', 'text': 'Box lost in one. Queen lost in two. Ant lost in three. Fan lost in four. Ring lost in'}, {'S1': 'two', 'S2': 'three', 'S3': 'four', 'S4': 'five', 'corr': ' six', 'incorr': ' five', 'text': 'Sun lost in two. Fire lost in three. Nut lost in four. Corn lost in five. Cat lost in'}, {'S1': 'three', 'S2': 'four', 'S3': 'five', 'S4': 'six', 'corr': ' seven', 'incorr': ' six', 'text': 'Table lost in three. Desk lost in four. Fan lost in five. Arm lost in six. Oil lost in'}, {'S1': 'four', 'S2': 'five', 'S3': 'six', 'S4': 'seven', 'corr': ' eight', 'incorr': ' seven', 'text': 'Tree lost in four. Table lost in five. Night lost in six. Box lost in seven. Eye lost in'}, {'S1': 'five', 'S2': 'six', 'S3': 'seven', 'S4': 'eight', 'corr': ' nine', 'incorr': ' eight', 'text': 'Arm lost in five. Map lost in six. Wheel lost in seven. Rose lost in eight. Light lost in'}, {'S1': 'six', 'S2': 'seven', 'S3': 'eight', 'S4': 'nine', 'corr': ' ten', 'incorr': ' nine', 'text': 'Wolf lost in six. Camera lost in seven. Arm lost in eight. Desk lost in nine. Ring lost in'}, {'S1': 'seven', 'S2': 'eight', 'S3': 'nine', 'S4': 'ten', 'corr': ' eleven', 'incorr': ' ten', 'text': 'Fan lost in seven. Window lost in eight. Chair lost in nine. Window lost in ten. Sand lost in'}, {'S1': 'eight', 'S2': 'nine', 'S3': 'ten', 'S4': 'eleven', 'corr': ' twelve', 'incorr': ' eleven', 'text': 'Watch lost in eight. Box lost in nine. Desk lost in ten. Key lost in eleven. Wheel lost in'}, {'S1': 'one', 'S2': 'two', 'S3': 'three', 'S4': 'four', 'corr': ' five', 'incorr': ' four', 'text': 'Oil lost in one. Wallet lost in two. Queen lost in three. Ring lost in four. Orange lost in'}, {'S1': 'two', 'S2': 'three', 'S3': 'four', 'S4': 'five', 'corr': ' six', 'incorr': ' five', 'text': 'Flag lost in two. Map lost in three. Sun lost in four. Watch lost in five. Year lost in'}, {'S1': 'three', 'S2': 'four', 'S3': 'five', 'S4': 'six', 'corr': ' seven', 'incorr': ' six', 'text': 'Key lost in three. Iron lost in four. Camera lost in five. Orange lost in six. Tree lost in'}, {'S1': 'four', 'S2': 'five', 'S3': 'six', 'S4': 'seven', 'corr': ' eight', 'incorr': ' seven', 'text': 'Fan lost in four. Flag lost in five. Key lost in six. House lost in seven. Arm lost in'}, {'S1': 'five', 'S2': 'six', 'S3': 'seven', 'S4': 'eight', 'corr': ' nine', 'incorr': ' eight', 'text': 'Wind lost in five. House lost in six. Ball lost in seven. Lake lost in eight. Chair lost in'}, {'S1': 'six', 'S2': 'seven', 'S3': 'eight', 'S4': 'nine', 'corr': ' ten', 'incorr': ' nine', 'text': 'Ear lost in six. Car lost in seven. Desk lost in eight. Star lost in nine. Apple lost in'}, {'S1': 'seven', 'S2': 'eight', 'S3': 'nine', 'S4': 'ten', 'corr': ' eleven', 'incorr': ' ten', 'text': 'Tree lost in seven. Iron lost in eight. Tree lost in nine. Rat lost in ten. Camera lost in'}, {'S1': 'eight', 'S2': 'nine', 'S3': 'ten', 'S4': 'eleven', 'corr': ' twelve', 'incorr': ' eleven', 'text': 'Watch lost in eight. Gate lost in nine. House lost in ten. Apple lost in eleven. Road lost in'}, {'S1': 'one', 'S2': 'two', 'S3': 'three', 'S4': 'four', 'corr': ' five', 'incorr': ' four', 'text': 'Map lost in one. Ball lost in two. Lake lost in three. Cow lost in four. Year lost in'}, {'S1': 'two', 'S2': 'three', 'S3': 'four', 'S4': 'five', 'corr': ' six', 'incorr': ' five', 'text': 'Wallet lost in two. Fan lost in three. Book lost in four. Bug lost in five. Oil lost in'}, {'S1': 'three', 'S2': 'four', 'S3': 'five', 'S4': 'six', 'corr': ' seven', 'incorr': ' six', 'text': 'Road lost in three. King lost in four. Bug lost in five. Wallet lost in six. Rat lost in'}, {'S1': 'four', 'S2': 'five', 'S3': 'six', 'S4': 'seven', 'corr': ' eight', 'incorr': ' seven', 'text': 'Box lost in four. Key lost in five. Key lost in six. House lost in seven. Bug lost in'}, {'S1': 'five', 'S2': 'six', 'S3': 'seven', 'S4': 'eight', 'corr': ' nine', 'incorr': ' eight', 'text': 'Wind lost in five. Snake lost in six. Book lost in seven. Apple lost in eight. Gold lost in'}, {'S1': 'six', 'S2': 'seven', 'S3': 'eight', 'S4': 'nine', 'corr': ' ten', 'incorr': ' nine', 'text': 'Ball lost in six. Fan lost in seven. Fan lost in eight. Ring lost in nine. Lake lost in'}, {'S1': 'seven', 'S2': 'eight', 'S3': 'nine', 'S4': 'ten', 'corr': ' eleven', 'incorr': ' ten', 'text': 'Orange lost in seven. Fish lost in eight. Hat lost in nine. Ball lost in ten. Watch lost in'}, {'S1': 'eight', 'S2': 'nine', 'S3': 'ten', 'S4': 'eleven', 'corr': ' twelve', 'incorr': ' eleven', 'text': 'Car lost in eight. Key lost in nine. Book lost in ten. Light lost in eleven. Rat lost in'}, {'S1': 'one', 'S2': 'two', 'S3': 'three', 'S4': 'four', 'corr': ' five', 'incorr': ' four', 'text': 'Wind lost in one. Orange lost in two. Ant lost in three. Apple lost in four. Jam lost in'}, {'S1': 'two', 'S2': 'three', 'S3': 'four', 'S4': 'five', 'corr': ' six', 'incorr': ' five', 'text': 'Star lost in two. Van lost in three. Flag lost in four. Nut lost in five. Ring lost in'}, {'S1': 'three', 'S2': 'four', 'S3': 'five', 'S4': 'six', 'corr': ' seven', 'incorr': ' six', 'text': 'Desk lost in three. Apple lost in four. Mouse lost in five. Map lost in six. Wolf lost in'}, {'S1': 'four', 'S2': 'five', 'S3': 'six', 'S4': 'seven', 'corr': ' eight', 'incorr': ' seven', 'text': 'Ant lost in four. Van lost in five. Ball lost in six. Table lost in seven. Mouse lost in'}, {'S1': 'five', 'S2': 'six', 'S3': 'seven', 'S4': 'eight', 'corr': ' nine', 'incorr': ' eight', 'text': 'Snake lost in five. Apple lost in six. Ring lost in seven. Bird lost in eight. Zip lost in'}, {'S1': 'six', 'S2': 'seven', 'S3': 'eight', 'S4': 'nine', 'corr': ' ten', 'incorr': ' nine', 'text': 'Wall lost in six. Queen lost in seven. Gold lost in eight. Flag lost in nine. Ball lost in'}, {'S1': 'seven', 'S2': 'eight', 'S3': 'nine', 'S4': 'ten', 'corr': ' eleven', 'incorr': ' ten', 'text': 'Tree lost in seven. Desk lost in eight. Star lost in nine. Ring lost in ten. Van lost in'}, {'S1': 'eight', 'S2': 'nine', 'S3': 'ten', 'S4': 'eleven', 'corr': ' twelve', 'incorr': ' eleven', 'text': 'Cow lost in eight. Flag lost in nine. Eye lost in ten. Fan lost in eleven. Cat lost in'}, {'S1': 'one', 'S2': 'two', 'S3': 'three', 'S4': 'four', 'corr': ' five', 'incorr': ' four', 'text': 'Box lost in one. Hand lost in two. Star lost in three. Eye lost in four. Hat lost in'}, {'S1': 'two', 'S2': 'three', 'S3': 'four', 'S4': 'five', 'corr': ' six', 'incorr': ' five', 'text': 'Corn lost in two. Road lost in three. Camera lost in four. King lost in five. Hand lost in'}, {'S1': 'three', 'S2': 'four', 'S3': 'five', 'S4': 'six', 'corr': ' seven', 'incorr': ' six', 'text': 'Watch lost in three. Apple lost in four. Fish lost in five. Tree lost in six. Hill lost in'}, {'S1': 'four', 'S2': 'five', 'S3': 'six', 'S4': 'seven', 'corr': ' eight', 'incorr': ' seven', 'text': 'House lost in four. Fan lost in five. House lost in six. Orange lost in seven. Zip lost in'}, {'S1': 'five', 'S2': 'six', 'S3': 'seven', 'S4': 'eight', 'corr': ' nine', 'incorr': ' eight', 'text': 'Ring lost in five. Van lost in six. Bug lost in seven. Window lost in eight. Road lost in'}, {'S1': 'six', 'S2': 'seven', 'S3': 'eight', 'S4': 'nine', 'corr': ' ten', 'incorr': ' nine', 'text': 'Moon lost in six. Gate lost in seven. Train lost in eight. Fan lost in nine. Bird lost in'}, {'S1': 'seven', 'S2': 'eight', 'S3': 'nine', 'S4': 'ten', 'corr': ' eleven', 'incorr': ' ten', 'text': 'Orange lost in seven. Nut lost in eight. Wheel lost in nine. King lost in ten. Lake lost in'}, {'S1': 'eight', 'S2': 'nine', 'S3': 'ten', 'S4': 'eleven', 'corr': ' twelve', 'incorr': ' eleven', 'text': 'Corn lost in eight. Moon lost in nine. Night lost in ten. Mouse lost in eleven. Key lost in'}, {'S1': 'one', 'S2': 'two', 'S3': 'three', 'S4': 'four', 'corr': ' five', 'incorr': ' four', 'text': 'Iron lost in one. Watch lost in two. Eye lost in three. Orange lost in four. Wallet lost in'}, {'S1': 'two', 'S2': 'three', 'S3': 'four', 'S4': 'five', 'corr': ' six', 'incorr': ' five', 'text': 'Nut lost in two. Flag lost in three. Oil lost in four. Tree lost in five. Watch lost in'}, {'S1': 'three', 'S2': 'four', 'S3': 'five', 'S4': 'six', 'corr': ' seven', 'incorr': ' six', 'text': 'Fan lost in three. Book lost in four. Ear lost in five. Van lost in six. Wheel lost in'}, {'S1': 'four', 'S2': 'five', 'S3': 'six', 'S4': 'seven', 'corr': ' eight', 'incorr': ' seven', 'text': 'Jar lost in four. Fan lost in five. Queen lost in six. Ball lost in seven. Gate lost in'}, {'S1': 'five', 'S2': 'six', 'S3': 'seven', 'S4': 'eight', 'corr': ' nine', 'incorr': ' eight', 'text': 'Window lost in five. Dog lost in six. Orange lost in seven. Window lost in eight. Bird lost in'}, {'S1': 'six', 'S2': 'seven', 'S3': 'eight', 'S4': 'nine', 'corr': ' ten', 'incorr': ' nine', 'text': 'Lake lost in six. House lost in seven. Dog lost in eight. Window lost in nine. Nut lost in'}, {'S1': 'seven', 'S2': 'eight', 'S3': 'nine', 'S4': 'ten', 'corr': ' eleven', 'incorr': ' ten', 'text': 'Wall lost in seven. Wolf lost in eight. Corn lost in nine. Book lost in ten. Ice lost in'}, {'S1': 'eight', 'S2': 'nine', 'S3': 'ten', 'S4': 'eleven', 'corr': ' twelve', 'incorr': ' eleven', 'text': 'Snake lost in eight. Ant lost in nine. Fan lost in ten. Iron lost in eleven. Tree lost in'}, {'S1': 'one', 'S2': 'two', 'S3': 'three', 'S4': 'four', 'corr': ' five', 'incorr': ' four', 'text': 'Cat lost in one. Desk lost in two. Key lost in three. Fan lost in four. Bird lost in'}, {'S1': 'two', 'S2': 'three', 'S3': 'four', 'S4': 'five', 'corr': ' six', 'incorr': ' five', 'text': 'King lost in two. Camera lost in three. Orange lost in four. Camera lost in five. Lake lost in'}, {'S1': 'three', 'S2': 'four', 'S3': 'five', 'S4': 'six', 'corr': ' seven', 'incorr': ' six', 'text': 'Ball lost in three. Fan lost in four. Nut lost in five. Desk lost in six. Lake lost in'}, {'S1': 'four', 'S2': 'five', 'S3': 'six', 'S4': 'seven', 'corr': ' eight', 'incorr': ' seven', 'text': 'Tree lost in four. Hand lost in five. Cow lost in six. Sun lost in seven. Book lost in'}, {'S1': 'five', 'S2': 'six', 'S3': 'seven', 'S4': 'eight', 'corr': ' nine', 'incorr': ' eight', 'text': 'Camera lost in five. Hand lost in six. Pear lost in seven. Ax lost in eight. Ice lost in'}, {'S1': 'six', 'S2': 'seven', 'S3': 'eight', 'S4': 'nine', 'corr': ' ten', 'incorr': ' nine', 'text': 'Orange lost in six. Ball lost in seven. Fan lost in eight. Pear lost in nine. Table lost in'}, {'S1': 'seven', 'S2': 'eight', 'S3': 'nine', 'S4': 'ten', 'corr': ' eleven', 'incorr': ' ten', 'text': 'Fan lost in seven. Car lost in eight. Hand lost in nine. Glass lost in ten. Moon lost in'}, {'S1': 'eight', 'S2': 'nine', 'S3': 'ten', 'S4': 'eleven', 'corr': ' twelve', 'incorr': ' eleven', 'text': 'Watch lost in eight. Cat lost in nine. Fan lost in ten. Rat lost in eleven. Bug lost in'}, {'S1': 'one', 'S2': 'two', 'S3': 'three', 'S4': 'four', 'corr': ' five', 'incorr': ' four', 'text': 'Corn lost in one. Camera lost in two. Flag lost in three. Desk lost in four. Ice lost in'}, {'S1': 'two', 'S2': 'three', 'S3': 'four', 'S4': 'five', 'corr': ' six', 'incorr': ' five', 'text': 'Ax lost in two. Rose lost in three. Wind lost in four. Apple lost in five. Wallet lost in'}, {'S1': 'three', 'S2': 'four', 'S3': 'five', 'S4': 'six', 'corr': ' seven', 'incorr': ' six', 'text': 'Pen lost in three. Car lost in four. Hat lost in five. Cat lost in six. Zip lost in'}, {'S1': 'four', 'S2': 'five', 'S3': 'six', 'S4': 'seven', 'corr': ' eight', 'incorr': ' seven', 'text': 'Tree lost in four. Cat lost in five. Pear lost in six. Window lost in seven. Map lost in'}, {'S1': 'five', 'S2': 'six', 'S3': 'seven', 'S4': 'eight', 'corr': ' nine', 'incorr': ' eight', 'text': 'Van lost in five. Dog lost in six. Gate lost in seven. Ring lost in eight. Wallet lost in'}, {'S1': 'six', 'S2': 'seven', 'S3': 'eight', 'S4': 'nine', 'corr': ' ten', 'incorr': ' nine', 'text': 'Tree lost in six. Fire lost in seven. Mouse lost in eight. Watch lost in nine. Star lost in'}, {'S1': 'seven', 'S2': 'eight', 'S3': 'nine', 'S4': 'ten', 'corr': ' eleven', 'incorr': ' ten', 'text': 'Lake lost in seven. Van lost in eight. Wheel lost in nine. Book lost in ten. Road lost in'}, {'S1': 'eight', 'S2': 'nine', 'S3': 'ten', 'S4': 'eleven', 'corr': ' twelve', 'incorr': ' eleven', 'text': 'Window lost in eight. Gold lost in nine. Van lost in ten. Ear lost in eleven. Cat lost in'}, {'S1': 'one', 'S2': 'two', 'S3': 'three', 'S4': 'four', 'corr': ' five', 'incorr': ' four', 'text': 'Flag lost in one. Fire lost in two. Ring lost in three. Ball lost in four. Bird lost in'}, {'S1': 'two', 'S2': 'three', 'S3': 'four', 'S4': 'five', 'corr': ' six', 'incorr': ' five', 'text': 'Map lost in two. Ring lost in three. Cow lost in four. Ring lost in five. Orange lost in'}, {'S1': 'three', 'S2': 'four', 'S3': 'five', 'S4': 'six', 'corr': ' seven', 'incorr': ' six', 'text': 'Tree lost in three. Pear lost in four. Car lost in five. Corn lost in six. Wheel lost in'}, {'S1': 'four', 'S2': 'five', 'S3': 'six', 'S4': 'seven', 'corr': ' eight', 'incorr': ' seven', 'text': 'Ring lost in four. Fan lost in five. Snow lost in six. Rose lost in seven. Window lost in'}, {'S1': 'five', 'S2': 'six', 'S3': 'seven', 'S4': 'eight', 'corr': ' nine', 'incorr': ' eight', 'text': 'Desk lost in five. Light lost in six. Corn lost in seven. Eye lost in eight. Cow lost in'}, {'S1': 'six', 'S2': 'seven', 'S3': 'eight', 'S4': 'nine', 'corr': ' ten', 'incorr': ' nine', 'text': 'Tree lost in six. Ring lost in seven. Road lost in eight. Pear lost in nine. Flag lost in'}, {'S1': 'seven', 'S2': 'eight', 'S3': 'nine', 'S4': 'ten', 'corr': ' eleven', 'incorr': ' ten', 'text': 'Eye lost in seven. Desk lost in eight. Apple lost in nine. Queen lost in ten. Ring lost in'}, {'S1': 'eight', 'S2': 'nine', 'S3': 'ten', 'S4': 'eleven', 'corr': ' twelve', 'incorr': ' eleven', 'text': 'House lost in eight. Jam lost in nine. Hill lost in ten. Ear lost in eleven. Box lost in'}, {'S1': 'one', 'S2': 'two', 'S3': 'three', 'S4': 'four', 'corr': ' five', 'incorr': ' four', 'text': 'Hat lost in one. Moon lost in two. Map lost in three. Flag lost in four. Tree lost in'}, {'S1': 'two', 'S2': 'three', 'S3': 'four', 'S4': 'five', 'corr': ' six', 'incorr': ' five', 'text': 'Dog lost in two. Jar lost in three. Snow lost in four. Window lost in five. Rat lost in'}, {'S1': 'three', 'S2': 'four', 'S3': 'five', 'S4': 'six', 'corr': ' seven', 'incorr': ' six', 'text': 'Key lost in three. Dog lost in four. Ocean lost in five. Fish lost in six. Ice lost in'}, {'S1': 'four', 'S2': 'five', 'S3': 'six', 'S4': 'seven', 'corr': ' eight', 'incorr': ' seven', 'text': 'Watch lost in four. Sand lost in five. Flag lost in six. Ax lost in seven. House lost in'}, {'S1': 'five', 'S2': 'six', 'S3': 'seven', 'S4': 'eight', 'corr': ' nine', 'incorr': ' eight', 'text': 'Queen lost in five. Desk lost in six. Fire lost in seven. Jar lost in eight. Cat lost in'}, {'S1': 'six', 'S2': 'seven', 'S3': 'eight', 'S4': 'nine', 'corr': ' ten', 'incorr': ' nine', 'text': 'Sand lost in six. Orange lost in seven. Nut lost in eight. Window lost in nine. Fan lost in'}, {'S1': 'seven', 'S2': 'eight', 'S3': 'nine', 'S4': 'ten', 'corr': ' eleven', 'incorr': ' ten', 'text': 'Tree lost in seven. Ear lost in eight. Window lost in nine. Ocean lost in ten. Key lost in'}, {'S1': 'eight', 'S2': 'nine', 'S3': 'ten', 'S4': 'eleven', 'corr': ' twelve', 'incorr': ' eleven', 'text': 'Eye lost in eight. Star lost in nine. Orange lost in ten. Car lost in eleven. Ax lost in'}, {'S1': 'one', 'S2': 'two', 'S3': 'three', 'S4': 'four', 'corr': ' five', 'incorr': ' four', 'text': 'Tree lost in one. Snow lost in two. Light lost in three. Star lost in four. Corn lost in'}, {'S1': 'two', 'S2': 'three', 'S3': 'four', 'S4': 'five', 'corr': ' six', 'incorr': ' five', 'text': 'Jar lost in two. Sand lost in three. Car lost in four. Light lost in five. Fire lost in'}, {'S1': 'three', 'S2': 'four', 'S3': 'five', 'S4': 'six', 'corr': ' seven', 'incorr': ' six', 'text': 'Hat lost in three. Ax lost in four. Bird lost in five. Snow lost in six. Fish lost in'}, {'S1': 'four', 'S2': 'five', 'S3': 'six', 'S4': 'seven', 'corr': ' eight', 'incorr': ' seven', 'text': 'Desk lost in four. Hill lost in five. Pear lost in six. Train lost in seven. Ax lost in'}, {'S1': 'five', 'S2': 'six', 'S3': 'seven', 'S4': 'eight', 'corr': ' nine', 'incorr': ' eight', 'text': 'Queen lost in five. Glass lost in six. Rose lost in seven. Van lost in eight. Wall lost in'}, {'S1': 'six', 'S2': 'seven', 'S3': 'eight', 'S4': 'nine', 'corr': ' ten', 'incorr': ' nine', 'text': 'Ocean lost in six. Corn lost in seven. Snake lost in eight. Camera lost in nine. Queen lost in'}, {'S1': 'seven', 'S2': 'eight', 'S3': 'nine', 'S4': 'ten', 'corr': ' eleven', 'incorr': ' ten', 'text': 'Rose lost in seven. Watch lost in eight. Ax lost in nine. Hill lost in ten. Arm lost in'}, {'S1': 'eight', 'S2': 'nine', 'S3': 'ten', 'S4': 'eleven', 'corr': ' twelve', 'incorr': ' eleven', 'text': 'Fire lost in eight. Jar lost in nine. Queen lost in ten. Car lost in eleven. Watch lost in'}, {'S1': 'one', 'S2': 'two', 'S3': 'three', 'S4': 'four', 'corr': ' five', 'incorr': ' four', 'text': 'Fire lost in one. Sun lost in two. Moon lost in three. Eye lost in four. Apple lost in'}, {'S1': 'two', 'S2': 'three', 'S3': 'four', 'S4': 'five', 'corr': ' six', 'incorr': ' five', 'text': 'Table lost in two. Star lost in three. Hat lost in four. Flag lost in five. Flag lost in'}, {'S1': 'three', 'S2': 'four', 'S3': 'five', 'S4': 'six', 'corr': ' seven', 'incorr': ' six', 'text': 'Table lost in three. Ball lost in four. Apple lost in five. Tree lost in six. Car lost in'}, {'S1': 'four', 'S2': 'five', 'S3': 'six', 'S4': 'seven', 'corr': ' eight', 'incorr': ' seven', 'text': 'Rat lost in four. Tree lost in five. Year lost in six. Desk lost in seven. Star lost in'}, {'S1': 'five', 'S2': 'six', 'S3': 'seven', 'S4': 'eight', 'corr': ' nine', 'incorr': ' eight', 'text': 'Nut lost in five. Queen lost in six. Eye lost in seven. Queen lost in eight. Mouse lost in'}, {'S1': 'six', 'S2': 'seven', 'S3': 'eight', 'S4': 'nine', 'corr': ' ten', 'incorr': ' nine', 'text': 'Hat lost in six. Moon lost in seven. Pear lost in eight. Pen lost in nine. Oil lost in'}, {'S1': 'seven', 'S2': 'eight', 'S3': 'nine', 'S4': 'ten', 'corr': ' eleven', 'incorr': ' ten', 'text': 'Star lost in seven. Desk lost in eight. Ring lost in nine. Hill lost in ten. Gold lost in'}, {'S1': 'eight', 'S2': 'nine', 'S3': 'ten', 'S4': 'eleven', 'corr': ' twelve', 'incorr': ' eleven', 'text': 'Hand lost in eight. Queen lost in nine. Apple lost in ten. Star lost in eleven. Watch lost in'}, {'S1': 'one', 'S2': 'two', 'S3': 'three', 'S4': 'four', 'corr': ' five', 'incorr': ' four', 'text': 'Fan lost in one. Van lost in two. Snow lost in three. Key lost in four. Fire lost in'}, {'S1': 'two', 'S2': 'three', 'S3': 'four', 'S4': 'five', 'corr': ' six', 'incorr': ' five', 'text': 'Ring lost in two. Pen lost in three. Orange lost in four. Hat lost in five. Eye lost in'}, {'S1': 'three', 'S2': 'four', 'S3': 'five', 'S4': 'six', 'corr': ' seven', 'incorr': ' six', 'text': 'Glass lost in three. Orange lost in four. Ax lost in five. Star lost in six. Road lost in'}, {'S1': 'four', 'S2': 'five', 'S3': 'six', 'S4': 'seven', 'corr': ' eight', 'incorr': ' seven', 'text': 'Tree lost in four. Light lost in five. Sun lost in six. Chair lost in seven. Desk lost in'}, {'S1': 'five', 'S2': 'six', 'S3': 'seven', 'S4': 'eight', 'corr': ' nine', 'incorr': ' eight', 'text': 'Book lost in five. Desk lost in six. Car lost in seven. Queen lost in eight. Arm lost in'}, {'S1': 'six', 'S2': 'seven', 'S3': 'eight', 'S4': 'nine', 'corr': ' ten', 'incorr': ' nine', 'text': 'Car lost in six. Van lost in seven. Ear lost in eight. Snake lost in nine. Snow lost in'}, {'S1': 'seven', 'S2': 'eight', 'S3': 'nine', 'S4': 'ten', 'corr': ' eleven', 'incorr': ' ten', 'text': 'Pear lost in seven. Rain lost in eight. Van lost in nine. Desk lost in ten. Year lost in'}, {'S1': 'eight', 'S2': 'nine', 'S3': 'ten', 'S4': 'eleven', 'corr': ' twelve', 'incorr': ' eleven', 'text': 'Chair lost in eight. Road lost in nine. Snake lost in ten. Rat lost in eleven. Flag lost in'}, {'S1': 'one', 'S2': 'two', 'S3': 'three', 'S4': 'four', 'corr': ' five', 'incorr': ' four', 'text': 'Year lost in one. Glass lost in two. Snow lost in three. Tree lost in four. Queen lost in'}, {'S1': 'two', 'S2': 'three', 'S3': 'four', 'S4': 'five', 'corr': ' six', 'incorr': ' five', 'text': 'Snake lost in two. Cat lost in three. Ring lost in four. Camera lost in five. Map lost in'}, {'S1': 'three', 'S2': 'four', 'S3': 'five', 'S4': 'six', 'corr': ' seven', 'incorr': ' six', 'text': 'Glass lost in three. Pear lost in four. Map lost in five. King lost in six. Fire lost in'}, {'S1': 'four', 'S2': 'five', 'S3': 'six', 'S4': 'seven', 'corr': ' eight', 'incorr': ' seven', 'text': 'Van lost in four. Map lost in five. Hat lost in six. Train lost in seven. Window lost in'}, {'S1': 'five', 'S2': 'six', 'S3': 'seven', 'S4': 'eight', 'corr': ' nine', 'incorr': ' eight', 'text': 'Map lost in five. Lake lost in six. Moon lost in seven. Corn lost in eight. Pen lost in'}, {'S1': 'six', 'S2': 'seven', 'S3': 'eight', 'S4': 'nine', 'corr': ' ten', 'incorr': ' nine', 'text': 'Key lost in six. Glass lost in seven. Rat lost in eight. Apple lost in nine. Light lost in'}, {'S1': 'seven', 'S2': 'eight', 'S3': 'nine', 'S4': 'ten', 'corr': ' eleven', 'incorr': ' ten', 'text': 'Star lost in seven. Apple lost in eight. Train lost in nine. Rat lost in ten. Van lost in'}, {'S1': 'eight', 'S2': 'nine', 'S3': 'ten', 'S4': 'eleven', 'corr': ' twelve', 'incorr': ' eleven', 'text': 'Moon lost in eight. Glass lost in nine. Mouse lost in ten. Van lost in eleven. Table lost in'}, {'S1': 'one', 'S2': 'two', 'S3': 'three', 'S4': 'four', 'corr': ' five', 'incorr': ' four', 'text': 'Watch lost in one. Van lost in two. Chair lost in three. House lost in four. Box lost in'}, {'S1': 'two', 'S2': 'three', 'S3': 'four', 'S4': 'five', 'corr': ' six', 'incorr': ' five', 'text': 'Road lost in two. Watch lost in three. Camera lost in four. Fish lost in five. Star lost in'}, {'S1': 'three', 'S2': 'four', 'S3': 'five', 'S4': 'six', 'corr': ' seven', 'incorr': ' six', 'text': 'Ax lost in three. Tree lost in four. Snow lost in five. Watch lost in six. Clock lost in'}, {'S1': 'four', 'S2': 'five', 'S3': 'six', 'S4': 'seven', 'corr': ' eight', 'incorr': ' seven', 'text': 'Window lost in four. Train lost in five. Eye lost in six. Car lost in seven. Desk lost in'}, {'S1': 'five', 'S2': 'six', 'S3': 'seven', 'S4': 'eight', 'corr': ' nine', 'incorr': ' eight', 'text': 'House lost in five. Light lost in six. Tree lost in seven. Rat lost in eight. Gold lost in'}, {'S1': 'six', 'S2': 'seven', 'S3': 'eight', 'S4': 'nine', 'corr': ' ten', 'incorr': ' nine', 'text': 'Snake lost in six. Ball lost in seven. Apple lost in eight. Wall lost in nine. Nut lost in'}, {'S1': 'seven', 'S2': 'eight', 'S3': 'nine', 'S4': 'ten', 'corr': ' eleven', 'incorr': ' ten', 'text': 'Nut lost in seven. Desk lost in eight. Rose lost in nine. House lost in ten. Tree lost in'}, {'S1': 'eight', 'S2': 'nine', 'S3': 'ten', 'S4': 'eleven', 'corr': ' twelve', 'incorr': ' eleven', 'text': 'Ant lost in eight. Ring lost in nine. Van lost in ten. Tree lost in eleven. Snake lost in'}, {'S1': 'one', 'S2': 'two', 'S3': 'three', 'S4': 'four', 'corr': ' five', 'incorr': ' four', 'text': 'Snow lost in one. Queen lost in two. Rose lost in three. Wallet lost in four. Map lost in'}, {'S1': 'two', 'S2': 'three', 'S3': 'four', 'S4': 'five', 'corr': ' six', 'incorr': ' five', 'text': 'Orange lost in two. Bird lost in three. Rose lost in four. House lost in five. Gate lost in'}, {'S1': 'three', 'S2': 'four', 'S3': 'five', 'S4': 'six', 'corr': ' seven', 'incorr': ' six', 'text': 'Night lost in three. Oil lost in four. Hat lost in five. Watch lost in six. Snow lost in'}, {'S1': 'four', 'S2': 'five', 'S3': 'six', 'S4': 'seven', 'corr': ' eight', 'incorr': ' seven', 'text': 'Gate lost in four. Jam lost in five. Iron lost in six. Lake lost in seven. Sun lost in'}, {'S1': 'five', 'S2': 'six', 'S3': 'seven', 'S4': 'eight', 'corr': ' nine', 'incorr': ' eight', 'text': 'Camera lost in five. Night lost in six. Watch lost in seven. Glass lost in eight. Snow lost in'}, {'S1': 'six', 'S2': 'seven', 'S3': 'eight', 'S4': 'nine', 'corr': ' ten', 'incorr': ' nine', 'text': 'Key lost in six. Bird lost in seven. Desk lost in eight. Glass lost in nine. Night lost in'}, {'S1': 'seven', 'S2': 'eight', 'S3': 'nine', 'S4': 'ten', 'corr': ' eleven', 'incorr': ' ten', 'text': 'Ball lost in seven. Glass lost in eight. Ax lost in nine. Train lost in ten. Orange lost in'}, {'S1': 'eight', 'S2': 'nine', 'S3': 'ten', 'S4': 'eleven', 'corr': ' twelve', 'incorr': ' eleven', 'text': 'Key lost in eight. Orange lost in nine. Night lost in ten. Fan lost in eleven. Wind lost in'}, {'S1': 'one', 'S2': 'two', 'S3': 'three', 'S4': 'four', 'corr': ' five', 'incorr': ' four', 'text': 'Table lost in one. Van lost in two. Apple lost in three. Snow lost in four. Orange lost in'}, {'S1': 'two', 'S2': 'three', 'S3': 'four', 'S4': 'five', 'corr': ' six', 'incorr': ' five', 'text': 'Pen lost in two. Tree lost in three. Nut lost in four. Fan lost in five. Car lost in'}, {'S1': 'three', 'S2': 'four', 'S3': 'five', 'S4': 'six', 'corr': ' seven', 'incorr': ' six', 'text': 'House lost in three. Camera lost in four. Wallet lost in five. Book lost in six. Hat lost in'}, {'S1': 'four', 'S2': 'five', 'S3': 'six', 'S4': 'seven', 'corr': ' eight', 'incorr': ' seven', 'text': 'Key lost in four. Apple lost in five. Ring lost in six. Jam lost in seven. Light lost in'}, {'S1': 'five', 'S2': 'six', 'S3': 'seven', 'S4': 'eight', 'corr': ' nine', 'incorr': ' eight', 'text': 'Fan lost in five. Rose lost in six. Lake lost in seven. Hat lost in eight. Apple lost in'}, {'S1': 'six', 'S2': 'seven', 'S3': 'eight', 'S4': 'nine', 'corr': ' ten', 'incorr': ' nine', 'text': 'Ring lost in six. Box lost in seven. Apple lost in eight. Fire lost in nine. Orange lost in'}, {'S1': 'seven', 'S2': 'eight', 'S3': 'nine', 'S4': 'ten', 'corr': ' eleven', 'incorr': ' ten', 'text': 'Ocean lost in seven. Watch lost in eight. Gate lost in nine. Rose lost in ten. Key lost in'}, {'S1': 'eight', 'S2': 'nine', 'S3': 'ten', 'S4': 'eleven', 'corr': ' twelve', 'incorr': ' eleven', 'text': 'Book lost in eight. Wolf lost in nine. Hill lost in ten. Rose lost in eleven. Light lost in'}, {'S1': 'one', 'S2': 'two', 'S3': 'three', 'S4': 'four', 'corr': ' five', 'incorr': ' four', 'text': 'Rose lost in one. Fan lost in two. Corn lost in three. Night lost in four. Tree lost in'}, {'S1': 'two', 'S2': 'three', 'S3': 'four', 'S4': 'five', 'corr': ' six', 'incorr': ' five', 'text': 'Hat lost in two. Glass lost in three. House lost in four. Van lost in five. Ocean lost in'}, {'S1': 'three', 'S2': 'four', 'S3': 'five', 'S4': 'six', 'corr': ' seven', 'incorr': ' six', 'text': 'Ocean lost in three. Orange lost in four. Ice lost in five. Arm lost in six. Bug lost in'}, {'S1': 'four', 'S2': 'five', 'S3': 'six', 'S4': 'seven', 'corr': ' eight', 'incorr': ' seven', 'text': 'Hat lost in four. Book lost in five. Glass lost in six. Rat lost in seven. House lost in'}, {'S1': 'five', 'S2': 'six', 'S3': 'seven', 'S4': 'eight', 'corr': ' nine', 'incorr': ' eight', 'text': 'Ear lost in five. Key lost in six. Wheel lost in seven. Glass lost in eight. Hand lost in'}, {'S1': 'six', 'S2': 'seven', 'S3': 'eight', 'S4': 'nine', 'corr': ' ten', 'incorr': ' nine', 'text': 'Van lost in six. Road lost in seven. Desk lost in eight. Rose lost in nine. Bug lost in'}, {'S1': 'seven', 'S2': 'eight', 'S3': 'nine', 'S4': 'ten', 'corr': ' eleven', 'incorr': ' ten', 'text': 'Van lost in seven. Watch lost in eight. Night lost in nine. Wind lost in ten. Desk lost in'}, {'S1': 'eight', 'S2': 'nine', 'S3': 'ten', 'S4': 'eleven', 'corr': ' twelve', 'incorr': ' eleven', 'text': 'Hat lost in eight. Camera lost in nine. Iron lost in ten. Tree lost in eleven. Jar lost in'}, {'S1': 'one', 'S2': 'two', 'S3': 'three', 'S4': 'four', 'corr': ' five', 'incorr': ' four', 'text': 'Nut lost in one. House lost in two. Apple lost in three. Light lost in four. Snow lost in'}, {'S1': 'two', 'S2': 'three', 'S3': 'four', 'S4': 'five', 'corr': ' six', 'incorr': ' five', 'text': 'Orange lost in two. Key lost in three. Corn lost in four. Dog lost in five. Tree lost in'}, {'S1': 'three', 'S2': 'four', 'S3': 'five', 'S4': 'six', 'corr': ' seven', 'incorr': ' six', 'text': 'Star lost in three. Desk lost in four. Zip lost in five. Tree lost in six. King lost in'}, {'S1': 'four', 'S2': 'five', 'S3': 'six', 'S4': 'seven', 'corr': ' eight', 'incorr': ' seven', 'text': 'Key lost in four. Ear lost in five. Train lost in six. Eye lost in seven. Wheel lost in'}, {'S1': 'five', 'S2': 'six', 'S3': 'seven', 'S4': 'eight', 'corr': ' nine', 'incorr': ' eight', 'text': 'Star lost in five. Ear lost in six. Queen lost in seven. Jam lost in eight. Hat lost in'}, {'S1': 'six', 'S2': 'seven', 'S3': 'eight', 'S4': 'nine', 'corr': ' ten', 'incorr': ' nine', 'text': 'Glass lost in six. Key lost in seven. Watch lost in eight. Ring lost in nine. Zip lost in'}, {'S1': 'seven', 'S2': 'eight', 'S3': 'nine', 'S4': 'ten', 'corr': ' eleven', 'incorr': ' ten', 'text': 'Moon lost in seven. House lost in eight. Hat lost in nine. Watch lost in ten. Gate lost in'}, {'S1': 'eight', 'S2': 'nine', 'S3': 'ten', 'S4': 'eleven', 'corr': ' twelve', 'incorr': ' eleven', 'text': 'Night lost in eight. Fan lost in nine. Star lost in ten. Camera lost in eleven. House lost in'}, {'S1': 'one', 'S2': 'two', 'S3': 'three', 'S4': 'four', 'corr': ' five', 'incorr': ' four', 'text': 'Ring lost in one. Tree lost in two. Glass lost in three. Orange lost in four. King lost in'}, {'S1': 'two', 'S2': 'three', 'S3': 'four', 'S4': 'five', 'corr': ' six', 'incorr': ' five', 'text': 'Orange lost in two. Cow lost in three. Queen lost in four. Car lost in five. Eye lost in'}, {'S1': 'three', 'S2': 'four', 'S3': 'five', 'S4': 'six', 'corr': ' seven', 'incorr': ' six', 'text': 'King lost in three. Car lost in four. Sand lost in five. Rose lost in six. Car lost in'}, {'S1': 'four', 'S2': 'five', 'S3': 'six', 'S4': 'seven', 'corr': ' eight', 'incorr': ' seven', 'text': 'Watch lost in four. Fan lost in five. Ring lost in six. Wheel lost in seven. Corn lost in'}, {'S1': 'five', 'S2': 'six', 'S3': 'seven', 'S4': 'eight', 'corr': ' nine', 'incorr': ' eight', 'text': 'Box lost in five. Van lost in six. Desk lost in seven. Year lost in eight. Wind lost in'}, {'S1': 'six', 'S2': 'seven', 'S3': 'eight', 'S4': 'nine', 'corr': ' ten', 'incorr': ' nine', 'text': 'Wall lost in six. Light lost in seven. Apple lost in eight. Corn lost in nine. Wind lost in'}, {'S1': 'seven', 'S2': 'eight', 'S3': 'nine', 'S4': 'ten', 'corr': ' eleven', 'incorr': ' ten', 'text': 'Lake lost in seven. Apple lost in eight. Wind lost in nine. Light lost in ten. Sun lost in'}, {'S1': 'eight', 'S2': 'nine', 'S3': 'ten', 'S4': 'eleven', 'corr': ' twelve', 'incorr': ' eleven', 'text': 'Sun lost in eight. King lost in nine. Van lost in ten. Hat lost in eleven. Arm lost in'}, {'S1': 'one', 'S2': 'two', 'S3': 'three', 'S4': 'four', 'corr': ' five', 'incorr': ' four', 'text': 'Rose lost in one. Corn lost in two. Iron lost in three. Apple lost in four. Table lost in'}, {'S1': 'two', 'S2': 'three', 'S3': 'four', 'S4': 'five', 'corr': ' six', 'incorr': ' five', 'text': 'Flag lost in two. Box lost in three. Orange lost in four. Star lost in five. House lost in'}, {'S1': 'three', 'S2': 'four', 'S3': 'five', 'S4': 'six', 'corr': ' seven', 'incorr': ' six', 'text': 'Year lost in three. Apple lost in four. Ear lost in five. Tree lost in six. Rose lost in'}, {'S1': 'four', 'S2': 'five', 'S3': 'six', 'S4': 'seven', 'corr': ' eight', 'incorr': ' seven', 'text': 'Fan lost in four. Fire lost in five. Ax lost in six. Cat lost in seven. Chair lost in'}, {'S1': 'five', 'S2': 'six', 'S3': 'seven', 'S4': 'eight', 'corr': ' nine', 'incorr': ' eight', 'text': 'Van lost in five. Cat lost in six. Apple lost in seven. Tree lost in eight. Camera lost in'}, {'S1': 'six', 'S2': 'seven', 'S3': 'eight', 'S4': 'nine', 'corr': ' ten', 'incorr': ' nine', 'text': 'Rose lost in six. Jam lost in seven. Tree lost in eight. Car lost in nine. Glass lost in'}, {'S1': 'seven', 'S2': 'eight', 'S3': 'nine', 'S4': 'ten', 'corr': ' eleven', 'incorr': ' ten', 'text': 'Nut lost in seven. Ice lost in eight. Hat lost in nine. Rat lost in ten. Wallet lost in'}, {'S1': 'eight', 'S2': 'nine', 'S3': 'ten', 'S4': 'eleven', 'corr': ' twelve', 'incorr': ' eleven', 'text': 'Bug lost in eight. Train lost in nine. Map lost in ten. Rain lost in eleven. Ant lost in'}, {'S1': 'one', 'S2': 'two', 'S3': 'three', 'S4': 'four', 'corr': ' five', 'incorr': ' four', 'text': 'Van lost in one. Pear lost in two. Mouse lost in three. Glass lost in four. Tree lost in'}, {'S1': 'two', 'S2': 'three', 'S3': 'four', 'S4': 'five', 'corr': ' six', 'incorr': ' five', 'text': 'Glass lost in two. Ball lost in three. Zip lost in four. Ocean lost in five. Apple lost in'}, {'S1': 'three', 'S2': 'four', 'S3': 'five', 'S4': 'six', 'corr': ' seven', 'incorr': ' six', 'text': 'Hand lost in three. Ant lost in four. Ring lost in five. Box lost in six. Train lost in'}, {'S1': 'four', 'S2': 'five', 'S3': 'six', 'S4': 'seven', 'corr': ' eight', 'incorr': ' seven', 'text': 'Ring lost in four. Tree lost in five. Lake lost in six. Snake lost in seven. House lost in'}, {'S1': 'five', 'S2': 'six', 'S3': 'seven', 'S4': 'eight', 'corr': ' nine', 'incorr': ' eight', 'text': 'Lake lost in five. Rose lost in six. Snake lost in seven. Box lost in eight. Key lost in'}, {'S1': 'six', 'S2': 'seven', 'S3': 'eight', 'S4': 'nine', 'corr': ' ten', 'incorr': ' nine', 'text': 'Rose lost in six. Fan lost in seven. Key lost in eight. Glass lost in nine. Gold lost in'}, {'S1': 'seven', 'S2': 'eight', 'S3': 'nine', 'S4': 'ten', 'corr': ' eleven', 'incorr': ' ten', 'text': 'Fan lost in seven. Watch lost in eight. Gate lost in nine. Apple lost in ten. Box lost in'}, {'S1': 'eight', 'S2': 'nine', 'S3': 'ten', 'S4': 'eleven', 'corr': ' twelve', 'incorr': ' eleven', 'text': 'Nut lost in eight. Jar lost in nine. Desk lost in ten. Apple lost in eleven. Van lost in'}, {'S1': 'one', 'S2': 'two', 'S3': 'three', 'S4': 'four', 'corr': ' five', 'incorr': ' four', 'text': 'Window lost in one. Bird lost in two. Ring lost in three. Van lost in four. Lake lost in'}, {'S1': 'two', 'S2': 'three', 'S3': 'four', 'S4': 'five', 'corr': ' six', 'incorr': ' five', 'text': 'Moon lost in two. Wall lost in three. Night lost in four. Wheel lost in five. Wolf lost in'}, {'S1': 'three', 'S2': 'four', 'S3': 'five', 'S4': 'six', 'corr': ' seven', 'incorr': ' six', 'text': 'Hand lost in three. Gate lost in four. Window lost in five. Book lost in six. Nut lost in'}, {'S1': 'four', 'S2': 'five', 'S3': 'six', 'S4': 'seven', 'corr': ' eight', 'incorr': ' seven', 'text': 'Desk lost in four. Tree lost in five. House lost in six. Fire lost in seven. Glass lost in'}, {'S1': 'five', 'S2': 'six', 'S3': 'seven', 'S4': 'eight', 'corr': ' nine', 'incorr': ' eight', 'text': 'Star lost in five. Wolf lost in six. Queen lost in seven. Ear lost in eight. Window lost in'}, {'S1': 'six', 'S2': 'seven', 'S3': 'eight', 'S4': 'nine', 'corr': ' ten', 'incorr': ' nine', 'text': 'Rose lost in six. Rose lost in seven. Snow lost in eight. Moon lost in nine. Table lost in'}, {'S1': 'seven', 'S2': 'eight', 'S3': 'nine', 'S4': 'ten', 'corr': ' eleven', 'incorr': ' ten', 'text': 'House lost in seven. Ax lost in eight. Orange lost in nine. Ball lost in ten. Watch lost in'}, {'S1': 'eight', 'S2': 'nine', 'S3': 'ten', 'S4': 'eleven', 'corr': ' twelve', 'incorr': ' eleven', 'text': 'Flag lost in eight. Desk lost in nine. Nut lost in ten. Fish lost in eleven. Orange lost in'}, {'S1': 'one', 'S2': 'two', 'S3': 'three', 'S4': 'four', 'corr': ' five', 'incorr': ' four', 'text': 'Rat lost in one. Car lost in two. Queen lost in three. Star lost in four. Orange lost in'}, {'S1': 'two', 'S2': 'three', 'S3': 'four', 'S4': 'five', 'corr': ' six', 'incorr': ' five', 'text': 'King lost in two. Wolf lost in three. Light lost in four. Window lost in five. Orange lost in'}, {'S1': 'three', 'S2': 'four', 'S3': 'five', 'S4': 'six', 'corr': ' seven', 'incorr': ' six', 'text': 'Map lost in three. Window lost in four. Queen lost in five. Book lost in six. Queen lost in'}, {'S1': 'four', 'S2': 'five', 'S3': 'six', 'S4': 'seven', 'corr': ' eight', 'incorr': ' seven', 'text': 'Arm lost in four. Tree lost in five. Watch lost in six. Sun lost in seven. Eye lost in'}, {'S1': 'five', 'S2': 'six', 'S3': 'seven', 'S4': 'eight', 'corr': ' nine', 'incorr': ' eight', 'text': 'Ear lost in five. Apple lost in six. Ring lost in seven. Jam lost in eight. Fish lost in'}, {'S1': 'six', 'S2': 'seven', 'S3': 'eight', 'S4': 'nine', 'corr': ' ten', 'incorr': ' nine', 'text': 'Ball lost in six. Rose lost in seven. Apple lost in eight. Key lost in nine. Wheel lost in'}, {'S1': 'seven', 'S2': 'eight', 'S3': 'nine', 'S4': 'ten', 'corr': ' eleven', 'incorr': ' ten', 'text': 'Fan lost in seven. Nut lost in eight. Sand lost in nine. Ocean lost in ten. Key lost in'}, {'S1': 'eight', 'S2': 'nine', 'S3': 'ten', 'S4': 'eleven', 'corr': ' twelve', 'incorr': ' eleven', 'text': 'Ring lost in eight. Wind lost in nine. Ear lost in ten. Gold lost in eleven. Window lost in'}, {'S1': 'one', 'S2': 'two', 'S3': 'three', 'S4': 'four', 'corr': ' five', 'incorr': ' four', 'text': 'Light lost in one. Gate lost in two. Queen lost in three. Mouse lost in four. Hat lost in'}, {'S1': 'two', 'S2': 'three', 'S3': 'four', 'S4': 'five', 'corr': ' six', 'incorr': ' five', 'text': 'King lost in two. Map lost in three. Cow lost in four. Flag lost in five. Desk lost in'}, {'S1': 'three', 'S2': 'four', 'S3': 'five', 'S4': 'six', 'corr': ' seven', 'incorr': ' six', 'text': 'Car lost in three. Zip lost in four. Eye lost in five. Cow lost in six. Book lost in'}, {'S1': 'four', 'S2': 'five', 'S3': 'six', 'S4': 'seven', 'corr': ' eight', 'incorr': ' seven', 'text': 'Year lost in four. Glass lost in five. Car lost in six. Wallet lost in seven. Fan lost in'}, {'S1': 'five', 'S2': 'six', 'S3': 'seven', 'S4': 'eight', 'corr': ' nine', 'incorr': ' eight', 'text': 'Mouse lost in five. Gate lost in six. Light lost in seven. Eye lost in eight. Hand lost in'}, {'S1': 'six', 'S2': 'seven', 'S3': 'eight', 'S4': 'nine', 'corr': ' ten', 'incorr': ' nine', 'text': 'Tree lost in six. Orange lost in seven. Hat lost in eight. Cat lost in nine. Map lost in'}, {'S1': 'seven', 'S2': 'eight', 'S3': 'nine', 'S4': 'ten', 'corr': ' eleven', 'incorr': ' ten', 'text': 'Window lost in seven. Sun lost in eight. Train lost in nine. Bird lost in ten. Tree lost in'}, {'S1': 'eight', 'S2': 'nine', 'S3': 'ten', 'S4': 'eleven', 'corr': ' twelve', 'incorr': ' eleven', 'text': 'Map lost in eight. Night lost in nine. Fish lost in ten. Lake lost in eleven. Cow lost in'}, {'S1': 'one', 'S2': 'two', 'S3': 'three', 'S4': 'four', 'corr': ' five', 'incorr': ' four', 'text': 'Car lost in one. Camera lost in two. Desk lost in three. Apple lost in four. Eye lost in'}, {'S1': 'two', 'S2': 'three', 'S3': 'four', 'S4': 'five', 'corr': ' six', 'incorr': ' five', 'text': 'Fan lost in two. Sand lost in three. Jar lost in four. Ant lost in five. Orange lost in'}, {'S1': 'three', 'S2': 'four', 'S3': 'five', 'S4': 'six', 'corr': ' seven', 'incorr': ' six', 'text': 'Flag lost in three. Tree lost in four. Sand lost in five. Rose lost in six. Wind lost in'}, {'S1': 'four', 'S2': 'five', 'S3': 'six', 'S4': 'seven', 'corr': ' eight', 'incorr': ' seven', 'text': 'Wheel lost in four. Gold lost in five. Orange lost in six. Desk lost in seven. Flag lost in'}, {'S1': 'five', 'S2': 'six', 'S3': 'seven', 'S4': 'eight', 'corr': ' nine', 'incorr': ' eight', 'text': 'Car lost in five. Corn lost in six. Tree lost in seven. Apple lost in eight. Arm lost in'}, {'S1': 'six', 'S2': 'seven', 'S3': 'eight', 'S4': 'nine', 'corr': ' ten', 'incorr': ' nine', 'text': 'Jam lost in six. Map lost in seven. Desk lost in eight. Ring lost in nine. Wolf lost in'}, {'S1': 'seven', 'S2': 'eight', 'S3': 'nine', 'S4': 'ten', 'corr': ' eleven', 'incorr': ' ten', 'text': 'Cat lost in seven. Hand lost in eight. Pen lost in nine. Apple lost in ten. Lake lost in'}, {'S1': 'eight', 'S2': 'nine', 'S3': 'ten', 'S4': 'eleven', 'corr': ' twelve', 'incorr': ' eleven', 'text': 'Table lost in eight. Iron lost in nine. Desk lost in ten. Queen lost in eleven. Wall lost in'}, {'S1': 'one', 'S2': 'two', 'S3': 'three', 'S4': 'four', 'corr': ' five', 'incorr': ' four', 'text': 'Light lost in one. Box lost in two. Van lost in three. Flag lost in four. Orange lost in'}, {'S1': 'two', 'S2': 'three', 'S3': 'four', 'S4': 'five', 'corr': ' six', 'incorr': ' five', 'text': 'Bug lost in two. Wall lost in three. Zip lost in four. Tree lost in five. Hat lost in'}, {'S1': 'three', 'S2': 'four', 'S3': 'five', 'S4': 'six', 'corr': ' seven', 'incorr': ' six', 'text': 'Apple lost in three. Queen lost in four. King lost in five. Bug lost in six. Hat lost in'}, {'S1': 'four', 'S2': 'five', 'S3': 'six', 'S4': 'seven', 'corr': ' eight', 'incorr': ' seven', 'text': 'Key lost in four. House lost in five. Mouse lost in six. Rain lost in seven. Rose lost in'}, {'S1': 'five', 'S2': 'six', 'S3': 'seven', 'S4': 'eight', 'corr': ' nine', 'incorr': ' eight', 'text': 'Wind lost in five. Tree lost in six. Key lost in seven. Orange lost in eight. Queen lost in'}, {'S1': 'six', 'S2': 'seven', 'S3': 'eight', 'S4': 'nine', 'corr': ' ten', 'incorr': ' nine', 'text': 'Map lost in six. Jam lost in seven. Fish lost in eight. Car lost in nine. Ax lost in'}, {'S1': 'seven', 'S2': 'eight', 'S3': 'nine', 'S4': 'ten', 'corr': ' eleven', 'incorr': ' ten', 'text': 'Star lost in seven. Oil lost in eight. Flag lost in nine. Car lost in ten. Cow lost in'}, {'S1': 'eight', 'S2': 'nine', 'S3': 'ten', 'S4': 'eleven', 'corr': ' twelve', 'incorr': ' eleven', 'text': 'Apple lost in eight. Year lost in nine. Jam lost in ten. Eye lost in eleven. Queen lost in'}, {'S1': 'one', 'S2': 'two', 'S3': 'three', 'S4': 'four', 'corr': ' five', 'incorr': ' four', 'text': 'Glass lost in one. Queen lost in two. Wallet lost in three. Watch lost in four. Watch lost in'}, {'S1': 'two', 'S2': 'three', 'S3': 'four', 'S4': 'five', 'corr': ' six', 'incorr': ' five', 'text': 'Car lost in two. Fish lost in three. Ax lost in four. Tree lost in five. Apple lost in'}, {'S1': 'three', 'S2': 'four', 'S3': 'five', 'S4': 'six', 'corr': ' seven', 'incorr': ' six', 'text': 'Flag lost in three. Zip lost in four. Ear lost in five. Rain lost in six. Light lost in'}, {'S1': 'four', 'S2': 'five', 'S3': 'six', 'S4': 'seven', 'corr': ' eight', 'incorr': ' seven', 'text': 'Camera lost in four. Gold lost in five. Rose lost in six. Year lost in seven. Moon lost in'}, {'S1': 'five', 'S2': 'six', 'S3': 'seven', 'S4': 'eight', 'corr': ' nine', 'incorr': ' eight', 'text': 'Tree lost in five. Nut lost in six. Sand lost in seven. Wind lost in eight. Hat lost in'}, {'S1': 'six', 'S2': 'seven', 'S3': 'eight', 'S4': 'nine', 'corr': ' ten', 'incorr': ' nine', 'text': 'Hill lost in six. Moon lost in seven. Arm lost in eight. Cat lost in nine. Mouse lost in'}, {'S1': 'seven', 'S2': 'eight', 'S3': 'nine', 'S4': 'ten', 'corr': ' eleven', 'incorr': ' ten', 'text': 'Apple lost in seven. Bird lost in eight. Ball lost in nine. House lost in ten. Desk lost in'}, {'S1': 'eight', 'S2': 'nine', 'S3': 'ten', 'S4': 'eleven', 'corr': ' twelve', 'incorr': ' eleven', 'text': 'Sand lost in eight. Corn lost in nine. Queen lost in ten. Ant lost in eleven. Star lost in'}, {'S1': 'one', 'S2': 'two', 'S3': 'three', 'S4': 'four', 'corr': ' five', 'incorr': ' four', 'text': 'King lost in one. Rain lost in two. House lost in three. Pear lost in four. Orange lost in'}, {'S1': 'two', 'S2': 'three', 'S3': 'four', 'S4': 'five', 'corr': ' six', 'incorr': ' five', 'text': 'Snow lost in two. Star lost in three. Sand lost in four. Ring lost in five. Hat lost in'}, {'S1': 'three', 'S2': 'four', 'S3': 'five', 'S4': 'six', 'corr': ' seven', 'incorr': ' six', 'text': 'Lake lost in three. Corn lost in four. Clock lost in five. Fan lost in six. Book lost in'}, {'S1': 'four', 'S2': 'five', 'S3': 'six', 'S4': 'seven', 'corr': ' eight', 'incorr': ' seven', 'text': 'Wheel lost in four. Ball lost in five. Gold lost in six. Orange lost in seven. Ant lost in'}, {'S1': 'five', 'S2': 'six', 'S3': 'seven', 'S4': 'eight', 'corr': ' nine', 'incorr': ' eight', 'text': 'Camera lost in five. Rose lost in six. Gate lost in seven. Sun lost in eight. Car lost in'}, {'S1': 'six', 'S2': 'seven', 'S3': 'eight', 'S4': 'nine', 'corr': ' ten', 'incorr': ' nine', 'text': 'Apple lost in six. Star lost in seven. Desk lost in eight. Ear lost in nine. Tree lost in'}, {'S1': 'seven', 'S2': 'eight', 'S3': 'nine', 'S4': 'ten', 'corr': ' eleven', 'incorr': ' ten', 'text': 'Fan lost in seven. Bug lost in eight. Pen lost in nine. Ice lost in ten. Tree lost in'}, {'S1': 'eight', 'S2': 'nine', 'S3': 'ten', 'S4': 'eleven', 'corr': ' twelve', 'incorr': ' eleven', 'text': 'Apple lost in eight. Orange lost in nine. Hand lost in ten. Arm lost in eleven. Hill lost in'}, {'S1': 'one', 'S2': 'two', 'S3': 'three', 'S4': 'four', 'corr': ' five', 'incorr': ' four', 'text': 'Orange lost in one. Orange lost in two. Window lost in three. Star lost in four. Tree lost in'}, {'S1': 'two', 'S2': 'three', 'S3': 'four', 'S4': 'five', 'corr': ' six', 'incorr': ' five', 'text': 'Ant lost in two. Book lost in three. Moon lost in four. Window lost in five. Ring lost in'}, {'S1': 'three', 'S2': 'four', 'S3': 'five', 'S4': 'six', 'corr': ' seven', 'incorr': ' six', 'text': 'Star lost in three. Desk lost in four. Apple lost in five. Key lost in six. Window lost in'}, {'S1': 'four', 'S2': 'five', 'S3': 'six', 'S4': 'seven', 'corr': ' eight', 'incorr': ' seven', 'text': 'Flag lost in four. Star lost in five. Hand lost in six. House lost in seven. Watch lost in'}, {'S1': 'five', 'S2': 'six', 'S3': 'seven', 'S4': 'eight', 'corr': ' nine', 'incorr': ' eight', 'text': 'Apple lost in five. Key lost in six. Car lost in seven. Iron lost in eight. Year lost in'}, {'S1': 'six', 'S2': 'seven', 'S3': 'eight', 'S4': 'nine', 'corr': ' ten', 'incorr': ' nine', 'text': 'Queen lost in six. Rat lost in seven. Glass lost in eight. Road lost in nine. Corn lost in'}, {'S1': 'seven', 'S2': 'eight', 'S3': 'nine', 'S4': 'ten', 'corr': ' eleven', 'incorr': ' ten', 'text': 'Ring lost in seven. Ball lost in eight. Orange lost in nine. Hand lost in ten. Zip lost in'}, {'S1': 'eight', 'S2': 'nine', 'S3': 'ten', 'S4': 'eleven', 'corr': ' twelve', 'incorr': ' eleven', 'text': 'Box lost in eight. Tree lost in nine. Ring lost in ten. Orange lost in eleven. Glass lost in'}, {'S1': 'one', 'S2': 'two', 'S3': 'three', 'S4': 'four', 'corr': ' five', 'incorr': ' four', 'text': 'Hill lost in one. Ax lost in two. Desk lost in three. Key lost in four. Desk lost in'}, {'S1': 'two', 'S2': 'three', 'S3': 'four', 'S4': 'five', 'corr': ' six', 'incorr': ' five', 'text': 'Rose lost in two. Dog lost in three. Key lost in four. Star lost in five. Eye lost in'}, {'S1': 'three', 'S2': 'four', 'S3': 'five', 'S4': 'six', 'corr': ' seven', 'incorr': ' six', 'text': 'Watch lost in three. Apple lost in four. Jar lost in five. Night lost in six. Desk lost in'}, {'S1': 'four', 'S2': 'five', 'S3': 'six', 'S4': 'seven', 'corr': ' eight', 'incorr': ' seven', 'text': 'Camera lost in four. Car lost in five. Desk lost in six. Pen lost in seven. Book lost in'}, {'S1': 'five', 'S2': 'six', 'S3': 'seven', 'S4': 'eight', 'corr': ' nine', 'incorr': ' eight', 'text': 'House lost in five. Road lost in six. Mouse lost in seven. Year lost in eight. Wind lost in'}, {'S1': 'six', 'S2': 'seven', 'S3': 'eight', 'S4': 'nine', 'corr': ' ten', 'incorr': ' nine', 'text': 'Zip lost in six. Ring lost in seven. Window lost in eight. Hill lost in nine. Hat lost in'}, {'S1': 'seven', 'S2': 'eight', 'S3': 'nine', 'S4': 'ten', 'corr': ' eleven', 'incorr': ' ten', 'text': 'Key lost in seven. Car lost in eight. Corn lost in nine. Wall lost in ten. Clock lost in'}, {'S1': 'eight', 'S2': 'nine', 'S3': 'ten', 'S4': 'eleven', 'corr': ' twelve', 'incorr': ' eleven', 'text': 'Ring lost in eight. Window lost in nine. Queen lost in ten. Tree lost in eleven. Van lost in'}, {'S1': 'one', 'S2': 'two', 'S3': 'three', 'S4': 'four', 'corr': ' five', 'incorr': ' four', 'text': 'Moon lost in one. Map lost in two. Nut lost in three. Fish lost in four. Jar lost in'}, {'S1': 'two', 'S2': 'three', 'S3': 'four', 'S4': 'five', 'corr': ' six', 'incorr': ' five', 'text': 'Dog lost in two. Snake lost in three. Year lost in four. Corn lost in five. Van lost in'}, {'S1': 'three', 'S2': 'four', 'S3': 'five', 'S4': 'six', 'corr': ' seven', 'incorr': ' six', 'text': 'Jam lost in three. Tree lost in four. Desk lost in five. Queen lost in six. Camera lost in'}, {'S1': 'four', 'S2': 'five', 'S3': 'six', 'S4': 'seven', 'corr': ' eight', 'incorr': ' seven', 'text': 'Ball lost in four. Tree lost in five. Apple lost in six. Gold lost in seven. Queen lost in'}, {'S1': 'five', 'S2': 'six', 'S3': 'seven', 'S4': 'eight', 'corr': ' nine', 'incorr': ' eight', 'text': 'Table lost in five. Hat lost in six. Apple lost in seven. Eye lost in eight. Sand lost in'}, {'S1': 'six', 'S2': 'seven', 'S3': 'eight', 'S4': 'nine', 'corr': ' ten', 'incorr': ' nine', 'text': 'Rat lost in six. Rose lost in seven. Snake lost in eight. Key lost in nine. Apple lost in'}, {'S1': 'seven', 'S2': 'eight', 'S3': 'nine', 'S4': 'ten', 'corr': ' eleven', 'incorr': ' ten', 'text': 'Map lost in seven. Sun lost in eight. Zip lost in nine. Ant lost in ten. Flag lost in'}, {'S1': 'eight', 'S2': 'nine', 'S3': 'ten', 'S4': 'eleven', 'corr': ' twelve', 'incorr': ' eleven', 'text': 'Hill lost in eight. Ring lost in nine. Ball lost in ten. Van lost in eleven. Jar lost in'}, {'S1': 'one', 'S2': 'two', 'S3': 'three', 'S4': 'four', 'corr': ' five', 'incorr': ' four', 'text': 'Wheel lost in one. Fan lost in two. Apple lost in three. Rose lost in four. House lost in'}, {'S1': 'two', 'S2': 'three', 'S3': 'four', 'S4': 'five', 'corr': ' six', 'incorr': ' five', 'text': 'Hand lost in two. Star lost in three. Rose lost in four. Van lost in five. Iron lost in'}, {'S1': 'three', 'S2': 'four', 'S3': 'five', 'S4': 'six', 'corr': ' seven', 'incorr': ' six', 'text': 'Gold lost in three. Desk lost in four. Corn lost in five. Ball lost in six. Fan lost in'}, {'S1': 'four', 'S2': 'five', 'S3': 'six', 'S4': 'seven', 'corr': ' eight', 'incorr': ' seven', 'text': 'Oil lost in four. Nut lost in five. Gold lost in six. Chair lost in seven. Fish lost in'}, {'S1': 'five', 'S2': 'six', 'S3': 'seven', 'S4': 'eight', 'corr': ' nine', 'incorr': ' eight', 'text': 'Apple lost in five. Flag lost in six. Iron lost in seven. Wall lost in eight. Desk lost in'}, {'S1': 'six', 'S2': 'seven', 'S3': 'eight', 'S4': 'nine', 'corr': ' ten', 'incorr': ' nine', 'text': 'Queen lost in six. Nut lost in seven. Year lost in eight. Camera lost in nine. Cat lost in'}, {'S1': 'seven', 'S2': 'eight', 'S3': 'nine', 'S4': 'ten', 'corr': ' eleven', 'incorr': ' ten', 'text': 'Star lost in seven. Gold lost in eight. Orange lost in nine. Gate lost in ten. Window lost in'}, {'S1': 'eight', 'S2': 'nine', 'S3': 'ten', 'S4': 'eleven', 'corr': ' twelve', 'incorr': ' eleven', 'text': 'Key lost in eight. Flag lost in nine. Nut lost in ten. Eye lost in eleven. Apple lost in'}, {'S1': 'one', 'S2': 'two', 'S3': 'three', 'S4': 'four', 'corr': ' five', 'incorr': ' four', 'text': 'Car lost in one. Iron lost in two. Year lost in three. Apple lost in four. Star lost in'}, {'S1': 'two', 'S2': 'three', 'S3': 'four', 'S4': 'five', 'corr': ' six', 'incorr': ' five', 'text': 'Snake lost in two. Ball lost in three. Nut lost in four. Dog lost in five. Jar lost in'}, {'S1': 'three', 'S2': 'four', 'S3': 'five', 'S4': 'six', 'corr': ' seven', 'incorr': ' six', 'text': 'Fish lost in three. Ball lost in four. Jam lost in five. Hat lost in six. Ball lost in'}, {'S1': 'four', 'S2': 'five', 'S3': 'six', 'S4': 'seven', 'corr': ' eight', 'incorr': ' seven', 'text': 'Road lost in four. Mouse lost in five. Ax lost in six. Train lost in seven. Car lost in'}, {'S1': 'five', 'S2': 'six', 'S3': 'seven', 'S4': 'eight', 'corr': ' nine', 'incorr': ' eight', 'text': 'Hill lost in five. Car lost in six. King lost in seven. Fire lost in eight. Watch lost in'}, {'S1': 'six', 'S2': 'seven', 'S3': 'eight', 'S4': 'nine', 'corr': ' ten', 'incorr': ' nine', 'text': 'Ball lost in six. Book lost in seven. Hill lost in eight. Map lost in nine. Road lost in'}, {'S1': 'seven', 'S2': 'eight', 'S3': 'nine', 'S4': 'ten', 'corr': ' eleven', 'incorr': ' ten', 'text': 'Orange lost in seven. Rose lost in eight. Fish lost in nine. Bug lost in ten. Fan lost in'}, {'S1': 'eight', 'S2': 'nine', 'S3': 'ten', 'S4': 'eleven', 'corr': ' twelve', 'incorr': ' eleven', 'text': 'Book lost in eight. Clock lost in nine. Nut lost in ten. Ice lost in eleven. Desk lost in'}, {'S1': 'one', 'S2': 'two', 'S3': 'three', 'S4': 'four', 'corr': ' five', 'incorr': ' four', 'text': 'Cow lost in one. Bug lost in two. Tree lost in three. Fire lost in four. Star lost in'}, {'S1': 'two', 'S2': 'three', 'S3': 'four', 'S4': 'five', 'corr': ' six', 'incorr': ' five', 'text': 'Hand lost in two. Fan lost in three. Tree lost in four. Queen lost in five. Cat lost in'}, {'S1': 'three', 'S2': 'four', 'S3': 'five', 'S4': 'six', 'corr': ' seven', 'incorr': ' six', 'text': 'Wheel lost in three. Hill lost in four. Apple lost in five. Bug lost in six. Snow lost in'}, {'S1': 'four', 'S2': 'five', 'S3': 'six', 'S4': 'seven', 'corr': ' eight', 'incorr': ' seven', 'text': 'Clock lost in four. Star lost in five. Moon lost in six. Ant lost in seven. Rain lost in'}, {'S1': 'five', 'S2': 'six', 'S3': 'seven', 'S4': 'eight', 'corr': ' nine', 'incorr': ' eight', 'text': 'Van lost in five. Year lost in six. Ant lost in seven. Ear lost in eight. Star lost in'}, {'S1': 'six', 'S2': 'seven', 'S3': 'eight', 'S4': 'nine', 'corr': ' ten', 'incorr': ' nine', 'text': 'Hill lost in six. Dog lost in seven. Desk lost in eight. Key lost in nine. Ear lost in'}, {'S1': 'seven', 'S2': 'eight', 'S3': 'nine', 'S4': 'ten', 'corr': ' eleven', 'incorr': ' ten', 'text': 'Ring lost in seven. Orange lost in eight. Sun lost in nine. Rain lost in ten. Star lost in'}, {'S1': 'eight', 'S2': 'nine', 'S3': 'ten', 'S4': 'eleven', 'corr': ' twelve', 'incorr': ' eleven', 'text': 'Night lost in eight. Queen lost in nine. Jam lost in ten. Fire lost in eleven. Box lost in'}, {'S1': 'one', 'S2': 'two', 'S3': 'three', 'S4': 'four', 'corr': ' five', 'incorr': ' four', 'text': 'Wolf lost in one. Glass lost in two. Pen lost in three. Camera lost in four. Tree lost in'}, {'S1': 'two', 'S2': 'three', 'S3': 'four', 'S4': 'five', 'corr': ' six', 'incorr': ' five', 'text': 'Apple lost in two. Chair lost in three. Queen lost in four. Gate lost in five. Cow lost in'}, {'S1': 'three', 'S2': 'four', 'S3': 'five', 'S4': 'six', 'corr': ' seven', 'incorr': ' six', 'text': 'Eye lost in three. Car lost in four. Table lost in five. Desk lost in six. Ear lost in'}, {'S1': 'four', 'S2': 'five', 'S3': 'six', 'S4': 'seven', 'corr': ' eight', 'incorr': ' seven', 'text': 'Rose lost in four. Gold lost in five. Box lost in six. Camera lost in seven. Road lost in'}, {'S1': 'five', 'S2': 'six', 'S3': 'seven', 'S4': 'eight', 'corr': ' nine', 'incorr': ' eight', 'text': 'Ring lost in five. Pen lost in six. Train lost in seven. Ring lost in eight. Corn lost in'}, {'S1': 'six', 'S2': 'seven', 'S3': 'eight', 'S4': 'nine', 'corr': ' ten', 'incorr': ' nine', 'text': 'Queen lost in six. Camera lost in seven. Star lost in eight. Rat lost in nine. Van lost in'}, {'S1': 'seven', 'S2': 'eight', 'S3': 'nine', 'S4': 'ten', 'corr': ' eleven', 'incorr': ' ten', 'text': 'Road lost in seven. Iron lost in eight. Ax lost in nine. Watch lost in ten. Rain lost in'}, {'S1': 'eight', 'S2': 'nine', 'S3': 'ten', 'S4': 'eleven', 'corr': ' twelve', 'incorr': ' eleven', 'text': 'Ball lost in eight. Tree lost in nine. Train lost in ten. Key lost in eleven. Queen lost in'}, {'S1': 'one', 'S2': 'two', 'S3': 'three', 'S4': 'four', 'corr': ' five', 'incorr': ' four', 'text': 'Ear lost in one. Fire lost in two. Bug lost in three. Sand lost in four. Tree lost in'}, {'S1': 'two', 'S2': 'three', 'S3': 'four', 'S4': 'five', 'corr': ' six', 'incorr': ' five', 'text': 'Corn lost in two. Wind lost in three. Queen lost in four. Rat lost in five. Watch lost in'}, {'S1': 'three', 'S2': 'four', 'S3': 'five', 'S4': 'six', 'corr': ' seven', 'incorr': ' six', 'text': 'Nut lost in three. Ant lost in four. Window lost in five. Clock lost in six. Tree lost in'}, {'S1': 'four', 'S2': 'five', 'S3': 'six', 'S4': 'seven', 'corr': ' eight', 'incorr': ' seven', 'text': 'Chair lost in four. Train lost in five. Snow lost in six. Rat lost in seven. Iron lost in'}, {'S1': 'five', 'S2': 'six', 'S3': 'seven', 'S4': 'eight', 'corr': ' nine', 'incorr': ' eight', 'text': 'Hill lost in five. Pen lost in six. Queen lost in seven. Ant lost in eight. Snake lost in'}, {'S1': 'six', 'S2': 'seven', 'S3': 'eight', 'S4': 'nine', 'corr': ' ten', 'incorr': ' nine', 'text': 'Flag lost in six. Ring lost in seven. Eye lost in eight. Zip lost in nine. Star lost in'}, {'S1': 'seven', 'S2': 'eight', 'S3': 'nine', 'S4': 'ten', 'corr': ' eleven', 'incorr': ' ten', 'text': 'Book lost in seven. Box lost in eight. Road lost in nine. Orange lost in ten. Ring lost in'}, {'S1': 'eight', 'S2': 'nine', 'S3': 'ten', 'S4': 'eleven', 'corr': ' twelve', 'incorr': ' eleven', 'text': 'Flag lost in eight. Mouse lost in nine. Camera lost in ten. Ring lost in eleven. Watch lost in'}, {'S1': 'one', 'S2': 'two', 'S3': 'three', 'S4': 'four', 'corr': ' five', 'incorr': ' four', 'text': 'King lost in one. Bird lost in two. Cat lost in three. Hand lost in four. Camera lost in'}, {'S1': 'two', 'S2': 'three', 'S3': 'four', 'S4': 'five', 'corr': ' six', 'incorr': ' five', 'text': 'Window lost in two. Wind lost in three. Fan lost in four. Ball lost in five. Train lost in'}, {'S1': 'three', 'S2': 'four', 'S3': 'five', 'S4': 'six', 'corr': ' seven', 'incorr': ' six', 'text': 'Book lost in three. Light lost in four. Train lost in five. Watch lost in six. Nut lost in'}, {'S1': 'four', 'S2': 'five', 'S3': 'six', 'S4': 'seven', 'corr': ' eight', 'incorr': ' seven', 'text': 'Pear lost in four. Fire lost in five. Ring lost in six. Night lost in seven. Ear lost in'}, {'S1': 'five', 'S2': 'six', 'S3': 'seven', 'S4': 'eight', 'corr': ' nine', 'incorr': ' eight', 'text': 'Book lost in five. Flag lost in six. Nut lost in seven. Watch lost in eight. Snow lost in'}, {'S1': 'six', 'S2': 'seven', 'S3': 'eight', 'S4': 'nine', 'corr': ' ten', 'incorr': ' nine', 'text': 'Rain lost in six. Nut lost in seven. Nut lost in eight. Fan lost in nine. Hand lost in'}, {'S1': 'seven', 'S2': 'eight', 'S3': 'nine', 'S4': 'ten', 'corr': ' eleven', 'incorr': ' ten', 'text': 'House lost in seven. Hill lost in eight. Orange lost in nine. Night lost in ten. Wolf lost in'}, {'S1': 'eight', 'S2': 'nine', 'S3': 'ten', 'S4': 'eleven', 'corr': ' twelve', 'incorr': ' eleven', 'text': 'Window lost in eight. Key lost in nine. Orange lost in ten. Sand lost in eleven. Rat lost in'}, {'S1': 'one', 'S2': 'two', 'S3': 'three', 'S4': 'four', 'corr': ' five', 'incorr': ' four', 'text': 'Dog lost in one. Fire lost in two. Hat lost in three. Key lost in four. House lost in'}, {'S1': 'two', 'S2': 'three', 'S3': 'four', 'S4': 'five', 'corr': ' six', 'incorr': ' five', 'text': 'Camera lost in two. Bird lost in three. Bug lost in four. Star lost in five. Gold lost in'}, {'S1': 'three', 'S2': 'four', 'S3': 'five', 'S4': 'six', 'corr': ' seven', 'incorr': ' six', 'text': 'Nut lost in three. Hat lost in four. Wolf lost in five. Year lost in six. Jam lost in'}, {'S1': 'four', 'S2': 'five', 'S3': 'six', 'S4': 'seven', 'corr': ' eight', 'incorr': ' seven', 'text': 'Watch lost in four. Pen lost in five. Clock lost in six. Ocean lost in seven. Flag lost in'}, {'S1': 'five', 'S2': 'six', 'S3': 'seven', 'S4': 'eight', 'corr': ' nine', 'incorr': ' eight', 'text': 'Ear lost in five. Apple lost in six. Tree lost in seven. Queen lost in eight. Hat lost in'}, {'S1': 'six', 'S2': 'seven', 'S3': 'eight', 'S4': 'nine', 'corr': ' ten', 'incorr': ' nine', 'text': 'Ax lost in six. Fire lost in seven. Camera lost in eight. Orange lost in nine. Pear lost in'}, {'S1': 'seven', 'S2': 'eight', 'S3': 'nine', 'S4': 'ten', 'corr': ' eleven', 'incorr': ' ten', 'text': 'Gate lost in seven. Queen lost in eight. Van lost in nine. Window lost in ten. Rose lost in'}, {'S1': 'eight', 'S2': 'nine', 'S3': 'ten', 'S4': 'eleven', 'corr': ' twelve', 'incorr': ' eleven', 'text': 'Star lost in eight. Fan lost in nine. Light lost in ten. Flag lost in eleven. Desk lost in'}, {'S1': 'one', 'S2': 'two', 'S3': 'three', 'S4': 'four', 'corr': ' five', 'incorr': ' four', 'text': 'Mouse lost in one. Orange lost in two. Queen lost in three. Gold lost in four. Tree lost in'}, {'S1': 'two', 'S2': 'three', 'S3': 'four', 'S4': 'five', 'corr': ' six', 'incorr': ' five', 'text': 'Queen lost in two. Fan lost in three. Wolf lost in four. Sun lost in five. Gold lost in'}, {'S1': 'three', 'S2': 'four', 'S3': 'five', 'S4': 'six', 'corr': ' seven', 'incorr': ' six', 'text': 'Lake lost in three. Ear lost in four. Key lost in five. Hat lost in six. Fire lost in'}, {'S1': 'four', 'S2': 'five', 'S3': 'six', 'S4': 'seven', 'corr': ' eight', 'incorr': ' seven', 'text': 'Ice lost in four. Key lost in five. Road lost in six. Fan lost in seven. Camera lost in'}, {'S1': 'five', 'S2': 'six', 'S3': 'seven', 'S4': 'eight', 'corr': ' nine', 'incorr': ' eight', 'text': 'Ice lost in five. Arm lost in six. Hat lost in seven. Camera lost in eight. Rose lost in'}, {'S1': 'six', 'S2': 'seven', 'S3': 'eight', 'S4': 'nine', 'corr': ' ten', 'incorr': ' nine', 'text': 'Corn lost in six. Queen lost in seven. Car lost in eight. Eye lost in nine. Car lost in'}, {'S1': 'seven', 'S2': 'eight', 'S3': 'nine', 'S4': 'ten', 'corr': ' eleven', 'incorr': ' ten', 'text': 'Arm lost in seven. King lost in eight. Bug lost in nine. Rose lost in ten. Snake lost in'}, {'S1': 'eight', 'S2': 'nine', 'S3': 'ten', 'S4': 'eleven', 'corr': ' twelve', 'incorr': ' eleven', 'text': 'Rat lost in eight. Ear lost in nine. Ring lost in ten. Pen lost in eleven. Glass lost in'}, {'S1': 'one', 'S2': 'two', 'S3': 'three', 'S4': 'four', 'corr': ' five', 'incorr': ' four', 'text': 'King lost in one. Fan lost in two. Glass lost in three. Chair lost in four. Moon lost in'}, {'S1': 'two', 'S2': 'three', 'S3': 'four', 'S4': 'five', 'corr': ' six', 'incorr': ' five', 'text': 'Rose lost in two. Light lost in three. Corn lost in four. Pear lost in five. Train lost in'}, {'S1': 'three', 'S2': 'four', 'S3': 'five', 'S4': 'six', 'corr': ' seven', 'incorr': ' six', 'text': 'Nut lost in three. Sun lost in four. Flag lost in five. Snow lost in six. Window lost in'}, {'S1': 'four', 'S2': 'five', 'S3': 'six', 'S4': 'seven', 'corr': ' eight', 'incorr': ' seven', 'text': 'Train lost in four. Queen lost in five. Ring lost in six. Hat lost in seven. Star lost in'}, {'S1': 'five', 'S2': 'six', 'S3': 'seven', 'S4': 'eight', 'corr': ' nine', 'incorr': ' eight', 'text': 'Tree lost in five. Corn lost in six. Queen lost in seven. Tree lost in eight. Desk lost in'}, {'S1': 'six', 'S2': 'seven', 'S3': 'eight', 'S4': 'nine', 'corr': ' ten', 'incorr': ' nine', 'text': 'Fire lost in six. Ax lost in seven. Hat lost in eight. Bird lost in nine. Desk lost in'}, {'S1': 'seven', 'S2': 'eight', 'S3': 'nine', 'S4': 'ten', 'corr': ' eleven', 'incorr': ' ten', 'text': 'Window lost in seven. Mouse lost in eight. Cat lost in nine. Jar lost in ten. Night lost in'}, {'S1': 'eight', 'S2': 'nine', 'S3': 'ten', 'S4': 'eleven', 'corr': ' twelve', 'incorr': ' eleven', 'text': 'Watch lost in eight. Flag lost in nine. Queen lost in ten. Sand lost in eleven. Camera lost in'}, {'S1': 'one', 'S2': 'two', 'S3': 'three', 'S4': 'four', 'corr': ' five', 'incorr': ' four', 'text': 'Ring lost in one. Wallet lost in two. Queen lost in three. Train lost in four. Desk lost in'}, {'S1': 'two', 'S2': 'three', 'S3': 'four', 'S4': 'five', 'corr': ' six', 'incorr': ' five', 'text': 'Snow lost in two. Ring lost in three. Ocean lost in four. Van lost in five. Pen lost in'}, {'S1': 'three', 'S2': 'four', 'S3': 'five', 'S4': 'six', 'corr': ' seven', 'incorr': ' six', 'text': 'Iron lost in three. Glass lost in four. Ocean lost in five. Sand lost in six. Snake lost in'}, {'S1': 'four', 'S2': 'five', 'S3': 'six', 'S4': 'seven', 'corr': ' eight', 'incorr': ' seven', 'text': 'Light lost in four. Flag lost in five. Ring lost in six. Table lost in seven. House lost in'}, {'S1': 'five', 'S2': 'six', 'S3': 'seven', 'S4': 'eight', 'corr': ' nine', 'incorr': ' eight', 'text': 'King lost in five. Rose lost in six. Queen lost in seven. Ring lost in eight. Ax lost in'}, {'S1': 'six', 'S2': 'seven', 'S3': 'eight', 'S4': 'nine', 'corr': ' ten', 'incorr': ' nine', 'text': 'Rat lost in six. Wall lost in seven. Apple lost in eight. Zip lost in nine. Gate lost in'}, {'S1': 'seven', 'S2': 'eight', 'S3': 'nine', 'S4': 'ten', 'corr': ' eleven', 'incorr': ' ten', 'text': 'Map lost in seven. Wind lost in eight. Camera lost in nine. Fire lost in ten. Nut lost in'}, {'S1': 'eight', 'S2': 'nine', 'S3': 'ten', 'S4': 'eleven', 'corr': ' twelve', 'incorr': ' eleven', 'text': 'House lost in eight. Rat lost in nine. Nut lost in ten. Star lost in eleven. Zip lost in'}, {'S1': 'one', 'S2': 'two', 'S3': 'three', 'S4': 'four', 'corr': ' five', 'incorr': ' four', 'text': 'Night lost in one. Key lost in two. Star lost in three. Ring lost in four. Table lost in'}, {'S1': 'two', 'S2': 'three', 'S3': 'four', 'S4': 'five', 'corr': ' six', 'incorr': ' five', 'text': 'Watch lost in two. Wallet lost in three. Van lost in four. Fan lost in five. Book lost in'}, {'S1': 'three', 'S2': 'four', 'S3': 'five', 'S4': 'six', 'corr': ' seven', 'incorr': ' six', 'text': 'Ring lost in three. Car lost in four. Year lost in five. Ant lost in six. Zip lost in'}, {'S1': 'four', 'S2': 'five', 'S3': 'six', 'S4': 'seven', 'corr': ' eight', 'incorr': ' seven', 'text': 'Wheel lost in four. Tree lost in five. King lost in six. Lake lost in seven. Clock lost in'}, {'S1': 'five', 'S2': 'six', 'S3': 'seven', 'S4': 'eight', 'corr': ' nine', 'incorr': ' eight', 'text': 'Rose lost in five. Flag lost in six. Window lost in seven. Hand lost in eight. Gate lost in'}, {'S1': 'six', 'S2': 'seven', 'S3': 'eight', 'S4': 'nine', 'corr': ' ten', 'incorr': ' nine', 'text': 'Jar lost in six. Hat lost in seven. Hand lost in eight. Orange lost in nine. Tree lost in'}, {'S1': 'seven', 'S2': 'eight', 'S3': 'nine', 'S4': 'ten', 'corr': ' eleven', 'incorr': ' ten', 'text': 'Ant lost in seven. Queen lost in eight. Glass lost in nine. Snow lost in ten. Ball lost in'}, {'S1': 'eight', 'S2': 'nine', 'S3': 'ten', 'S4': 'eleven', 'corr': ' twelve', 'incorr': ' eleven', 'text': 'Train lost in eight. Hat lost in nine. Pen lost in ten. Apple lost in eleven. Box lost in'}, {'S1': 'one', 'S2': 'two', 'S3': 'three', 'S4': 'four', 'corr': ' five', 'incorr': ' four', 'text': 'Ax lost in one. Watch lost in two. Ball lost in three. Corn lost in four. Night lost in'}, {'S1': 'two', 'S2': 'three', 'S3': 'four', 'S4': 'five', 'corr': ' six', 'incorr': ' five', 'text': 'Nut lost in two. Fan lost in three. Ring lost in four. Eye lost in five. Rose lost in'}, {'S1': 'three', 'S2': 'four', 'S3': 'five', 'S4': 'six', 'corr': ' seven', 'incorr': ' six', 'text': 'Fan lost in three. Hat lost in four. Hill lost in five. Window lost in six. Gold lost in'}, {'S1': 'four', 'S2': 'five', 'S3': 'six', 'S4': 'seven', 'corr': ' eight', 'incorr': ' seven', 'text': 'Queen lost in four. Van lost in five. Tree lost in six. Car lost in seven. Key lost in'}, {'S1': 'five', 'S2': 'six', 'S3': 'seven', 'S4': 'eight', 'corr': ' nine', 'incorr': ' eight', 'text': 'Table lost in five. Watch lost in six. Apple lost in seven. Watch lost in eight. Nut lost in'}, {'S1': 'six', 'S2': 'seven', 'S3': 'eight', 'S4': 'nine', 'corr': ' ten', 'incorr': ' nine', 'text': 'Eye lost in six. Lake lost in seven. Wall lost in eight. Rose lost in nine. Zip lost in'}, {'S1': 'seven', 'S2': 'eight', 'S3': 'nine', 'S4': 'ten', 'corr': ' eleven', 'incorr': ' ten', 'text': 'Year lost in seven. House lost in eight. Moon lost in nine. Flag lost in ten. Gold lost in'}, {'S1': 'eight', 'S2': 'nine', 'S3': 'ten', 'S4': 'eleven', 'corr': ' twelve', 'incorr': ' eleven', 'text': 'King lost in eight. Orange lost in nine. Orange lost in ten. Rose lost in eleven. Window lost in'}, {'S1': 'one', 'S2': 'two', 'S3': 'three', 'S4': 'four', 'corr': ' five', 'incorr': ' four', 'text': 'Ocean lost in one. Desk lost in two. Wolf lost in three. Zip lost in four. Ball lost in'}, {'S1': 'two', 'S2': 'three', 'S3': 'four', 'S4': 'five', 'corr': ' six', 'incorr': ' five', 'text': 'Ice lost in two. Corn lost in three. Orange lost in four. Book lost in five. Year lost in'}, {'S1': 'three', 'S2': 'four', 'S3': 'five', 'S4': 'six', 'corr': ' seven', 'incorr': ' six', 'text': 'Table lost in three. Van lost in four. Wall lost in five. Nut lost in six. Window lost in'}, {'S1': 'four', 'S2': 'five', 'S3': 'six', 'S4': 'seven', 'corr': ' eight', 'incorr': ' seven', 'text': 'Ax lost in four. Jam lost in five. Fish lost in six. Corn lost in seven. Table lost in'}, {'S1': 'five', 'S2': 'six', 'S3': 'seven', 'S4': 'eight', 'corr': ' nine', 'incorr': ' eight', 'text': 'Ear lost in five. Ring lost in six. Corn lost in seven. Glass lost in eight. Box lost in'}, {'S1': 'six', 'S2': 'seven', 'S3': 'eight', 'S4': 'nine', 'corr': ' ten', 'incorr': ' nine', 'text': 'Orange lost in six. Van lost in seven. Oil lost in eight. Apple lost in nine. Book lost in'}, {'S1': 'seven', 'S2': 'eight', 'S3': 'nine', 'S4': 'ten', 'corr': ' eleven', 'incorr': ' ten', 'text': 'Book lost in seven. Ball lost in eight. Key lost in nine. Chair lost in ten. Corn lost in'}, {'S1': 'eight', 'S2': 'nine', 'S3': 'ten', 'S4': 'eleven', 'corr': ' twelve', 'incorr': ' eleven', 'text': 'Zip lost in eight. Rain lost in nine. Fan lost in ten. Gold lost in eleven. Nut lost in'}, {'S1': 'one', 'S2': 'two', 'S3': 'three', 'S4': 'four', 'corr': ' five', 'incorr': ' four', 'text': 'Car lost in one. Apple lost in two. Night lost in three. Ear lost in four. Wallet lost in'}, {'S1': 'two', 'S2': 'three', 'S3': 'four', 'S4': 'five', 'corr': ' six', 'incorr': ' five', 'text': 'Glass lost in two. Queen lost in three. Nut lost in four. House lost in five. Snake lost in'}, {'S1': 'three', 'S2': 'four', 'S3': 'five', 'S4': 'six', 'corr': ' seven', 'incorr': ' six', 'text': 'Queen lost in three. Nut lost in four. Hand lost in five. Rose lost in six. Fan lost in'}, {'S1': 'four', 'S2': 'five', 'S3': 'six', 'S4': 'seven', 'corr': ' eight', 'incorr': ' seven', 'text': 'Zip lost in four. Bug lost in five. Fan lost in six. Window lost in seven. Cat lost in'}, {'S1': 'five', 'S2': 'six', 'S3': 'seven', 'S4': 'eight', 'corr': ' nine', 'incorr': ' eight', 'text': 'Zip lost in five. Window lost in six. Sun lost in seven. Desk lost in eight. Pen lost in'}, {'S1': 'six', 'S2': 'seven', 'S3': 'eight', 'S4': 'nine', 'corr': ' ten', 'incorr': ' nine', 'text': 'Fan lost in six. Star lost in seven. Apple lost in eight. Ring lost in nine. House lost in'}, {'S1': 'seven', 'S2': 'eight', 'S3': 'nine', 'S4': 'ten', 'corr': ' eleven', 'incorr': ' ten', 'text': 'Tree lost in seven. Watch lost in eight. Fan lost in nine. Jam lost in ten. Flag lost in'}, {'S1': 'eight', 'S2': 'nine', 'S3': 'ten', 'S4': 'eleven', 'corr': ' twelve', 'incorr': ' eleven', 'text': 'Wolf lost in eight. Apple lost in nine. Star lost in ten. Night lost in eleven. King lost in'}, {'S1': 'one', 'S2': 'two', 'S3': 'three', 'S4': 'four', 'corr': ' five', 'incorr': ' four', 'text': 'Fire lost in one. Clock lost in two. Apple lost in three. Pear lost in four. Wallet lost in'}, {'S1': 'two', 'S2': 'three', 'S3': 'four', 'S4': 'five', 'corr': ' six', 'incorr': ' five', 'text': 'Snake lost in two. Jar lost in three. Snow lost in four. Flag lost in five. King lost in'}, {'S1': 'three', 'S2': 'four', 'S3': 'five', 'S4': 'six', 'corr': ' seven', 'incorr': ' six', 'text': 'Wallet lost in three. Fan lost in four. Watch lost in five. Arm lost in six. Car lost in'}, {'S1': 'four', 'S2': 'five', 'S3': 'six', 'S4': 'seven', 'corr': ' eight', 'incorr': ' seven', 'text': 'Watch lost in four. Corn lost in five. Camera lost in six. Train lost in seven. Desk lost in'}, {'S1': 'five', 'S2': 'six', 'S3': 'seven', 'S4': 'eight', 'corr': ' nine', 'incorr': ' eight', 'text': 'Apple lost in five. Tree lost in six. Ear lost in seven. Orange lost in eight. Queen lost in'}, {'S1': 'six', 'S2': 'seven', 'S3': 'eight', 'S4': 'nine', 'corr': ' ten', 'incorr': ' nine', 'text': 'Oil lost in six. Fire lost in seven. Dog lost in eight. Cat lost in nine. Star lost in'}, {'S1': 'seven', 'S2': 'eight', 'S3': 'nine', 'S4': 'ten', 'corr': ' eleven', 'incorr': ' ten', 'text': 'Pen lost in seven. Ball lost in eight. Fire lost in nine. Gold lost in ten. Tree lost in'}, {'S1': 'eight', 'S2': 'nine', 'S3': 'ten', 'S4': 'eleven', 'corr': ' twelve', 'incorr': ' eleven', 'text': 'Star lost in eight. Book lost in nine. Ring lost in ten. Box lost in eleven. Corn lost in'}, {'S1': 'one', 'S2': 'two', 'S3': 'three', 'S4': 'four', 'corr': ' five', 'incorr': ' four', 'text': 'Sun lost in one. Gate lost in two. Wheel lost in three. Cat lost in four. Tree lost in'}, {'S1': 'two', 'S2': 'three', 'S3': 'four', 'S4': 'five', 'corr': ' six', 'incorr': ' five', 'text': 'Flag lost in two. Van lost in three. Book lost in four. Road lost in five. Fan lost in'}, {'S1': 'three', 'S2': 'four', 'S3': 'five', 'S4': 'six', 'corr': ' seven', 'incorr': ' six', 'text': 'Queen lost in three. Chair lost in four. Window lost in five. Ring lost in six. Watch lost in'}, {'S1': 'four', 'S2': 'five', 'S3': 'six', 'S4': 'seven', 'corr': ' eight', 'incorr': ' seven', 'text': 'Watch lost in four. Train lost in five. Tree lost in six. Hand lost in seven. Ear lost in'}, {'S1': 'five', 'S2': 'six', 'S3': 'seven', 'S4': 'eight', 'corr': ' nine', 'incorr': ' eight', 'text': 'Ocean lost in five. Clock lost in six. Apple lost in seven. Orange lost in eight. Cat lost in'}, {'S1': 'six', 'S2': 'seven', 'S3': 'eight', 'S4': 'nine', 'corr': ' ten', 'incorr': ' nine', 'text': 'Zip lost in six. Jam lost in seven. Ball lost in eight. Train lost in nine. Cat lost in'}, {'S1': 'seven', 'S2': 'eight', 'S3': 'nine', 'S4': 'ten', 'corr': ' eleven', 'incorr': ' ten', 'text': 'Apple lost in seven. King lost in eight. Light lost in nine. Snow lost in ten. Key lost in'}, {'S1': 'eight', 'S2': 'nine', 'S3': 'ten', 'S4': 'eleven', 'corr': ' twelve', 'incorr': ' eleven', 'text': 'Ice lost in eight. Ball lost in nine. Orange lost in ten. Book lost in eleven. Hill lost in'}, {'S1': 'one', 'S2': 'two', 'S3': 'three', 'S4': 'four', 'corr': ' five', 'incorr': ' four', 'text': 'Night lost in one. Watch lost in two. Arm lost in three. Apple lost in four. Year lost in'}, {'S1': 'two', 'S2': 'three', 'S3': 'four', 'S4': 'five', 'corr': ' six', 'incorr': ' five', 'text': 'Hand lost in two. Camera lost in three. Watch lost in four. Mouse lost in five. Jar lost in'}, {'S1': 'three', 'S2': 'four', 'S3': 'five', 'S4': 'six', 'corr': ' seven', 'incorr': ' six', 'text': 'Key lost in three. Tree lost in four. Moon lost in five. Desk lost in six. Camera lost in'}, {'S1': 'four', 'S2': 'five', 'S3': 'six', 'S4': 'seven', 'corr': ' eight', 'incorr': ' seven', 'text': 'Tree lost in four. Box lost in five. Rain lost in six. House lost in seven. Ring lost in'}, {'S1': 'five', 'S2': 'six', 'S3': 'seven', 'S4': 'eight', 'corr': ' nine', 'incorr': ' eight', 'text': 'Jar lost in five. Light lost in six. House lost in seven. Corn lost in eight. Jam lost in'}, {'S1': 'six', 'S2': 'seven', 'S3': 'eight', 'S4': 'nine', 'corr': ' ten', 'incorr': ' nine', 'text': 'Desk lost in six. Orange lost in seven. Key lost in eight. Snow lost in nine. Dog lost in'}, {'S1': 'seven', 'S2': 'eight', 'S3': 'nine', 'S4': 'ten', 'corr': ' eleven', 'incorr': ' ten', 'text': 'Ring lost in seven. Box lost in eight. Camera lost in nine. Book lost in ten. Nut lost in'}, {'S1': 'eight', 'S2': 'nine', 'S3': 'ten', 'S4': 'eleven', 'corr': ' twelve', 'incorr': ' eleven', 'text': 'Desk lost in eight. Light lost in nine. Rose lost in ten. Orange lost in eleven. Year lost in'}, {'S1': 'one', 'S2': 'two', 'S3': 'three', 'S4': 'four', 'corr': ' five', 'incorr': ' four', 'text': 'Queen lost in one. Camera lost in two. Ax lost in three. Night lost in four. Chair lost in'}, {'S1': 'two', 'S2': 'three', 'S3': 'four', 'S4': 'five', 'corr': ' six', 'incorr': ' five', 'text': 'Cat lost in two. Tree lost in three. Fan lost in four. Fan lost in five. Moon lost in'}, {'S1': 'three', 'S2': 'four', 'S3': 'five', 'S4': 'six', 'corr': ' seven', 'incorr': ' six', 'text': 'Window lost in three. Box lost in four. Orange lost in five. Tree lost in six. Ice lost in'}, {'S1': 'four', 'S2': 'five', 'S3': 'six', 'S4': 'seven', 'corr': ' eight', 'incorr': ' seven', 'text': 'Ant lost in four. Arm lost in five. Rat lost in six. Car lost in seven. Ball lost in'}, {'S1': 'five', 'S2': 'six', 'S3': 'seven', 'S4': 'eight', 'corr': ' nine', 'incorr': ' eight', 'text': 'Chair lost in five. Ring lost in six. Tree lost in seven. Window lost in eight. Moon lost in'}, {'S1': 'six', 'S2': 'seven', 'S3': 'eight', 'S4': 'nine', 'corr': ' ten', 'incorr': ' nine', 'text': 'Fan lost in six. Road lost in seven. Watch lost in eight. Mouse lost in nine. Ball lost in'}, {'S1': 'seven', 'S2': 'eight', 'S3': 'nine', 'S4': 'ten', 'corr': ' eleven', 'incorr': ' ten', 'text': 'Car lost in seven. Night lost in eight. Tree lost in nine. Desk lost in ten. Eye lost in'}, {'S1': 'eight', 'S2': 'nine', 'S3': 'ten', 'S4': 'eleven', 'corr': ' twelve', 'incorr': ' eleven', 'text': 'Fan lost in eight. Rat lost in nine. Arm lost in ten. Watch lost in eleven. Bird lost in'}, {'S1': 'one', 'S2': 'two', 'S3': 'three', 'S4': 'four', 'corr': ' five', 'incorr': ' four', 'text': 'Lake lost in one. Queen lost in two. Hill lost in three. Bird lost in four. Watch lost in'}, {'S1': 'two', 'S2': 'three', 'S3': 'four', 'S4': 'five', 'corr': ' six', 'incorr': ' five', 'text': 'Wallet lost in two. Lake lost in three. Zip lost in four. Iron lost in five. Nut lost in'}, {'S1': 'three', 'S2': 'four', 'S3': 'five', 'S4': 'six', 'corr': ' seven', 'incorr': ' six', 'text': 'Orange lost in three. Fan lost in four. Ant lost in five. Tree lost in six. Fan lost in'}, {'S1': 'four', 'S2': 'five', 'S3': 'six', 'S4': 'seven', 'corr': ' eight', 'incorr': ' seven', 'text': 'Rat lost in four. Cow lost in five. Rain lost in six. Ball lost in seven. Car lost in'}, {'S1': 'five', 'S2': 'six', 'S3': 'seven', 'S4': 'eight', 'corr': ' nine', 'incorr': ' eight', 'text': 'Sun lost in five. Ring lost in six. Camera lost in seven. Book lost in eight. Table lost in'}, {'S1': 'six', 'S2': 'seven', 'S3': 'eight', 'S4': 'nine', 'corr': ' ten', 'incorr': ' nine', 'text': 'Mouse lost in six. Moon lost in seven. Snake lost in eight. Snow lost in nine. Ring lost in'}, {'S1': 'seven', 'S2': 'eight', 'S3': 'nine', 'S4': 'ten', 'corr': ' eleven', 'incorr': ' ten', 'text': 'Train lost in seven. Iron lost in eight. Watch lost in nine. Desk lost in ten. Flag lost in'}, {'S1': 'eight', 'S2': 'nine', 'S3': 'ten', 'S4': 'eleven', 'corr': ' twelve', 'incorr': ' eleven', 'text': 'Jar lost in eight. Nut lost in nine. Orange lost in ten. Orange lost in eleven. Oil lost in'}, {'S1': 'one', 'S2': 'two', 'S3': 'three', 'S4': 'four', 'corr': ' five', 'incorr': ' four', 'text': 'Star lost in one. Ant lost in two. Ocean lost in three. Hand lost in four. Oil lost in'}, {'S1': 'two', 'S2': 'three', 'S3': 'four', 'S4': 'five', 'corr': ' six', 'incorr': ' five', 'text': 'Van lost in two. Light lost in three. Pear lost in four. Wheel lost in five. Fish lost in'}, {'S1': 'three', 'S2': 'four', 'S3': 'five', 'S4': 'six', 'corr': ' seven', 'incorr': ' six', 'text': 'Ocean lost in three. Cow lost in four. Cat lost in five. Fish lost in six. King lost in'}, {'S1': 'four', 'S2': 'five', 'S3': 'six', 'S4': 'seven', 'corr': ' eight', 'incorr': ' seven', 'text': 'House lost in four. Orange lost in five. Year lost in six. Wind lost in seven. Train lost in'}, {'S1': 'five', 'S2': 'six', 'S3': 'seven', 'S4': 'eight', 'corr': ' nine', 'incorr': ' eight', 'text': 'Queen lost in five. Car lost in six. Sun lost in seven. Jar lost in eight. Ring lost in'}, {'S1': 'six', 'S2': 'seven', 'S3': 'eight', 'S4': 'nine', 'corr': ' ten', 'incorr': ' nine', 'text': 'Tree lost in six. Snake lost in seven. Train lost in eight. Map lost in nine. Hill lost in'}, {'S1': 'seven', 'S2': 'eight', 'S3': 'nine', 'S4': 'ten', 'corr': ' eleven', 'incorr': ' ten', 'text': 'Ring lost in seven. Key lost in eight. Van lost in nine. House lost in ten. Bug lost in'}, {'S1': 'eight', 'S2': 'nine', 'S3': 'ten', 'S4': 'eleven', 'corr': ' twelve', 'incorr': ' eleven', 'text': 'Clock lost in eight. Road lost in nine. Desk lost in ten. Gate lost in eleven. Rose lost in'}, {'S1': 'one', 'S2': 'two', 'S3': 'three', 'S4': 'four', 'corr': ' five', 'incorr': ' four', 'text': 'Flag lost in one. Jam lost in two. Gate lost in three. Ring lost in four. Camera lost in'}, {'S1': 'two', 'S2': 'three', 'S3': 'four', 'S4': 'five', 'corr': ' six', 'incorr': ' five', 'text': 'Hat lost in two. Train lost in three. Rat lost in four. Ring lost in five. Jar lost in'}, {'S1': 'three', 'S2': 'four', 'S3': 'five', 'S4': 'six', 'corr': ' seven', 'incorr': ' six', 'text': 'Key lost in three. Box lost in four. Desk lost in five. Queen lost in six. Cow lost in'}, {'S1': 'four', 'S2': 'five', 'S3': 'six', 'S4': 'seven', 'corr': ' eight', 'incorr': ' seven', 'text': 'Ant lost in four. Bug lost in five. Orange lost in six. Star lost in seven. Zip lost in'}, {'S1': 'five', 'S2': 'six', 'S3': 'seven', 'S4': 'eight', 'corr': ' nine', 'incorr': ' eight', 'text': 'Star lost in five. Ice lost in six. Star lost in seven. Night lost in eight. Wheel lost in'}, {'S1': 'six', 'S2': 'seven', 'S3': 'eight', 'S4': 'nine', 'corr': ' ten', 'incorr': ' nine', 'text': 'Orange lost in six. Wheel lost in seven. King lost in eight. Car lost in nine. Pear lost in'}, {'S1': 'seven', 'S2': 'eight', 'S3': 'nine', 'S4': 'ten', 'corr': ' eleven', 'incorr': ' ten', 'text': 'Train lost in seven. Bird lost in eight. Key lost in nine. Table lost in ten. Cow lost in'}, {'S1': 'eight', 'S2': 'nine', 'S3': 'ten', 'S4': 'eleven', 'corr': ' twelve', 'incorr': ' eleven', 'text': 'Ring lost in eight. Chair lost in nine. Hat lost in ten. Book lost in eleven. Fan lost in'}, {'S1': 'one', 'S2': 'two', 'S3': 'three', 'S4': 'four', 'corr': ' five', 'incorr': ' four', 'text': 'Rose lost in one. Chair lost in two. Train lost in three. Nut lost in four. Desk lost in'}, {'S1': 'two', 'S2': 'three', 'S3': 'four', 'S4': 'five', 'corr': ' six', 'incorr': ' five', 'text': 'Ax lost in two. Tree lost in three. Night lost in four. Star lost in five. Chair lost in'}, {'S1': 'three', 'S2': 'four', 'S3': 'five', 'S4': 'six', 'corr': ' seven', 'incorr': ' six', 'text': 'Apple lost in three. Wall lost in four. Car lost in five. Wolf lost in six. Hat lost in'}, {'S1': 'four', 'S2': 'five', 'S3': 'six', 'S4': 'seven', 'corr': ' eight', 'incorr': ' seven', 'text': 'Wheel lost in four. Desk lost in five. Bird lost in six. Road lost in seven. Apple lost in'}, {'S1': 'five', 'S2': 'six', 'S3': 'seven', 'S4': 'eight', 'corr': ' nine', 'incorr': ' eight', 'text': 'Bug lost in five. Van lost in six. Snow lost in seven. Pear lost in eight. Camera lost in'}, {'S1': 'six', 'S2': 'seven', 'S3': 'eight', 'S4': 'nine', 'corr': ' ten', 'incorr': ' nine', 'text': 'Star lost in six. Wallet lost in seven. Window lost in eight. Pen lost in nine. Camera lost in'}, {'S1': 'seven', 'S2': 'eight', 'S3': 'nine', 'S4': 'ten', 'corr': ' eleven', 'incorr': ' ten', 'text': 'Bird lost in seven. Key lost in eight. Fish lost in nine. Cow lost in ten. Pear lost in'}, {'S1': 'eight', 'S2': 'nine', 'S3': 'ten', 'S4': 'eleven', 'corr': ' twelve', 'incorr': ' eleven', 'text': 'Desk lost in eight. Bug lost in nine. Table lost in ten. Fan lost in eleven. Dog lost in'}, {'S1': 'one', 'S2': 'two', 'S3': 'three', 'S4': 'four', 'corr': ' five', 'incorr': ' four', 'text': 'Zip lost in one. Tree lost in two. Hat lost in three. Rain lost in four. House lost in'}, {'S1': 'two', 'S2': 'three', 'S3': 'four', 'S4': 'five', 'corr': ' six', 'incorr': ' five', 'text': 'Pear lost in two. Orange lost in three. Year lost in four. Fan lost in five. Pen lost in'}, {'S1': 'three', 'S2': 'four', 'S3': 'five', 'S4': 'six', 'corr': ' seven', 'incorr': ' six', 'text': 'Apple lost in three. Light lost in four. Key lost in five. Orange lost in six. Rose lost in'}, {'S1': 'four', 'S2': 'five', 'S3': 'six', 'S4': 'seven', 'corr': ' eight', 'incorr': ' seven', 'text': 'Van lost in four. Fan lost in five. Cow lost in six. Moon lost in seven. Clock lost in'}, {'S1': 'five', 'S2': 'six', 'S3': 'seven', 'S4': 'eight', 'corr': ' nine', 'incorr': ' eight', 'text': 'Ring lost in five. Window lost in six. Jam lost in seven. Sun lost in eight. Queen lost in'}, {'S1': 'six', 'S2': 'seven', 'S3': 'eight', 'S4': 'nine', 'corr': ' ten', 'incorr': ' nine', 'text': 'Desk lost in six. Ice lost in seven. Ring lost in eight. Light lost in nine. Tree lost in'}, {'S1': 'seven', 'S2': 'eight', 'S3': 'nine', 'S4': 'ten', 'corr': ' eleven', 'incorr': ' ten', 'text': 'Camera lost in seven. Clock lost in eight. Train lost in nine. Hat lost in ten. Mouse lost in'}, {'S1': 'eight', 'S2': 'nine', 'S3': 'ten', 'S4': 'eleven', 'corr': ' twelve', 'incorr': ' eleven', 'text': 'Desk lost in eight. Bug lost in nine. Iron lost in ten. Orange lost in eleven. Zip lost in'}, {'S1': 'one', 'S2': 'two', 'S3': 'three', 'S4': 'four', 'corr': ' five', 'incorr': ' four', 'text': 'Van lost in one. Tree lost in two. Watch lost in three. Ring lost in four. Ball lost in'}, {'S1': 'two', 'S2': 'three', 'S3': 'four', 'S4': 'five', 'corr': ' six', 'incorr': ' five', 'text': 'Nut lost in two. Key lost in three. Nut lost in four. Iron lost in five. Desk lost in'}, {'S1': 'three', 'S2': 'four', 'S3': 'five', 'S4': 'six', 'corr': ' seven', 'incorr': ' six', 'text': 'Cat lost in three. Ball lost in four. Van lost in five. Arm lost in six. Book lost in'}, {'S1': 'four', 'S2': 'five', 'S3': 'six', 'S4': 'seven', 'corr': ' eight', 'incorr': ' seven', 'text': 'Chair lost in four. Map lost in five. Fan lost in six. Fan lost in seven. Queen lost in'}, {'S1': 'five', 'S2': 'six', 'S3': 'seven', 'S4': 'eight', 'corr': ' nine', 'incorr': ' eight', 'text': 'Window lost in five. Van lost in six. Fan lost in seven. Queen lost in eight. Light lost in'}, {'S1': 'six', 'S2': 'seven', 'S3': 'eight', 'S4': 'nine', 'corr': ' ten', 'incorr': ' nine', 'text': 'Desk lost in six. Queen lost in seven. Key lost in eight. Jar lost in nine. Key lost in'}, {'S1': 'seven', 'S2': 'eight', 'S3': 'nine', 'S4': 'ten', 'corr': ' eleven', 'incorr': ' ten', 'text': 'Bird lost in seven. Wall lost in eight. Fan lost in nine. Apple lost in ten. Snake lost in'}, {'S1': 'eight', 'S2': 'nine', 'S3': 'ten', 'S4': 'eleven', 'corr': ' twelve', 'incorr': ' eleven', 'text': 'Car lost in eight. Arm lost in nine. Pen lost in ten. Bug lost in eleven. Corn lost in'}, {'S1': 'one', 'S2': 'two', 'S3': 'three', 'S4': 'four', 'corr': ' five', 'incorr': ' four', 'text': 'Ball lost in one. Queen lost in two. Hand lost in three. Hat lost in four. Queen lost in'}, {'S1': 'two', 'S2': 'three', 'S3': 'four', 'S4': 'five', 'corr': ' six', 'incorr': ' five', 'text': 'Cat lost in two. Tree lost in three. House lost in four. Pen lost in five. Chair lost in'}, {'S1': 'three', 'S2': 'four', 'S3': 'five', 'S4': 'six', 'corr': ' seven', 'incorr': ' six', 'text': 'Flag lost in three. Snake lost in four. Fan lost in five. Sun lost in six. Hill lost in'}, {'S1': 'four', 'S2': 'five', 'S3': 'six', 'S4': 'seven', 'corr': ' eight', 'incorr': ' seven', 'text': 'Rose lost in four. Pen lost in five. Hill lost in six. Ball lost in seven. Star lost in'}, {'S1': 'five', 'S2': 'six', 'S3': 'seven', 'S4': 'eight', 'corr': ' nine', 'incorr': ' eight', 'text': 'Jar lost in five. Ice lost in six. Apple lost in seven. Fire lost in eight. Rain lost in'}, {'S1': 'six', 'S2': 'seven', 'S3': 'eight', 'S4': 'nine', 'corr': ' ten', 'incorr': ' nine', 'text': 'Ball lost in six. King lost in seven. Flag lost in eight. Tree lost in nine. Eye lost in'}, {'S1': 'seven', 'S2': 'eight', 'S3': 'nine', 'S4': 'ten', 'corr': ' eleven', 'incorr': ' ten', 'text': 'Gold lost in seven. Wind lost in eight. Queen lost in nine. Window lost in ten. Window lost in'}, {'S1': 'eight', 'S2': 'nine', 'S3': 'ten', 'S4': 'eleven', 'corr': ' twelve', 'incorr': ' eleven', 'text': 'Road lost in eight. Ax lost in nine. Orange lost in ten. Bird lost in eleven. Camera lost in'}, {'S1': 'one', 'S2': 'two', 'S3': 'three', 'S4': 'four', 'corr': ' five', 'incorr': ' four', 'text': 'Fan lost in one. Fish lost in two. Tree lost in three. Key lost in four. Orange lost in'}, {'S1': 'two', 'S2': 'three', 'S3': 'four', 'S4': 'five', 'corr': ' six', 'incorr': ' five', 'text': 'Snake lost in two. Star lost in three. Ring lost in four. Desk lost in five. Apple lost in'}, {'S1': 'three', 'S2': 'four', 'S3': 'five', 'S4': 'six', 'corr': ' seven', 'incorr': ' six', 'text': 'Corn lost in three. Light lost in four. Star lost in five. House lost in six. Ball lost in'}, {'S1': 'four', 'S2': 'five', 'S3': 'six', 'S4': 'seven', 'corr': ' eight', 'incorr': ' seven', 'text': 'Map lost in four. King lost in five. Fan lost in six. Gold lost in seven. Camera lost in'}, {'S1': 'five', 'S2': 'six', 'S3': 'seven', 'S4': 'eight', 'corr': ' nine', 'incorr': ' eight', 'text': 'Fire lost in five. Eye lost in six. Hat lost in seven. Table lost in eight. Light lost in'}, {'S1': 'six', 'S2': 'seven', 'S3': 'eight', 'S4': 'nine', 'corr': ' ten', 'incorr': ' nine', 'text': 'Rain lost in six. Year lost in seven. Chair lost in eight. Ball lost in nine. Star lost in'}, {'S1': 'seven', 'S2': 'eight', 'S3': 'nine', 'S4': 'ten', 'corr': ' eleven', 'incorr': ' ten', 'text': 'Ax lost in seven. Wall lost in eight. Hand lost in nine. Camera lost in ten. Arm lost in'}, {'S1': 'eight', 'S2': 'nine', 'S3': 'ten', 'S4': 'eleven', 'corr': ' twelve', 'incorr': ' eleven', 'text': 'Desk lost in eight. Tree lost in nine. Dog lost in ten. Wheel lost in eleven. Snow lost in'}, {'S1': 'one', 'S2': 'two', 'S3': 'three', 'S4': 'four', 'corr': ' five', 'incorr': ' four', 'text': 'Fan lost in one. Ant lost in two. Tree lost in three. Moon lost in four. Year lost in'}, {'S1': 'two', 'S2': 'three', 'S3': 'four', 'S4': 'five', 'corr': ' six', 'incorr': ' five', 'text': 'Camera lost in two. Queen lost in three. Night lost in four. Tree lost in five. Apple lost in'}, {'S1': 'three', 'S2': 'four', 'S3': 'five', 'S4': 'six', 'corr': ' seven', 'incorr': ' six', 'text': 'Eye lost in three. Hand lost in four. Snake lost in five. Pen lost in six. Tree lost in'}, {'S1': 'four', 'S2': 'five', 'S3': 'six', 'S4': 'seven', 'corr': ' eight', 'incorr': ' seven', 'text': 'Car lost in four. Ice lost in five. Sun lost in six. Zip lost in seven. Van lost in'}, {'S1': 'five', 'S2': 'six', 'S3': 'seven', 'S4': 'eight', 'corr': ' nine', 'incorr': ' eight', 'text': 'Table lost in five. Bird lost in six. Chair lost in seven. Key lost in eight. Queen lost in'}, {'S1': 'six', 'S2': 'seven', 'S3': 'eight', 'S4': 'nine', 'corr': ' ten', 'incorr': ' nine', 'text': 'Box lost in six. House lost in seven. Camera lost in eight. Nut lost in nine. Year lost in'}, {'S1': 'seven', 'S2': 'eight', 'S3': 'nine', 'S4': 'ten', 'corr': ' eleven', 'incorr': ' ten', 'text': 'Dog lost in seven. Jam lost in eight. Flag lost in nine. Hat lost in ten. Ring lost in'}, {'S1': 'eight', 'S2': 'nine', 'S3': 'ten', 'S4': 'eleven', 'corr': ' twelve', 'incorr': ' eleven', 'text': 'Apple lost in eight. Night lost in nine. Watch lost in ten. Gold lost in eleven. Camera lost in'}, {'S1': 'one', 'S2': 'two', 'S3': 'three', 'S4': 'four', 'corr': ' five', 'incorr': ' four', 'text': 'Star lost in one. Apple lost in two. Cat lost in three. Queen lost in four. Mouse lost in'}, {'S1': 'two', 'S2': 'three', 'S3': 'four', 'S4': 'five', 'corr': ' six', 'incorr': ' five', 'text': 'Star lost in two. Ball lost in three. Map lost in four. Ant lost in five. Desk lost in'}, {'S1': 'three', 'S2': 'four', 'S3': 'five', 'S4': 'six', 'corr': ' seven', 'incorr': ' six', 'text': 'Rose lost in three. Car lost in four. Arm lost in five. Table lost in six. Queen lost in'}, {'S1': 'four', 'S2': 'five', 'S3': 'six', 'S4': 'seven', 'corr': ' eight', 'incorr': ' seven', 'text': 'Snow lost in four. Van lost in five. Ax lost in six. Key lost in seven. Queen lost in'}, {'S1': 'five', 'S2': 'six', 'S3': 'seven', 'S4': 'eight', 'corr': ' nine', 'incorr': ' eight', 'text': 'Fan lost in five. Van lost in six. Nut lost in seven. Book lost in eight. Road lost in'}, {'S1': 'six', 'S2': 'seven', 'S3': 'eight', 'S4': 'nine', 'corr': ' ten', 'incorr': ' nine', 'text': 'Ring lost in six. Fan lost in seven. Camera lost in eight. Chair lost in nine. Train lost in'}, {'S1': 'seven', 'S2': 'eight', 'S3': 'nine', 'S4': 'ten', 'corr': ' eleven', 'incorr': ' ten', 'text': 'Queen lost in seven. Dog lost in eight. Eye lost in nine. Hat lost in ten. Night lost in'}, {'S1': 'eight', 'S2': 'nine', 'S3': 'ten', 'S4': 'eleven', 'corr': ' twelve', 'incorr': ' eleven', 'text': 'Book lost in eight. Zip lost in nine. Map lost in ten. Star lost in eleven. Dog lost in'}, {'S1': 'one', 'S2': 'two', 'S3': 'three', 'S4': 'four', 'corr': ' five', 'incorr': ' four', 'text': 'Ball lost in one. Book lost in two. Ax lost in three. Zip lost in four. Camera lost in'}, {'S1': 'two', 'S2': 'three', 'S3': 'four', 'S4': 'five', 'corr': ' six', 'incorr': ' five', 'text': 'Sand lost in two. House lost in three. Train lost in four. Watch lost in five. Lake lost in'}, {'S1': 'three', 'S2': 'four', 'S3': 'five', 'S4': 'six', 'corr': ' seven', 'incorr': ' six', 'text': 'Train lost in three. Cow lost in four. Ice lost in five. Lake lost in six. Glass lost in'}, {'S1': 'four', 'S2': 'five', 'S3': 'six', 'S4': 'seven', 'corr': ' eight', 'incorr': ' seven', 'text': 'Van lost in four. Mouse lost in five. Fan lost in six. Ant lost in seven. Gold lost in'}, {'S1': 'five', 'S2': 'six', 'S3': 'seven', 'S4': 'eight', 'corr': ' nine', 'incorr': ' eight', 'text': 'Apple lost in five. Key lost in six. Bug lost in seven. Desk lost in eight. Desk lost in'}, {'S1': 'six', 'S2': 'seven', 'S3': 'eight', 'S4': 'nine', 'corr': ' ten', 'incorr': ' nine', 'text': 'Chair lost in six. Light lost in seven. Key lost in eight. Window lost in nine. Book lost in'}, {'S1': 'seven', 'S2': 'eight', 'S3': 'nine', 'S4': 'ten', 'corr': ' eleven', 'incorr': ' ten', 'text': 'Orange lost in seven. Cat lost in eight. Camera lost in nine. Corn lost in ten. Van lost in'}, {'S1': 'eight', 'S2': 'nine', 'S3': 'ten', 'S4': 'eleven', 'corr': ' twelve', 'incorr': ' eleven', 'text': 'Nut lost in eight. Ball lost in nine. Moon lost in ten. Wind lost in eleven. Jam lost in'}, {'S1': 'one', 'S2': 'two', 'S3': 'three', 'S4': 'four', 'corr': ' five', 'incorr': ' four', 'text': 'Mouse lost in one. Tree lost in two. Desk lost in three. Pear lost in four. Clock lost in'}, {'S1': 'two', 'S2': 'three', 'S3': 'four', 'S4': 'five', 'corr': ' six', 'incorr': ' five', 'text': 'Star lost in two. Wheel lost in three. Snow lost in four. Nut lost in five. Apple lost in'}, {'S1': 'three', 'S2': 'four', 'S3': 'five', 'S4': 'six', 'corr': ' seven', 'incorr': ' six', 'text': 'Car lost in three. Night lost in four. Cat lost in five. Queen lost in six. Snake lost in'}, {'S1': 'four', 'S2': 'five', 'S3': 'six', 'S4': 'seven', 'corr': ' eight', 'incorr': ' seven', 'text': 'Tree lost in four. Fan lost in five. Box lost in six. Jar lost in seven. Queen lost in'}, {'S1': 'five', 'S2': 'six', 'S3': 'seven', 'S4': 'eight', 'corr': ' nine', 'incorr': ' eight', 'text': 'Orange lost in five. Star lost in six. Nut lost in seven. Eye lost in eight. Arm lost in'}, {'S1': 'six', 'S2': 'seven', 'S3': 'eight', 'S4': 'nine', 'corr': ' ten', 'incorr': ' nine', 'text': 'Camera lost in six. Tree lost in seven. Fish lost in eight. Ring lost in nine. Corn lost in'}, {'S1': 'seven', 'S2': 'eight', 'S3': 'nine', 'S4': 'ten', 'corr': ' eleven', 'incorr': ' ten', 'text': 'Gate lost in seven. Camera lost in eight. Tree lost in nine. Snow lost in ten. Wall lost in'}, {'S1': 'eight', 'S2': 'nine', 'S3': 'ten', 'S4': 'eleven', 'corr': ' twelve', 'incorr': ' eleven', 'text': 'Tree lost in eight. Camera lost in nine. Hill lost in ten. Eye lost in eleven. Gold lost in'}, {'S1': 'one', 'S2': 'two', 'S3': 'three', 'S4': 'four', 'corr': ' five', 'incorr': ' four', 'text': 'Lake lost in one. Camera lost in two. Ball lost in three. Gold lost in four. Jar lost in'}, {'S1': 'two', 'S2': 'three', 'S3': 'four', 'S4': 'five', 'corr': ' six', 'incorr': ' five', 'text': 'Bird lost in two. Fish lost in three. Gold lost in four. Pen lost in five. Bug lost in'}, {'S1': 'three', 'S2': 'four', 'S3': 'five', 'S4': 'six', 'corr': ' seven', 'incorr': ' six', 'text': 'Apple lost in three. Tree lost in four. Rose lost in five. House lost in six. Nut lost in'}, {'S1': 'four', 'S2': 'five', 'S3': 'six', 'S4': 'seven', 'corr': ' eight', 'incorr': ' seven', 'text': 'Ocean lost in four. Gate lost in five. Fan lost in six. Window lost in seven. King lost in'}, {'S1': 'five', 'S2': 'six', 'S3': 'seven', 'S4': 'eight', 'corr': ' nine', 'incorr': ' eight', 'text': 'Apple lost in five. Car lost in six. Ball lost in seven. Queen lost in eight. Camera lost in'}, {'S1': 'six', 'S2': 'seven', 'S3': 'eight', 'S4': 'nine', 'corr': ' ten', 'incorr': ' nine', 'text': 'Wallet lost in six. Orange lost in seven. Tree lost in eight. Car lost in nine. Key lost in'}, {'S1': 'seven', 'S2': 'eight', 'S3': 'nine', 'S4': 'ten', 'corr': ' eleven', 'incorr': ' ten', 'text': 'Fan lost in seven. Iron lost in eight. Apple lost in nine. Fan lost in ten. Van lost in'}, {'S1': 'eight', 'S2': 'nine', 'S3': 'ten', 'S4': 'eleven', 'corr': ' twelve', 'incorr': ' eleven', 'text': 'Mouse lost in eight. Lake lost in nine. Bird lost in ten. Car lost in eleven. Fan lost in'}, {'S1': 'one', 'S2': 'two', 'S3': 'three', 'S4': 'four', 'corr': ' five', 'incorr': ' four', 'text': 'Ocean lost in one. Oil lost in two. Gate lost in three. House lost in four. Hill lost in'}, {'S1': 'two', 'S2': 'three', 'S3': 'four', 'S4': 'five', 'corr': ' six', 'incorr': ' five', 'text': 'Box lost in two. Ring lost in three. Train lost in four. Fan lost in five. Apple lost in'}, {'S1': 'three', 'S2': 'four', 'S3': 'five', 'S4': 'six', 'corr': ' seven', 'incorr': ' six', 'text': 'Hat lost in three. Ring lost in four. Snow lost in five. Van lost in six. Iron lost in'}, {'S1': 'four', 'S2': 'five', 'S3': 'six', 'S4': 'seven', 'corr': ' eight', 'incorr': ' seven', 'text': 'Watch lost in four. Key lost in five. Wolf lost in six. Ice lost in seven. Gold lost in'}, {'S1': 'five', 'S2': 'six', 'S3': 'seven', 'S4': 'eight', 'corr': ' nine', 'incorr': ' eight', 'text': 'Iron lost in five. Arm lost in six. House lost in seven. Chair lost in eight. Van lost in'}, {'S1': 'six', 'S2': 'seven', 'S3': 'eight', 'S4': 'nine', 'corr': ' ten', 'incorr': ' nine', 'text': 'Arm lost in six. Orange lost in seven. Iron lost in eight. Van lost in nine. Wheel lost in'}, {'S1': 'seven', 'S2': 'eight', 'S3': 'nine', 'S4': 'ten', 'corr': ' eleven', 'incorr': ' ten', 'text': 'Road lost in seven. Orange lost in eight. Ax lost in nine. Arm lost in ten. Dog lost in'}, {'S1': 'eight', 'S2': 'nine', 'S3': 'ten', 'S4': 'eleven', 'corr': ' twelve', 'incorr': ' eleven', 'text': 'Road lost in eight. Queen lost in nine. Ball lost in ten. Dog lost in eleven. Wolf lost in'}, {'S1': 'one', 'S2': 'two', 'S3': 'three', 'S4': 'four', 'corr': ' five', 'incorr': ' four', 'text': 'Tree lost in one. Oil lost in two. Gold lost in three. Night lost in four. Ring lost in'}, {'S1': 'two', 'S2': 'three', 'S3': 'four', 'S4': 'five', 'corr': ' six', 'incorr': ' five', 'text': 'Queen lost in two. Window lost in three. Ant lost in four. Cat lost in five. Wolf lost in'}, {'S1': 'three', 'S2': 'four', 'S3': 'five', 'S4': 'six', 'corr': ' seven', 'incorr': ' six', 'text': 'Ball lost in three. Ax lost in four. Hand lost in five. Cat lost in six. Star lost in'}, {'S1': 'four', 'S2': 'five', 'S3': 'six', 'S4': 'seven', 'corr': ' eight', 'incorr': ' seven', 'text': 'Gold lost in four. Window lost in five. Dog lost in six. Year lost in seven. Camera lost in'}, {'S1': 'five', 'S2': 'six', 'S3': 'seven', 'S4': 'eight', 'corr': ' nine', 'incorr': ' eight', 'text': 'Window lost in five. Year lost in six. Fan lost in seven. Snow lost in eight. Nut lost in'}, {'S1': 'six', 'S2': 'seven', 'S3': 'eight', 'S4': 'nine', 'corr': ' ten', 'incorr': ' nine', 'text': 'King lost in six. Oil lost in seven. Bird lost in eight. Hat lost in nine. Rose lost in'}, {'S1': 'seven', 'S2': 'eight', 'S3': 'nine', 'S4': 'ten', 'corr': ' eleven', 'incorr': ' ten', 'text': 'Fan lost in seven. Flag lost in eight. Car lost in nine. Fire lost in ten. Queen lost in'}, {'S1': 'eight', 'S2': 'nine', 'S3': 'ten', 'S4': 'eleven', 'corr': ' twelve', 'incorr': ' eleven', 'text': 'Watch lost in eight. Corn lost in nine. Night lost in ten. Gate lost in eleven. Glass lost in'}, {'S1': 'one', 'S2': 'two', 'S3': 'three', 'S4': 'four', 'corr': ' five', 'incorr': ' four', 'text': 'Ring lost in one. Ocean lost in two. Ear lost in three. Clock lost in four. Hill lost in'}, {'S1': 'two', 'S2': 'three', 'S3': 'four', 'S4': 'five', 'corr': ' six', 'incorr': ' five', 'text': 'Wind lost in two. Gold lost in three. Ax lost in four. Van lost in five. Snake lost in'}, {'S1': 'three', 'S2': 'four', 'S3': 'five', 'S4': 'six', 'corr': ' seven', 'incorr': ' six', 'text': 'Wall lost in three. House lost in four. Iron lost in five. Ball lost in six. Star lost in'}, {'S1': 'four', 'S2': 'five', 'S3': 'six', 'S4': 'seven', 'corr': ' eight', 'incorr': ' seven', 'text': 'Glass lost in four. Chair lost in five. Sun lost in six. Gold lost in seven. Tree lost in'}, {'S1': 'five', 'S2': 'six', 'S3': 'seven', 'S4': 'eight', 'corr': ' nine', 'incorr': ' eight', 'text': 'Hand lost in five. Moon lost in six. Flag lost in seven. Ring lost in eight. Rose lost in'}, {'S1': 'six', 'S2': 'seven', 'S3': 'eight', 'S4': 'nine', 'corr': ' ten', 'incorr': ' nine', 'text': 'Map lost in six. Tree lost in seven. Apple lost in eight. Hand lost in nine. Hill lost in'}, {'S1': 'seven', 'S2': 'eight', 'S3': 'nine', 'S4': 'ten', 'corr': ' eleven', 'incorr': ' ten', 'text': 'Desk lost in seven. Moon lost in eight. Desk lost in nine. Chair lost in ten. Van lost in'}, {'S1': 'eight', 'S2': 'nine', 'S3': 'ten', 'S4': 'eleven', 'corr': ' twelve', 'incorr': ' eleven', 'text': 'Hand lost in eight. Sand lost in nine. Year lost in ten. Pear lost in eleven. Cat lost in'}, {'S1': 'one', 'S2': 'two', 'S3': 'three', 'S4': 'four', 'corr': ' five', 'incorr': ' four', 'text': 'Bird lost in one. Flag lost in two. Pen lost in three. Glass lost in four. King lost in'}, {'S1': 'two', 'S2': 'three', 'S3': 'four', 'S4': 'five', 'corr': ' six', 'incorr': ' five', 'text': 'Star lost in two. Camera lost in three. Jam lost in four. Mouse lost in five. Glass lost in'}, {'S1': 'three', 'S2': 'four', 'S3': 'five', 'S4': 'six', 'corr': ' seven', 'incorr': ' six', 'text': 'Wolf lost in three. Hat lost in four. Rose lost in five. Box lost in six. Light lost in'}, {'S1': 'four', 'S2': 'five', 'S3': 'six', 'S4': 'seven', 'corr': ' eight', 'incorr': ' seven', 'text': 'Cat lost in four. Desk lost in five. Glass lost in six. Window lost in seven. Ear lost in'}, {'S1': 'five', 'S2': 'six', 'S3': 'seven', 'S4': 'eight', 'corr': ' nine', 'incorr': ' eight', 'text': 'Camera lost in five. Bug lost in six. Apple lost in seven. Queen lost in eight. Van lost in'}, {'S1': 'six', 'S2': 'seven', 'S3': 'eight', 'S4': 'nine', 'corr': ' ten', 'incorr': ' nine', 'text': 'Fan lost in six. Sun lost in seven. Table lost in eight. Ice lost in nine. Nut lost in'}, {'S1': 'seven', 'S2': 'eight', 'S3': 'nine', 'S4': 'ten', 'corr': ' eleven', 'incorr': ' ten', 'text': 'Ear lost in seven. Desk lost in eight. Apple lost in nine. Rose lost in ten. Box lost in'}, {'S1': 'eight', 'S2': 'nine', 'S3': 'ten', 'S4': 'eleven', 'corr': ' twelve', 'incorr': ' eleven', 'text': 'Glass lost in eight. Car lost in nine. Nut lost in ten. Mouse lost in eleven. Wheel lost in'}, {'S1': 'one', 'S2': 'two', 'S3': 'three', 'S4': 'four', 'corr': ' five', 'incorr': ' four', 'text': 'Flag lost in one. Fish lost in two. Wheel lost in three. Queen lost in four. Queen lost in'}, {'S1': 'two', 'S2': 'three', 'S3': 'four', 'S4': 'five', 'corr': ' six', 'incorr': ' five', 'text': 'Moon lost in two. House lost in three. Wolf lost in four. Watch lost in five. Chair lost in'}, {'S1': 'three', 'S2': 'four', 'S3': 'five', 'S4': 'six', 'corr': ' seven', 'incorr': ' six', 'text': 'Pear lost in three. Watch lost in four. Mouse lost in five. Arm lost in six. Clock lost in'}, {'S1': 'four', 'S2': 'five', 'S3': 'six', 'S4': 'seven', 'corr': ' eight', 'incorr': ' seven', 'text': 'Wind lost in four. Fish lost in five. Apple lost in six. Table lost in seven. Wallet lost in'}, {'S1': 'five', 'S2': 'six', 'S3': 'seven', 'S4': 'eight', 'corr': ' nine', 'incorr': ' eight', 'text': 'Flag lost in five. Dog lost in six. Rose lost in seven. Jar lost in eight. Queen lost in'}, {'S1': 'six', 'S2': 'seven', 'S3': 'eight', 'S4': 'nine', 'corr': ' ten', 'incorr': ' nine', 'text': 'Key lost in six. Lake lost in seven. Hill lost in eight. House lost in nine. Gate lost in'}, {'S1': 'seven', 'S2': 'eight', 'S3': 'nine', 'S4': 'ten', 'corr': ' eleven', 'incorr': ' ten', 'text': 'Desk lost in seven. Apple lost in eight. Star lost in nine. Key lost in ten. Hill lost in'}, {'S1': 'eight', 'S2': 'nine', 'S3': 'ten', 'S4': 'eleven', 'corr': ' twelve', 'incorr': ' eleven', 'text': 'Dog lost in eight. Book lost in nine. Orange lost in ten. Sand lost in eleven. Ax lost in'}, {'S1': 'one', 'S2': 'two', 'S3': 'three', 'S4': 'four', 'corr': ' five', 'incorr': ' four', 'text': 'Train lost in one. Rose lost in two. Flag lost in three. Fan lost in four. Car lost in'}, {'S1': 'two', 'S2': 'three', 'S3': 'four', 'S4': 'five', 'corr': ' six', 'incorr': ' five', 'text': 'Wallet lost in two. Orange lost in three. Ring lost in four. Flag lost in five. Moon lost in'}, {'S1': 'three', 'S2': 'four', 'S3': 'five', 'S4': 'six', 'corr': ' seven', 'incorr': ' six', 'text': 'Queen lost in three. Apple lost in four. Hand lost in five. Ball lost in six. Snake lost in'}, {'S1': 'four', 'S2': 'five', 'S3': 'six', 'S4': 'seven', 'corr': ' eight', 'incorr': ' seven', 'text': 'Orange lost in four. Tree lost in five. Ice lost in six. Hand lost in seven. Wallet lost in'}, {'S1': 'five', 'S2': 'six', 'S3': 'seven', 'S4': 'eight', 'corr': ' nine', 'incorr': ' eight', 'text': 'King lost in five. Orange lost in six. Rat lost in seven. Tree lost in eight. Road lost in'}, {'S1': 'six', 'S2': 'seven', 'S3': 'eight', 'S4': 'nine', 'corr': ' ten', 'incorr': ' nine', 'text': 'Cat lost in six. Queen lost in seven. Book lost in eight. Ball lost in nine. Gold lost in'}, {'S1': 'seven', 'S2': 'eight', 'S3': 'nine', 'S4': 'ten', 'corr': ' eleven', 'incorr': ' ten', 'text': 'Snake lost in seven. Orange lost in eight. Rose lost in nine. Watch lost in ten. Ball lost in'}, {'S1': 'eight', 'S2': 'nine', 'S3': 'ten', 'S4': 'eleven', 'corr': ' twelve', 'incorr': ' eleven', 'text': 'Year lost in eight. Fan lost in nine. Ear lost in ten. Flag lost in eleven. Zip lost in'}, {'S1': 'one', 'S2': 'two', 'S3': 'three', 'S4': 'four', 'corr': ' five', 'incorr': ' four', 'text': 'Camera lost in one. Window lost in two. Tree lost in three. Tree lost in four. Rain lost in'}, {'S1': 'two', 'S2': 'three', 'S3': 'four', 'S4': 'five', 'corr': ' six', 'incorr': ' five', 'text': 'Desk lost in two. Chair lost in three. Bug lost in four. Flag lost in five. Ice lost in'}, {'S1': 'three', 'S2': 'four', 'S3': 'five', 'S4': 'six', 'corr': ' seven', 'incorr': ' six', 'text': 'Lake lost in three. Hat lost in four. Nut lost in five. Bird lost in six. Apple lost in'}, {'S1': 'four', 'S2': 'five', 'S3': 'six', 'S4': 'seven', 'corr': ' eight', 'incorr': ' seven', 'text': 'Cat lost in four. Rain lost in five. Ball lost in six. Wind lost in seven. Apple lost in'}, {'S1': 'five', 'S2': 'six', 'S3': 'seven', 'S4': 'eight', 'corr': ' nine', 'incorr': ' eight', 'text': 'Star lost in five. Hill lost in six. Desk lost in seven. Cat lost in eight. Pear lost in'}, {'S1': 'six', 'S2': 'seven', 'S3': 'eight', 'S4': 'nine', 'corr': ' ten', 'incorr': ' nine', 'text': 'Ring lost in six. Cow lost in seven. Orange lost in eight. Tree lost in nine. Arm lost in'}, {'S1': 'seven', 'S2': 'eight', 'S3': 'nine', 'S4': 'ten', 'corr': ' eleven', 'incorr': ' ten', 'text': 'Zip lost in seven. Night lost in eight. Rose lost in nine. Desk lost in ten. Nut lost in'}, {'S1': 'eight', 'S2': 'nine', 'S3': 'ten', 'S4': 'eleven', 'corr': ' twelve', 'incorr': ' eleven', 'text': 'Moon lost in eight. Watch lost in nine. Queen lost in ten. Light lost in eleven. Camera lost in'}, {'S1': 'one', 'S2': 'two', 'S3': 'three', 'S4': 'four', 'corr': ' five', 'incorr': ' four', 'text': 'Fan lost in one. Star lost in two. Watch lost in three. Camera lost in four. Rat lost in'}, {'S1': 'two', 'S2': 'three', 'S3': 'four', 'S4': 'five', 'corr': ' six', 'incorr': ' five', 'text': 'Night lost in two. Ice lost in three. Fan lost in four. Queen lost in five. Bug lost in'}, {'S1': 'three', 'S2': 'four', 'S3': 'five', 'S4': 'six', 'corr': ' seven', 'incorr': ' six', 'text': 'Wheel lost in three. Desk lost in four. Corn lost in five. Lake lost in six. Wallet lost in'}, {'S1': 'four', 'S2': 'five', 'S3': 'six', 'S4': 'seven', 'corr': ' eight', 'incorr': ' seven', 'text': 'Star lost in four. Car lost in five. House lost in six. Wind lost in seven. Tree lost in'}, {'S1': 'five', 'S2': 'six', 'S3': 'seven', 'S4': 'eight', 'corr': ' nine', 'incorr': ' eight', 'text': 'Ocean lost in five. Lake lost in six. Rose lost in seven. Train lost in eight. Ring lost in'}, {'S1': 'six', 'S2': 'seven', 'S3': 'eight', 'S4': 'nine', 'corr': ' ten', 'incorr': ' nine', 'text': 'Chair lost in six. Flag lost in seven. Tree lost in eight. Arm lost in nine. Apple lost in'}, {'S1': 'seven', 'S2': 'eight', 'S3': 'nine', 'S4': 'ten', 'corr': ' eleven', 'incorr': ' ten', 'text': 'Wheel lost in seven. Rat lost in eight. Window lost in nine. Orange lost in ten. Cow lost in'}, {'S1': 'eight', 'S2': 'nine', 'S3': 'ten', 'S4': 'eleven', 'corr': ' twelve', 'incorr': ' eleven', 'text': 'Pear lost in eight. Fire lost in nine. Key lost in ten. Tree lost in eleven. Zip lost in'}, {'S1': 'one', 'S2': 'two', 'S3': 'three', 'S4': 'four', 'corr': ' five', 'incorr': ' four', 'text': 'Zip lost in one. Hat lost in two. Orange lost in three. Clock lost in four. Window lost in'}, {'S1': 'two', 'S2': 'three', 'S3': 'four', 'S4': 'five', 'corr': ' six', 'incorr': ' five', 'text': 'Ring lost in two. Rose lost in three. Wallet lost in four. Oil lost in five. Table lost in'}, {'S1': 'three', 'S2': 'four', 'S3': 'five', 'S4': 'six', 'corr': ' seven', 'incorr': ' six', 'text': 'Watch lost in three. Rat lost in four. Clock lost in five. Zip lost in six. Rose lost in'}, {'S1': 'four', 'S2': 'five', 'S3': 'six', 'S4': 'seven', 'corr': ' eight', 'incorr': ' seven', 'text': 'Car lost in four. Hat lost in five. Apple lost in six. Fan lost in seven. Wolf lost in'}, {'S1': 'five', 'S2': 'six', 'S3': 'seven', 'S4': 'eight', 'corr': ' nine', 'incorr': ' eight', 'text': 'Van lost in five. House lost in six. Fan lost in seven. Wolf lost in eight. Queen lost in'}, {'S1': 'six', 'S2': 'seven', 'S3': 'eight', 'S4': 'nine', 'corr': ' ten', 'incorr': ' nine', 'text': 'Orange lost in six. Ear lost in seven. Wallet lost in eight. Sun lost in nine. Tree lost in'}, {'S1': 'seven', 'S2': 'eight', 'S3': 'nine', 'S4': 'ten', 'corr': ' eleven', 'incorr': ' ten', 'text': 'Desk lost in seven. Snow lost in eight. Desk lost in nine. Queen lost in ten. Night lost in'}, {'S1': 'eight', 'S2': 'nine', 'S3': 'ten', 'S4': 'eleven', 'corr': ' twelve', 'incorr': ' eleven', 'text': 'Queen lost in eight. Wall lost in nine. Snake lost in ten. Road lost in eleven. Jar lost in'}, {'S1': 'one', 'S2': 'two', 'S3': 'three', 'S4': 'four', 'corr': ' five', 'incorr': ' four', 'text': 'Fire lost in one. Cat lost in two. Cow lost in three. Bug lost in four. Lake lost in'}, {'S1': 'two', 'S2': 'three', 'S3': 'four', 'S4': 'five', 'corr': ' six', 'incorr': ' five', 'text': 'Cat lost in two. Clock lost in three. Rose lost in four. Window lost in five. Ring lost in'}, {'S1': 'three', 'S2': 'four', 'S3': 'five', 'S4': 'six', 'corr': ' seven', 'incorr': ' six', 'text': 'Fan lost in three. Desk lost in four. Fan lost in five. Rose lost in six. Year lost in'}, {'S1': 'four', 'S2': 'five', 'S3': 'six', 'S4': 'seven', 'corr': ' eight', 'incorr': ' seven', 'text': 'Hat lost in four. Star lost in five. Fan lost in six. Orange lost in seven. Bug lost in'}, {'S1': 'five', 'S2': 'six', 'S3': 'seven', 'S4': 'eight', 'corr': ' nine', 'incorr': ' eight', 'text': 'Van lost in five. Hat lost in six. Tree lost in seven. Wheel lost in eight. Queen lost in'}, {'S1': 'six', 'S2': 'seven', 'S3': 'eight', 'S4': 'nine', 'corr': ' ten', 'incorr': ' nine', 'text': 'Fan lost in six. Apple lost in seven. Apple lost in eight. Star lost in nine. Light lost in'}, {'S1': 'seven', 'S2': 'eight', 'S3': 'nine', 'S4': 'ten', 'corr': ' eleven', 'incorr': ' ten', 'text': 'Fish lost in seven. King lost in eight. Rat lost in nine. Rose lost in ten. Desk lost in'}, {'S1': 'eight', 'S2': 'nine', 'S3': 'ten', 'S4': 'eleven', 'corr': ' twelve', 'incorr': ' eleven', 'text': 'Star lost in eight. Nut lost in nine. Gold lost in ten. Table lost in eleven. Desk lost in'}, {'S1': 'one', 'S2': 'two', 'S3': 'three', 'S4': 'four', 'corr': ' five', 'incorr': ' four', 'text': 'Wallet lost in one. Oil lost in two. Wolf lost in three. Desk lost in four. Bug lost in'}, {'S1': 'two', 'S2': 'three', 'S3': 'four', 'S4': 'five', 'corr': ' six', 'incorr': ' five', 'text': 'Table lost in two. Pear lost in three. Ring lost in four. Orange lost in five. Queen lost in'}, {'S1': 'three', 'S2': 'four', 'S3': 'five', 'S4': 'six', 'corr': ' seven', 'incorr': ' six', 'text': 'Jar lost in three. Clock lost in four. Gate lost in five. Box lost in six. Orange lost in'}, {'S1': 'four', 'S2': 'five', 'S3': 'six', 'S4': 'seven', 'corr': ' eight', 'incorr': ' seven', 'text': 'Snake lost in four. Desk lost in five. Ring lost in six. Book lost in seven. Cow lost in'}, {'S1': 'five', 'S2': 'six', 'S3': 'seven', 'S4': 'eight', 'corr': ' nine', 'incorr': ' eight', 'text': 'Queen lost in five. Flag lost in six. Orange lost in seven. Window lost in eight. Rose lost in'}, {'S1': 'six', 'S2': 'seven', 'S3': 'eight', 'S4': 'nine', 'corr': ' ten', 'incorr': ' nine', 'text': 'Lake lost in six. Apple lost in seven. Snow lost in eight. Desk lost in nine. Camera lost in'}, {'S1': 'seven', 'S2': 'eight', 'S3': 'nine', 'S4': 'ten', 'corr': ' eleven', 'incorr': ' ten', 'text': 'Gate lost in seven. Table lost in eight. Wheel lost in nine. Snow lost in ten. Ring lost in'}, {'S1': 'eight', 'S2': 'nine', 'S3': 'ten', 'S4': 'eleven', 'corr': ' twelve', 'incorr': ' eleven', 'text': 'Window lost in eight. Table lost in nine. Apple lost in ten. Queen lost in eleven. Oil lost in'}, {'S1': 'one', 'S2': 'two', 'S3': 'three', 'S4': 'four', 'corr': ' five', 'incorr': ' four', 'text': 'Orange lost in one. Sun lost in two. Hat lost in three. Flag lost in four. Apple lost in'}, {'S1': 'two', 'S2': 'three', 'S3': 'four', 'S4': 'five', 'corr': ' six', 'incorr': ' five', 'text': 'Queen lost in two. Wheel lost in three. Table lost in four. Ear lost in five. Clock lost in'}, {'S1': 'three', 'S2': 'four', 'S3': 'five', 'S4': 'six', 'corr': ' seven', 'incorr': ' six', 'text': 'Year lost in three. Sun lost in four. Apple lost in five. Camera lost in six. Watch lost in'}, {'S1': 'four', 'S2': 'five', 'S3': 'six', 'S4': 'seven', 'corr': ' eight', 'incorr': ' seven', 'text': 'Ant lost in four. Jar lost in five. Nut lost in six. Ball lost in seven. Fan lost in'}, {'S1': 'five', 'S2': 'six', 'S3': 'seven', 'S4': 'eight', 'corr': ' nine', 'incorr': ' eight', 'text': 'Wolf lost in five. Ear lost in six. Moon lost in seven. Clock lost in eight. Train lost in'}, {'S1': 'six', 'S2': 'seven', 'S3': 'eight', 'S4': 'nine', 'corr': ' ten', 'incorr': ' nine', 'text': 'Gate lost in six. Arm lost in seven. Book lost in eight. Desk lost in nine. Queen lost in'}, {'S1': 'seven', 'S2': 'eight', 'S3': 'nine', 'S4': 'ten', 'corr': ' eleven', 'incorr': ' ten', 'text': 'Ax lost in seven. House lost in eight. Snake lost in nine. Camera lost in ten. Wolf lost in'}, {'S1': 'eight', 'S2': 'nine', 'S3': 'ten', 'S4': 'eleven', 'corr': ' twelve', 'incorr': ' eleven', 'text': 'Rose lost in eight. Zip lost in nine. Desk lost in ten. Bird lost in eleven. Hat lost in'}, {'S1': 'one', 'S2': 'two', 'S3': 'three', 'S4': 'four', 'corr': ' five', 'incorr': ' four', 'text': 'Mouse lost in one. Lake lost in two. Nut lost in three. Clock lost in four. Wind lost in'}, {'S1': 'two', 'S2': 'three', 'S3': 'four', 'S4': 'five', 'corr': ' six', 'incorr': ' five', 'text': 'Star lost in two. Desk lost in three. Tree lost in four. Jam lost in five. Rat lost in'}, {'S1': 'three', 'S2': 'four', 'S3': 'five', 'S4': 'six', 'corr': ' seven', 'incorr': ' six', 'text': 'Pen lost in three. Flag lost in four. Jam lost in five. Queen lost in six. Queen lost in'}, {'S1': 'four', 'S2': 'five', 'S3': 'six', 'S4': 'seven', 'corr': ' eight', 'incorr': ' seven', 'text': 'Mouse lost in four. Camera lost in five. Fan lost in six. Key lost in seven. Ring lost in'}, {'S1': 'five', 'S2': 'six', 'S3': 'seven', 'S4': 'eight', 'corr': ' nine', 'incorr': ' eight', 'text': 'Fan lost in five. Nut lost in six. Desk lost in seven. Cow lost in eight. Watch lost in'}, {'S1': 'six', 'S2': 'seven', 'S3': 'eight', 'S4': 'nine', 'corr': ' ten', 'incorr': ' nine', 'text': 'Ax lost in six. Map lost in seven. Fish lost in eight. Fan lost in nine. Ant lost in'}, {'S1': 'seven', 'S2': 'eight', 'S3': 'nine', 'S4': 'ten', 'corr': ' eleven', 'incorr': ' ten', 'text': 'Ball lost in seven. Wolf lost in eight. Eye lost in nine. Desk lost in ten. Dog lost in'}, {'S1': 'eight', 'S2': 'nine', 'S3': 'ten', 'S4': 'eleven', 'corr': ' twelve', 'incorr': ' eleven', 'text': 'Clock lost in eight. Star lost in nine. Eye lost in ten. Mouse lost in eleven. Lake lost in'}, {'S1': 'one', 'S2': 'two', 'S3': 'three', 'S4': 'four', 'corr': ' five', 'incorr': ' four', 'text': 'Ice lost in one. Queen lost in two. House lost in three. Train lost in four. Chair lost in'}, {'S1': 'two', 'S2': 'three', 'S3': 'four', 'S4': 'five', 'corr': ' six', 'incorr': ' five', 'text': 'Iron lost in two. Gold lost in three. Ax lost in four. Orange lost in five. Apple lost in'}, {'S1': 'three', 'S2': 'four', 'S3': 'five', 'S4': 'six', 'corr': ' seven', 'incorr': ' six', 'text': 'Star lost in three. Bug lost in four. Moon lost in five. Queen lost in six. Sand lost in'}, {'S1': 'four', 'S2': 'five', 'S3': 'six', 'S4': 'seven', 'corr': ' eight', 'incorr': ' seven', 'text': 'Flag lost in four. Pear lost in five. Oil lost in six. Orange lost in seven. Road lost in'}, {'S1': 'five', 'S2': 'six', 'S3': 'seven', 'S4': 'eight', 'corr': ' nine', 'incorr': ' eight', 'text': 'Light lost in five. Oil lost in six. Table lost in seven. Desk lost in eight. Rat lost in'}, {'S1': 'six', 'S2': 'seven', 'S3': 'eight', 'S4': 'nine', 'corr': ' ten', 'incorr': ' nine', 'text': 'Flag lost in six. Road lost in seven. Snake lost in eight. Car lost in nine. Chair lost in'}, {'S1': 'seven', 'S2': 'eight', 'S3': 'nine', 'S4': 'ten', 'corr': ' eleven', 'incorr': ' ten', 'text': 'Orange lost in seven. Queen lost in eight. Glass lost in nine. Hand lost in ten. Rose lost in'}, {'S1': 'eight', 'S2': 'nine', 'S3': 'ten', 'S4': 'eleven', 'corr': ' twelve', 'incorr': ' eleven', 'text': 'Fan lost in eight. Camera lost in nine. Key lost in ten. Apple lost in eleven. Wall lost in'}, {'S1': 'one', 'S2': 'two', 'S3': 'three', 'S4': 'four', 'corr': ' five', 'incorr': ' four', 'text': 'Flag lost in one. Iron lost in two. Jar lost in three. Orange lost in four. Sun lost in'}, {'S1': 'two', 'S2': 'three', 'S3': 'four', 'S4': 'five', 'corr': ' six', 'incorr': ' five', 'text': 'Tree lost in two. King lost in three. Ball lost in four. Ocean lost in five. House lost in'}, {'S1': 'three', 'S2': 'four', 'S3': 'five', 'S4': 'six', 'corr': ' seven', 'incorr': ' six', 'text': 'Wolf lost in three. Window lost in four. Glass lost in five. Ball lost in six. Queen lost in'}, {'S1': 'four', 'S2': 'five', 'S3': 'six', 'S4': 'seven', 'corr': ' eight', 'incorr': ' seven', 'text': 'Snow lost in four. Ax lost in five. Desk lost in six. Nut lost in seven. Window lost in'}, {'S1': 'five', 'S2': 'six', 'S3': 'seven', 'S4': 'eight', 'corr': ' nine', 'incorr': ' eight', 'text': 'Flag lost in five. Tree lost in six. Tree lost in seven. Corn lost in eight. Fan lost in'}, {'S1': 'six', 'S2': 'seven', 'S3': 'eight', 'S4': 'nine', 'corr': ' ten', 'incorr': ' nine', 'text': 'Map lost in six. Van lost in seven. Window lost in eight. Apple lost in nine. Mouse lost in'}, {'S1': 'seven', 'S2': 'eight', 'S3': 'nine', 'S4': 'ten', 'corr': ' eleven', 'incorr': ' ten', 'text': 'Tree lost in seven. House lost in eight. Ocean lost in nine. Jar lost in ten. Fan lost in'}, {'S1': 'eight', 'S2': 'nine', 'S3': 'ten', 'S4': 'eleven', 'corr': ' twelve', 'incorr': ' eleven', 'text': 'Fan lost in eight. Night lost in nine. House lost in ten. Fish lost in eleven. Key lost in'}, {'S1': 'one', 'S2': 'two', 'S3': 'three', 'S4': 'four', 'corr': ' five', 'incorr': ' four', 'text': 'Arm lost in one. Rose lost in two. Tree lost in three. Queen lost in four. Wolf lost in'}, {'S1': 'two', 'S2': 'three', 'S3': 'four', 'S4': 'five', 'corr': ' six', 'incorr': ' five', 'text': 'Sand lost in two. Road lost in three. House lost in four. King lost in five. Moon lost in'}, {'S1': 'three', 'S2': 'four', 'S3': 'five', 'S4': 'six', 'corr': ' seven', 'incorr': ' six', 'text': 'Star lost in three. Iron lost in four. Flag lost in five. Hat lost in six. Van lost in'}, {'S1': 'four', 'S2': 'five', 'S3': 'six', 'S4': 'seven', 'corr': ' eight', 'incorr': ' seven', 'text': 'Eye lost in four. House lost in five. Tree lost in six. Flag lost in seven. Wheel lost in'}, {'S1': 'five', 'S2': 'six', 'S3': 'seven', 'S4': 'eight', 'corr': ' nine', 'incorr': ' eight', 'text': 'Road lost in five. Key lost in six. Box lost in seven. Mouse lost in eight. Fan lost in'}, {'S1': 'six', 'S2': 'seven', 'S3': 'eight', 'S4': 'nine', 'corr': ' ten', 'incorr': ' nine', 'text': 'Ring lost in six. Orange lost in seven. Lake lost in eight. Wheel lost in nine. Wind lost in'}, {'S1': 'seven', 'S2': 'eight', 'S3': 'nine', 'S4': 'ten', 'corr': ' eleven', 'incorr': ' ten', 'text': 'Orange lost in seven. Queen lost in eight. Fan lost in nine. Hill lost in ten. Wheel lost in'}, {'S1': 'eight', 'S2': 'nine', 'S3': 'ten', 'S4': 'eleven', 'corr': ' twelve', 'incorr': ' eleven', 'text': 'Ring lost in eight. Orange lost in nine. Bird lost in ten. Van lost in eleven. Cat lost in'}, {'S1': 'one', 'S2': 'two', 'S3': 'three', 'S4': 'four', 'corr': ' five', 'incorr': ' four', 'text': 'Rose lost in one. Queen lost in two. Desk lost in three. Snake lost in four. Night lost in'}, {'S1': 'two', 'S2': 'three', 'S3': 'four', 'S4': 'five', 'corr': ' six', 'incorr': ' five', 'text': 'Queen lost in two. Desk lost in three. Chair lost in four. Rain lost in five. Fire lost in'}, {'S1': 'three', 'S2': 'four', 'S3': 'five', 'S4': 'six', 'corr': ' seven', 'incorr': ' six', 'text': 'Tree lost in three. Dog lost in four. Mouse lost in five. Pen lost in six. Watch lost in'}, {'S1': 'four', 'S2': 'five', 'S3': 'six', 'S4': 'seven', 'corr': ' eight', 'incorr': ' seven', 'text': 'Apple lost in four. Nut lost in five. Mouse lost in six. Snake lost in seven. Ice lost in'}, {'S1': 'five', 'S2': 'six', 'S3': 'seven', 'S4': 'eight', 'corr': ' nine', 'incorr': ' eight', 'text': 'Ocean lost in five. Nut lost in six. Van lost in seven. Corn lost in eight. Star lost in'}, {'S1': 'six', 'S2': 'seven', 'S3': 'eight', 'S4': 'nine', 'corr': ' ten', 'incorr': ' nine', 'text': 'Rat lost in six. Mouse lost in seven. Hat lost in eight. Table lost in nine. Tree lost in'}, {'S1': 'seven', 'S2': 'eight', 'S3': 'nine', 'S4': 'ten', 'corr': ' eleven', 'incorr': ' ten', 'text': 'Gold lost in seven. Hat lost in eight. Wolf lost in nine. Window lost in ten. Cat lost in'}, {'S1': 'eight', 'S2': 'nine', 'S3': 'ten', 'S4': 'eleven', 'corr': ' twelve', 'incorr': ' eleven', 'text': 'Queen lost in eight. Fan lost in nine. Wolf lost in ten. Fish lost in eleven. Pear lost in'}, {'S1': 'one', 'S2': 'two', 'S3': 'three', 'S4': 'four', 'corr': ' five', 'incorr': ' four', 'text': 'Snake lost in one. Van lost in two. Fan lost in three. Camera lost in four. Hill lost in'}, {'S1': 'two', 'S2': 'three', 'S3': 'four', 'S4': 'five', 'corr': ' six', 'incorr': ' five', 'text': 'Wolf lost in two. Jar lost in three. Cow lost in four. Book lost in five. Oil lost in'}, {'S1': 'three', 'S2': 'four', 'S3': 'five', 'S4': 'six', 'corr': ' seven', 'incorr': ' six', 'text': 'Camera lost in three. Ring lost in four. Clock lost in five. Wind lost in six. Ball lost in'}, {'S1': 'four', 'S2': 'five', 'S3': 'six', 'S4': 'seven', 'corr': ' eight', 'incorr': ' seven', 'text': 'Watch lost in four. Orange lost in five. Ax lost in six. Hat lost in seven. Fan lost in'}, {'S1': 'five', 'S2': 'six', 'S3': 'seven', 'S4': 'eight', 'corr': ' nine', 'incorr': ' eight', 'text': 'Moon lost in five. Ring lost in six. Fan lost in seven. Zip lost in eight. Desk lost in'}, {'S1': 'six', 'S2': 'seven', 'S3': 'eight', 'S4': 'nine', 'corr': ' ten', 'incorr': ' nine', 'text': 'Ball lost in six. House lost in seven. Van lost in eight. Rose lost in nine. Jar lost in'}, {'S1': 'seven', 'S2': 'eight', 'S3': 'nine', 'S4': 'ten', 'corr': ' eleven', 'incorr': ' ten', 'text': 'Star lost in seven. Rose lost in eight. Flag lost in nine. Nut lost in ten. House lost in'}, {'S1': 'eight', 'S2': 'nine', 'S3': 'ten', 'S4': 'eleven', 'corr': ' twelve', 'incorr': ' eleven', 'text': 'Zip lost in eight. Road lost in nine. King lost in ten. Queen lost in eleven. Year lost in'}, {'S1': 'one', 'S2': 'two', 'S3': 'three', 'S4': 'four', 'corr': ' five', 'incorr': ' four', 'text': 'Gate lost in one. Ring lost in two. Orange lost in three. Glass lost in four. Camera lost in'}, {'S1': 'two', 'S2': 'three', 'S3': 'four', 'S4': 'five', 'corr': ' six', 'incorr': ' five', 'text': 'Window lost in two. Orange lost in three. House lost in four. Map lost in five. Van lost in'}, {'S1': 'three', 'S2': 'four', 'S3': 'five', 'S4': 'six', 'corr': ' seven', 'incorr': ' six', 'text': 'Hand lost in three. Train lost in four. Queen lost in five. Oil lost in six. Apple lost in'}, {'S1': 'four', 'S2': 'five', 'S3': 'six', 'S4': 'seven', 'corr': ' eight', 'incorr': ' seven', 'text': 'Fish lost in four. Nut lost in five. Light lost in six. Hand lost in seven. Ear lost in'}, {'S1': 'five', 'S2': 'six', 'S3': 'seven', 'S4': 'eight', 'corr': ' nine', 'incorr': ' eight', 'text': 'Oil lost in five. Orange lost in six. Tree lost in seven. Desk lost in eight. Pear lost in'}, {'S1': 'six', 'S2': 'seven', 'S3': 'eight', 'S4': 'nine', 'corr': ' ten', 'incorr': ' nine', 'text': 'Ice lost in six. Wolf lost in seven. Map lost in eight. Fan lost in nine. Ball lost in'}, {'S1': 'seven', 'S2': 'eight', 'S3': 'nine', 'S4': 'ten', 'corr': ' eleven', 'incorr': ' ten', 'text': 'Van lost in seven. Car lost in eight. Camera lost in nine. Bug lost in ten. Watch lost in'}, {'S1': 'eight', 'S2': 'nine', 'S3': 'ten', 'S4': 'eleven', 'corr': ' twelve', 'incorr': ' eleven', 'text': 'Arm lost in eight. Bird lost in nine. Fan lost in ten. Night lost in eleven. Corn lost in'}, {'S1': 'one', 'S2': 'two', 'S3': 'three', 'S4': 'four', 'corr': ' five', 'incorr': ' four', 'text': 'Ring lost in one. Ax lost in two. Tree lost in three. Desk lost in four. Night lost in'}, {'S1': 'two', 'S2': 'three', 'S3': 'four', 'S4': 'five', 'corr': ' six', 'incorr': ' five', 'text': 'Snake lost in two. Sand lost in three. Ball lost in four. Queen lost in five. Tree lost in'}, {'S1': 'three', 'S2': 'four', 'S3': 'five', 'S4': 'six', 'corr': ' seven', 'incorr': ' six', 'text': 'Hat lost in three. Gold lost in four. Map lost in five. Camera lost in six. Ant lost in'}, {'S1': 'four', 'S2': 'five', 'S3': 'six', 'S4': 'seven', 'corr': ' eight', 'incorr': ' seven', 'text': 'Fan lost in four. Fire lost in five. Apple lost in six. Gold lost in seven. Ball lost in'}, {'S1': 'five', 'S2': 'six', 'S3': 'seven', 'S4': 'eight', 'corr': ' nine', 'incorr': ' eight', 'text': 'Tree lost in five. Light lost in six. Orange lost in seven. Desk lost in eight. Pen lost in'}, {'S1': 'six', 'S2': 'seven', 'S3': 'eight', 'S4': 'nine', 'corr': ' ten', 'incorr': ' nine', 'text': 'Apple lost in six. Map lost in seven. Glass lost in eight. Wind lost in nine. Van lost in'}, {'S1': 'seven', 'S2': 'eight', 'S3': 'nine', 'S4': 'ten', 'corr': ' eleven', 'incorr': ' ten', 'text': 'Rat lost in seven. Nut lost in eight. Fire lost in nine. Apple lost in ten. Glass lost in'}, {'S1': 'eight', 'S2': 'nine', 'S3': 'ten', 'S4': 'eleven', 'corr': ' twelve', 'incorr': ' eleven', 'text': 'Ice lost in eight. Jar lost in nine. Clock lost in ten. Wind lost in eleven. King lost in'}, {'S1': 'one', 'S2': 'two', 'S3': 'three', 'S4': 'four', 'corr': ' five', 'incorr': ' four', 'text': 'Zip lost in one. Ant lost in two. Moon lost in three. Rain lost in four. Wall lost in'}, {'S1': 'two', 'S2': 'three', 'S3': 'four', 'S4': 'five', 'corr': ' six', 'incorr': ' five', 'text': 'Apple lost in two. Corn lost in three. Pear lost in four. Ocean lost in five. Queen lost in'}, {'S1': 'three', 'S2': 'four', 'S3': 'five', 'S4': 'six', 'corr': ' seven', 'incorr': ' six', 'text': 'Hand lost in three. Bug lost in four. Ant lost in five. Corn lost in six. Jam lost in'}, {'S1': 'four', 'S2': 'five', 'S3': 'six', 'S4': 'seven', 'corr': ' eight', 'incorr': ' seven', 'text': 'Queen lost in four. Train lost in five. House lost in six. Ring lost in seven. Queen lost in'}, {'S1': 'five', 'S2': 'six', 'S3': 'seven', 'S4': 'eight', 'corr': ' nine', 'incorr': ' eight', 'text': 'Wheel lost in five. Iron lost in six. Tree lost in seven. Ax lost in eight. Pen lost in'}, {'S1': 'six', 'S2': 'seven', 'S3': 'eight', 'S4': 'nine', 'corr': ' ten', 'incorr': ' nine', 'text': 'Mouse lost in six. Zip lost in seven. Rat lost in eight. Road lost in nine. Dog lost in'}, {'S1': 'seven', 'S2': 'eight', 'S3': 'nine', 'S4': 'ten', 'corr': ' eleven', 'incorr': ' ten', 'text': 'Tree lost in seven. Orange lost in eight. Desk lost in nine. Hill lost in ten. Arm lost in'}, {'S1': 'eight', 'S2': 'nine', 'S3': 'ten', 'S4': 'eleven', 'corr': ' twelve', 'incorr': ' eleven', 'text': 'Cat lost in eight. Camera lost in nine. House lost in ten. Queen lost in eleven. Bird lost in'}, {'S1': 'one', 'S2': 'two', 'S3': 'three', 'S4': 'four', 'corr': ' five', 'incorr': ' four', 'text': 'Desk lost in one. Road lost in two. Rain lost in three. House lost in four. Lake lost in'}, {'S1': 'two', 'S2': 'three', 'S3': 'four', 'S4': 'five', 'corr': ' six', 'incorr': ' five', 'text': 'Moon lost in two. Apple lost in three. Road lost in four. House lost in five. Queen lost in'}, {'S1': 'three', 'S2': 'four', 'S3': 'five', 'S4': 'six', 'corr': ' seven', 'incorr': ' six', 'text': 'Ear lost in three. Wind lost in four. Oil lost in five. Sun lost in six. Train lost in'}, {'S1': 'four', 'S2': 'five', 'S3': 'six', 'S4': 'seven', 'corr': ' eight', 'incorr': ' seven', 'text': 'Train lost in four. Eye lost in five. Book lost in six. Apple lost in seven. Ice lost in'}, {'S1': 'five', 'S2': 'six', 'S3': 'seven', 'S4': 'eight', 'corr': ' nine', 'incorr': ' eight', 'text': 'Moon lost in five. Rose lost in six. Sand lost in seven. Orange lost in eight. Wheel lost in'}, {'S1': 'six', 'S2': 'seven', 'S3': 'eight', 'S4': 'nine', 'corr': ' ten', 'incorr': ' nine', 'text': 'Car lost in six. Key lost in seven. Corn lost in eight. Gold lost in nine. Year lost in'}, {'S1': 'seven', 'S2': 'eight', 'S3': 'nine', 'S4': 'ten', 'corr': ' eleven', 'incorr': ' ten', 'text': 'Key lost in seven. Book lost in eight. Mouse lost in nine. Desk lost in ten. Cow lost in'}, {'S1': 'eight', 'S2': 'nine', 'S3': 'ten', 'S4': 'eleven', 'corr': ' twelve', 'incorr': ' eleven', 'text': 'Car lost in eight. Tree lost in nine. Car lost in ten. Hill lost in eleven. Key lost in'}, {'S1': 'one', 'S2': 'two', 'S3': 'three', 'S4': 'four', 'corr': ' five', 'incorr': ' four', 'text': 'King lost in one. Rat lost in two. Cow lost in three. Road lost in four. Nut lost in'}, {'S1': 'two', 'S2': 'three', 'S3': 'four', 'S4': 'five', 'corr': ' six', 'incorr': ' five', 'text': 'Arm lost in two. Wallet lost in three. Ring lost in four. Fan lost in five. King lost in'}, {'S1': 'three', 'S2': 'four', 'S3': 'five', 'S4': 'six', 'corr': ' seven', 'incorr': ' six', 'text': 'Fish lost in three. Window lost in four. House lost in five. Ice lost in six. Rose lost in'}, {'S1': 'four', 'S2': 'five', 'S3': 'six', 'S4': 'seven', 'corr': ' eight', 'incorr': ' seven', 'text': 'Corn lost in four. Camera lost in five. Flag lost in six. Queen lost in seven. Rain lost in'}, {'S1': 'five', 'S2': 'six', 'S3': 'seven', 'S4': 'eight', 'corr': ' nine', 'incorr': ' eight', 'text': 'Rose lost in five. Year lost in six. Ring lost in seven. Tree lost in eight. Orange lost in'}, {'S1': 'six', 'S2': 'seven', 'S3': 'eight', 'S4': 'nine', 'corr': ' ten', 'incorr': ' nine', 'text': 'Van lost in six. House lost in seven. Ball lost in eight. Year lost in nine. Clock lost in'}, {'S1': 'seven', 'S2': 'eight', 'S3': 'nine', 'S4': 'ten', 'corr': ' eleven', 'incorr': ' ten', 'text': 'Glass lost in seven. Pen lost in eight. Train lost in nine. Ocean lost in ten. Sand lost in'}, {'S1': 'eight', 'S2': 'nine', 'S3': 'ten', 'S4': 'eleven', 'corr': ' twelve', 'incorr': ' eleven', 'text': 'Snow lost in eight. Fan lost in nine. Hat lost in ten. Gate lost in eleven. Road lost in'}, {'S1': 'one', 'S2': 'two', 'S3': 'three', 'S4': 'four', 'corr': ' five', 'incorr': ' four', 'text': 'Snake lost in one. Snow lost in two. Arm lost in three. Star lost in four. Sun lost in'}, {'S1': 'two', 'S2': 'three', 'S3': 'four', 'S4': 'five', 'corr': ' six', 'incorr': ' five', 'text': 'Window lost in two. Queen lost in three. Queen lost in four. Desk lost in five. Key lost in'}, {'S1': 'three', 'S2': 'four', 'S3': 'five', 'S4': 'six', 'corr': ' seven', 'incorr': ' six', 'text': 'Nut lost in three. Apple lost in four. Pear lost in five. Ball lost in six. Orange lost in'}, {'S1': 'four', 'S2': 'five', 'S3': 'six', 'S4': 'seven', 'corr': ' eight', 'incorr': ' seven', 'text': 'Hand lost in four. Queen lost in five. Rain lost in six. Light lost in seven. Rat lost in'}, {'S1': 'five', 'S2': 'six', 'S3': 'seven', 'S4': 'eight', 'corr': ' nine', 'incorr': ' eight', 'text': 'Nut lost in five. Car lost in six. Queen lost in seven. Wolf lost in eight. Rain lost in'}, {'S1': 'six', 'S2': 'seven', 'S3': 'eight', 'S4': 'nine', 'corr': ' ten', 'incorr': ' nine', 'text': 'Car lost in six. Watch lost in seven. Mouse lost in eight. Window lost in nine. Table lost in'}, {'S1': 'seven', 'S2': 'eight', 'S3': 'nine', 'S4': 'ten', 'corr': ' eleven', 'incorr': ' ten', 'text': 'Car lost in seven. House lost in eight. Hill lost in nine. Ring lost in ten. Road lost in'}, {'S1': 'eight', 'S2': 'nine', 'S3': 'ten', 'S4': 'eleven', 'corr': ' twelve', 'incorr': ' eleven', 'text': 'Ball lost in eight. Ocean lost in nine. Snow lost in ten. Tree lost in eleven. Watch lost in'}, {'S1': 'one', 'S2': 'two', 'S3': 'three', 'S4': 'four', 'corr': ' five', 'incorr': ' four', 'text': 'King lost in one. Tree lost in two. Watch lost in three. Ring lost in four. Hand lost in'}, {'S1': 'two', 'S2': 'three', 'S3': 'four', 'S4': 'five', 'corr': ' six', 'incorr': ' five', 'text': 'Watch lost in two. Rat lost in three. Hat lost in four. Glass lost in five. Arm lost in'}, {'S1': 'three', 'S2': 'four', 'S3': 'five', 'S4': 'six', 'corr': ' seven', 'incorr': ' six', 'text': 'Book lost in three. Road lost in four. Snow lost in five. Rat lost in six. Zip lost in'}, {'S1': 'four', 'S2': 'five', 'S3': 'six', 'S4': 'seven', 'corr': ' eight', 'incorr': ' seven', 'text': 'Fish lost in four. Sand lost in five. Desk lost in six. Desk lost in seven. Window lost in'}, {'S1': 'five', 'S2': 'six', 'S3': 'seven', 'S4': 'eight', 'corr': ' nine', 'incorr': ' eight', 'text': 'Orange lost in five. House lost in six. Apple lost in seven. Book lost in eight. Wind lost in'}, {'S1': 'six', 'S2': 'seven', 'S3': 'eight', 'S4': 'nine', 'corr': ' ten', 'incorr': ' nine', 'text': 'Rose lost in six. Pen lost in seven. Jam lost in eight. Orange lost in nine. Snake lost in'}, {'S1': 'seven', 'S2': 'eight', 'S3': 'nine', 'S4': 'ten', 'corr': ' eleven', 'incorr': ' ten', 'text': 'Queen lost in seven. Year lost in eight. Nut lost in nine. Wolf lost in ten. Star lost in'}, {'S1': 'eight', 'S2': 'nine', 'S3': 'ten', 'S4': 'eleven', 'corr': ' twelve', 'incorr': ' eleven', 'text': 'Wallet lost in eight. Tree lost in nine. Jar lost in ten. Hat lost in eleven. Ring lost in'}, {'S1': 'one', 'S2': 'two', 'S3': 'three', 'S4': 'four', 'corr': ' five', 'incorr': ' four', 'text': 'Sand lost in one. Table lost in two. Fire lost in three. Desk lost in four. Tree lost in'}, {'S1': 'two', 'S2': 'three', 'S3': 'four', 'S4': 'five', 'corr': ' six', 'incorr': ' five', 'text': 'Dog lost in two. Ball lost in three. King lost in four. Ring lost in five. Train lost in'}, {'S1': 'three', 'S2': 'four', 'S3': 'five', 'S4': 'six', 'corr': ' seven', 'incorr': ' six', 'text': 'Gold lost in three. Fire lost in four. Table lost in five. Apple lost in six. Van lost in'}, {'S1': 'four', 'S2': 'five', 'S3': 'six', 'S4': 'seven', 'corr': ' eight', 'incorr': ' seven', 'text': 'Orange lost in four. Road lost in five. Ball lost in six. Glass lost in seven. Train lost in'}, {'S1': 'five', 'S2': 'six', 'S3': 'seven', 'S4': 'eight', 'corr': ' nine', 'incorr': ' eight', 'text': 'Orange lost in five. Wheel lost in six. Corn lost in seven. Chair lost in eight. Orange lost in'}, {'S1': 'six', 'S2': 'seven', 'S3': 'eight', 'S4': 'nine', 'corr': ' ten', 'incorr': ' nine', 'text': 'Orange lost in six. Box lost in seven. Van lost in eight. Orange lost in nine. Orange lost in'}, {'S1': 'seven', 'S2': 'eight', 'S3': 'nine', 'S4': 'ten', 'corr': ' eleven', 'incorr': ' ten', 'text': 'Eye lost in seven. Fire lost in eight. Ant lost in nine. Snake lost in ten. Corn lost in'}, {'S1': 'eight', 'S2': 'nine', 'S3': 'ten', 'S4': 'eleven', 'corr': ' twelve', 'incorr': ' eleven', 'text': 'Book lost in eight. Chair lost in nine. Iron lost in ten. Moon lost in eleven. Ice lost in'}, {'S1': 'one', 'S2': 'two', 'S3': 'three', 'S4': 'four', 'corr': ' five', 'incorr': ' four', 'text': 'Van lost in one. King lost in two. Pen lost in three. Wallet lost in four. Tree lost in'}, {'S1': 'two', 'S2': 'three', 'S3': 'four', 'S4': 'five', 'corr': ' six', 'incorr': ' five', 'text': 'Ring lost in two. Ice lost in three. Key lost in four. Desk lost in five. Jam lost in'}, {'S1': 'three', 'S2': 'four', 'S3': 'five', 'S4': 'six', 'corr': ' seven', 'incorr': ' six', 'text': 'Sand lost in three. Ball lost in four. Dog lost in five. Key lost in six. Iron lost in'}, {'S1': 'four', 'S2': 'five', 'S3': 'six', 'S4': 'seven', 'corr': ' eight', 'incorr': ' seven', 'text': 'Fish lost in four. Fan lost in five. Hat lost in six. Apple lost in seven. Wind lost in'}, {'S1': 'five', 'S2': 'six', 'S3': 'seven', 'S4': 'eight', 'corr': ' nine', 'incorr': ' eight', 'text': 'Fan lost in five. Fish lost in six. Queen lost in seven. Pen lost in eight. Desk lost in'}, {'S1': 'six', 'S2': 'seven', 'S3': 'eight', 'S4': 'nine', 'corr': ' ten', 'incorr': ' nine', 'text': 'Ice lost in six. Nut lost in seven. King lost in eight. Jam lost in nine. Wheel lost in'}, {'S1': 'seven', 'S2': 'eight', 'S3': 'nine', 'S4': 'ten', 'corr': ' eleven', 'incorr': ' ten', 'text': 'Flag lost in seven. Wolf lost in eight. Fire lost in nine. Ocean lost in ten. Ant lost in'}, {'S1': 'eight', 'S2': 'nine', 'S3': 'ten', 'S4': 'eleven', 'corr': ' twelve', 'incorr': ' eleven', 'text': 'Box lost in eight. Cat lost in nine. Lake lost in ten. Bug lost in eleven. Rat lost in'}, {'S1': 'one', 'S2': 'two', 'S3': 'three', 'S4': 'four', 'corr': ' five', 'incorr': ' four', 'text': 'Pen lost in one. Hat lost in two. Fish lost in three. Star lost in four. Watch lost in'}, {'S1': 'two', 'S2': 'three', 'S3': 'four', 'S4': 'five', 'corr': ' six', 'incorr': ' five', 'text': 'Wind lost in two. Jar lost in three. Queen lost in four. Tree lost in five. Ear lost in'}, {'S1': 'three', 'S2': 'four', 'S3': 'five', 'S4': 'six', 'corr': ' seven', 'incorr': ' six', 'text': 'Watch lost in three. Ring lost in four. Apple lost in five. Jar lost in six. Fan lost in'}, {'S1': 'four', 'S2': 'five', 'S3': 'six', 'S4': 'seven', 'corr': ' eight', 'incorr': ' seven', 'text': 'Car lost in four. Wind lost in five. Road lost in six. Sun lost in seven. Desk lost in'}, {'S1': 'five', 'S2': 'six', 'S3': 'seven', 'S4': 'eight', 'corr': ' nine', 'incorr': ' eight', 'text': 'Car lost in five. Ant lost in six. Tree lost in seven. Snow lost in eight. Rat lost in'}, {'S1': 'six', 'S2': 'seven', 'S3': 'eight', 'S4': 'nine', 'corr': ' ten', 'incorr': ' nine', 'text': 'Ice lost in six. Ring lost in seven. Snow lost in eight. Ball lost in nine. Bird lost in'}, {'S1': 'seven', 'S2': 'eight', 'S3': 'nine', 'S4': 'ten', 'corr': ' eleven', 'incorr': ' ten', 'text': 'Table lost in seven. Ocean lost in eight. Rat lost in nine. Watch lost in ten. Wall lost in'}, {'S1': 'eight', 'S2': 'nine', 'S3': 'ten', 'S4': 'eleven', 'corr': ' twelve', 'incorr': ' eleven', 'text': 'Book lost in eight. Wolf lost in nine. Nut lost in ten. Rose lost in eleven. Orange lost in'}, {'S1': 'one', 'S2': 'two', 'S3': 'three', 'S4': 'four', 'corr': ' five', 'incorr': ' four', 'text': 'Arm lost in one. Pear lost in two. Van lost in three. Cat lost in four. Light lost in'}, {'S1': 'two', 'S2': 'three', 'S3': 'four', 'S4': 'five', 'corr': ' six', 'incorr': ' five', 'text': 'Sand lost in two. Hat lost in three. Wall lost in four. Star lost in five. Sun lost in'}, {'S1': 'three', 'S2': 'four', 'S3': 'five', 'S4': 'six', 'corr': ' seven', 'incorr': ' six', 'text': 'Apple lost in three. Window lost in four. Glass lost in five. Watch lost in six. Wheel lost in'}, {'S1': 'four', 'S2': 'five', 'S3': 'six', 'S4': 'seven', 'corr': ' eight', 'incorr': ' seven', 'text': 'King lost in four. Rat lost in five. Nut lost in six. Cow lost in seven. Hat lost in'}, {'S1': 'five', 'S2': 'six', 'S3': 'seven', 'S4': 'eight', 'corr': ' nine', 'incorr': ' eight', 'text': 'Star lost in five. Apple lost in six. Dog lost in seven. Table lost in eight. Wall lost in'}, {'S1': 'six', 'S2': 'seven', 'S3': 'eight', 'S4': 'nine', 'corr': ' ten', 'incorr': ' nine', 'text': 'Apple lost in six. Van lost in seven. Mouse lost in eight. Camera lost in nine. Jar lost in'}, {'S1': 'seven', 'S2': 'eight', 'S3': 'nine', 'S4': 'ten', 'corr': ' eleven', 'incorr': ' ten', 'text': 'Rat lost in seven. Hill lost in eight. Cat lost in nine. Van lost in ten. Ax lost in'}, {'S1': 'eight', 'S2': 'nine', 'S3': 'ten', 'S4': 'eleven', 'corr': ' twelve', 'incorr': ' eleven', 'text': 'Chair lost in eight. Desk lost in nine. Map lost in ten. Arm lost in eleven. Camera lost in'}, {'S1': 'one', 'S2': 'two', 'S3': 'three', 'S4': 'four', 'corr': ' five', 'incorr': ' four', 'text': 'Corn lost in one. Rain lost in two. Fish lost in three. Cow lost in four. Tree lost in'}, {'S1': 'two', 'S2': 'three', 'S3': 'four', 'S4': 'five', 'corr': ' six', 'incorr': ' five', 'text': 'Ball lost in two. Gate lost in three. Ice lost in four. Flag lost in five. Glass lost in'}, {'S1': 'three', 'S2': 'four', 'S3': 'five', 'S4': 'six', 'corr': ' seven', 'incorr': ' six', 'text': 'Train lost in three. Rain lost in four. Flag lost in five. Sun lost in six. Tree lost in'}, {'S1': 'four', 'S2': 'five', 'S3': 'six', 'S4': 'seven', 'corr': ' eight', 'incorr': ' seven', 'text': 'Wall lost in four. Ice lost in five. Apple lost in six. Mouse lost in seven. Pen lost in'}, {'S1': 'five', 'S2': 'six', 'S3': 'seven', 'S4': 'eight', 'corr': ' nine', 'incorr': ' eight', 'text': 'Ocean lost in five. Wolf lost in six. Oil lost in seven. Eye lost in eight. Wind lost in'}, {'S1': 'six', 'S2': 'seven', 'S3': 'eight', 'S4': 'nine', 'corr': ' ten', 'incorr': ' nine', 'text': 'Pen lost in six. House lost in seven. Fan lost in eight. Tree lost in nine. Nut lost in'}, {'S1': 'seven', 'S2': 'eight', 'S3': 'nine', 'S4': 'ten', 'corr': ' eleven', 'incorr': ' ten', 'text': 'Rose lost in seven. Nut lost in eight. Queen lost in nine. Star lost in ten. Jar lost in'}, {'S1': 'eight', 'S2': 'nine', 'S3': 'ten', 'S4': 'eleven', 'corr': ' twelve', 'incorr': ' eleven', 'text': 'Hat lost in eight. Ant lost in nine. Wallet lost in ten. Clock lost in eleven. Table lost in'}, {'S1': 'one', 'S2': 'two', 'S3': 'three', 'S4': 'four', 'corr': ' five', 'incorr': ' four', 'text': 'Fish lost in one. Desk lost in two. Fan lost in three. Rat lost in four. Apple lost in'}, {'S1': 'two', 'S2': 'three', 'S3': 'four', 'S4': 'five', 'corr': ' six', 'incorr': ' five', 'text': 'Jam lost in two. Camera lost in three. Ring lost in four. Rose lost in five. Orange lost in'}, {'S1': 'three', 'S2': 'four', 'S3': 'five', 'S4': 'six', 'corr': ' seven', 'incorr': ' six', 'text': 'Rain lost in three. Fan lost in four. Wind lost in five. Ocean lost in six. Clock lost in'}, {'S1': 'four', 'S2': 'five', 'S3': 'six', 'S4': 'seven', 'corr': ' eight', 'incorr': ' seven', 'text': 'Star lost in four. Mouse lost in five. Wallet lost in six. Year lost in seven. Fire lost in'}, {'S1': 'five', 'S2': 'six', 'S3': 'seven', 'S4': 'eight', 'corr': ' nine', 'incorr': ' eight', 'text': 'Desk lost in five. Map lost in six. Rose lost in seven. Van lost in eight. Mouse lost in'}, {'S1': 'six', 'S2': 'seven', 'S3': 'eight', 'S4': 'nine', 'corr': ' ten', 'incorr': ' nine', 'text': 'Dog lost in six. Tree lost in seven. Car lost in eight. Sand lost in nine. Key lost in'}, {'S1': 'seven', 'S2': 'eight', 'S3': 'nine', 'S4': 'ten', 'corr': ' eleven', 'incorr': ' ten', 'text': 'Jar lost in seven. Ring lost in eight. Key lost in nine. Wheel lost in ten. Fire lost in'}, {'S1': 'eight', 'S2': 'nine', 'S3': 'ten', 'S4': 'eleven', 'corr': ' twelve', 'incorr': ' eleven', 'text': 'Bird lost in eight. Watch lost in nine. Wall lost in ten. Ring lost in eleven. Orange lost in'}, {'S1': 'one', 'S2': 'two', 'S3': 'three', 'S4': 'four', 'corr': ' five', 'incorr': ' four', 'text': 'Road lost in one. Moon lost in two. Chair lost in three. Wind lost in four. Snow lost in'}, {'S1': 'two', 'S2': 'three', 'S3': 'four', 'S4': 'five', 'corr': ' six', 'incorr': ' five', 'text': 'Desk lost in two. Dog lost in three. Bug lost in four. Sun lost in five. Light lost in'}, {'S1': 'three', 'S2': 'four', 'S3': 'five', 'S4': 'six', 'corr': ' seven', 'incorr': ' six', 'text': 'Wheel lost in three. Orange lost in four. Hand lost in five. Desk lost in six. Moon lost in'}, {'S1': 'four', 'S2': 'five', 'S3': 'six', 'S4': 'seven', 'corr': ' eight', 'incorr': ' seven', 'text': 'Desk lost in four. Star lost in five. Bug lost in six. Hill lost in seven. Flag lost in'}, {'S1': 'five', 'S2': 'six', 'S3': 'seven', 'S4': 'eight', 'corr': ' nine', 'incorr': ' eight', 'text': 'Lake lost in five. Ice lost in six. Box lost in seven. Rat lost in eight. Sand lost in'}, {'S1': 'six', 'S2': 'seven', 'S3': 'eight', 'S4': 'nine', 'corr': ' ten', 'incorr': ' nine', 'text': 'Fan lost in six. Hat lost in seven. Rain lost in eight. Glass lost in nine. Year lost in'}, {'S1': 'seven', 'S2': 'eight', 'S3': 'nine', 'S4': 'ten', 'corr': ' eleven', 'incorr': ' ten', 'text': 'Orange lost in seven. Queen lost in eight. King lost in nine. Cat lost in ten. Road lost in'}, {'S1': 'eight', 'S2': 'nine', 'S3': 'ten', 'S4': 'eleven', 'corr': ' twelve', 'incorr': ' eleven', 'text': 'Cow lost in eight. Star lost in nine. Ear lost in ten. Camera lost in eleven. Queen lost in'}, {'S1': 'one', 'S2': 'two', 'S3': 'three', 'S4': 'four', 'corr': ' five', 'incorr': ' four', 'text': 'Snake lost in one. Ring lost in two. Wheel lost in three. Van lost in four. Nut lost in'}, {'S1': 'two', 'S2': 'three', 'S3': 'four', 'S4': 'five', 'corr': ' six', 'incorr': ' five', 'text': 'Sand lost in two. Rose lost in three. Train lost in four. Queen lost in five. Ice lost in'}, {'S1': 'three', 'S2': 'four', 'S3': 'five', 'S4': 'six', 'corr': ' seven', 'incorr': ' six', 'text': 'Ocean lost in three. Wolf lost in four. Star lost in five. Pear lost in six. Nut lost in'}, {'S1': 'four', 'S2': 'five', 'S3': 'six', 'S4': 'seven', 'corr': ' eight', 'incorr': ' seven', 'text': 'Sand lost in four. Train lost in five. Ring lost in six. Jar lost in seven. Rain lost in'}, {'S1': 'five', 'S2': 'six', 'S3': 'seven', 'S4': 'eight', 'corr': ' nine', 'incorr': ' eight', 'text': 'Oil lost in five. Queen lost in six. Map lost in seven. Arm lost in eight. Tree lost in'}, {'S1': 'six', 'S2': 'seven', 'S3': 'eight', 'S4': 'nine', 'corr': ' ten', 'incorr': ' nine', 'text': 'Fan lost in six. Queen lost in seven. Orange lost in eight. Fish lost in nine. Ring lost in'}, {'S1': 'seven', 'S2': 'eight', 'S3': 'nine', 'S4': 'ten', 'corr': ' eleven', 'incorr': ' ten', 'text': 'Rat lost in seven. Book lost in eight. Sun lost in nine. House lost in ten. Ax lost in'}, {'S1': 'eight', 'S2': 'nine', 'S3': 'ten', 'S4': 'eleven', 'corr': ' twelve', 'incorr': ' eleven', 'text': 'Eye lost in eight. Ocean lost in nine. Moon lost in ten. Box lost in eleven. Van lost in'}, {'S1': 'one', 'S2': 'two', 'S3': 'three', 'S4': 'four', 'corr': ' five', 'incorr': ' four', 'text': 'Ear lost in one. Desk lost in two. Hand lost in three. House lost in four. Zip lost in'}, {'S1': 'two', 'S2': 'three', 'S3': 'four', 'S4': 'five', 'corr': ' six', 'incorr': ' five', 'text': 'Cat lost in two. Rat lost in three. Ball lost in four. Fan lost in five. Apple lost in'}, {'S1': 'three', 'S2': 'four', 'S3': 'five', 'S4': 'six', 'corr': ' seven', 'incorr': ' six', 'text': 'Window lost in three. Night lost in four. Star lost in five. Rose lost in six. Clock lost in'}, {'S1': 'four', 'S2': 'five', 'S3': 'six', 'S4': 'seven', 'corr': ' eight', 'incorr': ' seven', 'text': 'Sun lost in four. Moon lost in five. Gold lost in six. Clock lost in seven. Oil lost in'}, {'S1': 'five', 'S2': 'six', 'S3': 'seven', 'S4': 'eight', 'corr': ' nine', 'incorr': ' eight', 'text': 'Ring lost in five. Ax lost in six. Orange lost in seven. Gate lost in eight. Eye lost in'}, {'S1': 'six', 'S2': 'seven', 'S3': 'eight', 'S4': 'nine', 'corr': ' ten', 'incorr': ' nine', 'text': 'Queen lost in six. Ice lost in seven. Fan lost in eight. Train lost in nine. King lost in'}, {'S1': 'seven', 'S2': 'eight', 'S3': 'nine', 'S4': 'ten', 'corr': ' eleven', 'incorr': ' ten', 'text': 'Nut lost in seven. Clock lost in eight. Star lost in nine. Sun lost in ten. Oil lost in'}, {'S1': 'eight', 'S2': 'nine', 'S3': 'ten', 'S4': 'eleven', 'corr': ' twelve', 'incorr': ' eleven', 'text': 'Desk lost in eight. Corn lost in nine. Jar lost in ten. Nut lost in eleven. Window lost in'}, {'S1': 'one', 'S2': 'two', 'S3': 'three', 'S4': 'four', 'corr': ' five', 'incorr': ' four', 'text': 'Flag lost in one. King lost in two. Tree lost in three. Ball lost in four. Rose lost in'}, {'S1': 'two', 'S2': 'three', 'S3': 'four', 'S4': 'five', 'corr': ' six', 'incorr': ' five', 'text': 'Flag lost in two. Map lost in three. Tree lost in four. Snake lost in five. Zip lost in'}, {'S1': 'three', 'S2': 'four', 'S3': 'five', 'S4': 'six', 'corr': ' seven', 'incorr': ' six', 'text': 'Fish lost in three. Corn lost in four. Oil lost in five. Hat lost in six. Bird lost in'}, {'S1': 'four', 'S2': 'five', 'S3': 'six', 'S4': 'seven', 'corr': ' eight', 'incorr': ' seven', 'text': 'Camera lost in four. Wallet lost in five. Fish lost in six. Orange lost in seven. Fan lost in'}, {'S1': 'five', 'S2': 'six', 'S3': 'seven', 'S4': 'eight', 'corr': ' nine', 'incorr': ' eight', 'text': 'Lake lost in five. Wheel lost in six. King lost in seven. Car lost in eight. Fan lost in'}, {'S1': 'six', 'S2': 'seven', 'S3': 'eight', 'S4': 'nine', 'corr': ' ten', 'incorr': ' nine', 'text': 'Ball lost in six. Orange lost in seven. Sand lost in eight. Corn lost in nine. House lost in'}, {'S1': 'seven', 'S2': 'eight', 'S3': 'nine', 'S4': 'ten', 'corr': ' eleven', 'incorr': ' ten', 'text': 'Star lost in seven. Tree lost in eight. Cow lost in nine. Road lost in ten. Pen lost in'}, {'S1': 'eight', 'S2': 'nine', 'S3': 'ten', 'S4': 'eleven', 'corr': ' twelve', 'incorr': ' eleven', 'text': 'Tree lost in eight. Clock lost in nine. Star lost in ten. Ball lost in eleven. Watch lost in'}, {'S1': 'one', 'S2': 'two', 'S3': 'three', 'S4': 'four', 'corr': ' five', 'incorr': ' four', 'text': 'Map lost in one. Eye lost in two. Night lost in three. Wallet lost in four. Wolf lost in'}, {'S1': 'two', 'S2': 'three', 'S3': 'four', 'S4': 'five', 'corr': ' six', 'incorr': ' five', 'text': 'Mouse lost in two. Dog lost in three. Oil lost in four. Tree lost in five. Star lost in'}, {'S1': 'three', 'S2': 'four', 'S3': 'five', 'S4': 'six', 'corr': ' seven', 'incorr': ' six', 'text': 'Year lost in three. Ring lost in four. Chair lost in five. Hill lost in six. Star lost in'}, {'S1': 'four', 'S2': 'five', 'S3': 'six', 'S4': 'seven', 'corr': ' eight', 'incorr': ' seven', 'text': 'Light lost in four. Key lost in five. Camera lost in six. Tree lost in seven. Star lost in'}, {'S1': 'five', 'S2': 'six', 'S3': 'seven', 'S4': 'eight', 'corr': ' nine', 'incorr': ' eight', 'text': 'Ear lost in five. Pen lost in six. Table lost in seven. Snow lost in eight. Eye lost in'}, {'S1': 'six', 'S2': 'seven', 'S3': 'eight', 'S4': 'nine', 'corr': ' ten', 'incorr': ' nine', 'text': 'Apple lost in six. Zip lost in seven. Ring lost in eight. Fan lost in nine. Oil lost in'}, {'S1': 'seven', 'S2': 'eight', 'S3': 'nine', 'S4': 'ten', 'corr': ' eleven', 'incorr': ' ten', 'text': 'Tree lost in seven. Orange lost in eight. Train lost in nine. Zip lost in ten. Hat lost in'}, {'S1': 'eight', 'S2': 'nine', 'S3': 'ten', 'S4': 'eleven', 'corr': ' twelve', 'incorr': ' eleven', 'text': 'Apple lost in eight. Moon lost in nine. Ring lost in ten. Van lost in eleven. Clock lost in'}, {'S1': 'one', 'S2': 'two', 'S3': 'three', 'S4': 'four', 'corr': ' five', 'incorr': ' four', 'text': 'Road lost in one. Fire lost in two. Wall lost in three. Chair lost in four. Zip lost in'}, {'S1': 'two', 'S2': 'three', 'S3': 'four', 'S4': 'five', 'corr': ' six', 'incorr': ' five', 'text': 'Car lost in two. Hill lost in three. King lost in four. Train lost in five. Arm lost in'}, {'S1': 'three', 'S2': 'four', 'S3': 'five', 'S4': 'six', 'corr': ' seven', 'incorr': ' six', 'text': 'Fire lost in three. Fish lost in four. Star lost in five. Hat lost in six. Chair lost in'}, {'S1': 'four', 'S2': 'five', 'S3': 'six', 'S4': 'seven', 'corr': ' eight', 'incorr': ' seven', 'text': 'Map lost in four. House lost in five. Car lost in six. House lost in seven. Glass lost in'}, {'S1': 'five', 'S2': 'six', 'S3': 'seven', 'S4': 'eight', 'corr': ' nine', 'incorr': ' eight', 'text': 'Window lost in five. Desk lost in six. Watch lost in seven. Hat lost in eight. Camera lost in'}, {'S1': 'six', 'S2': 'seven', 'S3': 'eight', 'S4': 'nine', 'corr': ' ten', 'incorr': ' nine', 'text': 'Camera lost in six. Corn lost in seven. Train lost in eight. Ant lost in nine. Year lost in'}, {'S1': 'seven', 'S2': 'eight', 'S3': 'nine', 'S4': 'ten', 'corr': ' eleven', 'incorr': ' ten', 'text': 'Tree lost in seven. Oil lost in eight. Queen lost in nine. Jam lost in ten. Cow lost in'}, {'S1': 'eight', 'S2': 'nine', 'S3': 'ten', 'S4': 'eleven', 'corr': ' twelve', 'incorr': ' eleven', 'text': 'Fish lost in eight. Ear lost in nine. Star lost in ten. Oil lost in eleven. Zip lost in'}, {'S1': 'one', 'S2': 'two', 'S3': 'three', 'S4': 'four', 'corr': ' five', 'incorr': ' four', 'text': 'Key lost in one. Map lost in two. Ring lost in three. Apple lost in four. Car lost in'}, {'S1': 'two', 'S2': 'three', 'S3': 'four', 'S4': 'five', 'corr': ' six', 'incorr': ' five', 'text': 'Wolf lost in two. Fan lost in three. Ring lost in four. Year lost in five. Window lost in'}, {'S1': 'three', 'S2': 'four', 'S3': 'five', 'S4': 'six', 'corr': ' seven', 'incorr': ' six', 'text': 'Gold lost in three. Apple lost in four. Desk lost in five. Car lost in six. Fish lost in'}, {'S1': 'four', 'S2': 'five', 'S3': 'six', 'S4': 'seven', 'corr': ' eight', 'incorr': ' seven', 'text': 'Ring lost in four. Wind lost in five. Nut lost in six. Key lost in seven. Sand lost in'}, {'S1': 'five', 'S2': 'six', 'S3': 'seven', 'S4': 'eight', 'corr': ' nine', 'incorr': ' eight', 'text': 'Hat lost in five. Pen lost in six. Book lost in seven. Wheel lost in eight. Tree lost in'}, {'S1': 'six', 'S2': 'seven', 'S3': 'eight', 'S4': 'nine', 'corr': ' ten', 'incorr': ' nine', 'text': 'King lost in six. Hill lost in seven. Eye lost in eight. Iron lost in nine. Rose lost in'}, {'S1': 'seven', 'S2': 'eight', 'S3': 'nine', 'S4': 'ten', 'corr': ' eleven', 'incorr': ' ten', 'text': 'Lake lost in seven. Eye lost in eight. Snow lost in nine. Apple lost in ten. Rose lost in'}, {'S1': 'eight', 'S2': 'nine', 'S3': 'ten', 'S4': 'eleven', 'corr': ' twelve', 'incorr': ' eleven', 'text': 'Ring lost in eight. Apple lost in nine. Nut lost in ten. Watch lost in eleven. Gold lost in'}, {'S1': 'one', 'S2': 'two', 'S3': 'three', 'S4': 'four', 'corr': ' five', 'incorr': ' four', 'text': 'Fan lost in one. Year lost in two. Snake lost in three. Sun lost in four. Ear lost in'}, {'S1': 'two', 'S2': 'three', 'S3': 'four', 'S4': 'five', 'corr': ' six', 'incorr': ' five', 'text': 'Window lost in two. Watch lost in three. Orange lost in four. Gate lost in five. Rat lost in'}, {'S1': 'three', 'S2': 'four', 'S3': 'five', 'S4': 'six', 'corr': ' seven', 'incorr': ' six', 'text': 'Flag lost in three. Car lost in four. Light lost in five. Queen lost in six. Book lost in'}, {'S1': 'four', 'S2': 'five', 'S3': 'six', 'S4': 'seven', 'corr': ' eight', 'incorr': ' seven', 'text': 'Orange lost in four. Queen lost in five. Corn lost in six. Pen lost in seven. Fan lost in'}, {'S1': 'five', 'S2': 'six', 'S3': 'seven', 'S4': 'eight', 'corr': ' nine', 'incorr': ' eight', 'text': 'Light lost in five. King lost in six. Road lost in seven. Car lost in eight. Orange lost in'}, {'S1': 'six', 'S2': 'seven', 'S3': 'eight', 'S4': 'nine', 'corr': ' ten', 'incorr': ' nine', 'text': 'Iron lost in six. Sand lost in seven. Jam lost in eight. Ocean lost in nine. Ear lost in'}, {'S1': 'seven', 'S2': 'eight', 'S3': 'nine', 'S4': 'ten', 'corr': ' eleven', 'incorr': ' ten', 'text': 'Glass lost in seven. Snake lost in eight. Wheel lost in nine. Bug lost in ten. Desk lost in'}, {'S1': 'eight', 'S2': 'nine', 'S3': 'ten', 'S4': 'eleven', 'corr': ' twelve', 'incorr': ' eleven', 'text': 'House lost in eight. Sand lost in nine. Nut lost in ten. Mouse lost in eleven. Orange lost in'}, {'S1': 'one', 'S2': 'two', 'S3': 'three', 'S4': 'four', 'corr': ' five', 'incorr': ' four', 'text': 'Year lost in one. Tree lost in two. Ax lost in three. Gate lost in four. Van lost in'}, {'S1': 'two', 'S2': 'three', 'S3': 'four', 'S4': 'five', 'corr': ' six', 'incorr': ' five', 'text': 'Fan lost in two. Van lost in three. Window lost in four. Jar lost in five. Chair lost in'}, {'S1': 'three', 'S2': 'four', 'S3': 'five', 'S4': 'six', 'corr': ' seven', 'incorr': ' six', 'text': 'Hand lost in three. Ball lost in four. Wallet lost in five. Flag lost in six. Key lost in'}, {'S1': 'four', 'S2': 'five', 'S3': 'six', 'S4': 'seven', 'corr': ' eight', 'incorr': ' seven', 'text': 'Dog lost in four. Gold lost in five. Ball lost in six. Eye lost in seven. Star lost in'}, {'S1': 'five', 'S2': 'six', 'S3': 'seven', 'S4': 'eight', 'corr': ' nine', 'incorr': ' eight', 'text': 'House lost in five. Car lost in six. Gold lost in seven. Map lost in eight. Snow lost in'}, {'S1': 'six', 'S2': 'seven', 'S3': 'eight', 'S4': 'nine', 'corr': ' ten', 'incorr': ' nine', 'text': 'Nut lost in six. Iron lost in seven. King lost in eight. Desk lost in nine. Star lost in'}, {'S1': 'seven', 'S2': 'eight', 'S3': 'nine', 'S4': 'ten', 'corr': ' eleven', 'incorr': ' ten', 'text': 'Star lost in seven. Car lost in eight. Book lost in nine. Hand lost in ten. Van lost in'}, {'S1': 'eight', 'S2': 'nine', 'S3': 'ten', 'S4': 'eleven', 'corr': ' twelve', 'incorr': ' eleven', 'text': 'Snake lost in eight. Fan lost in nine. Ring lost in ten. Bird lost in eleven. Queen lost in'}, {'S1': 'one', 'S2': 'two', 'S3': 'three', 'S4': 'four', 'corr': ' five', 'incorr': ' four', 'text': 'Wheel lost in one. Sun lost in two. Map lost in three. Sand lost in four. Dog lost in'}, {'S1': 'two', 'S2': 'three', 'S3': 'four', 'S4': 'five', 'corr': ' six', 'incorr': ' five', 'text': 'Watch lost in two. Sand lost in three. Nut lost in four. Dog lost in five. Queen lost in'}, {'S1': 'three', 'S2': 'four', 'S3': 'five', 'S4': 'six', 'corr': ' seven', 'incorr': ' six', 'text': 'Chair lost in three. Wind lost in four. Desk lost in five. Sun lost in six. Rose lost in'}, {'S1': 'four', 'S2': 'five', 'S3': 'six', 'S4': 'seven', 'corr': ' eight', 'incorr': ' seven', 'text': 'Night lost in four. Clock lost in five. Star lost in six. House lost in seven. Tree lost in'}, {'S1': 'five', 'S2': 'six', 'S3': 'seven', 'S4': 'eight', 'corr': ' nine', 'incorr': ' eight', 'text': 'Van lost in five. Wolf lost in six. Eye lost in seven. Star lost in eight. Tree lost in'}, {'S1': 'six', 'S2': 'seven', 'S3': 'eight', 'S4': 'nine', 'corr': ' ten', 'incorr': ' nine', 'text': 'Queen lost in six. Oil lost in seven. Ball lost in eight. Zip lost in nine. Camera lost in'}, {'S1': 'seven', 'S2': 'eight', 'S3': 'nine', 'S4': 'ten', 'corr': ' eleven', 'incorr': ' ten', 'text': 'Moon lost in seven. Dog lost in eight. Book lost in nine. Gate lost in ten. Table lost in'}, {'S1': 'eight', 'S2': 'nine', 'S3': 'ten', 'S4': 'eleven', 'corr': ' twelve', 'incorr': ' eleven', 'text': 'King lost in eight. Orange lost in nine. Mouse lost in ten. Year lost in eleven. Clock lost in'}, {'S1': 'one', 'S2': 'two', 'S3': 'three', 'S4': 'four', 'corr': ' five', 'incorr': ' four', 'text': 'Table lost in one. Queen lost in two. Desk lost in three. Jam lost in four. Tree lost in'}, {'S1': 'two', 'S2': 'three', 'S3': 'four', 'S4': 'five', 'corr': ' six', 'incorr': ' five', 'text': 'Rain lost in two. Apple lost in three. Glass lost in four. Train lost in five. Queen lost in'}, {'S1': 'three', 'S2': 'four', 'S3': 'five', 'S4': 'six', 'corr': ' seven', 'incorr': ' six', 'text': 'Road lost in three. Sand lost in four. Sun lost in five. Snake lost in six. Clock lost in'}, {'S1': 'four', 'S2': 'five', 'S3': 'six', 'S4': 'seven', 'corr': ' eight', 'incorr': ' seven', 'text': 'Van lost in four. Desk lost in five. Orange lost in six. Ant lost in seven. Lake lost in'}, {'S1': 'five', 'S2': 'six', 'S3': 'seven', 'S4': 'eight', 'corr': ' nine', 'incorr': ' eight', 'text': 'Queen lost in five. Rose lost in six. Snake lost in seven. Fire lost in eight. Cow lost in'}, {'S1': 'six', 'S2': 'seven', 'S3': 'eight', 'S4': 'nine', 'corr': ' ten', 'incorr': ' nine', 'text': 'Pen lost in six. Map lost in seven. Ant lost in eight. House lost in nine. Sand lost in'}, {'S1': 'seven', 'S2': 'eight', 'S3': 'nine', 'S4': 'ten', 'corr': ' eleven', 'incorr': ' ten', 'text': 'Desk lost in seven. Ax lost in eight. Window lost in nine. Dog lost in ten. Fan lost in'}, {'S1': 'eight', 'S2': 'nine', 'S3': 'ten', 'S4': 'eleven', 'corr': ' twelve', 'incorr': ' eleven', 'text': 'Arm lost in eight. Van lost in nine. King lost in ten. Orange lost in eleven. Pen lost in'}, {'S1': 'one', 'S2': 'two', 'S3': 'three', 'S4': 'four', 'corr': ' five', 'incorr': ' four', 'text': 'Light lost in one. Box lost in two. Glass lost in three. Clock lost in four. Lake lost in'}, {'S1': 'two', 'S2': 'three', 'S3': 'four', 'S4': 'five', 'corr': ' six', 'incorr': ' five', 'text': 'Moon lost in two. Cow lost in three. Flag lost in four. Clock lost in five. Light lost in'}, {'S1': 'three', 'S2': 'four', 'S3': 'five', 'S4': 'six', 'corr': ' seven', 'incorr': ' six', 'text': 'Iron lost in three. Rose lost in four. Sun lost in five. Rose lost in six. Desk lost in'}, {'S1': 'four', 'S2': 'five', 'S3': 'six', 'S4': 'seven', 'corr': ' eight', 'incorr': ' seven', 'text': 'Nut lost in four. Car lost in five. Ocean lost in six. Queen lost in seven. Fan lost in'}, {'S1': 'five', 'S2': 'six', 'S3': 'seven', 'S4': 'eight', 'corr': ' nine', 'incorr': ' eight', 'text': 'Key lost in five. Pear lost in six. Mouse lost in seven. Chair lost in eight. Orange lost in'}, {'S1': 'six', 'S2': 'seven', 'S3': 'eight', 'S4': 'nine', 'corr': ' ten', 'incorr': ' nine', 'text': 'Cow lost in six. Tree lost in seven. Gold lost in eight. Zip lost in nine. Van lost in'}, {'S1': 'seven', 'S2': 'eight', 'S3': 'nine', 'S4': 'ten', 'corr': ' eleven', 'incorr': ' ten', 'text': 'Fish lost in seven. Ring lost in eight. Van lost in nine. Jam lost in ten. Wall lost in'}, {'S1': 'eight', 'S2': 'nine', 'S3': 'ten', 'S4': 'eleven', 'corr': ' twelve', 'incorr': ' eleven', 'text': 'Gate lost in eight. Key lost in nine. Nut lost in ten. King lost in eleven. Van lost in'}, {'S1': 'one', 'S2': 'two', 'S3': 'three', 'S4': 'four', 'corr': ' five', 'incorr': ' four', 'text': 'Eye lost in one. Window lost in two. Snow lost in three. Train lost in four. Bug lost in'}, {'S1': 'two', 'S2': 'three', 'S3': 'four', 'S4': 'five', 'corr': ' six', 'incorr': ' five', 'text': 'Tree lost in two. Rose lost in three. Wind lost in four. Wallet lost in five. Eye lost in'}, {'S1': 'three', 'S2': 'four', 'S3': 'five', 'S4': 'six', 'corr': ' seven', 'incorr': ' six', 'text': 'Watch lost in three. Fish lost in four. Ocean lost in five. Jar lost in six. Star lost in'}, {'S1': 'four', 'S2': 'five', 'S3': 'six', 'S4': 'seven', 'corr': ' eight', 'incorr': ' seven', 'text': 'Tree lost in four. Wheel lost in five. Ring lost in six. Chair lost in seven. Watch lost in'}, {'S1': 'five', 'S2': 'six', 'S3': 'seven', 'S4': 'eight', 'corr': ' nine', 'incorr': ' eight', 'text': 'Eye lost in five. Ice lost in six. Tree lost in seven. Nut lost in eight. Van lost in'}, {'S1': 'six', 'S2': 'seven', 'S3': 'eight', 'S4': 'nine', 'corr': ' ten', 'incorr': ' nine', 'text': 'Ball lost in six. Gate lost in seven. Wall lost in eight. Wheel lost in nine. Rat lost in'}, {'S1': 'seven', 'S2': 'eight', 'S3': 'nine', 'S4': 'ten', 'corr': ' eleven', 'incorr': ' ten', 'text': 'Eye lost in seven. Van lost in eight. Ball lost in nine. Tree lost in ten. Jar lost in'}, {'S1': 'eight', 'S2': 'nine', 'S3': 'ten', 'S4': 'eleven', 'corr': ' twelve', 'incorr': ' eleven', 'text': 'Corn lost in eight. Flag lost in nine. Camera lost in ten. Cow lost in eleven. Desk lost in'}, {'S1': 'one', 'S2': 'two', 'S3': 'three', 'S4': 'four', 'corr': ' five', 'incorr': ' four', 'text': 'Lake lost in one. Rose lost in two. Jam lost in three. Ball lost in four. Wolf lost in'}, {'S1': 'two', 'S2': 'three', 'S3': 'four', 'S4': 'five', 'corr': ' six', 'incorr': ' five', 'text': 'Flag lost in two. Window lost in three. Apple lost in four. Sand lost in five. Desk lost in'}, {'S1': 'three', 'S2': 'four', 'S3': 'five', 'S4': 'six', 'corr': ' seven', 'incorr': ' six', 'text': 'Light lost in three. Flag lost in four. Bird lost in five. Year lost in six. Apple lost in'}, {'S1': 'four', 'S2': 'five', 'S3': 'six', 'S4': 'seven', 'corr': ' eight', 'incorr': ' seven', 'text': 'Glass lost in four. Desk lost in five. Tree lost in six. Clock lost in seven. Oil lost in'}, {'S1': 'five', 'S2': 'six', 'S3': 'seven', 'S4': 'eight', 'corr': ' nine', 'incorr': ' eight', 'text': 'Desk lost in five. Sand lost in six. Fish lost in seven. Wind lost in eight. Ring lost in'}, {'S1': 'six', 'S2': 'seven', 'S3': 'eight', 'S4': 'nine', 'corr': ' ten', 'incorr': ' nine', 'text': 'Watch lost in six. Zip lost in seven. Train lost in eight. Fan lost in nine. Hat lost in'}, {'S1': 'seven', 'S2': 'eight', 'S3': 'nine', 'S4': 'ten', 'corr': ' eleven', 'incorr': ' ten', 'text': 'Orange lost in seven. Snake lost in eight. Wind lost in nine. King lost in ten. Year lost in'}, {'S1': 'eight', 'S2': 'nine', 'S3': 'ten', 'S4': 'eleven', 'corr': ' twelve', 'incorr': ' eleven', 'text': 'Wallet lost in eight. Hat lost in nine. Dog lost in ten. Camera lost in eleven. Desk lost in'}, {'S1': 'one', 'S2': 'two', 'S3': 'three', 'S4': 'four', 'corr': ' five', 'incorr': ' four', 'text': 'Ball lost in one. Fire lost in two. Flag lost in three. Ring lost in four. Nut lost in'}, {'S1': 'two', 'S2': 'three', 'S3': 'four', 'S4': 'five', 'corr': ' six', 'incorr': ' five', 'text': 'Apple lost in two. Book lost in three. Flag lost in four. Wallet lost in five. Bug lost in'}, {'S1': 'three', 'S2': 'four', 'S3': 'five', 'S4': 'six', 'corr': ' seven', 'incorr': ' six', 'text': 'Ring lost in three. Desk lost in four. Snake lost in five. Car lost in six. Fan lost in'}, {'S1': 'four', 'S2': 'five', 'S3': 'six', 'S4': 'seven', 'corr': ' eight', 'incorr': ' seven', 'text': 'Fish lost in four. Wall lost in five. Wolf lost in six. Pear lost in seven. Sand lost in'}, {'S1': 'five', 'S2': 'six', 'S3': 'seven', 'S4': 'eight', 'corr': ' nine', 'incorr': ' eight', 'text': 'Orange lost in five. Sand lost in six. Oil lost in seven. Queen lost in eight. Tree lost in'}, {'S1': 'six', 'S2': 'seven', 'S3': 'eight', 'S4': 'nine', 'corr': ' ten', 'incorr': ' nine', 'text': 'Clock lost in six. Desk lost in seven. Orange lost in eight. Zip lost in nine. Key lost in'}, {'S1': 'seven', 'S2': 'eight', 'S3': 'nine', 'S4': 'ten', 'corr': ' eleven', 'incorr': ' ten', 'text': 'Ball lost in seven. Window lost in eight. Mouse lost in nine. Fish lost in ten. Ring lost in'}, {'S1': 'eight', 'S2': 'nine', 'S3': 'ten', 'S4': 'eleven', 'corr': ' twelve', 'incorr': ' eleven', 'text': 'Rose lost in eight. Orange lost in nine. Arm lost in ten. Pear lost in eleven. Hand lost in'}, {'S1': 'one', 'S2': 'two', 'S3': 'three', 'S4': 'four', 'corr': ' five', 'incorr': ' four', 'text': 'King lost in one. Cow lost in two. Light lost in three. Jar lost in four. Car lost in'}, {'S1': 'two', 'S2': 'three', 'S3': 'four', 'S4': 'five', 'corr': ' six', 'incorr': ' five', 'text': 'Apple lost in two. Box lost in three. Window lost in four. Hat lost in five. Wind lost in'}, {'S1': 'three', 'S2': 'four', 'S3': 'five', 'S4': 'six', 'corr': ' seven', 'incorr': ' six', 'text': 'Ax lost in three. Fan lost in four. Rat lost in five. Tree lost in six. Clock lost in'}, {'S1': 'four', 'S2': 'five', 'S3': 'six', 'S4': 'seven', 'corr': ' eight', 'incorr': ' seven', 'text': 'Light lost in four. Van lost in five. Rain lost in six. Wheel lost in seven. Orange lost in'}, {'S1': 'five', 'S2': 'six', 'S3': 'seven', 'S4': 'eight', 'corr': ' nine', 'incorr': ' eight', 'text': 'Wallet lost in five. Moon lost in six. Box lost in seven. Nut lost in eight. King lost in'}, {'S1': 'six', 'S2': 'seven', 'S3': 'eight', 'S4': 'nine', 'corr': ' ten', 'incorr': ' nine', 'text': 'Lake lost in six. Train lost in seven. Window lost in eight. Queen lost in nine. Gate lost in'}, {'S1': 'seven', 'S2': 'eight', 'S3': 'nine', 'S4': 'ten', 'corr': ' eleven', 'incorr': ' ten', 'text': 'Rain lost in seven. Fish lost in eight. Van lost in nine. Moon lost in ten. Rose lost in'}, {'S1': 'eight', 'S2': 'nine', 'S3': 'ten', 'S4': 'eleven', 'corr': ' twelve', 'incorr': ' eleven', 'text': 'Desk lost in eight. Table lost in nine. Ear lost in ten. Flag lost in eleven. Apple lost in'}, {'S1': 'one', 'S2': 'two', 'S3': 'three', 'S4': 'four', 'corr': ' five', 'incorr': ' four', 'text': 'Chair lost in one. Star lost in two. Desk lost in three. Eye lost in four. Fan lost in'}, {'S1': 'two', 'S2': 'three', 'S3': 'four', 'S4': 'five', 'corr': ' six', 'incorr': ' five', 'text': 'Sun lost in two. Night lost in three. Desk lost in four. Chair lost in five. Pear lost in'}, {'S1': 'three', 'S2': 'four', 'S3': 'five', 'S4': 'six', 'corr': ' seven', 'incorr': ' six', 'text': 'Fan lost in three. Road lost in four. Apple lost in five. Tree lost in six. Tree lost in'}, {'S1': 'four', 'S2': 'five', 'S3': 'six', 'S4': 'seven', 'corr': ' eight', 'incorr': ' seven', 'text': 'Ax lost in four. Lake lost in five. Fan lost in six. Pen lost in seven. Car lost in'}, {'S1': 'five', 'S2': 'six', 'S3': 'seven', 'S4': 'eight', 'corr': ' nine', 'incorr': ' eight', 'text': 'Wheel lost in five. Hill lost in six. Key lost in seven. Zip lost in eight. Star lost in'}, {'S1': 'six', 'S2': 'seven', 'S3': 'eight', 'S4': 'nine', 'corr': ' ten', 'incorr': ' nine', 'text': 'Fan lost in six. Orange lost in seven. Lake lost in eight. Orange lost in nine. Ball lost in'}, {'S1': 'seven', 'S2': 'eight', 'S3': 'nine', 'S4': 'ten', 'corr': ' eleven', 'incorr': ' ten', 'text': 'Table lost in seven. Ball lost in eight. Queen lost in nine. Ant lost in ten. Ax lost in'}, {'S1': 'eight', 'S2': 'nine', 'S3': 'ten', 'S4': 'eleven', 'corr': ' twelve', 'incorr': ' eleven', 'text': 'Window lost in eight. Queen lost in nine. Ring lost in ten. Hat lost in eleven. Tree lost in'}, {'S1': 'one', 'S2': 'two', 'S3': 'three', 'S4': 'four', 'corr': ' five', 'incorr': ' four', 'text': 'Iron lost in one. Hill lost in two. Hand lost in three. Queen lost in four. Ball lost in'}, {'S1': 'two', 'S2': 'three', 'S3': 'four', 'S4': 'five', 'corr': ' six', 'incorr': ' five', 'text': 'Bird lost in two. Mouse lost in three. Van lost in four. Key lost in five. Book lost in'}, {'S1': 'three', 'S2': 'four', 'S3': 'five', 'S4': 'six', 'corr': ' seven', 'incorr': ' six', 'text': 'Hat lost in three. Rose lost in four. Window lost in five. Key lost in six. Nut lost in'}, {'S1': 'four', 'S2': 'five', 'S3': 'six', 'S4': 'seven', 'corr': ' eight', 'incorr': ' seven', 'text': 'Moon lost in four. Arm lost in five. Desk lost in six. Orange lost in seven. Iron lost in'}, {'S1': 'five', 'S2': 'six', 'S3': 'seven', 'S4': 'eight', 'corr': ' nine', 'incorr': ' eight', 'text': 'Tree lost in five. Camera lost in six. Ring lost in seven. Desk lost in eight. House lost in'}, {'S1': 'six', 'S2': 'seven', 'S3': 'eight', 'S4': 'nine', 'corr': ' ten', 'incorr': ' nine', 'text': 'Box lost in six. Map lost in seven. Chair lost in eight. Year lost in nine. Wolf lost in'}, {'S1': 'seven', 'S2': 'eight', 'S3': 'nine', 'S4': 'ten', 'corr': ' eleven', 'incorr': ' ten', 'text': 'Watch lost in seven. Queen lost in eight. Window lost in nine. Queen lost in ten. Arm lost in'}, {'S1': 'eight', 'S2': 'nine', 'S3': 'ten', 'S4': 'eleven', 'corr': ' twelve', 'incorr': ' eleven', 'text': 'Rose lost in eight. Desk lost in nine. Watch lost in ten. Map lost in eleven. Watch lost in'}, {'S1': 'one', 'S2': 'two', 'S3': 'three', 'S4': 'four', 'corr': ' five', 'incorr': ' four', 'text': 'Clock lost in one. Road lost in two. House lost in three. Queen lost in four. Pen lost in'}, {'S1': 'two', 'S2': 'three', 'S3': 'four', 'S4': 'five', 'corr': ' six', 'incorr': ' five', 'text': 'Night lost in two. Cow lost in three. Rat lost in four. House lost in five. Glass lost in'}, {'S1': 'three', 'S2': 'four', 'S3': 'five', 'S4': 'six', 'corr': ' seven', 'incorr': ' six', 'text': 'Tree lost in three. Fire lost in four. Pen lost in five. Sun lost in six. Moon lost in'}, {'S1': 'four', 'S2': 'five', 'S3': 'six', 'S4': 'seven', 'corr': ' eight', 'incorr': ' seven', 'text': 'Night lost in four. House lost in five. Ring lost in six. Queen lost in seven. Fan lost in'}, {'S1': 'five', 'S2': 'six', 'S3': 'seven', 'S4': 'eight', 'corr': ' nine', 'incorr': ' eight', 'text': 'Jar lost in five. Van lost in six. Nut lost in seven. Flag lost in eight. Queen lost in'}, {'S1': 'six', 'S2': 'seven', 'S3': 'eight', 'S4': 'nine', 'corr': ' ten', 'incorr': ' nine', 'text': 'Apple lost in six. Camera lost in seven. Key lost in eight. Rose lost in nine. Eye lost in'}, {'S1': 'seven', 'S2': 'eight', 'S3': 'nine', 'S4': 'ten', 'corr': ' eleven', 'incorr': ' ten', 'text': 'Fan lost in seven. Zip lost in eight. Ring lost in nine. Book lost in ten. Van lost in'}, {'S1': 'eight', 'S2': 'nine', 'S3': 'ten', 'S4': 'eleven', 'corr': ' twelve', 'incorr': ' eleven', 'text': 'Clock lost in eight. Dog lost in nine. Jam lost in ten. Apple lost in eleven. Chair lost in'}, {'S1': 'one', 'S2': 'two', 'S3': 'three', 'S4': 'four', 'corr': ' five', 'incorr': ' four', 'text': 'Glass lost in one. Book lost in two. Map lost in three. Year lost in four. Eye lost in'}, {'S1': 'two', 'S2': 'three', 'S3': 'four', 'S4': 'five', 'corr': ' six', 'incorr': ' five', 'text': 'Fire lost in two. Ring lost in three. Van lost in four. Glass lost in five. House lost in'}, {'S1': 'three', 'S2': 'four', 'S3': 'five', 'S4': 'six', 'corr': ' seven', 'incorr': ' six', 'text': 'Wind lost in three. Fan lost in four. Fire lost in five. Snow lost in six. Jam lost in'}, {'S1': 'four', 'S2': 'five', 'S3': 'six', 'S4': 'seven', 'corr': ' eight', 'incorr': ' seven', 'text': 'Ball lost in four. Desk lost in five. Fan lost in six. Van lost in seven. Star lost in'}, {'S1': 'five', 'S2': 'six', 'S3': 'seven', 'S4': 'eight', 'corr': ' nine', 'incorr': ' eight', 'text': 'Watch lost in five. Zip lost in six. Light lost in seven. Wolf lost in eight. Rose lost in'}, {'S1': 'six', 'S2': 'seven', 'S3': 'eight', 'S4': 'nine', 'corr': ' ten', 'incorr': ' nine', 'text': 'Wolf lost in six. Window lost in seven. Orange lost in eight. Sand lost in nine. Bird lost in'}, {'S1': 'seven', 'S2': 'eight', 'S3': 'nine', 'S4': 'ten', 'corr': ' eleven', 'incorr': ' ten', 'text': 'Desk lost in seven. Queen lost in eight. Arm lost in nine. Gate lost in ten. Dog lost in'}, {'S1': 'eight', 'S2': 'nine', 'S3': 'ten', 'S4': 'eleven', 'corr': ' twelve', 'incorr': ' eleven', 'text': 'House lost in eight. Gate lost in nine. Wolf lost in ten. Window lost in eleven. Key lost in'}]\n"
          ]
        }
      ],
      "source": [
        "file_name = 'nw_prompts_lost.pkl'\n",
        "with open(file_name, 'rb') as file:\n",
        "    prompts_list = pickle.load(file)"
      ]
    },
    {
      "cell_type": "code",
      "execution_count": null,
      "metadata": {
        "id": "CyeTfEb7HVGK"
      },
      "outputs": [],
      "source": [
        "prompts_list = replace_nw_seqtype(prompts_list, 'numerals')"
      ]
    },
    {
      "cell_type": "code",
      "source": [
        "good_prompts, all_probs = get_good_prompts_numerals(model, prompts_list)"
      ],
      "metadata": {
        "id": "1edJH2n45nIJ"
      },
      "execution_count": null,
      "outputs": []
    },
    {
      "cell_type": "code",
      "execution_count": null,
      "metadata": {
        "id": "mPtIH2vOGgtk",
        "colab": {
          "base_uri": "https://localhost:8080/"
        },
        "outputId": "e272ffa3-018a-4593-852e-0603bc97ab28"
      },
      "outputs": [
        {
          "output_type": "display_data",
          "data": {
            "text/plain": [
              "<IPython.core.display.Javascript object>"
            ],
            "application/javascript": [
              "\n",
              "    async function download(id, filename, size) {\n",
              "      if (!google.colab.kernel.accessAllowed) {\n",
              "        return;\n",
              "      }\n",
              "      const div = document.createElement('div');\n",
              "      const label = document.createElement('label');\n",
              "      label.textContent = `Downloading \"${filename}\": `;\n",
              "      div.appendChild(label);\n",
              "      const progress = document.createElement('progress');\n",
              "      progress.max = size;\n",
              "      div.appendChild(progress);\n",
              "      document.body.appendChild(div);\n",
              "\n",
              "      const buffers = [];\n",
              "      let downloaded = 0;\n",
              "\n",
              "      const channel = await google.colab.kernel.comms.open(id);\n",
              "      // Send a message to notify the kernel that we're ready.\n",
              "      channel.send({})\n",
              "\n",
              "      for await (const message of channel.messages) {\n",
              "        // Send a message to notify the kernel that we're ready.\n",
              "        channel.send({})\n",
              "        if (message.buffers) {\n",
              "          for (const buffer of message.buffers) {\n",
              "            buffers.push(buffer);\n",
              "            downloaded += buffer.byteLength;\n",
              "            progress.value = downloaded;\n",
              "          }\n",
              "        }\n",
              "      }\n",
              "      const blob = new Blob(buffers, {type: 'application/binary'});\n",
              "      const a = document.createElement('a');\n",
              "      a.href = window.URL.createObjectURL(blob);\n",
              "      a.download = filename;\n",
              "      div.appendChild(a);\n",
              "      a.click();\n",
              "      div.remove();\n",
              "    }\n",
              "  "
            ]
          },
          "metadata": {}
        },
        {
          "output_type": "display_data",
          "data": {
            "text/plain": [
              "<IPython.core.display.Javascript object>"
            ],
            "application/javascript": [
              "download(\"download_9ac0f426-0c49-4bd6-9a88-d3d4d73e7583\", \"digits_prompts_lost.pkl\", 119091)"
            ]
          },
          "metadata": {}
        }
      ],
      "source": [
        "with open('digits_prompts_lost.pkl', 'wb') as file:\n",
        "    pickle.dump(good_prompts, file)\n",
        "files.download('digits_prompts_lost.pkl')"
      ]
    },
    {
      "cell_type": "code",
      "execution_count": null,
      "metadata": {
        "id": "MER-CHI9Ggtk",
        "colab": {
          "base_uri": "https://localhost:8080/"
        },
        "outputId": "6cd46ef3-0e38-49f6-8650-d9a25615f2c4"
      },
      "outputs": [
        {
          "output_type": "execute_result",
          "data": {
            "text/plain": [
              "Text(0.5, 1.0, 'Distribution')"
            ]
          },
          "metadata": {},
          "execution_count": 71
        },
        {
          "output_type": "display_data",
          "data": {
            "text/plain": [
              "<Figure size 640x480 with 1 Axes>"
            ],
            "image/png": "[encoded data removed]"
          },
          "metadata": {}
        }
      ],
      "source": [
        "plt.hist([probs[0].item() for probs in all_probs], bins = 20, edgecolor='black')\n",
        "plt.xlabel('probs')\n",
        "plt.ylabel('Frequency')\n",
        "plt.title('Distribution')"
      ]
    },
    {
      "cell_type": "markdown",
      "metadata": {
        "id": "UCDMgFVyKMhP"
      },
      "source": [
        "# numerals- done"
      ]
    },
    {
      "cell_type": "code",
      "execution_count": null,
      "metadata": {
        "colab": {
          "base_uri": "https://localhost:8080/"
        },
        "id": "GOKCKz7KKMhW",
        "outputId": "0e7c56ee-17f9-4847-de87-e0106ed46bcb"
      },
      "outputs": [
        {
          "output_type": "stream",
          "name": "stdout",
          "text": [
            "[{'S1': 'one', 'S2': 'two', 'S3': 'three', 'S4': 'four', 'corr': ' five', 'incorr': ' four', 'text': 'Van done in one. Hat done in two. Ring done in three. Desk done in four. Sun done in'}, {'S1': 'two', 'S2': 'three', 'S3': 'four', 'S4': 'five', 'corr': ' six', 'incorr': ' five', 'text': 'Ice done in two. Snow done in three. Watch done in four. Sun done in five. Table done in'}, {'S1': 'three', 'S2': 'four', 'S3': 'five', 'S4': 'six', 'corr': ' seven', 'incorr': ' six', 'text': 'Ring done in three. Moon done in four. Queen done in five. Book done in six. Rose done in'}, {'S1': 'four', 'S2': 'five', 'S3': 'six', 'S4': 'seven', 'corr': ' eight', 'incorr': ' seven', 'text': 'Queen done in four. Oil done in five. Rose done in six. Desk done in seven. Car done in'}, {'S1': 'five', 'S2': 'six', 'S3': 'seven', 'S4': 'eight', 'corr': ' nine', 'incorr': ' eight', 'text': 'Light done in five. Arm done in six. Road done in seven. Book done in eight. Ice done in'}, {'S1': 'six', 'S2': 'seven', 'S3': 'eight', 'S4': 'nine', 'corr': ' ten', 'incorr': ' nine', 'text': 'Ball done in six. Cow done in seven. Book done in eight. Rose done in nine. Key done in'}, {'S1': 'seven', 'S2': 'eight', 'S3': 'nine', 'S4': 'ten', 'corr': ' eleven', 'incorr': ' ten', 'text': 'Road done in seven. Key done in eight. Ocean done in nine. Key done in ten. Queen done in'}, {'S1': 'eight', 'S2': 'nine', 'S3': 'ten', 'S4': 'eleven', 'corr': ' twelve', 'incorr': ' eleven', 'text': 'House done in eight. Rose done in nine. Key done in ten. Hat done in eleven. Van done in'}, {'S1': 'one', 'S2': 'two', 'S3': 'three', 'S4': 'four', 'corr': ' five', 'incorr': ' four', 'text': 'Ring done in one. Car done in two. Apple done in three. Pear done in four. Moon done in'}, {'S1': 'two', 'S2': 'three', 'S3': 'four', 'S4': 'five', 'corr': ' six', 'incorr': ' five', 'text': 'Star done in two. Sun done in three. Road done in four. Queen done in five. Box done in'}, {'S1': 'three', 'S2': 'four', 'S3': 'five', 'S4': 'six', 'corr': ' seven', 'incorr': ' six', 'text': 'Hill done in three. Ant done in four. Apple done in five. House done in six. Hat done in'}, {'S1': 'four', 'S2': 'five', 'S3': 'six', 'S4': 'seven', 'corr': ' eight', 'incorr': ' seven', 'text': 'Chair done in four. Van done in five. Orange done in six. Queen done in seven. Zip done in'}, {'S1': 'five', 'S2': 'six', 'S3': 'seven', 'S4': 'eight', 'corr': ' nine', 'incorr': ' eight', 'text': 'Gate done in five. Desk done in six. Wolf done in seven. Rain done in eight. Flag done in'}, {'S1': 'six', 'S2': 'seven', 'S3': 'eight', 'S4': 'nine', 'corr': ' ten', 'incorr': ' nine', 'text': 'Queen done in six. House done in seven. Light done in eight. Cat done in nine. Moon done in'}, {'S1': 'seven', 'S2': 'eight', 'S3': 'nine', 'S4': 'ten', 'corr': ' eleven', 'incorr': ' ten', 'text': 'Zip done in seven. Car done in eight. Ring done in nine. Hand done in ten. Fish done in'}, {'S1': 'eight', 'S2': 'nine', 'S3': 'ten', 'S4': 'eleven', 'corr': ' twelve', 'incorr': ' eleven', 'text': 'Snake done in eight. Queen done in nine. Window done in ten. Ear done in eleven. Orange done in'}, {'S1': 'one', 'S2': 'two', 'S3': 'three', 'S4': 'four', 'corr': ' five', 'incorr': ' four', 'text': 'Ice done in one. Sand done in two. Desk done in three. Van done in four. Hat done in'}, {'S1': 'two', 'S2': 'three', 'S3': 'four', 'S4': 'five', 'corr': ' six', 'incorr': ' five', 'text': 'Camera done in two. Watch done in three. Dog done in four. Book done in five. Desk done in'}, {'S1': 'three', 'S2': 'four', 'S3': 'five', 'S4': 'six', 'corr': ' seven', 'incorr': ' six', 'text': 'Rain done in three. Dog done in four. Rat done in five. Nut done in six. Ocean done in'}, {'S1': 'four', 'S2': 'five', 'S3': 'six', 'S4': 'seven', 'corr': ' eight', 'incorr': ' seven', 'text': 'Night done in four. Hat done in five. Wall done in six. Book done in seven. Tree done in'}, {'S1': 'five', 'S2': 'six', 'S3': 'seven', 'S4': 'eight', 'corr': ' nine', 'incorr': ' eight', 'text': 'Gate done in five. Chair done in six. Ring done in seven. Hill done in eight. Car done in'}, {'S1': 'six', 'S2': 'seven', 'S3': 'eight', 'S4': 'nine', 'corr': ' ten', 'incorr': ' nine', 'text': 'Ax done in six. Fan done in seven. Cat done in eight. Ring done in nine. Ring done in'}, {'S1': 'seven', 'S2': 'eight', 'S3': 'nine', 'S4': 'ten', 'corr': ' eleven', 'incorr': ' ten', 'text': 'Rose done in seven. Night done in eight. Van done in nine. Orange done in ten. Apple done in'}, {'S1': 'eight', 'S2': 'nine', 'S3': 'ten', 'S4': 'eleven', 'corr': ' twelve', 'incorr': ' eleven', 'text': 'Orange done in eight. Ear done in nine. Book done in ten. Ring done in eleven. Bird done in'}, {'S1': 'one', 'S2': 'two', 'S3': 'three', 'S4': 'four', 'corr': ' five', 'incorr': ' four', 'text': 'Ball done in one. Wind done in two. Wallet done in three. Tree done in four. Sand done in'}, {'S1': 'two', 'S2': 'three', 'S3': 'four', 'S4': 'five', 'corr': ' six', 'incorr': ' five', 'text': 'Table done in two. Jam done in three. Apple done in four. Pear done in five. Ice done in'}, {'S1': 'three', 'S2': 'four', 'S3': 'five', 'S4': 'six', 'corr': ' seven', 'incorr': ' six', 'text': 'Gate done in three. Train done in four. Hat done in five. Fan done in six. Key done in'}, {'S1': 'four', 'S2': 'five', 'S3': 'six', 'S4': 'seven', 'corr': ' eight', 'incorr': ' seven', 'text': 'Window done in four. Desk done in five. Year done in six. Van done in seven. Camera done in'}, {'S1': 'five', 'S2': 'six', 'S3': 'seven', 'S4': 'eight', 'corr': ' nine', 'incorr': ' eight', 'text': 'Car done in five. Watch done in six. Oil done in seven. Queen done in eight. Fan done in'}, {'S1': 'six', 'S2': 'seven', 'S3': 'eight', 'S4': 'nine', 'corr': ' ten', 'incorr': ' nine', 'text': 'Mouse done in six. Rose done in seven. Table done in eight. Clock done in nine. Queen done in'}, {'S1': 'seven', 'S2': 'eight', 'S3': 'nine', 'S4': 'ten', 'corr': ' eleven', 'incorr': ' ten', 'text': 'Year done in seven. Wheel done in eight. Wolf done in nine. Arm done in ten. Ax done in'}, {'S1': 'eight', 'S2': 'nine', 'S3': 'ten', 'S4': 'eleven', 'corr': ' twelve', 'incorr': ' eleven', 'text': 'Key done in eight. Ring done in nine. Night done in ten. Fan done in eleven. Clock done in'}, {'S1': 'one', 'S2': 'two', 'S3': 'three', 'S4': 'four', 'corr': ' five', 'incorr': ' four', 'text': 'Glass done in one. Key done in two. Nut done in three. Rat done in four. Van done in'}, {'S1': 'two', 'S2': 'three', 'S3': 'four', 'S4': 'five', 'corr': ' six', 'incorr': ' five', 'text': 'Star done in two. Pear done in three. Bug done in four. Bird done in five. Ring done in'}, {'S1': 'three', 'S2': 'four', 'S3': 'five', 'S4': 'six', 'corr': ' seven', 'incorr': ' six', 'text': 'Road done in three. Wind done in four. Rat done in five. Wolf done in six. Map done in'}, {'S1': 'four', 'S2': 'five', 'S3': 'six', 'S4': 'seven', 'corr': ' eight', 'incorr': ' seven', 'text': 'Car done in four. Ant done in five. Rose done in six. Van done in seven. Wolf done in'}, {'S1': 'five', 'S2': 'six', 'S3': 'seven', 'S4': 'eight', 'corr': ' nine', 'incorr': ' eight', 'text': 'Zip done in five. Hat done in six. Wind done in seven. Rain done in eight. Car done in'}, {'S1': 'six', 'S2': 'seven', 'S3': 'eight', 'S4': 'nine', 'corr': ' ten', 'incorr': ' nine', 'text': 'Ring done in six. Light done in seven. Jar done in eight. Dog done in nine. Fish done in'}, {'S1': 'seven', 'S2': 'eight', 'S3': 'nine', 'S4': 'ten', 'corr': ' eleven', 'incorr': ' ten', 'text': 'Bug done in seven. Key done in eight. Gate done in nine. Orange done in ten. Ring done in'}, {'S1': 'eight', 'S2': 'nine', 'S3': 'ten', 'S4': 'eleven', 'corr': ' twelve', 'incorr': ' eleven', 'text': 'Flag done in eight. Fire done in nine. Pear done in ten. Ax done in eleven. Ear done in'}, {'S1': 'one', 'S2': 'two', 'S3': 'three', 'S4': 'four', 'corr': ' five', 'incorr': ' four', 'text': 'Ring done in one. Flag done in two. Queen done in three. Map done in four. Camera done in'}, {'S1': 'two', 'S2': 'three', 'S3': 'four', 'S4': 'five', 'corr': ' six', 'incorr': ' five', 'text': 'Desk done in two. Fire done in three. Desk done in four. Road done in five. Watch done in'}, {'S1': 'three', 'S2': 'four', 'S3': 'five', 'S4': 'six', 'corr': ' seven', 'incorr': ' six', 'text': 'Queen done in three. House done in four. Flag done in five. Tree done in six. Ring done in'}, {'S1': 'four', 'S2': 'five', 'S3': 'six', 'S4': 'seven', 'corr': ' eight', 'incorr': ' seven', 'text': 'Desk done in four. Window done in five. Fish done in six. Jar done in seven. Hat done in'}, {'S1': 'five', 'S2': 'six', 'S3': 'seven', 'S4': 'eight', 'corr': ' nine', 'incorr': ' eight', 'text': 'Snake done in five. Key done in six. Glass done in seven. Van done in eight. House done in'}, {'S1': 'six', 'S2': 'seven', 'S3': 'eight', 'S4': 'nine', 'corr': ' ten', 'incorr': ' nine', 'text': 'Camera done in six. Year done in seven. Rose done in eight. Map done in nine. Fire done in'}, {'S1': 'seven', 'S2': 'eight', 'S3': 'nine', 'S4': 'ten', 'corr': ' eleven', 'incorr': ' ten', 'text': 'Rose done in seven. Snake done in eight. Corn done in nine. Desk done in ten. Zip done in'}, {'S1': 'eight', 'S2': 'nine', 'S3': 'ten', 'S4': 'eleven', 'corr': ' twelve', 'incorr': ' eleven', 'text': 'Table done in eight. Key done in nine. Eye done in ten. Van done in eleven. Key done in'}, {'S1': 'one', 'S2': 'two', 'S3': 'three', 'S4': 'four', 'corr': ' five', 'incorr': ' four', 'text': 'Star done in one. Hat done in two. Star done in three. Eye done in four. Gold done in'}, {'S1': 'two', 'S2': 'three', 'S3': 'four', 'S4': 'five', 'corr': ' six', 'incorr': ' five', 'text': 'Gate done in two. Queen done in three. Camera done in four. Zip done in five. Ocean done in'}, {'S1': 'three', 'S2': 'four', 'S3': 'five', 'S4': 'six', 'corr': ' seven', 'incorr': ' six', 'text': 'Fan done in three. Corn done in four. Apple done in five. Van done in six. Cat done in'}, {'S1': 'four', 'S2': 'five', 'S3': 'six', 'S4': 'seven', 'corr': ' eight', 'incorr': ' seven', 'text': 'Key done in four. Gold done in five. Star done in six. Queen done in seven. Arm done in'}, {'S1': 'five', 'S2': 'six', 'S3': 'seven', 'S4': 'eight', 'corr': ' nine', 'incorr': ' eight', 'text': 'Van done in five. Snake done in six. Car done in seven. Star done in eight. Watch done in'}, {'S1': 'six', 'S2': 'seven', 'S3': 'eight', 'S4': 'nine', 'corr': ' ten', 'incorr': ' nine', 'text': 'Jar done in six. Flag done in seven. Window done in eight. Sun done in nine. Van done in'}, {'S1': 'seven', 'S2': 'eight', 'S3': 'nine', 'S4': 'ten', 'corr': ' eleven', 'incorr': ' ten', 'text': 'Wolf done in seven. Watch done in eight. Ring done in nine. Desk done in ten. Car done in'}, {'S1': 'eight', 'S2': 'nine', 'S3': 'ten', 'S4': 'eleven', 'corr': ' twelve', 'incorr': ' eleven', 'text': 'Cow done in eight. Tree done in nine. Book done in ten. Wall done in eleven. Flag done in'}, {'S1': 'one', 'S2': 'two', 'S3': 'three', 'S4': 'four', 'corr': ' five', 'incorr': ' four', 'text': 'Van done in one. Wall done in two. Ring done in three. Car done in four. Key done in'}, {'S1': 'two', 'S2': 'three', 'S3': 'four', 'S4': 'five', 'corr': ' six', 'incorr': ' five', 'text': 'Jar done in two. Wallet done in three. Fish done in four. Watch done in five. Orange done in'}, {'S1': 'three', 'S2': 'four', 'S3': 'five', 'S4': 'six', 'corr': ' seven', 'incorr': ' six', 'text': 'Watch done in three. Orange done in four. Table done in five. Corn done in six. Van done in'}, {'S1': 'four', 'S2': 'five', 'S3': 'six', 'S4': 'seven', 'corr': ' eight', 'incorr': ' seven', 'text': 'Lake done in four. Star done in five. Fan done in six. Fan done in seven. Night done in'}, {'S1': 'five', 'S2': 'six', 'S3': 'seven', 'S4': 'eight', 'corr': ' nine', 'incorr': ' eight', 'text': 'Fan done in five. Ball done in six. Desk done in seven. Jam done in eight. Tree done in'}, {'S1': 'six', 'S2': 'seven', 'S3': 'eight', 'S4': 'nine', 'corr': ' ten', 'incorr': ' nine', 'text': 'Key done in six. Jar done in seven. Night done in eight. Fish done in nine. Fan done in'}, {'S1': 'seven', 'S2': 'eight', 'S3': 'nine', 'S4': 'ten', 'corr': ' eleven', 'incorr': ' ten', 'text': 'Ice done in seven. Rose done in eight. Wall done in nine. Road done in ten. Window done in'}, {'S1': 'eight', 'S2': 'nine', 'S3': 'ten', 'S4': 'eleven', 'corr': ' twelve', 'incorr': ' eleven', 'text': 'Tree done in eight. Hill done in nine. Wall done in ten. Queen done in eleven. Desk done in'}, {'S1': 'one', 'S2': 'two', 'S3': 'three', 'S4': 'four', 'corr': ' five', 'incorr': ' four', 'text': 'Gold done in one. King done in two. Queen done in three. Desk done in four. Night done in'}, {'S1': 'two', 'S2': 'three', 'S3': 'four', 'S4': 'five', 'corr': ' six', 'incorr': ' five', 'text': 'Van done in two. Sand done in three. Tree done in four. Car done in five. Cow done in'}, {'S1': 'three', 'S2': 'four', 'S3': 'five', 'S4': 'six', 'corr': ' seven', 'incorr': ' six', 'text': 'Pear done in three. Eye done in four. Lake done in five. Fan done in six. Light done in'}, {'S1': 'four', 'S2': 'five', 'S3': 'six', 'S4': 'seven', 'corr': ' eight', 'incorr': ' seven', 'text': 'Jam done in four. Road done in five. Corn done in six. Ice done in seven. Pen done in'}, {'S1': 'five', 'S2': 'six', 'S3': 'seven', 'S4': 'eight', 'corr': ' nine', 'incorr': ' eight', 'text': 'Iron done in five. Ring done in six. Star done in seven. Van done in eight. Star done in'}, {'S1': 'six', 'S2': 'seven', 'S3': 'eight', 'S4': 'nine', 'corr': ' ten', 'incorr': ' nine', 'text': 'Bird done in six. Wheel done in seven. Cat done in eight. Desk done in nine. Desk done in'}, {'S1': 'seven', 'S2': 'eight', 'S3': 'nine', 'S4': 'ten', 'corr': ' eleven', 'incorr': ' ten', 'text': 'Fish done in seven. Gold done in eight. King done in nine. Ax done in ten. Jam done in'}, {'S1': 'eight', 'S2': 'nine', 'S3': 'ten', 'S4': 'eleven', 'corr': ' twelve', 'incorr': ' eleven', 'text': 'Desk done in eight. House done in nine. Cow done in ten. Hill done in eleven. Gate done in'}, {'S1': 'one', 'S2': 'two', 'S3': 'three', 'S4': 'four', 'corr': ' five', 'incorr': ' four', 'text': 'Nut done in one. Light done in two. Sand done in three. Wall done in four. Key done in'}, {'S1': 'two', 'S2': 'three', 'S3': 'four', 'S4': 'five', 'corr': ' six', 'incorr': ' five', 'text': 'Tree done in two. Fan done in three. Car done in four. Desk done in five. Ring done in'}, {'S1': 'three', 'S2': 'four', 'S3': 'five', 'S4': 'six', 'corr': ' seven', 'incorr': ' six', 'text': 'Orange done in three. Ocean done in four. Sun done in five. Bug done in six. Queen done in'}, {'S1': 'four', 'S2': 'five', 'S3': 'six', 'S4': 'seven', 'corr': ' eight', 'incorr': ' seven', 'text': 'Orange done in four. House done in five. Watch done in six. Corn done in seven. Ring done in'}, {'S1': 'five', 'S2': 'six', 'S3': 'seven', 'S4': 'eight', 'corr': ' nine', 'incorr': ' eight', 'text': 'Wind done in five. Orange done in six. Rose done in seven. Zip done in eight. Queen done in'}, {'S1': 'six', 'S2': 'seven', 'S3': 'eight', 'S4': 'nine', 'corr': ' ten', 'incorr': ' nine', 'text': 'Iron done in six. Cat done in seven. Glass done in eight. Box done in nine. Rose done in'}, {'S1': 'seven', 'S2': 'eight', 'S3': 'nine', 'S4': 'ten', 'corr': ' eleven', 'incorr': ' ten', 'text': 'Clock done in seven. Zip done in eight. Cat done in nine. Snow done in ten. Ant done in'}, {'S1': 'eight', 'S2': 'nine', 'S3': 'ten', 'S4': 'eleven', 'corr': ' twelve', 'incorr': ' eleven', 'text': 'Rose done in eight. Ear done in nine. Rose done in ten. Rat done in eleven. Orange done in'}, {'S1': 'one', 'S2': 'two', 'S3': 'three', 'S4': 'four', 'corr': ' five', 'incorr': ' four', 'text': 'Road done in one. Ring done in two. Pen done in three. Oil done in four. Camera done in'}, {'S1': 'two', 'S2': 'three', 'S3': 'four', 'S4': 'five', 'corr': ' six', 'incorr': ' five', 'text': 'House done in two. Zip done in three. Queen done in four. Snow done in five. Lake done in'}, {'S1': 'three', 'S2': 'four', 'S3': 'five', 'S4': 'six', 'corr': ' seven', 'incorr': ' six', 'text': 'Van done in three. Tree done in four. Wall done in five. Rat done in six. King done in'}, {'S1': 'four', 'S2': 'five', 'S3': 'six', 'S4': 'seven', 'corr': ' eight', 'incorr': ' seven', 'text': 'Ball done in four. Hill done in five. Clock done in six. Ear done in seven. Van done in'}, {'S1': 'five', 'S2': 'six', 'S3': 'seven', 'S4': 'eight', 'corr': ' nine', 'incorr': ' eight', 'text': 'Night done in five. Ice done in six. Apple done in seven. Tree done in eight. House done in'}, {'S1': 'six', 'S2': 'seven', 'S3': 'eight', 'S4': 'nine', 'corr': ' ten', 'incorr': ' nine', 'text': 'Clock done in six. Orange done in seven. Queen done in eight. Desk done in nine. Arm done in'}, {'S1': 'seven', 'S2': 'eight', 'S3': 'nine', 'S4': 'ten', 'corr': ' eleven', 'incorr': ' ten', 'text': 'Map done in seven. Sun done in eight. Clock done in nine. Cat done in ten. Ball done in'}, {'S1': 'eight', 'S2': 'nine', 'S3': 'ten', 'S4': 'eleven', 'corr': ' twelve', 'incorr': ' eleven', 'text': 'Desk done in eight. Key done in nine. Star done in ten. Cow done in eleven. Rose done in'}, {'S1': 'one', 'S2': 'two', 'S3': 'three', 'S4': 'four', 'corr': ' five', 'incorr': ' four', 'text': 'Ring done in one. Fan done in two. Window done in three. Tree done in four. Chair done in'}, {'S1': 'two', 'S2': 'three', 'S3': 'four', 'S4': 'five', 'corr': ' six', 'incorr': ' five', 'text': 'House done in two. Nut done in three. Queen done in four. Zip done in five. Rose done in'}, {'S1': 'three', 'S2': 'four', 'S3': 'five', 'S4': 'six', 'corr': ' seven', 'incorr': ' six', 'text': 'Window done in three. Gate done in four. Zip done in five. Key done in six. Snow done in'}, {'S1': 'four', 'S2': 'five', 'S3': 'six', 'S4': 'seven', 'corr': ' eight', 'incorr': ' seven', 'text': 'Corn done in four. Ice done in five. Eye done in six. Light done in seven. Desk done in'}, {'S1': 'five', 'S2': 'six', 'S3': 'seven', 'S4': 'eight', 'corr': ' nine', 'incorr': ' eight', 'text': 'Hill done in five. Snake done in six. Orange done in seven. Road done in eight. Flag done in'}, {'S1': 'six', 'S2': 'seven', 'S3': 'eight', 'S4': 'nine', 'corr': ' ten', 'incorr': ' nine', 'text': 'Queen done in six. Window done in seven. Zip done in eight. Cow done in nine. Fire done in'}, {'S1': 'seven', 'S2': 'eight', 'S3': 'nine', 'S4': 'ten', 'corr': ' eleven', 'incorr': ' ten', 'text': 'Star done in seven. Hat done in eight. Chair done in nine. Car done in ten. Ring done in'}, {'S1': 'eight', 'S2': 'nine', 'S3': 'ten', 'S4': 'eleven', 'corr': ' twelve', 'incorr': ' eleven', 'text': 'Desk done in eight. Watch done in nine. Desk done in ten. Ax done in eleven. Queen done in'}, {'S1': 'one', 'S2': 'two', 'S3': 'three', 'S4': 'four', 'corr': ' five', 'incorr': ' four', 'text': 'Train done in one. Snow done in two. Cow done in three. Ring done in four. Queen done in'}, {'S1': 'two', 'S2': 'three', 'S3': 'four', 'S4': 'five', 'corr': ' six', 'incorr': ' five', 'text': 'Window done in two. Pen done in three. Ax done in four. Iron done in five. Nut done in'}, {'S1': 'three', 'S2': 'four', 'S3': 'five', 'S4': 'six', 'corr': ' seven', 'incorr': ' six', 'text': 'Desk done in three. Flag done in four. Fan done in five. Hat done in six. Chair done in'}, {'S1': 'four', 'S2': 'five', 'S3': 'six', 'S4': 'seven', 'corr': ' eight', 'incorr': ' seven', 'text': 'King done in four. Star done in five. Cow done in six. Wallet done in seven. Fan done in'}, {'S1': 'five', 'S2': 'six', 'S3': 'seven', 'S4': 'eight', 'corr': ' nine', 'incorr': ' eight', 'text': 'Star done in five. Watch done in six. Car done in seven. Van done in eight. Queen done in'}, {'S1': 'six', 'S2': 'seven', 'S3': 'eight', 'S4': 'nine', 'corr': ' ten', 'incorr': ' nine', 'text': 'Fire done in six. Oil done in seven. Zip done in eight. Road done in nine. Jam done in'}, {'S1': 'seven', 'S2': 'eight', 'S3': 'nine', 'S4': 'ten', 'corr': ' eleven', 'incorr': ' ten', 'text': 'Wolf done in seven. Ball done in eight. Ocean done in nine. Ring done in ten. Window done in'}, {'S1': 'eight', 'S2': 'nine', 'S3': 'ten', 'S4': 'eleven', 'corr': ' twelve', 'incorr': ' eleven', 'text': 'Wallet done in eight. Night done in nine. Ear done in ten. Table done in eleven. Hat done in'}, {'S1': 'one', 'S2': 'two', 'S3': 'three', 'S4': 'four', 'corr': ' five', 'incorr': ' four', 'text': 'Van done in one. Lake done in two. Desk done in three. Ball done in four. Night done in'}, {'S1': 'two', 'S2': 'three', 'S3': 'four', 'S4': 'five', 'corr': ' six', 'incorr': ' five', 'text': 'Queen done in two. Fish done in three. Hat done in four. Key done in five. Tree done in'}, {'S1': 'three', 'S2': 'four', 'S3': 'five', 'S4': 'six', 'corr': ' seven', 'incorr': ' six', 'text': 'Apple done in three. Ring done in four. Nut done in five. Fish done in six. Key done in'}, {'S1': 'four', 'S2': 'five', 'S3': 'six', 'S4': 'seven', 'corr': ' eight', 'incorr': ' seven', 'text': 'House done in four. Oil done in five. Pen done in six. Dog done in seven. Van done in'}, {'S1': 'five', 'S2': 'six', 'S3': 'seven', 'S4': 'eight', 'corr': ' nine', 'incorr': ' eight', 'text': 'Pear done in five. Ax done in six. Apple done in seven. King done in eight. Hat done in'}, {'S1': 'six', 'S2': 'seven', 'S3': 'eight', 'S4': 'nine', 'corr': ' ten', 'incorr': ' nine', 'text': 'Oil done in six. Ball done in seven. Lake done in eight. Ear done in nine. Nut done in'}, {'S1': 'seven', 'S2': 'eight', 'S3': 'nine', 'S4': 'ten', 'corr': ' eleven', 'incorr': ' ten', 'text': 'Cow done in seven. Desk done in eight. Gold done in nine. Wind done in ten. Star done in'}, {'S1': 'eight', 'S2': 'nine', 'S3': 'ten', 'S4': 'eleven', 'corr': ' twelve', 'incorr': ' eleven', 'text': 'Van done in eight. Pear done in nine. Ring done in ten. Camera done in eleven. Night done in'}, {'S1': 'one', 'S2': 'two', 'S3': 'three', 'S4': 'four', 'corr': ' five', 'incorr': ' four', 'text': 'Clock done in one. Ring done in two. Wallet done in three. Camera done in four. Box done in'}, {'S1': 'two', 'S2': 'three', 'S3': 'four', 'S4': 'five', 'corr': ' six', 'incorr': ' five', 'text': 'Ant done in two. Bird done in three. Wheel done in four. Tree done in five. Orange done in'}, {'S1': 'three', 'S2': 'four', 'S3': 'five', 'S4': 'six', 'corr': ' seven', 'incorr': ' six', 'text': 'Oil done in three. Key done in four. Cow done in five. Rat done in six. Hand done in'}, {'S1': 'four', 'S2': 'five', 'S3': 'six', 'S4': 'seven', 'corr': ' eight', 'incorr': ' seven', 'text': 'Book done in four. Hill done in five. Hand done in six. Table done in seven. House done in'}, {'S1': 'five', 'S2': 'six', 'S3': 'seven', 'S4': 'eight', 'corr': ' nine', 'incorr': ' eight', 'text': 'Ocean done in five. Year done in six. Jar done in seven. Cat done in eight. Van done in'}, {'S1': 'six', 'S2': 'seven', 'S3': 'eight', 'S4': 'nine', 'corr': ' ten', 'incorr': ' nine', 'text': 'Pear done in six. Year done in seven. Desk done in eight. Wind done in nine. Jar done in'}, {'S1': 'seven', 'S2': 'eight', 'S3': 'nine', 'S4': 'ten', 'corr': ' eleven', 'incorr': ' ten', 'text': 'Dog done in seven. House done in eight. Wall done in nine. Moon done in ten. Ring done in'}, {'S1': 'eight', 'S2': 'nine', 'S3': 'ten', 'S4': 'eleven', 'corr': ' twelve', 'incorr': ' eleven', 'text': 'Year done in eight. Camera done in nine. Wind done in ten. Window done in eleven. Queen done in'}, {'S1': 'one', 'S2': 'two', 'S3': 'three', 'S4': 'four', 'corr': ' five', 'incorr': ' four', 'text': 'Nut done in one. Wolf done in two. Van done in three. Rain done in four. Wallet done in'}, {'S1': 'two', 'S2': 'three', 'S3': 'four', 'S4': 'five', 'corr': ' six', 'incorr': ' five', 'text': 'Ant done in two. Light done in three. Watch done in four. Rat done in five. Queen done in'}, {'S1': 'three', 'S2': 'four', 'S3': 'five', 'S4': 'six', 'corr': ' seven', 'incorr': ' six', 'text': 'Nut done in three. Rat done in four. Ring done in five. Orange done in six. Night done in'}, {'S1': 'four', 'S2': 'five', 'S3': 'six', 'S4': 'seven', 'corr': ' eight', 'incorr': ' seven', 'text': 'Window done in four. Arm done in five. Map done in six. Sand done in seven. Wallet done in'}, {'S1': 'five', 'S2': 'six', 'S3': 'seven', 'S4': 'eight', 'corr': ' nine', 'incorr': ' eight', 'text': 'Hand done in five. Window done in six. Bird done in seven. Star done in eight. Camera done in'}, {'S1': 'six', 'S2': 'seven', 'S3': 'eight', 'S4': 'nine', 'corr': ' ten', 'incorr': ' nine', 'text': 'Flag done in six. Train done in seven. Flag done in eight. Dog done in nine. Gate done in'}, {'S1': 'seven', 'S2': 'eight', 'S3': 'nine', 'S4': 'ten', 'corr': ' eleven', 'incorr': ' ten', 'text': 'Apple done in seven. Light done in eight. Window done in nine. Snow done in ten. Ocean done in'}, {'S1': 'eight', 'S2': 'nine', 'S3': 'ten', 'S4': 'eleven', 'corr': ' twelve', 'incorr': ' eleven', 'text': 'Wolf done in eight. Van done in nine. Table done in ten. Fire done in eleven. Dog done in'}, {'S1': 'one', 'S2': 'two', 'S3': 'three', 'S4': 'four', 'corr': ' five', 'incorr': ' four', 'text': 'Orange done in one. Nut done in two. Fan done in three. Table done in four. Wind done in'}, {'S1': 'two', 'S2': 'three', 'S3': 'four', 'S4': 'five', 'corr': ' six', 'incorr': ' five', 'text': 'Tree done in two. Cow done in three. Moon done in four. Tree done in five. Table done in'}, {'S1': 'three', 'S2': 'four', 'S3': 'five', 'S4': 'six', 'corr': ' seven', 'incorr': ' six', 'text': 'King done in three. Hand done in four. Snow done in five. Queen done in six. Map done in'}, {'S1': 'four', 'S2': 'five', 'S3': 'six', 'S4': 'seven', 'corr': ' eight', 'incorr': ' seven', 'text': 'Flag done in four. Fan done in five. Rain done in six. Key done in seven. Light done in'}, {'S1': 'five', 'S2': 'six', 'S3': 'seven', 'S4': 'eight', 'corr': ' nine', 'incorr': ' eight', 'text': 'Orange done in five. Car done in six. Rose done in seven. Snake done in eight. Watch done in'}, {'S1': 'six', 'S2': 'seven', 'S3': 'eight', 'S4': 'nine', 'corr': ' ten', 'incorr': ' nine', 'text': 'Window done in six. Iron done in seven. Ball done in eight. Mouse done in nine. Ring done in'}, {'S1': 'seven', 'S2': 'eight', 'S3': 'nine', 'S4': 'ten', 'corr': ' eleven', 'incorr': ' ten', 'text': 'Van done in seven. Snow done in eight. Train done in nine. Camera done in ten. Pear done in'}, {'S1': 'eight', 'S2': 'nine', 'S3': 'ten', 'S4': 'eleven', 'corr': ' twelve', 'incorr': ' eleven', 'text': 'Ball done in eight. Cat done in nine. Book done in ten. Cow done in eleven. Night done in'}, {'S1': 'one', 'S2': 'two', 'S3': 'three', 'S4': 'four', 'corr': ' five', 'incorr': ' four', 'text': 'Wallet done in one. Ring done in two. Ball done in three. Apple done in four. Ball done in'}, {'S1': 'two', 'S2': 'three', 'S3': 'four', 'S4': 'five', 'corr': ' six', 'incorr': ' five', 'text': 'Light done in two. Pen done in three. Jam done in four. Key done in five. Hat done in'}, {'S1': 'three', 'S2': 'four', 'S3': 'five', 'S4': 'six', 'corr': ' seven', 'incorr': ' six', 'text': 'Car done in three. Ball done in four. Dog done in five. Queen done in six. Van done in'}, {'S1': 'four', 'S2': 'five', 'S3': 'six', 'S4': 'seven', 'corr': ' eight', 'incorr': ' seven', 'text': 'Sand done in four. Flag done in five. House done in six. Car done in seven. Clock done in'}, {'S1': 'five', 'S2': 'six', 'S3': 'seven', 'S4': 'eight', 'corr': ' nine', 'incorr': ' eight', 'text': 'Queen done in five. Ax done in six. Arm done in seven. Apple done in eight. Star done in'}, {'S1': 'six', 'S2': 'seven', 'S3': 'eight', 'S4': 'nine', 'corr': ' ten', 'incorr': ' nine', 'text': 'Road done in six. Wallet done in seven. Camera done in eight. Map done in nine. Window done in'}, {'S1': 'seven', 'S2': 'eight', 'S3': 'nine', 'S4': 'ten', 'corr': ' eleven', 'incorr': ' ten', 'text': 'Hat done in seven. Orange done in eight. Queen done in nine. Train done in ten. Watch done in'}, {'S1': 'eight', 'S2': 'nine', 'S3': 'ten', 'S4': 'eleven', 'corr': ' twelve', 'incorr': ' eleven', 'text': 'Hat done in eight. Glass done in nine. Orange done in ten. Rain done in eleven. Wallet done in'}, {'S1': 'one', 'S2': 'two', 'S3': 'three', 'S4': 'four', 'corr': ' five', 'incorr': ' four', 'text': 'Flag done in one. Jam done in two. Year done in three. Key done in four. Ear done in'}, {'S1': 'two', 'S2': 'three', 'S3': 'four', 'S4': 'five', 'corr': ' six', 'incorr': ' five', 'text': 'Chair done in two. Fan done in three. Wallet done in four. Car done in five. Rat done in'}, {'S1': 'three', 'S2': 'four', 'S3': 'five', 'S4': 'six', 'corr': ' seven', 'incorr': ' six', 'text': 'Fish done in three. Ring done in four. Key done in five. Apple done in six. Book done in'}, {'S1': 'four', 'S2': 'five', 'S3': 'six', 'S4': 'seven', 'corr': ' eight', 'incorr': ' seven', 'text': 'Ball done in four. Camera done in five. Ocean done in six. Wind done in seven. Eye done in'}, {'S1': 'five', 'S2': 'six', 'S3': 'seven', 'S4': 'eight', 'corr': ' nine', 'incorr': ' eight', 'text': 'Van done in five. Rose done in six. Map done in seven. Ax done in eight. Bug done in'}, {'S1': 'six', 'S2': 'seven', 'S3': 'eight', 'S4': 'nine', 'corr': ' ten', 'incorr': ' nine', 'text': 'Van done in six. Chair done in seven. Ice done in eight. Wind done in nine. Flag done in'}, {'S1': 'seven', 'S2': 'eight', 'S3': 'nine', 'S4': 'ten', 'corr': ' eleven', 'incorr': ' ten', 'text': 'Star done in seven. House done in eight. Wheel done in nine. Gate done in ten. House done in'}, {'S1': 'eight', 'S2': 'nine', 'S3': 'ten', 'S4': 'eleven', 'corr': ' twelve', 'incorr': ' eleven', 'text': 'Ring done in eight. King done in nine. Rose done in ten. Cow done in eleven. Dog done in'}, {'S1': 'one', 'S2': 'two', 'S3': 'three', 'S4': 'four', 'corr': ' five', 'incorr': ' four', 'text': 'Mouse done in one. Hill done in two. Wallet done in three. Ocean done in four. Lake done in'}, {'S1': 'two', 'S2': 'three', 'S3': 'four', 'S4': 'five', 'corr': ' six', 'incorr': ' five', 'text': 'Star done in two. Window done in three. Tree done in four. Hill done in five. Desk done in'}, {'S1': 'three', 'S2': 'four', 'S3': 'five', 'S4': 'six', 'corr': ' seven', 'incorr': ' six', 'text': 'Wolf done in three. Wheel done in four. Camera done in five. Ring done in six. Arm done in'}, {'S1': 'four', 'S2': 'five', 'S3': 'six', 'S4': 'seven', 'corr': ' eight', 'incorr': ' seven', 'text': 'Ball done in four. Rat done in five. Fan done in six. Train done in seven. Fire done in'}, {'S1': 'five', 'S2': 'six', 'S3': 'seven', 'S4': 'eight', 'corr': ' nine', 'incorr': ' eight', 'text': 'Year done in five. Tree done in six. Ring done in seven. Zip done in eight. Sand done in'}, {'S1': 'six', 'S2': 'seven', 'S3': 'eight', 'S4': 'nine', 'corr': ' ten', 'incorr': ' nine', 'text': 'Camera done in six. Year done in seven. Fire done in eight. Moon done in nine. Key done in'}, {'S1': 'seven', 'S2': 'eight', 'S3': 'nine', 'S4': 'ten', 'corr': ' eleven', 'incorr': ' ten', 'text': 'Gate done in seven. Ring done in eight. Road done in nine. Car done in ten. Tree done in'}, {'S1': 'eight', 'S2': 'nine', 'S3': 'ten', 'S4': 'eleven', 'corr': ' twelve', 'incorr': ' eleven', 'text': 'Jar done in eight. Apple done in nine. Bug done in ten. Car done in eleven. Nut done in'}, {'S1': 'one', 'S2': 'two', 'S3': 'three', 'S4': 'four', 'corr': ' five', 'incorr': ' four', 'text': 'Fan done in one. Star done in two. Ant done in three. Watch done in four. Fan done in'}, {'S1': 'two', 'S2': 'three', 'S3': 'four', 'S4': 'five', 'corr': ' six', 'incorr': ' five', 'text': 'Ring done in two. Year done in three. Wallet done in four. Fish done in five. Snow done in'}, {'S1': 'three', 'S2': 'four', 'S3': 'five', 'S4': 'six', 'corr': ' seven', 'incorr': ' six', 'text': 'Road done in three. Year done in four. Wind done in five. Pear done in six. Key done in'}, {'S1': 'four', 'S2': 'five', 'S3': 'six', 'S4': 'seven', 'corr': ' eight', 'incorr': ' seven', 'text': 'Wind done in four. Ring done in five. Hat done in six. Watch done in seven. Rose done in'}, {'S1': 'five', 'S2': 'six', 'S3': 'seven', 'S4': 'eight', 'corr': ' nine', 'incorr': ' eight', 'text': 'Bird done in five. Wolf done in six. Van done in seven. Snake done in eight. Zip done in'}, {'S1': 'six', 'S2': 'seven', 'S3': 'eight', 'S4': 'nine', 'corr': ' ten', 'incorr': ' nine', 'text': 'Star done in six. Car done in seven. Iron done in eight. Fan done in nine. Orange done in'}, {'S1': 'seven', 'S2': 'eight', 'S3': 'nine', 'S4': 'ten', 'corr': ' eleven', 'incorr': ' ten', 'text': 'Car done in seven. Map done in eight. Eye done in nine. Wolf done in ten. Clock done in'}, {'S1': 'eight', 'S2': 'nine', 'S3': 'ten', 'S4': 'eleven', 'corr': ' twelve', 'incorr': ' eleven', 'text': 'Hat done in eight. Snake done in nine. Map done in ten. Window done in eleven. Desk done in'}, {'S1': 'one', 'S2': 'two', 'S3': 'three', 'S4': 'four', 'corr': ' five', 'incorr': ' four', 'text': 'Hill done in one. Watch done in two. Box done in three. Fish done in four. Table done in'}, {'S1': 'two', 'S2': 'three', 'S3': 'four', 'S4': 'five', 'corr': ' six', 'incorr': ' five', 'text': 'Moon done in two. Car done in three. Lake done in four. Road done in five. Watch done in'}, {'S1': 'three', 'S2': 'four', 'S3': 'five', 'S4': 'six', 'corr': ' seven', 'incorr': ' six', 'text': 'Jam done in three. King done in four. Key done in five. Moon done in six. Tree done in'}, {'S1': 'four', 'S2': 'five', 'S3': 'six', 'S4': 'seven', 'corr': ' eight', 'incorr': ' seven', 'text': 'Oil done in four. Map done in five. Eye done in six. Wall done in seven. Lake done in'}, {'S1': 'five', 'S2': 'six', 'S3': 'seven', 'S4': 'eight', 'corr': ' nine', 'incorr': ' eight', 'text': 'Light done in five. Clock done in six. House done in seven. Hand done in eight. Orange done in'}, {'S1': 'six', 'S2': 'seven', 'S3': 'eight', 'S4': 'nine', 'corr': ' ten', 'incorr': ' nine', 'text': 'Dog done in six. Van done in seven. Rose done in eight. Queen done in nine. Clock done in'}, {'S1': 'seven', 'S2': 'eight', 'S3': 'nine', 'S4': 'ten', 'corr': ' eleven', 'incorr': ' ten', 'text': 'Tree done in seven. Wheel done in eight. Clock done in nine. Dog done in ten. Hat done in'}, {'S1': 'eight', 'S2': 'nine', 'S3': 'ten', 'S4': 'eleven', 'corr': ' twelve', 'incorr': ' eleven', 'text': 'Car done in eight. Ring done in nine. Fan done in ten. Moon done in eleven. Year done in'}, {'S1': 'one', 'S2': 'two', 'S3': 'three', 'S4': 'four', 'corr': ' five', 'incorr': ' four', 'text': 'Ball done in one. Orange done in two. Rat done in three. Iron done in four. Nut done in'}, {'S1': 'two', 'S2': 'three', 'S3': 'four', 'S4': 'five', 'corr': ' six', 'incorr': ' five', 'text': 'Queen done in two. Orange done in three. Camera done in four. Queen done in five. Tree done in'}, {'S1': 'three', 'S2': 'four', 'S3': 'five', 'S4': 'six', 'corr': ' seven', 'incorr': ' six', 'text': 'Jam done in three. Jar done in four. Oil done in five. Fan done in six. Table done in'}, {'S1': 'four', 'S2': 'five', 'S3': 'six', 'S4': 'seven', 'corr': ' eight', 'incorr': ' seven', 'text': 'Moon done in four. King done in five. Rain done in six. Car done in seven. Van done in'}, {'S1': 'five', 'S2': 'six', 'S3': 'seven', 'S4': 'eight', 'corr': ' nine', 'incorr': ' eight', 'text': 'Queen done in five. Desk done in six. Orange done in seven. Orange done in eight. Iron done in'}, {'S1': 'six', 'S2': 'seven', 'S3': 'eight', 'S4': 'nine', 'corr': ' ten', 'incorr': ' nine', 'text': 'Year done in six. Camera done in seven. Bug done in eight. Window done in nine. Nut done in'}, {'S1': 'seven', 'S2': 'eight', 'S3': 'nine', 'S4': 'ten', 'corr': ' eleven', 'incorr': ' ten', 'text': 'Pen done in seven. Ball done in eight. Ice done in nine. Rat done in ten. Flag done in'}, {'S1': 'eight', 'S2': 'nine', 'S3': 'ten', 'S4': 'eleven', 'corr': ' twelve', 'incorr': ' eleven', 'text': 'Wallet done in eight. Hat done in nine. Queen done in ten. Ear done in eleven. Jar done in'}, {'S1': 'one', 'S2': 'two', 'S3': 'three', 'S4': 'four', 'corr': ' five', 'incorr': ' four', 'text': 'Wind done in one. Jam done in two. Apple done in three. Nut done in four. Nut done in'}, {'S1': 'two', 'S2': 'three', 'S3': 'four', 'S4': 'five', 'corr': ' six', 'incorr': ' five', 'text': 'Watch done in two. Fan done in three. Light done in four. Fish done in five. Rain done in'}, {'S1': 'three', 'S2': 'four', 'S3': 'five', 'S4': 'six', 'corr': ' seven', 'incorr': ' six', 'text': 'Key done in three. Window done in four. Ice done in five. Window done in six. Hat done in'}, {'S1': 'four', 'S2': 'five', 'S3': 'six', 'S4': 'seven', 'corr': ' eight', 'incorr': ' seven', 'text': 'Tree done in four. Map done in five. Car done in six. Rat done in seven. House done in'}, {'S1': 'five', 'S2': 'six', 'S3': 'seven', 'S4': 'eight', 'corr': ' nine', 'incorr': ' eight', 'text': 'Camera done in five. Ring done in six. Queen done in seven. Car done in eight. Ear done in'}, {'S1': 'six', 'S2': 'seven', 'S3': 'eight', 'S4': 'nine', 'corr': ' ten', 'incorr': ' nine', 'text': 'Iron done in six. Window done in seven. Corn done in eight. Apple done in nine. Camera done in'}, {'S1': 'seven', 'S2': 'eight', 'S3': 'nine', 'S4': 'ten', 'corr': ' eleven', 'incorr': ' ten', 'text': 'Hat done in seven. Fan done in eight. Tree done in nine. Desk done in ten. Orange done in'}, {'S1': 'eight', 'S2': 'nine', 'S3': 'ten', 'S4': 'eleven', 'corr': ' twelve', 'incorr': ' eleven', 'text': 'Box done in eight. Rat done in nine. Fish done in ten. Lake done in eleven. Rose done in'}, {'S1': 'one', 'S2': 'two', 'S3': 'three', 'S4': 'four', 'corr': ' five', 'incorr': ' four', 'text': 'Night done in one. Ring done in two. Hand done in three. Moon done in four. Gate done in'}, {'S1': 'two', 'S2': 'three', 'S3': 'four', 'S4': 'five', 'corr': ' six', 'incorr': ' five', 'text': 'Road done in two. Moon done in three. Cow done in four. Snow done in five. Wind done in'}, {'S1': 'three', 'S2': 'four', 'S3': 'five', 'S4': 'six', 'corr': ' seven', 'incorr': ' six', 'text': 'Light done in three. Ball done in four. Van done in five. Rat done in six. Ear done in'}, {'S1': 'four', 'S2': 'five', 'S3': 'six', 'S4': 'seven', 'corr': ' eight', 'incorr': ' seven', 'text': 'Watch done in four. Desk done in five. Fan done in six. Car done in seven. Tree done in'}, {'S1': 'five', 'S2': 'six', 'S3': 'seven', 'S4': 'eight', 'corr': ' nine', 'incorr': ' eight', 'text': 'Wheel done in five. Fan done in six. Car done in seven. Van done in eight. King done in'}, {'S1': 'six', 'S2': 'seven', 'S3': 'eight', 'S4': 'nine', 'corr': ' ten', 'incorr': ' nine', 'text': 'Ball done in six. Van done in seven. Apple done in eight. Map done in nine. Wind done in'}, {'S1': 'seven', 'S2': 'eight', 'S3': 'nine', 'S4': 'ten', 'corr': ' eleven', 'incorr': ' ten', 'text': 'Orange done in seven. Wallet done in eight. Bug done in nine. Fan done in ten. Light done in'}, {'S1': 'eight', 'S2': 'nine', 'S3': 'ten', 'S4': 'eleven', 'corr': ' twelve', 'incorr': ' eleven', 'text': 'Box done in eight. Ring done in nine. Hand done in ten. Watch done in eleven. Watch done in'}, {'S1': 'one', 'S2': 'two', 'S3': 'three', 'S4': 'four', 'corr': ' five', 'incorr': ' four', 'text': 'Sun done in one. Ear done in two. Pen done in three. Gold done in four. Wheel done in'}, {'S1': 'two', 'S2': 'three', 'S3': 'four', 'S4': 'five', 'corr': ' six', 'incorr': ' five', 'text': 'Watch done in two. Dog done in three. Clock done in four. Ax done in five. Fire done in'}, {'S1': 'three', 'S2': 'four', 'S3': 'five', 'S4': 'six', 'corr': ' seven', 'incorr': ' six', 'text': 'Queen done in three. House done in four. Hand done in five. Arm done in six. Orange done in'}, {'S1': 'four', 'S2': 'five', 'S3': 'six', 'S4': 'seven', 'corr': ' eight', 'incorr': ' seven', 'text': 'Star done in four. Night done in five. Jam done in six. Flag done in seven. Ring done in'}, {'S1': 'five', 'S2': 'six', 'S3': 'seven', 'S4': 'eight', 'corr': ' nine', 'incorr': ' eight', 'text': 'Rain done in five. Queen done in six. Clock done in seven. Rat done in eight. Map done in'}, {'S1': 'six', 'S2': 'seven', 'S3': 'eight', 'S4': 'nine', 'corr': ' ten', 'incorr': ' nine', 'text': 'Lake done in six. Table done in seven. Desk done in eight. Zip done in nine. Bird done in'}, {'S1': 'seven', 'S2': 'eight', 'S3': 'nine', 'S4': 'ten', 'corr': ' eleven', 'incorr': ' ten', 'text': 'Key done in seven. Ring done in eight. Year done in nine. Camera done in ten. Cat done in'}, {'S1': 'eight', 'S2': 'nine', 'S3': 'ten', 'S4': 'eleven', 'corr': ' twelve', 'incorr': ' eleven', 'text': 'Pen done in eight. Queen done in nine. Flag done in ten. Fan done in eleven. Night done in'}, {'S1': 'one', 'S2': 'two', 'S3': 'three', 'S4': 'four', 'corr': ' five', 'incorr': ' four', 'text': 'Watch done in one. Sand done in two. House done in three. Tree done in four. Moon done in'}, {'S1': 'two', 'S2': 'three', 'S3': 'four', 'S4': 'five', 'corr': ' six', 'incorr': ' five', 'text': 'Rose done in two. Window done in three. Road done in four. Orange done in five. Sun done in'}, {'S1': 'three', 'S2': 'four', 'S3': 'five', 'S4': 'six', 'corr': ' seven', 'incorr': ' six', 'text': 'Ax done in three. Ball done in four. Mouse done in five. Apple done in six. Zip done in'}, {'S1': 'four', 'S2': 'five', 'S3': 'six', 'S4': 'seven', 'corr': ' eight', 'incorr': ' seven', 'text': 'Cow done in four. Watch done in five. Fan done in six. Apple done in seven. Wallet done in'}, {'S1': 'five', 'S2': 'six', 'S3': 'seven', 'S4': 'eight', 'corr': ' nine', 'incorr': ' eight', 'text': 'Apple done in five. Cat done in six. Apple done in seven. Orange done in eight. Sand done in'}, {'S1': 'six', 'S2': 'seven', 'S3': 'eight', 'S4': 'nine', 'corr': ' ten', 'incorr': ' nine', 'text': 'Camera done in six. Van done in seven. Fan done in eight. Road done in nine. Key done in'}, {'S1': 'seven', 'S2': 'eight', 'S3': 'nine', 'S4': 'ten', 'corr': ' eleven', 'incorr': ' ten', 'text': 'Hat done in seven. Wall done in eight. Pen done in nine. Snow done in ten. Ice done in'}, {'S1': 'eight', 'S2': 'nine', 'S3': 'ten', 'S4': 'eleven', 'corr': ' twelve', 'incorr': ' eleven', 'text': 'Cow done in eight. Van done in nine. Map done in ten. Ring done in eleven. Car done in'}, {'S1': 'one', 'S2': 'two', 'S3': 'three', 'S4': 'four', 'corr': ' five', 'incorr': ' four', 'text': 'House done in one. Moon done in two. Ocean done in three. Rose done in four. Star done in'}, {'S1': 'two', 'S2': 'three', 'S3': 'four', 'S4': 'five', 'corr': ' six', 'incorr': ' five', 'text': 'Window done in two. Tree done in three. Flag done in four. Watch done in five. Tree done in'}, {'S1': 'three', 'S2': 'four', 'S3': 'five', 'S4': 'six', 'corr': ' seven', 'incorr': ' six', 'text': 'Rose done in three. Eye done in four. Hat done in five. Star done in six. Orange done in'}, {'S1': 'four', 'S2': 'five', 'S3': 'six', 'S4': 'seven', 'corr': ' eight', 'incorr': ' seven', 'text': 'Apple done in four. Star done in five. Dog done in six. Bug done in seven. Box done in'}, {'S1': 'five', 'S2': 'six', 'S3': 'seven', 'S4': 'eight', 'corr': ' nine', 'incorr': ' eight', 'text': 'Snake done in five. Queen done in six. Ring done in seven. Chair done in eight. Ball done in'}, {'S1': 'six', 'S2': 'seven', 'S3': 'eight', 'S4': 'nine', 'corr': ' ten', 'incorr': ' nine', 'text': 'Corn done in six. Iron done in seven. Ant done in eight. Ax done in nine. Apple done in'}, {'S1': 'seven', 'S2': 'eight', 'S3': 'nine', 'S4': 'ten', 'corr': ' eleven', 'incorr': ' ten', 'text': 'Light done in seven. Year done in eight. Car done in nine. Bug done in ten. Oil done in'}, {'S1': 'eight', 'S2': 'nine', 'S3': 'ten', 'S4': 'eleven', 'corr': ' twelve', 'incorr': ' eleven', 'text': 'Nut done in eight. Sun done in nine. Ear done in ten. Camera done in eleven. Fan done in'}, {'S1': 'one', 'S2': 'two', 'S3': 'three', 'S4': 'four', 'corr': ' five', 'incorr': ' four', 'text': 'Window done in one. Rose done in two. Rat done in three. Tree done in four. Ax done in'}, {'S1': 'two', 'S2': 'three', 'S3': 'four', 'S4': 'five', 'corr': ' six', 'incorr': ' five', 'text': 'Glass done in two. Fire done in three. Rose done in four. Watch done in five. Orange done in'}, {'S1': 'three', 'S2': 'four', 'S3': 'five', 'S4': 'six', 'corr': ' seven', 'incorr': ' six', 'text': 'Wallet done in three. Bird done in four. Wolf done in five. Apple done in six. Wind done in'}, {'S1': 'four', 'S2': 'five', 'S3': 'six', 'S4': 'seven', 'corr': ' eight', 'incorr': ' seven', 'text': 'Nut done in four. Cow done in five. Desk done in six. Orange done in seven. Arm done in'}, {'S1': 'five', 'S2': 'six', 'S3': 'seven', 'S4': 'eight', 'corr': ' nine', 'incorr': ' eight', 'text': 'Tree done in five. Ball done in six. Jam done in seven. Glass done in eight. Cow done in'}, {'S1': 'six', 'S2': 'seven', 'S3': 'eight', 'S4': 'nine', 'corr': ' ten', 'incorr': ' nine', 'text': 'Watch done in six. Wolf done in seven. Star done in eight. Table done in nine. Desk done in'}, {'S1': 'seven', 'S2': 'eight', 'S3': 'nine', 'S4': 'ten', 'corr': ' eleven', 'incorr': ' ten', 'text': 'Jam done in seven. Zip done in eight. Ring done in nine. Hand done in ten. Corn done in'}, {'S1': 'eight', 'S2': 'nine', 'S3': 'ten', 'S4': 'eleven', 'corr': ' twelve', 'incorr': ' eleven', 'text': 'Rose done in eight. Wheel done in nine. Wallet done in ten. Flag done in eleven. Ball done in'}, {'S1': 'one', 'S2': 'two', 'S3': 'three', 'S4': 'four', 'corr': ' five', 'incorr': ' four', 'text': 'Wallet done in one. Tree done in two. Jam done in three. Key done in four. Year done in'}, {'S1': 'two', 'S2': 'three', 'S3': 'four', 'S4': 'five', 'corr': ' six', 'incorr': ' five', 'text': 'Queen done in two. Apple done in three. Ring done in four. Iron done in five. Road done in'}, {'S1': 'three', 'S2': 'four', 'S3': 'five', 'S4': 'six', 'corr': ' seven', 'incorr': ' six', 'text': 'Cat done in three. Ear done in four. Snake done in five. Key done in six. Apple done in'}, {'S1': 'four', 'S2': 'five', 'S3': 'six', 'S4': 'seven', 'corr': ' eight', 'incorr': ' seven', 'text': 'Wheel done in four. Rat done in five. Night done in six. Map done in seven. Star done in'}, {'S1': 'five', 'S2': 'six', 'S3': 'seven', 'S4': 'eight', 'corr': ' nine', 'incorr': ' eight', 'text': 'Apple done in five. Rose done in six. Rat done in seven. Light done in eight. Tree done in'}, {'S1': 'six', 'S2': 'seven', 'S3': 'eight', 'S4': 'nine', 'corr': ' ten', 'incorr': ' nine', 'text': 'Ball done in six. Sand done in seven. Rose done in eight. Window done in nine. Fish done in'}, {'S1': 'seven', 'S2': 'eight', 'S3': 'nine', 'S4': 'ten', 'corr': ' eleven', 'incorr': ' ten', 'text': 'Zip done in seven. Wind done in eight. Gate done in nine. Dog done in ten. Jar done in'}, {'S1': 'eight', 'S2': 'nine', 'S3': 'ten', 'S4': 'eleven', 'corr': ' twelve', 'incorr': ' eleven', 'text': 'Wall done in eight. Hill done in nine. House done in ten. Pen done in eleven. Arm done in'}, {'S1': 'one', 'S2': 'two', 'S3': 'three', 'S4': 'four', 'corr': ' five', 'incorr': ' four', 'text': 'Tree done in one. Camera done in two. Ring done in three. Ocean done in four. Ring done in'}, {'S1': 'two', 'S2': 'three', 'S3': 'four', 'S4': 'five', 'corr': ' six', 'incorr': ' five', 'text': 'Rose done in two. House done in three. Map done in four. Road done in five. Apple done in'}, {'S1': 'three', 'S2': 'four', 'S3': 'five', 'S4': 'six', 'corr': ' seven', 'incorr': ' six', 'text': 'Clock done in three. Tree done in four. Wheel done in five. Ring done in six. Ax done in'}, {'S1': 'four', 'S2': 'five', 'S3': 'six', 'S4': 'seven', 'corr': ' eight', 'incorr': ' seven', 'text': 'Rat done in four. Snake done in five. Nut done in six. Fan done in seven. Iron done in'}, {'S1': 'five', 'S2': 'six', 'S3': 'seven', 'S4': 'eight', 'corr': ' nine', 'incorr': ' eight', 'text': 'Fish done in five. Window done in six. Glass done in seven. House done in eight. Clock done in'}, {'S1': 'six', 'S2': 'seven', 'S3': 'eight', 'S4': 'nine', 'corr': ' ten', 'incorr': ' nine', 'text': 'Chair done in six. Van done in seven. Wheel done in eight. Box done in nine. Glass done in'}, {'S1': 'seven', 'S2': 'eight', 'S3': 'nine', 'S4': 'ten', 'corr': ' eleven', 'incorr': ' ten', 'text': 'Desk done in seven. Car done in eight. House done in nine. Flag done in ten. Orange done in'}, {'S1': 'eight', 'S2': 'nine', 'S3': 'ten', 'S4': 'eleven', 'corr': ' twelve', 'incorr': ' eleven', 'text': 'Fire done in eight. Fan done in nine. Desk done in ten. Snake done in eleven. Train done in'}, {'S1': 'one', 'S2': 'two', 'S3': 'three', 'S4': 'four', 'corr': ' five', 'incorr': ' four', 'text': 'Star done in one. Rose done in two. Fan done in three. House done in four. Wallet done in'}, {'S1': 'two', 'S2': 'three', 'S3': 'four', 'S4': 'five', 'corr': ' six', 'incorr': ' five', 'text': 'Queen done in two. Fire done in three. Hat done in four. Ax done in five. Flag done in'}, {'S1': 'three', 'S2': 'four', 'S3': 'five', 'S4': 'six', 'corr': ' seven', 'incorr': ' six', 'text': 'Car done in three. King done in four. Fan done in five. Van done in six. Flag done in'}, {'S1': 'four', 'S2': 'five', 'S3': 'six', 'S4': 'seven', 'corr': ' eight', 'incorr': ' seven', 'text': 'Rain done in four. Desk done in five. Desk done in six. Lake done in seven. Queen done in'}, {'S1': 'five', 'S2': 'six', 'S3': 'seven', 'S4': 'eight', 'corr': ' nine', 'incorr': ' eight', 'text': 'Ring done in five. Oil done in six. Hand done in seven. Sand done in eight. Arm done in'}, {'S1': 'six', 'S2': 'seven', 'S3': 'eight', 'S4': 'nine', 'corr': ' ten', 'incorr': ' nine', 'text': 'Fan done in six. Watch done in seven. Iron done in eight. Box done in nine. Snake done in'}, {'S1': 'seven', 'S2': 'eight', 'S3': 'nine', 'S4': 'ten', 'corr': ' eleven', 'incorr': ' ten', 'text': 'Ball done in seven. Zip done in eight. Hat done in nine. Queen done in ten. Queen done in'}, {'S1': 'eight', 'S2': 'nine', 'S3': 'ten', 'S4': 'eleven', 'corr': ' twelve', 'incorr': ' eleven', 'text': 'Train done in eight. Bird done in nine. Ring done in ten. Gold done in eleven. Ring done in'}, {'S1': 'one', 'S2': 'two', 'S3': 'three', 'S4': 'four', 'corr': ' five', 'incorr': ' four', 'text': 'Bird done in one. Rat done in two. Ant done in three. Car done in four. Ball done in'}, {'S1': 'two', 'S2': 'three', 'S3': 'four', 'S4': 'five', 'corr': ' six', 'incorr': ' five', 'text': 'Box done in two. Queen done in three. Cat done in four. Iron done in five. Fan done in'}, {'S1': 'three', 'S2': 'four', 'S3': 'five', 'S4': 'six', 'corr': ' seven', 'incorr': ' six', 'text': 'Road done in three. Tree done in four. Jam done in five. Bug done in six. Jar done in'}, {'S1': 'four', 'S2': 'five', 'S3': 'six', 'S4': 'seven', 'corr': ' eight', 'incorr': ' seven', 'text': 'Queen done in four. Desk done in five. Box done in six. Jar done in seven. Ocean done in'}, {'S1': 'five', 'S2': 'six', 'S3': 'seven', 'S4': 'eight', 'corr': ' nine', 'incorr': ' eight', 'text': 'Snake done in five. Desk done in six. Year done in seven. Train done in eight. Orange done in'}, {'S1': 'six', 'S2': 'seven', 'S3': 'eight', 'S4': 'nine', 'corr': ' ten', 'incorr': ' nine', 'text': 'Desk done in six. Jar done in seven. Book done in eight. Arm done in nine. Ball done in'}, {'S1': 'seven', 'S2': 'eight', 'S3': 'nine', 'S4': 'ten', 'corr': ' eleven', 'incorr': ' ten', 'text': 'Star done in seven. Moon done in eight. Wind done in nine. Dog done in ten. Hat done in'}, {'S1': 'eight', 'S2': 'nine', 'S3': 'ten', 'S4': 'eleven', 'corr': ' twelve', 'incorr': ' eleven', 'text': 'Apple done in eight. Ant done in nine. Desk done in ten. Zip done in eleven. Wheel done in'}, {'S1': 'one', 'S2': 'two', 'S3': 'three', 'S4': 'four', 'corr': ' five', 'incorr': ' four', 'text': 'Ball done in one. Gold done in two. Mouse done in three. Hill done in four. Car done in'}, {'S1': 'two', 'S2': 'three', 'S3': 'four', 'S4': 'five', 'corr': ' six', 'incorr': ' five', 'text': 'Orange done in two. Tree done in three. Hill done in four. Lake done in five. Oil done in'}, {'S1': 'three', 'S2': 'four', 'S3': 'five', 'S4': 'six', 'corr': ' seven', 'incorr': ' six', 'text': 'Key done in three. Desk done in four. Snow done in five. Ant done in six. Ear done in'}, {'S1': 'four', 'S2': 'five', 'S3': 'six', 'S4': 'seven', 'corr': ' eight', 'incorr': ' seven', 'text': 'Bug done in four. Lake done in five. Apple done in six. Arm done in seven. Watch done in'}, {'S1': 'five', 'S2': 'six', 'S3': 'seven', 'S4': 'eight', 'corr': ' nine', 'incorr': ' eight', 'text': 'Light done in five. Snow done in six. House done in seven. Fire done in eight. Snake done in'}, {'S1': 'six', 'S2': 'seven', 'S3': 'eight', 'S4': 'nine', 'corr': ' ten', 'incorr': ' nine', 'text': 'Van done in six. Wind done in seven. Pen done in eight. House done in nine. Rain done in'}, {'S1': 'seven', 'S2': 'eight', 'S3': 'nine', 'S4': 'ten', 'corr': ' eleven', 'incorr': ' ten', 'text': 'Van done in seven. Desk done in eight. Cat done in nine. Mouse done in ten. Jar done in'}, {'S1': 'eight', 'S2': 'nine', 'S3': 'ten', 'S4': 'eleven', 'corr': ' twelve', 'incorr': ' eleven', 'text': 'Cat done in eight. Clock done in nine. Desk done in ten. Ring done in eleven. Car done in'}, {'S1': 'one', 'S2': 'two', 'S3': 'three', 'S4': 'four', 'corr': ' five', 'incorr': ' four', 'text': 'Snow done in one. Wall done in two. Queen done in three. Sand done in four. Window done in'}, {'S1': 'two', 'S2': 'three', 'S3': 'four', 'S4': 'five', 'corr': ' six', 'incorr': ' five', 'text': 'Corn done in two. Fan done in three. Flag done in four. Flag done in five. Wall done in'}, {'S1': 'three', 'S2': 'four', 'S3': 'five', 'S4': 'six', 'corr': ' seven', 'incorr': ' six', 'text': 'Ice done in three. Ring done in four. Cow done in five. Rose done in six. Orange done in'}, {'S1': 'four', 'S2': 'five', 'S3': 'six', 'S4': 'seven', 'corr': ' eight', 'incorr': ' seven', 'text': 'Fan done in four. House done in five. Train done in six. Hat done in seven. Bug done in'}, {'S1': 'five', 'S2': 'six', 'S3': 'seven', 'S4': 'eight', 'corr': ' nine', 'incorr': ' eight', 'text': 'Camera done in five. Ant done in six. Star done in seven. Wall done in eight. Book done in'}, {'S1': 'six', 'S2': 'seven', 'S3': 'eight', 'S4': 'nine', 'corr': ' ten', 'incorr': ' nine', 'text': 'Tree done in six. Orange done in seven. Bug done in eight. Star done in nine. Eye done in'}, {'S1': 'seven', 'S2': 'eight', 'S3': 'nine', 'S4': 'ten', 'corr': ' eleven', 'incorr': ' ten', 'text': 'Rain done in seven. Car done in eight. Queen done in nine. House done in ten. Jar done in'}, {'S1': 'eight', 'S2': 'nine', 'S3': 'ten', 'S4': 'eleven', 'corr': ' twelve', 'incorr': ' eleven', 'text': 'Year done in eight. Wall done in nine. Dog done in ten. Sand done in eleven. Table done in'}, {'S1': 'one', 'S2': 'two', 'S3': 'three', 'S4': 'four', 'corr': ' five', 'incorr': ' four', 'text': 'Ring done in one. Rat done in two. Sun done in three. Year done in four. Flag done in'}, {'S1': 'two', 'S2': 'three', 'S3': 'four', 'S4': 'five', 'corr': ' six', 'incorr': ' five', 'text': 'Cow done in two. Nut done in three. Ring done in four. Mouse done in five. Road done in'}, {'S1': 'three', 'S2': 'four', 'S3': 'five', 'S4': 'six', 'corr': ' seven', 'incorr': ' six', 'text': 'King done in three. Fish done in four. Ocean done in five. Hill done in six. Star done in'}, {'S1': 'four', 'S2': 'five', 'S3': 'six', 'S4': 'seven', 'corr': ' eight', 'incorr': ' seven', 'text': 'Box done in four. Camera done in five. Wallet done in six. Queen done in seven. Flag done in'}, {'S1': 'five', 'S2': 'six', 'S3': 'seven', 'S4': 'eight', 'corr': ' nine', 'incorr': ' eight', 'text': 'Wind done in five. Book done in six. Sun done in seven. Ring done in eight. Snake done in'}, {'S1': 'six', 'S2': 'seven', 'S3': 'eight', 'S4': 'nine', 'corr': ' ten', 'incorr': ' nine', 'text': 'Snow done in six. Pear done in seven. Zip done in eight. Apple done in nine. Orange done in'}, {'S1': 'seven', 'S2': 'eight', 'S3': 'nine', 'S4': 'ten', 'corr': ' eleven', 'incorr': ' ten', 'text': 'Snow done in seven. Bird done in eight. Jar done in nine. Rose done in ten. Flag done in'}, {'S1': 'eight', 'S2': 'nine', 'S3': 'ten', 'S4': 'eleven', 'corr': ' twelve', 'incorr': ' eleven', 'text': 'Queen done in eight. Ant done in nine. King done in ten. Tree done in eleven. Wheel done in'}, {'S1': 'one', 'S2': 'two', 'S3': 'three', 'S4': 'four', 'corr': ' five', 'incorr': ' four', 'text': 'King done in one. House done in two. Tree done in three. Car done in four. Queen done in'}, {'S1': 'two', 'S2': 'three', 'S3': 'four', 'S4': 'five', 'corr': ' six', 'incorr': ' five', 'text': 'Wind done in two. Apple done in three. Ant done in four. Hat done in five. Corn done in'}, {'S1': 'three', 'S2': 'four', 'S3': 'five', 'S4': 'six', 'corr': ' seven', 'incorr': ' six', 'text': 'Window done in three. Queen done in four. Ice done in five. House done in six. Moon done in'}, {'S1': 'four', 'S2': 'five', 'S3': 'six', 'S4': 'seven', 'corr': ' eight', 'incorr': ' seven', 'text': 'Jam done in four. Fire done in five. Mouse done in six. Gate done in seven. Ear done in'}, {'S1': 'five', 'S2': 'six', 'S3': 'seven', 'S4': 'eight', 'corr': ' nine', 'incorr': ' eight', 'text': 'Year done in five. Moon done in six. Oil done in seven. Star done in eight. Window done in'}, {'S1': 'six', 'S2': 'seven', 'S3': 'eight', 'S4': 'nine', 'corr': ' ten', 'incorr': ' nine', 'text': 'Tree done in six. Wall done in seven. Moon done in eight. Wolf done in nine. Ocean done in'}, {'S1': 'seven', 'S2': 'eight', 'S3': 'nine', 'S4': 'ten', 'corr': ' eleven', 'incorr': ' ten', 'text': 'Fan done in seven. Wheel done in eight. Apple done in nine. Bug done in ten. Van done in'}, {'S1': 'eight', 'S2': 'nine', 'S3': 'ten', 'S4': 'eleven', 'corr': ' twelve', 'incorr': ' eleven', 'text': 'Snake done in eight. Dog done in nine. Ring done in ten. Apple done in eleven. Bird done in'}, {'S1': 'one', 'S2': 'two', 'S3': 'three', 'S4': 'four', 'corr': ' five', 'incorr': ' four', 'text': 'Desk done in one. Clock done in two. Box done in three. Eye done in four. Nut done in'}, {'S1': 'two', 'S2': 'three', 'S3': 'four', 'S4': 'five', 'corr': ' six', 'incorr': ' five', 'text': 'Snake done in two. Key done in three. Ring done in four. Clock done in five. Road done in'}, {'S1': 'three', 'S2': 'four', 'S3': 'five', 'S4': 'six', 'corr': ' seven', 'incorr': ' six', 'text': 'House done in three. Jam done in four. Watch done in five. Chair done in six. Night done in'}, {'S1': 'four', 'S2': 'five', 'S3': 'six', 'S4': 'seven', 'corr': ' eight', 'incorr': ' seven', 'text': 'Fan done in four. Map done in five. Chair done in six. Tree done in seven. Nut done in'}, {'S1': 'five', 'S2': 'six', 'S3': 'seven', 'S4': 'eight', 'corr': ' nine', 'incorr': ' eight', 'text': 'Fan done in five. Clock done in six. Window done in seven. Flag done in eight. Snow done in'}, {'S1': 'six', 'S2': 'seven', 'S3': 'eight', 'S4': 'nine', 'corr': ' ten', 'incorr': ' nine', 'text': 'Wheel done in six. Box done in seven. Table done in eight. Desk done in nine. Rose done in'}, {'S1': 'seven', 'S2': 'eight', 'S3': 'nine', 'S4': 'ten', 'corr': ' eleven', 'incorr': ' ten', 'text': 'King done in seven. Apple done in eight. Snake done in nine. Rose done in ten. Jam done in'}, {'S1': 'eight', 'S2': 'nine', 'S3': 'ten', 'S4': 'eleven', 'corr': ' twelve', 'incorr': ' eleven', 'text': 'Ant done in eight. Night done in nine. Ring done in ten. Key done in eleven. Ax done in'}, {'S1': 'one', 'S2': 'two', 'S3': 'three', 'S4': 'four', 'corr': ' five', 'incorr': ' four', 'text': 'Flag done in one. Ball done in two. Train done in three. Table done in four. Pear done in'}, {'S1': 'two', 'S2': 'three', 'S3': 'four', 'S4': 'five', 'corr': ' six', 'incorr': ' five', 'text': 'Orange done in two. Sun done in three. Wallet done in four. Rose done in five. Watch done in'}, {'S1': 'three', 'S2': 'four', 'S3': 'five', 'S4': 'six', 'corr': ' seven', 'incorr': ' six', 'text': 'Queen done in three. Eye done in four. Ear done in five. Queen done in six. Jar done in'}, {'S1': 'four', 'S2': 'five', 'S3': 'six', 'S4': 'seven', 'corr': ' eight', 'incorr': ' seven', 'text': 'Tree done in four. Watch done in five. Iron done in six. Mouse done in seven. Van done in'}, {'S1': 'five', 'S2': 'six', 'S3': 'seven', 'S4': 'eight', 'corr': ' nine', 'incorr': ' eight', 'text': 'Tree done in five. Orange done in six. King done in seven. Ring done in eight. Ice done in'}, {'S1': 'six', 'S2': 'seven', 'S3': 'eight', 'S4': 'nine', 'corr': ' ten', 'incorr': ' nine', 'text': 'Fan done in six. Gold done in seven. Ocean done in eight. Snow done in nine. Wind done in'}, {'S1': 'seven', 'S2': 'eight', 'S3': 'nine', 'S4': 'ten', 'corr': ' eleven', 'incorr': ' ten', 'text': 'Nut done in seven. Wheel done in eight. Hand done in nine. Bug done in ten. Pear done in'}, {'S1': 'eight', 'S2': 'nine', 'S3': 'ten', 'S4': 'eleven', 'corr': ' twelve', 'incorr': ' eleven', 'text': 'Van done in eight. Sun done in nine. Tree done in ten. Ring done in eleven. Queen done in'}, {'S1': 'one', 'S2': 'two', 'S3': 'three', 'S4': 'four', 'corr': ' five', 'incorr': ' four', 'text': 'Night done in one. Wolf done in two. Van done in three. Fan done in four. Watch done in'}, {'S1': 'two', 'S2': 'three', 'S3': 'four', 'S4': 'five', 'corr': ' six', 'incorr': ' five', 'text': 'Key done in two. Table done in three. Snake done in four. Road done in five. Queen done in'}, {'S1': 'three', 'S2': 'four', 'S3': 'five', 'S4': 'six', 'corr': ' seven', 'incorr': ' six', 'text': 'Ice done in three. Gate done in four. Desk done in five. Sand done in six. Apple done in'}, {'S1': 'four', 'S2': 'five', 'S3': 'six', 'S4': 'seven', 'corr': ' eight', 'incorr': ' seven', 'text': 'Key done in four. Rain done in five. Ball done in six. Ax done in seven. Fan done in'}, {'S1': 'five', 'S2': 'six', 'S3': 'seven', 'S4': 'eight', 'corr': ' nine', 'incorr': ' eight', 'text': 'Camera done in five. Hill done in six. Moon done in seven. Car done in eight. Desk done in'}, {'S1': 'six', 'S2': 'seven', 'S3': 'eight', 'S4': 'nine', 'corr': ' ten', 'incorr': ' nine', 'text': 'Night done in six. Chair done in seven. Ice done in eight. Sun done in nine. Fish done in'}, {'S1': 'seven', 'S2': 'eight', 'S3': 'nine', 'S4': 'ten', 'corr': ' eleven', 'incorr': ' ten', 'text': 'Pear done in seven. King done in eight. Ball done in nine. Star done in ten. Road done in'}, {'S1': 'eight', 'S2': 'nine', 'S3': 'ten', 'S4': 'eleven', 'corr': ' twelve', 'incorr': ' eleven', 'text': 'Jar done in eight. Orange done in nine. Ring done in ten. Ball done in eleven. Desk done in'}, {'S1': 'one', 'S2': 'two', 'S3': 'three', 'S4': 'four', 'corr': ' five', 'incorr': ' four', 'text': 'Key done in one. Wind done in two. Camera done in three. Iron done in four. Rose done in'}, {'S1': 'two', 'S2': 'three', 'S3': 'four', 'S4': 'five', 'corr': ' six', 'incorr': ' five', 'text': 'Night done in two. Rain done in three. Cow done in four. Corn done in five. Fan done in'}, {'S1': 'three', 'S2': 'four', 'S3': 'five', 'S4': 'six', 'corr': ' seven', 'incorr': ' six', 'text': 'Gate done in three. Zip done in four. Ax done in five. Queen done in six. Glass done in'}, {'S1': 'four', 'S2': 'five', 'S3': 'six', 'S4': 'seven', 'corr': ' eight', 'incorr': ' seven', 'text': 'Star done in four. Ring done in five. Lake done in six. King done in seven. Hill done in'}, {'S1': 'five', 'S2': 'six', 'S3': 'seven', 'S4': 'eight', 'corr': ' nine', 'incorr': ' eight', 'text': 'Window done in five. Wolf done in six. Map done in seven. Wind done in eight. Ring done in'}, {'S1': 'six', 'S2': 'seven', 'S3': 'eight', 'S4': 'nine', 'corr': ' ten', 'incorr': ' nine', 'text': 'Year done in six. Flag done in seven. Wheel done in eight. Fish done in nine. Desk done in'}, {'S1': 'seven', 'S2': 'eight', 'S3': 'nine', 'S4': 'ten', 'corr': ' eleven', 'incorr': ' ten', 'text': 'Queen done in seven. Book done in eight. Hill done in nine. Fire done in ten. Tree done in'}, {'S1': 'eight', 'S2': 'nine', 'S3': 'ten', 'S4': 'eleven', 'corr': ' twelve', 'incorr': ' eleven', 'text': 'Watch done in eight. Fire done in nine. Desk done in ten. Snake done in eleven. Van done in'}, {'S1': 'one', 'S2': 'two', 'S3': 'three', 'S4': 'four', 'corr': ' five', 'incorr': ' four', 'text': 'Ocean done in one. Orange done in two. Year done in three. Hand done in four. Jam done in'}, {'S1': 'two', 'S2': 'three', 'S3': 'four', 'S4': 'five', 'corr': ' six', 'incorr': ' five', 'text': 'Moon done in two. Flag done in three. Pen done in four. Camera done in five. House done in'}, {'S1': 'three', 'S2': 'four', 'S3': 'five', 'S4': 'six', 'corr': ' seven', 'incorr': ' six', 'text': 'Night done in three. Ice done in four. Chair done in five. Hat done in six. Wheel done in'}, {'S1': 'four', 'S2': 'five', 'S3': 'six', 'S4': 'seven', 'corr': ' eight', 'incorr': ' seven', 'text': 'Rose done in four. Rat done in five. Car done in six. Fire done in seven. Snake done in'}, {'S1': 'five', 'S2': 'six', 'S3': 'seven', 'S4': 'eight', 'corr': ' nine', 'incorr': ' eight', 'text': 'Mouse done in five. Queen done in six. Ball done in seven. Apple done in eight. Rain done in'}, {'S1': 'six', 'S2': 'seven', 'S3': 'eight', 'S4': 'nine', 'corr': ' ten', 'incorr': ' nine', 'text': 'Apple done in six. Watch done in seven. Iron done in eight. Snow done in nine. Fan done in'}, {'S1': 'seven', 'S2': 'eight', 'S3': 'nine', 'S4': 'ten', 'corr': ' eleven', 'incorr': ' ten', 'text': 'Jar done in seven. Book done in eight. Gate done in nine. Clock done in ten. Ant done in'}, {'S1': 'eight', 'S2': 'nine', 'S3': 'ten', 'S4': 'eleven', 'corr': ' twelve', 'incorr': ' eleven', 'text': 'Fan done in eight. Year done in nine. Tree done in ten. Arm done in eleven. Cow done in'}, {'S1': 'one', 'S2': 'two', 'S3': 'three', 'S4': 'four', 'corr': ' five', 'incorr': ' four', 'text': 'Star done in one. Glass done in two. Dog done in three. Car done in four. Gold done in'}, {'S1': 'two', 'S2': 'three', 'S3': 'four', 'S4': 'five', 'corr': ' six', 'incorr': ' five', 'text': 'Queen done in two. Queen done in three. Ax done in four. House done in five. Desk done in'}, {'S1': 'three', 'S2': 'four', 'S3': 'five', 'S4': 'six', 'corr': ' seven', 'incorr': ' six', 'text': 'Fan done in three. King done in four. Book done in five. Hat done in six. Fan done in'}, {'S1': 'four', 'S2': 'five', 'S3': 'six', 'S4': 'seven', 'corr': ' eight', 'incorr': ' seven', 'text': 'Cat done in four. Gate done in five. Desk done in six. Queen done in seven. Wallet done in'}, {'S1': 'five', 'S2': 'six', 'S3': 'seven', 'S4': 'eight', 'corr': ' nine', 'incorr': ' eight', 'text': 'Wind done in five. Wolf done in six. Hill done in seven. Rose done in eight. Window done in'}, {'S1': 'six', 'S2': 'seven', 'S3': 'eight', 'S4': 'nine', 'corr': ' ten', 'incorr': ' nine', 'text': 'Corn done in six. Star done in seven. Eye done in eight. Watch done in nine. Snake done in'}, {'S1': 'seven', 'S2': 'eight', 'S3': 'nine', 'S4': 'ten', 'corr': ' eleven', 'incorr': ' ten', 'text': 'Ice done in seven. Pen done in eight. Desk done in nine. Gate done in ten. Table done in'}, {'S1': 'eight', 'S2': 'nine', 'S3': 'ten', 'S4': 'eleven', 'corr': ' twelve', 'incorr': ' eleven', 'text': 'Tree done in eight. Ax done in nine. Wallet done in ten. Orange done in eleven. Rose done in'}, {'S1': 'one', 'S2': 'two', 'S3': 'three', 'S4': 'four', 'corr': ' five', 'incorr': ' four', 'text': 'Orange done in one. Hand done in two. Apple done in three. Ring done in four. Window done in'}, {'S1': 'two', 'S2': 'three', 'S3': 'four', 'S4': 'five', 'corr': ' six', 'incorr': ' five', 'text': 'Fish done in two. Wall done in three. Pear done in four. Queen done in five. Ring done in'}, {'S1': 'three', 'S2': 'four', 'S3': 'five', 'S4': 'six', 'corr': ' seven', 'incorr': ' six', 'text': 'Wolf done in three. Table done in four. Tree done in five. Wall done in six. Rain done in'}, {'S1': 'four', 'S2': 'five', 'S3': 'six', 'S4': 'seven', 'corr': ' eight', 'incorr': ' seven', 'text': 'Tree done in four. Queen done in five. Hat done in six. Star done in seven. Apple done in'}, {'S1': 'five', 'S2': 'six', 'S3': 'seven', 'S4': 'eight', 'corr': ' nine', 'incorr': ' eight', 'text': 'Desk done in five. Tree done in six. Dog done in seven. Wheel done in eight. Ring done in'}, {'S1': 'six', 'S2': 'seven', 'S3': 'eight', 'S4': 'nine', 'corr': ' ten', 'incorr': ' nine', 'text': 'Desk done in six. Camera done in seven. King done in eight. Rat done in nine. Snow done in'}, {'S1': 'seven', 'S2': 'eight', 'S3': 'nine', 'S4': 'ten', 'corr': ' eleven', 'incorr': ' ten', 'text': 'Desk done in seven. Snow done in eight. Wallet done in nine. Queen done in ten. Pen done in'}, {'S1': 'eight', 'S2': 'nine', 'S3': 'ten', 'S4': 'eleven', 'corr': ' twelve', 'incorr': ' eleven', 'text': 'Clock done in eight. Light done in nine. Car done in ten. Iron done in eleven. Snake done in'}, {'S1': 'one', 'S2': 'two', 'S3': 'three', 'S4': 'four', 'corr': ' five', 'incorr': ' four', 'text': 'Ice done in one. Jam done in two. Wolf done in three. Window done in four. Ear done in'}, {'S1': 'two', 'S2': 'three', 'S3': 'four', 'S4': 'five', 'corr': ' six', 'incorr': ' five', 'text': 'Ocean done in two. Hat done in three. Pear done in four. King done in five. Key done in'}, {'S1': 'three', 'S2': 'four', 'S3': 'five', 'S4': 'six', 'corr': ' seven', 'incorr': ' six', 'text': 'Tree done in three. Camera done in four. Desk done in five. Light done in six. Window done in'}, {'S1': 'four', 'S2': 'five', 'S3': 'six', 'S4': 'seven', 'corr': ' eight', 'incorr': ' seven', 'text': 'Lake done in four. Camera done in five. Gate done in six. Ring done in seven. Arm done in'}, {'S1': 'five', 'S2': 'six', 'S3': 'seven', 'S4': 'eight', 'corr': ' nine', 'incorr': ' eight', 'text': 'Pen done in five. Key done in six. Car done in seven. Orange done in eight. Ice done in'}, {'S1': 'six', 'S2': 'seven', 'S3': 'eight', 'S4': 'nine', 'corr': ' ten', 'incorr': ' nine', 'text': 'Bird done in six. Key done in seven. Ring done in eight. Dog done in nine. Rose done in'}, {'S1': 'seven', 'S2': 'eight', 'S3': 'nine', 'S4': 'ten', 'corr': ' eleven', 'incorr': ' ten', 'text': 'Fan done in seven. Bug done in eight. Wallet done in nine. Car done in ten. Van done in'}, {'S1': 'eight', 'S2': 'nine', 'S3': 'ten', 'S4': 'eleven', 'corr': ' twelve', 'incorr': ' eleven', 'text': 'Star done in eight. House done in nine. Eye done in ten. Tree done in eleven. Jar done in'}, {'S1': 'one', 'S2': 'two', 'S3': 'three', 'S4': 'four', 'corr': ' five', 'incorr': ' four', 'text': 'Hat done in one. Wolf done in two. Wheel done in three. Queen done in four. Window done in'}, {'S1': 'two', 'S2': 'three', 'S3': 'four', 'S4': 'five', 'corr': ' six', 'incorr': ' five', 'text': 'Orange done in two. Rain done in three. Fire done in four. Light done in five. Ring done in'}, {'S1': 'three', 'S2': 'four', 'S3': 'five', 'S4': 'six', 'corr': ' seven', 'incorr': ' six', 'text': 'Map done in three. Sand done in four. Apple done in five. Fish done in six. Zip done in'}, {'S1': 'four', 'S2': 'five', 'S3': 'six', 'S4': 'seven', 'corr': ' eight', 'incorr': ' seven', 'text': 'Sun done in four. Ring done in five. Orange done in six. Jam done in seven. Van done in'}, {'S1': 'five', 'S2': 'six', 'S3': 'seven', 'S4': 'eight', 'corr': ' nine', 'incorr': ' eight', 'text': 'Hill done in five. Tree done in six. Wind done in seven. Camera done in eight. Wall done in'}, {'S1': 'six', 'S2': 'seven', 'S3': 'eight', 'S4': 'nine', 'corr': ' ten', 'incorr': ' nine', 'text': 'Wind done in six. Wall done in seven. Key done in eight. Eye done in nine. Camera done in'}, {'S1': 'seven', 'S2': 'eight', 'S3': 'nine', 'S4': 'ten', 'corr': ' eleven', 'incorr': ' ten', 'text': 'Sand done in seven. Queen done in eight. Window done in nine. Bird done in ten. Iron done in'}, {'S1': 'eight', 'S2': 'nine', 'S3': 'ten', 'S4': 'eleven', 'corr': ' twelve', 'incorr': ' eleven', 'text': 'Mouse done in eight. Desk done in nine. Tree done in ten. Camera done in eleven. Sand done in'}, {'S1': 'one', 'S2': 'two', 'S3': 'three', 'S4': 'four', 'corr': ' five', 'incorr': ' four', 'text': 'Fan done in one. Moon done in two. Hat done in three. Desk done in four. Wall done in'}, {'S1': 'two', 'S2': 'three', 'S3': 'four', 'S4': 'five', 'corr': ' six', 'incorr': ' five', 'text': 'Camera done in two. Nut done in three. Arm done in four. Night done in five. Oil done in'}, {'S1': 'three', 'S2': 'four', 'S3': 'five', 'S4': 'six', 'corr': ' seven', 'incorr': ' six', 'text': 'Bird done in three. Hand done in four. Light done in five. Orange done in six. Dog done in'}, {'S1': 'four', 'S2': 'five', 'S3': 'six', 'S4': 'seven', 'corr': ' eight', 'incorr': ' seven', 'text': 'Oil done in four. Bug done in five. Ice done in six. Tree done in seven. Jar done in'}, {'S1': 'five', 'S2': 'six', 'S3': 'seven', 'S4': 'eight', 'corr': ' nine', 'incorr': ' eight', 'text': 'Nut done in five. Snake done in six. Fire done in seven. Zip done in eight. Queen done in'}, {'S1': 'six', 'S2': 'seven', 'S3': 'eight', 'S4': 'nine', 'corr': ' ten', 'incorr': ' nine', 'text': 'Fish done in six. Desk done in seven. Snow done in eight. Tree done in nine. Cow done in'}, {'S1': 'seven', 'S2': 'eight', 'S3': 'nine', 'S4': 'ten', 'corr': ' eleven', 'incorr': ' ten', 'text': 'Apple done in seven. Map done in eight. Ant done in nine. Light done in ten. King done in'}, {'S1': 'eight', 'S2': 'nine', 'S3': 'ten', 'S4': 'eleven', 'corr': ' twelve', 'incorr': ' eleven', 'text': 'Lake done in eight. Ring done in nine. Snow done in ten. Star done in eleven. Table done in'}, {'S1': 'one', 'S2': 'two', 'S3': 'three', 'S4': 'four', 'corr': ' five', 'incorr': ' four', 'text': 'Ant done in one. Car done in two. Hill done in three. Rat done in four. Bug done in'}, {'S1': 'two', 'S2': 'three', 'S3': 'four', 'S4': 'five', 'corr': ' six', 'incorr': ' five', 'text': 'Pen done in two. Fan done in three. Pear done in four. Fire done in five. Mouse done in'}, {'S1': 'three', 'S2': 'four', 'S3': 'five', 'S4': 'six', 'corr': ' seven', 'incorr': ' six', 'text': 'Snow done in three. Wind done in four. Window done in five. Ring done in six. Lake done in'}, {'S1': 'four', 'S2': 'five', 'S3': 'six', 'S4': 'seven', 'corr': ' eight', 'incorr': ' seven', 'text': 'Wallet done in four. Ant done in five. Eye done in six. Ball done in seven. Nut done in'}, {'S1': 'five', 'S2': 'six', 'S3': 'seven', 'S4': 'eight', 'corr': ' nine', 'incorr': ' eight', 'text': 'Window done in five. Orange done in six. Nut done in seven. Wheel done in eight. Fan done in'}, {'S1': 'six', 'S2': 'seven', 'S3': 'eight', 'S4': 'nine', 'corr': ' ten', 'incorr': ' nine', 'text': 'Tree done in six. Fire done in seven. Flag done in eight. Box done in nine. Fish done in'}, {'S1': 'seven', 'S2': 'eight', 'S3': 'nine', 'S4': 'ten', 'corr': ' eleven', 'incorr': ' ten', 'text': 'Wolf done in seven. Road done in eight. Van done in nine. Jam done in ten. Zip done in'}, {'S1': 'eight', 'S2': 'nine', 'S3': 'ten', 'S4': 'eleven', 'corr': ' twelve', 'incorr': ' eleven', 'text': 'Ring done in eight. Tree done in nine. Fan done in ten. Clock done in eleven. Lake done in'}, {'S1': 'one', 'S2': 'two', 'S3': 'three', 'S4': 'four', 'corr': ' five', 'incorr': ' four', 'text': 'Pen done in one. Key done in two. Star done in three. Tree done in four. Moon done in'}, {'S1': 'two', 'S2': 'three', 'S3': 'four', 'S4': 'five', 'corr': ' six', 'incorr': ' five', 'text': 'Ant done in two. Watch done in three. Apple done in four. Tree done in five. Ax done in'}, {'S1': 'three', 'S2': 'four', 'S3': 'five', 'S4': 'six', 'corr': ' seven', 'incorr': ' six', 'text': 'Car done in three. Ring done in four. Oil done in five. Van done in six. Nut done in'}, {'S1': 'four', 'S2': 'five', 'S3': 'six', 'S4': 'seven', 'corr': ' eight', 'incorr': ' seven', 'text': 'Chair done in four. Wallet done in five. Eye done in six. Nut done in seven. Flag done in'}, {'S1': 'five', 'S2': 'six', 'S3': 'seven', 'S4': 'eight', 'corr': ' nine', 'incorr': ' eight', 'text': 'Fan done in five. Corn done in six. Desk done in seven. Train done in eight. Desk done in'}, {'S1': 'six', 'S2': 'seven', 'S3': 'eight', 'S4': 'nine', 'corr': ' ten', 'incorr': ' nine', 'text': 'Hand done in six. Bug done in seven. Nut done in eight. Hat done in nine. Wallet done in'}, {'S1': 'seven', 'S2': 'eight', 'S3': 'nine', 'S4': 'ten', 'corr': ' eleven', 'incorr': ' ten', 'text': 'Pear done in seven. Key done in eight. Wallet done in nine. Dog done in ten. Clock done in'}, {'S1': 'eight', 'S2': 'nine', 'S3': 'ten', 'S4': 'eleven', 'corr': ' twelve', 'incorr': ' eleven', 'text': 'Glass done in eight. Ball done in nine. Desk done in ten. Lake done in eleven. Night done in'}, {'S1': 'one', 'S2': 'two', 'S3': 'three', 'S4': 'four', 'corr': ' five', 'incorr': ' four', 'text': 'Pen done in one. Desk done in two. Hand done in three. Wolf done in four. Wallet done in'}, {'S1': 'two', 'S2': 'three', 'S3': 'four', 'S4': 'five', 'corr': ' six', 'incorr': ' five', 'text': 'Fish done in two. Tree done in three. Fan done in four. Ice done in five. Gold done in'}, {'S1': 'three', 'S2': 'four', 'S3': 'five', 'S4': 'six', 'corr': ' seven', 'incorr': ' six', 'text': 'Watch done in three. Star done in four. Nut done in five. Ball done in six. Desk done in'}, {'S1': 'four', 'S2': 'five', 'S3': 'six', 'S4': 'seven', 'corr': ' eight', 'incorr': ' seven', 'text': 'Cow done in four. Rat done in five. Road done in six. Flag done in seven. Van done in'}, {'S1': 'five', 'S2': 'six', 'S3': 'seven', 'S4': 'eight', 'corr': ' nine', 'incorr': ' eight', 'text': 'Ear done in five. Year done in six. Ice done in seven. Glass done in eight. Corn done in'}, {'S1': 'six', 'S2': 'seven', 'S3': 'eight', 'S4': 'nine', 'corr': ' ten', 'incorr': ' nine', 'text': 'Rain done in six. Fan done in seven. Train done in eight. Box done in nine. Orange done in'}, {'S1': 'seven', 'S2': 'eight', 'S3': 'nine', 'S4': 'ten', 'corr': ' eleven', 'incorr': ' ten', 'text': 'Chair done in seven. Desk done in eight. Car done in nine. Jar done in ten. Jam done in'}, {'S1': 'eight', 'S2': 'nine', 'S3': 'ten', 'S4': 'eleven', 'corr': ' twelve', 'incorr': ' eleven', 'text': 'Fan done in eight. Lake done in nine. Window done in ten. Van done in eleven. House done in'}, {'S1': 'one', 'S2': 'two', 'S3': 'three', 'S4': 'four', 'corr': ' five', 'incorr': ' four', 'text': 'Star done in one. Rain done in two. Desk done in three. Moon done in four. Corn done in'}, {'S1': 'two', 'S2': 'three', 'S3': 'four', 'S4': 'five', 'corr': ' six', 'incorr': ' five', 'text': 'Hill done in two. Cow done in three. Glass done in four. Orange done in five. Ball done in'}, {'S1': 'three', 'S2': 'four', 'S3': 'five', 'S4': 'six', 'corr': ' seven', 'incorr': ' six', 'text': 'Nut done in three. Corn done in four. Ring done in five. Zip done in six. Fish done in'}, {'S1': 'four', 'S2': 'five', 'S3': 'six', 'S4': 'seven', 'corr': ' eight', 'incorr': ' seven', 'text': 'Ball done in four. Wall done in five. Cat done in six. Box done in seven. Ear done in'}, {'S1': 'five', 'S2': 'six', 'S3': 'seven', 'S4': 'eight', 'corr': ' nine', 'incorr': ' eight', 'text': 'Moon done in five. Queen done in six. Pen done in seven. Lake done in eight. Hand done in'}, {'S1': 'six', 'S2': 'seven', 'S3': 'eight', 'S4': 'nine', 'corr': ' ten', 'incorr': ' nine', 'text': 'House done in six. Wall done in seven. Pear done in eight. Ball done in nine. Star done in'}, {'S1': 'seven', 'S2': 'eight', 'S3': 'nine', 'S4': 'ten', 'corr': ' eleven', 'incorr': ' ten', 'text': 'Zip done in seven. House done in eight. Van done in nine. Bug done in ten. Ice done in'}, {'S1': 'eight', 'S2': 'nine', 'S3': 'ten', 'S4': 'eleven', 'corr': ' twelve', 'incorr': ' eleven', 'text': 'Nut done in eight. Desk done in nine. Cat done in ten. Pear done in eleven. Dog done in'}, {'S1': 'one', 'S2': 'two', 'S3': 'three', 'S4': 'four', 'corr': ' five', 'incorr': ' four', 'text': 'Queen done in one. Ring done in two. Glass done in three. Nut done in four. Flag done in'}, {'S1': 'two', 'S2': 'three', 'S3': 'four', 'S4': 'five', 'corr': ' six', 'incorr': ' five', 'text': 'Ball done in two. Arm done in three. Pen done in four. Fan done in five. Camera done in'}, {'S1': 'three', 'S2': 'four', 'S3': 'five', 'S4': 'six', 'corr': ' seven', 'incorr': ' six', 'text': 'Light done in three. Fire done in four. Desk done in five. Dog done in six. Camera done in'}, {'S1': 'four', 'S2': 'five', 'S3': 'six', 'S4': 'seven', 'corr': ' eight', 'incorr': ' seven', 'text': 'Ant done in four. Cow done in five. Car done in six. Cat done in seven. Arm done in'}, {'S1': 'five', 'S2': 'six', 'S3': 'seven', 'S4': 'eight', 'corr': ' nine', 'incorr': ' eight', 'text': 'Box done in five. Orange done in six. Tree done in seven. Ax done in eight. Glass done in'}, {'S1': 'six', 'S2': 'seven', 'S3': 'eight', 'S4': 'nine', 'corr': ' ten', 'incorr': ' nine', 'text': 'Jam done in six. Hat done in seven. Nut done in eight. House done in nine. Cat done in'}, {'S1': 'seven', 'S2': 'eight', 'S3': 'nine', 'S4': 'ten', 'corr': ' eleven', 'incorr': ' ten', 'text': 'Hat done in seven. Hill done in eight. Fan done in nine. Queen done in ten. Ear done in'}, {'S1': 'eight', 'S2': 'nine', 'S3': 'ten', 'S4': 'eleven', 'corr': ' twelve', 'incorr': ' eleven', 'text': 'Nut done in eight. Fish done in nine. Orange done in ten. Desk done in eleven. Wallet done in'}, {'S1': 'one', 'S2': 'two', 'S3': 'three', 'S4': 'four', 'corr': ' five', 'incorr': ' four', 'text': 'Wallet done in one. Apple done in two. Corn done in three. Van done in four. Fire done in'}, {'S1': 'two', 'S2': 'three', 'S3': 'four', 'S4': 'five', 'corr': ' six', 'incorr': ' five', 'text': 'Flag done in two. Rose done in three. Oil done in four. House done in five. Sand done in'}, {'S1': 'three', 'S2': 'four', 'S3': 'five', 'S4': 'six', 'corr': ' seven', 'incorr': ' six', 'text': 'Ball done in three. Wheel done in four. Fan done in five. Rain done in six. Clock done in'}, {'S1': 'four', 'S2': 'five', 'S3': 'six', 'S4': 'seven', 'corr': ' eight', 'incorr': ' seven', 'text': 'Corn done in four. Window done in five. Desk done in six. Ball done in seven. Watch done in'}, {'S1': 'five', 'S2': 'six', 'S3': 'seven', 'S4': 'eight', 'corr': ' nine', 'incorr': ' eight', 'text': 'Zip done in five. Sand done in six. Ring done in seven. Rose done in eight. Pear done in'}, {'S1': 'six', 'S2': 'seven', 'S3': 'eight', 'S4': 'nine', 'corr': ' ten', 'incorr': ' nine', 'text': 'Tree done in six. Ball done in seven. Wallet done in eight. Tree done in nine. Apple done in'}, {'S1': 'seven', 'S2': 'eight', 'S3': 'nine', 'S4': 'ten', 'corr': ' eleven', 'incorr': ' ten', 'text': 'Mouse done in seven. Hat done in eight. Key done in nine. Window done in ten. Iron done in'}, {'S1': 'eight', 'S2': 'nine', 'S3': 'ten', 'S4': 'eleven', 'corr': ' twelve', 'incorr': ' eleven', 'text': 'Hand done in eight. Camera done in nine. Tree done in ten. House done in eleven. Cat done in'}, {'S1': 'one', 'S2': 'two', 'S3': 'three', 'S4': 'four', 'corr': ' five', 'incorr': ' four', 'text': 'Car done in one. Star done in two. Light done in three. House done in four. Ice done in'}, {'S1': 'two', 'S2': 'three', 'S3': 'four', 'S4': 'five', 'corr': ' six', 'incorr': ' five', 'text': 'Corn done in two. Rose done in three. Bird done in four. Mouse done in five. Eye done in'}, {'S1': 'three', 'S2': 'four', 'S3': 'five', 'S4': 'six', 'corr': ' seven', 'incorr': ' six', 'text': 'Wheel done in three. Ring done in four. Orange done in five. Orange done in six. Camera done in'}, {'S1': 'four', 'S2': 'five', 'S3': 'six', 'S4': 'seven', 'corr': ' eight', 'incorr': ' seven', 'text': 'Gate done in four. Ring done in five. Wall done in six. Bird done in seven. Hand done in'}, {'S1': 'five', 'S2': 'six', 'S3': 'seven', 'S4': 'eight', 'corr': ' nine', 'incorr': ' eight', 'text': 'Ax done in five. Rose done in six. House done in seven. Map done in eight. Moon done in'}, {'S1': 'six', 'S2': 'seven', 'S3': 'eight', 'S4': 'nine', 'corr': ' ten', 'incorr': ' nine', 'text': 'Snake done in six. Fan done in seven. Wolf done in eight. Rain done in nine. Snow done in'}, {'S1': 'seven', 'S2': 'eight', 'S3': 'nine', 'S4': 'ten', 'corr': ' eleven', 'incorr': ' ten', 'text': 'Sand done in seven. Nut done in eight. Queen done in nine. Nut done in ten. Arm done in'}, {'S1': 'eight', 'S2': 'nine', 'S3': 'ten', 'S4': 'eleven', 'corr': ' twelve', 'incorr': ' eleven', 'text': 'Van done in eight. Ball done in nine. Clock done in ten. Fire done in eleven. Apple done in'}, {'S1': 'one', 'S2': 'two', 'S3': 'three', 'S4': 'four', 'corr': ' five', 'incorr': ' four', 'text': 'Road done in one. Wallet done in two. Flag done in three. Window done in four. Rain done in'}, {'S1': 'two', 'S2': 'three', 'S3': 'four', 'S4': 'five', 'corr': ' six', 'incorr': ' five', 'text': 'Rose done in two. Sun done in three. Fan done in four. Dog done in five. Iron done in'}, {'S1': 'three', 'S2': 'four', 'S3': 'five', 'S4': 'six', 'corr': ' seven', 'incorr': ' six', 'text': 'Wallet done in three. Flag done in four. Cow done in five. Corn done in six. Key done in'}, {'S1': 'four', 'S2': 'five', 'S3': 'six', 'S4': 'seven', 'corr': ' eight', 'incorr': ' seven', 'text': 'Sand done in four. Eye done in five. Fan done in six. Box done in seven. Ice done in'}, {'S1': 'five', 'S2': 'six', 'S3': 'seven', 'S4': 'eight', 'corr': ' nine', 'incorr': ' eight', 'text': 'Hat done in five. Fan done in six. Apple done in seven. Cat done in eight. Book done in'}, {'S1': 'six', 'S2': 'seven', 'S3': 'eight', 'S4': 'nine', 'corr': ' ten', 'incorr': ' nine', 'text': 'Hat done in six. Apple done in seven. Camera done in eight. Ice done in nine. Hat done in'}, {'S1': 'seven', 'S2': 'eight', 'S3': 'nine', 'S4': 'ten', 'corr': ' eleven', 'incorr': ' ten', 'text': 'Car done in seven. Ball done in eight. Pen done in nine. Van done in ten. Gold done in'}, {'S1': 'eight', 'S2': 'nine', 'S3': 'ten', 'S4': 'eleven', 'corr': ' twelve', 'incorr': ' eleven', 'text': 'Dog done in eight. Hill done in nine. Train done in ten. Car done in eleven. Hat done in'}, {'S1': 'one', 'S2': 'two', 'S3': 'three', 'S4': 'four', 'corr': ' five', 'incorr': ' four', 'text': 'Fan done in one. Road done in two. Ball done in three. Ring done in four. Star done in'}, {'S1': 'two', 'S2': 'three', 'S3': 'four', 'S4': 'five', 'corr': ' six', 'incorr': ' five', 'text': 'Flag done in two. Fan done in three. Apple done in four. Watch done in five. Tree done in'}, {'S1': 'three', 'S2': 'four', 'S3': 'five', 'S4': 'six', 'corr': ' seven', 'incorr': ' six', 'text': 'Clock done in three. Ear done in four. Pen done in five. House done in six. Watch done in'}, {'S1': 'four', 'S2': 'five', 'S3': 'six', 'S4': 'seven', 'corr': ' eight', 'incorr': ' seven', 'text': 'Orange done in four. Sun done in five. Mouse done in six. Desk done in seven. Ant done in'}, {'S1': 'five', 'S2': 'six', 'S3': 'seven', 'S4': 'eight', 'corr': ' nine', 'incorr': ' eight', 'text': 'Rose done in five. House done in six. Rose done in seven. Watch done in eight. Window done in'}, {'S1': 'six', 'S2': 'seven', 'S3': 'eight', 'S4': 'nine', 'corr': ' ten', 'incorr': ' nine', 'text': 'Camera done in six. Map done in seven. Hat done in eight. Oil done in nine. Sun done in'}, {'S1': 'seven', 'S2': 'eight', 'S3': 'nine', 'S4': 'ten', 'corr': ' eleven', 'incorr': ' ten', 'text': 'Queen done in seven. Ice done in eight. Train done in nine. Ax done in ten. Key done in'}, {'S1': 'eight', 'S2': 'nine', 'S3': 'ten', 'S4': 'eleven', 'corr': ' twelve', 'incorr': ' eleven', 'text': 'Moon done in eight. Queen done in nine. Ring done in ten. Train done in eleven. Wheel done in'}, {'S1': 'one', 'S2': 'two', 'S3': 'three', 'S4': 'four', 'corr': ' five', 'incorr': ' four', 'text': 'Box done in one. Queen done in two. Star done in three. Light done in four. Watch done in'}, {'S1': 'two', 'S2': 'three', 'S3': 'four', 'S4': 'five', 'corr': ' six', 'incorr': ' five', 'text': 'Van done in two. Pen done in three. Wallet done in four. Map done in five. Year done in'}, {'S1': 'three', 'S2': 'four', 'S3': 'five', 'S4': 'six', 'corr': ' seven', 'incorr': ' six', 'text': 'Fire done in three. Fan done in four. Desk done in five. Nut done in six. Moon done in'}, {'S1': 'four', 'S2': 'five', 'S3': 'six', 'S4': 'seven', 'corr': ' eight', 'incorr': ' seven', 'text': 'Tree done in four. Wall done in five. Jar done in six. Key done in seven. Rat done in'}, {'S1': 'five', 'S2': 'six', 'S3': 'seven', 'S4': 'eight', 'corr': ' nine', 'incorr': ' eight', 'text': 'Oil done in five. Queen done in six. Queen done in seven. Snow done in eight. Flag done in'}, {'S1': 'six', 'S2': 'seven', 'S3': 'eight', 'S4': 'nine', 'corr': ' ten', 'incorr': ' nine', 'text': 'Clock done in six. Desk done in seven. Corn done in eight. Watch done in nine. Orange done in'}, {'S1': 'seven', 'S2': 'eight', 'S3': 'nine', 'S4': 'ten', 'corr': ' eleven', 'incorr': ' ten', 'text': 'Night done in seven. Year done in eight. Queen done in nine. Ax done in ten. Window done in'}, {'S1': 'eight', 'S2': 'nine', 'S3': 'ten', 'S4': 'eleven', 'corr': ' twelve', 'incorr': ' eleven', 'text': 'Rain done in eight. Star done in nine. Tree done in ten. Queen done in eleven. Bug done in'}, {'S1': 'one', 'S2': 'two', 'S3': 'three', 'S4': 'four', 'corr': ' five', 'incorr': ' four', 'text': 'Mouse done in one. Orange done in two. Box done in three. Zip done in four. Fish done in'}, {'S1': 'two', 'S2': 'three', 'S3': 'four', 'S4': 'five', 'corr': ' six', 'incorr': ' five', 'text': 'Jam done in two. Sun done in three. Gate done in four. Moon done in five. Ring done in'}, {'S1': 'three', 'S2': 'four', 'S3': 'five', 'S4': 'six', 'corr': ' seven', 'incorr': ' six', 'text': 'Apple done in three. House done in four. Queen done in five. Year done in six. Snow done in'}, {'S1': 'four', 'S2': 'five', 'S3': 'six', 'S4': 'seven', 'corr': ' eight', 'incorr': ' seven', 'text': 'Ant done in four. Gate done in five. Nut done in six. Watch done in seven. Ball done in'}, {'S1': 'five', 'S2': 'six', 'S3': 'seven', 'S4': 'eight', 'corr': ' nine', 'incorr': ' eight', 'text': 'Sand done in five. Wind done in six. Chair done in seven. Orange done in eight. Cat done in'}, {'S1': 'six', 'S2': 'seven', 'S3': 'eight', 'S4': 'nine', 'corr': ' ten', 'incorr': ' nine', 'text': 'Ring done in six. Lake done in seven. Queen done in eight. Nut done in nine. Tree done in'}, {'S1': 'seven', 'S2': 'eight', 'S3': 'nine', 'S4': 'ten', 'corr': ' eleven', 'incorr': ' ten', 'text': 'Wall done in seven. Ring done in eight. Ring done in nine. Ax done in ten. Fish done in'}, {'S1': 'eight', 'S2': 'nine', 'S3': 'ten', 'S4': 'eleven', 'corr': ' twelve', 'incorr': ' eleven', 'text': 'King done in eight. Fire done in nine. Hat done in ten. Zip done in eleven. Queen done in'}, {'S1': 'one', 'S2': 'two', 'S3': 'three', 'S4': 'four', 'corr': ' five', 'incorr': ' four', 'text': 'Key done in one. Wall done in two. Table done in three. House done in four. Sun done in'}, {'S1': 'two', 'S2': 'three', 'S3': 'four', 'S4': 'five', 'corr': ' six', 'incorr': ' five', 'text': 'Oil done in two. Queen done in three. Jam done in four. Wind done in five. Cow done in'}, {'S1': 'three', 'S2': 'four', 'S3': 'five', 'S4': 'six', 'corr': ' seven', 'incorr': ' six', 'text': 'Tree done in three. Bug done in four. Star done in five. Key done in six. Ball done in'}, {'S1': 'four', 'S2': 'five', 'S3': 'six', 'S4': 'seven', 'corr': ' eight', 'incorr': ' seven', 'text': 'Book done in four. Queen done in five. Snake done in six. Glass done in seven. Tree done in'}, {'S1': 'five', 'S2': 'six', 'S3': 'seven', 'S4': 'eight', 'corr': ' nine', 'incorr': ' eight', 'text': 'Key done in five. Orange done in six. Ball done in seven. Desk done in eight. Star done in'}, {'S1': 'six', 'S2': 'seven', 'S3': 'eight', 'S4': 'nine', 'corr': ' ten', 'incorr': ' nine', 'text': 'Ball done in six. Tree done in seven. Moon done in eight. Rat done in nine. Clock done in'}, {'S1': 'seven', 'S2': 'eight', 'S3': 'nine', 'S4': 'ten', 'corr': ' eleven', 'incorr': ' ten', 'text': 'Snake done in seven. Hand done in eight. Ball done in nine. Rose done in ten. Ice done in'}, {'S1': 'eight', 'S2': 'nine', 'S3': 'ten', 'S4': 'eleven', 'corr': ' twelve', 'incorr': ' eleven', 'text': 'Ring done in eight. Sun done in nine. Wallet done in ten. Queen done in eleven. Light done in'}, {'S1': 'one', 'S2': 'two', 'S3': 'three', 'S4': 'four', 'corr': ' five', 'incorr': ' four', 'text': 'Hat done in one. Jar done in two. Apple done in three. Fire done in four. Van done in'}, {'S1': 'two', 'S2': 'three', 'S3': 'four', 'S4': 'five', 'corr': ' six', 'incorr': ' five', 'text': 'Clock done in two. Oil done in three. Glass done in four. Ring done in five. Nut done in'}, {'S1': 'three', 'S2': 'four', 'S3': 'five', 'S4': 'six', 'corr': ' seven', 'incorr': ' six', 'text': 'Mouse done in three. Oil done in four. Chair done in five. Iron done in six. Window done in'}, {'S1': 'four', 'S2': 'five', 'S3': 'six', 'S4': 'seven', 'corr': ' eight', 'incorr': ' seven', 'text': 'Snow done in four. Flag done in five. Iron done in six. Apple done in seven. Nut done in'}, {'S1': 'five', 'S2': 'six', 'S3': 'seven', 'S4': 'eight', 'corr': ' nine', 'incorr': ' eight', 'text': 'Camera done in five. Night done in six. Tree done in seven. Ax done in eight. Ball done in'}, {'S1': 'six', 'S2': 'seven', 'S3': 'eight', 'S4': 'nine', 'corr': ' ten', 'incorr': ' nine', 'text': 'Road done in six. King done in seven. Oil done in eight. Wallet done in nine. Flag done in'}, {'S1': 'seven', 'S2': 'eight', 'S3': 'nine', 'S4': 'ten', 'corr': ' eleven', 'incorr': ' ten', 'text': 'Fan done in seven. Fish done in eight. Desk done in nine. Night done in ten. Watch done in'}, {'S1': 'eight', 'S2': 'nine', 'S3': 'ten', 'S4': 'eleven', 'corr': ' twelve', 'incorr': ' eleven', 'text': 'Gold done in eight. Train done in nine. Camera done in ten. Bug done in eleven. Light done in'}, {'S1': 'one', 'S2': 'two', 'S3': 'three', 'S4': 'four', 'corr': ' five', 'incorr': ' four', 'text': 'Fan done in one. Apple done in two. Wallet done in three. Watch done in four. Orange done in'}, {'S1': 'two', 'S2': 'three', 'S3': 'four', 'S4': 'five', 'corr': ' six', 'incorr': ' five', 'text': 'Ant done in two. Hill done in three. Oil done in four. Train done in five. Wolf done in'}, {'S1': 'three', 'S2': 'four', 'S3': 'five', 'S4': 'six', 'corr': ' seven', 'incorr': ' six', 'text': 'Queen done in three. Light done in four. Hill done in five. Wolf done in six. Year done in'}, {'S1': 'four', 'S2': 'five', 'S3': 'six', 'S4': 'seven', 'corr': ' eight', 'incorr': ' seven', 'text': 'Clock done in four. Table done in five. Tree done in six. Key done in seven. Tree done in'}, {'S1': 'five', 'S2': 'six', 'S3': 'seven', 'S4': 'eight', 'corr': ' nine', 'incorr': ' eight', 'text': 'Night done in five. Rain done in six. Ring done in seven. Key done in eight. Oil done in'}, {'S1': 'six', 'S2': 'seven', 'S3': 'eight', 'S4': 'nine', 'corr': ' ten', 'incorr': ' nine', 'text': 'Watch done in six. Star done in seven. Nut done in eight. Book done in nine. Rose done in'}, {'S1': 'seven', 'S2': 'eight', 'S3': 'nine', 'S4': 'ten', 'corr': ' eleven', 'incorr': ' ten', 'text': 'Table done in seven. Sand done in eight. Key done in nine. Window done in ten. Sun done in'}, {'S1': 'eight', 'S2': 'nine', 'S3': 'ten', 'S4': 'eleven', 'corr': ' twelve', 'incorr': ' eleven', 'text': 'Rose done in eight. Arm done in nine. Ax done in ten. Wallet done in eleven. Train done in'}, {'S1': 'one', 'S2': 'two', 'S3': 'three', 'S4': 'four', 'corr': ' five', 'incorr': ' four', 'text': 'Zip done in one. Mouse done in two. Book done in three. Bug done in four. Watch done in'}, {'S1': 'two', 'S2': 'three', 'S3': 'four', 'S4': 'five', 'corr': ' six', 'incorr': ' five', 'text': 'Ice done in two. Oil done in three. Table done in four. Rose done in five. Tree done in'}, {'S1': 'three', 'S2': 'four', 'S3': 'five', 'S4': 'six', 'corr': ' seven', 'incorr': ' six', 'text': 'Chair done in three. Apple done in four. Car done in five. Key done in six. Wall done in'}, {'S1': 'four', 'S2': 'five', 'S3': 'six', 'S4': 'seven', 'corr': ' eight', 'incorr': ' seven', 'text': 'Cat done in four. Wolf done in five. Camera done in six. Jam done in seven. Sun done in'}, {'S1': 'five', 'S2': 'six', 'S3': 'seven', 'S4': 'eight', 'corr': ' nine', 'incorr': ' eight', 'text': 'Orange done in five. Ice done in six. Bug done in seven. Flag done in eight. Night done in'}, {'S1': 'six', 'S2': 'seven', 'S3': 'eight', 'S4': 'nine', 'corr': ' ten', 'incorr': ' nine', 'text': 'Ring done in six. Cat done in seven. Ball done in eight. House done in nine. Sand done in'}, {'S1': 'seven', 'S2': 'eight', 'S3': 'nine', 'S4': 'ten', 'corr': ' eleven', 'incorr': ' ten', 'text': 'Wolf done in seven. Gate done in eight. Nut done in nine. Snake done in ten. Tree done in'}, {'S1': 'eight', 'S2': 'nine', 'S3': 'ten', 'S4': 'eleven', 'corr': ' twelve', 'incorr': ' eleven', 'text': 'Queen done in eight. Rat done in nine. Ocean done in ten. Map done in eleven. Fan done in'}, {'S1': 'one', 'S2': 'two', 'S3': 'three', 'S4': 'four', 'corr': ' five', 'incorr': ' four', 'text': 'Hat done in one. Cow done in two. Star done in three. Gate done in four. Desk done in'}, {'S1': 'two', 'S2': 'three', 'S3': 'four', 'S4': 'five', 'corr': ' six', 'incorr': ' five', 'text': 'Ax done in two. Camera done in three. Year done in four. House done in five. Desk done in'}, {'S1': 'three', 'S2': 'four', 'S3': 'five', 'S4': 'six', 'corr': ' seven', 'incorr': ' six', 'text': 'Mouse done in three. Pen done in four. Iron done in five. House done in six. Van done in'}, {'S1': 'four', 'S2': 'five', 'S3': 'six', 'S4': 'seven', 'corr': ' eight', 'incorr': ' seven', 'text': 'Camera done in four. Ball done in five. Ocean done in six. Window done in seven. Eye done in'}, {'S1': 'five', 'S2': 'six', 'S3': 'seven', 'S4': 'eight', 'corr': ' nine', 'incorr': ' eight', 'text': 'Gold done in five. Iron done in six. Tree done in seven. Zip done in eight. Cat done in'}, {'S1': 'six', 'S2': 'seven', 'S3': 'eight', 'S4': 'nine', 'corr': ' ten', 'incorr': ' nine', 'text': 'Ring done in six. Apple done in seven. Van done in eight. House done in nine. Ball done in'}, {'S1': 'seven', 'S2': 'eight', 'S3': 'nine', 'S4': 'ten', 'corr': ' eleven', 'incorr': ' ten', 'text': 'Ax done in seven. Queen done in eight. Orange done in nine. Van done in ten. Snake done in'}, {'S1': 'eight', 'S2': 'nine', 'S3': 'ten', 'S4': 'eleven', 'corr': ' twelve', 'incorr': ' eleven', 'text': 'Desk done in eight. Wind done in nine. Hat done in ten. Book done in eleven. Rose done in'}, {'S1': 'one', 'S2': 'two', 'S3': 'three', 'S4': 'four', 'corr': ' five', 'incorr': ' four', 'text': 'Night done in one. Map done in two. Apple done in three. Zip done in four. Ball done in'}, {'S1': 'two', 'S2': 'three', 'S3': 'four', 'S4': 'five', 'corr': ' six', 'incorr': ' five', 'text': 'Train done in two. Desk done in three. Apple done in four. Desk done in five. Night done in'}, {'S1': 'three', 'S2': 'four', 'S3': 'five', 'S4': 'six', 'corr': ' seven', 'incorr': ' six', 'text': 'Ball done in three. Mouse done in four. Dog done in five. Star done in six. Wallet done in'}, {'S1': 'four', 'S2': 'five', 'S3': 'six', 'S4': 'seven', 'corr': ' eight', 'incorr': ' seven', 'text': 'Ax done in four. Flag done in five. Moon done in six. Wheel done in seven. Hand done in'}, {'S1': 'five', 'S2': 'six', 'S3': 'seven', 'S4': 'eight', 'corr': ' nine', 'incorr': ' eight', 'text': 'Ocean done in five. Snow done in six. Cow done in seven. Ax done in eight. Tree done in'}, {'S1': 'six', 'S2': 'seven', 'S3': 'eight', 'S4': 'nine', 'corr': ' ten', 'incorr': ' nine', 'text': 'King done in six. Wallet done in seven. Desk done in eight. Watch done in nine. Van done in'}, {'S1': 'seven', 'S2': 'eight', 'S3': 'nine', 'S4': 'ten', 'corr': ' eleven', 'incorr': ' ten', 'text': 'Watch done in seven. Bird done in eight. Mouse done in nine. Snake done in ten. Hat done in'}, {'S1': 'eight', 'S2': 'nine', 'S3': 'ten', 'S4': 'eleven', 'corr': ' twelve', 'incorr': ' eleven', 'text': 'Table done in eight. Fire done in nine. Ring done in ten. Train done in eleven. King done in'}, {'S1': 'one', 'S2': 'two', 'S3': 'three', 'S4': 'four', 'corr': ' five', 'incorr': ' four', 'text': 'Hat done in one. Apple done in two. Orange done in three. House done in four. Table done in'}, {'S1': 'two', 'S2': 'three', 'S3': 'four', 'S4': 'five', 'corr': ' six', 'incorr': ' five', 'text': 'Glass done in two. Cat done in three. Clock done in four. Fire done in five. Map done in'}, {'S1': 'three', 'S2': 'four', 'S3': 'five', 'S4': 'six', 'corr': ' seven', 'incorr': ' six', 'text': 'Ant done in three. Queen done in four. Orange done in five. King done in six. Ring done in'}, {'S1': 'four', 'S2': 'five', 'S3': 'six', 'S4': 'seven', 'corr': ' eight', 'incorr': ' seven', 'text': 'Mouse done in four. Camera done in five. Rat done in six. Sun done in seven. Zip done in'}, {'S1': 'five', 'S2': 'six', 'S3': 'seven', 'S4': 'eight', 'corr': ' nine', 'incorr': ' eight', 'text': 'Pear done in five. Nut done in six. Window done in seven. Iron done in eight. Desk done in'}, {'S1': 'six', 'S2': 'seven', 'S3': 'eight', 'S4': 'nine', 'corr': ' ten', 'incorr': ' nine', 'text': 'Bug done in six. House done in seven. Glass done in eight. Nut done in nine. Queen done in'}, {'S1': 'seven', 'S2': 'eight', 'S3': 'nine', 'S4': 'ten', 'corr': ' eleven', 'incorr': ' ten', 'text': 'Rain done in seven. Car done in eight. Bird done in nine. Car done in ten. Flag done in'}, {'S1': 'eight', 'S2': 'nine', 'S3': 'ten', 'S4': 'eleven', 'corr': ' twelve', 'incorr': ' eleven', 'text': 'Bird done in eight. Ball done in nine. Wheel done in ten. Orange done in eleven. Zip done in'}, {'S1': 'one', 'S2': 'two', 'S3': 'three', 'S4': 'four', 'corr': ' five', 'incorr': ' four', 'text': 'House done in one. Ring done in two. Nut done in three. Bug done in four. Apple done in'}, {'S1': 'two', 'S2': 'three', 'S3': 'four', 'S4': 'five', 'corr': ' six', 'incorr': ' five', 'text': 'Eye done in two. Bug done in three. Box done in four. Pear done in five. Book done in'}, {'S1': 'three', 'S2': 'four', 'S3': 'five', 'S4': 'six', 'corr': ' seven', 'incorr': ' six', 'text': 'Map done in three. Road done in four. Apple done in five. Table done in six. Snake done in'}, {'S1': 'four', 'S2': 'five', 'S3': 'six', 'S4': 'seven', 'corr': ' eight', 'incorr': ' seven', 'text': 'Gate done in four. Desk done in five. Orange done in six. Night done in seven. Ring done in'}, {'S1': 'five', 'S2': 'six', 'S3': 'seven', 'S4': 'eight', 'corr': ' nine', 'incorr': ' eight', 'text': 'Glass done in five. Fan done in six. House done in seven. Fan done in eight. Van done in'}, {'S1': 'six', 'S2': 'seven', 'S3': 'eight', 'S4': 'nine', 'corr': ' ten', 'incorr': ' nine', 'text': 'Queen done in six. Hill done in seven. Road done in eight. House done in nine. Snake done in'}, {'S1': 'seven', 'S2': 'eight', 'S3': 'nine', 'S4': 'ten', 'corr': ' eleven', 'incorr': ' ten', 'text': 'Wolf done in seven. Flag done in eight. Tree done in nine. Ball done in ten. Night done in'}, {'S1': 'eight', 'S2': 'nine', 'S3': 'ten', 'S4': 'eleven', 'corr': ' twelve', 'incorr': ' eleven', 'text': 'Camera done in eight. Fan done in nine. Star done in ten. Camera done in eleven. Car done in'}, {'S1': 'one', 'S2': 'two', 'S3': 'three', 'S4': 'four', 'corr': ' five', 'incorr': ' four', 'text': 'Sun done in one. Camera done in two. Map done in three. Dog done in four. King done in'}, {'S1': 'two', 'S2': 'three', 'S3': 'four', 'S4': 'five', 'corr': ' six', 'incorr': ' five', 'text': 'Chair done in two. Gate done in three. Ring done in four. Train done in five. Iron done in'}, {'S1': 'three', 'S2': 'four', 'S3': 'five', 'S4': 'six', 'corr': ' seven', 'incorr': ' six', 'text': 'Window done in three. Star done in four. Fan done in five. Fire done in six. Bug done in'}, {'S1': 'four', 'S2': 'five', 'S3': 'six', 'S4': 'seven', 'corr': ' eight', 'incorr': ' seven', 'text': 'Sun done in four. Zip done in five. Cat done in six. Eye done in seven. Ring done in'}, {'S1': 'five', 'S2': 'six', 'S3': 'seven', 'S4': 'eight', 'corr': ' nine', 'incorr': ' eight', 'text': 'Fan done in five. Queen done in six. Desk done in seven. Nut done in eight. Tree done in'}, {'S1': 'six', 'S2': 'seven', 'S3': 'eight', 'S4': 'nine', 'corr': ' ten', 'incorr': ' nine', 'text': 'Clock done in six. Train done in seven. Lake done in eight. Fan done in nine. Map done in'}, {'S1': 'seven', 'S2': 'eight', 'S3': 'nine', 'S4': 'ten', 'corr': ' eleven', 'incorr': ' ten', 'text': 'Ant done in seven. Ax done in eight. House done in nine. Queen done in ten. Arm done in'}, {'S1': 'eight', 'S2': 'nine', 'S3': 'ten', 'S4': 'eleven', 'corr': ' twelve', 'incorr': ' eleven', 'text': 'Star done in eight. Bug done in nine. Dog done in ten. Train done in eleven. Hat done in'}, {'S1': 'one', 'S2': 'two', 'S3': 'three', 'S4': 'four', 'corr': ' five', 'incorr': ' four', 'text': 'Pen done in one. Fire done in two. Bird done in three. Queen done in four. Chair done in'}, {'S1': 'two', 'S2': 'three', 'S3': 'four', 'S4': 'five', 'corr': ' six', 'incorr': ' five', 'text': 'Book done in two. Watch done in three. Cat done in four. Queen done in five. Camera done in'}, {'S1': 'three', 'S2': 'four', 'S3': 'five', 'S4': 'six', 'corr': ' seven', 'incorr': ' six', 'text': 'Car done in three. Tree done in four. Hat done in five. Ring done in six. Mouse done in'}, {'S1': 'four', 'S2': 'five', 'S3': 'six', 'S4': 'seven', 'corr': ' eight', 'incorr': ' seven', 'text': 'Wall done in four. Ring done in five. Lake done in six. Jam done in seven. Hat done in'}, {'S1': 'five', 'S2': 'six', 'S3': 'seven', 'S4': 'eight', 'corr': ' nine', 'incorr': ' eight', 'text': 'Ring done in five. Chair done in six. Wind done in seven. Orange done in eight. Fire done in'}, {'S1': 'six', 'S2': 'seven', 'S3': 'eight', 'S4': 'nine', 'corr': ' ten', 'incorr': ' nine', 'text': 'Ring done in six. Watch done in seven. Ring done in eight. Nut done in nine. Rose done in'}, {'S1': 'seven', 'S2': 'eight', 'S3': 'nine', 'S4': 'ten', 'corr': ' eleven', 'incorr': ' ten', 'text': 'Ball done in seven. Wall done in eight. Nut done in nine. Window done in ten. Watch done in'}, {'S1': 'eight', 'S2': 'nine', 'S3': 'ten', 'S4': 'eleven', 'corr': ' twelve', 'incorr': ' eleven', 'text': 'Ocean done in eight. Ant done in nine. Camera done in ten. Orange done in eleven. Car done in'}, {'S1': 'one', 'S2': 'two', 'S3': 'three', 'S4': 'four', 'corr': ' five', 'incorr': ' four', 'text': 'Orange done in one. Orange done in two. Ball done in three. Snake done in four. Gate done in'}, {'S1': 'two', 'S2': 'three', 'S3': 'four', 'S4': 'five', 'corr': ' six', 'incorr': ' five', 'text': 'Window done in two. Flag done in three. Fan done in four. Desk done in five. Bird done in'}, {'S1': 'three', 'S2': 'four', 'S3': 'five', 'S4': 'six', 'corr': ' seven', 'incorr': ' six', 'text': 'King done in three. Flag done in four. Ring done in five. Desk done in six. Ball done in'}, {'S1': 'four', 'S2': 'five', 'S3': 'six', 'S4': 'seven', 'corr': ' eight', 'incorr': ' seven', 'text': 'Ball done in four. Flag done in five. House done in six. Wind done in seven. Camera done in'}, {'S1': 'five', 'S2': 'six', 'S3': 'seven', 'S4': 'eight', 'corr': ' nine', 'incorr': ' eight', 'text': 'Snake done in five. Jam done in six. Watch done in seven. Star done in eight. Hand done in'}, {'S1': 'six', 'S2': 'seven', 'S3': 'eight', 'S4': 'nine', 'corr': ' ten', 'incorr': ' nine', 'text': 'Star done in six. House done in seven. Tree done in eight. Ring done in nine. Corn done in'}, {'S1': 'seven', 'S2': 'eight', 'S3': 'nine', 'S4': 'ten', 'corr': ' eleven', 'incorr': ' ten', 'text': 'Hat done in seven. Bug done in eight. Jar done in nine. Tree done in ten. Box done in'}, {'S1': 'eight', 'S2': 'nine', 'S3': 'ten', 'S4': 'eleven', 'corr': ' twelve', 'incorr': ' eleven', 'text': 'Fan done in eight. Fan done in nine. Window done in ten. Hand done in eleven. Nut done in'}, {'S1': 'one', 'S2': 'two', 'S3': 'three', 'S4': 'four', 'corr': ' five', 'incorr': ' four', 'text': 'Flag done in one. Orange done in two. Desk done in three. Queen done in four. Wall done in'}, {'S1': 'two', 'S2': 'three', 'S3': 'four', 'S4': 'five', 'corr': ' six', 'incorr': ' five', 'text': 'Fan done in two. Cow done in three. House done in four. Nut done in five. Key done in'}, {'S1': 'three', 'S2': 'four', 'S3': 'five', 'S4': 'six', 'corr': ' seven', 'incorr': ' six', 'text': 'Car done in three. Van done in four. Star done in five. Zip done in six. Wind done in'}, {'S1': 'four', 'S2': 'five', 'S3': 'six', 'S4': 'seven', 'corr': ' eight', 'incorr': ' seven', 'text': 'Fire done in four. King done in five. Orange done in six. Car done in seven. House done in'}, {'S1': 'five', 'S2': 'six', 'S3': 'seven', 'S4': 'eight', 'corr': ' nine', 'incorr': ' eight', 'text': 'Ocean done in five. Apple done in six. Book done in seven. Hand done in eight. Train done in'}, {'S1': 'six', 'S2': 'seven', 'S3': 'eight', 'S4': 'nine', 'corr': ' ten', 'incorr': ' nine', 'text': 'Window done in six. Clock done in seven. Jam done in eight. Star done in nine. Fish done in'}, {'S1': 'seven', 'S2': 'eight', 'S3': 'nine', 'S4': 'ten', 'corr': ' eleven', 'incorr': ' ten', 'text': 'Fan done in seven. Nut done in eight. Train done in nine. Eye done in ten. Apple done in'}, {'S1': 'eight', 'S2': 'nine', 'S3': 'ten', 'S4': 'eleven', 'corr': ' twelve', 'incorr': ' eleven', 'text': 'Jam done in eight. Moon done in nine. Tree done in ten. Hill done in eleven. Apple done in'}, {'S1': 'one', 'S2': 'two', 'S3': 'three', 'S4': 'four', 'corr': ' five', 'incorr': ' four', 'text': 'Hill done in one. Fan done in two. Wall done in three. Ocean done in four. Flag done in'}, {'S1': 'two', 'S2': 'three', 'S3': 'four', 'S4': 'five', 'corr': ' six', 'incorr': ' five', 'text': 'Key done in two. Camera done in three. Car done in four. Road done in five. Apple done in'}, {'S1': 'three', 'S2': 'four', 'S3': 'five', 'S4': 'six', 'corr': ' seven', 'incorr': ' six', 'text': 'Road done in three. Watch done in four. Sand done in five. Fan done in six. Queen done in'}, {'S1': 'four', 'S2': 'five', 'S3': 'six', 'S4': 'seven', 'corr': ' eight', 'incorr': ' seven', 'text': 'Hat done in four. Zip done in five. Key done in six. Gate done in seven. Ice done in'}, {'S1': 'five', 'S2': 'six', 'S3': 'seven', 'S4': 'eight', 'corr': ' nine', 'incorr': ' eight', 'text': 'Arm done in five. Oil done in six. Queen done in seven. Wind done in eight. Zip done in'}, {'S1': 'six', 'S2': 'seven', 'S3': 'eight', 'S4': 'nine', 'corr': ' ten', 'incorr': ' nine', 'text': 'Pen done in six. Gate done in seven. Apple done in eight. Desk done in nine. Fan done in'}, {'S1': 'seven', 'S2': 'eight', 'S3': 'nine', 'S4': 'ten', 'corr': ' eleven', 'incorr': ' ten', 'text': 'Train done in seven. Dog done in eight. Fan done in nine. Ball done in ten. Queen done in'}, {'S1': 'eight', 'S2': 'nine', 'S3': 'ten', 'S4': 'eleven', 'corr': ' twelve', 'incorr': ' eleven', 'text': 'Desk done in eight. Zip done in nine. Window done in ten. Orange done in eleven. Hat done in'}, {'S1': 'one', 'S2': 'two', 'S3': 'three', 'S4': 'four', 'corr': ' five', 'incorr': ' four', 'text': 'Nut done in one. Tree done in two. Window done in three. Van done in four. Wolf done in'}, {'S1': 'two', 'S2': 'three', 'S3': 'four', 'S4': 'five', 'corr': ' six', 'incorr': ' five', 'text': 'Apple done in two. Fan done in three. Snow done in four. Window done in five. Bird done in'}, {'S1': 'three', 'S2': 'four', 'S3': 'five', 'S4': 'six', 'corr': ' seven', 'incorr': ' six', 'text': 'Desk done in three. Ball done in four. Iron done in five. Hat done in six. Eye done in'}, {'S1': 'four', 'S2': 'five', 'S3': 'six', 'S4': 'seven', 'corr': ' eight', 'incorr': ' seven', 'text': 'Orange done in four. Wind done in five. Hand done in six. Ice done in seven. King done in'}, {'S1': 'five', 'S2': 'six', 'S3': 'seven', 'S4': 'eight', 'corr': ' nine', 'incorr': ' eight', 'text': 'Glass done in five. Queen done in six. Night done in seven. Fan done in eight. Desk done in'}, {'S1': 'six', 'S2': 'seven', 'S3': 'eight', 'S4': 'nine', 'corr': ' ten', 'incorr': ' nine', 'text': 'Jam done in six. Ax done in seven. Fish done in eight. Watch done in nine. Lake done in'}, {'S1': 'seven', 'S2': 'eight', 'S3': 'nine', 'S4': 'ten', 'corr': ' eleven', 'incorr': ' ten', 'text': 'Night done in seven. Watch done in eight. Jam done in nine. Cow done in ten. Road done in'}, {'S1': 'eight', 'S2': 'nine', 'S3': 'ten', 'S4': 'eleven', 'corr': ' twelve', 'incorr': ' eleven', 'text': 'Ear done in eight. House done in nine. Van done in ten. Map done in eleven. Clock done in'}, {'S1': 'one', 'S2': 'two', 'S3': 'three', 'S4': 'four', 'corr': ' five', 'incorr': ' four', 'text': 'Cow done in one. Van done in two. Eye done in three. Watch done in four. Ice done in'}, {'S1': 'two', 'S2': 'three', 'S3': 'four', 'S4': 'five', 'corr': ' six', 'incorr': ' five', 'text': 'Orange done in two. Chair done in three. Ant done in four. Map done in five. Dog done in'}, {'S1': 'three', 'S2': 'four', 'S3': 'five', 'S4': 'six', 'corr': ' seven', 'incorr': ' six', 'text': 'Apple done in three. Desk done in four. Pen done in five. Rain done in six. Tree done in'}, {'S1': 'four', 'S2': 'five', 'S3': 'six', 'S4': 'seven', 'corr': ' eight', 'incorr': ' seven', 'text': 'Nut done in four. Rose done in five. Corn done in six. Camera done in seven. Ball done in'}, {'S1': 'five', 'S2': 'six', 'S3': 'seven', 'S4': 'eight', 'corr': ' nine', 'incorr': ' eight', 'text': 'Cow done in five. Hat done in six. Orange done in seven. Car done in eight. Ocean done in'}, {'S1': 'six', 'S2': 'seven', 'S3': 'eight', 'S4': 'nine', 'corr': ' ten', 'incorr': ' nine', 'text': 'Ball done in six. Fan done in seven. Year done in eight. Pen done in nine. Sand done in'}, {'S1': 'seven', 'S2': 'eight', 'S3': 'nine', 'S4': 'ten', 'corr': ' eleven', 'incorr': ' ten', 'text': 'Hat done in seven. Tree done in eight. Nut done in nine. Iron done in ten. Box done in'}, {'S1': 'eight', 'S2': 'nine', 'S3': 'ten', 'S4': 'eleven', 'corr': ' twelve', 'incorr': ' eleven', 'text': 'Tree done in eight. Camera done in nine. Night done in ten. Mouse done in eleven. Ear done in'}, {'S1': 'one', 'S2': 'two', 'S3': 'three', 'S4': 'four', 'corr': ' five', 'incorr': ' four', 'text': 'Flag done in one. Wind done in two. Hat done in three. Fan done in four. Watch done in'}, {'S1': 'two', 'S2': 'three', 'S3': 'four', 'S4': 'five', 'corr': ' six', 'incorr': ' five', 'text': 'House done in two. Rose done in three. Zip done in four. Snake done in five. Ax done in'}, {'S1': 'three', 'S2': 'four', 'S3': 'five', 'S4': 'six', 'corr': ' seven', 'incorr': ' six', 'text': 'Pen done in three. King done in four. Fish done in five. Wallet done in six. Apple done in'}, {'S1': 'four', 'S2': 'five', 'S3': 'six', 'S4': 'seven', 'corr': ' eight', 'incorr': ' seven', 'text': 'Chair done in four. Jam done in five. House done in six. Queen done in seven. Van done in'}, {'S1': 'five', 'S2': 'six', 'S3': 'seven', 'S4': 'eight', 'corr': ' nine', 'incorr': ' eight', 'text': 'Bug done in five. Wall done in six. Ball done in seven. Bird done in eight. Fan done in'}, {'S1': 'six', 'S2': 'seven', 'S3': 'eight', 'S4': 'nine', 'corr': ' ten', 'incorr': ' nine', 'text': 'Car done in six. Sun done in seven. Watch done in eight. Fan done in nine. Queen done in'}, {'S1': 'seven', 'S2': 'eight', 'S3': 'nine', 'S4': 'ten', 'corr': ' eleven', 'incorr': ' ten', 'text': 'House done in seven. Window done in eight. Desk done in nine. Bird done in ten. Desk done in'}, {'S1': 'eight', 'S2': 'nine', 'S3': 'ten', 'S4': 'eleven', 'corr': ' twelve', 'incorr': ' eleven', 'text': 'Orange done in eight. Key done in nine. Fan done in ten. Corn done in eleven. Desk done in'}, {'S1': 'one', 'S2': 'two', 'S3': 'three', 'S4': 'four', 'corr': ' five', 'incorr': ' four', 'text': 'Desk done in one. Hat done in two. Wallet done in three. Hand done in four. Queen done in'}, {'S1': 'two', 'S2': 'three', 'S3': 'four', 'S4': 'five', 'corr': ' six', 'incorr': ' five', 'text': 'Tree done in two. Mouse done in three. Car done in four. Zip done in five. Nut done in'}, {'S1': 'three', 'S2': 'four', 'S3': 'five', 'S4': 'six', 'corr': ' seven', 'incorr': ' six', 'text': 'Gate done in three. Book done in four. Orange done in five. Fan done in six. Pear done in'}, {'S1': 'four', 'S2': 'five', 'S3': 'six', 'S4': 'seven', 'corr': ' eight', 'incorr': ' seven', 'text': 'Orange done in four. Gate done in five. Wheel done in six. Bird done in seven. Window done in'}, {'S1': 'five', 'S2': 'six', 'S3': 'seven', 'S4': 'eight', 'corr': ' nine', 'incorr': ' eight', 'text': 'Orange done in five. Car done in six. Wall done in seven. Map done in eight. Year done in'}, {'S1': 'six', 'S2': 'seven', 'S3': 'eight', 'S4': 'nine', 'corr': ' ten', 'incorr': ' nine', 'text': 'Wheel done in six. House done in seven. Book done in eight. Desk done in nine. Wallet done in'}, {'S1': 'seven', 'S2': 'eight', 'S3': 'nine', 'S4': 'ten', 'corr': ' eleven', 'incorr': ' ten', 'text': 'Chair done in seven. King done in eight. Desk done in nine. Queen done in ten. Nut done in'}, {'S1': 'eight', 'S2': 'nine', 'S3': 'ten', 'S4': 'eleven', 'corr': ' twelve', 'incorr': ' eleven', 'text': 'King done in eight. House done in nine. Camera done in ten. Bird done in eleven. Pen done in'}, {'S1': 'one', 'S2': 'two', 'S3': 'three', 'S4': 'four', 'corr': ' five', 'incorr': ' four', 'text': 'Road done in one. Wallet done in two. Van done in three. Clock done in four. Bug done in'}, {'S1': 'two', 'S2': 'three', 'S3': 'four', 'S4': 'five', 'corr': ' six', 'incorr': ' five', 'text': 'Box done in two. Rain done in three. Dog done in four. Fan done in five. Wallet done in'}, {'S1': 'three', 'S2': 'four', 'S3': 'five', 'S4': 'six', 'corr': ' seven', 'incorr': ' six', 'text': 'Cow done in three. Night done in four. Chair done in five. Zip done in six. Rose done in'}, {'S1': 'four', 'S2': 'five', 'S3': 'six', 'S4': 'seven', 'corr': ' eight', 'incorr': ' seven', 'text': 'Queen done in four. Cow done in five. Pear done in six. Fish done in seven. Rose done in'}, {'S1': 'five', 'S2': 'six', 'S3': 'seven', 'S4': 'eight', 'corr': ' nine', 'incorr': ' eight', 'text': 'Hand done in five. Bug done in six. Ring done in seven. Orange done in eight. Apple done in'}, {'S1': 'six', 'S2': 'seven', 'S3': 'eight', 'S4': 'nine', 'corr': ' ten', 'incorr': ' nine', 'text': 'Bug done in six. Dog done in seven. Tree done in eight. Zip done in nine. Apple done in'}, {'S1': 'seven', 'S2': 'eight', 'S3': 'nine', 'S4': 'ten', 'corr': ' eleven', 'incorr': ' ten', 'text': 'Clock done in seven. Hill done in eight. Snow done in nine. Car done in ten. Wolf done in'}, {'S1': 'eight', 'S2': 'nine', 'S3': 'ten', 'S4': 'eleven', 'corr': ' twelve', 'incorr': ' eleven', 'text': 'Key done in eight. Mouse done in nine. Orange done in ten. Ring done in eleven. Desk done in'}, {'S1': 'one', 'S2': 'two', 'S3': 'three', 'S4': 'four', 'corr': ' five', 'incorr': ' four', 'text': 'Ant done in one. Watch done in two. Lake done in three. Ear done in four. Cat done in'}, {'S1': 'two', 'S2': 'three', 'S3': 'four', 'S4': 'five', 'corr': ' six', 'incorr': ' five', 'text': 'Ball done in two. Ax done in three. Watch done in four. Bird done in five. Wallet done in'}, {'S1': 'three', 'S2': 'four', 'S3': 'five', 'S4': 'six', 'corr': ' seven', 'incorr': ' six', 'text': 'Gold done in three. Ball done in four. Hand done in five. Glass done in six. Hat done in'}, {'S1': 'four', 'S2': 'five', 'S3': 'six', 'S4': 'seven', 'corr': ' eight', 'incorr': ' seven', 'text': 'Pen done in four. Ball done in five. Jar done in six. Glass done in seven. House done in'}, {'S1': 'five', 'S2': 'six', 'S3': 'seven', 'S4': 'eight', 'corr': ' nine', 'incorr': ' eight', 'text': 'Tree done in five. Box done in six. Star done in seven. Snow done in eight. Clock done in'}, {'S1': 'six', 'S2': 'seven', 'S3': 'eight', 'S4': 'nine', 'corr': ' ten', 'incorr': ' nine', 'text': 'Rat done in six. Camera done in seven. Tree done in eight. Light done in nine. Lake done in'}, {'S1': 'seven', 'S2': 'eight', 'S3': 'nine', 'S4': 'ten', 'corr': ' eleven', 'incorr': ' ten', 'text': 'Fan done in seven. Hand done in eight. Key done in nine. Nut done in ten. Orange done in'}, {'S1': 'eight', 'S2': 'nine', 'S3': 'ten', 'S4': 'eleven', 'corr': ' twelve', 'incorr': ' eleven', 'text': 'Rose done in eight. Glass done in nine. Ice done in ten. Apple done in eleven. Wind done in'}, {'S1': 'one', 'S2': 'two', 'S3': 'three', 'S4': 'four', 'corr': ' five', 'incorr': ' four', 'text': 'Gold done in one. Gate done in two. Night done in three. Desk done in four. Camera done in'}, {'S1': 'two', 'S2': 'three', 'S3': 'four', 'S4': 'five', 'corr': ' six', 'incorr': ' five', 'text': 'Snake done in two. Fish done in three. Fan done in four. Ring done in five. Wind done in'}, {'S1': 'three', 'S2': 'four', 'S3': 'five', 'S4': 'six', 'corr': ' seven', 'incorr': ' six', 'text': 'Sand done in three. Ocean done in four. Flag done in five. Year done in six. Wolf done in'}, {'S1': 'four', 'S2': 'five', 'S3': 'six', 'S4': 'seven', 'corr': ' eight', 'incorr': ' seven', 'text': 'Cat done in four. Watch done in five. Gold done in six. Map done in seven. Jam done in'}, {'S1': 'five', 'S2': 'six', 'S3': 'seven', 'S4': 'eight', 'corr': ' nine', 'incorr': ' eight', 'text': 'Gold done in five. Desk done in six. Camera done in seven. Tree done in eight. Ice done in'}, {'S1': 'six', 'S2': 'seven', 'S3': 'eight', 'S4': 'nine', 'corr': ' ten', 'incorr': ' nine', 'text': 'Jam done in six. Iron done in seven. Window done in eight. Box done in nine. Fan done in'}, {'S1': 'seven', 'S2': 'eight', 'S3': 'nine', 'S4': 'ten', 'corr': ' eleven', 'incorr': ' ten', 'text': 'Wall done in seven. Moon done in eight. Tree done in nine. Corn done in ten. Light done in'}, {'S1': 'eight', 'S2': 'nine', 'S3': 'ten', 'S4': 'eleven', 'corr': ' twelve', 'incorr': ' eleven', 'text': 'House done in eight. Van done in nine. Watch done in ten. Jam done in eleven. Ice done in'}, {'S1': 'one', 'S2': 'two', 'S3': 'three', 'S4': 'four', 'corr': ' five', 'incorr': ' four', 'text': 'King done in one. Fan done in two. Rose done in three. Orange done in four. Light done in'}, {'S1': 'two', 'S2': 'three', 'S3': 'four', 'S4': 'five', 'corr': ' six', 'incorr': ' five', 'text': 'Corn done in two. Hand done in three. Apple done in four. Snow done in five. Arm done in'}, {'S1': 'three', 'S2': 'four', 'S3': 'five', 'S4': 'six', 'corr': ' seven', 'incorr': ' six', 'text': 'Snow done in three. Cat done in four. Apple done in five. Fire done in six. Desk done in'}, {'S1': 'four', 'S2': 'five', 'S3': 'six', 'S4': 'seven', 'corr': ' eight', 'incorr': ' seven', 'text': 'Oil done in four. Moon done in five. Ring done in six. Wall done in seven. Gate done in'}, {'S1': 'five', 'S2': 'six', 'S3': 'seven', 'S4': 'eight', 'corr': ' nine', 'incorr': ' eight', 'text': 'Apple done in five. Bug done in six. Pear done in seven. Light done in eight. Watch done in'}, {'S1': 'six', 'S2': 'seven', 'S3': 'eight', 'S4': 'nine', 'corr': ' ten', 'incorr': ' nine', 'text': 'Apple done in six. Arm done in seven. Key done in eight. Fish done in nine. Ear done in'}, {'S1': 'seven', 'S2': 'eight', 'S3': 'nine', 'S4': 'ten', 'corr': ' eleven', 'incorr': ' ten', 'text': 'Table done in seven. Camera done in eight. Ring done in nine. Fan done in ten. Hill done in'}, {'S1': 'eight', 'S2': 'nine', 'S3': 'ten', 'S4': 'eleven', 'corr': ' twelve', 'incorr': ' eleven', 'text': 'Star done in eight. Light done in nine. Mouse done in ten. Sun done in eleven. Hand done in'}, {'S1': 'one', 'S2': 'two', 'S3': 'three', 'S4': 'four', 'corr': ' five', 'incorr': ' four', 'text': 'Watch done in one. Flag done in two. Ax done in three. Oil done in four. Hand done in'}, {'S1': 'two', 'S2': 'three', 'S3': 'four', 'S4': 'five', 'corr': ' six', 'incorr': ' five', 'text': 'Queen done in two. Lake done in three. Key done in four. Hand done in five. Snake done in'}, {'S1': 'three', 'S2': 'four', 'S3': 'five', 'S4': 'six', 'corr': ' seven', 'incorr': ' six', 'text': 'Chair done in three. House done in four. Wallet done in five. Fire done in six. Snake done in'}, {'S1': 'four', 'S2': 'five', 'S3': 'six', 'S4': 'seven', 'corr': ' eight', 'incorr': ' seven', 'text': 'Arm done in four. Orange done in five. Table done in six. Ear done in seven. Wall done in'}, {'S1': 'five', 'S2': 'six', 'S3': 'seven', 'S4': 'eight', 'corr': ' nine', 'incorr': ' eight', 'text': 'Orange done in five. Queen done in six. Rain done in seven. Wind done in eight. Sun done in'}, {'S1': 'six', 'S2': 'seven', 'S3': 'eight', 'S4': 'nine', 'corr': ' ten', 'incorr': ' nine', 'text': 'Jam done in six. Book done in seven. Wheel done in eight. Orange done in nine. Rose done in'}, {'S1': 'seven', 'S2': 'eight', 'S3': 'nine', 'S4': 'ten', 'corr': ' eleven', 'incorr': ' ten', 'text': 'Book done in seven. Cow done in eight. Fan done in nine. Gate done in ten. Ocean done in'}, {'S1': 'eight', 'S2': 'nine', 'S3': 'ten', 'S4': 'eleven', 'corr': ' twelve', 'incorr': ' eleven', 'text': 'Arm done in eight. Wallet done in nine. Lake done in ten. Fan done in eleven. Tree done in'}, {'S1': 'one', 'S2': 'two', 'S3': 'three', 'S4': 'four', 'corr': ' five', 'incorr': ' four', 'text': 'Flag done in one. Window done in two. Year done in three. Key done in four. Road done in'}, {'S1': 'two', 'S2': 'three', 'S3': 'four', 'S4': 'five', 'corr': ' six', 'incorr': ' five', 'text': 'Flag done in two. Watch done in three. Tree done in four. Sun done in five. Box done in'}, {'S1': 'three', 'S2': 'four', 'S3': 'five', 'S4': 'six', 'corr': ' seven', 'incorr': ' six', 'text': 'Hat done in three. Ring done in four. Nut done in five. Ant done in six. Glass done in'}, {'S1': 'four', 'S2': 'five', 'S3': 'six', 'S4': 'seven', 'corr': ' eight', 'incorr': ' seven', 'text': 'Dog done in four. Glass done in five. House done in six. Bird done in seven. Rose done in'}, {'S1': 'five', 'S2': 'six', 'S3': 'seven', 'S4': 'eight', 'corr': ' nine', 'incorr': ' eight', 'text': 'Desk done in five. Nut done in six. Rat done in seven. Window done in eight. Box done in'}, {'S1': 'six', 'S2': 'seven', 'S3': 'eight', 'S4': 'nine', 'corr': ' ten', 'incorr': ' nine', 'text': 'Van done in six. Wolf done in seven. Queen done in eight. Cat done in nine. Box done in'}, {'S1': 'seven', 'S2': 'eight', 'S3': 'nine', 'S4': 'ten', 'corr': ' eleven', 'incorr': ' ten', 'text': 'Ax done in seven. Pear done in eight. Ring done in nine. Eye done in ten. Queen done in'}, {'S1': 'eight', 'S2': 'nine', 'S3': 'ten', 'S4': 'eleven', 'corr': ' twelve', 'incorr': ' eleven', 'text': 'Queen done in eight. Nut done in nine. Chair done in ten. Jam done in eleven. Ant done in'}, {'S1': 'one', 'S2': 'two', 'S3': 'three', 'S4': 'four', 'corr': ' five', 'incorr': ' four', 'text': 'Corn done in one. Glass done in two. Rat done in three. Star done in four. Wall done in'}, {'S1': 'two', 'S2': 'three', 'S3': 'four', 'S4': 'five', 'corr': ' six', 'incorr': ' five', 'text': 'Fan done in two. Watch done in three. Map done in four. Key done in five. Orange done in'}, {'S1': 'three', 'S2': 'four', 'S3': 'five', 'S4': 'six', 'corr': ' seven', 'incorr': ' six', 'text': 'Pen done in three. Arm done in four. Rain done in five. Chair done in six. Book done in'}, {'S1': 'four', 'S2': 'five', 'S3': 'six', 'S4': 'seven', 'corr': ' eight', 'incorr': ' seven', 'text': 'Flag done in four. Corn done in five. Cat done in six. Jam done in seven. Snake done in'}, {'S1': 'five', 'S2': 'six', 'S3': 'seven', 'S4': 'eight', 'corr': ' nine', 'incorr': ' eight', 'text': 'Table done in five. Star done in six. Ring done in seven. Van done in eight. Queen done in'}, {'S1': 'six', 'S2': 'seven', 'S3': 'eight', 'S4': 'nine', 'corr': ' ten', 'incorr': ' nine', 'text': 'Cow done in six. Train done in seven. Fire done in eight. Ax done in nine. Rat done in'}, {'S1': 'seven', 'S2': 'eight', 'S3': 'nine', 'S4': 'ten', 'corr': ' eleven', 'incorr': ' ten', 'text': 'Fish done in seven. Flag done in eight. Car done in nine. Van done in ten. Rose done in'}, {'S1': 'eight', 'S2': 'nine', 'S3': 'ten', 'S4': 'eleven', 'corr': ' twelve', 'incorr': ' eleven', 'text': 'Ring done in eight. Nut done in nine. Wall done in ten. Wolf done in eleven. Mouse done in'}, {'S1': 'one', 'S2': 'two', 'S3': 'three', 'S4': 'four', 'corr': ' five', 'incorr': ' four', 'text': 'Camera done in one. Light done in two. Key done in three. Cat done in four. Box done in'}, {'S1': 'two', 'S2': 'three', 'S3': 'four', 'S4': 'five', 'corr': ' six', 'incorr': ' five', 'text': 'Queen done in two. Jar done in three. Tree done in four. Fan done in five. Jam done in'}, {'S1': 'three', 'S2': 'four', 'S3': 'five', 'S4': 'six', 'corr': ' seven', 'incorr': ' six', 'text': 'King done in three. Hat done in four. Queen done in five. Zip done in six. Light done in'}, {'S1': 'four', 'S2': 'five', 'S3': 'six', 'S4': 'seven', 'corr': ' eight', 'incorr': ' seven', 'text': 'Fish done in four. Tree done in five. Oil done in six. Cat done in seven. Ant done in'}, {'S1': 'five', 'S2': 'six', 'S3': 'seven', 'S4': 'eight', 'corr': ' nine', 'incorr': ' eight', 'text': 'Night done in five. Zip done in six. Car done in seven. Chair done in eight. Tree done in'}, {'S1': 'six', 'S2': 'seven', 'S3': 'eight', 'S4': 'nine', 'corr': ' ten', 'incorr': ' nine', 'text': 'Night done in six. Light done in seven. Table done in eight. Apple done in nine. Box done in'}, {'S1': 'seven', 'S2': 'eight', 'S3': 'nine', 'S4': 'ten', 'corr': ' eleven', 'incorr': ' ten', 'text': 'Car done in seven. Key done in eight. Corn done in nine. Fan done in ten. Apple done in'}, {'S1': 'eight', 'S2': 'nine', 'S3': 'ten', 'S4': 'eleven', 'corr': ' twelve', 'incorr': ' eleven', 'text': 'Bug done in eight. Tree done in nine. Tree done in ten. Train done in eleven. Apple done in'}, {'S1': 'one', 'S2': 'two', 'S3': 'three', 'S4': 'four', 'corr': ' five', 'incorr': ' four', 'text': 'Wallet done in one. Eye done in two. Bug done in three. Tree done in four. Cat done in'}, {'S1': 'two', 'S2': 'three', 'S3': 'four', 'S4': 'five', 'corr': ' six', 'incorr': ' five', 'text': 'Desk done in two. Road done in three. Star done in four. Bird done in five. Ant done in'}, {'S1': 'three', 'S2': 'four', 'S3': 'five', 'S4': 'six', 'corr': ' seven', 'incorr': ' six', 'text': 'Camera done in three. Light done in four. Hand done in five. Desk done in six. Sun done in'}, {'S1': 'four', 'S2': 'five', 'S3': 'six', 'S4': 'seven', 'corr': ' eight', 'incorr': ' seven', 'text': 'Fire done in four. Wolf done in five. Ring done in six. Mouse done in seven. King done in'}, {'S1': 'five', 'S2': 'six', 'S3': 'seven', 'S4': 'eight', 'corr': ' nine', 'incorr': ' eight', 'text': 'Hat done in five. Glass done in six. Orange done in seven. Nut done in eight. Mouse done in'}, {'S1': 'six', 'S2': 'seven', 'S3': 'eight', 'S4': 'nine', 'corr': ' ten', 'incorr': ' nine', 'text': 'Watch done in six. Corn done in seven. Tree done in eight. Ring done in nine. Arm done in'}, {'S1': 'seven', 'S2': 'eight', 'S3': 'nine', 'S4': 'ten', 'corr': ' eleven', 'incorr': ' ten', 'text': 'Wheel done in seven. Orange done in eight. Hill done in nine. Orange done in ten. Fire done in'}, {'S1': 'eight', 'S2': 'nine', 'S3': 'ten', 'S4': 'eleven', 'corr': ' twelve', 'incorr': ' eleven', 'text': 'Eye done in eight. Hand done in nine. Car done in ten. Iron done in eleven. Van done in'}, {'S1': 'one', 'S2': 'two', 'S3': 'three', 'S4': 'four', 'corr': ' five', 'incorr': ' four', 'text': 'Jam done in one. Camera done in two. Fish done in three. Snake done in four. House done in'}, {'S1': 'two', 'S2': 'three', 'S3': 'four', 'S4': 'five', 'corr': ' six', 'incorr': ' five', 'text': 'Flag done in two. House done in three. Wallet done in four. Key done in five. Snow done in'}, {'S1': 'three', 'S2': 'four', 'S3': 'five', 'S4': 'six', 'corr': ' seven', 'incorr': ' six', 'text': 'Car done in three. Jar done in four. Clock done in five. Box done in six. Hand done in'}, {'S1': 'four', 'S2': 'five', 'S3': 'six', 'S4': 'seven', 'corr': ' eight', 'incorr': ' seven', 'text': 'Eye done in four. Camera done in five. Moon done in six. Oil done in seven. Orange done in'}, {'S1': 'five', 'S2': 'six', 'S3': 'seven', 'S4': 'eight', 'corr': ' nine', 'incorr': ' eight', 'text': 'Key done in five. Desk done in six. Rain done in seven. Road done in eight. Box done in'}, {'S1': 'six', 'S2': 'seven', 'S3': 'eight', 'S4': 'nine', 'corr': ' ten', 'incorr': ' nine', 'text': 'Bird done in six. King done in seven. Van done in eight. Gate done in nine. Road done in'}, {'S1': 'seven', 'S2': 'eight', 'S3': 'nine', 'S4': 'ten', 'corr': ' eleven', 'incorr': ' ten', 'text': 'Fan done in seven. Year done in eight. Ball done in nine. Cat done in ten. Desk done in'}, {'S1': 'eight', 'S2': 'nine', 'S3': 'ten', 'S4': 'eleven', 'corr': ' twelve', 'incorr': ' eleven', 'text': 'Ball done in eight. Ear done in nine. Rain done in ten. Desk done in eleven. Arm done in'}, {'S1': 'one', 'S2': 'two', 'S3': 'three', 'S4': 'four', 'corr': ' five', 'incorr': ' four', 'text': 'Watch done in one. Table done in two. Clock done in three. Desk done in four. Eye done in'}, {'S1': 'two', 'S2': 'three', 'S3': 'four', 'S4': 'five', 'corr': ' six', 'incorr': ' five', 'text': 'Flag done in two. Lake done in three. Rat done in four. Van done in five. Cat done in'}, {'S1': 'three', 'S2': 'four', 'S3': 'five', 'S4': 'six', 'corr': ' seven', 'incorr': ' six', 'text': 'Table done in three. Ax done in four. Star done in five. Corn done in six. Bug done in'}, {'S1': 'four', 'S2': 'five', 'S3': 'six', 'S4': 'seven', 'corr': ' eight', 'incorr': ' seven', 'text': 'Rain done in four. Sun done in five. Bird done in six. Jar done in seven. Fire done in'}, {'S1': 'five', 'S2': 'six', 'S3': 'seven', 'S4': 'eight', 'corr': ' nine', 'incorr': ' eight', 'text': 'Ice done in five. Pen done in six. Window done in seven. Snow done in eight. Table done in'}, {'S1': 'six', 'S2': 'seven', 'S3': 'eight', 'S4': 'nine', 'corr': ' ten', 'incorr': ' nine', 'text': 'Van done in six. Ax done in seven. Orange done in eight. Orange done in nine. Key done in'}, {'S1': 'seven', 'S2': 'eight', 'S3': 'nine', 'S4': 'ten', 'corr': ' eleven', 'incorr': ' ten', 'text': 'Window done in seven. Jar done in eight. Camera done in nine. Ball done in ten. Hat done in'}, {'S1': 'eight', 'S2': 'nine', 'S3': 'ten', 'S4': 'eleven', 'corr': ' twelve', 'incorr': ' eleven', 'text': 'Cow done in eight. Oil done in nine. Corn done in ten. Star done in eleven. Apple done in'}, {'S1': 'one', 'S2': 'two', 'S3': 'three', 'S4': 'four', 'corr': ' five', 'incorr': ' four', 'text': 'Tree done in one. Dog done in two. Desk done in three. Camera done in four. Clock done in'}, {'S1': 'two', 'S2': 'three', 'S3': 'four', 'S4': 'five', 'corr': ' six', 'incorr': ' five', 'text': 'Key done in two. Rain done in three. Iron done in four. Rat done in five. Bird done in'}, {'S1': 'three', 'S2': 'four', 'S3': 'five', 'S4': 'six', 'corr': ' seven', 'incorr': ' six', 'text': 'Queen done in three. King done in four. Tree done in five. Glass done in six. Sun done in'}, {'S1': 'four', 'S2': 'five', 'S3': 'six', 'S4': 'seven', 'corr': ' eight', 'incorr': ' seven', 'text': 'Desk done in four. Sun done in five. Map done in six. Desk done in seven. Wheel done in'}, {'S1': 'five', 'S2': 'six', 'S3': 'seven', 'S4': 'eight', 'corr': ' nine', 'incorr': ' eight', 'text': 'Cow done in five. Moon done in six. Queen done in seven. Hill done in eight. Glass done in'}, {'S1': 'six', 'S2': 'seven', 'S3': 'eight', 'S4': 'nine', 'corr': ' ten', 'incorr': ' nine', 'text': 'Hat done in six. Arm done in seven. Zip done in eight. Queen done in nine. Window done in'}, {'S1': 'seven', 'S2': 'eight', 'S3': 'nine', 'S4': 'ten', 'corr': ' eleven', 'incorr': ' ten', 'text': 'Zip done in seven. Van done in eight. Iron done in nine. Moon done in ten. Sand done in'}, {'S1': 'eight', 'S2': 'nine', 'S3': 'ten', 'S4': 'eleven', 'corr': ' twelve', 'incorr': ' eleven', 'text': 'Ant done in eight. Watch done in nine. Moon done in ten. Wheel done in eleven. Watch done in'}, {'S1': 'one', 'S2': 'two', 'S3': 'three', 'S4': 'four', 'corr': ' five', 'incorr': ' four', 'text': 'Moon done in one. Cat done in two. Dog done in three. Desk done in four. Cow done in'}, {'S1': 'two', 'S2': 'three', 'S3': 'four', 'S4': 'five', 'corr': ' six', 'incorr': ' five', 'text': 'Jam done in two. Snake done in three. Camera done in four. Ant done in five. Wall done in'}, {'S1': 'three', 'S2': 'four', 'S3': 'five', 'S4': 'six', 'corr': ' seven', 'incorr': ' six', 'text': 'Queen done in three. Desk done in four. Hill done in five. Cow done in six. Map done in'}, {'S1': 'four', 'S2': 'five', 'S3': 'six', 'S4': 'seven', 'corr': ' eight', 'incorr': ' seven', 'text': 'Fan done in four. Eye done in five. Moon done in six. Desk done in seven. Chair done in'}, {'S1': 'five', 'S2': 'six', 'S3': 'seven', 'S4': 'eight', 'corr': ' nine', 'incorr': ' eight', 'text': 'Arm done in five. Watch done in six. Table done in seven. Sun done in eight. Year done in'}, {'S1': 'six', 'S2': 'seven', 'S3': 'eight', 'S4': 'nine', 'corr': ' ten', 'incorr': ' nine', 'text': 'Pear done in six. Moon done in seven. Camera done in eight. Glass done in nine. Apple done in'}, {'S1': 'seven', 'S2': 'eight', 'S3': 'nine', 'S4': 'ten', 'corr': ' eleven', 'incorr': ' ten', 'text': 'Car done in seven. Queen done in eight. Queen done in nine. Ice done in ten. Watch done in'}, {'S1': 'eight', 'S2': 'nine', 'S3': 'ten', 'S4': 'eleven', 'corr': ' twelve', 'incorr': ' eleven', 'text': 'Rose done in eight. Ring done in nine. Ear done in ten. Car done in eleven. Gate done in'}, {'S1': 'one', 'S2': 'two', 'S3': 'three', 'S4': 'four', 'corr': ' five', 'incorr': ' four', 'text': 'Road done in one. Ring done in two. House done in three. Wolf done in four. Oil done in'}, {'S1': 'two', 'S2': 'three', 'S3': 'four', 'S4': 'five', 'corr': ' six', 'incorr': ' five', 'text': 'Cow done in two. Apple done in three. Star done in four. Orange done in five. Tree done in'}, {'S1': 'three', 'S2': 'four', 'S3': 'five', 'S4': 'six', 'corr': ' seven', 'incorr': ' six', 'text': 'Camera done in three. Ring done in four. Rat done in five. Jam done in six. Tree done in'}, {'S1': 'four', 'S2': 'five', 'S3': 'six', 'S4': 'seven', 'corr': ' eight', 'incorr': ' seven', 'text': 'Ring done in four. Queen done in five. Lake done in six. Desk done in seven. Desk done in'}, {'S1': 'five', 'S2': 'six', 'S3': 'seven', 'S4': 'eight', 'corr': ' nine', 'incorr': ' eight', 'text': 'Jar done in five. Ear done in six. Hat done in seven. Ring done in eight. Window done in'}, {'S1': 'six', 'S2': 'seven', 'S3': 'eight', 'S4': 'nine', 'corr': ' ten', 'incorr': ' nine', 'text': 'Iron done in six. Zip done in seven. Queen done in eight. Map done in nine. Queen done in'}, {'S1': 'seven', 'S2': 'eight', 'S3': 'nine', 'S4': 'ten', 'corr': ' eleven', 'incorr': ' ten', 'text': 'Orange done in seven. Orange done in eight. Wolf done in nine. Gate done in ten. Rat done in'}, {'S1': 'eight', 'S2': 'nine', 'S3': 'ten', 'S4': 'eleven', 'corr': ' twelve', 'incorr': ' eleven', 'text': 'Queen done in eight. Night done in nine. Hat done in ten. Hill done in eleven. Lake done in'}, {'S1': 'one', 'S2': 'two', 'S3': 'three', 'S4': 'four', 'corr': ' five', 'incorr': ' four', 'text': 'Ring done in one. Watch done in two. Fish done in three. Hat done in four. Cow done in'}, {'S1': 'two', 'S2': 'three', 'S3': 'four', 'S4': 'five', 'corr': ' six', 'incorr': ' five', 'text': 'Camera done in two. Lake done in three. Map done in four. Fan done in five. Car done in'}, {'S1': 'three', 'S2': 'four', 'S3': 'five', 'S4': 'six', 'corr': ' seven', 'incorr': ' six', 'text': 'Camera done in three. Wallet done in four. House done in five. Corn done in six. Apple done in'}, {'S1': 'four', 'S2': 'five', 'S3': 'six', 'S4': 'seven', 'corr': ' eight', 'incorr': ' seven', 'text': 'Box done in four. Wolf done in five. House done in six. Bird done in seven. Zip done in'}, {'S1': 'five', 'S2': 'six', 'S3': 'seven', 'S4': 'eight', 'corr': ' nine', 'incorr': ' eight', 'text': 'Fish done in five. Glass done in six. Gold done in seven. House done in eight. Watch done in'}, {'S1': 'six', 'S2': 'seven', 'S3': 'eight', 'S4': 'nine', 'corr': ' ten', 'incorr': ' nine', 'text': 'Window done in six. Queen done in seven. Wallet done in eight. Rat done in nine. Glass done in'}, {'S1': 'seven', 'S2': 'eight', 'S3': 'nine', 'S4': 'ten', 'corr': ' eleven', 'incorr': ' ten', 'text': 'Flag done in seven. Queen done in eight. Zip done in nine. Gold done in ten. Clock done in'}, {'S1': 'eight', 'S2': 'nine', 'S3': 'ten', 'S4': 'eleven', 'corr': ' twelve', 'incorr': ' eleven', 'text': 'Van done in eight. Snow done in nine. Dog done in ten. Gate done in eleven. Cow done in'}, {'S1': 'one', 'S2': 'two', 'S3': 'three', 'S4': 'four', 'corr': ' five', 'incorr': ' four', 'text': 'Tree done in one. Lake done in two. Hat done in three. Orange done in four. Tree done in'}, {'S1': 'two', 'S2': 'three', 'S3': 'four', 'S4': 'five', 'corr': ' six', 'incorr': ' five', 'text': 'Tree done in two. Window done in three. Orange done in four. Table done in five. Car done in'}, {'S1': 'three', 'S2': 'four', 'S3': 'five', 'S4': 'six', 'corr': ' seven', 'incorr': ' six', 'text': 'Hand done in three. Tree done in four. Rose done in five. Star done in six. House done in'}, {'S1': 'four', 'S2': 'five', 'S3': 'six', 'S4': 'seven', 'corr': ' eight', 'incorr': ' seven', 'text': 'Sun done in four. Eye done in five. Road done in six. Van done in seven. Box done in'}, {'S1': 'five', 'S2': 'six', 'S3': 'seven', 'S4': 'eight', 'corr': ' nine', 'incorr': ' eight', 'text': 'Queen done in five. Orange done in six. Moon done in seven. Snake done in eight. Queen done in'}, {'S1': 'six', 'S2': 'seven', 'S3': 'eight', 'S4': 'nine', 'corr': ' ten', 'incorr': ' nine', 'text': 'Ear done in six. Watch done in seven. Key done in eight. Pen done in nine. Sun done in'}, {'S1': 'seven', 'S2': 'eight', 'S3': 'nine', 'S4': 'ten', 'corr': ' eleven', 'incorr': ' ten', 'text': 'Key done in seven. Wheel done in eight. Apple done in nine. Van done in ten. Ant done in'}, {'S1': 'eight', 'S2': 'nine', 'S3': 'ten', 'S4': 'eleven', 'corr': ' twelve', 'incorr': ' eleven', 'text': 'Chair done in eight. Key done in nine. Rose done in ten. Ring done in eleven. Fan done in'}, {'S1': 'one', 'S2': 'two', 'S3': 'three', 'S4': 'four', 'corr': ' five', 'incorr': ' four', 'text': 'Orange done in one. Sand done in two. Window done in three. Van done in four. Flag done in'}, {'S1': 'two', 'S2': 'three', 'S3': 'four', 'S4': 'five', 'corr': ' six', 'incorr': ' five', 'text': 'Sand done in two. Wall done in three. Ring done in four. Desk done in five. Ant done in'}, {'S1': 'three', 'S2': 'four', 'S3': 'five', 'S4': 'six', 'corr': ' seven', 'incorr': ' six', 'text': 'Key done in three. Fish done in four. Oil done in five. Tree done in six. Rat done in'}, {'S1': 'four', 'S2': 'five', 'S3': 'six', 'S4': 'seven', 'corr': ' eight', 'incorr': ' seven', 'text': 'Hill done in four. Rose done in five. Orange done in six. Tree done in seven. Iron done in'}, {'S1': 'five', 'S2': 'six', 'S3': 'seven', 'S4': 'eight', 'corr': ' nine', 'incorr': ' eight', 'text': 'Sun done in five. Flag done in six. Fire done in seven. Van done in eight. Orange done in'}, {'S1': 'six', 'S2': 'seven', 'S3': 'eight', 'S4': 'nine', 'corr': ' ten', 'incorr': ' nine', 'text': 'Hat done in six. Rat done in seven. Ant done in eight. Wolf done in nine. Bug done in'}, {'S1': 'seven', 'S2': 'eight', 'S3': 'nine', 'S4': 'ten', 'corr': ' eleven', 'incorr': ' ten', 'text': 'Jam done in seven. Queen done in eight. Camera done in nine. Queen done in ten. Ring done in'}, {'S1': 'eight', 'S2': 'nine', 'S3': 'ten', 'S4': 'eleven', 'corr': ' twelve', 'incorr': ' eleven', 'text': 'Wheel done in eight. Ring done in nine. Arm done in ten. Van done in eleven. Queen done in'}, {'S1': 'one', 'S2': 'two', 'S3': 'three', 'S4': 'four', 'corr': ' five', 'incorr': ' four', 'text': 'Ring done in one. Wind done in two. Wheel done in three. Flag done in four. Hand done in'}, {'S1': 'two', 'S2': 'three', 'S3': 'four', 'S4': 'five', 'corr': ' six', 'incorr': ' five', 'text': 'Desk done in two. Table done in three. Lake done in four. Pen done in five. Hill done in'}, {'S1': 'three', 'S2': 'four', 'S3': 'five', 'S4': 'six', 'corr': ' seven', 'incorr': ' six', 'text': 'Map done in three. Watch done in four. Fire done in five. Apple done in six. Jam done in'}, {'S1': 'four', 'S2': 'five', 'S3': 'six', 'S4': 'seven', 'corr': ' eight', 'incorr': ' seven', 'text': 'Window done in four. Queen done in five. Pear done in six. Queen done in seven. Moon done in'}, {'S1': 'five', 'S2': 'six', 'S3': 'seven', 'S4': 'eight', 'corr': ' nine', 'incorr': ' eight', 'text': 'Queen done in five. House done in six. Orange done in seven. Road done in eight. Fire done in'}, {'S1': 'six', 'S2': 'seven', 'S3': 'eight', 'S4': 'nine', 'corr': ' ten', 'incorr': ' nine', 'text': 'Desk done in six. Ice done in seven. Chair done in eight. Window done in nine. Flag done in'}, {'S1': 'seven', 'S2': 'eight', 'S3': 'nine', 'S4': 'ten', 'corr': ' eleven', 'incorr': ' ten', 'text': 'Light done in seven. Moon done in eight. Bird done in nine. Box done in ten. Jar done in'}, {'S1': 'eight', 'S2': 'nine', 'S3': 'ten', 'S4': 'eleven', 'corr': ' twelve', 'incorr': ' eleven', 'text': 'Book done in eight. Pen done in nine. Desk done in ten. Tree done in eleven. Fish done in'}, {'S1': 'one', 'S2': 'two', 'S3': 'three', 'S4': 'four', 'corr': ' five', 'incorr': ' four', 'text': 'Chair done in one. Clock done in two. Key done in three. Gold done in four. Camera done in'}, {'S1': 'two', 'S2': 'three', 'S3': 'four', 'S4': 'five', 'corr': ' six', 'incorr': ' five', 'text': 'Oil done in two. Wallet done in three. Fan done in four. Sand done in five. Dog done in'}, {'S1': 'three', 'S2': 'four', 'S3': 'five', 'S4': 'six', 'corr': ' seven', 'incorr': ' six', 'text': 'Snow done in three. Rose done in four. Nut done in five. Ice done in six. Queen done in'}, {'S1': 'four', 'S2': 'five', 'S3': 'six', 'S4': 'seven', 'corr': ' eight', 'incorr': ' seven', 'text': 'Hand done in four. House done in five. Iron done in six. Ice done in seven. Van done in'}, {'S1': 'five', 'S2': 'six', 'S3': 'seven', 'S4': 'eight', 'corr': ' nine', 'incorr': ' eight', 'text': 'Desk done in five. Apple done in six. Fish done in seven. Ice done in eight. Window done in'}, {'S1': 'six', 'S2': 'seven', 'S3': 'eight', 'S4': 'nine', 'corr': ' ten', 'incorr': ' nine', 'text': 'Ball done in six. Moon done in seven. Queen done in eight. Ring done in nine. Fan done in'}, {'S1': 'seven', 'S2': 'eight', 'S3': 'nine', 'S4': 'ten', 'corr': ' eleven', 'incorr': ' ten', 'text': 'Ball done in seven. Snake done in eight. Glass done in nine. Desk done in ten. Watch done in'}, {'S1': 'eight', 'S2': 'nine', 'S3': 'ten', 'S4': 'eleven', 'corr': ' twelve', 'incorr': ' eleven', 'text': 'Wolf done in eight. Pear done in nine. Desk done in ten. Wind done in eleven. Queen done in'}, {'S1': 'one', 'S2': 'two', 'S3': 'three', 'S4': 'four', 'corr': ' five', 'incorr': ' four', 'text': 'House done in one. Corn done in two. Cow done in three. Wheel done in four. Watch done in'}, {'S1': 'two', 'S2': 'three', 'S3': 'four', 'S4': 'five', 'corr': ' six', 'incorr': ' five', 'text': 'Wallet done in two. Window done in three. Van done in four. Mouse done in five. Fan done in'}, {'S1': 'three', 'S2': 'four', 'S3': 'five', 'S4': 'six', 'corr': ' seven', 'incorr': ' six', 'text': 'Orange done in three. Chair done in four. Night done in five. Window done in six. Ring done in'}, {'S1': 'four', 'S2': 'five', 'S3': 'six', 'S4': 'seven', 'corr': ' eight', 'incorr': ' seven', 'text': 'House done in four. Bird done in five. Hand done in six. Lake done in seven. Pen done in'}, {'S1': 'five', 'S2': 'six', 'S3': 'seven', 'S4': 'eight', 'corr': ' nine', 'incorr': ' eight', 'text': 'Fish done in five. Ear done in six. Rose done in seven. Van done in eight. Cat done in'}, {'S1': 'six', 'S2': 'seven', 'S3': 'eight', 'S4': 'nine', 'corr': ' ten', 'incorr': ' nine', 'text': 'Watch done in six. Rose done in seven. Desk done in eight. Wall done in nine. Table done in'}, {'S1': 'seven', 'S2': 'eight', 'S3': 'nine', 'S4': 'ten', 'corr': ' eleven', 'incorr': ' ten', 'text': 'Hat done in seven. Light done in eight. Ring done in nine. Lake done in ten. Wolf done in'}, {'S1': 'eight', 'S2': 'nine', 'S3': 'ten', 'S4': 'eleven', 'corr': ' twelve', 'incorr': ' eleven', 'text': 'House done in eight. Key done in nine. Hat done in ten. Light done in eleven. Watch done in'}, {'S1': 'one', 'S2': 'two', 'S3': 'three', 'S4': 'four', 'corr': ' five', 'incorr': ' four', 'text': 'Hill done in one. Nut done in two. Ear done in three. Wallet done in four. Snow done in'}, {'S1': 'two', 'S2': 'three', 'S3': 'four', 'S4': 'five', 'corr': ' six', 'incorr': ' five', 'text': 'Hand done in two. Tree done in three. Star done in four. Fan done in five. Fan done in'}, {'S1': 'three', 'S2': 'four', 'S3': 'five', 'S4': 'six', 'corr': ' seven', 'incorr': ' six', 'text': 'Mouse done in three. Hill done in four. Bug done in five. Night done in six. Clock done in'}, {'S1': 'four', 'S2': 'five', 'S3': 'six', 'S4': 'seven', 'corr': ' eight', 'incorr': ' seven', 'text': 'Flag done in four. Window done in five. Rose done in six. Zip done in seven. Key done in'}, {'S1': 'five', 'S2': 'six', 'S3': 'seven', 'S4': 'eight', 'corr': ' nine', 'incorr': ' eight', 'text': 'Van done in five. Hill done in six. Desk done in seven. Light done in eight. Arm done in'}, {'S1': 'six', 'S2': 'seven', 'S3': 'eight', 'S4': 'nine', 'corr': ' ten', 'incorr': ' nine', 'text': 'Tree done in six. Table done in seven. Lake done in eight. Hand done in nine. Nut done in'}, {'S1': 'seven', 'S2': 'eight', 'S3': 'nine', 'S4': 'ten', 'corr': ' eleven', 'incorr': ' ten', 'text': 'Desk done in seven. Moon done in eight. Arm done in nine. Snow done in ten. Train done in'}, {'S1': 'eight', 'S2': 'nine', 'S3': 'ten', 'S4': 'eleven', 'corr': ' twelve', 'incorr': ' eleven', 'text': 'Hand done in eight. Orange done in nine. Flag done in ten. Nut done in eleven. Chair done in'}, {'S1': 'one', 'S2': 'two', 'S3': 'three', 'S4': 'four', 'corr': ' five', 'incorr': ' four', 'text': 'Lake done in one. Star done in two. Sun done in three. Hat done in four. Apple done in'}, {'S1': 'two', 'S2': 'three', 'S3': 'four', 'S4': 'five', 'corr': ' six', 'incorr': ' five', 'text': 'Ball done in two. Sun done in three. Camera done in four. Snow done in five. Watch done in'}, {'S1': 'three', 'S2': 'four', 'S3': 'five', 'S4': 'six', 'corr': ' seven', 'incorr': ' six', 'text': 'Table done in three. Watch done in four. Apple done in five. Car done in six. Nut done in'}, {'S1': 'four', 'S2': 'five', 'S3': 'six', 'S4': 'seven', 'corr': ' eight', 'incorr': ' seven', 'text': 'Hat done in four. Gate done in five. Night done in six. Nut done in seven. Hand done in'}, {'S1': 'five', 'S2': 'six', 'S3': 'seven', 'S4': 'eight', 'corr': ' nine', 'incorr': ' eight', 'text': 'House done in five. Chair done in six. Tree done in seven. Hat done in eight. Ear done in'}, {'S1': 'six', 'S2': 'seven', 'S3': 'eight', 'S4': 'nine', 'corr': ' ten', 'incorr': ' nine', 'text': 'Rat done in six. Fire done in seven. Rain done in eight. Van done in nine. Star done in'}, {'S1': 'seven', 'S2': 'eight', 'S3': 'nine', 'S4': 'ten', 'corr': ' eleven', 'incorr': ' ten', 'text': 'Chair done in seven. Window done in eight. Mouse done in nine. Flag done in ten. Nut done in'}, {'S1': 'eight', 'S2': 'nine', 'S3': 'ten', 'S4': 'eleven', 'corr': ' twelve', 'incorr': ' eleven', 'text': 'Ice done in eight. Snow done in nine. Sand done in ten. Hand done in eleven. Nut done in'}, {'S1': 'one', 'S2': 'two', 'S3': 'three', 'S4': 'four', 'corr': ' five', 'incorr': ' four', 'text': 'Fan done in one. Watch done in two. Hat done in three. Ring done in four. Wind done in'}, {'S1': 'two', 'S2': 'three', 'S3': 'four', 'S4': 'five', 'corr': ' six', 'incorr': ' five', 'text': 'Train done in two. Car done in three. Gold done in four. Box done in five. Ring done in'}, {'S1': 'three', 'S2': 'four', 'S3': 'five', 'S4': 'six', 'corr': ' seven', 'incorr': ' six', 'text': 'Desk done in three. Queen done in four. Wolf done in five. Apple done in six. Arm done in'}, {'S1': 'four', 'S2': 'five', 'S3': 'six', 'S4': 'seven', 'corr': ' eight', 'incorr': ' seven', 'text': 'Hat done in four. Cow done in five. Wolf done in six. Flag done in seven. Tree done in'}, {'S1': 'five', 'S2': 'six', 'S3': 'seven', 'S4': 'eight', 'corr': ' nine', 'incorr': ' eight', 'text': 'Desk done in five. Mouse done in six. Clock done in seven. Orange done in eight. Wind done in'}, {'S1': 'six', 'S2': 'seven', 'S3': 'eight', 'S4': 'nine', 'corr': ' ten', 'incorr': ' nine', 'text': 'Queen done in six. Queen done in seven. Queen done in eight. Dog done in nine. Hand done in'}, {'S1': 'seven', 'S2': 'eight', 'S3': 'nine', 'S4': 'ten', 'corr': ' eleven', 'incorr': ' ten', 'text': 'Map done in seven. Car done in eight. Star done in nine. Bug done in ten. Arm done in'}, {'S1': 'eight', 'S2': 'nine', 'S3': 'ten', 'S4': 'eleven', 'corr': ' twelve', 'incorr': ' eleven', 'text': 'Ear done in eight. Sand done in nine. Orange done in ten. Chair done in eleven. Table done in'}, {'S1': 'one', 'S2': 'two', 'S3': 'three', 'S4': 'four', 'corr': ' five', 'incorr': ' four', 'text': 'Hat done in one. Road done in two. Van done in three. Light done in four. Moon done in'}, {'S1': 'two', 'S2': 'three', 'S3': 'four', 'S4': 'five', 'corr': ' six', 'incorr': ' five', 'text': 'Chair done in two. Desk done in three. Fan done in four. Arm done in five. Table done in'}, {'S1': 'three', 'S2': 'four', 'S3': 'five', 'S4': 'six', 'corr': ' seven', 'incorr': ' six', 'text': 'Road done in three. Pen done in four. Ball done in five. Lake done in six. Bug done in'}, {'S1': 'four', 'S2': 'five', 'S3': 'six', 'S4': 'seven', 'corr': ' eight', 'incorr': ' seven', 'text': 'Light done in four. Flag done in five. Book done in six. Cat done in seven. Star done in'}, {'S1': 'five', 'S2': 'six', 'S3': 'seven', 'S4': 'eight', 'corr': ' nine', 'incorr': ' eight', 'text': 'Ice done in five. Map done in six. Key done in seven. Ant done in eight. Ring done in'}, {'S1': 'six', 'S2': 'seven', 'S3': 'eight', 'S4': 'nine', 'corr': ' ten', 'incorr': ' nine', 'text': 'Box done in six. Key done in seven. Ax done in eight. House done in nine. Train done in'}, {'S1': 'seven', 'S2': 'eight', 'S3': 'nine', 'S4': 'ten', 'corr': ' eleven', 'incorr': ' ten', 'text': 'Key done in seven. Year done in eight. Apple done in nine. Car done in ten. Rose done in'}, {'S1': 'eight', 'S2': 'nine', 'S3': 'ten', 'S4': 'eleven', 'corr': ' twelve', 'incorr': ' eleven', 'text': 'Star done in eight. Hat done in nine. Fan done in ten. Apple done in eleven. Wall done in'}, {'S1': 'one', 'S2': 'two', 'S3': 'three', 'S4': 'four', 'corr': ' five', 'incorr': ' four', 'text': 'Ring done in one. Book done in two. Year done in three. Jar done in four. Night done in'}, {'S1': 'two', 'S2': 'three', 'S3': 'four', 'S4': 'five', 'corr': ' six', 'incorr': ' five', 'text': 'Desk done in two. Gold done in three. Ocean done in four. Ring done in five. Wind done in'}, {'S1': 'three', 'S2': 'four', 'S3': 'five', 'S4': 'six', 'corr': ' seven', 'incorr': ' six', 'text': 'Light done in three. Fire done in four. Apple done in five. Fan done in six. Hand done in'}, {'S1': 'four', 'S2': 'five', 'S3': 'six', 'S4': 'seven', 'corr': ' eight', 'incorr': ' seven', 'text': 'Ring done in four. Wheel done in five. Hat done in six. Car done in seven. Ring done in'}, {'S1': 'five', 'S2': 'six', 'S3': 'seven', 'S4': 'eight', 'corr': ' nine', 'incorr': ' eight', 'text': 'Wheel done in five. Wind done in six. Car done in seven. Sand done in eight. Clock done in'}, {'S1': 'six', 'S2': 'seven', 'S3': 'eight', 'S4': 'nine', 'corr': ' ten', 'incorr': ' nine', 'text': 'King done in six. Camera done in seven. Box done in eight. Arm done in nine. Sand done in'}, {'S1': 'seven', 'S2': 'eight', 'S3': 'nine', 'S4': 'ten', 'corr': ' eleven', 'incorr': ' ten', 'text': 'Fan done in seven. Ring done in eight. Tree done in nine. Wall done in ten. Jam done in'}, {'S1': 'eight', 'S2': 'nine', 'S3': 'ten', 'S4': 'eleven', 'corr': ' twelve', 'incorr': ' eleven', 'text': 'Train done in eight. Bird done in nine. Ocean done in ten. Flag done in eleven. Zip done in'}, {'S1': 'one', 'S2': 'two', 'S3': 'three', 'S4': 'four', 'corr': ' five', 'incorr': ' four', 'text': 'Tree done in one. Watch done in two. Ball done in three. Pen done in four. Tree done in'}, {'S1': 'two', 'S2': 'three', 'S3': 'four', 'S4': 'five', 'corr': ' six', 'incorr': ' five', 'text': 'Rain done in two. Queen done in three. Night done in four. Flag done in five. Nut done in'}, {'S1': 'three', 'S2': 'four', 'S3': 'five', 'S4': 'six', 'corr': ' seven', 'incorr': ' six', 'text': 'Jar done in three. Desk done in four. Corn done in five. Ball done in six. Car done in'}, {'S1': 'four', 'S2': 'five', 'S3': 'six', 'S4': 'seven', 'corr': ' eight', 'incorr': ' seven', 'text': 'Gate done in four. Light done in five. Year done in six. Ring done in seven. Dog done in'}, {'S1': 'five', 'S2': 'six', 'S3': 'seven', 'S4': 'eight', 'corr': ' nine', 'incorr': ' eight', 'text': 'Pear done in five. House done in six. Hat done in seven. Fan done in eight. Pen done in'}, {'S1': 'six', 'S2': 'seven', 'S3': 'eight', 'S4': 'nine', 'corr': ' ten', 'incorr': ' nine', 'text': 'Queen done in six. King done in seven. Map done in eight. Key done in nine. Wallet done in'}, {'S1': 'seven', 'S2': 'eight', 'S3': 'nine', 'S4': 'ten', 'corr': ' eleven', 'incorr': ' ten', 'text': 'Apple done in seven. Sun done in eight. Wall done in nine. Iron done in ten. Star done in'}, {'S1': 'eight', 'S2': 'nine', 'S3': 'ten', 'S4': 'eleven', 'corr': ' twelve', 'incorr': ' eleven', 'text': 'Sand done in eight. Tree done in nine. Van done in ten. Bird done in eleven. Zip done in'}, {'S1': 'one', 'S2': 'two', 'S3': 'three', 'S4': 'four', 'corr': ' five', 'incorr': ' four', 'text': 'King done in one. Chair done in two. Hand done in three. Fire done in four. Camera done in'}, {'S1': 'two', 'S2': 'three', 'S3': 'four', 'S4': 'five', 'corr': ' six', 'incorr': ' five', 'text': 'Snow done in two. Apple done in three. Ring done in four. Wall done in five. Oil done in'}, {'S1': 'three', 'S2': 'four', 'S3': 'five', 'S4': 'six', 'corr': ' seven', 'incorr': ' six', 'text': 'Car done in three. Cat done in four. Moon done in five. Nut done in six. Star done in'}, {'S1': 'four', 'S2': 'five', 'S3': 'six', 'S4': 'seven', 'corr': ' eight', 'incorr': ' seven', 'text': 'Apple done in four. Box done in five. Tree done in six. Dog done in seven. Fan done in'}, {'S1': 'five', 'S2': 'six', 'S3': 'seven', 'S4': 'eight', 'corr': ' nine', 'incorr': ' eight', 'text': 'Car done in five. Queen done in six. Fan done in seven. Desk done in eight. Ball done in'}, {'S1': 'six', 'S2': 'seven', 'S3': 'eight', 'S4': 'nine', 'corr': ' ten', 'incorr': ' nine', 'text': 'Car done in six. Wolf done in seven. Ant done in eight. Orange done in nine. Bug done in'}, {'S1': 'seven', 'S2': 'eight', 'S3': 'nine', 'S4': 'ten', 'corr': ' eleven', 'incorr': ' ten', 'text': 'Ax done in seven. Table done in eight. Ring done in nine. Hill done in ten. Ice done in'}, {'S1': 'eight', 'S2': 'nine', 'S3': 'ten', 'S4': 'eleven', 'corr': ' twelve', 'incorr': ' eleven', 'text': 'Bug done in eight. Jar done in nine. Ball done in ten. House done in eleven. Ax done in'}, {'S1': 'one', 'S2': 'two', 'S3': 'three', 'S4': 'four', 'corr': ' five', 'incorr': ' four', 'text': 'King done in one. Snake done in two. Glass done in three. Fan done in four. Year done in'}, {'S1': 'two', 'S2': 'three', 'S3': 'four', 'S4': 'five', 'corr': ' six', 'incorr': ' five', 'text': 'Orange done in two. House done in three. Wall done in four. Wallet done in five. Night done in'}, {'S1': 'three', 'S2': 'four', 'S3': 'five', 'S4': 'six', 'corr': ' seven', 'incorr': ' six', 'text': 'Rose done in three. Light done in four. Orange done in five. Jam done in six. Window done in'}, {'S1': 'four', 'S2': 'five', 'S3': 'six', 'S4': 'seven', 'corr': ' eight', 'incorr': ' seven', 'text': 'Ocean done in four. Zip done in five. Rat done in six. Pear done in seven. Mouse done in'}, {'S1': 'five', 'S2': 'six', 'S3': 'seven', 'S4': 'eight', 'corr': ' nine', 'incorr': ' eight', 'text': 'Wolf done in five. Bird done in six. Orange done in seven. Chair done in eight. Map done in'}, {'S1': 'six', 'S2': 'seven', 'S3': 'eight', 'S4': 'nine', 'corr': ' ten', 'incorr': ' nine', 'text': 'Zip done in six. House done in seven. Jam done in eight. Gold done in nine. Ring done in'}, {'S1': 'seven', 'S2': 'eight', 'S3': 'nine', 'S4': 'ten', 'corr': ' eleven', 'incorr': ' ten', 'text': 'Camera done in seven. Van done in eight. Desk done in nine. Queen done in ten. Nut done in'}, {'S1': 'eight', 'S2': 'nine', 'S3': 'ten', 'S4': 'eleven', 'corr': ' twelve', 'incorr': ' eleven', 'text': 'Key done in eight. Jar done in nine. Nut done in ten. Ring done in eleven. Hat done in'}, {'S1': 'one', 'S2': 'two', 'S3': 'three', 'S4': 'four', 'corr': ' five', 'incorr': ' four', 'text': 'Window done in one. Ant done in two. Pear done in three. Wolf done in four. Ocean done in'}, {'S1': 'two', 'S2': 'three', 'S3': 'four', 'S4': 'five', 'corr': ' six', 'incorr': ' five', 'text': 'Hill done in two. Road done in three. Snow done in four. Star done in five. Chair done in'}, {'S1': 'three', 'S2': 'four', 'S3': 'five', 'S4': 'six', 'corr': ' seven', 'incorr': ' six', 'text': 'Tree done in three. Ear done in four. Wall done in five. Fan done in six. Bird done in'}, {'S1': 'four', 'S2': 'five', 'S3': 'six', 'S4': 'seven', 'corr': ' eight', 'incorr': ' seven', 'text': 'Desk done in four. Sun done in five. Apple done in six. Arm done in seven. Orange done in'}, {'S1': 'five', 'S2': 'six', 'S3': 'seven', 'S4': 'eight', 'corr': ' nine', 'incorr': ' eight', 'text': 'Cow done in five. Chair done in six. Arm done in seven. Key done in eight. Tree done in'}, {'S1': 'six', 'S2': 'seven', 'S3': 'eight', 'S4': 'nine', 'corr': ' ten', 'incorr': ' nine', 'text': 'Key done in six. Desk done in seven. Rose done in eight. Iron done in nine. Eye done in'}, {'S1': 'seven', 'S2': 'eight', 'S3': 'nine', 'S4': 'ten', 'corr': ' eleven', 'incorr': ' ten', 'text': 'Hat done in seven. Year done in eight. Road done in nine. Ice done in ten. Ear done in'}, {'S1': 'eight', 'S2': 'nine', 'S3': 'ten', 'S4': 'eleven', 'corr': ' twelve', 'incorr': ' eleven', 'text': 'Chair done in eight. Wind done in nine. Flag done in ten. Wallet done in eleven. Lake done in'}, {'S1': 'one', 'S2': 'two', 'S3': 'three', 'S4': 'four', 'corr': ' five', 'incorr': ' four', 'text': 'Wolf done in one. Bird done in two. Nut done in three. Fish done in four. Clock done in'}, {'S1': 'two', 'S2': 'three', 'S3': 'four', 'S4': 'five', 'corr': ' six', 'incorr': ' five', 'text': 'Ax done in two. Ball done in three. Wallet done in four. Gold done in five. Watch done in'}, {'S1': 'three', 'S2': 'four', 'S3': 'five', 'S4': 'six', 'corr': ' seven', 'incorr': ' six', 'text': 'Bird done in three. Ball done in four. Camera done in five. Desk done in six. Ocean done in'}, {'S1': 'four', 'S2': 'five', 'S3': 'six', 'S4': 'seven', 'corr': ' eight', 'incorr': ' seven', 'text': 'Bug done in four. Night done in five. Ocean done in six. Map done in seven. Snake done in'}, {'S1': 'five', 'S2': 'six', 'S3': 'seven', 'S4': 'eight', 'corr': ' nine', 'incorr': ' eight', 'text': 'Tree done in five. Orange done in six. Camera done in seven. Queen done in eight. Jam done in'}, {'S1': 'six', 'S2': 'seven', 'S3': 'eight', 'S4': 'nine', 'corr': ' ten', 'incorr': ' nine', 'text': 'Train done in six. Jam done in seven. Clock done in eight. Car done in nine. Fish done in'}, {'S1': 'seven', 'S2': 'eight', 'S3': 'nine', 'S4': 'ten', 'corr': ' eleven', 'incorr': ' ten', 'text': 'Queen done in seven. Rat done in eight. Desk done in nine. Car done in ten. Night done in'}, {'S1': 'eight', 'S2': 'nine', 'S3': 'ten', 'S4': 'eleven', 'corr': ' twelve', 'incorr': ' eleven', 'text': 'Hat done in eight. Hill done in nine. Rat done in ten. Rose done in eleven. Watch done in'}, {'S1': 'one', 'S2': 'two', 'S3': 'three', 'S4': 'four', 'corr': ' five', 'incorr': ' four', 'text': 'Van done in one. Moon done in two. Tree done in three. Flag done in four. Ring done in'}, {'S1': 'two', 'S2': 'three', 'S3': 'four', 'S4': 'five', 'corr': ' six', 'incorr': ' five', 'text': 'Desk done in two. Dog done in three. Fan done in four. Tree done in five. Year done in'}, {'S1': 'three', 'S2': 'four', 'S3': 'five', 'S4': 'six', 'corr': ' seven', 'incorr': ' six', 'text': 'Fan done in three. Snake done in four. Wheel done in five. Star done in six. Key done in'}, {'S1': 'four', 'S2': 'five', 'S3': 'six', 'S4': 'seven', 'corr': ' eight', 'incorr': ' seven', 'text': 'Queen done in four. Sun done in five. Box done in six. Light done in seven. Desk done in'}, {'S1': 'five', 'S2': 'six', 'S3': 'seven', 'S4': 'eight', 'corr': ' nine', 'incorr': ' eight', 'text': 'Queen done in five. Cat done in six. Road done in seven. Pear done in eight. Snake done in'}, {'S1': 'six', 'S2': 'seven', 'S3': 'eight', 'S4': 'nine', 'corr': ' ten', 'incorr': ' nine', 'text': 'Lake done in six. Box done in seven. Hat done in eight. Glass done in nine. Cow done in'}, {'S1': 'seven', 'S2': 'eight', 'S3': 'nine', 'S4': 'ten', 'corr': ' eleven', 'incorr': ' ten', 'text': 'Moon done in seven. Fan done in eight. Chair done in nine. Hill done in ten. Nut done in'}, {'S1': 'eight', 'S2': 'nine', 'S3': 'ten', 'S4': 'eleven', 'corr': ' twelve', 'incorr': ' eleven', 'text': 'Ball done in eight. Orange done in nine. Moon done in ten. Ring done in eleven. Star done in'}, {'S1': 'one', 'S2': 'two', 'S3': 'three', 'S4': 'four', 'corr': ' five', 'incorr': ' four', 'text': 'Moon done in one. Map done in two. Bug done in three. Hat done in four. Cow done in'}, {'S1': 'two', 'S2': 'three', 'S3': 'four', 'S4': 'five', 'corr': ' six', 'incorr': ' five', 'text': 'Desk done in two. Cat done in three. Tree done in four. Wall done in five. Apple done in'}, {'S1': 'three', 'S2': 'four', 'S3': 'five', 'S4': 'six', 'corr': ' seven', 'incorr': ' six', 'text': 'Window done in three. Desk done in four. Train done in five. Key done in six. Rat done in'}, {'S1': 'four', 'S2': 'five', 'S3': 'six', 'S4': 'seven', 'corr': ' eight', 'incorr': ' seven', 'text': 'Apple done in four. Tree done in five. Nut done in six. Year done in seven. Desk done in'}, {'S1': 'five', 'S2': 'six', 'S3': 'seven', 'S4': 'eight', 'corr': ' nine', 'incorr': ' eight', 'text': 'Wallet done in five. Light done in six. House done in seven. Ring done in eight. Rose done in'}, {'S1': 'six', 'S2': 'seven', 'S3': 'eight', 'S4': 'nine', 'corr': ' ten', 'incorr': ' nine', 'text': 'Ax done in six. Eye done in seven. Fish done in eight. Orange done in nine. Desk done in'}, {'S1': 'seven', 'S2': 'eight', 'S3': 'nine', 'S4': 'ten', 'corr': ' eleven', 'incorr': ' ten', 'text': 'Zip done in seven. Window done in eight. Rain done in nine. Wolf done in ten. Ant done in'}, {'S1': 'eight', 'S2': 'nine', 'S3': 'ten', 'S4': 'eleven', 'corr': ' twelve', 'incorr': ' eleven', 'text': 'Camera done in eight. Rain done in nine. Ear done in ten. Orange done in eleven. Desk done in'}, {'S1': 'one', 'S2': 'two', 'S3': 'three', 'S4': 'four', 'corr': ' five', 'incorr': ' four', 'text': 'Rose done in one. Camera done in two. Window done in three. Hat done in four. Sand done in'}, {'S1': 'two', 'S2': 'three', 'S3': 'four', 'S4': 'five', 'corr': ' six', 'incorr': ' five', 'text': 'Hill done in two. Rose done in three. Van done in four. Mouse done in five. Tree done in'}, {'S1': 'three', 'S2': 'four', 'S3': 'five', 'S4': 'six', 'corr': ' seven', 'incorr': ' six', 'text': 'Chair done in three. Oil done in four. Star done in five. Wolf done in six. Queen done in'}, {'S1': 'four', 'S2': 'five', 'S3': 'six', 'S4': 'seven', 'corr': ' eight', 'incorr': ' seven', 'text': 'Zip done in four. Train done in five. House done in six. Window done in seven. Flag done in'}, {'S1': 'five', 'S2': 'six', 'S3': 'seven', 'S4': 'eight', 'corr': ' nine', 'incorr': ' eight', 'text': 'Box done in five. Desk done in six. Window done in seven. Wind done in eight. Ring done in'}, {'S1': 'six', 'S2': 'seven', 'S3': 'eight', 'S4': 'nine', 'corr': ' ten', 'incorr': ' nine', 'text': 'Wheel done in six. Wallet done in seven. Rose done in eight. Ring done in nine. Arm done in'}, {'S1': 'seven', 'S2': 'eight', 'S3': 'nine', 'S4': 'ten', 'corr': ' eleven', 'incorr': ' ten', 'text': 'Hat done in seven. Queen done in eight. Book done in nine. Star done in ten. Gate done in'}, {'S1': 'eight', 'S2': 'nine', 'S3': 'ten', 'S4': 'eleven', 'corr': ' twelve', 'incorr': ' eleven', 'text': 'Pear done in eight. Bug done in nine. Chair done in ten. Road done in eleven. Rain done in'}, {'S1': 'one', 'S2': 'two', 'S3': 'three', 'S4': 'four', 'corr': ' five', 'incorr': ' four', 'text': 'Sun done in one. Orange done in two. Key done in three. Bug done in four. Key done in'}, {'S1': 'two', 'S2': 'three', 'S3': 'four', 'S4': 'five', 'corr': ' six', 'incorr': ' five', 'text': 'Chair done in two. Hill done in three. Queen done in four. Watch done in five. Hand done in'}, {'S1': 'three', 'S2': 'four', 'S3': 'five', 'S4': 'six', 'corr': ' seven', 'incorr': ' six', 'text': 'Van done in three. Flag done in four. Sun done in five. Cat done in six. Glass done in'}, {'S1': 'four', 'S2': 'five', 'S3': 'six', 'S4': 'seven', 'corr': ' eight', 'incorr': ' seven', 'text': 'Iron done in four. Wolf done in five. Desk done in six. Queen done in seven. Orange done in'}, {'S1': 'five', 'S2': 'six', 'S3': 'seven', 'S4': 'eight', 'corr': ' nine', 'incorr': ' eight', 'text': 'Queen done in five. Eye done in six. Light done in seven. Fan done in eight. Apple done in'}, {'S1': 'six', 'S2': 'seven', 'S3': 'eight', 'S4': 'nine', 'corr': ' ten', 'incorr': ' nine', 'text': 'Jam done in six. Snake done in seven. Chair done in eight. Dog done in nine. Ax done in'}, {'S1': 'seven', 'S2': 'eight', 'S3': 'nine', 'S4': 'ten', 'corr': ' eleven', 'incorr': ' ten', 'text': 'Fan done in seven. Bug done in eight. Ring done in nine. Lake done in ten. Rose done in'}, {'S1': 'eight', 'S2': 'nine', 'S3': 'ten', 'S4': 'eleven', 'corr': ' twelve', 'incorr': ' eleven', 'text': 'Flag done in eight. House done in nine. Van done in ten. Star done in eleven. Iron done in'}, {'S1': 'one', 'S2': 'two', 'S3': 'three', 'S4': 'four', 'corr': ' five', 'incorr': ' four', 'text': 'Ear done in one. Snow done in two. Ring done in three. Dog done in four. Watch done in'}, {'S1': 'two', 'S2': 'three', 'S3': 'four', 'S4': 'five', 'corr': ' six', 'incorr': ' five', 'text': 'Window done in two. Year done in three. Van done in four. Light done in five. House done in'}, {'S1': 'three', 'S2': 'four', 'S3': 'five', 'S4': 'six', 'corr': ' seven', 'incorr': ' six', 'text': 'Nut done in three. Light done in four. Gold done in five. Queen done in six. Ant done in'}, {'S1': 'four', 'S2': 'five', 'S3': 'six', 'S4': 'seven', 'corr': ' eight', 'incorr': ' seven', 'text': 'Dog done in four. Desk done in five. Hat done in six. Key done in seven. Tree done in'}, {'S1': 'five', 'S2': 'six', 'S3': 'seven', 'S4': 'eight', 'corr': ' nine', 'incorr': ' eight', 'text': 'Cow done in five. Ear done in six. Ocean done in seven. Window done in eight. Ax done in'}, {'S1': 'six', 'S2': 'seven', 'S3': 'eight', 'S4': 'nine', 'corr': ' ten', 'incorr': ' nine', 'text': 'Hill done in six. Watch done in seven. Box done in eight. Ice done in nine. Pen done in'}, {'S1': 'seven', 'S2': 'eight', 'S3': 'nine', 'S4': 'ten', 'corr': ' eleven', 'incorr': ' ten', 'text': 'Apple done in seven. Book done in eight. Rose done in nine. Hat done in ten. Light done in'}, {'S1': 'eight', 'S2': 'nine', 'S3': 'ten', 'S4': 'eleven', 'corr': ' twelve', 'incorr': ' eleven', 'text': 'Ring done in eight. Moon done in nine. Tree done in ten. Van done in eleven. Dog done in'}, {'S1': 'one', 'S2': 'two', 'S3': 'three', 'S4': 'four', 'corr': ' five', 'incorr': ' four', 'text': 'Ax done in one. Hat done in two. Pen done in three. Orange done in four. Key done in'}, {'S1': 'two', 'S2': 'three', 'S3': 'four', 'S4': 'five', 'corr': ' six', 'incorr': ' five', 'text': 'Key done in two. Pen done in three. Pear done in four. Ax done in five. Chair done in'}, {'S1': 'three', 'S2': 'four', 'S3': 'five', 'S4': 'six', 'corr': ' seven', 'incorr': ' six', 'text': 'Sun done in three. Ocean done in four. Ax done in five. Key done in six. Mouse done in'}, {'S1': 'four', 'S2': 'five', 'S3': 'six', 'S4': 'seven', 'corr': ' eight', 'incorr': ' seven', 'text': 'Ball done in four. Corn done in five. Queen done in six. Window done in seven. Lake done in'}, {'S1': 'five', 'S2': 'six', 'S3': 'seven', 'S4': 'eight', 'corr': ' nine', 'incorr': ' eight', 'text': 'Van done in five. Apple done in six. Rat done in seven. Wall done in eight. Bird done in'}, {'S1': 'six', 'S2': 'seven', 'S3': 'eight', 'S4': 'nine', 'corr': ' ten', 'incorr': ' nine', 'text': 'House done in six. Car done in seven. Key done in eight. Desk done in nine. Tree done in'}, {'S1': 'seven', 'S2': 'eight', 'S3': 'nine', 'S4': 'ten', 'corr': ' eleven', 'incorr': ' ten', 'text': 'Map done in seven. Desk done in eight. Box done in nine. House done in ten. Car done in'}, {'S1': 'eight', 'S2': 'nine', 'S3': 'ten', 'S4': 'eleven', 'corr': ' twelve', 'incorr': ' eleven', 'text': 'Rose done in eight. Snake done in nine. Watch done in ten. Train done in eleven. Eye done in'}, {'S1': 'one', 'S2': 'two', 'S3': 'three', 'S4': 'four', 'corr': ' five', 'incorr': ' four', 'text': 'Key done in one. Fish done in two. House done in three. Jar done in four. Apple done in'}, {'S1': 'two', 'S2': 'three', 'S3': 'four', 'S4': 'five', 'corr': ' six', 'incorr': ' five', 'text': 'Flag done in two. Rain done in three. Ax done in four. Rose done in five. Wolf done in'}, {'S1': 'three', 'S2': 'four', 'S3': 'five', 'S4': 'six', 'corr': ' seven', 'incorr': ' six', 'text': 'Key done in three. Orange done in four. Desk done in five. Wall done in six. Snake done in'}, {'S1': 'four', 'S2': 'five', 'S3': 'six', 'S4': 'seven', 'corr': ' eight', 'incorr': ' seven', 'text': 'Jam done in four. Bird done in five. Car done in six. Queen done in seven. Wind done in'}, {'S1': 'five', 'S2': 'six', 'S3': 'seven', 'S4': 'eight', 'corr': ' nine', 'incorr': ' eight', 'text': 'Wolf done in five. Nut done in six. Van done in seven. Wall done in eight. Gate done in'}, {'S1': 'six', 'S2': 'seven', 'S3': 'eight', 'S4': 'nine', 'corr': ' ten', 'incorr': ' nine', 'text': 'Fan done in six. Flag done in seven. Queen done in eight. Car done in nine. Moon done in'}, {'S1': 'seven', 'S2': 'eight', 'S3': 'nine', 'S4': 'ten', 'corr': ' eleven', 'incorr': ' ten', 'text': 'Fish done in seven. Queen done in eight. Snow done in nine. Sand done in ten. Apple done in'}, {'S1': 'eight', 'S2': 'nine', 'S3': 'ten', 'S4': 'eleven', 'corr': ' twelve', 'incorr': ' eleven', 'text': 'Hill done in eight. Iron done in nine. Fire done in ten. Rose done in eleven. Box done in'}, {'S1': 'one', 'S2': 'two', 'S3': 'three', 'S4': 'four', 'corr': ' five', 'incorr': ' four', 'text': 'Wallet done in one. Rat done in two. Orange done in three. Orange done in four. Ax done in'}, {'S1': 'two', 'S2': 'three', 'S3': 'four', 'S4': 'five', 'corr': ' six', 'incorr': ' five', 'text': 'Fan done in two. Wallet done in three. Desk done in four. Fish done in five. Pen done in'}, {'S1': 'three', 'S2': 'four', 'S3': 'five', 'S4': 'six', 'corr': ' seven', 'incorr': ' six', 'text': 'Ice done in three. Car done in four. Rose done in five. Tree done in six. Apple done in'}, {'S1': 'four', 'S2': 'five', 'S3': 'six', 'S4': 'seven', 'corr': ' eight', 'incorr': ' seven', 'text': 'Tree done in four. House done in five. Ring done in six. Ant done in seven. Fan done in'}, {'S1': 'five', 'S2': 'six', 'S3': 'seven', 'S4': 'eight', 'corr': ' nine', 'incorr': ' eight', 'text': 'Flag done in five. Rose done in six. Sun done in seven. Cow done in eight. Ring done in'}, {'S1': 'six', 'S2': 'seven', 'S3': 'eight', 'S4': 'nine', 'corr': ' ten', 'incorr': ' nine', 'text': 'Orange done in six. Hat done in seven. Camera done in eight. Window done in nine. Box done in'}, {'S1': 'seven', 'S2': 'eight', 'S3': 'nine', 'S4': 'ten', 'corr': ' eleven', 'incorr': ' ten', 'text': 'Nut done in seven. Watch done in eight. Gold done in nine. Bug done in ten. Fire done in'}, {'S1': 'eight', 'S2': 'nine', 'S3': 'ten', 'S4': 'eleven', 'corr': ' twelve', 'incorr': ' eleven', 'text': 'Van done in eight. Year done in nine. Nut done in ten. Queen done in eleven. House done in'}, {'S1': 'one', 'S2': 'two', 'S3': 'three', 'S4': 'four', 'corr': ' five', 'incorr': ' four', 'text': 'Window done in one. Key done in two. Camera done in three. Snow done in four. Bird done in'}, {'S1': 'two', 'S2': 'three', 'S3': 'four', 'S4': 'five', 'corr': ' six', 'incorr': ' five', 'text': 'Corn done in two. Light done in three. Desk done in four. House done in five. Jar done in'}, {'S1': 'three', 'S2': 'four', 'S3': 'five', 'S4': 'six', 'corr': ' seven', 'incorr': ' six', 'text': 'Ear done in three. Iron done in four. House done in five. Wall done in six. Desk done in'}, {'S1': 'four', 'S2': 'five', 'S3': 'six', 'S4': 'seven', 'corr': ' eight', 'incorr': ' seven', 'text': 'Flag done in four. Camera done in five. Watch done in six. Key done in seven. Tree done in'}, {'S1': 'five', 'S2': 'six', 'S3': 'seven', 'S4': 'eight', 'corr': ' nine', 'incorr': ' eight', 'text': 'Fire done in five. Queen done in six. Table done in seven. Dog done in eight. Desk done in'}, {'S1': 'six', 'S2': 'seven', 'S3': 'eight', 'S4': 'nine', 'corr': ' ten', 'incorr': ' nine', 'text': 'Lake done in six. House done in seven. Hand done in eight. Cat done in nine. Road done in'}, {'S1': 'seven', 'S2': 'eight', 'S3': 'nine', 'S4': 'ten', 'corr': ' eleven', 'incorr': ' ten', 'text': 'Apple done in seven. Sun done in eight. Queen done in nine. Van done in ten. Nut done in'}, {'S1': 'eight', 'S2': 'nine', 'S3': 'ten', 'S4': 'eleven', 'corr': ' twelve', 'incorr': ' eleven', 'text': 'Hand done in eight. Star done in nine. Table done in ten. Ice done in eleven. Orange done in'}, {'S1': 'one', 'S2': 'two', 'S3': 'three', 'S4': 'four', 'corr': ' five', 'incorr': ' four', 'text': 'Fan done in one. Lake done in two. Gold done in three. Flag done in four. Map done in'}, {'S1': 'two', 'S2': 'three', 'S3': 'four', 'S4': 'five', 'corr': ' six', 'incorr': ' five', 'text': 'Nut done in two. Ice done in three. Hill done in four. Ear done in five. Clock done in'}, {'S1': 'three', 'S2': 'four', 'S3': 'five', 'S4': 'six', 'corr': ' seven', 'incorr': ' six', 'text': 'Watch done in three. Wall done in four. Apple done in five. Star done in six. Iron done in'}, {'S1': 'four', 'S2': 'five', 'S3': 'six', 'S4': 'seven', 'corr': ' eight', 'incorr': ' seven', 'text': 'Orange done in four. Mouse done in five. Ax done in six. Arm done in seven. Iron done in'}, {'S1': 'five', 'S2': 'six', 'S3': 'seven', 'S4': 'eight', 'corr': ' nine', 'incorr': ' eight', 'text': 'Year done in five. Ball done in six. Orange done in seven. Rain done in eight. Camera done in'}, {'S1': 'six', 'S2': 'seven', 'S3': 'eight', 'S4': 'nine', 'corr': ' ten', 'incorr': ' nine', 'text': 'Ear done in six. Rose done in seven. Ocean done in eight. Camera done in nine. Fish done in'}, {'S1': 'seven', 'S2': 'eight', 'S3': 'nine', 'S4': 'ten', 'corr': ' eleven', 'incorr': ' ten', 'text': 'Flag done in seven. Sun done in eight. Car done in nine. Snake done in ten. Ball done in'}, {'S1': 'eight', 'S2': 'nine', 'S3': 'ten', 'S4': 'eleven', 'corr': ' twelve', 'incorr': ' eleven', 'text': 'Mouse done in eight. Orange done in nine. Van done in ten. Watch done in eleven. Bug done in'}, {'S1': 'one', 'S2': 'two', 'S3': 'three', 'S4': 'four', 'corr': ' five', 'incorr': ' four', 'text': 'Window done in one. Ball done in two. Desk done in three. Hat done in four. Apple done in'}, {'S1': 'two', 'S2': 'three', 'S3': 'four', 'S4': 'five', 'corr': ' six', 'incorr': ' five', 'text': 'Iron done in two. Ball done in three. Desk done in four. Tree done in five. Camera done in'}, {'S1': 'three', 'S2': 'four', 'S3': 'five', 'S4': 'six', 'corr': ' seven', 'incorr': ' six', 'text': 'Rose done in three. House done in four. Ball done in five. Mouse done in six. Ring done in'}, {'S1': 'four', 'S2': 'five', 'S3': 'six', 'S4': 'seven', 'corr': ' eight', 'incorr': ' seven', 'text': 'Hat done in four. Star done in five. Nut done in six. Nut done in seven. Ant done in'}, {'S1': 'five', 'S2': 'six', 'S3': 'seven', 'S4': 'eight', 'corr': ' nine', 'incorr': ' eight', 'text': 'Ball done in five. Apple done in six. Orange done in seven. Book done in eight. Queen done in'}, {'S1': 'six', 'S2': 'seven', 'S3': 'eight', 'S4': 'nine', 'corr': ' ten', 'incorr': ' nine', 'text': 'Snake done in six. Night done in seven. House done in eight. Watch done in nine. Wheel done in'}, {'S1': 'seven', 'S2': 'eight', 'S3': 'nine', 'S4': 'ten', 'corr': ' eleven', 'incorr': ' ten', 'text': 'Queen done in seven. Ax done in eight. Orange done in nine. Desk done in ten. Fan done in'}, {'S1': 'eight', 'S2': 'nine', 'S3': 'ten', 'S4': 'eleven', 'corr': ' twelve', 'incorr': ' eleven', 'text': 'Van done in eight. King done in nine. Rain done in ten. Fire done in eleven. Gold done in'}, {'S1': 'one', 'S2': 'two', 'S3': 'three', 'S4': 'four', 'corr': ' five', 'incorr': ' four', 'text': 'Queen done in one. Rain done in two. Train done in three. Bug done in four. Wolf done in'}, {'S1': 'two', 'S2': 'three', 'S3': 'four', 'S4': 'five', 'corr': ' six', 'incorr': ' five', 'text': 'Queen done in two. Cat done in three. Road done in four. Hand done in five. Tree done in'}, {'S1': 'three', 'S2': 'four', 'S3': 'five', 'S4': 'six', 'corr': ' seven', 'incorr': ' six', 'text': 'Snow done in three. Gold done in four. Apple done in five. Snake done in six. Window done in'}, {'S1': 'four', 'S2': 'five', 'S3': 'six', 'S4': 'seven', 'corr': ' eight', 'incorr': ' seven', 'text': 'Fire done in four. Corn done in five. Rose done in six. Ring done in seven. Cat done in'}, {'S1': 'five', 'S2': 'six', 'S3': 'seven', 'S4': 'eight', 'corr': ' nine', 'incorr': ' eight', 'text': 'Snake done in five. Sand done in six. Flag done in seven. Rat done in eight. Arm done in'}, {'S1': 'six', 'S2': 'seven', 'S3': 'eight', 'S4': 'nine', 'corr': ' ten', 'incorr': ' nine', 'text': 'Orange done in six. Desk done in seven. Wheel done in eight. Rose done in nine. Ice done in'}, {'S1': 'seven', 'S2': 'eight', 'S3': 'nine', 'S4': 'ten', 'corr': ' eleven', 'incorr': ' ten', 'text': 'Queen done in seven. Book done in eight. Rain done in nine. Jam done in ten. Sand done in'}, {'S1': 'eight', 'S2': 'nine', 'S3': 'ten', 'S4': 'eleven', 'corr': ' twelve', 'incorr': ' eleven', 'text': 'Window done in eight. Apple done in nine. Apple done in ten. Desk done in eleven. Corn done in'}, {'S1': 'one', 'S2': 'two', 'S3': 'three', 'S4': 'four', 'corr': ' five', 'incorr': ' four', 'text': 'Key done in one. Corn done in two. Desk done in three. Queen done in four. Apple done in'}, {'S1': 'two', 'S2': 'three', 'S3': 'four', 'S4': 'five', 'corr': ' six', 'incorr': ' five', 'text': 'Pear done in two. Wind done in three. Nut done in four. Desk done in five. Orange done in'}, {'S1': 'three', 'S2': 'four', 'S3': 'five', 'S4': 'six', 'corr': ' seven', 'incorr': ' six', 'text': 'Rat done in three. Oil done in four. Watch done in five. Jam done in six. Queen done in'}, {'S1': 'four', 'S2': 'five', 'S3': 'six', 'S4': 'seven', 'corr': ' eight', 'incorr': ' seven', 'text': 'Hat done in four. Night done in five. Eye done in six. Box done in seven. Rose done in'}, {'S1': 'five', 'S2': 'six', 'S3': 'seven', 'S4': 'eight', 'corr': ' nine', 'incorr': ' eight', 'text': 'King done in five. Eye done in six. Corn done in seven. Apple done in eight. Queen done in'}, {'S1': 'six', 'S2': 'seven', 'S3': 'eight', 'S4': 'nine', 'corr': ' ten', 'incorr': ' nine', 'text': 'Eye done in six. Desk done in seven. Ball done in eight. Van done in nine. Box done in'}, {'S1': 'seven', 'S2': 'eight', 'S3': 'nine', 'S4': 'ten', 'corr': ' eleven', 'incorr': ' ten', 'text': 'Flag done in seven. Clock done in eight. Star done in nine. Box done in ten. Sand done in'}, {'S1': 'eight', 'S2': 'nine', 'S3': 'ten', 'S4': 'eleven', 'corr': ' twelve', 'incorr': ' eleven', 'text': 'Queen done in eight. Star done in nine. Apple done in ten. Iron done in eleven. Rat done in'}, {'S1': 'one', 'S2': 'two', 'S3': 'three', 'S4': 'four', 'corr': ' five', 'incorr': ' four', 'text': 'Map done in one. Van done in two. Oil done in three. Queen done in four. Tree done in'}, {'S1': 'two', 'S2': 'three', 'S3': 'four', 'S4': 'five', 'corr': ' six', 'incorr': ' five', 'text': 'Ice done in two. Ring done in three. Night done in four. Apple done in five. Table done in'}, {'S1': 'three', 'S2': 'four', 'S3': 'five', 'S4': 'six', 'corr': ' seven', 'incorr': ' six', 'text': 'Ax done in three. Apple done in four. Corn done in five. Camera done in six. Pen done in'}, {'S1': 'four', 'S2': 'five', 'S3': 'six', 'S4': 'seven', 'corr': ' eight', 'incorr': ' seven', 'text': 'Fan done in four. Clock done in five. Wall done in six. Ring done in seven. Key done in'}, {'S1': 'five', 'S2': 'six', 'S3': 'seven', 'S4': 'eight', 'corr': ' nine', 'incorr': ' eight', 'text': 'Rose done in five. House done in six. Nut done in seven. Ear done in eight. Desk done in'}, {'S1': 'six', 'S2': 'seven', 'S3': 'eight', 'S4': 'nine', 'corr': ' ten', 'incorr': ' nine', 'text': 'House done in six. Jar done in seven. Window done in eight. Wind done in nine. Night done in'}, {'S1': 'seven', 'S2': 'eight', 'S3': 'nine', 'S4': 'ten', 'corr': ' eleven', 'incorr': ' ten', 'text': 'Year done in seven. Wallet done in eight. Ring done in nine. Apple done in ten. Ring done in'}, {'S1': 'eight', 'S2': 'nine', 'S3': 'ten', 'S4': 'eleven', 'corr': ' twelve', 'incorr': ' eleven', 'text': 'Ball done in eight. Queen done in nine. Tree done in ten. Flag done in eleven. Fan done in'}, {'S1': 'one', 'S2': 'two', 'S3': 'three', 'S4': 'four', 'corr': ' five', 'incorr': ' four', 'text': 'Pear done in one. Camera done in two. Car done in three. Night done in four. Hand done in'}, {'S1': 'two', 'S2': 'three', 'S3': 'four', 'S4': 'five', 'corr': ' six', 'incorr': ' five', 'text': 'Lake done in two. Rat done in three. Ring done in four. Fish done in five. Camera done in'}, {'S1': 'three', 'S2': 'four', 'S3': 'five', 'S4': 'six', 'corr': ' seven', 'incorr': ' six', 'text': 'Hand done in three. House done in four. Moon done in five. Window done in six. Fire done in'}, {'S1': 'four', 'S2': 'five', 'S3': 'six', 'S4': 'seven', 'corr': ' eight', 'incorr': ' seven', 'text': 'Key done in four. Train done in five. Desk done in six. Hill done in seven. Rat done in'}, {'S1': 'five', 'S2': 'six', 'S3': 'seven', 'S4': 'eight', 'corr': ' nine', 'incorr': ' eight', 'text': 'Tree done in five. Pen done in six. Wheel done in seven. Car done in eight. Wolf done in'}, {'S1': 'six', 'S2': 'seven', 'S3': 'eight', 'S4': 'nine', 'corr': ' ten', 'incorr': ' nine', 'text': 'Orange done in six. Cow done in seven. Apple done in eight. Van done in nine. Glass done in'}, {'S1': 'seven', 'S2': 'eight', 'S3': 'nine', 'S4': 'ten', 'corr': ' eleven', 'incorr': ' ten', 'text': 'King done in seven. Desk done in eight. Gate done in nine. Camera done in ten. Car done in'}, {'S1': 'eight', 'S2': 'nine', 'S3': 'ten', 'S4': 'eleven', 'corr': ' twelve', 'incorr': ' eleven', 'text': 'Eye done in eight. Gold done in nine. Train done in ten. Oil done in eleven. Queen done in'}, {'S1': 'one', 'S2': 'two', 'S3': 'three', 'S4': 'four', 'corr': ' five', 'incorr': ' four', 'text': 'Gold done in one. Ball done in two. Hand done in three. Key done in four. Sun done in'}, {'S1': 'two', 'S2': 'three', 'S3': 'four', 'S4': 'five', 'corr': ' six', 'incorr': ' five', 'text': 'Mouse done in two. Star done in three. Ball done in four. Train done in five. Camera done in'}, {'S1': 'three', 'S2': 'four', 'S3': 'five', 'S4': 'six', 'corr': ' seven', 'incorr': ' six', 'text': 'Chair done in three. Hat done in four. Rose done in five. Dog done in six. Ear done in'}, {'S1': 'four', 'S2': 'five', 'S3': 'six', 'S4': 'seven', 'corr': ' eight', 'incorr': ' seven', 'text': 'Ring done in four. Rat done in five. Desk done in six. Map done in seven. Car done in'}, {'S1': 'five', 'S2': 'six', 'S3': 'seven', 'S4': 'eight', 'corr': ' nine', 'incorr': ' eight', 'text': 'Mouse done in five. Rat done in six. Hat done in seven. Fan done in eight. Lake done in'}, {'S1': 'six', 'S2': 'seven', 'S3': 'eight', 'S4': 'nine', 'corr': ' ten', 'incorr': ' nine', 'text': 'Ice done in six. Nut done in seven. House done in eight. Gold done in nine. Ear done in'}, {'S1': 'seven', 'S2': 'eight', 'S3': 'nine', 'S4': 'ten', 'corr': ' eleven', 'incorr': ' ten', 'text': 'Year done in seven. Cow done in eight. Cat done in nine. Pear done in ten. Fan done in'}, {'S1': 'eight', 'S2': 'nine', 'S3': 'ten', 'S4': 'eleven', 'corr': ' twelve', 'incorr': ' eleven', 'text': 'Year done in eight. Hill done in nine. Flag done in ten. Jam done in eleven. Eye done in'}, {'S1': 'one', 'S2': 'two', 'S3': 'three', 'S4': 'four', 'corr': ' five', 'incorr': ' four', 'text': 'Fish done in one. Queen done in two. Hand done in three. Rose done in four. Watch done in'}, {'S1': 'two', 'S2': 'three', 'S3': 'four', 'S4': 'five', 'corr': ' six', 'incorr': ' five', 'text': 'Wind done in two. Rose done in three. Oil done in four. Sand done in five. Van done in'}, {'S1': 'three', 'S2': 'four', 'S3': 'five', 'S4': 'six', 'corr': ' seven', 'incorr': ' six', 'text': 'Rain done in three. Orange done in four. Car done in five. Bird done in six. Map done in'}, {'S1': 'four', 'S2': 'five', 'S3': 'six', 'S4': 'seven', 'corr': ' eight', 'incorr': ' seven', 'text': 'Camera done in four. Flag done in five. Van done in six. Oil done in seven. Jam done in'}, {'S1': 'five', 'S2': 'six', 'S3': 'seven', 'S4': 'eight', 'corr': ' nine', 'incorr': ' eight', 'text': 'Jar done in five. Pen done in six. Orange done in seven. Wolf done in eight. Train done in'}, {'S1': 'six', 'S2': 'seven', 'S3': 'eight', 'S4': 'nine', 'corr': ' ten', 'incorr': ' nine', 'text': 'Key done in six. Car done in seven. Desk done in eight. Key done in nine. Hat done in'}, {'S1': 'seven', 'S2': 'eight', 'S3': 'nine', 'S4': 'ten', 'corr': ' eleven', 'incorr': ' ten', 'text': 'Iron done in seven. Tree done in eight. Chair done in nine. Map done in ten. Arm done in'}, {'S1': 'eight', 'S2': 'nine', 'S3': 'ten', 'S4': 'eleven', 'corr': ' twelve', 'incorr': ' eleven', 'text': 'Rain done in eight. Key done in nine. Glass done in ten. Hill done in eleven. Camera done in'}, {'S1': 'one', 'S2': 'two', 'S3': 'three', 'S4': 'four', 'corr': ' five', 'incorr': ' four', 'text': 'Mouse done in one. Corn done in two. Car done in three. Wall done in four. Ant done in'}, {'S1': 'two', 'S2': 'three', 'S3': 'four', 'S4': 'five', 'corr': ' six', 'incorr': ' five', 'text': 'Car done in two. Eye done in three. Pear done in four. Corn done in five. Sand done in'}, {'S1': 'three', 'S2': 'four', 'S3': 'five', 'S4': 'six', 'corr': ' seven', 'incorr': ' six', 'text': 'Year done in three. Apple done in four. Star done in five. Map done in six. Nut done in'}, {'S1': 'four', 'S2': 'five', 'S3': 'six', 'S4': 'seven', 'corr': ' eight', 'incorr': ' seven', 'text': 'Light done in four. Key done in five. Fish done in six. Car done in seven. Apple done in'}, {'S1': 'five', 'S2': 'six', 'S3': 'seven', 'S4': 'eight', 'corr': ' nine', 'incorr': ' eight', 'text': 'Zip done in five. King done in six. Key done in seven. Ocean done in eight. Sand done in'}, {'S1': 'six', 'S2': 'seven', 'S3': 'eight', 'S4': 'nine', 'corr': ' ten', 'incorr': ' nine', 'text': 'House done in six. Car done in seven. Watch done in eight. Box done in nine. Queen done in'}, {'S1': 'seven', 'S2': 'eight', 'S3': 'nine', 'S4': 'ten', 'corr': ' eleven', 'incorr': ' ten', 'text': 'Bug done in seven. Orange done in eight. Jam done in nine. Box done in ten. Tree done in'}, {'S1': 'eight', 'S2': 'nine', 'S3': 'ten', 'S4': 'eleven', 'corr': ' twelve', 'incorr': ' eleven', 'text': 'Hat done in eight. Clock done in nine. Bug done in ten. Ball done in eleven. Year done in'}, {'S1': 'one', 'S2': 'two', 'S3': 'three', 'S4': 'four', 'corr': ' five', 'incorr': ' four', 'text': 'Camera done in one. Fan done in two. Oil done in three. Queen done in four. Pen done in'}, {'S1': 'two', 'S2': 'three', 'S3': 'four', 'S4': 'five', 'corr': ' six', 'incorr': ' five', 'text': 'Queen done in two. Clock done in three. Dog done in four. Queen done in five. Queen done in'}, {'S1': 'three', 'S2': 'four', 'S3': 'five', 'S4': 'six', 'corr': ' seven', 'incorr': ' six', 'text': 'Wolf done in three. Camera done in four. Table done in five. Ring done in six. Ear done in'}, {'S1': 'four', 'S2': 'five', 'S3': 'six', 'S4': 'seven', 'corr': ' eight', 'incorr': ' seven', 'text': 'Nut done in four. Bug done in five. Van done in six. Queen done in seven. Tree done in'}, {'S1': 'five', 'S2': 'six', 'S3': 'seven', 'S4': 'eight', 'corr': ' nine', 'incorr': ' eight', 'text': 'Van done in five. Nut done in six. Light done in seven. Iron done in eight. Ring done in'}, {'S1': 'six', 'S2': 'seven', 'S3': 'eight', 'S4': 'nine', 'corr': ' ten', 'incorr': ' nine', 'text': 'Gold done in six. Car done in seven. Camera done in eight. Apple done in nine. Map done in'}, {'S1': 'seven', 'S2': 'eight', 'S3': 'nine', 'S4': 'ten', 'corr': ' eleven', 'incorr': ' ten', 'text': 'Bird done in seven. Ant done in eight. House done in nine. King done in ten. Train done in'}, {'S1': 'eight', 'S2': 'nine', 'S3': 'ten', 'S4': 'eleven', 'corr': ' twelve', 'incorr': ' eleven', 'text': 'Iron done in eight. Key done in nine. Night done in ten. Pen done in eleven. Train done in'}, {'S1': 'one', 'S2': 'two', 'S3': 'three', 'S4': 'four', 'corr': ' five', 'incorr': ' four', 'text': 'Jam done in one. Hill done in two. Window done in three. Moon done in four. Orange done in'}, {'S1': 'two', 'S2': 'three', 'S3': 'four', 'S4': 'five', 'corr': ' six', 'incorr': ' five', 'text': 'House done in two. Hill done in three. Ring done in four. Rain done in five. Zip done in'}, {'S1': 'three', 'S2': 'four', 'S3': 'five', 'S4': 'six', 'corr': ' seven', 'incorr': ' six', 'text': 'Bug done in three. Ax done in four. Fish done in five. Cow done in six. Bird done in'}, {'S1': 'four', 'S2': 'five', 'S3': 'six', 'S4': 'seven', 'corr': ' eight', 'incorr': ' seven', 'text': 'King done in four. Gate done in five. Pear done in six. Wolf done in seven. House done in'}, {'S1': 'five', 'S2': 'six', 'S3': 'seven', 'S4': 'eight', 'corr': ' nine', 'incorr': ' eight', 'text': 'Cow done in five. Watch done in six. Rose done in seven. Sand done in eight. Fish done in'}, {'S1': 'six', 'S2': 'seven', 'S3': 'eight', 'S4': 'nine', 'corr': ' ten', 'incorr': ' nine', 'text': 'Wolf done in six. Zip done in seven. Jar done in eight. Watch done in nine. Eye done in'}, {'S1': 'seven', 'S2': 'eight', 'S3': 'nine', 'S4': 'ten', 'corr': ' eleven', 'incorr': ' ten', 'text': 'Tree done in seven. Watch done in eight. Window done in nine. Night done in ten. Car done in'}, {'S1': 'eight', 'S2': 'nine', 'S3': 'ten', 'S4': 'eleven', 'corr': ' twelve', 'incorr': ' eleven', 'text': 'Orange done in eight. Rat done in nine. Iron done in ten. Fire done in eleven. Nut done in'}, {'S1': 'one', 'S2': 'two', 'S3': 'three', 'S4': 'four', 'corr': ' five', 'incorr': ' four', 'text': 'Watch done in one. Cow done in two. Snow done in three. Queen done in four. Apple done in'}, {'S1': 'two', 'S2': 'three', 'S3': 'four', 'S4': 'five', 'corr': ' six', 'incorr': ' five', 'text': 'Fan done in two. Desk done in three. Orange done in four. Wind done in five. Ear done in'}, {'S1': 'three', 'S2': 'four', 'S3': 'five', 'S4': 'six', 'corr': ' seven', 'incorr': ' six', 'text': 'Hill done in three. Car done in four. Orange done in five. Bug done in six. Apple done in'}, {'S1': 'four', 'S2': 'five', 'S3': 'six', 'S4': 'seven', 'corr': ' eight', 'incorr': ' seven', 'text': 'Watch done in four. Tree done in five. Gold done in six. Oil done in seven. Desk done in'}, {'S1': 'five', 'S2': 'six', 'S3': 'seven', 'S4': 'eight', 'corr': ' nine', 'incorr': ' eight', 'text': 'Desk done in five. House done in six. Ax done in seven. Apple done in eight. Rose done in'}, {'S1': 'six', 'S2': 'seven', 'S3': 'eight', 'S4': 'nine', 'corr': ' ten', 'incorr': ' nine', 'text': 'Queen done in six. Watch done in seven. Hand done in eight. Fan done in nine. Desk done in'}, {'S1': 'seven', 'S2': 'eight', 'S3': 'nine', 'S4': 'ten', 'corr': ' eleven', 'incorr': ' ten', 'text': 'Cat done in seven. Road done in eight. Ball done in nine. Rat done in ten. Ring done in'}, {'S1': 'eight', 'S2': 'nine', 'S3': 'ten', 'S4': 'eleven', 'corr': ' twelve', 'incorr': ' eleven', 'text': 'House done in eight. Table done in nine. Window done in ten. Star done in eleven. Ring done in'}, {'S1': 'one', 'S2': 'two', 'S3': 'three', 'S4': 'four', 'corr': ' five', 'incorr': ' four', 'text': 'Train done in one. Jam done in two. Road done in three. Desk done in four. Flag done in'}, {'S1': 'two', 'S2': 'three', 'S3': 'four', 'S4': 'five', 'corr': ' six', 'incorr': ' five', 'text': 'Wallet done in two. Ear done in three. Clock done in four. Car done in five. Fish done in'}, {'S1': 'three', 'S2': 'four', 'S3': 'five', 'S4': 'six', 'corr': ' seven', 'incorr': ' six', 'text': 'Apple done in three. Gate done in four. Ring done in five. Light done in six. King done in'}, {'S1': 'four', 'S2': 'five', 'S3': 'six', 'S4': 'seven', 'corr': ' eight', 'incorr': ' seven', 'text': 'House done in four. Rain done in five. Window done in six. Pear done in seven. Bird done in'}, {'S1': 'five', 'S2': 'six', 'S3': 'seven', 'S4': 'eight', 'corr': ' nine', 'incorr': ' eight', 'text': 'Lake done in five. Watch done in six. Rose done in seven. Hat done in eight. Ball done in'}, {'S1': 'six', 'S2': 'seven', 'S3': 'eight', 'S4': 'nine', 'corr': ' ten', 'incorr': ' nine', 'text': 'Star done in six. Rat done in seven. Car done in eight. Queen done in nine. Orange done in'}, {'S1': 'seven', 'S2': 'eight', 'S3': 'nine', 'S4': 'ten', 'corr': ' eleven', 'incorr': ' ten', 'text': 'Hat done in seven. Nut done in eight. Rose done in nine. Ear done in ten. Pen done in'}, {'S1': 'eight', 'S2': 'nine', 'S3': 'ten', 'S4': 'eleven', 'corr': ' twelve', 'incorr': ' eleven', 'text': 'Desk done in eight. Orange done in nine. Pear done in ten. Fan done in eleven. Ring done in'}, {'S1': 'one', 'S2': 'two', 'S3': 'three', 'S4': 'four', 'corr': ' five', 'incorr': ' four', 'text': 'Nut done in one. Wheel done in two. Ice done in three. Orange done in four. Lake done in'}, {'S1': 'two', 'S2': 'three', 'S3': 'four', 'S4': 'five', 'corr': ' six', 'incorr': ' five', 'text': 'Rose done in two. Ball done in three. Tree done in four. Orange done in five. Tree done in'}, {'S1': 'three', 'S2': 'four', 'S3': 'five', 'S4': 'six', 'corr': ' seven', 'incorr': ' six', 'text': 'House done in three. Flag done in four. Ball done in five. Moon done in six. Wind done in'}, {'S1': 'four', 'S2': 'five', 'S3': 'six', 'S4': 'seven', 'corr': ' eight', 'incorr': ' seven', 'text': 'Sun done in four. Ball done in five. Apple done in six. Watch done in seven. Dog done in'}, {'S1': 'five', 'S2': 'six', 'S3': 'seven', 'S4': 'eight', 'corr': ' nine', 'incorr': ' eight', 'text': 'Rose done in five. Wallet done in six. Tree done in seven. Sand done in eight. Window done in'}, {'S1': 'six', 'S2': 'seven', 'S3': 'eight', 'S4': 'nine', 'corr': ' ten', 'incorr': ' nine', 'text': 'Pen done in six. Nut done in seven. Orange done in eight. Van done in nine. Tree done in'}, {'S1': 'seven', 'S2': 'eight', 'S3': 'nine', 'S4': 'ten', 'corr': ' eleven', 'incorr': ' ten', 'text': 'Box done in seven. Road done in eight. Ice done in nine. Ocean done in ten. Jar done in'}, {'S1': 'eight', 'S2': 'nine', 'S3': 'ten', 'S4': 'eleven', 'corr': ' twelve', 'incorr': ' eleven', 'text': 'Queen done in eight. Glass done in nine. Flag done in ten. Nut done in eleven. Apple done in'}]\n"
          ]
        }
      ],
      "source": [
        "file_name = 'nw_prompts_done.pkl'\n",
        "with open(file_name, 'rb') as file:\n",
        "    prompts_list = pickle.load(file)"
      ]
    },
    {
      "cell_type": "code",
      "execution_count": null,
      "metadata": {
        "id": "2-eCz6NAKMhW"
      },
      "outputs": [],
      "source": [
        "prompts_list = replace_nw_seqtype(prompts_list, 'numerals')"
      ]
    },
    {
      "cell_type": "code",
      "source": [
        "good_prompts, all_probs = get_good_prompts_numerals(model, prompts_list)"
      ],
      "metadata": {
        "id": "H7Vqpd1S6nBR"
      },
      "execution_count": null,
      "outputs": []
    },
    {
      "cell_type": "code",
      "execution_count": null,
      "metadata": {
        "colab": {
          "base_uri": "https://localhost:8080/",
          "height": 17
        },
        "id": "uYomEea9KMhW",
        "outputId": "553bbb21-9622-4527-c69b-7016e389913a"
      },
      "outputs": [
        {
          "output_type": "display_data",
          "data": {
            "text/plain": [
              "<IPython.core.display.Javascript object>"
            ],
            "application/javascript": [
              "\n",
              "    async function download(id, filename, size) {\n",
              "      if (!google.colab.kernel.accessAllowed) {\n",
              "        return;\n",
              "      }\n",
              "      const div = document.createElement('div');\n",
              "      const label = document.createElement('label');\n",
              "      label.textContent = `Downloading \"${filename}\": `;\n",
              "      div.appendChild(label);\n",
              "      const progress = document.createElement('progress');\n",
              "      progress.max = size;\n",
              "      div.appendChild(progress);\n",
              "      document.body.appendChild(div);\n",
              "\n",
              "      const buffers = [];\n",
              "      let downloaded = 0;\n",
              "\n",
              "      const channel = await google.colab.kernel.comms.open(id);\n",
              "      // Send a message to notify the kernel that we're ready.\n",
              "      channel.send({})\n",
              "\n",
              "      for await (const message of channel.messages) {\n",
              "        // Send a message to notify the kernel that we're ready.\n",
              "        channel.send({})\n",
              "        if (message.buffers) {\n",
              "          for (const buffer of message.buffers) {\n",
              "            buffers.push(buffer);\n",
              "            downloaded += buffer.byteLength;\n",
              "            progress.value = downloaded;\n",
              "          }\n",
              "        }\n",
              "      }\n",
              "      const blob = new Blob(buffers, {type: 'application/binary'});\n",
              "      const a = document.createElement('a');\n",
              "      a.href = window.URL.createObjectURL(blob);\n",
              "      a.download = filename;\n",
              "      div.appendChild(a);\n",
              "      a.click();\n",
              "      div.remove();\n",
              "    }\n",
              "  "
            ]
          },
          "metadata": {}
        },
        {
          "output_type": "display_data",
          "data": {
            "text/plain": [
              "<IPython.core.display.Javascript object>"
            ],
            "application/javascript": [
              "download(\"download_bdf919e1-1bff-44a4-98c8-78ad6587dddf\", \"digits_prompts_done.pkl\", 119038)"
            ]
          },
          "metadata": {}
        }
      ],
      "source": [
        "with open('digits_prompts_done.pkl', 'wb') as file:\n",
        "    pickle.dump(good_prompts, file)\n",
        "files.download('digits_prompts_done.pkl')"
      ]
    },
    {
      "cell_type": "code",
      "execution_count": null,
      "metadata": {
        "colab": {
          "base_uri": "https://localhost:8080/",
          "height": 489
        },
        "id": "MMMJLo0NKMhW",
        "outputId": "3c22e280-136b-48be-b750-8117d5779182"
      },
      "outputs": [
        {
          "output_type": "execute_result",
          "data": {
            "text/plain": [
              "Text(0.5, 1.0, 'Distribution')"
            ]
          },
          "metadata": {},
          "execution_count": 31
        },
        {
          "output_type": "display_data",
          "data": {
            "text/plain": [
              "<Figure size 640x480 with 1 Axes>"
            ],
            "image/png": "[encoded data removed]"
          },
          "metadata": {}
        }
      ],
      "source": [
        "plt.hist([probs[0].item() for probs in all_probs], bins = 20, edgecolor='black')\n",
        "plt.xlabel('probs')\n",
        "plt.ylabel('Frequency')\n",
        "plt.title('Distribution')"
      ]
    }
  ],
  "metadata": {
    "accelerator": "GPU",
    "colab": {
      "toc_visible": true,
      "provenance": []
    },
    "kernelspec": {
      "display_name": "Python 3",
      "name": "python3"
    },
    "language_info": {
      "name": "python"
    },
    "widgets": {
      "application/vnd.jupyter.widget-state+json": {
        "59188cdfd4534e319b5d5656270cc700": {
          "model_module": "@jupyter-widgets/controls",
          "model_name": "HBoxModel",
          "model_module_version": "1.5.0",
          "state": {
            "_dom_classes": [],
            "_model_module": "@jupyter-widgets/controls",
            "_model_module_version": "1.5.0",
            "_model_name": "HBoxModel",
            "_view_count": null,
            "_view_module": "@jupyter-widgets/controls",
            "_view_module_version": "1.5.0",
            "_view_name": "HBoxView",
            "box_style": "",
            "children": [
              "IPY_MODEL_487d884b1a6a4ed6b1b2e7e5700061c2",
              "IPY_MODEL_c48687adbc024398ace290ba6224f610",
              "IPY_MODEL_7fdf5a8e4de241a9a29543845b315baa"
            ],
            "layout": "IPY_MODEL_6394846b871e4ac08d734f1b8c7899a2"
          }
        },
        "487d884b1a6a4ed6b1b2e7e5700061c2": {
          "model_module": "@jupyter-widgets/controls",
          "model_name": "HTMLModel",
          "model_module_version": "1.5.0",
          "state": {
            "_dom_classes": [],
            "_model_module": "@jupyter-widgets/controls",
            "_model_module_version": "1.5.0",
            "_model_name": "HTMLModel",
            "_view_count": null,
            "_view_module": "@jupyter-widgets/controls",
            "_view_module_version": "1.5.0",
            "_view_name": "HTMLView",
            "description": "",
            "description_tooltip": null,
            "layout": "IPY_MODEL_e3195556708449f0bf1d07314e26d835",
            "placeholder": "​",
            "style": "IPY_MODEL_52831539219a4042893a4e57deb56cdc",
            "value": "config.json: 100%"
          }
        },
        "c48687adbc024398ace290ba6224f610": {
          "model_module": "@jupyter-widgets/controls",
          "model_name": "FloatProgressModel",
          "model_module_version": "1.5.0",
          "state": {
            "_dom_classes": [],
            "_model_module": "@jupyter-widgets/controls",
            "_model_module_version": "1.5.0",
            "_model_name": "FloatProgressModel",
            "_view_count": null,
            "_view_module": "@jupyter-widgets/controls",
            "_view_module_version": "1.5.0",
            "_view_name": "ProgressView",
            "bar_style": "success",
            "description": "",
            "description_tooltip": null,
            "layout": "IPY_MODEL_d5f7f3adb4a14445bd3226389a156688",
            "max": 665,
            "min": 0,
            "orientation": "horizontal",
            "style": "IPY_MODEL_76babe1a1eda4f99be851d02e5c93307",
            "value": 665
          }
        },
        "7fdf5a8e4de241a9a29543845b315baa": {
          "model_module": "@jupyter-widgets/controls",
          "model_name": "HTMLModel",
          "model_module_version": "1.5.0",
          "state": {
            "_dom_classes": [],
            "_model_module": "@jupyter-widgets/controls",
            "_model_module_version": "1.5.0",
            "_model_name": "HTMLModel",
            "_view_count": null,
            "_view_module": "@jupyter-widgets/controls",
            "_view_module_version": "1.5.0",
            "_view_name": "HTMLView",
            "description": "",
            "description_tooltip": null,
            "layout": "IPY_MODEL_be39a27f09cd45309aec2061a9245ade",
            "placeholder": "​",
            "style": "IPY_MODEL_b8133afdcb604b1eb45e3f85aebf77ab",
            "value": " 665/665 [00:00&lt;00:00, 24.9kB/s]"
          }
        },
        "6394846b871e4ac08d734f1b8c7899a2": {
          "model_module": "@jupyter-widgets/base",
          "model_name": "LayoutModel",
          "model_module_version": "1.2.0",
          "state": {
            "_model_module": "@jupyter-widgets/base",
            "_model_module_version": "1.2.0",
            "_model_name": "LayoutModel",
            "_view_count": null,
            "_view_module": "@jupyter-widgets/base",
            "_view_module_version": "1.2.0",
            "_view_name": "LayoutView",
            "align_content": null,
            "align_items": null,
            "align_self": null,
            "border": null,
            "bottom": null,
            "display": null,
            "flex": null,
            "flex_flow": null,
            "grid_area": null,
            "grid_auto_columns": null,
            "grid_auto_flow": null,
            "grid_auto_rows": null,
            "grid_column": null,
            "grid_gap": null,
            "grid_row": null,
            "grid_template_areas": null,
            "grid_template_columns": null,
            "grid_template_rows": null,
            "height": null,
            "justify_content": null,
            "justify_items": null,
            "left": null,
            "margin": null,
            "max_height": null,
            "max_width": null,
            "min_height": null,
            "min_width": null,
            "object_fit": null,
            "object_position": null,
            "order": null,
            "overflow": null,
            "overflow_x": null,
            "overflow_y": null,
            "padding": null,
            "right": null,
            "top": null,
            "visibility": null,
            "width": null
          }
        },
        "e3195556708449f0bf1d07314e26d835": {
          "model_module": "@jupyter-widgets/base",
          "model_name": "LayoutModel",
          "model_module_version": "1.2.0",
          "state": {
            "_model_module": "@jupyter-widgets/base",
            "_model_module_version": "1.2.0",
            "_model_name": "LayoutModel",
            "_view_count": null,
            "_view_module": "@jupyter-widgets/base",
            "_view_module_version": "1.2.0",
            "_view_name": "LayoutView",
            "align_content": null,
            "align_items": null,
            "align_self": null,
            "border": null,
            "bottom": null,
            "display": null,
            "flex": null,
            "flex_flow": null,
            "grid_area": null,
            "grid_auto_columns": null,
            "grid_auto_flow": null,
            "grid_auto_rows": null,
            "grid_column": null,
            "grid_gap": null,
            "grid_row": null,
            "grid_template_areas": null,
            "grid_template_columns": null,
            "grid_template_rows": null,
            "height": null,
            "justify_content": null,
            "justify_items": null,
            "left": null,
            "margin": null,
            "max_height": null,
            "max_width": null,
            "min_height": null,
            "min_width": null,
            "object_fit": null,
            "object_position": null,
            "order": null,
            "overflow": null,
            "overflow_x": null,
            "overflow_y": null,
            "padding": null,
            "right": null,
            "top": null,
            "visibility": null,
            "width": null
          }
        },
        "52831539219a4042893a4e57deb56cdc": {
          "model_module": "@jupyter-widgets/controls",
          "model_name": "DescriptionStyleModel",
          "model_module_version": "1.5.0",
          "state": {
            "_model_module": "@jupyter-widgets/controls",
            "_model_module_version": "1.5.0",
            "_model_name": "DescriptionStyleModel",
            "_view_count": null,
            "_view_module": "@jupyter-widgets/base",
            "_view_module_version": "1.2.0",
            "_view_name": "StyleView",
            "description_width": ""
          }
        },
        "d5f7f3adb4a14445bd3226389a156688": {
          "model_module": "@jupyter-widgets/base",
          "model_name": "LayoutModel",
          "model_module_version": "1.2.0",
          "state": {
            "_model_module": "@jupyter-widgets/base",
            "_model_module_version": "1.2.0",
            "_model_name": "LayoutModel",
            "_view_count": null,
            "_view_module": "@jupyter-widgets/base",
            "_view_module_version": "1.2.0",
            "_view_name": "LayoutView",
            "align_content": null,
            "align_items": null,
            "align_self": null,
            "border": null,
            "bottom": null,
            "display": null,
            "flex": null,
            "flex_flow": null,
            "grid_area": null,
            "grid_auto_columns": null,
            "grid_auto_flow": null,
            "grid_auto_rows": null,
            "grid_column": null,
            "grid_gap": null,
            "grid_row": null,
            "grid_template_areas": null,
            "grid_template_columns": null,
            "grid_template_rows": null,
            "height": null,
            "justify_content": null,
            "justify_items": null,
            "left": null,
            "margin": null,
            "max_height": null,
            "max_width": null,
            "min_height": null,
            "min_width": null,
            "object_fit": null,
            "object_position": null,
            "order": null,
            "overflow": null,
            "overflow_x": null,
            "overflow_y": null,
            "padding": null,
            "right": null,
            "top": null,
            "visibility": null,
            "width": null
          }
        },
        "76babe1a1eda4f99be851d02e5c93307": {
          "model_module": "@jupyter-widgets/controls",
          "model_name": "ProgressStyleModel",
          "model_module_version": "1.5.0",
          "state": {
            "_model_module": "@jupyter-widgets/controls",
            "_model_module_version": "1.5.0",
            "_model_name": "ProgressStyleModel",
            "_view_count": null,
            "_view_module": "@jupyter-widgets/base",
            "_view_module_version": "1.2.0",
            "_view_name": "StyleView",
            "bar_color": null,
            "description_width": ""
          }
        },
        "be39a27f09cd45309aec2061a9245ade": {
          "model_module": "@jupyter-widgets/base",
          "model_name": "LayoutModel",
          "model_module_version": "1.2.0",
          "state": {
            "_model_module": "@jupyter-widgets/base",
            "_model_module_version": "1.2.0",
            "_model_name": "LayoutModel",
            "_view_count": null,
            "_view_module": "@jupyter-widgets/base",
            "_view_module_version": "1.2.0",
            "_view_name": "LayoutView",
            "align_content": null,
            "align_items": null,
            "align_self": null,
            "border": null,
            "bottom": null,
            "display": null,
            "flex": null,
            "flex_flow": null,
            "grid_area": null,
            "grid_auto_columns": null,
            "grid_auto_flow": null,
            "grid_auto_rows": null,
            "grid_column": null,
            "grid_gap": null,
            "grid_row": null,
            "grid_template_areas": null,
            "grid_template_columns": null,
            "grid_template_rows": null,
            "height": null,
            "justify_content": null,
            "justify_items": null,
            "left": null,
            "margin": null,
            "max_height": null,
            "max_width": null,
            "min_height": null,
            "min_width": null,
            "object_fit": null,
            "object_position": null,
            "order": null,
            "overflow": null,
            "overflow_x": null,
            "overflow_y": null,
            "padding": null,
            "right": null,
            "top": null,
            "visibility": null,
            "width": null
          }
        },
        "b8133afdcb604b1eb45e3f85aebf77ab": {
          "model_module": "@jupyter-widgets/controls",
          "model_name": "DescriptionStyleModel",
          "model_module_version": "1.5.0",
          "state": {
            "_model_module": "@jupyter-widgets/controls",
            "_model_module_version": "1.5.0",
            "_model_name": "DescriptionStyleModel",
            "_view_count": null,
            "_view_module": "@jupyter-widgets/base",
            "_view_module_version": "1.2.0",
            "_view_name": "StyleView",
            "description_width": ""
          }
        },
        "770e2d9d5e2e439885f025f8766bfb2f": {
          "model_module": "@jupyter-widgets/controls",
          "model_name": "HBoxModel",
          "model_module_version": "1.5.0",
          "state": {
            "_dom_classes": [],
            "_model_module": "@jupyter-widgets/controls",
            "_model_module_version": "1.5.0",
            "_model_name": "HBoxModel",
            "_view_count": null,
            "_view_module": "@jupyter-widgets/controls",
            "_view_module_version": "1.5.0",
            "_view_name": "HBoxView",
            "box_style": "",
            "children": [
              "IPY_MODEL_6d6bdca7768c42e7a33f8844d7763769",
              "IPY_MODEL_bcbe5edeea80483aaa1fbc9b66898440",
              "IPY_MODEL_aea792eff6d34b66a6a2f2decc88ba7c"
            ],
            "layout": "IPY_MODEL_6665f5aabc2e41248912e03ac53da87f"
          }
        },
        "6d6bdca7768c42e7a33f8844d7763769": {
          "model_module": "@jupyter-widgets/controls",
          "model_name": "HTMLModel",
          "model_module_version": "1.5.0",
          "state": {
            "_dom_classes": [],
            "_model_module": "@jupyter-widgets/controls",
            "_model_module_version": "1.5.0",
            "_model_name": "HTMLModel",
            "_view_count": null,
            "_view_module": "@jupyter-widgets/controls",
            "_view_module_version": "1.5.0",
            "_view_name": "HTMLView",
            "description": "",
            "description_tooltip": null,
            "layout": "IPY_MODEL_78ad782082a04849b0bd6b8588292ca7",
            "placeholder": "​",
            "style": "IPY_MODEL_259838b1d1324b73bb87ce6e568cad74",
            "value": "model.safetensors: 100%"
          }
        },
        "bcbe5edeea80483aaa1fbc9b66898440": {
          "model_module": "@jupyter-widgets/controls",
          "model_name": "FloatProgressModel",
          "model_module_version": "1.5.0",
          "state": {
            "_dom_classes": [],
            "_model_module": "@jupyter-widgets/controls",
            "_model_module_version": "1.5.0",
            "_model_name": "FloatProgressModel",
            "_view_count": null,
            "_view_module": "@jupyter-widgets/controls",
            "_view_module_version": "1.5.0",
            "_view_name": "ProgressView",
            "bar_style": "success",
            "description": "",
            "description_tooltip": null,
            "layout": "IPY_MODEL_bba0a281467e4923afd069f120beed37",
            "max": 548105171,
            "min": 0,
            "orientation": "horizontal",
            "style": "IPY_MODEL_64c84badc0174c3da65a81baadb14057",
            "value": 548105171
          }
        },
        "aea792eff6d34b66a6a2f2decc88ba7c": {
          "model_module": "@jupyter-widgets/controls",
          "model_name": "HTMLModel",
          "model_module_version": "1.5.0",
          "state": {
            "_dom_classes": [],
            "_model_module": "@jupyter-widgets/controls",
            "_model_module_version": "1.5.0",
            "_model_name": "HTMLModel",
            "_view_count": null,
            "_view_module": "@jupyter-widgets/controls",
            "_view_module_version": "1.5.0",
            "_view_name": "HTMLView",
            "description": "",
            "description_tooltip": null,
            "layout": "IPY_MODEL_2620b02b346d45c1bb2350cfb38d7c4c",
            "placeholder": "​",
            "style": "IPY_MODEL_2523ace72ee54999bd8fb1451ac8bdb2",
            "value": " 548M/548M [00:05&lt;00:00, 87.6MB/s]"
          }
        },
        "6665f5aabc2e41248912e03ac53da87f": {
          "model_module": "@jupyter-widgets/base",
          "model_name": "LayoutModel",
          "model_module_version": "1.2.0",
          "state": {
            "_model_module": "@jupyter-widgets/base",
            "_model_module_version": "1.2.0",
            "_model_name": "LayoutModel",
            "_view_count": null,
            "_view_module": "@jupyter-widgets/base",
            "_view_module_version": "1.2.0",
            "_view_name": "LayoutView",
            "align_content": null,
            "align_items": null,
            "align_self": null,
            "border": null,
            "bottom": null,
            "display": null,
            "flex": null,
            "flex_flow": null,
            "grid_area": null,
            "grid_auto_columns": null,
            "grid_auto_flow": null,
            "grid_auto_rows": null,
            "grid_column": null,
            "grid_gap": null,
            "grid_row": null,
            "grid_template_areas": null,
            "grid_template_columns": null,
            "grid_template_rows": null,
            "height": null,
            "justify_content": null,
            "justify_items": null,
            "left": null,
            "margin": null,
            "max_height": null,
            "max_width": null,
            "min_height": null,
            "min_width": null,
            "object_fit": null,
            "object_position": null,
            "order": null,
            "overflow": null,
            "overflow_x": null,
            "overflow_y": null,
            "padding": null,
            "right": null,
            "top": null,
            "visibility": null,
            "width": null
          }
        },
        "78ad782082a04849b0bd6b8588292ca7": {
          "model_module": "@jupyter-widgets/base",
          "model_name": "LayoutModel",
          "model_module_version": "1.2.0",
          "state": {
            "_model_module": "@jupyter-widgets/base",
            "_model_module_version": "1.2.0",
            "_model_name": "LayoutModel",
            "_view_count": null,
            "_view_module": "@jupyter-widgets/base",
            "_view_module_version": "1.2.0",
            "_view_name": "LayoutView",
            "align_content": null,
            "align_items": null,
            "align_self": null,
            "border": null,
            "bottom": null,
            "display": null,
            "flex": null,
            "flex_flow": null,
            "grid_area": null,
            "grid_auto_columns": null,
            "grid_auto_flow": null,
            "grid_auto_rows": null,
            "grid_column": null,
            "grid_gap": null,
            "grid_row": null,
            "grid_template_areas": null,
            "grid_template_columns": null,
            "grid_template_rows": null,
            "height": null,
            "justify_content": null,
            "justify_items": null,
            "left": null,
            "margin": null,
            "max_height": null,
            "max_width": null,
            "min_height": null,
            "min_width": null,
            "object_fit": null,
            "object_position": null,
            "order": null,
            "overflow": null,
            "overflow_x": null,
            "overflow_y": null,
            "padding": null,
            "right": null,
            "top": null,
            "visibility": null,
            "width": null
          }
        },
        "259838b1d1324b73bb87ce6e568cad74": {
          "model_module": "@jupyter-widgets/controls",
          "model_name": "DescriptionStyleModel",
          "model_module_version": "1.5.0",
          "state": {
            "_model_module": "@jupyter-widgets/controls",
            "_model_module_version": "1.5.0",
            "_model_name": "DescriptionStyleModel",
            "_view_count": null,
            "_view_module": "@jupyter-widgets/base",
            "_view_module_version": "1.2.0",
            "_view_name": "StyleView",
            "description_width": ""
          }
        },
        "bba0a281467e4923afd069f120beed37": {
          "model_module": "@jupyter-widgets/base",
          "model_name": "LayoutModel",
          "model_module_version": "1.2.0",
          "state": {
            "_model_module": "@jupyter-widgets/base",
            "_model_module_version": "1.2.0",
            "_model_name": "LayoutModel",
            "_view_count": null,
            "_view_module": "@jupyter-widgets/base",
            "_view_module_version": "1.2.0",
            "_view_name": "LayoutView",
            "align_content": null,
            "align_items": null,
            "align_self": null,
            "border": null,
            "bottom": null,
            "display": null,
            "flex": null,
            "flex_flow": null,
            "grid_area": null,
            "grid_auto_columns": null,
            "grid_auto_flow": null,
            "grid_auto_rows": null,
            "grid_column": null,
            "grid_gap": null,
            "grid_row": null,
            "grid_template_areas": null,
            "grid_template_columns": null,
            "grid_template_rows": null,
            "height": null,
            "justify_content": null,
            "justify_items": null,
            "left": null,
            "margin": null,
            "max_height": null,
            "max_width": null,
            "min_height": null,
            "min_width": null,
            "object_fit": null,
            "object_position": null,
            "order": null,
            "overflow": null,
            "overflow_x": null,
            "overflow_y": null,
            "padding": null,
            "right": null,
            "top": null,
            "visibility": null,
            "width": null
          }
        },
        "64c84badc0174c3da65a81baadb14057": {
          "model_module": "@jupyter-widgets/controls",
          "model_name": "ProgressStyleModel",
          "model_module_version": "1.5.0",
          "state": {
            "_model_module": "@jupyter-widgets/controls",
            "_model_module_version": "1.5.0",
            "_model_name": "ProgressStyleModel",
            "_view_count": null,
            "_view_module": "@jupyter-widgets/base",
            "_view_module_version": "1.2.0",
            "_view_name": "StyleView",
            "bar_color": null,
            "description_width": ""
          }
        },
        "2620b02b346d45c1bb2350cfb38d7c4c": {
          "model_module": "@jupyter-widgets/base",
          "model_name": "LayoutModel",
          "model_module_version": "1.2.0",
          "state": {
            "_model_module": "@jupyter-widgets/base",
            "_model_module_version": "1.2.0",
            "_model_name": "LayoutModel",
            "_view_count": null,
            "_view_module": "@jupyter-widgets/base",
            "_view_module_version": "1.2.0",
            "_view_name": "LayoutView",
            "align_content": null,
            "align_items": null,
            "align_self": null,
            "border": null,
            "bottom": null,
            "display": null,
            "flex": null,
            "flex_flow": null,
            "grid_area": null,
            "grid_auto_columns": null,
            "grid_auto_flow": null,
            "grid_auto_rows": null,
            "grid_column": null,
            "grid_gap": null,
            "grid_row": null,
            "grid_template_areas": null,
            "grid_template_columns": null,
            "grid_template_rows": null,
            "height": null,
            "justify_content": null,
            "justify_items": null,
            "left": null,
            "margin": null,
            "max_height": null,
            "max_width": null,
            "min_height": null,
            "min_width": null,
            "object_fit": null,
            "object_position": null,
            "order": null,
            "overflow": null,
            "overflow_x": null,
            "overflow_y": null,
            "padding": null,
            "right": null,
            "top": null,
            "visibility": null,
            "width": null
          }
        },
        "2523ace72ee54999bd8fb1451ac8bdb2": {
          "model_module": "@jupyter-widgets/controls",
          "model_name": "DescriptionStyleModel",
          "model_module_version": "1.5.0",
          "state": {
            "_model_module": "@jupyter-widgets/controls",
            "_model_module_version": "1.5.0",
            "_model_name": "DescriptionStyleModel",
            "_view_count": null,
            "_view_module": "@jupyter-widgets/base",
            "_view_module_version": "1.2.0",
            "_view_name": "StyleView",
            "description_width": ""
          }
        },
        "a5f5b83dc08542e382a0d171c878a7b5": {
          "model_module": "@jupyter-widgets/controls",
          "model_name": "HBoxModel",
          "model_module_version": "1.5.0",
          "state": {
            "_dom_classes": [],
            "_model_module": "@jupyter-widgets/controls",
            "_model_module_version": "1.5.0",
            "_model_name": "HBoxModel",
            "_view_count": null,
            "_view_module": "@jupyter-widgets/controls",
            "_view_module_version": "1.5.0",
            "_view_name": "HBoxView",
            "box_style": "",
            "children": [
              "IPY_MODEL_f7d49f17dcc54b2eb0d5ff99e88420ea",
              "IPY_MODEL_357e9ac3266c47bf9ac9201fc52ca84f",
              "IPY_MODEL_c393a09f69fe42a6a3f3419ba72c24b8"
            ],
            "layout": "IPY_MODEL_0803db3cf6424de5a2b0869f804993fd"
          }
        },
        "f7d49f17dcc54b2eb0d5ff99e88420ea": {
          "model_module": "@jupyter-widgets/controls",
          "model_name": "HTMLModel",
          "model_module_version": "1.5.0",
          "state": {
            "_dom_classes": [],
            "_model_module": "@jupyter-widgets/controls",
            "_model_module_version": "1.5.0",
            "_model_name": "HTMLModel",
            "_view_count": null,
            "_view_module": "@jupyter-widgets/controls",
            "_view_module_version": "1.5.0",
            "_view_name": "HTMLView",
            "description": "",
            "description_tooltip": null,
            "layout": "IPY_MODEL_a5ee472054f2412ab26999dde8dff174",
            "placeholder": "​",
            "style": "IPY_MODEL_f865869c10f543479abffb979bb8009c",
            "value": "generation_config.json: 100%"
          }
        },
        "357e9ac3266c47bf9ac9201fc52ca84f": {
          "model_module": "@jupyter-widgets/controls",
          "model_name": "FloatProgressModel",
          "model_module_version": "1.5.0",
          "state": {
            "_dom_classes": [],
            "_model_module": "@jupyter-widgets/controls",
            "_model_module_version": "1.5.0",
            "_model_name": "FloatProgressModel",
            "_view_count": null,
            "_view_module": "@jupyter-widgets/controls",
            "_view_module_version": "1.5.0",
            "_view_name": "ProgressView",
            "bar_style": "success",
            "description": "",
            "description_tooltip": null,
            "layout": "IPY_MODEL_2cf627e03d654c9eb9889073fe0e2711",
            "max": 124,
            "min": 0,
            "orientation": "horizontal",
            "style": "IPY_MODEL_20fde44498774129a4d857ce7a4b2760",
            "value": 124
          }
        },
        "c393a09f69fe42a6a3f3419ba72c24b8": {
          "model_module": "@jupyter-widgets/controls",
          "model_name": "HTMLModel",
          "model_module_version": "1.5.0",
          "state": {
            "_dom_classes": [],
            "_model_module": "@jupyter-widgets/controls",
            "_model_module_version": "1.5.0",
            "_model_name": "HTMLModel",
            "_view_count": null,
            "_view_module": "@jupyter-widgets/controls",
            "_view_module_version": "1.5.0",
            "_view_name": "HTMLView",
            "description": "",
            "description_tooltip": null,
            "layout": "IPY_MODEL_1b253f8c1744434fbbb0b103f3268623",
            "placeholder": "​",
            "style": "IPY_MODEL_eb8fa79561dd4b86ac3628902a3ca9b0",
            "value": " 124/124 [00:00&lt;00:00, 4.05kB/s]"
          }
        },
        "0803db3cf6424de5a2b0869f804993fd": {
          "model_module": "@jupyter-widgets/base",
          "model_name": "LayoutModel",
          "model_module_version": "1.2.0",
          "state": {
            "_model_module": "@jupyter-widgets/base",
            "_model_module_version": "1.2.0",
            "_model_name": "LayoutModel",
            "_view_count": null,
            "_view_module": "@jupyter-widgets/base",
            "_view_module_version": "1.2.0",
            "_view_name": "LayoutView",
            "align_content": null,
            "align_items": null,
            "align_self": null,
            "border": null,
            "bottom": null,
            "display": null,
            "flex": null,
            "flex_flow": null,
            "grid_area": null,
            "grid_auto_columns": null,
            "grid_auto_flow": null,
            "grid_auto_rows": null,
            "grid_column": null,
            "grid_gap": null,
            "grid_row": null,
            "grid_template_areas": null,
            "grid_template_columns": null,
            "grid_template_rows": null,
            "height": null,
            "justify_content": null,
            "justify_items": null,
            "left": null,
            "margin": null,
            "max_height": null,
            "max_width": null,
            "min_height": null,
            "min_width": null,
            "object_fit": null,
            "object_position": null,
            "order": null,
            "overflow": null,
            "overflow_x": null,
            "overflow_y": null,
            "padding": null,
            "right": null,
            "top": null,
            "visibility": null,
            "width": null
          }
        },
        "a5ee472054f2412ab26999dde8dff174": {
          "model_module": "@jupyter-widgets/base",
          "model_name": "LayoutModel",
          "model_module_version": "1.2.0",
          "state": {
            "_model_module": "@jupyter-widgets/base",
            "_model_module_version": "1.2.0",
            "_model_name": "LayoutModel",
            "_view_count": null,
            "_view_module": "@jupyter-widgets/base",
            "_view_module_version": "1.2.0",
            "_view_name": "LayoutView",
            "align_content": null,
            "align_items": null,
            "align_self": null,
            "border": null,
            "bottom": null,
            "display": null,
            "flex": null,
            "flex_flow": null,
            "grid_area": null,
            "grid_auto_columns": null,
            "grid_auto_flow": null,
            "grid_auto_rows": null,
            "grid_column": null,
            "grid_gap": null,
            "grid_row": null,
            "grid_template_areas": null,
            "grid_template_columns": null,
            "grid_template_rows": null,
            "height": null,
            "justify_content": null,
            "justify_items": null,
            "left": null,
            "margin": null,
            "max_height": null,
            "max_width": null,
            "min_height": null,
            "min_width": null,
            "object_fit": null,
            "object_position": null,
            "order": null,
            "overflow": null,
            "overflow_x": null,
            "overflow_y": null,
            "padding": null,
            "right": null,
            "top": null,
            "visibility": null,
            "width": null
          }
        },
        "f865869c10f543479abffb979bb8009c": {
          "model_module": "@jupyter-widgets/controls",
          "model_name": "DescriptionStyleModel",
          "model_module_version": "1.5.0",
          "state": {
            "_model_module": "@jupyter-widgets/controls",
            "_model_module_version": "1.5.0",
            "_model_name": "DescriptionStyleModel",
            "_view_count": null,
            "_view_module": "@jupyter-widgets/base",
            "_view_module_version": "1.2.0",
            "_view_name": "StyleView",
            "description_width": ""
          }
        },
        "2cf627e03d654c9eb9889073fe0e2711": {
          "model_module": "@jupyter-widgets/base",
          "model_name": "LayoutModel",
          "model_module_version": "1.2.0",
          "state": {
            "_model_module": "@jupyter-widgets/base",
            "_model_module_version": "1.2.0",
            "_model_name": "LayoutModel",
            "_view_count": null,
            "_view_module": "@jupyter-widgets/base",
            "_view_module_version": "1.2.0",
            "_view_name": "LayoutView",
            "align_content": null,
            "align_items": null,
            "align_self": null,
            "border": null,
            "bottom": null,
            "display": null,
            "flex": null,
            "flex_flow": null,
            "grid_area": null,
            "grid_auto_columns": null,
            "grid_auto_flow": null,
            "grid_auto_rows": null,
            "grid_column": null,
            "grid_gap": null,
            "grid_row": null,
            "grid_template_areas": null,
            "grid_template_columns": null,
            "grid_template_rows": null,
            "height": null,
            "justify_content": null,
            "justify_items": null,
            "left": null,
            "margin": null,
            "max_height": null,
            "max_width": null,
            "min_height": null,
            "min_width": null,
            "object_fit": null,
            "object_position": null,
            "order": null,
            "overflow": null,
            "overflow_x": null,
            "overflow_y": null,
            "padding": null,
            "right": null,
            "top": null,
            "visibility": null,
            "width": null
          }
        },
        "20fde44498774129a4d857ce7a4b2760": {
          "model_module": "@jupyter-widgets/controls",
          "model_name": "ProgressStyleModel",
          "model_module_version": "1.5.0",
          "state": {
            "_model_module": "@jupyter-widgets/controls",
            "_model_module_version": "1.5.0",
            "_model_name": "ProgressStyleModel",
            "_view_count": null,
            "_view_module": "@jupyter-widgets/base",
            "_view_module_version": "1.2.0",
            "_view_name": "StyleView",
            "bar_color": null,
            "description_width": ""
          }
        },
        "1b253f8c1744434fbbb0b103f3268623": {
          "model_module": "@jupyter-widgets/base",
          "model_name": "LayoutModel",
          "model_module_version": "1.2.0",
          "state": {
            "_model_module": "@jupyter-widgets/base",
            "_model_module_version": "1.2.0",
            "_model_name": "LayoutModel",
            "_view_count": null,
            "_view_module": "@jupyter-widgets/base",
            "_view_module_version": "1.2.0",
            "_view_name": "LayoutView",
            "align_content": null,
            "align_items": null,
            "align_self": null,
            "border": null,
            "bottom": null,
            "display": null,
            "flex": null,
            "flex_flow": null,
            "grid_area": null,
            "grid_auto_columns": null,
            "grid_auto_flow": null,
            "grid_auto_rows": null,
            "grid_column": null,
            "grid_gap": null,
            "grid_row": null,
            "grid_template_areas": null,
            "grid_template_columns": null,
            "grid_template_rows": null,
            "height": null,
            "justify_content": null,
            "justify_items": null,
            "left": null,
            "margin": null,
            "max_height": null,
            "max_width": null,
            "min_height": null,
            "min_width": null,
            "object_fit": null,
            "object_position": null,
            "order": null,
            "overflow": null,
            "overflow_x": null,
            "overflow_y": null,
            "padding": null,
            "right": null,
            "top": null,
            "visibility": null,
            "width": null
          }
        },
        "eb8fa79561dd4b86ac3628902a3ca9b0": {
          "model_module": "@jupyter-widgets/controls",
          "model_name": "DescriptionStyleModel",
          "model_module_version": "1.5.0",
          "state": {
            "_model_module": "@jupyter-widgets/controls",
            "_model_module_version": "1.5.0",
            "_model_name": "DescriptionStyleModel",
            "_view_count": null,
            "_view_module": "@jupyter-widgets/base",
            "_view_module_version": "1.2.0",
            "_view_name": "StyleView",
            "description_width": ""
          }
        },
        "87262ef0b73644b8b00896eb5f891d03": {
          "model_module": "@jupyter-widgets/controls",
          "model_name": "HBoxModel",
          "model_module_version": "1.5.0",
          "state": {
            "_dom_classes": [],
            "_model_module": "@jupyter-widgets/controls",
            "_model_module_version": "1.5.0",
            "_model_name": "HBoxModel",
            "_view_count": null,
            "_view_module": "@jupyter-widgets/controls",
            "_view_module_version": "1.5.0",
            "_view_name": "HBoxView",
            "box_style": "",
            "children": [
              "IPY_MODEL_41a54e76f5ae49caad734df780a1eef4",
              "IPY_MODEL_c1bafc070dde405d8f86033c63e72240",
              "IPY_MODEL_d9f1cafa51474fe5bb0ffb077a2cd156"
            ],
            "layout": "IPY_MODEL_4304de7e26d54776b25ea220a81866a9"
          }
        },
        "41a54e76f5ae49caad734df780a1eef4": {
          "model_module": "@jupyter-widgets/controls",
          "model_name": "HTMLModel",
          "model_module_version": "1.5.0",
          "state": {
            "_dom_classes": [],
            "_model_module": "@jupyter-widgets/controls",
            "_model_module_version": "1.5.0",
            "_model_name": "HTMLModel",
            "_view_count": null,
            "_view_module": "@jupyter-widgets/controls",
            "_view_module_version": "1.5.0",
            "_view_name": "HTMLView",
            "description": "",
            "description_tooltip": null,
            "layout": "IPY_MODEL_53d0ed0ee9524d03af2eb9d021fa606c",
            "placeholder": "​",
            "style": "IPY_MODEL_771a0355e9734a87ae283c488df8bdbd",
            "value": "vocab.json: 100%"
          }
        },
        "c1bafc070dde405d8f86033c63e72240": {
          "model_module": "@jupyter-widgets/controls",
          "model_name": "FloatProgressModel",
          "model_module_version": "1.5.0",
          "state": {
            "_dom_classes": [],
            "_model_module": "@jupyter-widgets/controls",
            "_model_module_version": "1.5.0",
            "_model_name": "FloatProgressModel",
            "_view_count": null,
            "_view_module": "@jupyter-widgets/controls",
            "_view_module_version": "1.5.0",
            "_view_name": "ProgressView",
            "bar_style": "success",
            "description": "",
            "description_tooltip": null,
            "layout": "IPY_MODEL_b563f04a09014253a23a73aad8fac7ab",
            "max": 1042301,
            "min": 0,
            "orientation": "horizontal",
            "style": "IPY_MODEL_c6b9d0f9e2d34460ae2b0780402bc14e",
            "value": 1042301
          }
        },
        "d9f1cafa51474fe5bb0ffb077a2cd156": {
          "model_module": "@jupyter-widgets/controls",
          "model_name": "HTMLModel",
          "model_module_version": "1.5.0",
          "state": {
            "_dom_classes": [],
            "_model_module": "@jupyter-widgets/controls",
            "_model_module_version": "1.5.0",
            "_model_name": "HTMLModel",
            "_view_count": null,
            "_view_module": "@jupyter-widgets/controls",
            "_view_module_version": "1.5.0",
            "_view_name": "HTMLView",
            "description": "",
            "description_tooltip": null,
            "layout": "IPY_MODEL_4f65023abef94e8a9b596ea89b994df4",
            "placeholder": "​",
            "style": "IPY_MODEL_109670a607da48f6a0a6cdf8c30a3a16",
            "value": " 1.04M/1.04M [00:00&lt;00:00, 11.8MB/s]"
          }
        },
        "4304de7e26d54776b25ea220a81866a9": {
          "model_module": "@jupyter-widgets/base",
          "model_name": "LayoutModel",
          "model_module_version": "1.2.0",
          "state": {
            "_model_module": "@jupyter-widgets/base",
            "_model_module_version": "1.2.0",
            "_model_name": "LayoutModel",
            "_view_count": null,
            "_view_module": "@jupyter-widgets/base",
            "_view_module_version": "1.2.0",
            "_view_name": "LayoutView",
            "align_content": null,
            "align_items": null,
            "align_self": null,
            "border": null,
            "bottom": null,
            "display": null,
            "flex": null,
            "flex_flow": null,
            "grid_area": null,
            "grid_auto_columns": null,
            "grid_auto_flow": null,
            "grid_auto_rows": null,
            "grid_column": null,
            "grid_gap": null,
            "grid_row": null,
            "grid_template_areas": null,
            "grid_template_columns": null,
            "grid_template_rows": null,
            "height": null,
            "justify_content": null,
            "justify_items": null,
            "left": null,
            "margin": null,
            "max_height": null,
            "max_width": null,
            "min_height": null,
            "min_width": null,
            "object_fit": null,
            "object_position": null,
            "order": null,
            "overflow": null,
            "overflow_x": null,
            "overflow_y": null,
            "padding": null,
            "right": null,
            "top": null,
            "visibility": null,
            "width": null
          }
        },
        "53d0ed0ee9524d03af2eb9d021fa606c": {
          "model_module": "@jupyter-widgets/base",
          "model_name": "LayoutModel",
          "model_module_version": "1.2.0",
          "state": {
            "_model_module": "@jupyter-widgets/base",
            "_model_module_version": "1.2.0",
            "_model_name": "LayoutModel",
            "_view_count": null,
            "_view_module": "@jupyter-widgets/base",
            "_view_module_version": "1.2.0",
            "_view_name": "LayoutView",
            "align_content": null,
            "align_items": null,
            "align_self": null,
            "border": null,
            "bottom": null,
            "display": null,
            "flex": null,
            "flex_flow": null,
            "grid_area": null,
            "grid_auto_columns": null,
            "grid_auto_flow": null,
            "grid_auto_rows": null,
            "grid_column": null,
            "grid_gap": null,
            "grid_row": null,
            "grid_template_areas": null,
            "grid_template_columns": null,
            "grid_template_rows": null,
            "height": null,
            "justify_content": null,
            "justify_items": null,
            "left": null,
            "margin": null,
            "max_height": null,
            "max_width": null,
            "min_height": null,
            "min_width": null,
            "object_fit": null,
            "object_position": null,
            "order": null,
            "overflow": null,
            "overflow_x": null,
            "overflow_y": null,
            "padding": null,
            "right": null,
            "top": null,
            "visibility": null,
            "width": null
          }
        },
        "771a0355e9734a87ae283c488df8bdbd": {
          "model_module": "@jupyter-widgets/controls",
          "model_name": "DescriptionStyleModel",
          "model_module_version": "1.5.0",
          "state": {
            "_model_module": "@jupyter-widgets/controls",
            "_model_module_version": "1.5.0",
            "_model_name": "DescriptionStyleModel",
            "_view_count": null,
            "_view_module": "@jupyter-widgets/base",
            "_view_module_version": "1.2.0",
            "_view_name": "StyleView",
            "description_width": ""
          }
        },
        "b563f04a09014253a23a73aad8fac7ab": {
          "model_module": "@jupyter-widgets/base",
          "model_name": "LayoutModel",
          "model_module_version": "1.2.0",
          "state": {
            "_model_module": "@jupyter-widgets/base",
            "_model_module_version": "1.2.0",
            "_model_name": "LayoutModel",
            "_view_count": null,
            "_view_module": "@jupyter-widgets/base",
            "_view_module_version": "1.2.0",
            "_view_name": "LayoutView",
            "align_content": null,
            "align_items": null,
            "align_self": null,
            "border": null,
            "bottom": null,
            "display": null,
            "flex": null,
            "flex_flow": null,
            "grid_area": null,
            "grid_auto_columns": null,
            "grid_auto_flow": null,
            "grid_auto_rows": null,
            "grid_column": null,
            "grid_gap": null,
            "grid_row": null,
            "grid_template_areas": null,
            "grid_template_columns": null,
            "grid_template_rows": null,
            "height": null,
            "justify_content": null,
            "justify_items": null,
            "left": null,
            "margin": null,
            "max_height": null,
            "max_width": null,
            "min_height": null,
            "min_width": null,
            "object_fit": null,
            "object_position": null,
            "order": null,
            "overflow": null,
            "overflow_x": null,
            "overflow_y": null,
            "padding": null,
            "right": null,
            "top": null,
            "visibility": null,
            "width": null
          }
        },
        "c6b9d0f9e2d34460ae2b0780402bc14e": {
          "model_module": "@jupyter-widgets/controls",
          "model_name": "ProgressStyleModel",
          "model_module_version": "1.5.0",
          "state": {
            "_model_module": "@jupyter-widgets/controls",
            "_model_module_version": "1.5.0",
            "_model_name": "ProgressStyleModel",
            "_view_count": null,
            "_view_module": "@jupyter-widgets/base",
            "_view_module_version": "1.2.0",
            "_view_name": "StyleView",
            "bar_color": null,
            "description_width": ""
          }
        },
        "4f65023abef94e8a9b596ea89b994df4": {
          "model_module": "@jupyter-widgets/base",
          "model_name": "LayoutModel",
          "model_module_version": "1.2.0",
          "state": {
            "_model_module": "@jupyter-widgets/base",
            "_model_module_version": "1.2.0",
            "_model_name": "LayoutModel",
            "_view_count": null,
            "_view_module": "@jupyter-widgets/base",
            "_view_module_version": "1.2.0",
            "_view_name": "LayoutView",
            "align_content": null,
            "align_items": null,
            "align_self": null,
            "border": null,
            "bottom": null,
            "display": null,
            "flex": null,
            "flex_flow": null,
            "grid_area": null,
            "grid_auto_columns": null,
            "grid_auto_flow": null,
            "grid_auto_rows": null,
            "grid_column": null,
            "grid_gap": null,
            "grid_row": null,
            "grid_template_areas": null,
            "grid_template_columns": null,
            "grid_template_rows": null,
            "height": null,
            "justify_content": null,
            "justify_items": null,
            "left": null,
            "margin": null,
            "max_height": null,
            "max_width": null,
            "min_height": null,
            "min_width": null,
            "object_fit": null,
            "object_position": null,
            "order": null,
            "overflow": null,
            "overflow_x": null,
            "overflow_y": null,
            "padding": null,
            "right": null,
            "top": null,
            "visibility": null,
            "width": null
          }
        },
        "109670a607da48f6a0a6cdf8c30a3a16": {
          "model_module": "@jupyter-widgets/controls",
          "model_name": "DescriptionStyleModel",
          "model_module_version": "1.5.0",
          "state": {
            "_model_module": "@jupyter-widgets/controls",
            "_model_module_version": "1.5.0",
            "_model_name": "DescriptionStyleModel",
            "_view_count": null,
            "_view_module": "@jupyter-widgets/base",
            "_view_module_version": "1.2.0",
            "_view_name": "StyleView",
            "description_width": ""
          }
        },
        "186397dd65744a90ad996bc181ce9c5e": {
          "model_module": "@jupyter-widgets/controls",
          "model_name": "HBoxModel",
          "model_module_version": "1.5.0",
          "state": {
            "_dom_classes": [],
            "_model_module": "@jupyter-widgets/controls",
            "_model_module_version": "1.5.0",
            "_model_name": "HBoxModel",
            "_view_count": null,
            "_view_module": "@jupyter-widgets/controls",
            "_view_module_version": "1.5.0",
            "_view_name": "HBoxView",
            "box_style": "",
            "children": [
              "IPY_MODEL_8fa13c323c024108bd2e544dd63ab1d6",
              "IPY_MODEL_e03b894596044f44ac955992f3fabf09",
              "IPY_MODEL_b9272d4f37f84f5db9ecc153191763f7"
            ],
            "layout": "IPY_MODEL_0e7c766add3842d28273d7e520626b92"
          }
        },
        "8fa13c323c024108bd2e544dd63ab1d6": {
          "model_module": "@jupyter-widgets/controls",
          "model_name": "HTMLModel",
          "model_module_version": "1.5.0",
          "state": {
            "_dom_classes": [],
            "_model_module": "@jupyter-widgets/controls",
            "_model_module_version": "1.5.0",
            "_model_name": "HTMLModel",
            "_view_count": null,
            "_view_module": "@jupyter-widgets/controls",
            "_view_module_version": "1.5.0",
            "_view_name": "HTMLView",
            "description": "",
            "description_tooltip": null,
            "layout": "IPY_MODEL_25ef001325bf499f90610403b7263fe7",
            "placeholder": "​",
            "style": "IPY_MODEL_6e02c943b509414c8d11f0f58ce5594a",
            "value": "merges.txt: 100%"
          }
        },
        "e03b894596044f44ac955992f3fabf09": {
          "model_module": "@jupyter-widgets/controls",
          "model_name": "FloatProgressModel",
          "model_module_version": "1.5.0",
          "state": {
            "_dom_classes": [],
            "_model_module": "@jupyter-widgets/controls",
            "_model_module_version": "1.5.0",
            "_model_name": "FloatProgressModel",
            "_view_count": null,
            "_view_module": "@jupyter-widgets/controls",
            "_view_module_version": "1.5.0",
            "_view_name": "ProgressView",
            "bar_style": "success",
            "description": "",
            "description_tooltip": null,
            "layout": "IPY_MODEL_7e264f7ec81342a280fb3ab0eb30cab7",
            "max": 456318,
            "min": 0,
            "orientation": "horizontal",
            "style": "IPY_MODEL_d33b2674b07349988971548cc030c978",
            "value": 456318
          }
        },
        "b9272d4f37f84f5db9ecc153191763f7": {
          "model_module": "@jupyter-widgets/controls",
          "model_name": "HTMLModel",
          "model_module_version": "1.5.0",
          "state": {
            "_dom_classes": [],
            "_model_module": "@jupyter-widgets/controls",
            "_model_module_version": "1.5.0",
            "_model_name": "HTMLModel",
            "_view_count": null,
            "_view_module": "@jupyter-widgets/controls",
            "_view_module_version": "1.5.0",
            "_view_name": "HTMLView",
            "description": "",
            "description_tooltip": null,
            "layout": "IPY_MODEL_407ebdc2722f4c12b820f9e7de0a843d",
            "placeholder": "​",
            "style": "IPY_MODEL_b9f3d46b9be149b88a8ae117d238360a",
            "value": " 456k/456k [00:00&lt;00:00, 17.2MB/s]"
          }
        },
        "0e7c766add3842d28273d7e520626b92": {
          "model_module": "@jupyter-widgets/base",
          "model_name": "LayoutModel",
          "model_module_version": "1.2.0",
          "state": {
            "_model_module": "@jupyter-widgets/base",
            "_model_module_version": "1.2.0",
            "_model_name": "LayoutModel",
            "_view_count": null,
            "_view_module": "@jupyter-widgets/base",
            "_view_module_version": "1.2.0",
            "_view_name": "LayoutView",
            "align_content": null,
            "align_items": null,
            "align_self": null,
            "border": null,
            "bottom": null,
            "display": null,
            "flex": null,
            "flex_flow": null,
            "grid_area": null,
            "grid_auto_columns": null,
            "grid_auto_flow": null,
            "grid_auto_rows": null,
            "grid_column": null,
            "grid_gap": null,
            "grid_row": null,
            "grid_template_areas": null,
            "grid_template_columns": null,
            "grid_template_rows": null,
            "height": null,
            "justify_content": null,
            "justify_items": null,
            "left": null,
            "margin": null,
            "max_height": null,
            "max_width": null,
            "min_height": null,
            "min_width": null,
            "object_fit": null,
            "object_position": null,
            "order": null,
            "overflow": null,
            "overflow_x": null,
            "overflow_y": null,
            "padding": null,
            "right": null,
            "top": null,
            "visibility": null,
            "width": null
          }
        },
        "25ef001325bf499f90610403b7263fe7": {
          "model_module": "@jupyter-widgets/base",
          "model_name": "LayoutModel",
          "model_module_version": "1.2.0",
          "state": {
            "_model_module": "@jupyter-widgets/base",
            "_model_module_version": "1.2.0",
            "_model_name": "LayoutModel",
            "_view_count": null,
            "_view_module": "@jupyter-widgets/base",
            "_view_module_version": "1.2.0",
            "_view_name": "LayoutView",
            "align_content": null,
            "align_items": null,
            "align_self": null,
            "border": null,
            "bottom": null,
            "display": null,
            "flex": null,
            "flex_flow": null,
            "grid_area": null,
            "grid_auto_columns": null,
            "grid_auto_flow": null,
            "grid_auto_rows": null,
            "grid_column": null,
            "grid_gap": null,
            "grid_row": null,
            "grid_template_areas": null,
            "grid_template_columns": null,
            "grid_template_rows": null,
            "height": null,
            "justify_content": null,
            "justify_items": null,
            "left": null,
            "margin": null,
            "max_height": null,
            "max_width": null,
            "min_height": null,
            "min_width": null,
            "object_fit": null,
            "object_position": null,
            "order": null,
            "overflow": null,
            "overflow_x": null,
            "overflow_y": null,
            "padding": null,
            "right": null,
            "top": null,
            "visibility": null,
            "width": null
          }
        },
        "6e02c943b509414c8d11f0f58ce5594a": {
          "model_module": "@jupyter-widgets/controls",
          "model_name": "DescriptionStyleModel",
          "model_module_version": "1.5.0",
          "state": {
            "_model_module": "@jupyter-widgets/controls",
            "_model_module_version": "1.5.0",
            "_model_name": "DescriptionStyleModel",
            "_view_count": null,
            "_view_module": "@jupyter-widgets/base",
            "_view_module_version": "1.2.0",
            "_view_name": "StyleView",
            "description_width": ""
          }
        },
        "7e264f7ec81342a280fb3ab0eb30cab7": {
          "model_module": "@jupyter-widgets/base",
          "model_name": "LayoutModel",
          "model_module_version": "1.2.0",
          "state": {
            "_model_module": "@jupyter-widgets/base",
            "_model_module_version": "1.2.0",
            "_model_name": "LayoutModel",
            "_view_count": null,
            "_view_module": "@jupyter-widgets/base",
            "_view_module_version": "1.2.0",
            "_view_name": "LayoutView",
            "align_content": null,
            "align_items": null,
            "align_self": null,
            "border": null,
            "bottom": null,
            "display": null,
            "flex": null,
            "flex_flow": null,
            "grid_area": null,
            "grid_auto_columns": null,
            "grid_auto_flow": null,
            "grid_auto_rows": null,
            "grid_column": null,
            "grid_gap": null,
            "grid_row": null,
            "grid_template_areas": null,
            "grid_template_columns": null,
            "grid_template_rows": null,
            "height": null,
            "justify_content": null,
            "justify_items": null,
            "left": null,
            "margin": null,
            "max_height": null,
            "max_width": null,
            "min_height": null,
            "min_width": null,
            "object_fit": null,
            "object_position": null,
            "order": null,
            "overflow": null,
            "overflow_x": null,
            "overflow_y": null,
            "padding": null,
            "right": null,
            "top": null,
            "visibility": null,
            "width": null
          }
        },
        "d33b2674b07349988971548cc030c978": {
          "model_module": "@jupyter-widgets/controls",
          "model_name": "ProgressStyleModel",
          "model_module_version": "1.5.0",
          "state": {
            "_model_module": "@jupyter-widgets/controls",
            "_model_module_version": "1.5.0",
            "_model_name": "ProgressStyleModel",
            "_view_count": null,
            "_view_module": "@jupyter-widgets/base",
            "_view_module_version": "1.2.0",
            "_view_name": "StyleView",
            "bar_color": null,
            "description_width": ""
          }
        },
        "407ebdc2722f4c12b820f9e7de0a843d": {
          "model_module": "@jupyter-widgets/base",
          "model_name": "LayoutModel",
          "model_module_version": "1.2.0",
          "state": {
            "_model_module": "@jupyter-widgets/base",
            "_model_module_version": "1.2.0",
            "_model_name": "LayoutModel",
            "_view_count": null,
            "_view_module": "@jupyter-widgets/base",
            "_view_module_version": "1.2.0",
            "_view_name": "LayoutView",
            "align_content": null,
            "align_items": null,
            "align_self": null,
            "border": null,
            "bottom": null,
            "display": null,
            "flex": null,
            "flex_flow": null,
            "grid_area": null,
            "grid_auto_columns": null,
            "grid_auto_flow": null,
            "grid_auto_rows": null,
            "grid_column": null,
            "grid_gap": null,
            "grid_row": null,
            "grid_template_areas": null,
            "grid_template_columns": null,
            "grid_template_rows": null,
            "height": null,
            "justify_content": null,
            "justify_items": null,
            "left": null,
            "margin": null,
            "max_height": null,
            "max_width": null,
            "min_height": null,
            "min_width": null,
            "object_fit": null,
            "object_position": null,
            "order": null,
            "overflow": null,
            "overflow_x": null,
            "overflow_y": null,
            "padding": null,
            "right": null,
            "top": null,
            "visibility": null,
            "width": null
          }
        },
        "b9f3d46b9be149b88a8ae117d238360a": {
          "model_module": "@jupyter-widgets/controls",
          "model_name": "DescriptionStyleModel",
          "model_module_version": "1.5.0",
          "state": {
            "_model_module": "@jupyter-widgets/controls",
            "_model_module_version": "1.5.0",
            "_model_name": "DescriptionStyleModel",
            "_view_count": null,
            "_view_module": "@jupyter-widgets/base",
            "_view_module_version": "1.2.0",
            "_view_name": "StyleView",
            "description_width": ""
          }
        },
        "335dc1291b8841a59737a16dd2e7349e": {
          "model_module": "@jupyter-widgets/controls",
          "model_name": "HBoxModel",
          "model_module_version": "1.5.0",
          "state": {
            "_dom_classes": [],
            "_model_module": "@jupyter-widgets/controls",
            "_model_module_version": "1.5.0",
            "_model_name": "HBoxModel",
            "_view_count": null,
            "_view_module": "@jupyter-widgets/controls",
            "_view_module_version": "1.5.0",
            "_view_name": "HBoxView",
            "box_style": "",
            "children": [
              "IPY_MODEL_1006cf8d75264ad59ae5e12a25242f61",
              "IPY_MODEL_2146626320a844b5acb44cc6b345e534",
              "IPY_MODEL_9b1831fafd3e4e6b8230678a3da81c21"
            ],
            "layout": "IPY_MODEL_5957f8bcbe1b4845a46111a94214523b"
          }
        },
        "1006cf8d75264ad59ae5e12a25242f61": {
          "model_module": "@jupyter-widgets/controls",
          "model_name": "HTMLModel",
          "model_module_version": "1.5.0",
          "state": {
            "_dom_classes": [],
            "_model_module": "@jupyter-widgets/controls",
            "_model_module_version": "1.5.0",
            "_model_name": "HTMLModel",
            "_view_count": null,
            "_view_module": "@jupyter-widgets/controls",
            "_view_module_version": "1.5.0",
            "_view_name": "HTMLView",
            "description": "",
            "description_tooltip": null,
            "layout": "IPY_MODEL_42fcbef60d2642af852bb7c96d53ac42",
            "placeholder": "​",
            "style": "IPY_MODEL_8cab79253b3d4cf8b1dc36a9cc013c0a",
            "value": "tokenizer.json: 100%"
          }
        },
        "2146626320a844b5acb44cc6b345e534": {
          "model_module": "@jupyter-widgets/controls",
          "model_name": "FloatProgressModel",
          "model_module_version": "1.5.0",
          "state": {
            "_dom_classes": [],
            "_model_module": "@jupyter-widgets/controls",
            "_model_module_version": "1.5.0",
            "_model_name": "FloatProgressModel",
            "_view_count": null,
            "_view_module": "@jupyter-widgets/controls",
            "_view_module_version": "1.5.0",
            "_view_name": "ProgressView",
            "bar_style": "success",
            "description": "",
            "description_tooltip": null,
            "layout": "IPY_MODEL_a07383398cfd4855ab9694ce622e70d0",
            "max": 1355256,
            "min": 0,
            "orientation": "horizontal",
            "style": "IPY_MODEL_0696cc3940f7416b8edc4bb140ef9eb3",
            "value": 1355256
          }
        },
        "9b1831fafd3e4e6b8230678a3da81c21": {
          "model_module": "@jupyter-widgets/controls",
          "model_name": "HTMLModel",
          "model_module_version": "1.5.0",
          "state": {
            "_dom_classes": [],
            "_model_module": "@jupyter-widgets/controls",
            "_model_module_version": "1.5.0",
            "_model_name": "HTMLModel",
            "_view_count": null,
            "_view_module": "@jupyter-widgets/controls",
            "_view_module_version": "1.5.0",
            "_view_name": "HTMLView",
            "description": "",
            "description_tooltip": null,
            "layout": "IPY_MODEL_7b1f7813864a46e6ae604095a3ac2a9b",
            "placeholder": "​",
            "style": "IPY_MODEL_5715550085ca4c2d8d07fa8e71db160b",
            "value": " 1.36M/1.36M [00:00&lt;00:00, 32.5MB/s]"
          }
        },
        "5957f8bcbe1b4845a46111a94214523b": {
          "model_module": "@jupyter-widgets/base",
          "model_name": "LayoutModel",
          "model_module_version": "1.2.0",
          "state": {
            "_model_module": "@jupyter-widgets/base",
            "_model_module_version": "1.2.0",
            "_model_name": "LayoutModel",
            "_view_count": null,
            "_view_module": "@jupyter-widgets/base",
            "_view_module_version": "1.2.0",
            "_view_name": "LayoutView",
            "align_content": null,
            "align_items": null,
            "align_self": null,
            "border": null,
            "bottom": null,
            "display": null,
            "flex": null,
            "flex_flow": null,
            "grid_area": null,
            "grid_auto_columns": null,
            "grid_auto_flow": null,
            "grid_auto_rows": null,
            "grid_column": null,
            "grid_gap": null,
            "grid_row": null,
            "grid_template_areas": null,
            "grid_template_columns": null,
            "grid_template_rows": null,
            "height": null,
            "justify_content": null,
            "justify_items": null,
            "left": null,
            "margin": null,
            "max_height": null,
            "max_width": null,
            "min_height": null,
            "min_width": null,
            "object_fit": null,
            "object_position": null,
            "order": null,
            "overflow": null,
            "overflow_x": null,
            "overflow_y": null,
            "padding": null,
            "right": null,
            "top": null,
            "visibility": null,
            "width": null
          }
        },
        "42fcbef60d2642af852bb7c96d53ac42": {
          "model_module": "@jupyter-widgets/base",
          "model_name": "LayoutModel",
          "model_module_version": "1.2.0",
          "state": {
            "_model_module": "@jupyter-widgets/base",
            "_model_module_version": "1.2.0",
            "_model_name": "LayoutModel",
            "_view_count": null,
            "_view_module": "@jupyter-widgets/base",
            "_view_module_version": "1.2.0",
            "_view_name": "LayoutView",
            "align_content": null,
            "align_items": null,
            "align_self": null,
            "border": null,
            "bottom": null,
            "display": null,
            "flex": null,
            "flex_flow": null,
            "grid_area": null,
            "grid_auto_columns": null,
            "grid_auto_flow": null,
            "grid_auto_rows": null,
            "grid_column": null,
            "grid_gap": null,
            "grid_row": null,
            "grid_template_areas": null,
            "grid_template_columns": null,
            "grid_template_rows": null,
            "height": null,
            "justify_content": null,
            "justify_items": null,
            "left": null,
            "margin": null,
            "max_height": null,
            "max_width": null,
            "min_height": null,
            "min_width": null,
            "object_fit": null,
            "object_position": null,
            "order": null,
            "overflow": null,
            "overflow_x": null,
            "overflow_y": null,
            "padding": null,
            "right": null,
            "top": null,
            "visibility": null,
            "width": null
          }
        },
        "8cab79253b3d4cf8b1dc36a9cc013c0a": {
          "model_module": "@jupyter-widgets/controls",
          "model_name": "DescriptionStyleModel",
          "model_module_version": "1.5.0",
          "state": {
            "_model_module": "@jupyter-widgets/controls",
            "_model_module_version": "1.5.0",
            "_model_name": "DescriptionStyleModel",
            "_view_count": null,
            "_view_module": "@jupyter-widgets/base",
            "_view_module_version": "1.2.0",
            "_view_name": "StyleView",
            "description_width": ""
          }
        },
        "a07383398cfd4855ab9694ce622e70d0": {
          "model_module": "@jupyter-widgets/base",
          "model_name": "LayoutModel",
          "model_module_version": "1.2.0",
          "state": {
            "_model_module": "@jupyter-widgets/base",
            "_model_module_version": "1.2.0",
            "_model_name": "LayoutModel",
            "_view_count": null,
            "_view_module": "@jupyter-widgets/base",
            "_view_module_version": "1.2.0",
            "_view_name": "LayoutView",
            "align_content": null,
            "align_items": null,
            "align_self": null,
            "border": null,
            "bottom": null,
            "display": null,
            "flex": null,
            "flex_flow": null,
            "grid_area": null,
            "grid_auto_columns": null,
            "grid_auto_flow": null,
            "grid_auto_rows": null,
            "grid_column": null,
            "grid_gap": null,
            "grid_row": null,
            "grid_template_areas": null,
            "grid_template_columns": null,
            "grid_template_rows": null,
            "height": null,
            "justify_content": null,
            "justify_items": null,
            "left": null,
            "margin": null,
            "max_height": null,
            "max_width": null,
            "min_height": null,
            "min_width": null,
            "object_fit": null,
            "object_position": null,
            "order": null,
            "overflow": null,
            "overflow_x": null,
            "overflow_y": null,
            "padding": null,
            "right": null,
            "top": null,
            "visibility": null,
            "width": null
          }
        },
        "0696cc3940f7416b8edc4bb140ef9eb3": {
          "model_module": "@jupyter-widgets/controls",
          "model_name": "ProgressStyleModel",
          "model_module_version": "1.5.0",
          "state": {
            "_model_module": "@jupyter-widgets/controls",
            "_model_module_version": "1.5.0",
            "_model_name": "ProgressStyleModel",
            "_view_count": null,
            "_view_module": "@jupyter-widgets/base",
            "_view_module_version": "1.2.0",
            "_view_name": "StyleView",
            "bar_color": null,
            "description_width": ""
          }
        },
        "7b1f7813864a46e6ae604095a3ac2a9b": {
          "model_module": "@jupyter-widgets/base",
          "model_name": "LayoutModel",
          "model_module_version": "1.2.0",
          "state": {
            "_model_module": "@jupyter-widgets/base",
            "_model_module_version": "1.2.0",
            "_model_name": "LayoutModel",
            "_view_count": null,
            "_view_module": "@jupyter-widgets/base",
            "_view_module_version": "1.2.0",
            "_view_name": "LayoutView",
            "align_content": null,
            "align_items": null,
            "align_self": null,
            "border": null,
            "bottom": null,
            "display": null,
            "flex": null,
            "flex_flow": null,
            "grid_area": null,
            "grid_auto_columns": null,
            "grid_auto_flow": null,
            "grid_auto_rows": null,
            "grid_column": null,
            "grid_gap": null,
            "grid_row": null,
            "grid_template_areas": null,
            "grid_template_columns": null,
            "grid_template_rows": null,
            "height": null,
            "justify_content": null,
            "justify_items": null,
            "left": null,
            "margin": null,
            "max_height": null,
            "max_width": null,
            "min_height": null,
            "min_width": null,
            "object_fit": null,
            "object_position": null,
            "order": null,
            "overflow": null,
            "overflow_x": null,
            "overflow_y": null,
            "padding": null,
            "right": null,
            "top": null,
            "visibility": null,
            "width": null
          }
        },
        "5715550085ca4c2d8d07fa8e71db160b": {
          "model_module": "@jupyter-widgets/controls",
          "model_name": "DescriptionStyleModel",
          "model_module_version": "1.5.0",
          "state": {
            "_model_module": "@jupyter-widgets/controls",
            "_model_module_version": "1.5.0",
            "_model_name": "DescriptionStyleModel",
            "_view_count": null,
            "_view_module": "@jupyter-widgets/base",
            "_view_module_version": "1.2.0",
            "_view_name": "StyleView",
            "description_width": ""
          }
        }
      }
    }
  },
  "nbformat": 4,
  "nbformat_minor": 0
}