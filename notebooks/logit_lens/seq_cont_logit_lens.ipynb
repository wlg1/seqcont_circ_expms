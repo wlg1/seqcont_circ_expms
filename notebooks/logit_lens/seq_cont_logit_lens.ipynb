{
  "nbformat": 4,
  "nbformat_minor": 0,
  "metadata": {
    "colab": {
      "provenance": [],
      "collapsed_sections": [
        "jcwyrfWXt7Dp",
        "K_-_eyDu8ax-",
        "I5wf7hssBh0T"
      ],
      "machine_shape": "hm",
      "gpuType": "A100",
      "toc_visible": true
    },
    "kernelspec": {
      "name": "python3",
      "display_name": "Python 3"
    },
    "language_info": {
      "name": "python"
    },
    "widgets": {
      "application/vnd.jupyter.widget-state+json": {
        "31e827671d294542b6aef2ffedb67c49": {
          "model_module": "@jupyter-widgets/controls",
          "model_name": "HBoxModel",
          "model_module_version": "1.5.0",
          "state": {
            "_dom_classes": [],
            "_model_module": "@jupyter-widgets/controls",
            "_model_module_version": "1.5.0",
            "_model_name": "HBoxModel",
            "_view_count": null,
            "_view_module": "@jupyter-widgets/controls",
            "_view_module_version": "1.5.0",
            "_view_name": "HBoxView",
            "box_style": "",
            "children": [
              "IPY_MODEL_259498e110ef4256ba0fea3d60be158a",
              "IPY_MODEL_c9c6d86dea6448e187c2b85bcadcd118",
              "IPY_MODEL_902968e65a5348488dcda92a91139135"
            ],
            "layout": "IPY_MODEL_5e43ebaa94d541b295c08e329ed52843"
          }
        },
        "259498e110ef4256ba0fea3d60be158a": {
          "model_module": "@jupyter-widgets/controls",
          "model_name": "HTMLModel",
          "model_module_version": "1.5.0",
          "state": {
            "_dom_classes": [],
            "_model_module": "@jupyter-widgets/controls",
            "_model_module_version": "1.5.0",
            "_model_name": "HTMLModel",
            "_view_count": null,
            "_view_module": "@jupyter-widgets/controls",
            "_view_module_version": "1.5.0",
            "_view_name": "HTMLView",
            "description": "",
            "description_tooltip": null,
            "layout": "IPY_MODEL_0a1ed204e4f04530882b56ee96fcfe6f",
            "placeholder": "​",
            "style": "IPY_MODEL_4fab757499904f828fb31e9816ca9c28",
            "value": "model.safetensors: 100%"
          }
        },
        "c9c6d86dea6448e187c2b85bcadcd118": {
          "model_module": "@jupyter-widgets/controls",
          "model_name": "FloatProgressModel",
          "model_module_version": "1.5.0",
          "state": {
            "_dom_classes": [],
            "_model_module": "@jupyter-widgets/controls",
            "_model_module_version": "1.5.0",
            "_model_name": "FloatProgressModel",
            "_view_count": null,
            "_view_module": "@jupyter-widgets/controls",
            "_view_module_version": "1.5.0",
            "_view_name": "ProgressView",
            "bar_style": "success",
            "description": "",
            "description_tooltip": null,
            "layout": "IPY_MODEL_038036ce60e240788eee601cbb9570b4",
            "max": 548105171,
            "min": 0,
            "orientation": "horizontal",
            "style": "IPY_MODEL_a429c8ddbf704858bd9207479468e316",
            "value": 548105171
          }
        },
        "902968e65a5348488dcda92a91139135": {
          "model_module": "@jupyter-widgets/controls",
          "model_name": "HTMLModel",
          "model_module_version": "1.5.0",
          "state": {
            "_dom_classes": [],
            "_model_module": "@jupyter-widgets/controls",
            "_model_module_version": "1.5.0",
            "_model_name": "HTMLModel",
            "_view_count": null,
            "_view_module": "@jupyter-widgets/controls",
            "_view_module_version": "1.5.0",
            "_view_name": "HTMLView",
            "description": "",
            "description_tooltip": null,
            "layout": "IPY_MODEL_58ab083bf9f24ee69bc4ab94cbf27582",
            "placeholder": "​",
            "style": "IPY_MODEL_c87a136cd9d841599cd4c003791213ee",
            "value": " 548M/548M [00:01&lt;00:00, 454MB/s]"
          }
        },
        "5e43ebaa94d541b295c08e329ed52843": {
          "model_module": "@jupyter-widgets/base",
          "model_name": "LayoutModel",
          "model_module_version": "1.2.0",
          "state": {
            "_model_module": "@jupyter-widgets/base",
            "_model_module_version": "1.2.0",
            "_model_name": "LayoutModel",
            "_view_count": null,
            "_view_module": "@jupyter-widgets/base",
            "_view_module_version": "1.2.0",
            "_view_name": "LayoutView",
            "align_content": null,
            "align_items": null,
            "align_self": null,
            "border": null,
            "bottom": null,
            "display": null,
            "flex": null,
            "flex_flow": null,
            "grid_area": null,
            "grid_auto_columns": null,
            "grid_auto_flow": null,
            "grid_auto_rows": null,
            "grid_column": null,
            "grid_gap": null,
            "grid_row": null,
            "grid_template_areas": null,
            "grid_template_columns": null,
            "grid_template_rows": null,
            "height": null,
            "justify_content": null,
            "justify_items": null,
            "left": null,
            "margin": null,
            "max_height": null,
            "max_width": null,
            "min_height": null,
            "min_width": null,
            "object_fit": null,
            "object_position": null,
            "order": null,
            "overflow": null,
            "overflow_x": null,
            "overflow_y": null,
            "padding": null,
            "right": null,
            "top": null,
            "visibility": null,
            "width": null
          }
        },
        "0a1ed204e4f04530882b56ee96fcfe6f": {
          "model_module": "@jupyter-widgets/base",
          "model_name": "LayoutModel",
          "model_module_version": "1.2.0",
          "state": {
            "_model_module": "@jupyter-widgets/base",
            "_model_module_version": "1.2.0",
            "_model_name": "LayoutModel",
            "_view_count": null,
            "_view_module": "@jupyter-widgets/base",
            "_view_module_version": "1.2.0",
            "_view_name": "LayoutView",
            "align_content": null,
            "align_items": null,
            "align_self": null,
            "border": null,
            "bottom": null,
            "display": null,
            "flex": null,
            "flex_flow": null,
            "grid_area": null,
            "grid_auto_columns": null,
            "grid_auto_flow": null,
            "grid_auto_rows": null,
            "grid_column": null,
            "grid_gap": null,
            "grid_row": null,
            "grid_template_areas": null,
            "grid_template_columns": null,
            "grid_template_rows": null,
            "height": null,
            "justify_content": null,
            "justify_items": null,
            "left": null,
            "margin": null,
            "max_height": null,
            "max_width": null,
            "min_height": null,
            "min_width": null,
            "object_fit": null,
            "object_position": null,
            "order": null,
            "overflow": null,
            "overflow_x": null,
            "overflow_y": null,
            "padding": null,
            "right": null,
            "top": null,
            "visibility": null,
            "width": null
          }
        },
        "4fab757499904f828fb31e9816ca9c28": {
          "model_module": "@jupyter-widgets/controls",
          "model_name": "DescriptionStyleModel",
          "model_module_version": "1.5.0",
          "state": {
            "_model_module": "@jupyter-widgets/controls",
            "_model_module_version": "1.5.0",
            "_model_name": "DescriptionStyleModel",
            "_view_count": null,
            "_view_module": "@jupyter-widgets/base",
            "_view_module_version": "1.2.0",
            "_view_name": "StyleView",
            "description_width": ""
          }
        },
        "038036ce60e240788eee601cbb9570b4": {
          "model_module": "@jupyter-widgets/base",
          "model_name": "LayoutModel",
          "model_module_version": "1.2.0",
          "state": {
            "_model_module": "@jupyter-widgets/base",
            "_model_module_version": "1.2.0",
            "_model_name": "LayoutModel",
            "_view_count": null,
            "_view_module": "@jupyter-widgets/base",
            "_view_module_version": "1.2.0",
            "_view_name": "LayoutView",
            "align_content": null,
            "align_items": null,
            "align_self": null,
            "border": null,
            "bottom": null,
            "display": null,
            "flex": null,
            "flex_flow": null,
            "grid_area": null,
            "grid_auto_columns": null,
            "grid_auto_flow": null,
            "grid_auto_rows": null,
            "grid_column": null,
            "grid_gap": null,
            "grid_row": null,
            "grid_template_areas": null,
            "grid_template_columns": null,
            "grid_template_rows": null,
            "height": null,
            "justify_content": null,
            "justify_items": null,
            "left": null,
            "margin": null,
            "max_height": null,
            "max_width": null,
            "min_height": null,
            "min_width": null,
            "object_fit": null,
            "object_position": null,
            "order": null,
            "overflow": null,
            "overflow_x": null,
            "overflow_y": null,
            "padding": null,
            "right": null,
            "top": null,
            "visibility": null,
            "width": null
          }
        },
        "a429c8ddbf704858bd9207479468e316": {
          "model_module": "@jupyter-widgets/controls",
          "model_name": "ProgressStyleModel",
          "model_module_version": "1.5.0",
          "state": {
            "_model_module": "@jupyter-widgets/controls",
            "_model_module_version": "1.5.0",
            "_model_name": "ProgressStyleModel",
            "_view_count": null,
            "_view_module": "@jupyter-widgets/base",
            "_view_module_version": "1.2.0",
            "_view_name": "StyleView",
            "bar_color": null,
            "description_width": ""
          }
        },
        "58ab083bf9f24ee69bc4ab94cbf27582": {
          "model_module": "@jupyter-widgets/base",
          "model_name": "LayoutModel",
          "model_module_version": "1.2.0",
          "state": {
            "_model_module": "@jupyter-widgets/base",
            "_model_module_version": "1.2.0",
            "_model_name": "LayoutModel",
            "_view_count": null,
            "_view_module": "@jupyter-widgets/base",
            "_view_module_version": "1.2.0",
            "_view_name": "LayoutView",
            "align_content": null,
            "align_items": null,
            "align_self": null,
            "border": null,
            "bottom": null,
            "display": null,
            "flex": null,
            "flex_flow": null,
            "grid_area": null,
            "grid_auto_columns": null,
            "grid_auto_flow": null,
            "grid_auto_rows": null,
            "grid_column": null,
            "grid_gap": null,
            "grid_row": null,
            "grid_template_areas": null,
            "grid_template_columns": null,
            "grid_template_rows": null,
            "height": null,
            "justify_content": null,
            "justify_items": null,
            "left": null,
            "margin": null,
            "max_height": null,
            "max_width": null,
            "min_height": null,
            "min_width": null,
            "object_fit": null,
            "object_position": null,
            "order": null,
            "overflow": null,
            "overflow_x": null,
            "overflow_y": null,
            "padding": null,
            "right": null,
            "top": null,
            "visibility": null,
            "width": null
          }
        },
        "c87a136cd9d841599cd4c003791213ee": {
          "model_module": "@jupyter-widgets/controls",
          "model_name": "DescriptionStyleModel",
          "model_module_version": "1.5.0",
          "state": {
            "_model_module": "@jupyter-widgets/controls",
            "_model_module_version": "1.5.0",
            "_model_name": "DescriptionStyleModel",
            "_view_count": null,
            "_view_module": "@jupyter-widgets/base",
            "_view_module_version": "1.2.0",
            "_view_name": "StyleView",
            "description_width": ""
          }
        },
        "40a6520ab688464a80b1f36c25f092b6": {
          "model_module": "@jupyter-widgets/controls",
          "model_name": "HBoxModel",
          "model_module_version": "1.5.0",
          "state": {
            "_dom_classes": [],
            "_model_module": "@jupyter-widgets/controls",
            "_model_module_version": "1.5.0",
            "_model_name": "HBoxModel",
            "_view_count": null,
            "_view_module": "@jupyter-widgets/controls",
            "_view_module_version": "1.5.0",
            "_view_name": "HBoxView",
            "box_style": "",
            "children": [
              "IPY_MODEL_00f151b10b5245c1bfdf85410aca936f",
              "IPY_MODEL_6f2177ca0c314af09e53ed79b66b4c5a",
              "IPY_MODEL_7626face9156482b95792b64033e6204"
            ],
            "layout": "IPY_MODEL_55753178105949ffb27fc9deb47fc2f8"
          }
        },
        "00f151b10b5245c1bfdf85410aca936f": {
          "model_module": "@jupyter-widgets/controls",
          "model_name": "HTMLModel",
          "model_module_version": "1.5.0",
          "state": {
            "_dom_classes": [],
            "_model_module": "@jupyter-widgets/controls",
            "_model_module_version": "1.5.0",
            "_model_name": "HTMLModel",
            "_view_count": null,
            "_view_module": "@jupyter-widgets/controls",
            "_view_module_version": "1.5.0",
            "_view_name": "HTMLView",
            "description": "",
            "description_tooltip": null,
            "layout": "IPY_MODEL_4e51dafff7ee441cbe947251aea55dbb",
            "placeholder": "​",
            "style": "IPY_MODEL_e3367745284a47edb21ecfb5e8e28854",
            "value": "generation_config.json: 100%"
          }
        },
        "6f2177ca0c314af09e53ed79b66b4c5a": {
          "model_module": "@jupyter-widgets/controls",
          "model_name": "FloatProgressModel",
          "model_module_version": "1.5.0",
          "state": {
            "_dom_classes": [],
            "_model_module": "@jupyter-widgets/controls",
            "_model_module_version": "1.5.0",
            "_model_name": "FloatProgressModel",
            "_view_count": null,
            "_view_module": "@jupyter-widgets/controls",
            "_view_module_version": "1.5.0",
            "_view_name": "ProgressView",
            "bar_style": "success",
            "description": "",
            "description_tooltip": null,
            "layout": "IPY_MODEL_6422f62016cd43aaba39d99070e32642",
            "max": 124,
            "min": 0,
            "orientation": "horizontal",
            "style": "IPY_MODEL_f492943c5c094aa18e582ad5bf43b69c",
            "value": 124
          }
        },
        "7626face9156482b95792b64033e6204": {
          "model_module": "@jupyter-widgets/controls",
          "model_name": "HTMLModel",
          "model_module_version": "1.5.0",
          "state": {
            "_dom_classes": [],
            "_model_module": "@jupyter-widgets/controls",
            "_model_module_version": "1.5.0",
            "_model_name": "HTMLModel",
            "_view_count": null,
            "_view_module": "@jupyter-widgets/controls",
            "_view_module_version": "1.5.0",
            "_view_name": "HTMLView",
            "description": "",
            "description_tooltip": null,
            "layout": "IPY_MODEL_d7f76759a8744b98b1a6f44f1281afc4",
            "placeholder": "​",
            "style": "IPY_MODEL_50dc90bacff04f71aa9d1251247814b9",
            "value": " 124/124 [00:00&lt;00:00, 11.0kB/s]"
          }
        },
        "55753178105949ffb27fc9deb47fc2f8": {
          "model_module": "@jupyter-widgets/base",
          "model_name": "LayoutModel",
          "model_module_version": "1.2.0",
          "state": {
            "_model_module": "@jupyter-widgets/base",
            "_model_module_version": "1.2.0",
            "_model_name": "LayoutModel",
            "_view_count": null,
            "_view_module": "@jupyter-widgets/base",
            "_view_module_version": "1.2.0",
            "_view_name": "LayoutView",
            "align_content": null,
            "align_items": null,
            "align_self": null,
            "border": null,
            "bottom": null,
            "display": null,
            "flex": null,
            "flex_flow": null,
            "grid_area": null,
            "grid_auto_columns": null,
            "grid_auto_flow": null,
            "grid_auto_rows": null,
            "grid_column": null,
            "grid_gap": null,
            "grid_row": null,
            "grid_template_areas": null,
            "grid_template_columns": null,
            "grid_template_rows": null,
            "height": null,
            "justify_content": null,
            "justify_items": null,
            "left": null,
            "margin": null,
            "max_height": null,
            "max_width": null,
            "min_height": null,
            "min_width": null,
            "object_fit": null,
            "object_position": null,
            "order": null,
            "overflow": null,
            "overflow_x": null,
            "overflow_y": null,
            "padding": null,
            "right": null,
            "top": null,
            "visibility": null,
            "width": null
          }
        },
        "4e51dafff7ee441cbe947251aea55dbb": {
          "model_module": "@jupyter-widgets/base",
          "model_name": "LayoutModel",
          "model_module_version": "1.2.0",
          "state": {
            "_model_module": "@jupyter-widgets/base",
            "_model_module_version": "1.2.0",
            "_model_name": "LayoutModel",
            "_view_count": null,
            "_view_module": "@jupyter-widgets/base",
            "_view_module_version": "1.2.0",
            "_view_name": "LayoutView",
            "align_content": null,
            "align_items": null,
            "align_self": null,
            "border": null,
            "bottom": null,
            "display": null,
            "flex": null,
            "flex_flow": null,
            "grid_area": null,
            "grid_auto_columns": null,
            "grid_auto_flow": null,
            "grid_auto_rows": null,
            "grid_column": null,
            "grid_gap": null,
            "grid_row": null,
            "grid_template_areas": null,
            "grid_template_columns": null,
            "grid_template_rows": null,
            "height": null,
            "justify_content": null,
            "justify_items": null,
            "left": null,
            "margin": null,
            "max_height": null,
            "max_width": null,
            "min_height": null,
            "min_width": null,
            "object_fit": null,
            "object_position": null,
            "order": null,
            "overflow": null,
            "overflow_x": null,
            "overflow_y": null,
            "padding": null,
            "right": null,
            "top": null,
            "visibility": null,
            "width": null
          }
        },
        "e3367745284a47edb21ecfb5e8e28854": {
          "model_module": "@jupyter-widgets/controls",
          "model_name": "DescriptionStyleModel",
          "model_module_version": "1.5.0",
          "state": {
            "_model_module": "@jupyter-widgets/controls",
            "_model_module_version": "1.5.0",
            "_model_name": "DescriptionStyleModel",
            "_view_count": null,
            "_view_module": "@jupyter-widgets/base",
            "_view_module_version": "1.2.0",
            "_view_name": "StyleView",
            "description_width": ""
          }
        },
        "6422f62016cd43aaba39d99070e32642": {
          "model_module": "@jupyter-widgets/base",
          "model_name": "LayoutModel",
          "model_module_version": "1.2.0",
          "state": {
            "_model_module": "@jupyter-widgets/base",
            "_model_module_version": "1.2.0",
            "_model_name": "LayoutModel",
            "_view_count": null,
            "_view_module": "@jupyter-widgets/base",
            "_view_module_version": "1.2.0",
            "_view_name": "LayoutView",
            "align_content": null,
            "align_items": null,
            "align_self": null,
            "border": null,
            "bottom": null,
            "display": null,
            "flex": null,
            "flex_flow": null,
            "grid_area": null,
            "grid_auto_columns": null,
            "grid_auto_flow": null,
            "grid_auto_rows": null,
            "grid_column": null,
            "grid_gap": null,
            "grid_row": null,
            "grid_template_areas": null,
            "grid_template_columns": null,
            "grid_template_rows": null,
            "height": null,
            "justify_content": null,
            "justify_items": null,
            "left": null,
            "margin": null,
            "max_height": null,
            "max_width": null,
            "min_height": null,
            "min_width": null,
            "object_fit": null,
            "object_position": null,
            "order": null,
            "overflow": null,
            "overflow_x": null,
            "overflow_y": null,
            "padding": null,
            "right": null,
            "top": null,
            "visibility": null,
            "width": null
          }
        },
        "f492943c5c094aa18e582ad5bf43b69c": {
          "model_module": "@jupyter-widgets/controls",
          "model_name": "ProgressStyleModel",
          "model_module_version": "1.5.0",
          "state": {
            "_model_module": "@jupyter-widgets/controls",
            "_model_module_version": "1.5.0",
            "_model_name": "ProgressStyleModel",
            "_view_count": null,
            "_view_module": "@jupyter-widgets/base",
            "_view_module_version": "1.2.0",
            "_view_name": "StyleView",
            "bar_color": null,
            "description_width": ""
          }
        },
        "d7f76759a8744b98b1a6f44f1281afc4": {
          "model_module": "@jupyter-widgets/base",
          "model_name": "LayoutModel",
          "model_module_version": "1.2.0",
          "state": {
            "_model_module": "@jupyter-widgets/base",
            "_model_module_version": "1.2.0",
            "_model_name": "LayoutModel",
            "_view_count": null,
            "_view_module": "@jupyter-widgets/base",
            "_view_module_version": "1.2.0",
            "_view_name": "LayoutView",
            "align_content": null,
            "align_items": null,
            "align_self": null,
            "border": null,
            "bottom": null,
            "display": null,
            "flex": null,
            "flex_flow": null,
            "grid_area": null,
            "grid_auto_columns": null,
            "grid_auto_flow": null,
            "grid_auto_rows": null,
            "grid_column": null,
            "grid_gap": null,
            "grid_row": null,
            "grid_template_areas": null,
            "grid_template_columns": null,
            "grid_template_rows": null,
            "height": null,
            "justify_content": null,
            "justify_items": null,
            "left": null,
            "margin": null,
            "max_height": null,
            "max_width": null,
            "min_height": null,
            "min_width": null,
            "object_fit": null,
            "object_position": null,
            "order": null,
            "overflow": null,
            "overflow_x": null,
            "overflow_y": null,
            "padding": null,
            "right": null,
            "top": null,
            "visibility": null,
            "width": null
          }
        },
        "50dc90bacff04f71aa9d1251247814b9": {
          "model_module": "@jupyter-widgets/controls",
          "model_name": "DescriptionStyleModel",
          "model_module_version": "1.5.0",
          "state": {
            "_model_module": "@jupyter-widgets/controls",
            "_model_module_version": "1.5.0",
            "_model_name": "DescriptionStyleModel",
            "_view_count": null,
            "_view_module": "@jupyter-widgets/base",
            "_view_module_version": "1.2.0",
            "_view_name": "StyleView",
            "description_width": ""
          }
        }
      }
    },
    "accelerator": "GPU"
  },
  "cells": [
    {
      "cell_type": "markdown",
      "source": [
        "# Setup"
      ],
      "metadata": {
        "id": "S6F7yiUUouDz"
      }
    },
    {
      "cell_type": "code",
      "source": [
        "import json\n",
        "from transformers import AutoModelForCausalLM, AutoTokenizer\n",
        "# from transformers import BloomTokenizerFast\n",
        "import torch as t\n",
        "from torch import nn\n",
        "import torch.nn.functional as F\n",
        "import numpy as np"
      ],
      "metadata": {
        "id": "0t86mJ039Pbo"
      },
      "execution_count": 1,
      "outputs": []
    },
    {
      "cell_type": "code",
      "source": [
        "model_name = 'gpt2'\n",
        "device = 'cuda:0' if t.cuda.is_available() else 'cpu'\n",
        "tokenizer = AutoTokenizer.from_pretrained(model_name)\n",
        "model = AutoModelForCausalLM.from_pretrained(model_name, torch_dtype=t.float16).to(device)"
      ],
      "metadata": {
        "colab": {
          "base_uri": "https://localhost:8080/",
          "height": 137,
          "referenced_widgets": [
            "31e827671d294542b6aef2ffedb67c49",
            "259498e110ef4256ba0fea3d60be158a",
            "c9c6d86dea6448e187c2b85bcadcd118",
            "902968e65a5348488dcda92a91139135",
            "5e43ebaa94d541b295c08e329ed52843",
            "0a1ed204e4f04530882b56ee96fcfe6f",
            "4fab757499904f828fb31e9816ca9c28",
            "038036ce60e240788eee601cbb9570b4",
            "a429c8ddbf704858bd9207479468e316",
            "58ab083bf9f24ee69bc4ab94cbf27582",
            "c87a136cd9d841599cd4c003791213ee",
            "40a6520ab688464a80b1f36c25f092b6",
            "00f151b10b5245c1bfdf85410aca936f",
            "6f2177ca0c314af09e53ed79b66b4c5a",
            "7626face9156482b95792b64033e6204",
            "55753178105949ffb27fc9deb47fc2f8",
            "4e51dafff7ee441cbe947251aea55dbb",
            "e3367745284a47edb21ecfb5e8e28854",
            "6422f62016cd43aaba39d99070e32642",
            "f492943c5c094aa18e582ad5bf43b69c",
            "d7f76759a8744b98b1a6f44f1281afc4",
            "50dc90bacff04f71aa9d1251247814b9"
          ]
        },
        "id": "o_Yx65j2o0YW",
        "outputId": "ae98c9b7-96fc-4c55-bda7-5d40f9788d15"
      },
      "execution_count": 4,
      "outputs": [
        {
          "output_type": "display_data",
          "data": {
            "text/plain": [
              "model.safetensors:   0%|          | 0.00/548M [00:00<?, ?B/s]"
            ],
            "application/vnd.jupyter.widget-view+json": {
              "version_major": 2,
              "version_minor": 0,
              "model_id": "31e827671d294542b6aef2ffedb67c49"
            }
          },
          "metadata": {}
        },
        {
          "output_type": "display_data",
          "data": {
            "text/plain": [
              "generation_config.json:   0%|          | 0.00/124 [00:00<?, ?B/s]"
            ],
            "application/vnd.jupyter.widget-view+json": {
              "version_major": 2,
              "version_minor": 0,
              "model_id": "40a6520ab688464a80b1f36c25f092b6"
            }
          },
          "metadata": {}
        }
      ]
    },
    {
      "cell_type": "markdown",
      "source": [
        "# Functions"
      ],
      "metadata": {
        "id": "QZSSALUFF4EY"
      }
    },
    {
      "cell_type": "code",
      "source": [
        "def actvs_to_logits(hidden_states):\n",
        "    \"\"\"\n",
        "    outputs.hidden_states is a tuple for every layer\n",
        "    each tuple member is an actvs tensor of size (batch_size, seq_len, d_model)\n",
        "    loop thru tuple to get actv for each layer\n",
        "    \"\"\"\n",
        "    layer_logits_list = []  # logits for each layer hidden state output actvs\n",
        "    for i, h in enumerate(hidden_states):\n",
        "        h_last_tok = h[:, -1, :]\n",
        "        if i == len(hidden_states) - 1:\n",
        "            ln_h_last_tok = h_last_tok\n",
        "        else:\n",
        "            ln_h_last_tok = model.transformer.ln_f(h_last_tok)  # apply layer norm as not in last\n",
        "        logits = t.einsum('ab,cb->ac', model.lm_head.weight, ln_h_last_tok)\n",
        "        layer_logits_list.append(logits)\n",
        "    return layer_logits_list\n",
        "\n",
        "def get_logits(input_text):\n",
        "    token_ids = tokenizer.encode(input_text, return_tensors='pt').to(device)\n",
        "    outputs = model(token_ids, output_hidden_states=True)\n",
        "    logits = actvs_to_logits(outputs.hidden_states)\n",
        "    logits = t.stack(logits).squeeze(-1)\n",
        "    return logits"
      ],
      "metadata": {
        "id": "aP84slBk993I"
      },
      "execution_count": 18,
      "outputs": []
    },
    {
      "cell_type": "code",
      "source": [
        "def get_decoded_indiv_toks(logits, k=10):\n",
        "    \"\"\"\n",
        "    i is the layer (from before to last).\n",
        "    layer_logits[i] are the scores for each token in vocab dim for the ith unembedded layer\n",
        "    j is the top 5\n",
        "    \"\"\"\n",
        "    output_list = []\n",
        "    for i, layer in enumerate(logits):\n",
        "        top_5_at_layer = []\n",
        "        sorted_token_ids = F.softmax(layer_logits[i],dim=-1).argsort(descending=True)\n",
        "        for j in range(5):  # loop to separate them in a list, rather than concat into one str\n",
        "            top_5_at_layer.append(tokenizer.decode(sorted_token_ids[j]))\n",
        "        output_list.append( top_5_at_layer )\n",
        "    return output_list"
      ],
      "metadata": {
        "id": "hYhiGnKSFYfN"
      },
      "execution_count": 20,
      "outputs": []
    },
    {
      "cell_type": "markdown",
      "source": [
        "# loop and get freqs"
      ],
      "metadata": {
        "id": "O-LRjEzwpC1w"
      }
    },
    {
      "cell_type": "code",
      "source": [
        "prompts = [\"1 2 3 4\", \"one two three four\", \"January February March April\"]\n",
        "for test_text in prompts:\n",
        "    layer_logits = get_logits(test_text)\n",
        "    tok_logit_lens = get_decoded_indiv_toks(layer_logits)\n",
        "    for i, tokouts in enumerate(tok_logit_lens):\n",
        "        print(i-1, tokouts)\n",
        "    print('\\n')"
      ],
      "metadata": {
        "colab": {
          "base_uri": "https://localhost:8080/"
        },
        "id": "dG6p2Q8WpVDW",
        "outputId": "2ba4aa34-20d9-4cb5-898b-81f64fde2f97"
      },
      "execution_count": 22,
      "outputs": [
        {
          "output_type": "stream",
          "name": "stdout",
          "text": [
            "-1 [' 4', ' livest', ' mathemat', ' myster', ' horizont']\n",
            "0 ['th', 'teenth', 'x', ' 4', ' 3']\n",
            "1 ['th', 'teenth', '54', 'x', '39']\n",
            "2 ['th', 'x', '34', '54', 'GHz']\n",
            "3 ['34', '54', 'th', 'GHz', '86']\n",
            "4 ['ts', 'ms', '34', 'th', 'ths']\n",
            "5 ['ts', ' 4', ' -', ' 3', ' 5']\n",
            "6 [' 4', '★', ' 3', ' 5', ' 6']\n",
            "7 [' 4', ' 5', ' 6', ' 3', ' 0']\n",
            "8 [' 4', ' 5', ' 3', ' 6', ' 1']\n",
            "9 [' 5', ' 4', ' 6', ' 3', ' 7']\n",
            "10 [' 5', ' 6', ' 4', ' 3', ' 7']\n",
            "11 [' 5', ' 4', ' 1', ' 6', ' 3']\n",
            "\n",
            "\n",
            "-1 [' four', ' livest', ' three', ' five', ' six']\n",
            "0 ['teenth', 'teen', ' hundred', 'een', 'some']\n",
            "1 ['teen', 'teenth', ' hundred', 'some', ' years']\n",
            "2 ['teen', 'teenth', ' hundred', 'some', ' months']\n",
            "3 ['teen', 'teenth', ' hundred', 'some', ' times']\n",
            "4 ['teen', 'teenth', ' hundred', ' months', ' times']\n",
            "5 ['teen', 'teenth', 'ths', ' inches', ' hundred']\n",
            "6 ['teen', 'teenth', 'ths', ' hundred', '-']\n",
            "7 ['teen', 'ths', 'teenth', ' hundred', '-|']\n",
            "8 ['teen', 'ths', ' 4', 'teenth', ' four']\n",
            "9 [' five', ' Five', ' 5', ' seven', ' six']\n",
            "10 [' five', ' six', ' Five', ' seven', ' four']\n",
            "11 [' five', ' six', ' Five', ' seven', '\\n']\n",
            "\n",
            "\n",
            "-1 [' April', 'April', ' June', ' July', ' February']\n",
            "0 [' 2015', ' May', ' 2014', ' April', ' June']\n",
            "1 [' 2015', ' 2014', ' 2017', ' 2013', ' 2016']\n",
            "2 [' 2015', ' 2014', ' 29', ' 2017', ' 28']\n",
            "3 [' 29', ' 2015', ' 27', ' 28', ' 30']\n",
            "4 [' 24', ' 29', ' 2014', ' 2015', ' 2018']\n",
            "5 [' 24', ' 29', ' 30', ' 28', ' 27']\n",
            "6 [' 29', ' 24', ' 30', ' 2014', ' 28']\n",
            "7 [' 2014', ' 29', ' April', ' 24', ' 2015']\n",
            "8 [' April', ' 2014', ' May', ' March', ' 2015']\n",
            "9 [' May', ' April', ' June', ' 2015', ' 5']\n",
            "10 [' May', ' June', ' July', ' April', 'May']\n",
            "11 [' May', ' June', ' July', ' 5', '\\n']\n",
            "\n",
            "\n"
          ]
        }
      ]
    },
    {
      "cell_type": "markdown",
      "source": [
        "# pure seq prompts"
      ],
      "metadata": {
        "id": "jcwyrfWXt7Dp"
      }
    },
    {
      "cell_type": "code",
      "source": [
        "# def generate_prompts_list(x ,y):\n",
        "#     prompts_list = []\n",
        "#     for i in range(x, y):\n",
        "#         prompt_dict = {\n",
        "#             'corr': str(i+4),\n",
        "#             'incorr': str(i+3),\n",
        "#             'text': f\"{i} {i+1} {i+2} {i+3}\"\n",
        "#         }\n",
        "#         prompts_list.append(prompt_dict)\n",
        "#     return prompts_list\n",
        "\n",
        "# prompts_list = generate_prompts_list(1, 9)"
      ],
      "metadata": {
        "id": "K9IRRBHauN1y"
      },
      "execution_count": null,
      "outputs": []
    },
    {
      "cell_type": "code",
      "source": [
        "# for pd in prompts_list:\n",
        "#     test_text = pd['text']\n",
        "#     layer_logits = get_logits(test_text)\n",
        "#     tok_logit_lens = get_decoded_indiv_toks(layer_logits)\n",
        "#     for i, tokouts in enumerate(tok_logit_lens):\n",
        "#         print(i-1, tokouts)\n",
        "#     print('\\n')"
      ],
      "metadata": {
        "colab": {
          "base_uri": "https://localhost:8080/"
        },
        "id": "fDDAX6cFuiSV",
        "outputId": "550a0921-2dbf-4046-8265-71038b4952f9"
      },
      "execution_count": null,
      "outputs": [
        {
          "output_type": "stream",
          "name": "stdout",
          "text": [
            "-1 [' 4', ' livest', ' mathemat', ' myster', ' horizont']\n",
            "0 ['th', 'teenth', 'x', ' 4', ' 3']\n",
            "1 ['th', 'teenth', '54', 'x', '39']\n",
            "2 ['th', 'x', '34', '54', 'GHz']\n",
            "3 ['34', '54', 'th', 'GHz', '86']\n",
            "4 ['ts', 'ms', '34', 'th', 'ths']\n",
            "5 ['ts', ' 4', ' -', ' 3', ' 5']\n",
            "6 [' 4', '★', ' 3', ' 5', ' 6']\n",
            "7 [' 4', ' 5', ' 6', ' 3', ' 0']\n",
            "8 [' 4', ' 5', ' 3', ' 6', ' 1']\n",
            "9 [' 5', ' 4', ' 6', ' 3', ' 7']\n",
            "10 [' 5', ' 6', ' 4', ' 3', ' 7']\n",
            "11 [' 5', ' 4', ' 1', ' 6', ' 3']\n",
            "\n",
            "\n",
            "-1 [' livest', ' 5', ' destro', 'theless', ' mathemat']\n",
            "0 ['th', ' 5', ' 3', 'x', ' times']\n",
            "1 ['th', 'x', '54', '45', '43']\n",
            "2 ['th', '34', 'x', 'min', '54']\n",
            "3 ['34', 'th', '90', '54', '85']\n",
            "4 ['ths', 'ts', ' -', 'min', '34']\n",
            "5 [' -', 'ts', ' 3', 'ths', ' 5']\n",
            "6 [' 5', ' 4', ' 3', ' 6', '★']\n",
            "7 [' 5', ' 6', ' 4', ' 3', ' 9']\n",
            "8 [' 5', ' 6', ' 4', ' 3', ' 7']\n",
            "9 [' 6', ' 5', ' 4', ' 7', '6']\n",
            "10 [' 6', ' 5', ' 4', ' 7', ' 8']\n",
            "11 [' 6', ' 5', ' 4', ' 7', ' 0']\n",
            "\n",
            "\n",
            "-1 [' 6', ' livest', ' destro', ' mathemat', ' challeng']\n",
            "0 ['th', '36', '31', '34', '38']\n",
            "1 ['th', '36', '34', '31', '38']\n",
            "2 ['34', '36', 'th', '38', '31']\n",
            "3 ['34', '36', '39', '31', '79']\n",
            "4 ['34', 'th', '36', '79', '39']\n",
            "5 [' -', '34', 'ts', '79', ' inches']\n",
            "6 [' 6', ' 4', ' +', ' 3', ' 7']\n",
            "7 [' 6', ' 7', ' 4', ' 5', ' 9']\n",
            "8 [' 6', ' 7', ' 5', ' 4', ' 8']\n",
            "9 [' 7', ' 6', ' 5', ' 8', ' 9']\n",
            "10 [' 7', ' 6', ' 8', ' 9', ' 5']\n",
            "11 [' 7', ' 6', ' 8', ' 5', ' 1']\n",
            "\n",
            "\n",
            "-1 [' 7', ' livest', ' challeng', ' mathemat', 'theless']\n",
            "0 ['th', '16', '14', '11', '17']\n",
            "1 ['th', '69', '79', '39', '71']\n",
            "2 ['th', '69', '34', '38', '39']\n",
            "3 ['79', 'th', '69', '86', '34']\n",
            "4 ['th', '79', ' -', '69', '49']\n",
            "5 [' -', ' 9', ' 7', 'ts', ' +']\n",
            "6 [' 7', ' 9', ' 4', ' 3', ' 8']\n",
            "7 [' 7', ' 9', ' 8', ' 6', ' 4']\n",
            "8 [' 7', ' 8', ' 6', ' 9', ' 4']\n",
            "9 [' 8', ' 7', ' 9', ' 6', ' 4']\n",
            "10 [' 8', ' 7', ' 9', ' 4', ' 6']\n",
            "11 [' 8', ' 7', ' 4', ' 9', ' 6']\n",
            "\n",
            "\n",
            "-1 [' 8', ' mathemat', ' livest', ' challeng', ' horizont']\n",
            "0 ['90', 'th', '16', '80', 'x']\n",
            "1 ['90', '80', '54', '79', 'th']\n",
            "2 ['90', '54', '79', '56', 'x']\n",
            "3 ['79', '90', '76', '54', '74']\n",
            "4 ['79', '54', 'ms', '90', '76']\n",
            "5 [' -', ' +', ' 9', ' tiles', '79']\n",
            "6 [' 9', ' 4', ' 8', ' +', ' 3']\n",
            "7 [' 9', ' 8', ' 4', ' 7', ' 6']\n",
            "8 [' 8', ' 9', ' 7', ' 6', ' 4']\n",
            "9 [' 9', ' 8', ' 7', ' 10', ' 11']\n",
            "10 [' 9', ' 8', ' 7', ' 10', ' 5']\n",
            "11 [' 9', ' 8', ' 10', ' 7', ' 5']\n",
            "\n",
            "\n",
            "-1 [' 9', ' mathemat', ' livest', ' destro', ' challeng']\n",
            "0 ['14', '73', '90', '999', '74']\n",
            "1 ['79', '74', '59', '71', '999']\n",
            "2 ['9999', '999', '79', '74', '39']\n",
            "3 ['9999', '999', '79', '74', '76']\n",
            "4 ['999', '9999', '79', '09', 'ms']\n",
            "5 ['999', '9999', ' +', ' -', ' 9']\n",
            "6 ['999', '9999', ' 9', ' +', ' 4']\n",
            "7 [' 9', '999', ' 6', ' 4', ' 8']\n",
            "8 [' 9', ' 8', ' 10', ' 11', ' 6']\n",
            "9 [' 10', ' 9', ' 8', '10', ' 11']\n",
            "10 [' 10', ' 9', ' 11', ' 8', ' 12']\n",
            "11 [' 10', ' 9', ' 5', ' 8', ' 0']\n",
            "\n",
            "\n",
            "-1 [' 10', ' livest', ' challeng', ' mathemat', 'theless']\n",
            "0 ['40', 'th', '20', ' times', ' 10']\n",
            "1 ['th', '40', '55', '20', '85']\n",
            "2 ['40', '20', '30', 'th', '36']\n",
            "3 [' Tigers', '40', '85', '45', '55']\n",
            "4 [' Tigers', 'ms', '45', '40', ' 9']\n",
            "5 [' +', ' Tigers', 'ms', ' 9', ' votes']\n",
            "6 [' 9', ' +', ' 4', ' 5', ' 6']\n",
            "7 [' 9', ' 11', ' 10', ' 5', ' 6']\n",
            "8 [' 9', ' 10', ' 11', ' 8', ' 6']\n",
            "9 [' 11', ' 10', '11', ' 9', ' 12']\n",
            "10 [' 11', ' 12', ' 10', ' 9', ' 13']\n",
            "11 [' 11', '\\n', ' 12', ' 10', ' 9']\n",
            "\n",
            "\n",
            "-1 [' 11', ' mathemat', ' livest', ' 12', ' challeng']\n",
            "0 ['th', ' 11', '11', '10', '12']\n",
            "1 ['th', ' 11', '45', '10', '30']\n",
            "2 ['th', '30', '45', '34', '36']\n",
            "3 ['30', '45', '34', '37', '36']\n",
            "4 ['45', '34', 'th', '36', '.']\n",
            "5 [' votes', '.', ' 9', ' -', 'work']\n",
            "6 [' 9', '.', ' 11', ' 4', ' 6']\n",
            "7 [' 11', ' 9', ' 1', ' 4', ' 6']\n",
            "8 [' 11', ' 12', ' 111', ' 9', ' 13']\n",
            "9 [' 12', ' 11', '12', ' 13', ' 14']\n",
            "10 [' 12', ' 13', '12', ' 14', ' 11']\n",
            "11 [' 12', ' 13', '\\n', ' 2', ' 0']\n",
            "\n",
            "\n"
          ]
        }
      ]
    },
    {
      "cell_type": "markdown",
      "source": [
        "# pure seq prompts nw"
      ],
      "metadata": {
        "id": "K_-_eyDu8ax-"
      }
    },
    {
      "cell_type": "code",
      "source": [
        "# def generate_prompts_list(x ,y):\n",
        "#     words = [' one', ' two', ' three', ' four', ' five', ' six', ' seven', ' eight', ' nine', ' ten', ' eleven', ' twelve', ' thirteen', ' fourteen', ' fifteen', ' sixteen', ' seventeen', ' eighteen', ' nineteen', ' twenty']\n",
        "#     prompts_list = []\n",
        "#     for i in range(x, y):\n",
        "#         prompt_dict = {\n",
        "#             'S1': words[i],\n",
        "#             'S2': words[i+1],\n",
        "#             'S3': words[i+2],\n",
        "#             'S4': words[i+3],\n",
        "#             'corr': words[i+4],\n",
        "#             'incorr': words[i+3],  # this is arbitrary\n",
        "#             'text': f\"{words[i]}{words[i+1]}{words[i+2]}{words[i+3]}\"\n",
        "#         }\n",
        "#         prompts_list.append(prompt_dict)\n",
        "#     return prompts_list\n",
        "\n",
        "# prompts_list = generate_prompts_list(0, 8)"
      ],
      "metadata": {
        "id": "qygWn9l38ayF"
      },
      "execution_count": null,
      "outputs": []
    },
    {
      "cell_type": "code",
      "source": [
        "# for pd in prompts_list:\n",
        "#     test_text = pd['text']\n",
        "#     layer_logits = get_logits(test_text)\n",
        "#     tok_logit_lens = get_decoded_indiv_toks(layer_logits)\n",
        "#     for i, tokouts in enumerate(tok_logit_lens):\n",
        "#         print(i-1, tokouts)\n",
        "#     print('\\n')"
      ],
      "metadata": {
        "id": "ythEry9w8ayG"
      },
      "execution_count": null,
      "outputs": []
    },
    {
      "cell_type": "markdown",
      "source": [
        "# pure seq prompts months"
      ],
      "metadata": {
        "id": "I5wf7hssBh0T"
      }
    },
    {
      "cell_type": "code",
      "source": [
        "def generate_prompts_list(x ,y):\n",
        "    words = ['January', 'February', 'March', 'April', 'May', 'June', 'July', 'August', 'September', 'October', 'November', 'December']\n",
        "    prompts_list = []\n",
        "    for i in range(x, y):\n",
        "        prompt_dict = {\n",
        "            'S1': words[i],\n",
        "            'S2': words[i+1],\n",
        "            'S3': words[i+2],\n",
        "            'S4': words[i+3],\n",
        "            'corr': words[i+4],\n",
        "            'incorr': words[i+3],  # this is arbitrary\n",
        "            'text': f\"{words[i]}{words[i+1]}{words[i+2]}{words[i+3]}\"\n",
        "        }\n",
        "        prompts_list.append(prompt_dict)\n",
        "    return prompts_list\n",
        "\n",
        "prompts_list = generate_prompts_list(0, 8)"
      ],
      "metadata": {
        "id": "NWH-wWytBh0a"
      },
      "execution_count": null,
      "outputs": []
    },
    {
      "cell_type": "code",
      "source": [
        "for pd in prompts_list:\n",
        "    test_text = pd['text']\n",
        "    layer_logits = get_logits(test_text)\n",
        "    tok_logit_lens = get_decoded_indiv_toks(layer_logits)\n",
        "    for i, tokouts in enumerate(tok_logit_lens):\n",
        "        print(i-1, tokouts)\n",
        "    print('\\n')"
      ],
      "metadata": {
        "colab": {
          "base_uri": "https://localhost:8080/"
        },
        "outputId": "3fe6b875-4e8a-4ea8-fdee-ad05ae8e8417",
        "id": "dc4M3yRIBh0a"
      },
      "execution_count": null,
      "outputs": [
        {
          "output_type": "stream",
          "name": "stdout",
          "text": [
            "-1 ['April', 'June', 'February', 'October', 'September']\n",
            "0 [' 2015', ' 2014', ' May', ' Aug', ' 2013']\n",
            "1 [' 2015', ' 2014', ' 2017', ' 2013', ' 2016']\n",
            "2 [' 2014', ' 2015', ' 2013', ' 29', ' 2017']\n",
            "3 [' 2015', ' 2014', ' 29', ' 2017', ' 28']\n",
            "4 [' 2014', ' 2015', ' 29', ' 2017', ' 30']\n",
            "5 [' 29', ' 30', ' 2014', ' 28', '/']\n",
            "6 [' 2014', ' 29', '/', ' 30', ' 2015']\n",
            "7 ['April', 'December', 'June', 'September', 'October']\n",
            "8 ['April', 'June', 'March', 'September', 'October']\n",
            "9 ['May', 'April', 'June', 'Apr', 'October']\n",
            "10 ['May', 'June', 'April', 'July', 'October']\n",
            "11 ['May', 'June', 'July', 'April', 'October']\n",
            "\n",
            "\n",
            "-1 ['May', ' livest', 'June', 'April', 'Apr']\n",
            "0 [' May', 'May', 'flower', ' 2015', 'Aug']\n",
            "1 [' 2015', ' 2014', ' May', ' 2013', 'flower']\n",
            "2 [' 2014', ' 2015', 'flower', ' 2011', ' 2013']\n",
            "3 [' 2015', 'hem', ' 2014', 'nard', ' 31']\n",
            "4 ['weather', 'hem', ' 2014', 'yy', ' 2015']\n",
            "5 ['weather', '/', ']', ' 29', 'way']\n",
            "6 ['flower', 'May', 'June', 'December', 'hem']\n",
            "7 ['hem', 'flower', 'May', 'December', 'ne']\n",
            "8 ['May', 'June', 'April', 'December', 'September']\n",
            "9 ['June', 'May', 'Apr', 'April', 'Jun']\n",
            "10 ['June', 'July', 'October', 'May', 'December']\n",
            "11 ['June', 'July', '6', 'Jun', 'May']\n",
            "\n",
            "\n",
            "-1 ['June', 'July', 'September', 'April', 'February']\n",
            "0 [' June', ' May', ' 2015', ' Aug', ' 2014']\n",
            "1 [' 2015', ' 2014', ' Aug', ' 2017', ' 2013']\n",
            "2 [' 2014', ' 2015', ' 2013', ' 2012', ' 2016']\n",
            "3 [' 2015', ' 2014', ' 2017', ' 2013', ' 2016']\n",
            "4 [' 2014', ' 2015', ' 2013', ' 2017', ' 2018']\n",
            "5 [' 2014', ' 2013', ' 29', ' 2015', ' 2017']\n",
            "6 [' 2014', ' 2015', 'December', ' 2013', '2014']\n",
            "7 ['December', ' 2014', '2014', 'June', 'October']\n",
            "8 ['June', 'December', 'September', 'October', 'July']\n",
            "9 ['July', 'June', 'December', 'November', 'October']\n",
            "10 ['July', 'June', ' July', 'August', 'September']\n",
            "11 ['July', ' July', 'June', 'August', 'November']\n",
            "\n",
            "\n",
            "-1 ['July', 'June', 'September', 'October', 'November']\n",
            "0 [' Aug', ' July', 'Aug', 'July', ' 2015']\n",
            "1 [' Aug', ' 2015', ' 2014', ' 2017', ' 2013']\n",
            "2 [' Aug', ' 2015', ' 2014', ' 2013', ' 2017']\n",
            "3 [' 2015', ' Aug', ' 2017', ' 2014', ' 31']\n",
            "4 [' 2017', ' 2014', ' 2015', ' 2013', ' 31']\n",
            "5 ['/', ' 31', ' 29', ' 6', ']']\n",
            "6 ['/', ' 31', 'December', ' 2014', 'June']\n",
            "7 ['December', 'September', 'June', 'July', '2017']\n",
            "8 ['July', 'June', 'August', 'September', 'December']\n",
            "9 ['August', 'July', 'December', 'September', 'October']\n",
            "10 ['August', ' August', 'Aug', 'September', 'December']\n",
            "11 ['August', 'Aug', ' August', 'October', 'September']\n",
            "\n",
            "\n",
            "-1 ['August', 'September', 'October', 'July', 'November']\n",
            "0 [' Aug', ' August', ' 2017', 'August', ' 2016']\n",
            "1 [' 2017', ' 2014', ' Aug', ' 2016', ' 2015']\n",
            "2 [' 2014', ' 2017', ' 2015', ' 2016', ' 2013']\n",
            "3 [' 2017', ' 2014', ' 2015', ' 2018', ' 2013']\n",
            "4 [' 2014', ' 2017', ' 2018', ' 2013', ' 2015']\n",
            "5 [' 2014', ' 2013', ' 2018', ' 29', ' 2017']\n",
            "6 ['September', 'December', 'August', 'October', ' 2014']\n",
            "7 ['December', 'September', 'August', 'October', 'June']\n",
            "8 ['August', 'September', 'October', 'July', 'June']\n",
            "9 ['September', 'August', 'October', 'December', 'Sept']\n",
            "10 ['September', 'August', 'October', 'December', 'November']\n",
            "11 ['September', 'August', 'October', 'December', ' September']\n",
            "\n",
            "\n",
            "-1 ['September', 'October', 'November', 'December', 'August']\n",
            "0 ['September', ' September', ' Aug', ' 2014', ' August']\n",
            "1 [' 2014', ' 2018', ' 2017', ' 2015', ' 2013']\n",
            "2 [' 2014', ' 29', ' 01', ' 2015', ' 2017']\n",
            "3 [' 2014', ' 29', ' 2018', ' 2015', ' 01']\n",
            "4 [' 2018', ' 2014', ' 29', ' 2017', ' 2015']\n",
            "5 [' 29', ' 2018', ' 6', ' 2014', 'way']\n",
            "6 ['September', 'October', ' 29', 'December', 'ways']\n",
            "7 ['September', 'October', 'December', 'November', '2009']\n",
            "8 ['September', 'October', 'December', 'November', 'August']\n",
            "9 ['October', 'September', 'November', 'December', 'Oct']\n",
            "10 ['October', 'September', 'December', 'November', ' October']\n",
            "11 ['October', ' October', 'November', 'September', 'December']\n",
            "\n",
            "\n",
            "-1 ['October', 'September', 'November', 'December', 'February']\n",
            "0 [' October', ' Aug', ' Sept', ' Oct', ' 2014']\n",
            "1 [' 2014', ' 2015', ' Aug', ' 2013', ' 2017']\n",
            "2 [' 2014', ' 2015', ' 2017', ' 2013', ' 2016']\n",
            "3 [' 2014', ' 2015', ' 2017', ' 2018', ' 2013']\n",
            "4 [' 2014', ' 2015', ' 2017', ' 2018', ' 24']\n",
            "5 [' 2014', ' 29', ' 24', ' 2018', ' 2015']\n",
            "6 ['October', 'September', 'December', 'Oct', ' 2014']\n",
            "7 ['October', 'September', 'December', 'November', 'Oct']\n",
            "8 ['October', 'September', 'November', 'December', 'August']\n",
            "9 ['November', 'October', 'December', '2011', 'Nov']\n",
            "10 ['November', 'December', 'October', ' November', 'January']\n",
            "11 ['November', ' November', 'December', 'October', 'January']\n",
            "\n",
            "\n",
            "-1 ['November', 'October', 'December', 'September', 'January']\n",
            "0 [' November', ' 2014', ' December', ' Aug', 'November']\n",
            "1 [' 2015', ' 2014', ' 2013', ' 2017', ' 2016']\n",
            "2 [' 2014', ' 2015', ' 2013', ' 2017', ' 2016']\n",
            "3 [' 2015', ' 2014', ' 2013', ' 2017', ' 2012']\n",
            "4 [' 2014', ' 2015', ' 2013', ' 2017', ' 2012']\n",
            "5 [' 2014', ' 2013', ']', ' 2015', '/']\n",
            "6 ['December', 'October', 'September', 'November', 'June']\n",
            "7 ['December', 'November', 'October', 'September', 'January']\n",
            "8 ['November', 'October', 'December', 'September', 'April']\n",
            "9 ['December', 'November', 'October', 'January', 'February']\n",
            "10 ['December', 'November', ' December', 'February', 'January']\n",
            "11 ['December', ' December', 'February', 'November', '\\n']\n",
            "\n",
            "\n"
          ]
        }
      ]
    },
    {
      "cell_type": "markdown",
      "metadata": {
        "id": "6Fuq8XW770vX"
      },
      "source": [
        "# nonpure digits prompts"
      ]
    },
    {
      "cell_type": "code",
      "execution_count": null,
      "metadata": {
        "colab": {
          "base_uri": "https://localhost:8080/"
        },
        "id": "CIe5yXuDhgEK",
        "outputId": "975d2386-1871-4b09-8f1b-88a2d25bd086"
      },
      "outputs": [
        {
          "output_type": "stream",
          "name": "stdout",
          "text": [
            "Van done in 1. Hat done in 2. Ring done in 3. Desk done in 4. Sun done in\n",
            "Oil lost in 1. Apple lost in 2. Tree lost in 3. Snow lost in 4. Apple lost in\n",
            "Marcus born in 1. Victoria born in 2. George born in 3. Brandon born in 4. Jamie born in\n"
          ]
        },
        {
          "output_type": "execute_result",
          "data": {
            "text/plain": [
              "30"
            ]
          },
          "metadata": {},
          "execution_count": 60
        }
      ],
      "source": [
        "import pickle\n",
        "\n",
        "task = \"digits\"\n",
        "prompts_list = []\n",
        "\n",
        "temps = ['done', 'lost', 'names']\n",
        "\n",
        "for i in temps:\n",
        "    file_name = f'/content/{task}_prompts_{i}.pkl'\n",
        "    with open(file_name, 'rb') as file:\n",
        "        filelist = pickle.load(file)\n",
        "\n",
        "    print(filelist[0]['text'])\n",
        "    prompts_list += filelist [:10] #768 512\n",
        "\n",
        "len(prompts_list)"
      ]
    },
    {
      "cell_type": "code",
      "source": [
        "for pd in prompts_list:\n",
        "    test_text = pd['text']\n",
        "    layer_logits = get_logits(test_text)\n",
        "    tok_logit_lens = get_decoded_indiv_toks(layer_logits)\n",
        "    for i, tokouts in enumerate(tok_logit_lens):\n",
        "        print(i-1, tokouts)\n",
        "    print('\\n')"
      ],
      "metadata": {
        "colab": {
          "base_uri": "https://localhost:8080/"
        },
        "id": "JrE1RmM2v7TE",
        "outputId": "cc4aa560-6314-4b45-ca81-0035b7dd6350"
      },
      "execution_count": null,
      "outputs": [
        {
          "output_type": "stream",
          "name": "stdout",
          "text": [
            "-1 [' challeng', ' mathemat', ' arrang', ' corrid', ' destro']\n",
            "0 [' order', ' the', ' particular', ' a', ' conjunction']\n",
            "1 [' order', ' the', ' conjunction', ' a', ' my']\n",
            "2 [' order', ' the', ' conjunction', ' front', ' vain']\n",
            "3 [' order', ' the', ' vain', ' conjunction', ' accordance']\n",
            "4 [' order', ' the', ' conjunction', ' vain', ' front']\n",
            "5 [' order', ' 3', ' conjunction', ' 2', ' 18']\n",
            "6 [' 3', ' 1', ' 2', ' 5', ' 4']\n",
            "7 [' 3', ' 4', ' 1', ' 2', ' 5']\n",
            "8 [' 4', ' 5', ' 3', ' 1', ' 2']\n",
            "9 [' 5', ' 6', ' 4', ' 1', ' 7']\n",
            "10 [' 5', ' 6', ' 1', ' 7', ' 4']\n",
            "11 [' 5', ' 1', ' 6', ' 4', ' 7']\n",
            "\n",
            "\n",
            "-1 [' challeng', ' mathemat', ' arrang', ' corrid', ' destro']\n",
            "0 [' order', ' the', ' particular', ' conjunction', ' a']\n",
            "1 [' order', ' the', ' conjunction', ' my', ' particular']\n",
            "2 [' order', ' the', ' conjunction', ' accordance', ' a']\n",
            "3 [' order', ' conjunction', ' the', ' accordance', ' advance']\n",
            "4 [' order', ' conjunction', ' accordance', ' the', ' lieu']\n",
            "5 [' order', ' conjunction', ' lieu', ' accordance', ' the']\n",
            "6 [' order', ' conjunction', ' lieu', ' 3', ' accordance']\n",
            "7 [' 3', ' 2', ' 5', ' 4', ' 1']\n",
            "8 [' 5', ' 6', ' 4', ' 3', ' 7']\n",
            "9 [' 6', ' 5', ' 7', ' 4', ' 8']\n",
            "10 [' 6', ' 7', ' 8', ' 1', ' 11']\n",
            "11 [' 6', ' 1', ' 7', ' 8', ' 4']\n",
            "\n",
            "\n",
            "-1 [' challeng', ' mathemat', ' arrang', ' corrid', ' destro']\n",
            "0 [' order', ' the', ' particular', ' conjunction', ' a']\n",
            "1 [' order', ' the', ' conjunction', ' particular', ' vain']\n",
            "2 [' order', ' the', ' conjunction', ' vain', ' front']\n",
            "3 [' order', ' the', ' vain', ' conjunction', ' accordance']\n",
            "4 [' order', ' the', ' front', ' conjunction', ' relation']\n",
            "5 [' order', ' 3', ' 15', ' 5', ' 18']\n",
            "6 [' 5', ' 3', ' 7', ' 2', ' 4']\n",
            "7 [' 5', ' 3', ' 7', ' 6', ' 4']\n",
            "8 [' 6', ' 7', ' 5', ' 8', ' 4']\n",
            "9 [' 7', ' 8', ' 6', '7', ' 9']\n",
            "10 [' 7', ' 8', ' 9', ' 6', ' 13']\n",
            "11 [' 7', ' 8', ' 6', ' 9', ' 1']\n",
            "\n",
            "\n",
            "-1 [' challeng', ' mathemat', ' arrang', ' corrid', ' destro']\n",
            "0 [' order', ' the', ' particular', ' a', ' conjunction']\n",
            "1 [' order', ' the', ' conjunction', ' vain', ' particular']\n",
            "2 [' order', ' the', ' vain', ' conjunction', ' front']\n",
            "3 [' order', ' the', ' vain', ' conjunction', ' accordance']\n",
            "4 [' order', ' the', ' lieu', ' vain', ' conjunction']\n",
            "5 [' order', ' 18', ' lieu', ' 3', ' conjunction']\n",
            "6 [' 5', ' 3', ' order', ' 6', ' 2']\n",
            "7 [' 7', ' 8', ' 3', ' 5', ' 6']\n",
            "8 [' 7', ' 8', ' 6', ' 5', ' 9']\n",
            "9 [' 8', ' 7', ' 9', '8', ' 4']\n",
            "10 [' 8', ' 9', ' 7', ' 10', '8']\n",
            "11 [' 8', ' 9', ' 4', ' 10', ' 7']\n",
            "\n",
            "\n",
            "-1 [' challeng', ' mathemat', ' arrang', ' corrid', ' destro']\n",
            "0 [' order', ' the', ' particular', ' conjunction', ' a']\n",
            "1 [' order', ' the', ' conjunction', ' particular', ' vain']\n",
            "2 [' order', ' the', ' conjunction', ' accordance', ' vain']\n",
            "3 [' order', ' the', ' conjunction', ' vain', ' accordance']\n",
            "4 [' order', ' the', ' conjunction', ' accordance', ' lieu']\n",
            "5 [' order', ' 18', ' conjunction', ' 3', ' 15']\n",
            "6 [' 5', ' 3', ' 7', ' 10', ' 15']\n",
            "7 [' 8', ' 7', ' 5', ' 9', ' 3']\n",
            "8 [' 8', ' 9', ' 10', ' 7', ' 5']\n",
            "9 [' 9', ' 8', ' 10', ' 11', '9']\n",
            "10 [' 9', ' 10', ' 11', ' 8', ' 1']\n",
            "11 [' 9', ' 10', ' 1', ' 11', ' 8']\n",
            "\n",
            "\n",
            "-1 [' challeng', ' mathemat', ' arrang', ' corrid', ' destro']\n",
            "0 [' order', ' the', ' particular', ' a', ' conjunction']\n",
            "1 [' order', ' the', ' conjunction', ' particular', ' a']\n",
            "2 [' order', ' the', ' conjunction', ' vain', ' front']\n",
            "3 [' order', ' the', ' conjunction', ' favor', ' terms']\n",
            "4 [' order', ' conjunction', ' the', ' lieu', ' relation']\n",
            "5 [' order', ' conjunction', ' vain', ' lieu', ' 18']\n",
            "6 [' order', ' 5', ' 12', ' 10', ' 8']\n",
            "7 [' 9', ' 8', ' 6', ' 7', ' 5']\n",
            "8 [' 9', ' 10', ' 8', ' 11', ' 12']\n",
            "9 [' 10', ' 9', ' 11', '10', ' 12']\n",
            "10 [' 10', ' 11', ' 12', ' 15', ' 1']\n",
            "11 [' 10', ' 11', ' 1', ' 5', ' 15']\n",
            "\n",
            "\n",
            "-1 [' challeng', ' mathemat', ' arrang', ' corrid', ' destro']\n",
            "0 [' order', ' the', ' particular', ' a', ' conjunction']\n",
            "1 [' order', ' the', ' conjunction', ' particular', ' a']\n",
            "2 [' order', ' the', ' vain', ' front', ' conjunction']\n",
            "3 [' order', ' the', ' vain', ' conjunction', ' front']\n",
            "4 [' order', ' the', ' conjunction', ' vain', ' front']\n",
            "5 [' order', ' conjunction', ' 18', ' vain', ' 15']\n",
            "6 [' order', ' 10', ' 13', ' 15', ' 12']\n",
            "7 [' 9', ' 8', ' 10', ' 11', ' 7']\n",
            "8 [' 10', ' 11', ' 9', ' 12', ' 15']\n",
            "9 [' 11', ' 12', '11', ' 10', ' 13']\n",
            "10 [' 11', ' 12', ' 111', ' 10', ' 21']\n",
            "11 [' 11', '\\n', ' 1', ' 12', ' 10']\n",
            "\n",
            "\n",
            "-1 [' challeng', ' mathemat', ' arrang', ' corrid', ' destro']\n",
            "0 [' order', ' the', ' particular', ' a', ' front']\n",
            "1 [' order', ' the', ' conjunction', ' particular', ' vain']\n",
            "2 [' order', ' the', ' vain', ' conjunction', ' front']\n",
            "3 [' order', ' the', ' vain', ' conjunction', ' accordance']\n",
            "4 [' order', ' conjunction', ' the', ' vain', ' relation']\n",
            "5 [' order', ' 18', ' conjunction', ' 3', ' 15']\n",
            "6 [' order', ' 18', ' 13', ' 12', ' 23']\n",
            "7 [' 9', ' 11', ' 8', ' 12', ' 1']\n",
            "8 [' 11', ' 12', ' 13', ' 10', ' 1']\n",
            "9 [' 12', ' 13', '12', ' 11', ' 22']\n",
            "10 [' 12', ' 13', ' 14', ' 22', '12']\n",
            "11 [' 12', ' 2', ' 13', ' 1', ' 14']\n",
            "\n",
            "\n",
            "-1 [' challeng', ' mathemat', ' arrang', ' corrid', ' destro']\n",
            "0 [' order', ' the', ' particular', ' conjunction', ' a']\n",
            "1 [' order', ' the', ' conjunction', ' particular', ' a']\n",
            "2 [' order', ' the', ' conjunction', ' vain', ' front']\n",
            "3 [' order', ' the', ' conjunction', ' vain', ' accordance']\n",
            "4 [' order', ' conjunction', ' the', ' relation', ' vain']\n",
            "5 [' order', ' conjunction', ' 3', ' vain', ' lieu']\n",
            "6 [' 3', ' 5', ' 2', ' 4', ' 1']\n",
            "7 [' 3', ' 4', ' 5', ' 2', ' 1']\n",
            "8 [' 4', ' 5', ' 3', ' 1', ' 2']\n",
            "9 [' 5', ' 4', ' 6', ' 1', ' 7']\n",
            "10 [' 5', ' 6', ' 1', ' 7', ' 4']\n",
            "11 [' 5', ' 1', ' 6', ' 7', ' 4']\n",
            "\n",
            "\n",
            "-1 [' challeng', ' mathemat', ' arrang', ' corrid', ' destro']\n",
            "0 [' order', ' the', ' particular', ' conjunction', ' a']\n",
            "1 [' order', ' the', ' conjunction', ' a', ' my']\n",
            "2 [' order', ' the', ' conjunction', ' front', ' vain']\n",
            "3 [' order', ' the', ' conjunction', ' vain', ' accordance']\n",
            "4 [' order', ' lieu', ' the', ' conjunction', ' vain']\n",
            "5 [' order', ' 3', ' 2', ' 15', ' lieu']\n",
            "6 [' 3', ' 5', ' 2', ' order', ' 4']\n",
            "7 [' 3', ' 5', ' 2', ' 4', ' 6']\n",
            "8 [' 5', ' 6', ' 7', ' 4', ' 3']\n",
            "9 [' 6', ' 5', ' 7', '6', ' 8']\n",
            "10 [' 6', ' 7', ' 8', ' 1', '6']\n",
            "11 [' 6', ' 7', ' 1', ' 8', '\\n']\n",
            "\n",
            "\n",
            "-1 [' challeng', ' mathemat', ' arrang', ' corrid', ' destro']\n",
            "0 [' the', ' order', ' particular', ' a', ' front']\n",
            "1 [' order', ' the', ' a', ' conjunction', ' front']\n",
            "2 [' order', ' the', ' vain', ' a', ' accordance']\n",
            "3 [' order', ' the', ' vain', ' relation', ' a']\n",
            "4 [' order', ' the', ' spite', ' vain', ' accordance']\n",
            "5 [' 3', ' 2', ' order', ' 5', ' 18']\n",
            "6 [' 3', ' 2', ' 5', ' 7', ' 4']\n",
            "7 [' 3', ' 2', ' 4', ' 5', ' 1']\n",
            "8 [' 4', ' 5', ' 3', ' 1', ' 6']\n",
            "9 [' 5', ' 6', ' 4', ' 7', ' 1']\n",
            "10 [' 5', ' 6', ' 7', ' 1', ' 4']\n",
            "11 [' 5', ' 6', ' 1', ' 7', ' 4']\n",
            "\n",
            "\n",
            "-1 [' challeng', ' mathemat', ' arrang', ' corrid', ' destro']\n",
            "0 [' the', ' order', ' particular', ' a', ' front']\n",
            "1 [' order', ' the', ' a', ' front', ' particular']\n",
            "2 [' order', ' the', ' a', ' accordance', ' front']\n",
            "3 [' order', ' the', ' vain', ' accordance', ' a']\n",
            "4 [' order', ' the', ' relation', ' vain', ' spite']\n",
            "5 [' order', ' 3', ' 5', ' 2', ' 15']\n",
            "6 [' 5', ' 3', ' 6', ' 2', ' 7']\n",
            "7 [' 5', ' 3', ' 4', ' 6', ' 2']\n",
            "8 [' 5', ' 6', ' 7', ' 4', ' 3']\n",
            "9 [' 6', ' 5', ' 7', '6', ' 8']\n",
            "10 [' 6', ' 7', ' 8', '6', '\\n']\n",
            "11 [' 6', '\\n', ' 7', ' 1', ' 8']\n",
            "\n",
            "\n",
            "-1 [' challeng', ' mathemat', ' arrang', ' corrid', ' destro']\n",
            "0 [' the', ' order', ' particular', ' a', ' front']\n",
            "1 [' order', ' the', ' a', ' front', ' conjunction']\n",
            "2 [' order', ' the', ' a', ' vain', ' accordance']\n",
            "3 [' order', ' the', ' vain', ' accordance', ' a']\n",
            "4 [' order', ' the', ' vain', ' spite', ' accordance']\n",
            "5 [' 3', ' 5', ' 6', ' 2', ' order']\n",
            "6 [' 5', ' 3', ' 7', ' 6', ' 4']\n",
            "7 [' 5', ' 7', ' 6', ' 3', ' 4']\n",
            "8 [' 6', ' 7', ' 5', ' 8', ' 4']\n",
            "9 [' 7', ' 8', ' 6', '7', ' 9']\n",
            "10 [' 7', ' 8', ' 9', ' 6', '7']\n",
            "11 [' 7', ' 8', ' 1', ' 9', '\\n']\n",
            "\n",
            "\n",
            "-1 [' challeng', ' mathemat', ' arrang', ' corrid', ' destro']\n",
            "0 [' the', ' order', ' particular', ' a', ' front']\n",
            "1 [' order', ' the', ' a', ' particular', ' conjunction']\n",
            "2 [' order', ' the', ' a', ' accordance', ' front']\n",
            "3 [' order', ' the', ' relation', ' vain', ' accordance']\n",
            "4 [' the', ' order', ' spite', ' relation', ' front']\n",
            "5 [' order', ' 3', ' vain', ' the', ' 2']\n",
            "6 [' 6', ' 3', ' 5', ' 2', ' 8']\n",
            "7 [' 7', ' 8', ' 6', ' 5', ' 3']\n",
            "8 [' 7', ' 8', ' 6', ' 9', ' 5']\n",
            "9 [' 8', ' 7', ' 9', '8', ' 6']\n",
            "10 [' 8', ' 9', ' 7', ' 10', ' 4']\n",
            "11 [' 8', ' 9', ' 4', ' 1', ' 10']\n",
            "\n",
            "\n",
            "-1 [' challeng', ' mathemat', ' arrang', ' corrid', ' destro']\n",
            "0 [' order', ' the', ' particular', ' a', ' front']\n",
            "1 [' order', ' the', ' a', ' particular', ' conjunction']\n",
            "2 [' order', ' the', ' a', ' vain', ' accordance']\n",
            "3 [' order', ' the', ' relation', ' a', ' accordance']\n",
            "4 [' order', ' the', ' spite', ' relation', ' accordance']\n",
            "5 [' order', ' 3', ' 15', ' 18', ' 7']\n",
            "6 [' 7', ' 3', ' 5', ' 6', ' 2']\n",
            "7 [' 8', ' 7', ' 9', ' 5', ' 6']\n",
            "8 [' 8', ' 9', ' 7', ' 10', ' 5']\n",
            "9 [' 9', ' 8', ' 10', '9', ' 09']\n",
            "10 [' 9', ' 10', ' 8', ' 09', '9']\n",
            "11 [' 9', ' 10', ' 1', '\\n', ' 8']\n",
            "\n",
            "\n",
            "-1 [' challeng', ' mathemat', ' arrang', ' corrid', ' destro']\n",
            "0 [' the', ' order', ' particular', ' a', ' front']\n",
            "1 [' order', ' the', ' a', ' conjunction', ' front']\n",
            "2 [' order', ' the', ' a', ' vain', ' accordance']\n",
            "3 [' order', ' the', ' vain', ' accordance', ' a']\n",
            "4 [' order', ' the', ' relation', ' spite', ' accordance']\n",
            "5 [' order', ' 18', ' 15', ' 6', ' 3']\n",
            "6 [' 5', ' 6', ' 7', ' 8', ' 10']\n",
            "7 [' 9', ' 8', ' 7', ' 6', ' 5']\n",
            "8 [' 9', ' 10', ' 8', ' 11', ' 5']\n",
            "9 [' 10', ' 9', ' 11', '10', ' 12']\n",
            "10 [' 10', ' 11', ' 100', ' 9', ' 1']\n",
            "11 [' 10', ' 1', ' 11', ' 0', ' 100']\n",
            "\n",
            "\n",
            "-1 [' challeng', ' mathemat', ' arrang', ' corrid', ' destro']\n",
            "0 [' the', ' order', ' particular', ' a', ' front']\n",
            "1 [' order', ' the', ' a', ' conjunction', ' front']\n",
            "2 [' order', ' the', ' a', ' accordance', ' conjunction']\n",
            "3 [' order', ' the', ' conjunction', ' exchange', ' a']\n",
            "4 [' order', ' the', ' front', ' relation', ' spite']\n",
            "5 [' order', ' the', ' vain', ' pursuit', ' 3']\n",
            "6 [' 10', ' 7', ' order', ' 5', ' 3']\n",
            "7 [' 8', ' 11', ' 7', ' 9', ' 10']\n",
            "8 [' 10', ' 11', ' 9', ' 12', ' 15']\n",
            "9 [' 11', '11', ' 12', ' 10', ' 111']\n",
            "10 [' 11', ' 111', ' 12', ' 21', '11']\n",
            "11 [' 11', '\\n', ' 1', ' 12', ' 111']\n",
            "\n",
            "\n",
            "-1 [' challeng', ' mathemat', ' arrang', ' corrid', ' destro']\n",
            "0 [' the', ' order', ' particular', ' a', ' front']\n",
            "1 [' order', ' the', ' a', ' conjunction', ' front']\n",
            "2 [' order', ' the', ' a', ' front', ' vain']\n",
            "3 [' order', ' the', ' relation', ' vain', ' a']\n",
            "4 [' order', ' the', ' relation', ' spite', ' front']\n",
            "5 [' order', ' 18', ' 3', ' 15', ' 17']\n",
            "6 [' 10', ' 12', ' 13', ' 9', ' 5']\n",
            "7 [' 11', ' 9', ' 8', ' 12', ' 7']\n",
            "8 [' 11', ' 12', ' 10', ' 13', ' 9']\n",
            "9 [' 12', '12', ' 13', ' 11', ' 2']\n",
            "10 [' 12', ' 13', '12', ' 14', ' 11']\n",
            "11 [' 12', ' 2', ' 13', '\\n', ' 1']\n",
            "\n",
            "\n",
            "-1 [' challeng', ' mathemat', ' arrang', ' corrid', ' destro']\n",
            "0 [' order', ' the', ' particular', ' a', ' conjunction']\n",
            "1 [' order', ' the', ' conjunction', ' a', ' particular']\n",
            "2 [' order', ' the', ' accordance', ' vain', ' conjunction']\n",
            "3 [' order', ' the', ' accordance', ' vain', ' relation']\n",
            "4 [' order', ' the', ' relation', ' spite', ' conjunction']\n",
            "5 [' order', ' 3', ' 2', ' the', ' 5']\n",
            "6 [' 3', ' 5', ' 2', ' 4', ' 1']\n",
            "7 [' 3', ' 2', ' 4', ' 1', ' 5']\n",
            "8 [' 4', ' 5', ' 3', ' 6', ' 2']\n",
            "9 [' 5', ' 6', ' 7', ' 4', '5']\n",
            "10 [' 5', ' 6', ' 7', ' 1', ' 9']\n",
            "11 [' 5', ' 6', ' 1', ' 7', ' 3']\n",
            "\n",
            "\n",
            "-1 [' challeng', ' mathemat', ' arrang', ' corrid', ' destro']\n",
            "0 [' the', ' order', ' particular', ' a', ' front']\n",
            "1 [' order', ' the', ' a', ' front', ' vain']\n",
            "2 [' order', ' the', ' a', ' vain', ' front']\n",
            "3 [' order', ' the', ' vain', ' a', ' an']\n",
            "4 [' order', ' the', ' spite', ' vain', ' relation']\n",
            "5 [' order', ' 3', ' 5', ' 2', ' vain']\n",
            "6 [' 5', ' 3', ' 2', ' 6', ' 4']\n",
            "7 [' 5', ' 3', ' 2', ' 4', ' 6']\n",
            "8 [' 5', ' 6', ' 7', ' 4', ' 3']\n",
            "9 [' 6', ' 5', ' 7', '6', ' 8']\n",
            "10 [' 6', ' 7', ' 8', '6', ' 5']\n",
            "11 [' 6', '\\n', ' 7', ' 1', ' 8']\n",
            "\n",
            "\n",
            "-1 [' challeng', ' mathemat', ' arrang', ' corrid', ' destro']\n",
            "0 [' order', ' the', ' particular', ' a', ' conjunction']\n",
            "1 [' the', ' order', ' conjunction', ' a', ' particular']\n",
            "2 [' the', ' order', ' a', ' accordance', ' conjunction']\n",
            "3 [' the', ' order', ' accordance', ' his', ' a']\n",
            "4 [' order', ' the', ' front', ' his', ' conjunction']\n",
            "5 [' 3', ' 2', ' 18', ' order', ' 5']\n",
            "6 [' 3', ' 5', ' 2', ' 4', ' 1']\n",
            "7 [' 3', ' 4', ' 5', ' 2', ' 1']\n",
            "8 [' 4', ' 5', ' 3', ' 1', ' 6']\n",
            "9 [' 5', ' 4', ' 6', '5', ' 7']\n",
            "10 [' 5', ' 6', ' 7', ' 4', ' 1']\n",
            "11 [' 5', ' 6', ' 7', ' 1', ' 4']\n",
            "\n",
            "\n",
            "-1 [' challeng', ' mathemat', ' arrang', ' corrid', ' destro']\n",
            "0 [' order', ' the', ' particular', ' a', ' front']\n",
            "1 [' the', ' order', ' conjunction', ' a', ' particular']\n",
            "2 [' order', ' the', ' a', ' conjunction', ' my']\n",
            "3 [' order', ' the', ' accordance', ' his', ' a']\n",
            "4 [' order', ' the', ' front', ' his', ' lieu']\n",
            "5 [' 18', ' order', ' 3', ' 2', ' 5']\n",
            "6 [' 5', ' 3', ' 2', ' 4', ' 6']\n",
            "7 [' 5', ' 3', ' 2', ' 4', ' 1']\n",
            "8 [' 5', ' 6', ' 4', ' 7', ' 3']\n",
            "9 [' 6', ' 5', ' 7', '6', ' 4']\n",
            "10 [' 6', ' 7', ' 8', '6', ' 5']\n",
            "11 [' 6', ' 7', '\\n', ' 1', ' 5']\n",
            "\n",
            "\n",
            "-1 [' challeng', ' mathemat', ' arrang', ' corrid', ' destro']\n",
            "0 [' order', ' the', ' particular', ' a', ' conjunction']\n",
            "1 [' order', ' the', ' conjunction', ' a', ' particular']\n",
            "2 [' order', ' the', ' a', ' conjunction', ' accordance']\n",
            "3 [' order', ' the', ' accordance', ' conjunction', ' his']\n",
            "4 [' order', ' the', ' front', ' his', ' conjunction']\n",
            "5 [' 18', ' 3', ' 2', ' 5', ' 12']\n",
            "6 [' 5', ' 3', ' 6', ' 2', ' 4']\n",
            "7 [' 5', ' 6', ' 3', ' 7', ' 4']\n",
            "8 [' 6', ' 7', ' 5', ' 4', ' 8']\n",
            "9 [' 7', ' 6', ' 8', '7', ' 9']\n",
            "10 [' 7', ' 8', ' 9', ' 6', ' 13']\n",
            "11 [' 7', ' 8', ' 9', ' 6', ' 1']\n",
            "\n",
            "\n",
            "-1 [' challeng', ' mathemat', ' arrang', ' corrid', ' destro']\n",
            "0 [' order', ' the', ' particular', ' a', ' front']\n",
            "1 [' the', ' order', ' conjunction', ' a', ' particular']\n",
            "2 [' the', ' order', ' a', ' conjunction', ' accordance']\n",
            "3 [' the', ' order', ' accordance', ' a', ' his']\n",
            "4 [' front', ' the', ' order', ' conjunction', ' his']\n",
            "5 [' 18', ' order', ' 15', ' 5', ' 3']\n",
            "6 [' 5', ' 3', ' 6', ' 4', ' 2']\n",
            "7 [' 7', ' 5', ' 6', ' 3', ' 4']\n",
            "8 [' 7', ' 8', ' 6', ' 5', ' 9']\n",
            "9 [' 8', ' 7', ' 9', ' 10', ' 12']\n",
            "10 [' 8', ' 9', ' 10', ' 12', ' 7']\n",
            "11 [' 8', ' 9', ' 10', ' 12', ' 7']\n",
            "\n",
            "\n",
            "-1 [' challeng', ' mathemat', ' arrang', ' corrid', ' destro']\n",
            "0 [' order', ' the', ' particular', ' a', ' front']\n",
            "1 [' the', ' order', ' a', ' particular', ' conjunction']\n",
            "2 [' the', ' order', ' a', ' conjunction', ' accordance']\n",
            "3 [' order', ' the', ' accordance', ' conjunction', ' a']\n",
            "4 [' order', ' front', ' the', ' conjunction', ' his']\n",
            "5 [' 18', ' order', ' 3', ' 2', ' 12']\n",
            "6 [' 5', ' 3', ' 9', ' 6', ' 2']\n",
            "7 [' 8', ' 7', ' 9', ' 5', ' 6']\n",
            "8 [' 8', ' 9', ' 7', ' 10', ' 5']\n",
            "9 [' 9', ' 8', ' 10', ' 11', '9']\n",
            "10 [' 9', ' 10', ' 11', ' 8', ' 13']\n",
            "11 [' 9', ' 10', ' 11', ' 1', ' 8']\n",
            "\n",
            "\n",
            "-1 [' challeng', ' mathemat', ' arrang', ' corrid', ' destro']\n",
            "0 [' order', ' the', ' particular', ' a', ' front']\n",
            "1 [' the', ' order', ' conjunction', ' particular', ' a']\n",
            "2 [' the', ' order', ' a', ' conjunction', ' accordance']\n",
            "3 [' the', ' order', ' accordance', ' his', ' conjunction']\n",
            "4 [' order', ' the', ' front', ' his', ' conjunction']\n",
            "5 [' 18', ' order', ' 15', ' 3', ' 17']\n",
            "6 [' 12', ' 5', ' 10', ' 9', ' 3']\n",
            "7 [' 9', ' 8', ' 5', ' 7', ' 6']\n",
            "8 [' 9', ' 10', ' 8', ' 11', ' 12']\n",
            "9 [' 10', ' 9', ' 11', '10', ' 12']\n",
            "10 [' 10', ' 11', ' 12', ' 9', '10']\n",
            "11 [' 10', ' 11', ' 12', ' 1', ' 9']\n",
            "\n",
            "\n",
            "-1 [' challeng', ' mathemat', ' arrang', ' corrid', ' destro']\n",
            "0 [' order', ' the', ' particular', ' a', ' front']\n",
            "1 [' the', ' order', ' conjunction', ' a', ' particular']\n",
            "2 [' the', ' order', ' a', ' conjunction', ' accordance']\n",
            "3 [' order', ' the', ' accordance', ' his', ' a']\n",
            "4 [' order', ' the', ' front', ' his', ' conjunction']\n",
            "5 [' 18', ' 10', ' 15', ' 17', ' 12']\n",
            "6 [' 10', ' 12', ' 5', ' 9', ' 3']\n",
            "7 [' 10', ' 9', ' 11', ' 12', ' 8']\n",
            "8 [' 10', ' 11', ' 9', ' 12', ' 13']\n",
            "9 [' 11', '11', ' 12', ' 10', ' 13']\n",
            "10 [' 11', ' 12', ' 13', ' 111', ' 10']\n",
            "11 [' 11', ' 12', '\\n', ' 13', ' 10']\n",
            "\n",
            "\n",
            "-1 [' challeng', ' mathemat', ' arrang', ' corrid', ' destro']\n",
            "0 [' order', ' the', ' particular', ' a', ' conjunction']\n",
            "1 [' the', ' order', ' a', ' conjunction', ' particular']\n",
            "2 [' the', ' order', ' a', ' accordance', ' conjunction']\n",
            "3 [' the', ' order', ' accordance', ' a', ' conjunction']\n",
            "4 [' order', ' the', ' front', ' conjunction', ' lieu']\n",
            "5 [' 18', ' 17', ' 15', ' 12', ' 3']\n",
            "6 [' 12', ' 10', ' 2', ' 3', ' 9']\n",
            "7 [' 11', ' 12', ' 9', ' 8', ' 2']\n",
            "8 [' 11', ' 12', ' 13', ' 10', ' 9']\n",
            "9 [' 12', ' 13', '12', ' 11', ' 14']\n",
            "10 [' 12', ' 13', ' 14', '12', ' 11']\n",
            "11 [' 12', ' 13', ' 14', ' 2', ' 11']\n",
            "\n",
            "\n",
            "-1 [' challeng', ' mathemat', ' arrang', ' corrid', ' destro']\n",
            "0 [' order', ' the', ' particular', ' a', ' conjunction']\n",
            "1 [' the', ' order', ' conjunction', ' particular', ' a']\n",
            "2 [' order', ' the', ' a', ' conjunction', ' accordance']\n",
            "3 [' order', ' the', ' accordance', ' conjunction', ' a']\n",
            "4 [' order', ' the', ' front', ' conjunction', ' his']\n",
            "5 [' 3', ' 2', ' 18', ' order', ' 5']\n",
            "6 [' 3', ' 5', ' 2', ' 4', ' 1']\n",
            "7 [' 3', ' 4', ' 5', ' 2', ' 1']\n",
            "8 [' 4', ' 5', ' 3', ' 1', ' 6']\n",
            "9 [' 5', ' 4', ' 6', '5', ' 7']\n",
            "10 [' 5', ' 6', ' 7', ' 4', ' 1']\n",
            "11 [' 5', ' 6', ' 1', ' 4', '\\n']\n",
            "\n",
            "\n",
            "-1 [' challeng', ' mathemat', ' arrang', ' corrid', ' destro']\n",
            "0 [' order', ' the', ' particular', ' a', ' conjunction']\n",
            "1 [' the', ' order', ' a', ' conjunction', ' particular']\n",
            "2 [' the', ' order', ' a', ' accordance', ' my']\n",
            "3 [' the', ' order', ' accordance', ' a', ' his']\n",
            "4 [' order', ' the', ' front', ' conjunction', ' accordance']\n",
            "5 [' 18', ' 3', ' 2', ' 5', ' 17']\n",
            "6 [' 5', ' 3', ' 2', ' 4', ' 6']\n",
            "7 [' 3', ' 5', ' 2', ' 4', ' 1']\n",
            "8 [' 5', ' 6', ' 4', ' 7', ' 3']\n",
            "9 [' 6', ' 5', ' 7', '6', ' 4']\n",
            "10 [' 6', ' 7', ' 8', ' 5', '6']\n",
            "11 [' 6', ' 7', ' 1', ' 8', ' 5']\n",
            "\n",
            "\n"
          ]
        }
      ]
    },
    {
      "cell_type": "code",
      "source": [
        "num_corr = 0\n",
        "for pd in prompts_list:\n",
        "    test_text = pd['text']\n",
        "    layer_logits = get_logits(test_text)\n",
        "    tok_logit_lens = get_decoded_indiv_toks(layer_logits)\n",
        "    if int(tok_logit_lens[9][0].replace(' ', '')) < int(tok_logit_lens[10][0].replace(' ', '')):\n",
        "        if tok_logit_lens[10][0] == pd['corr']:\n",
        "            num_corr += 1\n",
        "    # for i, tokouts in enumerate(tok_logit_lens):\n",
        "    #     print(i-1, tokouts)\n",
        "    # print('\\n')\n",
        "num_corr"
      ],
      "metadata": {
        "colab": {
          "base_uri": "https://localhost:8080/"
        },
        "id": "IiXVebCjv_KL",
        "outputId": "5d28f4a6-bc04-49a9-d8a9-f3e80b17f113"
      },
      "execution_count": null,
      "outputs": [
        {
          "output_type": "execute_result",
          "data": {
            "text/plain": [
              "30"
            ]
          },
          "metadata": {},
          "execution_count": 74
        }
      ]
    },
    {
      "cell_type": "code",
      "source": [
        "prompts_list[0]['text']"
      ],
      "metadata": {
        "colab": {
          "base_uri": "https://localhost:8080/",
          "height": 35
        },
        "id": "N7N7VuuLxjt_",
        "outputId": "9d7fb920-b9de-4219-a17e-9636c378c728"
      },
      "execution_count": null,
      "outputs": [
        {
          "output_type": "execute_result",
          "data": {
            "text/plain": [
              "'Van done in 1. Hat done in 2. Ring done in 3. Desk done in 4. Sun done in'"
            ],
            "application/vnd.google.colaboratory.intrinsic+json": {
              "type": "string"
            }
          },
          "metadata": {},
          "execution_count": 75
        }
      ]
    },
    {
      "cell_type": "code",
      "source": [
        "pd['text']"
      ],
      "metadata": {
        "colab": {
          "base_uri": "https://localhost:8080/",
          "height": 35
        },
        "id": "4e-SYbCZxNB0",
        "outputId": "31e378a3-cf1d-4619-d739-8a05510b3cea"
      },
      "execution_count": null,
      "outputs": [
        {
          "output_type": "execute_result",
          "data": {
            "text/plain": [
              "'Anne born in 2. Chelsea born in 3. Jeremy born in 4. Craig born in 5. Elizabeth born in'"
            ],
            "application/vnd.google.colaboratory.intrinsic+json": {
              "type": "string"
            }
          },
          "metadata": {},
          "execution_count": 72
        }
      ]
    },
    {
      "cell_type": "code",
      "source": [
        "tok_logit_lens[9][0] == pd['corr']"
      ],
      "metadata": {
        "colab": {
          "base_uri": "https://localhost:8080/"
        },
        "id": "cmT0ZgeFxHIl",
        "outputId": "ffa895de-e69f-4450-dc33-96db13344085"
      },
      "execution_count": null,
      "outputs": [
        {
          "output_type": "execute_result",
          "data": {
            "text/plain": [
              "False"
            ]
          },
          "metadata": {},
          "execution_count": 71
        }
      ]
    },
    {
      "cell_type": "code",
      "source": [
        "tok_logit_lens[9][0]"
      ],
      "metadata": {
        "colab": {
          "base_uri": "https://localhost:8080/",
          "height": 35
        },
        "id": "99ENabpGw3Tn",
        "outputId": "651d9c59-91aa-4d3b-b969-6e45dbb0f51d"
      },
      "execution_count": null,
      "outputs": [
        {
          "output_type": "execute_result",
          "data": {
            "text/plain": [
              "' 5'"
            ],
            "application/vnd.google.colaboratory.intrinsic+json": {
              "type": "string"
            }
          },
          "metadata": {},
          "execution_count": 67
        }
      ]
    },
    {
      "cell_type": "code",
      "source": [
        "tok_logit_lens[10][0]"
      ],
      "metadata": {
        "colab": {
          "base_uri": "https://localhost:8080/",
          "height": 35
        },
        "id": "2jaYbHXfxT9m",
        "outputId": "805f8c18-4e10-437d-9d40-a67f8f1642b2"
      },
      "execution_count": null,
      "outputs": [
        {
          "output_type": "execute_result",
          "data": {
            "text/plain": [
              "' 6'"
            ],
            "application/vnd.google.colaboratory.intrinsic+json": {
              "type": "string"
            }
          },
          "metadata": {},
          "execution_count": 73
        }
      ]
    },
    {
      "cell_type": "code",
      "source": [
        "pd['corr']"
      ],
      "metadata": {
        "colab": {
          "base_uri": "https://localhost:8080/",
          "height": 35
        },
        "id": "mQpx93XRw4yv",
        "outputId": "26ad9319-2736-469e-dcf6-ad4dc8a4a994"
      },
      "execution_count": null,
      "outputs": [
        {
          "output_type": "execute_result",
          "data": {
            "text/plain": [
              "' 6'"
            ],
            "application/vnd.google.colaboratory.intrinsic+json": {
              "type": "string"
            }
          },
          "metadata": {},
          "execution_count": 68
        }
      ]
    },
    {
      "cell_type": "code",
      "source": [
        "tok_logit_lens[8]"
      ],
      "metadata": {
        "colab": {
          "base_uri": "https://localhost:8080/"
        },
        "id": "7hsj7wmfwVXH",
        "outputId": "274b9ab0-7279-4136-c10d-5f17aa26baed"
      },
      "execution_count": null,
      "outputs": [
        {
          "output_type": "execute_result",
          "data": {
            "text/plain": [
              "[' 3', ' 5', ' 2', ' 4', ' 1']"
            ]
          },
          "metadata": {},
          "execution_count": 64
        }
      ]
    },
    {
      "cell_type": "code",
      "source": [
        "tok_logit_lens[9]"
      ],
      "metadata": {
        "colab": {
          "base_uri": "https://localhost:8080/"
        },
        "id": "xa7fjCyqwQ9W",
        "outputId": "b0afd60f-46ea-49e5-a326-3232ded01f03"
      },
      "execution_count": null,
      "outputs": [
        {
          "output_type": "execute_result",
          "data": {
            "text/plain": [
              "[' 5', ' 6', ' 4', ' 7', ' 3']"
            ]
          },
          "metadata": {},
          "execution_count": 63
        }
      ]
    },
    {
      "cell_type": "markdown",
      "source": [
        "# nw"
      ],
      "metadata": {
        "id": "qRpnzqT0x4LJ"
      }
    },
    {
      "cell_type": "code",
      "source": [
        "import pickle\n",
        "\n",
        "task = \"nw\"\n",
        "prompts_list = []\n",
        "\n",
        "temps = ['done', 'lost', 'names']\n",
        "\n",
        "for i in temps:\n",
        "    file_name = f'/content/{task}_prompts_{i}.pkl'\n",
        "    with open(file_name, 'rb') as file:\n",
        "        filelist = pickle.load(file)\n",
        "\n",
        "    print(filelist[0]['text'])\n",
        "    prompts_list += filelist [:10] #768 512\n",
        "\n",
        "len(prompts_list)"
      ],
      "metadata": {
        "colab": {
          "base_uri": "https://localhost:8080/"
        },
        "id": "egL1OXdo0fVB",
        "outputId": "5a06053d-be99-49c2-cf6d-840848820edb"
      },
      "execution_count": null,
      "outputs": [
        {
          "output_type": "stream",
          "name": "stdout",
          "text": [
            "Van done in one. Hat done in two. Ring done in three. Desk done in four. Sun done in\n",
            "Oil lost in one. Apple lost in two. Tree lost in three. Snow lost in four. Apple lost in\n",
            "Marcus born in one. Victoria born in two. George born in three. Brandon born in four. Jamie born in\n"
          ]
        },
        {
          "output_type": "execute_result",
          "data": {
            "text/plain": [
              "30"
            ]
          },
          "metadata": {},
          "execution_count": 76
        }
      ]
    },
    {
      "cell_type": "code",
      "source": [
        "num_words = [\"one\", \"two\", \"three\", \"four\", \"five\", \"six\", \"seven\", \"eight\", \"nine\", \"ten\",\n",
        "                 \"eleven\", \"twelve\"]\n",
        "\n",
        "anomolies = []\n",
        "num_corr = 0\n",
        "for pd in prompts_list:\n",
        "    test_text = pd['text']\n",
        "    layer_logits = get_logits(test_text)\n",
        "    tok_logit_lens = get_decoded_indiv_toks(layer_logits)\n",
        "    a = num_words.index(tok_logit_lens[9][0].replace(' ', ''))\n",
        "    b= num_words.index(tok_logit_lens[10][0].replace(' ', ''))\n",
        "    if int(a) < int(b):\n",
        "        if tok_logit_lens[10][0] == pd['corr']:\n",
        "            num_corr += 1\n",
        "        else:\n",
        "            anomolies.append(pd)\n",
        "    else:\n",
        "            anomolies.append(pd)\n",
        "    for i, tokouts in enumerate(tok_logit_lens):\n",
        "        print(i-1, tokouts)\n",
        "    print('\\n')"
      ],
      "metadata": {
        "colab": {
          "base_uri": "https://localhost:8080/"
        },
        "id": "40iqV7ni0nlf",
        "outputId": "add622d5-dabb-427a-98b8-3d7bef646069"
      },
      "execution_count": null,
      "outputs": [
        {
          "output_type": "stream",
          "name": "stdout",
          "text": [
            "-1 [' challeng', ' mathemat', ' arrang', ' corrid', ' destro']\n",
            "0 [' order', ' the', ' particular', ' a', ' front']\n",
            "1 [' order', ' the', ' conjunction', ' my', ' a']\n",
            "2 [' order', ' the', ' front', ' vain', ' conjunction']\n",
            "3 [' order', ' the', ' vain', ' conjunction', ' accordance']\n",
            "4 [' order', ' the', ' conjunction', ' vain', ' relation']\n",
            "5 [' order', ' conjunction', ' lieu', ' vain', ' the']\n",
            "6 [' conjunction', ' order', ' lieu', ' the', ' a']\n",
            "7 [' order', ' three', ' another', ' vain', ' third']\n",
            "8 [' four', ' three', ' five', ' six', ' seven']\n",
            "9 [' five', ' six', ' seven', ' four', ' fifth']\n",
            "10 [' five', ' six', ' seven', ' Five', ' one']\n",
            "11 [' five', ' six', ' one', ' seven', ' four']\n",
            "\n",
            "\n",
            "-1 [' challeng', ' mathemat', ' arrang', ' corrid', ' destro']\n",
            "0 [' order', ' the', ' particular', ' conjunction', ' a']\n",
            "1 [' order', ' the', ' conjunction', ' my', ' particular']\n",
            "2 [' order', ' the', ' conjunction', ' accordance', ' front']\n",
            "3 [' order', ' the', ' conjunction', ' accordance', ' vain']\n",
            "4 [' order', ' conjunction', ' the', ' accordance', ' lieu']\n",
            "5 [' order', ' conjunction', ' lieu', ' accordance', ' the']\n",
            "6 [' order', ' conjunction', ' lieu', ' three', ' accordance']\n",
            "7 [' order', ' three', ' parentheses', ' conjunction', ' four']\n",
            "8 [' five', ' four', ' seven', ' three', ' six']\n",
            "9 [' six', ' seven', ' five', ' eight', ' four']\n",
            "10 [' six', ' seven', ' eight', ' ten', ' eleven']\n",
            "11 [' six', ' seven', ' eight', ' ten', ' one']\n",
            "\n",
            "\n",
            "-1 [' challeng', ' mathemat', ' arrang', ' corrid', ' destro']\n",
            "0 [' order', ' the', ' particular', ' a', ' conjunction']\n",
            "1 [' order', ' the', ' conjunction', ' vain', ' particular']\n",
            "2 [' order', ' the', ' vain', ' front', ' conjunction']\n",
            "3 [' order', ' the', ' vain', ' conjunction', ' accordance']\n",
            "4 [' order', ' the', ' relation', ' vain', ' conjunction']\n",
            "5 [' order', ' vain', ' lieu', ' conjunction', ' the']\n",
            "6 [' order', ' three', ' conjunction', ' lieu', ' a']\n",
            "7 [' three', ' five', ' seven', ' nine', ' order']\n",
            "8 [' seven', ' six', ' five', ' four', ' eight']\n",
            "9 [' seven', ' eight', ' six', ' nine', ' seventh']\n",
            "10 [' seven', ' eight', ' nine', ' six', ' nineteen']\n",
            "11 [' seven', ' eight', ' six', ' nine', ' ten']\n",
            "\n",
            "\n",
            "-1 [' challeng', ' mathemat', ' arrang', ' corrid', ' destro']\n",
            "0 [' order', ' the', ' particular', ' a', ' front']\n",
            "1 [' order', ' the', ' vain', ' conjunction', ' my']\n",
            "2 [' order', ' the', ' vain', ' front', ' conjunction']\n",
            "3 [' order', ' the', ' vain', ' accordance', ' conjunction']\n",
            "4 [' order', ' vain', ' the', ' lieu', ' conjunction']\n",
            "5 [' order', ' lieu', ' vain', ' conjunction', ' the']\n",
            "6 [' order', ' lieu', ' conjunction', ' vain', ' three']\n",
            "7 [' order', ' vain', ' seven', ' three', ' five']\n",
            "8 [' seven', ' eight', ' six', ' five', ' nine']\n",
            "9 [' eight', ' seven', ' nine', ' 8', ' six']\n",
            "10 [' eight', ' nine', ' Eight', ' seven', ' twelve']\n",
            "11 [' eight', ' ten', ' nine', ' seven', ' four']\n",
            "\n",
            "\n",
            "-1 [' challeng', ' mathemat', ' arrang', ' corrid', ' destro']\n",
            "0 [' order', ' the', ' particular', ' a', ' conjunction']\n",
            "1 [' order', ' the', ' conjunction', ' vain', ' particular']\n",
            "2 [' order', ' the', ' conjunction', ' vain', ' front']\n",
            "3 [' order', ' the', ' vain', ' conjunction', ' accordance']\n",
            "4 [' order', ' the', ' conjunction', ' vain', ' accordance']\n",
            "5 [' order', ' conjunction', ' lieu', ' vain', ' the']\n",
            "6 [' order', ' conjunction', ' lieu', ' vain', ' three']\n",
            "7 [' nine', ' seven', ' order', ' eight', ' 17']\n",
            "8 [' eight', ' nine', ' seven', ' five', ' four']\n",
            "9 [' nine', ' eight', ' seven', ' eleven', ' ten']\n",
            "10 [' nine', ' eleven', ' ten', ' eight', ' Nine']\n",
            "11 [' nine', ' ten', ' eleven', ' eight', ' twelve']\n",
            "\n",
            "\n",
            "-1 [' challeng', ' mathemat', ' arrang', ' corrid', ' destro']\n",
            "0 [' order', ' the', ' particular', ' a', ' front']\n",
            "1 [' order', ' the', ' conjunction', ' particular', ' a']\n",
            "2 [' order', ' the', ' conjunction', ' front', ' vain']\n",
            "3 [' order', ' the', ' conjunction', ' favor', ' terms']\n",
            "4 [' order', ' the', ' conjunction', ' vain', ' lieu']\n",
            "5 [' order', ' conjunction', ' lieu', ' vain', ' the']\n",
            "6 [' order', ' conjunction', ' lieu', ' vain', ' parentheses']\n",
            "7 [' order', ' nine', ' eight', ' seven', ' 12']\n",
            "8 [' nine', ' eight', ' seven', ' ten', ' 10']\n",
            "9 [' ten', ' 10', ' tenth', ' nine', ' twelve']\n",
            "10 [' ten', ' twelve', ' eleven', ' fifteen', ' 10']\n",
            "11 [' ten', ' 10', ' fifteen', ' twelve', ' twenty']\n",
            "\n",
            "\n",
            "-1 [' challeng', ' mathemat', ' arrang', ' corrid', ' destro']\n",
            "0 [' order', ' the', ' particular', ' a', ' conjunction']\n",
            "1 [' order', ' the', ' conjunction', ' particular', ' vain']\n",
            "2 [' order', ' the', ' vain', ' front', ' conjunction']\n",
            "3 [' order', ' the', ' vain', ' conjunction', ' accordance']\n",
            "4 [' order', ' vain', ' the', ' conjunction', ' relation']\n",
            "5 [' order', ' conjunction', ' vain', ' lieu', ' the']\n",
            "6 [' order', ' conjunction', ' lieu', ' vain', ' relation']\n",
            "7 [' nine', ' order', ' 17', ' 13', ' seven']\n",
            "8 [' ten', ' nine', ' eleven', ' twelve', ' 10']\n",
            "9 [' eleven', ' twelve', ' thirteen', ' ten', ' 11']\n",
            "10 [' eleven', ' twelve', ' thirteen', ' twenty', ' fifteen']\n",
            "11 [' eleven', ' twelve', ' twenty', ' fifteen', ' thirteen']\n",
            "\n",
            "\n",
            "-1 [' challeng', ' mathemat', ' arrang', ' corrid', ' destro']\n",
            "0 [' order', ' the', ' particular', ' a', ' front']\n",
            "1 [' order', ' the', ' vain', ' conjunction', ' particular']\n",
            "2 [' order', ' the', ' vain', ' front', ' conjunction']\n",
            "3 [' order', ' vain', ' the', ' conjunction', ' accordance']\n",
            "4 [' order', ' vain', ' conjunction', ' the', ' relation']\n",
            "5 [' order', ' conjunction', ' lieu', ' vain', ' the']\n",
            "6 [' order', ' conjunction', ' lieu', ' relation', ' vain']\n",
            "7 [' nine', ' order', ' seven', ' eight', ' 17']\n",
            "8 [' eleven', ' twelve', ' nine', ' ten', ' thirteen']\n",
            "9 [' twelve', ' thirteen', ' eleven', ' fourteen', ' 12']\n",
            "10 [' twelve', ' thirteen', ' fourteen', ' eleven', ' fifteen']\n",
            "11 [' twelve', ' thirteen', ' fourteen', ' eleven', ' fifteen']\n",
            "\n",
            "\n",
            "-1 [' challeng', ' mathemat', ' arrang', ' corrid', ' destro']\n",
            "0 [' order', ' the', ' particular', ' a', ' conjunction']\n",
            "1 [' order', ' the', ' conjunction', ' vain', ' my']\n",
            "2 [' order', ' the', ' conjunction', ' front', ' vain']\n",
            "3 [' order', ' the', ' vain', ' conjunction', ' accordance']\n",
            "4 [' order', ' the', ' conjunction', ' relation', ' vain']\n",
            "5 [' order', ' conjunction', ' vain', ' lieu', ' the']\n",
            "6 [' conjunction', ' order', ' three', ' 3', ' a']\n",
            "7 [' three', ' order', ' four', ' third', ' 3']\n",
            "8 [' four', ' three', ' five', ' infinity', ' six']\n",
            "9 [' five', ' six', ' seven', ' four', ' Five']\n",
            "10 [' five', ' six', ' seven', ' Five', ' one']\n",
            "11 [' five', ' six', ' seven', ' one', ' Five']\n",
            "\n",
            "\n",
            "-1 [' challeng', ' mathemat', ' arrang', ' corrid', ' destro']\n",
            "0 [' order', ' the', ' particular', ' a', ' conjunction']\n",
            "1 [' order', ' the', ' conjunction', ' my', ' a']\n",
            "2 [' order', ' the', ' conjunction', ' front', ' vain']\n",
            "3 [' order', ' the', ' conjunction', ' vain', ' accordance']\n",
            "4 [' order', ' the', ' lieu', ' conjunction', ' vain']\n",
            "5 [' order', ' lieu', ' vain', ' conjunction', ' the']\n",
            "6 [' order', ' conjunction', ' three', ' lieu', ' two']\n",
            "7 [' order', ' three', ' five', ' four', ' two']\n",
            "8 [' five', ' six', ' seven', ' four', ' three']\n",
            "9 [' six', ' seven', ' five', ' eight', ' sixth']\n",
            "10 [' six', ' seven', ' eight', ' ten', ' eleven']\n",
            "11 [' six', ' seven', ' eight', ' ten', ' five']\n",
            "\n",
            "\n",
            "-1 [' challeng', ' mathemat', ' arrang', ' corrid', ' destro']\n",
            "0 [' the', ' order', ' a', ' particular', ' front']\n",
            "1 [' order', ' the', ' a', ' front', ' conjunction']\n",
            "2 [' order', ' the', ' vain', ' a', ' front']\n",
            "3 [' order', ' the', ' vain', ' spite', ' relation']\n",
            "4 [' order', ' spite', ' vain', ' the', ' regard']\n",
            "5 [' order', ' vain', ' the', ' spite', ' a']\n",
            "6 [' vain', ' order', ' three', ' a', ' two']\n",
            "7 [' three', ' two', ' five', ' four', ' vain']\n",
            "8 [' four', ' three', ' five', ' seven', ' six']\n",
            "9 [' five', ' seven', ' six', ' four', ' Five']\n",
            "10 [' five', ' seven', ' six', ' ten', ' eight']\n",
            "11 [' five', ' seven', ' six', ' ten', ' one']\n",
            "\n",
            "\n",
            "-1 [' challeng', ' mathemat', ' arrang', ' corrid', ' destro']\n",
            "0 [' the', ' order', ' a', ' particular', ' front']\n",
            "1 [' order', ' the', ' a', ' front', ' vain']\n",
            "2 [' order', ' the', ' a', ' front', ' vain']\n",
            "3 [' order', ' the', ' vain', ' accordance', ' relation']\n",
            "4 [' order', ' the', ' vain', ' relation', ' spite']\n",
            "5 [' order', ' vain', ' the', ' lieu', ' a']\n",
            "6 [' order', ' vain', ' three', ' 3', ' parentheses']\n",
            "7 [' order', ' three', ' five', ' none', ' vain']\n",
            "8 [' five', ' seven', ' six', ' four', ' ten']\n",
            "9 [' six', ' seven', ' five', ' eight', ' nine']\n",
            "10 [' six', ' seven', ' eight', ' ten', ' nine']\n",
            "11 [' six', ' seven', ' ten', ' eight', ' nine']\n",
            "\n",
            "\n",
            "-1 [' challeng', ' mathemat', ' arrang', ' corrid', ' destro']\n",
            "0 [' the', ' order', ' a', ' particular', ' front']\n",
            "1 [' order', ' the', ' a', ' front', ' my']\n",
            "2 [' order', ' the', ' a', ' vain', ' front']\n",
            "3 [' order', ' the', ' vain', ' accordance', ' a']\n",
            "4 [' order', ' vain', ' the', ' spite', ' accordance']\n",
            "5 [' order', ' vain', ' the', ' 3', ' 15']\n",
            "6 [' vain', ' order', ' three', ' 5', ' 3']\n",
            "7 [' vain', ' order', ' three', ' seven', ' five']\n",
            "8 [' seven', ' six', ' five', ' eight', ' nine']\n",
            "9 [' seven', ' eight', ' nine', ' six', ' 7']\n",
            "10 [' seven', ' eight', ' nine', ' nineteen', ' ten']\n",
            "11 [' seven', ' eight', ' nine', ' ten', ' six']\n",
            "\n",
            "\n",
            "-1 [' challeng', ' mathemat', ' arrang', ' corrid', ' destro']\n",
            "0 [' the', ' order', ' particular', ' a', ' front']\n",
            "1 [' order', ' the', ' a', ' particular', ' my']\n",
            "2 [' order', ' the', ' a', ' accordance', ' front']\n",
            "3 [' order', ' the', ' vain', ' relation', ' accordance']\n",
            "4 [' the', ' order', ' spite', ' relation', ' vain']\n",
            "5 [' order', ' vain', ' the', ' lieu', ' a']\n",
            "6 [' vain', ' order', ' lieu', ' the', ' a']\n",
            "7 [' vain', ' seven', ' three', ' order', ' none']\n",
            "8 [' seven', ' eight', ' six', ' 7', ' five']\n",
            "9 [' eight', ' seven', ' nine', ' 8', ' eighth']\n",
            "10 [' eight', ' nine', ' Eight', ' seven', ' ten']\n",
            "11 [' eight', ' ten', ' nine', ' 8', ' seven']\n",
            "\n",
            "\n",
            "-1 [' challeng', ' mathemat', ' arrang', ' corrid', ' destro']\n",
            "0 [' order', ' the', ' a', ' particular', ' front']\n",
            "1 [' order', ' the', ' a', ' my', ' conjunction']\n",
            "2 [' order', ' the', ' a', ' vain', ' front']\n",
            "3 [' order', ' the', ' vain', ' spite', ' relation']\n",
            "4 [' order', ' the', ' spite', ' relation', ' vain']\n",
            "5 [' order', ' vain', ' the', ' lieu', ' spite']\n",
            "6 [' vain', ' order', ' lieu', ' parentheses', ' conjunction']\n",
            "7 [' seven', ' eight', ' vain', ' nine', ' 8']\n",
            "8 [' eight', ' nine', ' seven', ' 8', ' five']\n",
            "9 [' nine', ' eight', ' 9', ' ninth', ' Nine']\n",
            "10 [' nine', ' ten', ' Nine', ' ninth', ' eleven']\n",
            "11 [' nine', ' ten', ' ninth', ' 9', ' eight']\n",
            "\n",
            "\n",
            "-1 [' challeng', ' mathemat', ' arrang', ' corrid', ' destro']\n",
            "0 [' the', ' order', ' a', ' particular', ' front']\n",
            "1 [' the', ' order', ' a', ' vain', ' particular']\n",
            "2 [' order', ' the', ' vain', ' a', ' front']\n",
            "3 [' order', ' the', ' vain', ' accordance', ' relation']\n",
            "4 [' order', ' the', ' vain', ' spite', ' relation']\n",
            "5 [' order', ' vain', ' 18', ' the', ' 17']\n",
            "6 [' vain', ' order', ' parentheses', ' 10', ' 18']\n",
            "7 [' nine', ' eight', ' seven', ' vain', ' six']\n",
            "8 [' nine', ' eight', ' seven', ' ten', ' 10']\n",
            "9 [' ten', ' 10', ' nine', ' tenth', ' eleven']\n",
            "10 [' ten', ' eleven', ' twelve', ' 10', ' nine']\n",
            "11 [' ten', ' 10', ' twelve', ' eleven', ' fifteen']\n",
            "\n",
            "\n",
            "-1 [' challeng', ' mathemat', ' arrang', ' corrid', ' destro']\n",
            "0 [' the', ' order', ' particular', ' a', ' front']\n",
            "1 [' order', ' the', ' a', ' conjunction', ' particular']\n",
            "2 [' order', ' the', ' a', ' front', ' conjunction']\n",
            "3 [' order', ' the', ' vain', ' pursuit', ' relation']\n",
            "4 [' order', ' the', ' spite', ' vain', ' relation']\n",
            "5 [' order', ' vain', ' pursuit', ' the', ' lieu']\n",
            "6 [' order', ' lieu', ' vain', ' parentheses', ' conjunction']\n",
            "7 [' nine', ' order', ' none', ' ten', ' seven']\n",
            "8 [' ten', ' nine', ' eleven', ' 10', ' seven']\n",
            "9 [' eleven', ' twelve', ' 11', ' thirteen', ' ten']\n",
            "10 [' eleven', ' twelve', ' thirteen', ' fifteen', ' fourteen']\n",
            "11 [' eleven', ' twelve', ' fifteen', ' thirteen', ' twenty']\n",
            "\n",
            "\n",
            "-1 [' challeng', ' mathemat', ' arrang', ' corrid', ' destro']\n",
            "0 [' order', ' the', ' particular', ' a', ' front']\n",
            "1 [' order', ' the', ' a', ' vain', ' particular']\n",
            "2 [' order', ' the', ' vain', ' a', ' front']\n",
            "3 [' order', ' the', ' vain', ' relation', ' spite']\n",
            "4 [' order', ' the', ' relation', ' spite', ' front']\n",
            "5 [' order', ' the', ' vain', ' 18', ' spite']\n",
            "6 [' order', ' parentheses', ' 3', ' 10', ' three']\n",
            "7 [' nine', ' eight', ' seven', ' ten', ' twelve']\n",
            "8 [' eleven', ' twelve', ' thirteen', ' nine', ' ten']\n",
            "9 [' twelve', ' thirteen', ' eleven', ' ten', ' 12']\n",
            "10 [' twelve', ' thirteen', ' eleven', ' fourteen', ' fifteen']\n",
            "11 [' twelve', ' thirteen', ' eleven', ' ten', ' fourteen']\n",
            "\n",
            "\n",
            "-1 [' challeng', ' mathemat', ' arrang', ' corrid', ' destro']\n",
            "0 [' order', ' the', ' particular', ' a', ' front']\n",
            "1 [' order', ' the', ' a', ' conjunction', ' particular']\n",
            "2 [' order', ' the', ' vain', ' accordance', ' a']\n",
            "3 [' order', ' the', ' vain', ' accordance', ' relation']\n",
            "4 [' order', ' the', ' relation', ' spite', ' vain']\n",
            "5 [' order', ' the', ' vain', ' a', ' spite']\n",
            "6 [' order', ' three', ' a', ' the', ' 3']\n",
            "7 [' three', ' two', ' 3', ' four', ' another']\n",
            "8 [' four', ' three', ' five', ' two', ' seven']\n",
            "9 [' five', ' Five', ' seven', ' fifth', ' six']\n",
            "10 [' five', ' six', ' seven', ' Five', ' one']\n",
            "11 [' five', ' six', ' one', ' seven', ' ten']\n",
            "\n",
            "\n",
            "-1 [' challeng', ' mathemat', ' arrang', ' corrid', ' destro']\n",
            "0 [' the', ' order', ' a', ' particular', ' front']\n",
            "1 [' the', ' order', ' a', ' vain', ' front']\n",
            "2 [' order', ' the', ' vain', ' a', ' front']\n",
            "3 [' order', ' the', ' vain', ' spite', ' a']\n",
            "4 [' order', ' the', ' spite', ' vain', ' regard']\n",
            "5 [' order', ' vain', ' the', ' spite', ' lieu']\n",
            "6 [' vain', ' order', ' parentheses', ' three', ' a']\n",
            "7 [' three', ' vain', ' order', ' five', ' none']\n",
            "8 [' five', ' seven', ' six', ' four', ' three']\n",
            "9 [' six', ' seven', ' five', ' eight', ' nine']\n",
            "10 [' six', ' seven', ' eight', ' ten', ' nine']\n",
            "11 [' six', ' seven', ' eight', ' ten', ' nine']\n",
            "\n",
            "\n",
            "-1 [' challeng', ' mathemat', ' arrang', ' corrid', ' destro']\n",
            "0 [' order', ' the', ' particular', ' a', ' front']\n",
            "1 [' the', ' order', ' a', ' conjunction', ' particular']\n",
            "2 [' the', ' order', ' a', ' front', ' his']\n",
            "3 [' the', ' order', ' accordance', ' his', ' a']\n",
            "4 [' the', ' front', ' order', ' his', ' conjunction']\n",
            "5 [' order', ' front', ' the', ' lieu', ' vain']\n",
            "6 [' three', ' 3', ' two', ' four', ' front']\n",
            "7 [' three', ' four', ' two', ' 3', ' five']\n",
            "8 [' four', ' three', ' five', ' six', ' two']\n",
            "9 [' five', ' four', ' six', ' seven', ' Five']\n",
            "10 [' five', ' six', ' seven', ' four', ' Five']\n",
            "11 [' five', ' six', ' seven', ' four', ' ten']\n",
            "\n",
            "\n",
            "-1 [' challeng', ' mathemat', ' arrang', ' corrid', ' destro']\n",
            "0 [' order', ' the', ' particular', ' a', ' front']\n",
            "1 [' the', ' order', ' a', ' particular', ' conjunction']\n",
            "2 [' the', ' order', ' a', ' front', ' my']\n",
            "3 [' the', ' order', ' accordance', ' his', ' a']\n",
            "4 [' the', ' order', ' front', ' his', ' lieu']\n",
            "5 [' order', ' lieu', ' front', ' the', ' conjunction']\n",
            "6 [' three', ' two', ' 3', ' order', ' front']\n",
            "7 [' three', ' five', ' four', ' two', ' 3']\n",
            "8 [' five', ' four', ' six', ' three', ' seven']\n",
            "9 [' six', ' five', ' seven', ' four', ' eight']\n",
            "10 [' six', ' seven', ' eight', ' ten', ' five']\n",
            "11 [' six', ' seven', ' ten', ' five', ' eight']\n",
            "\n",
            "\n",
            "-1 [' challeng', ' mathemat', ' arrang', ' corrid', ' destro']\n",
            "0 [' order', ' the', ' particular', ' a', ' front']\n",
            "1 [' the', ' order', ' conjunction', ' a', ' particular']\n",
            "2 [' the', ' order', ' a', ' front', ' his']\n",
            "3 [' the', ' order', ' accordance', ' his', ' a']\n",
            "4 [' the', ' order', ' front', ' his', ' conjunction']\n",
            "5 [' order', ' 18', ' the', ' lieu', ' front']\n",
            "6 [' three', ' two', ' 3', ' 5', ' four']\n",
            "7 [' six', ' three', ' five', ' seven', ' four']\n",
            "8 [' six', ' seven', ' five', ' four', ' three']\n",
            "9 [' seven', ' six', ' eight', ' nine', ' 7']\n",
            "10 [' seven', ' eight', ' nine', ' six', ' ten']\n",
            "11 [' seven', ' eight', ' six', ' nine', ' ten']\n",
            "\n",
            "\n",
            "-1 [' challeng', ' mathemat', ' arrang', ' corrid', ' destro']\n",
            "0 [' order', ' the', ' particular', ' a', ' front']\n",
            "1 [' the', ' order', ' a', ' conjunction', ' particular']\n",
            "2 [' the', ' order', ' a', ' front', ' my']\n",
            "3 [' the', ' order', ' accordance', ' a', ' his']\n",
            "4 [' front', ' the', ' order', ' his', ' conjunction']\n",
            "5 [' order', ' front', ' 18', ' the', ' lieu']\n",
            "6 [' three', ' front', ' 5', ' two', ' order']\n",
            "7 [' seven', ' six', ' three', ' five', ' 5']\n",
            "8 [' seven', ' six', ' eight', ' five', ' 7']\n",
            "9 [' eight', ' seven', ' nine', ' 8', ' six']\n",
            "10 [' eight', ' nine', ' twelve', ' ten', ' seven']\n",
            "11 [' eight', ' ten', ' nine', ' twelve', ' seven']\n",
            "\n",
            "\n",
            "-1 [' challeng', ' mathemat', ' arrang', ' corrid', ' destro']\n",
            "0 [' order', ' the', ' particular', ' a', ' front']\n",
            "1 [' the', ' order', ' a', ' particular', ' conjunction']\n",
            "2 [' the', ' order', ' a', ' front', ' conjunction']\n",
            "3 [' the', ' order', ' accordance', ' conjunction', ' a']\n",
            "4 [' front', ' order', ' the', ' conjunction', ' his']\n",
            "5 [' order', ' lieu', ' 18', ' conjunction', ' front']\n",
            "6 [' front', ' lieu', ' three', ' order', ' conjunction']\n",
            "7 [' seven', ' eight', ' nine', ' six', ' three']\n",
            "8 [' eight', ' nine', ' seven', ' five', ' four']\n",
            "9 [' nine', ' eight', ' eleven', ' ten', ' seven']\n",
            "10 [' nine', ' eleven', ' ten', ' thirteen', ' twelve']\n",
            "11 [' nine', ' ten', ' eleven', ' eight', ' twelve']\n",
            "\n",
            "\n",
            "-1 [' challeng', ' mathemat', ' arrang', ' corrid', ' destro']\n",
            "0 [' order', ' the', ' particular', ' a', ' front']\n",
            "1 [' the', ' order', ' particular', ' a', ' conjunction']\n",
            "2 [' the', ' order', ' a', ' my', ' conjunction']\n",
            "3 [' the', ' order', ' accordance', ' his', ' conjunction']\n",
            "4 [' the', ' front', ' order', ' his', ' conjunction']\n",
            "5 [' order', ' 18', ' 17', ' 10', ' front']\n",
            "6 [' 10', ' front', ' 12', ' order', ' 3']\n",
            "7 [' nine', ' eight', ' seven', ' 9', ' 12']\n",
            "8 [' nine', ' eight', ' ten', ' 10', ' seven']\n",
            "9 [' ten', ' 10', ' nine', ' tenth', ' twelve']\n",
            "10 [' ten', ' twelve', ' eleven', ' 10', ' thirteen']\n",
            "11 [' ten', ' 10', ' twelve', ' fifteen', ' eleven']\n",
            "\n",
            "\n",
            "-1 [' challeng', ' mathemat', ' arrang', ' corrid', ' destro']\n",
            "0 [' order', ' the', ' particular', ' a', ' conjunction']\n",
            "1 [' the', ' order', ' a', ' conjunction', ' particular']\n",
            "2 [' the', ' order', ' a', ' accordance', ' conjunction']\n",
            "3 [' the', ' order', ' accordance', ' a', ' his']\n",
            "4 [' the', ' order', ' front', ' his', ' accordance']\n",
            "5 [' order', ' 18', ' lieu', ' 17', ' 10']\n",
            "6 [' 10', ' 12', ' 3', ' three', ' front']\n",
            "7 [' nine', ' ten', ' 10', ' 12', ' 13']\n",
            "8 [' ten', ' 10', ' nine', ' eleven', ' twelve']\n",
            "9 [' eleven', ' twelve', ' ten', ' thirteen', ' 11']\n",
            "10 [' eleven', ' twelve', ' thirteen', ' fifteen', ' fourteen']\n",
            "11 [' eleven', ' twelve', ' thirteen', ' fifteen', ' ten']\n",
            "\n",
            "\n",
            "-1 [' challeng', ' mathemat', ' arrang', ' corrid', ' destro']\n",
            "0 [' order', ' the', ' particular', ' a', ' conjunction']\n",
            "1 [' the', ' order', ' a', ' particular', ' conjunction']\n",
            "2 [' the', ' order', ' a', ' accordance', ' my']\n",
            "3 [' the', ' order', ' accordance', ' a', ' conjunction']\n",
            "4 [' order', ' the', ' front', ' conjunction', ' accordance']\n",
            "5 [' order', ' 18', ' lieu', ' 17', ' front']\n",
            "6 [' front', ' 3', ' order', ' three', ' 2']\n",
            "7 [' nine', ' ten', ' 12', ' eight', ' seven']\n",
            "8 [' eleven', ' ten', ' twelve', ' nine', ' thirteen']\n",
            "9 [' twelve', ' eleven', ' thirteen', ' ten', ' 12']\n",
            "10 [' twelve', ' eleven', ' thirteen', ' fourteen', ' ten']\n",
            "11 [' twelve', ' ten', ' eleven', ' thirteen', ' fourteen']\n",
            "\n",
            "\n",
            "-1 [' challeng', ' mathemat', ' arrang', ' corrid', ' destro']\n",
            "0 [' order', ' the', ' particular', ' a', ' conjunction']\n",
            "1 [' the', ' order', ' a', ' particular', ' conjunction']\n",
            "2 [' the', ' order', ' a', ' front', ' conjunction']\n",
            "3 [' the', ' order', ' accordance', ' conjunction', ' a']\n",
            "4 [' order', ' the', ' front', ' conjunction', ' his']\n",
            "5 [' order', ' conjunction', ' lieu', ' front', ' the']\n",
            "6 [' three', ' two', ' 3', ' conjunction', ' order']\n",
            "7 [' three', ' two', ' four', ' 3', ' five']\n",
            "8 [' four', ' three', ' five', ' two', ' six']\n",
            "9 [' five', ' four', ' six', ' seven', ' Five']\n",
            "10 [' five', ' six', ' seven', ' four', ' Five']\n",
            "11 [' five', ' six', ' seven', ' four', ' ten']\n",
            "\n",
            "\n",
            "-1 [' challeng', ' mathemat', ' arrang', ' corrid', ' destro']\n",
            "0 [' order', ' the', ' particular', ' a', ' conjunction']\n",
            "1 [' the', ' order', ' a', ' particular', ' conjunction']\n",
            "2 [' the', ' order', ' a', ' front', ' my']\n",
            "3 [' the', ' order', ' accordance', ' a', ' his']\n",
            "4 [' order', ' the', ' front', ' conjunction', ' accordance']\n",
            "5 [' order', ' front', ' the', ' 18', ' lieu']\n",
            "6 [' three', ' two', ' 3', ' four', ' 5']\n",
            "7 [' three', ' five', ' two', ' four', ' 3']\n",
            "8 [' five', ' four', ' six', ' three', ' seven']\n",
            "9 [' six', ' five', ' seven', ' four', ' eight']\n",
            "10 [' six', ' seven', ' eight', ' five', ' ten']\n",
            "11 [' six', ' seven', ' five', ' ten', ' eight']\n",
            "\n",
            "\n"
          ]
        }
      ]
    },
    {
      "cell_type": "code",
      "source": [
        "num_corr"
      ],
      "metadata": {
        "colab": {
          "base_uri": "https://localhost:8080/"
        },
        "id": "ljIPcItc0nJM",
        "outputId": "ebfbf445-5f63-49c8-da97-057dc316b411"
      },
      "execution_count": null,
      "outputs": [
        {
          "output_type": "execute_result",
          "data": {
            "text/plain": [
              "28"
            ]
          },
          "metadata": {},
          "execution_count": 85
        }
      ]
    },
    {
      "cell_type": "code",
      "source": [
        "anomolies"
      ],
      "metadata": {
        "colab": {
          "base_uri": "https://localhost:8080/"
        },
        "id": "WLnXrXgS2EYK",
        "outputId": "c3aab3a7-fa79-44af-bbe7-fc2d145ac905"
      },
      "execution_count": null,
      "outputs": [
        {
          "output_type": "execute_result",
          "data": {
            "text/plain": [
              "[{'S1': 'three',\n",
              "  'S2': 'four',\n",
              "  'S3': 'five',\n",
              "  'S4': 'six',\n",
              "  'corr': ' seven',\n",
              "  'incorr': ' six',\n",
              "  'text': 'Ring done in three. Moon done in four. Queen done in five. Book done in six. Rose done in'},\n",
              " {'S1': 'three',\n",
              "  'S2': 'four',\n",
              "  'S3': 'five',\n",
              "  'S4': 'six',\n",
              "  'corr': ' seven',\n",
              "  'incorr': ' six',\n",
              "  'text': 'Wallet lost in three. Jam lost in four. Wall lost in five. Watch lost in six. Train lost in'}]"
            ]
          },
          "metadata": {},
          "execution_count": 86
        }
      ]
    },
    {
      "cell_type": "code",
      "source": [
        "for pd in anomolies:\n",
        "    test_text = pd['text']\n",
        "    layer_logits = get_logits(test_text)\n",
        "    tok_logit_lens = get_decoded_indiv_toks(layer_logits)\n",
        "    for i, tokouts in enumerate(tok_logit_lens):\n",
        "        print(i-1, tokouts)\n",
        "    print('\\n')"
      ],
      "metadata": {
        "colab": {
          "base_uri": "https://localhost:8080/"
        },
        "id": "ylGxYzRq2uTi",
        "outputId": "4fff07d7-aa8d-47e6-cb14-801910504da3"
      },
      "execution_count": null,
      "outputs": [
        {
          "output_type": "stream",
          "name": "stdout",
          "text": [
            "-1 [' challeng', ' mathemat', ' arrang', ' corrid', ' destro']\n",
            "0 [' order', ' the', ' particular', ' a', ' conjunction']\n",
            "1 [' order', ' the', ' conjunction', ' vain', ' particular']\n",
            "2 [' order', ' the', ' vain', ' front', ' conjunction']\n",
            "3 [' order', ' the', ' vain', ' conjunction', ' accordance']\n",
            "4 [' order', ' the', ' relation', ' vain', ' conjunction']\n",
            "5 [' order', ' vain', ' lieu', ' conjunction', ' the']\n",
            "6 [' order', ' three', ' conjunction', ' lieu', ' a']\n",
            "7 [' three', ' five', ' seven', ' nine', ' order']\n",
            "8 [' seven', ' six', ' five', ' four', ' eight']\n",
            "9 [' seven', ' eight', ' six', ' nine', ' seventh']\n",
            "10 [' seven', ' eight', ' nine', ' six', ' nineteen']\n",
            "11 [' seven', ' eight', ' six', ' nine', ' ten']\n",
            "\n",
            "\n",
            "-1 [' challeng', ' mathemat', ' arrang', ' corrid', ' destro']\n",
            "0 [' the', ' order', ' a', ' particular', ' front']\n",
            "1 [' order', ' the', ' a', ' front', ' my']\n",
            "2 [' order', ' the', ' a', ' vain', ' front']\n",
            "3 [' order', ' the', ' vain', ' accordance', ' a']\n",
            "4 [' order', ' vain', ' the', ' spite', ' accordance']\n",
            "5 [' order', ' vain', ' the', ' 3', ' 15']\n",
            "6 [' vain', ' order', ' three', ' 5', ' 3']\n",
            "7 [' vain', ' order', ' three', ' seven', ' five']\n",
            "8 [' seven', ' six', ' five', ' eight', ' nine']\n",
            "9 [' seven', ' eight', ' nine', ' six', ' 7']\n",
            "10 [' seven', ' eight', ' nine', ' nineteen', ' ten']\n",
            "11 [' seven', ' eight', ' nine', ' ten', ' six']\n",
            "\n",
            "\n"
          ]
        }
      ]
    },
    {
      "cell_type": "markdown",
      "source": [
        "# nw 1536- 10 ten anomoly"
      ],
      "metadata": {
        "id": "Q0mYe6pm2-8r"
      }
    },
    {
      "cell_type": "code",
      "source": [
        "import pickle\n",
        "\n",
        "task = \"nw\"\n",
        "prompts_list = []\n",
        "\n",
        "temps = ['done', 'lost', 'names']\n",
        "\n",
        "for i in temps:\n",
        "    file_name = f'/content/{task}_prompts_{i}.pkl'\n",
        "    with open(file_name, 'rb') as file:\n",
        "        filelist = pickle.load(file)\n",
        "\n",
        "    print(filelist[0]['text'])\n",
        "    prompts_list += filelist [:512] #768 512\n",
        "\n",
        "len(prompts_list)"
      ],
      "metadata": {
        "colab": {
          "base_uri": "https://localhost:8080/"
        },
        "outputId": "3d729c3f-2f6f-4f63-8117-89e54e768936",
        "id": "S4L6J5Pp2-80"
      },
      "execution_count": null,
      "outputs": [
        {
          "output_type": "stream",
          "name": "stdout",
          "text": [
            "Van done in one. Hat done in two. Ring done in three. Desk done in four. Sun done in\n",
            "Oil lost in one. Apple lost in two. Tree lost in three. Snow lost in four. Apple lost in\n",
            "Marcus born in one. Victoria born in two. George born in three. Brandon born in four. Jamie born in\n"
          ]
        },
        {
          "output_type": "execute_result",
          "data": {
            "text/plain": [
              "1536"
            ]
          },
          "metadata": {},
          "execution_count": 11
        }
      ]
    },
    {
      "cell_type": "code",
      "source": [
        "num_words = [\"one\", \"two\", \"three\", \"four\", \"five\", \"six\", \"seven\", \"eight\", \"nine\", \"ten\",\n",
        "                 \"eleven\", \"twelve\"]\n",
        "\n",
        "anomolies = []\n",
        "num_corr = 0\n",
        "for pd in prompts_list:\n",
        "    test_text = pd['text']\n",
        "    layer_logits = get_logits(test_text)\n",
        "    tok_logit_lens = get_decoded_indiv_toks(layer_logits)\n",
        "    a = num_words.index(tok_logit_lens[9][0].replace(' ', ''))\n",
        "    b= num_words.index(tok_logit_lens[10][0].replace(' ', ''))\n",
        "    if int(a) < int(b):\n",
        "        if tok_logit_lens[10][0] == pd['corr']:\n",
        "            num_corr += 1\n",
        "        else:\n",
        "            anomolies.append(pd)\n",
        "    else:\n",
        "            anomolies.append(pd)\n",
        "    # for i, tokouts in enumerate(tok_logit_lens):\n",
        "    #     print(i-1, tokouts)\n",
        "    # print('\\n')"
      ],
      "metadata": {
        "colab": {
          "base_uri": "https://localhost:8080/",
          "height": 246
        },
        "outputId": "0b5aa2a7-af0b-4f8c-85b4-ce5355a0ce95",
        "id": "IsLxsDo22-80"
      },
      "execution_count": null,
      "outputs": [
        {
          "output_type": "error",
          "ename": "ValueError",
          "evalue": "ignored",
          "traceback": [
            "\u001b[0;31m---------------------------------------------------------------------------\u001b[0m",
            "\u001b[0;31mValueError\u001b[0m                                Traceback (most recent call last)",
            "\u001b[0;32m<ipython-input-12-177ddb6cc59e>\u001b[0m in \u001b[0;36m<cell line: 6>\u001b[0;34m()\u001b[0m\n\u001b[1;32m      9\u001b[0m     \u001b[0mtok_logit_lens\u001b[0m \u001b[0;34m=\u001b[0m \u001b[0mget_decoded_indiv_toks\u001b[0m\u001b[0;34m(\u001b[0m\u001b[0mlayer_logits\u001b[0m\u001b[0;34m)\u001b[0m\u001b[0;34m\u001b[0m\u001b[0;34m\u001b[0m\u001b[0m\n\u001b[1;32m     10\u001b[0m     \u001b[0ma\u001b[0m \u001b[0;34m=\u001b[0m \u001b[0mnum_words\u001b[0m\u001b[0;34m.\u001b[0m\u001b[0mindex\u001b[0m\u001b[0;34m(\u001b[0m\u001b[0mtok_logit_lens\u001b[0m\u001b[0;34m[\u001b[0m\u001b[0;36m9\u001b[0m\u001b[0;34m]\u001b[0m\u001b[0;34m[\u001b[0m\u001b[0;36m0\u001b[0m\u001b[0;34m]\u001b[0m\u001b[0;34m.\u001b[0m\u001b[0mreplace\u001b[0m\u001b[0;34m(\u001b[0m\u001b[0;34m' '\u001b[0m\u001b[0;34m,\u001b[0m \u001b[0;34m''\u001b[0m\u001b[0;34m)\u001b[0m\u001b[0;34m)\u001b[0m\u001b[0;34m\u001b[0m\u001b[0;34m\u001b[0m\u001b[0m\n\u001b[0;32m---> 11\u001b[0;31m     \u001b[0mb\u001b[0m\u001b[0;34m=\u001b[0m \u001b[0mnum_words\u001b[0m\u001b[0;34m.\u001b[0m\u001b[0mindex\u001b[0m\u001b[0;34m(\u001b[0m\u001b[0mtok_logit_lens\u001b[0m\u001b[0;34m[\u001b[0m\u001b[0;36m10\u001b[0m\u001b[0;34m]\u001b[0m\u001b[0;34m[\u001b[0m\u001b[0;36m0\u001b[0m\u001b[0;34m]\u001b[0m\u001b[0;34m.\u001b[0m\u001b[0mreplace\u001b[0m\u001b[0;34m(\u001b[0m\u001b[0;34m' '\u001b[0m\u001b[0;34m,\u001b[0m \u001b[0;34m''\u001b[0m\u001b[0;34m)\u001b[0m\u001b[0;34m)\u001b[0m\u001b[0;34m\u001b[0m\u001b[0;34m\u001b[0m\u001b[0m\n\u001b[0m\u001b[1;32m     12\u001b[0m     \u001b[0;32mif\u001b[0m \u001b[0mint\u001b[0m\u001b[0;34m(\u001b[0m\u001b[0ma\u001b[0m\u001b[0;34m)\u001b[0m \u001b[0;34m<\u001b[0m \u001b[0mint\u001b[0m\u001b[0;34m(\u001b[0m\u001b[0mb\u001b[0m\u001b[0;34m)\u001b[0m\u001b[0;34m:\u001b[0m\u001b[0;34m\u001b[0m\u001b[0;34m\u001b[0m\u001b[0m\n\u001b[1;32m     13\u001b[0m         \u001b[0;32mif\u001b[0m \u001b[0mtok_logit_lens\u001b[0m\u001b[0;34m[\u001b[0m\u001b[0;36m10\u001b[0m\u001b[0;34m]\u001b[0m\u001b[0;34m[\u001b[0m\u001b[0;36m0\u001b[0m\u001b[0;34m]\u001b[0m \u001b[0;34m==\u001b[0m \u001b[0mpd\u001b[0m\u001b[0;34m[\u001b[0m\u001b[0;34m'corr'\u001b[0m\u001b[0;34m]\u001b[0m\u001b[0;34m:\u001b[0m\u001b[0;34m\u001b[0m\u001b[0;34m\u001b[0m\u001b[0m\n",
            "\u001b[0;31mValueError\u001b[0m: '10' is not in list"
          ]
        }
      ]
    },
    {
      "cell_type": "code",
      "source": [
        "pd"
      ],
      "metadata": {
        "colab": {
          "base_uri": "https://localhost:8080/"
        },
        "id": "pDeO5wEY4D4X",
        "outputId": "8d68c72f-abd3-4357-be46-bab84fe89704"
      },
      "execution_count": null,
      "outputs": [
        {
          "output_type": "execute_result",
          "data": {
            "text/plain": [
              "{'S1': 'six',\n",
              " 'S2': 'seven',\n",
              " 'S3': 'eight',\n",
              " 'S4': 'nine',\n",
              " 'corr': ' ten',\n",
              " 'incorr': ' nine',\n",
              " 'text': 'Tree done in six. Ball done in seven. Wallet done in eight. Tree done in nine. Apple done in'}"
            ]
          },
          "metadata": {},
          "execution_count": 14
        }
      ]
    },
    {
      "cell_type": "code",
      "source": [
        "tok_logit_lens"
      ],
      "metadata": {
        "colab": {
          "base_uri": "https://localhost:8080/"
        },
        "id": "GmQNb9cW3_VG",
        "outputId": "ca9d97e7-521e-46a8-a76d-c524c4370066"
      },
      "execution_count": null,
      "outputs": [
        {
          "output_type": "execute_result",
          "data": {
            "text/plain": [
              "[[' challeng', ' mathemat', ' arrang', ' corrid', ' destro'],\n",
              " [' order', ' the', ' particular', ' a', ' front'],\n",
              " [' order', ' the', ' conjunction', ' particular', ' vain'],\n",
              " [' order', ' the', ' front', ' conjunction', ' vain'],\n",
              " [' order', ' the', ' conjunction', ' vain', ' accordance'],\n",
              " [' order', ' vain', ' conjunction', ' the', ' front'],\n",
              " [' order', ' conjunction', ' vain', ' lieu', ' the'],\n",
              " [' order', ' conjunction', ' vain', ' lieu', ' 15'],\n",
              " [' order', ' 12', ' 17', ' vain', ' 13'],\n",
              " [' nine', ' eight', ' seven', ' 10', ' ten'],\n",
              " [' 10', ' ten', ' tenth', ' nine', ' twelve'],\n",
              " [' ten', ' 10', ' twelve', ' eleven', ' fifteen'],\n",
              " [' ten', ' 10', ' a', ' fifteen', ' twenty']]"
            ]
          },
          "metadata": {},
          "execution_count": 13
        }
      ]
    },
    {
      "cell_type": "code",
      "source": [
        "num_corr"
      ],
      "metadata": {
        "id": "fbVIySKS2-80"
      },
      "execution_count": null,
      "outputs": []
    },
    {
      "cell_type": "code",
      "source": [
        "# anomolies"
      ],
      "metadata": {
        "id": "dH9ZllnW2-80"
      },
      "execution_count": null,
      "outputs": []
    },
    {
      "cell_type": "code",
      "source": [
        "# for pd in anomolies:\n",
        "#     test_text = pd['text']\n",
        "#     layer_logits = get_logits(test_text)\n",
        "#     tok_logit_lens = get_decoded_indiv_toks(layer_logits)\n",
        "#     for i, tokouts in enumerate(tok_logit_lens):\n",
        "#         print(i-1, tokouts)\n",
        "#     print('\\n')"
      ],
      "metadata": {
        "id": "AB67GjYq2-80"
      },
      "execution_count": null,
      "outputs": []
    },
    {
      "cell_type": "markdown",
      "source": [
        "# nw- 1536 prompts"
      ],
      "metadata": {
        "id": "94HIbpUg4WBr"
      }
    },
    {
      "cell_type": "code",
      "source": [
        "import pickle\n",
        "\n",
        "task = \"nw\"\n",
        "prompts_list = []\n",
        "\n",
        "temps = ['done', 'lost', 'names']\n",
        "\n",
        "for i in temps:\n",
        "    file_name = f'/content/{task}_prompts_{i}.pkl'\n",
        "    with open(file_name, 'rb') as file:\n",
        "        filelist = pickle.load(file)\n",
        "\n",
        "    print(filelist[0]['text'])\n",
        "    prompts_list += filelist [:512] #768 512\n",
        "\n",
        "len(prompts_list)"
      ],
      "metadata": {
        "colab": {
          "base_uri": "https://localhost:8080/"
        },
        "outputId": "3d729c3f-2f6f-4f63-8117-89e54e768936",
        "id": "sp8q-yaR4WB4"
      },
      "execution_count": null,
      "outputs": [
        {
          "output_type": "stream",
          "name": "stdout",
          "text": [
            "Van done in one. Hat done in two. Ring done in three. Desk done in four. Sun done in\n",
            "Oil lost in one. Apple lost in two. Tree lost in three. Snow lost in four. Apple lost in\n",
            "Marcus born in one. Victoria born in two. George born in three. Brandon born in four. Jamie born in\n"
          ]
        },
        {
          "output_type": "execute_result",
          "data": {
            "text/plain": [
              "1536"
            ]
          },
          "metadata": {},
          "execution_count": 11
        }
      ]
    },
    {
      "cell_type": "code",
      "source": [
        "num_words = [\"one\", \"two\", \"three\", \"four\", \"five\", \"six\", \"seven\", \"eight\", \"nine\", \"ten\",\n",
        "                 \"eleven\", \"twelve\"]\n",
        "\n",
        "anomolies = []\n",
        "num_corr = 0\n",
        "for pd in prompts_list:\n",
        "    test_text = pd['text']\n",
        "    layer_logits = get_logits(test_text)\n",
        "    tok_logit_lens = get_decoded_indiv_toks(layer_logits)\n",
        "    try:\n",
        "        a = num_words.index(tok_logit_lens[9][0].replace(' ', ''))\n",
        "        b= num_words.index(tok_logit_lens[10][0].replace(' ', ''))\n",
        "        if int(a) < int(b):\n",
        "            if tok_logit_lens[10][0] == pd['corr']:\n",
        "                num_corr += 1\n",
        "            else:\n",
        "                anomolies.append(pd)\n",
        "        else:\n",
        "                anomolies.append(pd)\n",
        "    except:\n",
        "        anomolies.append(pd)\n",
        "    # for i, tokouts in enumerate(tok_logit_lens):\n",
        "    #     print(i-1, tokouts)\n",
        "    # print('\\n')"
      ],
      "metadata": {
        "id": "WUPrQKBJ4WB4"
      },
      "execution_count": null,
      "outputs": []
    },
    {
      "cell_type": "code",
      "source": [
        "num_corr"
      ],
      "metadata": {
        "colab": {
          "base_uri": "https://localhost:8080/"
        },
        "id": "fqIX6Jeu4WB5",
        "outputId": "a77e5cdf-664a-4125-e7dc-b266a90d9279"
      },
      "execution_count": null,
      "outputs": [
        {
          "output_type": "execute_result",
          "data": {
            "text/plain": [
              "1396"
            ]
          },
          "metadata": {},
          "execution_count": 16
        }
      ]
    },
    {
      "cell_type": "code",
      "source": [
        "len(prompts_list)"
      ],
      "metadata": {
        "colab": {
          "base_uri": "https://localhost:8080/"
        },
        "id": "saasGjkx8Fp0",
        "outputId": "c87fc37d-18a8-4ff3-e8d3-7dce70c85ebb"
      },
      "execution_count": null,
      "outputs": [
        {
          "output_type": "execute_result",
          "data": {
            "text/plain": [
              "1536"
            ]
          },
          "metadata": {},
          "execution_count": 23
        }
      ]
    },
    {
      "cell_type": "code",
      "source": [
        "anomolies[0]"
      ],
      "metadata": {
        "colab": {
          "base_uri": "https://localhost:8080/"
        },
        "id": "ZAWmYGT04WB6",
        "outputId": "c70e6f18-e9e5-48f5-adea-525723ca2acc"
      },
      "execution_count": null,
      "outputs": [
        {
          "output_type": "execute_result",
          "data": {
            "text/plain": [
              "{'S1': 'three',\n",
              " 'S2': 'four',\n",
              " 'S3': 'five',\n",
              " 'S4': 'six',\n",
              " 'corr': ' seven',\n",
              " 'incorr': ' six',\n",
              " 'text': 'Ring done in three. Moon done in four. Queen done in five. Book done in six. Rose done in'}"
            ]
          },
          "metadata": {},
          "execution_count": 28
        }
      ]
    },
    {
      "cell_type": "code",
      "source": [
        "anomolies[-1]"
      ],
      "metadata": {
        "colab": {
          "base_uri": "https://localhost:8080/"
        },
        "id": "N9mmVtQN9dIW",
        "outputId": "f0166a47-13e8-459c-9d89-838f6f6b11b4"
      },
      "execution_count": null,
      "outputs": [
        {
          "output_type": "execute_result",
          "data": {
            "text/plain": [
              "{'S1': 'six',\n",
              " 'S2': 'seven',\n",
              " 'S3': 'eight',\n",
              " 'S4': 'nine',\n",
              " 'corr': ' ten',\n",
              " 'incorr': ' nine',\n",
              " 'text': 'Marcus born in six. April born in seven. Ryan born in eight. Jeremy born in nine. Jim born in'}"
            ]
          },
          "metadata": {},
          "execution_count": 29
        }
      ]
    },
    {
      "cell_type": "code",
      "source": [
        "for pd in anomolies[:2]:\n",
        "    test_text = pd['text']\n",
        "    layer_logits = get_logits(test_text)\n",
        "    tok_logit_lens = get_decoded_indiv_toks(layer_logits)\n",
        "    for i, tokouts in enumerate(tok_logit_lens):\n",
        "        print(i-1, tokouts)\n",
        "    print('\\n')"
      ],
      "metadata": {
        "colab": {
          "base_uri": "https://localhost:8080/"
        },
        "id": "O04ndqvY4WB6",
        "outputId": "c94e835f-b8f3-4ce4-90ac-c638a05e2f1d"
      },
      "execution_count": null,
      "outputs": [
        {
          "output_type": "stream",
          "name": "stdout",
          "text": [
            "-1 [' challeng', ' mathemat', ' arrang', ' corrid', ' destro']\n",
            "0 [' order', ' the', ' particular', ' a', ' conjunction']\n",
            "1 [' order', ' the', ' conjunction', ' vain', ' particular']\n",
            "2 [' order', ' the', ' vain', ' front', ' conjunction']\n",
            "3 [' order', ' the', ' vain', ' conjunction', ' accordance']\n",
            "4 [' order', ' the', ' relation', ' vain', ' conjunction']\n",
            "5 [' order', ' vain', ' lieu', ' conjunction', ' the']\n",
            "6 [' order', ' three', ' conjunction', ' lieu', ' a']\n",
            "7 [' three', ' five', ' seven', ' nine', ' order']\n",
            "8 [' seven', ' six', ' five', ' four', ' eight']\n",
            "9 [' seven', ' eight', ' six', ' nine', ' seventh']\n",
            "10 [' seven', ' eight', ' nine', ' six', ' nineteen']\n",
            "11 [' seven', ' eight', ' six', ' nine', ' ten']\n",
            "\n",
            "\n",
            "-1 [' challeng', ' mathemat', ' arrang', ' corrid', ' destro']\n",
            "0 [' order', ' the', ' particular', ' a', ' front']\n",
            "1 [' order', ' the', ' conjunction', ' vain', ' particular']\n",
            "2 [' order', ' the', ' vain', ' conjunction', ' front']\n",
            "3 [' order', ' vain', ' the', ' accordance', ' conjunction']\n",
            "4 [' order', ' vain', ' the', ' relation', ' lieu']\n",
            "5 [' order', ' vain', ' lieu', ' the', ' conjunction']\n",
            "6 [' order', ' three', ' vain', ' lieu', ' conjunction']\n",
            "7 [' three', ' five', ' seven', ' order', ' four']\n",
            "8 [' seven', ' six', ' five', ' three', ' four']\n",
            "9 [' seven', ' eight', ' six', ' nine', ' twelve']\n",
            "10 [' seven', ' eight', ' nine', ' six', ' nineteen']\n",
            "11 [' seven', ' eight', ' six', ' nine', ' ten']\n",
            "\n",
            "\n"
          ]
        }
      ]
    },
    {
      "cell_type": "code",
      "source": [
        "for pd in anomolies[-2:]:\n",
        "    test_text = pd['text']\n",
        "    layer_logits = get_logits(test_text)\n",
        "    tok_logit_lens = get_decoded_indiv_toks(layer_logits)\n",
        "    for i, tokouts in enumerate(tok_logit_lens):\n",
        "        print(i-1, tokouts)\n",
        "    print('\\n')"
      ],
      "metadata": {
        "colab": {
          "base_uri": "https://localhost:8080/"
        },
        "id": "eYXFQ61E4WB6",
        "outputId": "2c1ddcb2-1ab3-4e5e-ef0f-9481c86a5a4c"
      },
      "execution_count": null,
      "outputs": [
        {
          "output_type": "stream",
          "name": "stdout",
          "text": [
            "-1 [' challeng', ' mathemat', ' arrang', ' corrid', ' destro']\n",
            "0 [' order', ' the', ' particular', ' a', ' front']\n",
            "1 [' the', ' order', ' a', ' conjunction', ' particular']\n",
            "2 [' the', ' order', ' a', ' conjunction', ' front']\n",
            "3 [' the', ' order', ' accordance', ' conjunction', ' a']\n",
            "4 [' the', ' front', ' order', ' conjunction', ' his']\n",
            "5 [' order', ' 18', ' 17', ' front', ' conjunction']\n",
            "6 [' front', ' 10', ' order', ' 3', ' three']\n",
            "7 [' nine', ' seven', ' 9', ' eight', ' 12']\n",
            "8 [' nine', ' eight', ' 10', ' ten', ' seven']\n",
            "9 [' 10', ' ten', ' nine', ' twelve', ' tenth']\n",
            "10 [' ten', ' twelve', ' eleven', ' 10', ' thirteen']\n",
            "11 [' ten', ' 10', ' twelve', ' eleven', ' fifteen']\n",
            "\n",
            "\n",
            "-1 [' challeng', ' mathemat', ' arrang', ' corrid', ' destro']\n",
            "0 [' order', ' the', ' particular', ' a', ' conjunction']\n",
            "1 [' the', ' order', ' particular', ' conjunction', ' a']\n",
            "2 [' the', ' order', ' a', ' conjunction', ' front']\n",
            "3 [' the', ' order', ' accordance', ' his', ' conjunction']\n",
            "4 [' the', ' order', ' front', ' his', ' conjunction']\n",
            "5 [' order', ' 18', ' front', ' late', ' the']\n",
            "6 [' 10', ' order', ' front', ' 3', ' three']\n",
            "7 [' nine', ' eight', ' seven', ' 9', ' 10']\n",
            "8 [' nine', ' eight', ' 10', ' ten', ' seven']\n",
            "9 [' 10', ' ten', ' nine', ' eight', ' tenth']\n",
            "10 [' ten', ' twelve', ' 10', ' eleven', ' nine']\n",
            "11 [' ten', ' 10', ' twelve', ' nine', ' eleven']\n",
            "\n",
            "\n"
          ]
        }
      ]
    },
    {
      "cell_type": "code",
      "source": [],
      "metadata": {
        "id": "dUEjYJu577cM"
      },
      "execution_count": null,
      "outputs": []
    },
    {
      "cell_type": "markdown",
      "source": [
        "# months 1536"
      ],
      "metadata": {
        "id": "s-QkY-fyCKcD"
      }
    },
    {
      "cell_type": "code",
      "source": [
        "import pickle\n",
        "\n",
        "task = \"months\"\n",
        "prompts_list = []\n",
        "\n",
        "temps = ['done', 'lost', 'names']\n",
        "\n",
        "for i in temps:\n",
        "    file_name = f'/content/{task}_prompts_{i}.pkl'\n",
        "    with open(file_name, 'rb') as file:\n",
        "        filelist = pickle.load(file)\n",
        "\n",
        "    print(filelist[0]['text'])\n",
        "    prompts_list += filelist [:512] #768 512\n",
        "\n",
        "len(prompts_list)"
      ],
      "metadata": {
        "colab": {
          "base_uri": "https://localhost:8080/"
        },
        "outputId": "bd9dd59e-b86f-4cec-dd88-d870ca4a3c22",
        "id": "TCfo2ZlOCKcJ"
      },
      "execution_count": null,
      "outputs": [
        {
          "output_type": "stream",
          "name": "stdout",
          "text": [
            "Van done in January. Hat done in February. Ring done in March. Desk done in April. Sun done in\n",
            "Oil lost in January. Apple lost in February. Tree lost in March. Snow lost in April. Apple lost in\n",
            "Marcus born in January. Victoria born in February. George born in March. Brandon born in April. Jamie born in\n"
          ]
        },
        {
          "output_type": "execute_result",
          "data": {
            "text/plain": [
              "1536"
            ]
          },
          "metadata": {},
          "execution_count": 58
        }
      ]
    },
    {
      "cell_type": "code",
      "source": [
        "num_words = ['January', 'February', 'March', 'April', 'May', 'June', 'July', 'August', 'September', 'October', 'November', 'December']\n",
        "\n",
        "anomolies = []\n",
        "num_corr = 0\n",
        "for pd in prompts_list:\n",
        "    test_text = pd['text']\n",
        "    layer_logits = get_logits(test_text)\n",
        "    tok_logit_lens = get_decoded_indiv_toks(layer_logits)\n",
        "    try:\n",
        "        a = num_words.index(tok_logit_lens[9][0].replace(' ', ''))\n",
        "        b= num_words.index(tok_logit_lens[10][0].replace(' ', ''))\n",
        "        if int(a) < int(b):\n",
        "            if tok_logit_lens[10][0] == pd['corr']:\n",
        "                num_corr += 1\n",
        "            else:\n",
        "                anomolies.append(pd)\n",
        "        else:\n",
        "                anomolies.append(pd)\n",
        "    except:\n",
        "        anomolies.append(pd)\n",
        "    # for i, tokouts in enumerate(tok_logit_lens):\n",
        "    #     print(i-1, tokouts)\n",
        "    # print('\\n')"
      ],
      "metadata": {
        "id": "qgzLP9dRCKcJ"
      },
      "execution_count": null,
      "outputs": []
    },
    {
      "cell_type": "code",
      "source": [
        "num_corr"
      ],
      "metadata": {
        "colab": {
          "base_uri": "https://localhost:8080/"
        },
        "outputId": "594b425b-aad1-4a21-da2f-e4e44d025a49",
        "id": "2L2mPRRACKcJ"
      },
      "execution_count": null,
      "outputs": [
        {
          "output_type": "execute_result",
          "data": {
            "text/plain": [
              "1495"
            ]
          },
          "metadata": {},
          "execution_count": 60
        }
      ]
    },
    {
      "cell_type": "code",
      "source": [
        "len(prompts_list)"
      ],
      "metadata": {
        "colab": {
          "base_uri": "https://localhost:8080/"
        },
        "outputId": "b2fc1b06-2d1f-4352-8643-d663a53f28a4",
        "id": "_paDtxruCKcJ"
      },
      "execution_count": null,
      "outputs": [
        {
          "output_type": "execute_result",
          "data": {
            "text/plain": [
              "1536"
            ]
          },
          "metadata": {},
          "execution_count": 61
        }
      ]
    },
    {
      "cell_type": "code",
      "source": [
        "anomolies[0]"
      ],
      "metadata": {
        "colab": {
          "base_uri": "https://localhost:8080/"
        },
        "outputId": "45f9922f-16ef-444f-921c-ee9faad9cb74",
        "id": "VKWahT_bCKcJ"
      },
      "execution_count": null,
      "outputs": [
        {
          "output_type": "execute_result",
          "data": {
            "text/plain": [
              "{'S1': 'May',\n",
              " 'S2': 'June',\n",
              " 'S3': 'July',\n",
              " 'S4': 'August',\n",
              " 'corr': ' September',\n",
              " 'incorr': ' August',\n",
              " 'text': 'Light done in May. Arm done in June. Road done in July. Book done in August. Ice done in'}"
            ]
          },
          "metadata": {},
          "execution_count": 62
        }
      ]
    },
    {
      "cell_type": "code",
      "source": [
        "anomolies[-1]"
      ],
      "metadata": {
        "colab": {
          "base_uri": "https://localhost:8080/"
        },
        "outputId": "118ecff9-43bb-40ed-87ae-2f2a7f045ef2",
        "id": "BU5gX_wlCKcJ"
      },
      "execution_count": null,
      "outputs": [
        {
          "output_type": "execute_result",
          "data": {
            "text/plain": [
              "{'S1': 'May',\n",
              " 'S2': 'June',\n",
              " 'S3': 'July',\n",
              " 'S4': 'August',\n",
              " 'corr': ' September',\n",
              " 'incorr': ' August',\n",
              " 'text': 'Aaron born in May. Chris born in June. Elizabeth born in July. April born in August. Gene born in'}"
            ]
          },
          "metadata": {},
          "execution_count": 63
        }
      ]
    },
    {
      "cell_type": "code",
      "source": [
        "for pd in anomolies[:2]:\n",
        "    test_text = pd['text']\n",
        "    layer_logits = get_logits(test_text)\n",
        "    tok_logit_lens = get_decoded_indiv_toks(layer_logits)\n",
        "    for i, tokouts in enumerate(tok_logit_lens):\n",
        "        print(i-1, tokouts)\n",
        "    print('\\n')"
      ],
      "metadata": {
        "colab": {
          "base_uri": "https://localhost:8080/"
        },
        "outputId": "ffbbc3f2-3666-4242-8b2e-fb84f8b0d01f",
        "id": "XUmQ6MiqCKcK"
      },
      "execution_count": null,
      "outputs": [
        {
          "output_type": "stream",
          "name": "stdout",
          "text": [
            "-1 [' challeng', ' mathemat', ' arrang', ' corrid', ' destro']\n",
            "0 [' order', ' the', ' particular', ' a', ' conjunction']\n",
            "1 [' order', ' the', ' conjunction', ' particular', ' vain']\n",
            "2 [' order', ' the', ' conjunction', ' vain', ' accordance']\n",
            "3 [' order', ' the', ' vain', ' accordance', ' conjunction']\n",
            "4 [' order', ' the', ' conjunction', ' accordance', ' vain']\n",
            "5 [' order', ' lieu', ' vain', ' late', ' conjunction']\n",
            "6 [' order', ' lieu', ' June', ' conjunction', ' late']\n",
            "7 [' June', ' September', ' May', ' March', ' July']\n",
            "8 [' September', ' August', ' July', ' June', ' October']\n",
            "9 [' September', ' October', ' November', ' August', ' Sept']\n",
            "10 [' September', ' October', ' November', ' August', ' December']\n",
            "11 [' September', ' October', ' November', ' August', ' December']\n",
            "\n",
            "\n",
            "-1 [' challeng', ' mathemat', ' arrang', ' corrid', ' destro']\n",
            "0 [' order', ' the', ' particular', ' a', ' conjunction']\n",
            "1 [' order', ' the', ' conjunction', ' particular', ' my']\n",
            "2 [' order', ' the', ' conjunction', ' accordance', ' vain']\n",
            "3 [' order', ' the', ' accordance', ' conjunction', ' vain']\n",
            "4 [' order', ' conjunction', ' accordance', ' the', ' lieu']\n",
            "5 [' order', ' lieu', ' accordance', ' conjunction', ' vain']\n",
            "6 [' order', ' lieu', ' conjunction', ' accordance', ' June']\n",
            "7 [' June', ' September', ' July', ' March', ' February']\n",
            "8 [' September', ' August', ' July', ' November', ' October']\n",
            "9 [' September', ' October', ' November', ' August', ' December']\n",
            "10 [' September', ' October', ' November', ' August', ' December']\n",
            "11 [' September', ' October', ' November', ' August', ' December']\n",
            "\n",
            "\n"
          ]
        }
      ]
    },
    {
      "cell_type": "code",
      "source": [
        "for pd in anomolies[-2:]:\n",
        "    test_text = pd['text']\n",
        "    layer_logits = get_logits(test_text)\n",
        "    tok_logit_lens = get_decoded_indiv_toks(layer_logits)\n",
        "    for i, tokouts in enumerate(tok_logit_lens):\n",
        "        print(i-1, tokouts)\n",
        "    print('\\n')"
      ],
      "metadata": {
        "colab": {
          "base_uri": "https://localhost:8080/"
        },
        "outputId": "c6a2facc-9e73-4258-b52e-517cd45c5183",
        "id": "QMBLiI1FCKcK"
      },
      "execution_count": null,
      "outputs": [
        {
          "output_type": "stream",
          "name": "stdout",
          "text": [
            "-1 [' challeng', ' mathemat', ' arrang', ' corrid', ' destro']\n",
            "0 [' order', ' the', ' particular', ' a', ' conjunction']\n",
            "1 [' order', ' the', ' conjunction', ' particular', ' a']\n",
            "2 [' the', ' order', ' a', ' accordance', ' front']\n",
            "3 [' the', ' order', ' accordance', ' a', ' his']\n",
            "4 [' front', ' the', ' order', ' conjunction', ' his']\n",
            "5 [' order', ' lieu', ' late', ' 1968', ' front']\n",
            "6 [' lieu', ' order', ' June', ' conjunction', ' front']\n",
            "7 [' June', ' September', ' August', ' July', ' May']\n",
            "8 [' September', ' August', ' July', ' October', ' November']\n",
            "9 [' September', ' October', ' November', ' December', ' August']\n",
            "10 [' September', ' October', ' November', ' December', ' August']\n",
            "11 [' September', ' October', ' November', ' December', ' January']\n",
            "\n",
            "\n",
            "-1 [' challeng', ' mathemat', ' arrang', ' corrid', ' destro']\n",
            "0 [' order', ' the', ' particular', ' a', ' conjunction']\n",
            "1 [' order', ' the', ' conjunction', ' particular', ' a']\n",
            "2 [' order', ' the', ' a', ' accordance', ' conjunction']\n",
            "3 [' the', ' order', ' accordance', ' a', ' conjunction']\n",
            "4 [' the', ' order', ' front', ' accordance', ' conjunction']\n",
            "5 [' order', ' lieu', ' late', ' 1976', ' 1968']\n",
            "6 [' lieu', ' order', ' 2009', ' June', ' 1998']\n",
            "7 [' June', ' July', ' September', ' May', ' August']\n",
            "8 [' September', ' August', ' July', ' November', ' October']\n",
            "9 [' September', ' October', ' November', ' December', ' Sept']\n",
            "10 [' September', ' October', ' November', ' December', ' January']\n",
            "11 [' September', ' October', ' November', ' December', ' January']\n",
            "\n",
            "\n"
          ]
        }
      ]
    },
    {
      "cell_type": "code",
      "source": [],
      "metadata": {
        "id": "5JSKejZ-CKcK"
      },
      "execution_count": null,
      "outputs": []
    },
    {
      "cell_type": "markdown",
      "source": [
        "# numerals 1536"
      ],
      "metadata": {
        "id": "_EyD-MhKG0K0"
      }
    },
    {
      "cell_type": "code",
      "source": [
        "import pickle\n",
        "\n",
        "task = \"digits\"\n",
        "prompts_list = []\n",
        "\n",
        "temps = ['done', 'lost', 'names']\n",
        "\n",
        "for i in temps:\n",
        "    file_name = f'/content/{task}_prompts_{i}.pkl'\n",
        "    with open(file_name, 'rb') as file:\n",
        "        filelist = pickle.load(file)\n",
        "\n",
        "    print(filelist[0]['text'])\n",
        "    prompts_list += filelist [:512] #768 512\n",
        "\n",
        "len(prompts_list)"
      ],
      "metadata": {
        "colab": {
          "base_uri": "https://localhost:8080/"
        },
        "outputId": "df5fc44a-57b4-4556-f140-17610ce97be4",
        "id": "yRZMKMiYG0K0"
      },
      "execution_count": null,
      "outputs": [
        {
          "output_type": "stream",
          "name": "stdout",
          "text": [
            "Van done in 1. Hat done in 2. Ring done in 3. Desk done in 4. Sun done in\n",
            "Oil lost in 1. Apple lost in 2. Tree lost in 3. Snow lost in 4. Apple lost in\n",
            "Marcus born in 1. Victoria born in 2. George born in 3. Brandon born in 4. Jamie born in\n"
          ]
        },
        {
          "output_type": "execute_result",
          "data": {
            "text/plain": [
              "1536"
            ]
          },
          "metadata": {},
          "execution_count": 11
        }
      ]
    },
    {
      "cell_type": "code",
      "source": [
        "num_corr = 0\n",
        "anomolies = []\n",
        "for pd in prompts_list:\n",
        "    test_text = pd['text']\n",
        "    layer_logits = get_logits(test_text)\n",
        "    tok_logit_lens = get_decoded_indiv_toks(layer_logits)\n",
        "    try:\n",
        "        a = tok_logit_lens[9][0].replace(' ', '')\n",
        "        b= tok_logit_lens[10][0].replace(' ', '')\n",
        "        if int(a) < int(b):\n",
        "            if tok_logit_lens[10][0] == pd['corr']:\n",
        "                num_corr += 1\n",
        "            else:\n",
        "                anomolies.append(pd)\n",
        "        else:\n",
        "                anomolies.append(pd)\n",
        "    except:\n",
        "        anomolies.append(pd)\n",
        "    # for i, tokouts in enumerate(tok_logit_lens):\n",
        "    #     print(i-1, tokouts)\n",
        "    # print('\\n')\n",
        "num_corr"
      ],
      "metadata": {
        "colab": {
          "base_uri": "https://localhost:8080/"
        },
        "id": "1ZAUrGs8HCY3",
        "outputId": "32693da4-d214-4149-db86-7e2968d1451d"
      },
      "execution_count": null,
      "outputs": [
        {
          "output_type": "execute_result",
          "data": {
            "text/plain": [
              "1531"
            ]
          },
          "metadata": {},
          "execution_count": 12
        }
      ]
    },
    {
      "cell_type": "code",
      "source": [
        "num_corr"
      ],
      "metadata": {
        "colab": {
          "base_uri": "https://localhost:8080/"
        },
        "outputId": "343e4723-83ea-48f6-a603-2f59c54665a5",
        "id": "CHOa5D3qG0K1"
      },
      "execution_count": null,
      "outputs": [
        {
          "output_type": "execute_result",
          "data": {
            "text/plain": [
              "1531"
            ]
          },
          "metadata": {},
          "execution_count": 13
        }
      ]
    },
    {
      "cell_type": "code",
      "source": [
        "len(prompts_list)"
      ],
      "metadata": {
        "colab": {
          "base_uri": "https://localhost:8080/"
        },
        "outputId": "874a9cb6-1a8d-4764-924b-6d6e1dbc9c05",
        "id": "LlBmRoDHG0K1"
      },
      "execution_count": null,
      "outputs": [
        {
          "output_type": "execute_result",
          "data": {
            "text/plain": [
              "1536"
            ]
          },
          "metadata": {},
          "execution_count": 14
        }
      ]
    },
    {
      "cell_type": "code",
      "source": [
        "anomolies[0]"
      ],
      "metadata": {
        "colab": {
          "base_uri": "https://localhost:8080/"
        },
        "outputId": "b7c56317-6a91-42dc-8a08-b9b85e0eb135",
        "id": "_S41iEXXG0K1"
      },
      "execution_count": null,
      "outputs": [
        {
          "output_type": "execute_result",
          "data": {
            "text/plain": [
              "{'S1': '3',\n",
              " 'S2': '4',\n",
              " 'S3': '5',\n",
              " 'S4': '6',\n",
              " 'corr': ' 7',\n",
              " 'incorr': ' 6',\n",
              " 'text': 'Orange done in 3. Ocean done in 4. Sun done in 5. Bug done in 6. Queen done in'}"
            ]
          },
          "metadata": {},
          "execution_count": 15
        }
      ]
    },
    {
      "cell_type": "code",
      "source": [
        "anomolies[-1]"
      ],
      "metadata": {
        "colab": {
          "base_uri": "https://localhost:8080/"
        },
        "outputId": "903f6080-5a80-44c8-837a-3faf517f7d33",
        "id": "mdr83UMmG0K1"
      },
      "execution_count": null,
      "outputs": [
        {
          "output_type": "execute_result",
          "data": {
            "text/plain": [
              "{'S1': '3',\n",
              " 'S2': '4',\n",
              " 'S3': '5',\n",
              " 'S4': '6',\n",
              " 'corr': ' 7',\n",
              " 'incorr': ' 6',\n",
              " 'text': 'Lake lost in 3. Ear lost in 4. Key lost in 5. Hat lost in 6. Fire lost in'}"
            ]
          },
          "metadata": {},
          "execution_count": 16
        }
      ]
    },
    {
      "cell_type": "code",
      "source": [
        "for pd in anomolies[:2]:\n",
        "    test_text = pd['text']\n",
        "    layer_logits = get_logits(test_text)\n",
        "    tok_logit_lens = get_decoded_indiv_toks(layer_logits)\n",
        "    for i, tokouts in enumerate(tok_logit_lens):\n",
        "        print(i-1, tokouts)\n",
        "    print('\\n')"
      ],
      "metadata": {
        "colab": {
          "base_uri": "https://localhost:8080/"
        },
        "outputId": "33dadcce-cd49-4d77-e8a7-8e6800c8cbb6",
        "id": "RIOkJgkbG0K1"
      },
      "execution_count": null,
      "outputs": [
        {
          "output_type": "stream",
          "name": "stdout",
          "text": [
            "-1 [' challeng', ' mathemat', ' arrang', ' corrid', ' destro']\n",
            "0 [' order', ' the', ' particular', ' conjunction', ' a']\n",
            "1 [' order', ' the', ' conjunction', ' particular', ' a']\n",
            "2 [' order', ' the', ' vain', ' front', ' conjunction']\n",
            "3 [' order', ' the', ' vain', ' conjunction', ' front']\n",
            "4 [' order', ' the', ' conjunction', ' vain', ' spite']\n",
            "5 [' order', ' conjunction', ' 3', ' vain', ' 15']\n",
            "6 [' 3', ' 5', ' 2', ' 4', ' 7']\n",
            "7 [' 3', ' 5', ' 7', ' 4', ' 2']\n",
            "8 [' 7', ' 6', ' 5', ' 8', ' 1']\n",
            "9 [' 7', ' 8', ' 6', ' 9', '7']\n",
            "10 [' 7', ' 8', ' 9', ' 6', ' 1']\n",
            "11 [' 7', ' 8', ' 1', ' 9', ' 6']\n",
            "\n",
            "\n",
            "-1 [' challeng', ' mathemat', ' arrang', ' corrid', ' destro']\n",
            "0 [' order', ' the', ' particular', ' a', ' conjunction']\n",
            "1 [' order', ' the', ' conjunction', ' a', ' particular']\n",
            "2 [' order', ' the', ' conjunction', ' vain', ' front']\n",
            "3 [' order', ' the', ' conjunction', ' vain', ' accordance']\n",
            "4 [' order', ' conjunction', ' the', ' relation', ' accordance']\n",
            "5 [' order', ' 3', ' 5', ' 18', ' 6']\n",
            "6 [' 5', ' 3', ' 7', ' 6', ' 4']\n",
            "7 [' 5', ' 7', ' 6', ' 3', ' 4']\n",
            "8 [' 7', ' 6', ' 5', ' 8', ' 1']\n",
            "9 [' 7', ' 8', ' 6', '7', ' 9']\n",
            "10 [' 7', ' 8', ' 9', ' 77', ' 6']\n",
            "11 [' 7', ' 8', ' 1', ' 9', '\\n']\n",
            "\n",
            "\n"
          ]
        }
      ]
    },
    {
      "cell_type": "code",
      "source": [
        "for pd in anomolies[-2:]:\n",
        "    test_text = pd['text']\n",
        "    layer_logits = get_logits(test_text)\n",
        "    tok_logit_lens = get_decoded_indiv_toks(layer_logits)\n",
        "    for i, tokouts in enumerate(tok_logit_lens):\n",
        "        print(i-1, tokouts)\n",
        "    print('\\n')"
      ],
      "metadata": {
        "colab": {
          "base_uri": "https://localhost:8080/"
        },
        "outputId": "dcb02cfa-df30-4fe1-c186-291d5454be2f",
        "id": "u3BMZSTPG0K2"
      },
      "execution_count": null,
      "outputs": [
        {
          "output_type": "stream",
          "name": "stdout",
          "text": [
            "-1 [' challeng', ' mathemat', ' arrang', ' corrid', ' destro']\n",
            "0 [' order', ' the', ' particular', ' a', ' front']\n",
            "1 [' order', ' the', ' a', ' conjunction', ' front']\n",
            "2 [' order', ' the', ' a', ' vain', ' accordance']\n",
            "3 [' order', ' the', ' vain', ' his', ' a']\n",
            "4 [' order', ' the', ' spite', ' relation', ' vain']\n",
            "5 [' order', ' 3', ' 2', ' 5', ' 1']\n",
            "6 [' 3', ' 2', ' 5', ' 1', ' 4']\n",
            "7 [' 3', ' 2', ' 1', ' 5', ' 4']\n",
            "8 [' 5', ' 4', ' 3', ' 1', ' 2']\n",
            "9 [' 5', ' 6', ' 1', ' 7', '5']\n",
            "10 [' 5', ' 6', ' 1', ' 7', ' 3']\n",
            "11 [' 5', ' 6', ' 1', ' 7', ' 3']\n",
            "\n",
            "\n",
            "-1 [' challeng', ' mathemat', ' arrang', ' corrid', ' destro']\n",
            "0 [' the', ' order', ' a', ' particular', ' front']\n",
            "1 [' order', ' the', ' a', ' conjunction', ' particular']\n",
            "2 [' order', ' the', ' a', ' accordance', ' vain']\n",
            "3 [' order', ' the', ' accordance', ' relation', ' vain']\n",
            "4 [' order', ' the', ' accordance', ' spite', ' relation']\n",
            "5 [' order', ' 3', ' 5', ' 18', ' 15']\n",
            "6 [' 3', ' 5', ' 2', ' 7', ' 4']\n",
            "7 [' 3', ' 5', ' 7', ' 4', ' 6']\n",
            "8 [' 7', ' 6', ' 5', ' 8', ' 9']\n",
            "9 [' 7', ' 8', ' 6', ' 9', '7']\n",
            "10 [' 7', ' 8', ' 9', ' 6', ' 13']\n",
            "11 [' 7', ' 8', ' 9', ' 1', ' 6']\n",
            "\n",
            "\n"
          ]
        }
      ]
    }
  ]
}