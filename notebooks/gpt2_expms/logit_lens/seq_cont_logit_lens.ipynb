{
  "nbformat": 4,
  "nbformat_minor": 0,
  "metadata": {
    "colab": {
      "provenance": [],
      "collapsed_sections": [
        "jcwyrfWXt7Dp",
        "K_-_eyDu8ax-",
        "I5wf7hssBh0T"
      ],
      "machine_shape": "hm",
      "gpuType": "A100",
      "toc_visible": true
    },
    "kernelspec": {
      "name": "python3",
      "display_name": "Python 3"
    },
    "language_info": {
      "name": "python"
    },
    "widgets": {
      "application/vnd.jupyter.widget-state+json": {
        "8bee83b62b8c430a8f9e2e99e1d812eb": {
          "model_module": "@jupyter-widgets/controls",
          "model_name": "HBoxModel",
          "model_module_version": "1.5.0",
          "state": {
            "_dom_classes": [],
            "_model_module": "@jupyter-widgets/controls",
            "_model_module_version": "1.5.0",
            "_model_name": "HBoxModel",
            "_view_count": null,
            "_view_module": "@jupyter-widgets/controls",
            "_view_module_version": "1.5.0",
            "_view_name": "HBoxView",
            "box_style": "",
            "children": [
              "IPY_MODEL_566b881f899245599e9cce9eaf79ab29",
              "IPY_MODEL_82758c4a631d47a9a3579df91b20c5f4",
              "IPY_MODEL_dafbc5cb2c9949dd9ccba012204529c3"
            ],
            "layout": "IPY_MODEL_eed94fc4f9624d8391ff2360bb697227"
          }
        },
        "566b881f899245599e9cce9eaf79ab29": {
          "model_module": "@jupyter-widgets/controls",
          "model_name": "HTMLModel",
          "model_module_version": "1.5.0",
          "state": {
            "_dom_classes": [],
            "_model_module": "@jupyter-widgets/controls",
            "_model_module_version": "1.5.0",
            "_model_name": "HTMLModel",
            "_view_count": null,
            "_view_module": "@jupyter-widgets/controls",
            "_view_module_version": "1.5.0",
            "_view_name": "HTMLView",
            "description": "",
            "description_tooltip": null,
            "layout": "IPY_MODEL_df28639283d949b79ba40f7c7c8e3bc4",
            "placeholder": "​",
            "style": "IPY_MODEL_cc43f1d1b50f4b88a5138bdc32046aa0",
            "value": "config.json: 100%"
          }
        },
        "82758c4a631d47a9a3579df91b20c5f4": {
          "model_module": "@jupyter-widgets/controls",
          "model_name": "FloatProgressModel",
          "model_module_version": "1.5.0",
          "state": {
            "_dom_classes": [],
            "_model_module": "@jupyter-widgets/controls",
            "_model_module_version": "1.5.0",
            "_model_name": "FloatProgressModel",
            "_view_count": null,
            "_view_module": "@jupyter-widgets/controls",
            "_view_module_version": "1.5.0",
            "_view_name": "ProgressView",
            "bar_style": "success",
            "description": "",
            "description_tooltip": null,
            "layout": "IPY_MODEL_e397ca9a222e453f82839982e030a562",
            "max": 665,
            "min": 0,
            "orientation": "horizontal",
            "style": "IPY_MODEL_6e9cc13dba6f4082bc8624beb93b6287",
            "value": 665
          }
        },
        "dafbc5cb2c9949dd9ccba012204529c3": {
          "model_module": "@jupyter-widgets/controls",
          "model_name": "HTMLModel",
          "model_module_version": "1.5.0",
          "state": {
            "_dom_classes": [],
            "_model_module": "@jupyter-widgets/controls",
            "_model_module_version": "1.5.0",
            "_model_name": "HTMLModel",
            "_view_count": null,
            "_view_module": "@jupyter-widgets/controls",
            "_view_module_version": "1.5.0",
            "_view_name": "HTMLView",
            "description": "",
            "description_tooltip": null,
            "layout": "IPY_MODEL_cfbbc8ff7b0e4d529a5035f679f86f06",
            "placeholder": "​",
            "style": "IPY_MODEL_6897efc9b6ba49059038d3879fd10341",
            "value": " 665/665 [00:00&lt;00:00, 52.5kB/s]"
          }
        },
        "eed94fc4f9624d8391ff2360bb697227": {
          "model_module": "@jupyter-widgets/base",
          "model_name": "LayoutModel",
          "model_module_version": "1.2.0",
          "state": {
            "_model_module": "@jupyter-widgets/base",
            "_model_module_version": "1.2.0",
            "_model_name": "LayoutModel",
            "_view_count": null,
            "_view_module": "@jupyter-widgets/base",
            "_view_module_version": "1.2.0",
            "_view_name": "LayoutView",
            "align_content": null,
            "align_items": null,
            "align_self": null,
            "border": null,
            "bottom": null,
            "display": null,
            "flex": null,
            "flex_flow": null,
            "grid_area": null,
            "grid_auto_columns": null,
            "grid_auto_flow": null,
            "grid_auto_rows": null,
            "grid_column": null,
            "grid_gap": null,
            "grid_row": null,
            "grid_template_areas": null,
            "grid_template_columns": null,
            "grid_template_rows": null,
            "height": null,
            "justify_content": null,
            "justify_items": null,
            "left": null,
            "margin": null,
            "max_height": null,
            "max_width": null,
            "min_height": null,
            "min_width": null,
            "object_fit": null,
            "object_position": null,
            "order": null,
            "overflow": null,
            "overflow_x": null,
            "overflow_y": null,
            "padding": null,
            "right": null,
            "top": null,
            "visibility": null,
            "width": null
          }
        },
        "df28639283d949b79ba40f7c7c8e3bc4": {
          "model_module": "@jupyter-widgets/base",
          "model_name": "LayoutModel",
          "model_module_version": "1.2.0",
          "state": {
            "_model_module": "@jupyter-widgets/base",
            "_model_module_version": "1.2.0",
            "_model_name": "LayoutModel",
            "_view_count": null,
            "_view_module": "@jupyter-widgets/base",
            "_view_module_version": "1.2.0",
            "_view_name": "LayoutView",
            "align_content": null,
            "align_items": null,
            "align_self": null,
            "border": null,
            "bottom": null,
            "display": null,
            "flex": null,
            "flex_flow": null,
            "grid_area": null,
            "grid_auto_columns": null,
            "grid_auto_flow": null,
            "grid_auto_rows": null,
            "grid_column": null,
            "grid_gap": null,
            "grid_row": null,
            "grid_template_areas": null,
            "grid_template_columns": null,
            "grid_template_rows": null,
            "height": null,
            "justify_content": null,
            "justify_items": null,
            "left": null,
            "margin": null,
            "max_height": null,
            "max_width": null,
            "min_height": null,
            "min_width": null,
            "object_fit": null,
            "object_position": null,
            "order": null,
            "overflow": null,
            "overflow_x": null,
            "overflow_y": null,
            "padding": null,
            "right": null,
            "top": null,
            "visibility": null,
            "width": null
          }
        },
        "cc43f1d1b50f4b88a5138bdc32046aa0": {
          "model_module": "@jupyter-widgets/controls",
          "model_name": "DescriptionStyleModel",
          "model_module_version": "1.5.0",
          "state": {
            "_model_module": "@jupyter-widgets/controls",
            "_model_module_version": "1.5.0",
            "_model_name": "DescriptionStyleModel",
            "_view_count": null,
            "_view_module": "@jupyter-widgets/base",
            "_view_module_version": "1.2.0",
            "_view_name": "StyleView",
            "description_width": ""
          }
        },
        "e397ca9a222e453f82839982e030a562": {
          "model_module": "@jupyter-widgets/base",
          "model_name": "LayoutModel",
          "model_module_version": "1.2.0",
          "state": {
            "_model_module": "@jupyter-widgets/base",
            "_model_module_version": "1.2.0",
            "_model_name": "LayoutModel",
            "_view_count": null,
            "_view_module": "@jupyter-widgets/base",
            "_view_module_version": "1.2.0",
            "_view_name": "LayoutView",
            "align_content": null,
            "align_items": null,
            "align_self": null,
            "border": null,
            "bottom": null,
            "display": null,
            "flex": null,
            "flex_flow": null,
            "grid_area": null,
            "grid_auto_columns": null,
            "grid_auto_flow": null,
            "grid_auto_rows": null,
            "grid_column": null,
            "grid_gap": null,
            "grid_row": null,
            "grid_template_areas": null,
            "grid_template_columns": null,
            "grid_template_rows": null,
            "height": null,
            "justify_content": null,
            "justify_items": null,
            "left": null,
            "margin": null,
            "max_height": null,
            "max_width": null,
            "min_height": null,
            "min_width": null,
            "object_fit": null,
            "object_position": null,
            "order": null,
            "overflow": null,
            "overflow_x": null,
            "overflow_y": null,
            "padding": null,
            "right": null,
            "top": null,
            "visibility": null,
            "width": null
          }
        },
        "6e9cc13dba6f4082bc8624beb93b6287": {
          "model_module": "@jupyter-widgets/controls",
          "model_name": "ProgressStyleModel",
          "model_module_version": "1.5.0",
          "state": {
            "_model_module": "@jupyter-widgets/controls",
            "_model_module_version": "1.5.0",
            "_model_name": "ProgressStyleModel",
            "_view_count": null,
            "_view_module": "@jupyter-widgets/base",
            "_view_module_version": "1.2.0",
            "_view_name": "StyleView",
            "bar_color": null,
            "description_width": ""
          }
        },
        "cfbbc8ff7b0e4d529a5035f679f86f06": {
          "model_module": "@jupyter-widgets/base",
          "model_name": "LayoutModel",
          "model_module_version": "1.2.0",
          "state": {
            "_model_module": "@jupyter-widgets/base",
            "_model_module_version": "1.2.0",
            "_model_name": "LayoutModel",
            "_view_count": null,
            "_view_module": "@jupyter-widgets/base",
            "_view_module_version": "1.2.0",
            "_view_name": "LayoutView",
            "align_content": null,
            "align_items": null,
            "align_self": null,
            "border": null,
            "bottom": null,
            "display": null,
            "flex": null,
            "flex_flow": null,
            "grid_area": null,
            "grid_auto_columns": null,
            "grid_auto_flow": null,
            "grid_auto_rows": null,
            "grid_column": null,
            "grid_gap": null,
            "grid_row": null,
            "grid_template_areas": null,
            "grid_template_columns": null,
            "grid_template_rows": null,
            "height": null,
            "justify_content": null,
            "justify_items": null,
            "left": null,
            "margin": null,
            "max_height": null,
            "max_width": null,
            "min_height": null,
            "min_width": null,
            "object_fit": null,
            "object_position": null,
            "order": null,
            "overflow": null,
            "overflow_x": null,
            "overflow_y": null,
            "padding": null,
            "right": null,
            "top": null,
            "visibility": null,
            "width": null
          }
        },
        "6897efc9b6ba49059038d3879fd10341": {
          "model_module": "@jupyter-widgets/controls",
          "model_name": "DescriptionStyleModel",
          "model_module_version": "1.5.0",
          "state": {
            "_model_module": "@jupyter-widgets/controls",
            "_model_module_version": "1.5.0",
            "_model_name": "DescriptionStyleModel",
            "_view_count": null,
            "_view_module": "@jupyter-widgets/base",
            "_view_module_version": "1.2.0",
            "_view_name": "StyleView",
            "description_width": ""
          }
        },
        "f1c4a45e73d740b686548ac3c1a66542": {
          "model_module": "@jupyter-widgets/controls",
          "model_name": "HBoxModel",
          "model_module_version": "1.5.0",
          "state": {
            "_dom_classes": [],
            "_model_module": "@jupyter-widgets/controls",
            "_model_module_version": "1.5.0",
            "_model_name": "HBoxModel",
            "_view_count": null,
            "_view_module": "@jupyter-widgets/controls",
            "_view_module_version": "1.5.0",
            "_view_name": "HBoxView",
            "box_style": "",
            "children": [
              "IPY_MODEL_06f2bede6f1d4d9f93de0fe3ed5c5296",
              "IPY_MODEL_6a39ebcbf92f4930bdf49e103b6e4652",
              "IPY_MODEL_fadb5520654f44c4ad99d6a300517ebf"
            ],
            "layout": "IPY_MODEL_a942658805a042359fdba7f2cd91e36b"
          }
        },
        "06f2bede6f1d4d9f93de0fe3ed5c5296": {
          "model_module": "@jupyter-widgets/controls",
          "model_name": "HTMLModel",
          "model_module_version": "1.5.0",
          "state": {
            "_dom_classes": [],
            "_model_module": "@jupyter-widgets/controls",
            "_model_module_version": "1.5.0",
            "_model_name": "HTMLModel",
            "_view_count": null,
            "_view_module": "@jupyter-widgets/controls",
            "_view_module_version": "1.5.0",
            "_view_name": "HTMLView",
            "description": "",
            "description_tooltip": null,
            "layout": "IPY_MODEL_729720c1ba8c4b3e89744a71d3be2aab",
            "placeholder": "​",
            "style": "IPY_MODEL_b414cbbc48e04e878c60e81a2fc53b10",
            "value": "vocab.json: 100%"
          }
        },
        "6a39ebcbf92f4930bdf49e103b6e4652": {
          "model_module": "@jupyter-widgets/controls",
          "model_name": "FloatProgressModel",
          "model_module_version": "1.5.0",
          "state": {
            "_dom_classes": [],
            "_model_module": "@jupyter-widgets/controls",
            "_model_module_version": "1.5.0",
            "_model_name": "FloatProgressModel",
            "_view_count": null,
            "_view_module": "@jupyter-widgets/controls",
            "_view_module_version": "1.5.0",
            "_view_name": "ProgressView",
            "bar_style": "success",
            "description": "",
            "description_tooltip": null,
            "layout": "IPY_MODEL_5869dac16b49481890bacc4ac705affc",
            "max": 1042301,
            "min": 0,
            "orientation": "horizontal",
            "style": "IPY_MODEL_0865fd7b3721438785fbc314d03b949b",
            "value": 1042301
          }
        },
        "fadb5520654f44c4ad99d6a300517ebf": {
          "model_module": "@jupyter-widgets/controls",
          "model_name": "HTMLModel",
          "model_module_version": "1.5.0",
          "state": {
            "_dom_classes": [],
            "_model_module": "@jupyter-widgets/controls",
            "_model_module_version": "1.5.0",
            "_model_name": "HTMLModel",
            "_view_count": null,
            "_view_module": "@jupyter-widgets/controls",
            "_view_module_version": "1.5.0",
            "_view_name": "HTMLView",
            "description": "",
            "description_tooltip": null,
            "layout": "IPY_MODEL_d123101583664c5984d66a48fe7141f4",
            "placeholder": "​",
            "style": "IPY_MODEL_84fa0115131b4c8caca0068950115c70",
            "value": " 1.04M/1.04M [00:00&lt;00:00, 2.30MB/s]"
          }
        },
        "a942658805a042359fdba7f2cd91e36b": {
          "model_module": "@jupyter-widgets/base",
          "model_name": "LayoutModel",
          "model_module_version": "1.2.0",
          "state": {
            "_model_module": "@jupyter-widgets/base",
            "_model_module_version": "1.2.0",
            "_model_name": "LayoutModel",
            "_view_count": null,
            "_view_module": "@jupyter-widgets/base",
            "_view_module_version": "1.2.0",
            "_view_name": "LayoutView",
            "align_content": null,
            "align_items": null,
            "align_self": null,
            "border": null,
            "bottom": null,
            "display": null,
            "flex": null,
            "flex_flow": null,
            "grid_area": null,
            "grid_auto_columns": null,
            "grid_auto_flow": null,
            "grid_auto_rows": null,
            "grid_column": null,
            "grid_gap": null,
            "grid_row": null,
            "grid_template_areas": null,
            "grid_template_columns": null,
            "grid_template_rows": null,
            "height": null,
            "justify_content": null,
            "justify_items": null,
            "left": null,
            "margin": null,
            "max_height": null,
            "max_width": null,
            "min_height": null,
            "min_width": null,
            "object_fit": null,
            "object_position": null,
            "order": null,
            "overflow": null,
            "overflow_x": null,
            "overflow_y": null,
            "padding": null,
            "right": null,
            "top": null,
            "visibility": null,
            "width": null
          }
        },
        "729720c1ba8c4b3e89744a71d3be2aab": {
          "model_module": "@jupyter-widgets/base",
          "model_name": "LayoutModel",
          "model_module_version": "1.2.0",
          "state": {
            "_model_module": "@jupyter-widgets/base",
            "_model_module_version": "1.2.0",
            "_model_name": "LayoutModel",
            "_view_count": null,
            "_view_module": "@jupyter-widgets/base",
            "_view_module_version": "1.2.0",
            "_view_name": "LayoutView",
            "align_content": null,
            "align_items": null,
            "align_self": null,
            "border": null,
            "bottom": null,
            "display": null,
            "flex": null,
            "flex_flow": null,
            "grid_area": null,
            "grid_auto_columns": null,
            "grid_auto_flow": null,
            "grid_auto_rows": null,
            "grid_column": null,
            "grid_gap": null,
            "grid_row": null,
            "grid_template_areas": null,
            "grid_template_columns": null,
            "grid_template_rows": null,
            "height": null,
            "justify_content": null,
            "justify_items": null,
            "left": null,
            "margin": null,
            "max_height": null,
            "max_width": null,
            "min_height": null,
            "min_width": null,
            "object_fit": null,
            "object_position": null,
            "order": null,
            "overflow": null,
            "overflow_x": null,
            "overflow_y": null,
            "padding": null,
            "right": null,
            "top": null,
            "visibility": null,
            "width": null
          }
        },
        "b414cbbc48e04e878c60e81a2fc53b10": {
          "model_module": "@jupyter-widgets/controls",
          "model_name": "DescriptionStyleModel",
          "model_module_version": "1.5.0",
          "state": {
            "_model_module": "@jupyter-widgets/controls",
            "_model_module_version": "1.5.0",
            "_model_name": "DescriptionStyleModel",
            "_view_count": null,
            "_view_module": "@jupyter-widgets/base",
            "_view_module_version": "1.2.0",
            "_view_name": "StyleView",
            "description_width": ""
          }
        },
        "5869dac16b49481890bacc4ac705affc": {
          "model_module": "@jupyter-widgets/base",
          "model_name": "LayoutModel",
          "model_module_version": "1.2.0",
          "state": {
            "_model_module": "@jupyter-widgets/base",
            "_model_module_version": "1.2.0",
            "_model_name": "LayoutModel",
            "_view_count": null,
            "_view_module": "@jupyter-widgets/base",
            "_view_module_version": "1.2.0",
            "_view_name": "LayoutView",
            "align_content": null,
            "align_items": null,
            "align_self": null,
            "border": null,
            "bottom": null,
            "display": null,
            "flex": null,
            "flex_flow": null,
            "grid_area": null,
            "grid_auto_columns": null,
            "grid_auto_flow": null,
            "grid_auto_rows": null,
            "grid_column": null,
            "grid_gap": null,
            "grid_row": null,
            "grid_template_areas": null,
            "grid_template_columns": null,
            "grid_template_rows": null,
            "height": null,
            "justify_content": null,
            "justify_items": null,
            "left": null,
            "margin": null,
            "max_height": null,
            "max_width": null,
            "min_height": null,
            "min_width": null,
            "object_fit": null,
            "object_position": null,
            "order": null,
            "overflow": null,
            "overflow_x": null,
            "overflow_y": null,
            "padding": null,
            "right": null,
            "top": null,
            "visibility": null,
            "width": null
          }
        },
        "0865fd7b3721438785fbc314d03b949b": {
          "model_module": "@jupyter-widgets/controls",
          "model_name": "ProgressStyleModel",
          "model_module_version": "1.5.0",
          "state": {
            "_model_module": "@jupyter-widgets/controls",
            "_model_module_version": "1.5.0",
            "_model_name": "ProgressStyleModel",
            "_view_count": null,
            "_view_module": "@jupyter-widgets/base",
            "_view_module_version": "1.2.0",
            "_view_name": "StyleView",
            "bar_color": null,
            "description_width": ""
          }
        },
        "d123101583664c5984d66a48fe7141f4": {
          "model_module": "@jupyter-widgets/base",
          "model_name": "LayoutModel",
          "model_module_version": "1.2.0",
          "state": {
            "_model_module": "@jupyter-widgets/base",
            "_model_module_version": "1.2.0",
            "_model_name": "LayoutModel",
            "_view_count": null,
            "_view_module": "@jupyter-widgets/base",
            "_view_module_version": "1.2.0",
            "_view_name": "LayoutView",
            "align_content": null,
            "align_items": null,
            "align_self": null,
            "border": null,
            "bottom": null,
            "display": null,
            "flex": null,
            "flex_flow": null,
            "grid_area": null,
            "grid_auto_columns": null,
            "grid_auto_flow": null,
            "grid_auto_rows": null,
            "grid_column": null,
            "grid_gap": null,
            "grid_row": null,
            "grid_template_areas": null,
            "grid_template_columns": null,
            "grid_template_rows": null,
            "height": null,
            "justify_content": null,
            "justify_items": null,
            "left": null,
            "margin": null,
            "max_height": null,
            "max_width": null,
            "min_height": null,
            "min_width": null,
            "object_fit": null,
            "object_position": null,
            "order": null,
            "overflow": null,
            "overflow_x": null,
            "overflow_y": null,
            "padding": null,
            "right": null,
            "top": null,
            "visibility": null,
            "width": null
          }
        },
        "84fa0115131b4c8caca0068950115c70": {
          "model_module": "@jupyter-widgets/controls",
          "model_name": "DescriptionStyleModel",
          "model_module_version": "1.5.0",
          "state": {
            "_model_module": "@jupyter-widgets/controls",
            "_model_module_version": "1.5.0",
            "_model_name": "DescriptionStyleModel",
            "_view_count": null,
            "_view_module": "@jupyter-widgets/base",
            "_view_module_version": "1.2.0",
            "_view_name": "StyleView",
            "description_width": ""
          }
        },
        "a2d595a3646d492dae99c67dc2ce9c53": {
          "model_module": "@jupyter-widgets/controls",
          "model_name": "HBoxModel",
          "model_module_version": "1.5.0",
          "state": {
            "_dom_classes": [],
            "_model_module": "@jupyter-widgets/controls",
            "_model_module_version": "1.5.0",
            "_model_name": "HBoxModel",
            "_view_count": null,
            "_view_module": "@jupyter-widgets/controls",
            "_view_module_version": "1.5.0",
            "_view_name": "HBoxView",
            "box_style": "",
            "children": [
              "IPY_MODEL_b99cd6c7492a4704a34fc4690a04f3ee",
              "IPY_MODEL_8d1767282caa484d919e9dae58585144",
              "IPY_MODEL_3d3ec648d66d434391aef03ee092abd5"
            ],
            "layout": "IPY_MODEL_010e7318f89747d994fe4b5ad7185fb0"
          }
        },
        "b99cd6c7492a4704a34fc4690a04f3ee": {
          "model_module": "@jupyter-widgets/controls",
          "model_name": "HTMLModel",
          "model_module_version": "1.5.0",
          "state": {
            "_dom_classes": [],
            "_model_module": "@jupyter-widgets/controls",
            "_model_module_version": "1.5.0",
            "_model_name": "HTMLModel",
            "_view_count": null,
            "_view_module": "@jupyter-widgets/controls",
            "_view_module_version": "1.5.0",
            "_view_name": "HTMLView",
            "description": "",
            "description_tooltip": null,
            "layout": "IPY_MODEL_6703548575524a3baca30e4c2321e3a9",
            "placeholder": "​",
            "style": "IPY_MODEL_dddfe617c80848c0aadd8afcf506243c",
            "value": "merges.txt: 100%"
          }
        },
        "8d1767282caa484d919e9dae58585144": {
          "model_module": "@jupyter-widgets/controls",
          "model_name": "FloatProgressModel",
          "model_module_version": "1.5.0",
          "state": {
            "_dom_classes": [],
            "_model_module": "@jupyter-widgets/controls",
            "_model_module_version": "1.5.0",
            "_model_name": "FloatProgressModel",
            "_view_count": null,
            "_view_module": "@jupyter-widgets/controls",
            "_view_module_version": "1.5.0",
            "_view_name": "ProgressView",
            "bar_style": "success",
            "description": "",
            "description_tooltip": null,
            "layout": "IPY_MODEL_02286f966cb6473fb90352c906a413ee",
            "max": 456318,
            "min": 0,
            "orientation": "horizontal",
            "style": "IPY_MODEL_8cd4d2372c95483a9a57d68d8e83f027",
            "value": 456318
          }
        },
        "3d3ec648d66d434391aef03ee092abd5": {
          "model_module": "@jupyter-widgets/controls",
          "model_name": "HTMLModel",
          "model_module_version": "1.5.0",
          "state": {
            "_dom_classes": [],
            "_model_module": "@jupyter-widgets/controls",
            "_model_module_version": "1.5.0",
            "_model_name": "HTMLModel",
            "_view_count": null,
            "_view_module": "@jupyter-widgets/controls",
            "_view_module_version": "1.5.0",
            "_view_name": "HTMLView",
            "description": "",
            "description_tooltip": null,
            "layout": "IPY_MODEL_463905983d8a4b6abcb19eaf5215bb0b",
            "placeholder": "​",
            "style": "IPY_MODEL_36539e238f1642cc912831aee242cfe8",
            "value": " 456k/456k [00:00&lt;00:00, 1.00MB/s]"
          }
        },
        "010e7318f89747d994fe4b5ad7185fb0": {
          "model_module": "@jupyter-widgets/base",
          "model_name": "LayoutModel",
          "model_module_version": "1.2.0",
          "state": {
            "_model_module": "@jupyter-widgets/base",
            "_model_module_version": "1.2.0",
            "_model_name": "LayoutModel",
            "_view_count": null,
            "_view_module": "@jupyter-widgets/base",
            "_view_module_version": "1.2.0",
            "_view_name": "LayoutView",
            "align_content": null,
            "align_items": null,
            "align_self": null,
            "border": null,
            "bottom": null,
            "display": null,
            "flex": null,
            "flex_flow": null,
            "grid_area": null,
            "grid_auto_columns": null,
            "grid_auto_flow": null,
            "grid_auto_rows": null,
            "grid_column": null,
            "grid_gap": null,
            "grid_row": null,
            "grid_template_areas": null,
            "grid_template_columns": null,
            "grid_template_rows": null,
            "height": null,
            "justify_content": null,
            "justify_items": null,
            "left": null,
            "margin": null,
            "max_height": null,
            "max_width": null,
            "min_height": null,
            "min_width": null,
            "object_fit": null,
            "object_position": null,
            "order": null,
            "overflow": null,
            "overflow_x": null,
            "overflow_y": null,
            "padding": null,
            "right": null,
            "top": null,
            "visibility": null,
            "width": null
          }
        },
        "6703548575524a3baca30e4c2321e3a9": {
          "model_module": "@jupyter-widgets/base",
          "model_name": "LayoutModel",
          "model_module_version": "1.2.0",
          "state": {
            "_model_module": "@jupyter-widgets/base",
            "_model_module_version": "1.2.0",
            "_model_name": "LayoutModel",
            "_view_count": null,
            "_view_module": "@jupyter-widgets/base",
            "_view_module_version": "1.2.0",
            "_view_name": "LayoutView",
            "align_content": null,
            "align_items": null,
            "align_self": null,
            "border": null,
            "bottom": null,
            "display": null,
            "flex": null,
            "flex_flow": null,
            "grid_area": null,
            "grid_auto_columns": null,
            "grid_auto_flow": null,
            "grid_auto_rows": null,
            "grid_column": null,
            "grid_gap": null,
            "grid_row": null,
            "grid_template_areas": null,
            "grid_template_columns": null,
            "grid_template_rows": null,
            "height": null,
            "justify_content": null,
            "justify_items": null,
            "left": null,
            "margin": null,
            "max_height": null,
            "max_width": null,
            "min_height": null,
            "min_width": null,
            "object_fit": null,
            "object_position": null,
            "order": null,
            "overflow": null,
            "overflow_x": null,
            "overflow_y": null,
            "padding": null,
            "right": null,
            "top": null,
            "visibility": null,
            "width": null
          }
        },
        "dddfe617c80848c0aadd8afcf506243c": {
          "model_module": "@jupyter-widgets/controls",
          "model_name": "DescriptionStyleModel",
          "model_module_version": "1.5.0",
          "state": {
            "_model_module": "@jupyter-widgets/controls",
            "_model_module_version": "1.5.0",
            "_model_name": "DescriptionStyleModel",
            "_view_count": null,
            "_view_module": "@jupyter-widgets/base",
            "_view_module_version": "1.2.0",
            "_view_name": "StyleView",
            "description_width": ""
          }
        },
        "02286f966cb6473fb90352c906a413ee": {
          "model_module": "@jupyter-widgets/base",
          "model_name": "LayoutModel",
          "model_module_version": "1.2.0",
          "state": {
            "_model_module": "@jupyter-widgets/base",
            "_model_module_version": "1.2.0",
            "_model_name": "LayoutModel",
            "_view_count": null,
            "_view_module": "@jupyter-widgets/base",
            "_view_module_version": "1.2.0",
            "_view_name": "LayoutView",
            "align_content": null,
            "align_items": null,
            "align_self": null,
            "border": null,
            "bottom": null,
            "display": null,
            "flex": null,
            "flex_flow": null,
            "grid_area": null,
            "grid_auto_columns": null,
            "grid_auto_flow": null,
            "grid_auto_rows": null,
            "grid_column": null,
            "grid_gap": null,
            "grid_row": null,
            "grid_template_areas": null,
            "grid_template_columns": null,
            "grid_template_rows": null,
            "height": null,
            "justify_content": null,
            "justify_items": null,
            "left": null,
            "margin": null,
            "max_height": null,
            "max_width": null,
            "min_height": null,
            "min_width": null,
            "object_fit": null,
            "object_position": null,
            "order": null,
            "overflow": null,
            "overflow_x": null,
            "overflow_y": null,
            "padding": null,
            "right": null,
            "top": null,
            "visibility": null,
            "width": null
          }
        },
        "8cd4d2372c95483a9a57d68d8e83f027": {
          "model_module": "@jupyter-widgets/controls",
          "model_name": "ProgressStyleModel",
          "model_module_version": "1.5.0",
          "state": {
            "_model_module": "@jupyter-widgets/controls",
            "_model_module_version": "1.5.0",
            "_model_name": "ProgressStyleModel",
            "_view_count": null,
            "_view_module": "@jupyter-widgets/base",
            "_view_module_version": "1.2.0",
            "_view_name": "StyleView",
            "bar_color": null,
            "description_width": ""
          }
        },
        "463905983d8a4b6abcb19eaf5215bb0b": {
          "model_module": "@jupyter-widgets/base",
          "model_name": "LayoutModel",
          "model_module_version": "1.2.0",
          "state": {
            "_model_module": "@jupyter-widgets/base",
            "_model_module_version": "1.2.0",
            "_model_name": "LayoutModel",
            "_view_count": null,
            "_view_module": "@jupyter-widgets/base",
            "_view_module_version": "1.2.0",
            "_view_name": "LayoutView",
            "align_content": null,
            "align_items": null,
            "align_self": null,
            "border": null,
            "bottom": null,
            "display": null,
            "flex": null,
            "flex_flow": null,
            "grid_area": null,
            "grid_auto_columns": null,
            "grid_auto_flow": null,
            "grid_auto_rows": null,
            "grid_column": null,
            "grid_gap": null,
            "grid_row": null,
            "grid_template_areas": null,
            "grid_template_columns": null,
            "grid_template_rows": null,
            "height": null,
            "justify_content": null,
            "justify_items": null,
            "left": null,
            "margin": null,
            "max_height": null,
            "max_width": null,
            "min_height": null,
            "min_width": null,
            "object_fit": null,
            "object_position": null,
            "order": null,
            "overflow": null,
            "overflow_x": null,
            "overflow_y": null,
            "padding": null,
            "right": null,
            "top": null,
            "visibility": null,
            "width": null
          }
        },
        "36539e238f1642cc912831aee242cfe8": {
          "model_module": "@jupyter-widgets/controls",
          "model_name": "DescriptionStyleModel",
          "model_module_version": "1.5.0",
          "state": {
            "_model_module": "@jupyter-widgets/controls",
            "_model_module_version": "1.5.0",
            "_model_name": "DescriptionStyleModel",
            "_view_count": null,
            "_view_module": "@jupyter-widgets/base",
            "_view_module_version": "1.2.0",
            "_view_name": "StyleView",
            "description_width": ""
          }
        },
        "57bdbe21a7d447d9a953009b2e4cc9d0": {
          "model_module": "@jupyter-widgets/controls",
          "model_name": "HBoxModel",
          "model_module_version": "1.5.0",
          "state": {
            "_dom_classes": [],
            "_model_module": "@jupyter-widgets/controls",
            "_model_module_version": "1.5.0",
            "_model_name": "HBoxModel",
            "_view_count": null,
            "_view_module": "@jupyter-widgets/controls",
            "_view_module_version": "1.5.0",
            "_view_name": "HBoxView",
            "box_style": "",
            "children": [
              "IPY_MODEL_d793aae79c5e46f7845b2d307bc41540",
              "IPY_MODEL_e3268dc76e9141c8af3134c75ae02962",
              "IPY_MODEL_3d38f151d0754d218689d3d97d0b7248"
            ],
            "layout": "IPY_MODEL_6ecc9835028e4aa1a11d6fe3a82e2e5e"
          }
        },
        "d793aae79c5e46f7845b2d307bc41540": {
          "model_module": "@jupyter-widgets/controls",
          "model_name": "HTMLModel",
          "model_module_version": "1.5.0",
          "state": {
            "_dom_classes": [],
            "_model_module": "@jupyter-widgets/controls",
            "_model_module_version": "1.5.0",
            "_model_name": "HTMLModel",
            "_view_count": null,
            "_view_module": "@jupyter-widgets/controls",
            "_view_module_version": "1.5.0",
            "_view_name": "HTMLView",
            "description": "",
            "description_tooltip": null,
            "layout": "IPY_MODEL_cef1a0de1ce9414d81754737658810fb",
            "placeholder": "​",
            "style": "IPY_MODEL_39a09c15988d40a3b19f04f2d9545251",
            "value": "tokenizer.json: 100%"
          }
        },
        "e3268dc76e9141c8af3134c75ae02962": {
          "model_module": "@jupyter-widgets/controls",
          "model_name": "FloatProgressModel",
          "model_module_version": "1.5.0",
          "state": {
            "_dom_classes": [],
            "_model_module": "@jupyter-widgets/controls",
            "_model_module_version": "1.5.0",
            "_model_name": "FloatProgressModel",
            "_view_count": null,
            "_view_module": "@jupyter-widgets/controls",
            "_view_module_version": "1.5.0",
            "_view_name": "ProgressView",
            "bar_style": "success",
            "description": "",
            "description_tooltip": null,
            "layout": "IPY_MODEL_7a4c61fb3ea7479eb49a4265bf8b0de1",
            "max": 1355256,
            "min": 0,
            "orientation": "horizontal",
            "style": "IPY_MODEL_5c8a4d4c379b411ea2e0b983c49de4f0",
            "value": 1355256
          }
        },
        "3d38f151d0754d218689d3d97d0b7248": {
          "model_module": "@jupyter-widgets/controls",
          "model_name": "HTMLModel",
          "model_module_version": "1.5.0",
          "state": {
            "_dom_classes": [],
            "_model_module": "@jupyter-widgets/controls",
            "_model_module_version": "1.5.0",
            "_model_name": "HTMLModel",
            "_view_count": null,
            "_view_module": "@jupyter-widgets/controls",
            "_view_module_version": "1.5.0",
            "_view_name": "HTMLView",
            "description": "",
            "description_tooltip": null,
            "layout": "IPY_MODEL_149842fd3d164c7ab4a61062204ee584",
            "placeholder": "​",
            "style": "IPY_MODEL_20ebe265860241ad974e99c944bd9340",
            "value": " 1.36M/1.36M [00:00&lt;00:00, 2.96MB/s]"
          }
        },
        "6ecc9835028e4aa1a11d6fe3a82e2e5e": {
          "model_module": "@jupyter-widgets/base",
          "model_name": "LayoutModel",
          "model_module_version": "1.2.0",
          "state": {
            "_model_module": "@jupyter-widgets/base",
            "_model_module_version": "1.2.0",
            "_model_name": "LayoutModel",
            "_view_count": null,
            "_view_module": "@jupyter-widgets/base",
            "_view_module_version": "1.2.0",
            "_view_name": "LayoutView",
            "align_content": null,
            "align_items": null,
            "align_self": null,
            "border": null,
            "bottom": null,
            "display": null,
            "flex": null,
            "flex_flow": null,
            "grid_area": null,
            "grid_auto_columns": null,
            "grid_auto_flow": null,
            "grid_auto_rows": null,
            "grid_column": null,
            "grid_gap": null,
            "grid_row": null,
            "grid_template_areas": null,
            "grid_template_columns": null,
            "grid_template_rows": null,
            "height": null,
            "justify_content": null,
            "justify_items": null,
            "left": null,
            "margin": null,
            "max_height": null,
            "max_width": null,
            "min_height": null,
            "min_width": null,
            "object_fit": null,
            "object_position": null,
            "order": null,
            "overflow": null,
            "overflow_x": null,
            "overflow_y": null,
            "padding": null,
            "right": null,
            "top": null,
            "visibility": null,
            "width": null
          }
        },
        "cef1a0de1ce9414d81754737658810fb": {
          "model_module": "@jupyter-widgets/base",
          "model_name": "LayoutModel",
          "model_module_version": "1.2.0",
          "state": {
            "_model_module": "@jupyter-widgets/base",
            "_model_module_version": "1.2.0",
            "_model_name": "LayoutModel",
            "_view_count": null,
            "_view_module": "@jupyter-widgets/base",
            "_view_module_version": "1.2.0",
            "_view_name": "LayoutView",
            "align_content": null,
            "align_items": null,
            "align_self": null,
            "border": null,
            "bottom": null,
            "display": null,
            "flex": null,
            "flex_flow": null,
            "grid_area": null,
            "grid_auto_columns": null,
            "grid_auto_flow": null,
            "grid_auto_rows": null,
            "grid_column": null,
            "grid_gap": null,
            "grid_row": null,
            "grid_template_areas": null,
            "grid_template_columns": null,
            "grid_template_rows": null,
            "height": null,
            "justify_content": null,
            "justify_items": null,
            "left": null,
            "margin": null,
            "max_height": null,
            "max_width": null,
            "min_height": null,
            "min_width": null,
            "object_fit": null,
            "object_position": null,
            "order": null,
            "overflow": null,
            "overflow_x": null,
            "overflow_y": null,
            "padding": null,
            "right": null,
            "top": null,
            "visibility": null,
            "width": null
          }
        },
        "39a09c15988d40a3b19f04f2d9545251": {
          "model_module": "@jupyter-widgets/controls",
          "model_name": "DescriptionStyleModel",
          "model_module_version": "1.5.0",
          "state": {
            "_model_module": "@jupyter-widgets/controls",
            "_model_module_version": "1.5.0",
            "_model_name": "DescriptionStyleModel",
            "_view_count": null,
            "_view_module": "@jupyter-widgets/base",
            "_view_module_version": "1.2.0",
            "_view_name": "StyleView",
            "description_width": ""
          }
        },
        "7a4c61fb3ea7479eb49a4265bf8b0de1": {
          "model_module": "@jupyter-widgets/base",
          "model_name": "LayoutModel",
          "model_module_version": "1.2.0",
          "state": {
            "_model_module": "@jupyter-widgets/base",
            "_model_module_version": "1.2.0",
            "_model_name": "LayoutModel",
            "_view_count": null,
            "_view_module": "@jupyter-widgets/base",
            "_view_module_version": "1.2.0",
            "_view_name": "LayoutView",
            "align_content": null,
            "align_items": null,
            "align_self": null,
            "border": null,
            "bottom": null,
            "display": null,
            "flex": null,
            "flex_flow": null,
            "grid_area": null,
            "grid_auto_columns": null,
            "grid_auto_flow": null,
            "grid_auto_rows": null,
            "grid_column": null,
            "grid_gap": null,
            "grid_row": null,
            "grid_template_areas": null,
            "grid_template_columns": null,
            "grid_template_rows": null,
            "height": null,
            "justify_content": null,
            "justify_items": null,
            "left": null,
            "margin": null,
            "max_height": null,
            "max_width": null,
            "min_height": null,
            "min_width": null,
            "object_fit": null,
            "object_position": null,
            "order": null,
            "overflow": null,
            "overflow_x": null,
            "overflow_y": null,
            "padding": null,
            "right": null,
            "top": null,
            "visibility": null,
            "width": null
          }
        },
        "5c8a4d4c379b411ea2e0b983c49de4f0": {
          "model_module": "@jupyter-widgets/controls",
          "model_name": "ProgressStyleModel",
          "model_module_version": "1.5.0",
          "state": {
            "_model_module": "@jupyter-widgets/controls",
            "_model_module_version": "1.5.0",
            "_model_name": "ProgressStyleModel",
            "_view_count": null,
            "_view_module": "@jupyter-widgets/base",
            "_view_module_version": "1.2.0",
            "_view_name": "StyleView",
            "bar_color": null,
            "description_width": ""
          }
        },
        "149842fd3d164c7ab4a61062204ee584": {
          "model_module": "@jupyter-widgets/base",
          "model_name": "LayoutModel",
          "model_module_version": "1.2.0",
          "state": {
            "_model_module": "@jupyter-widgets/base",
            "_model_module_version": "1.2.0",
            "_model_name": "LayoutModel",
            "_view_count": null,
            "_view_module": "@jupyter-widgets/base",
            "_view_module_version": "1.2.0",
            "_view_name": "LayoutView",
            "align_content": null,
            "align_items": null,
            "align_self": null,
            "border": null,
            "bottom": null,
            "display": null,
            "flex": null,
            "flex_flow": null,
            "grid_area": null,
            "grid_auto_columns": null,
            "grid_auto_flow": null,
            "grid_auto_rows": null,
            "grid_column": null,
            "grid_gap": null,
            "grid_row": null,
            "grid_template_areas": null,
            "grid_template_columns": null,
            "grid_template_rows": null,
            "height": null,
            "justify_content": null,
            "justify_items": null,
            "left": null,
            "margin": null,
            "max_height": null,
            "max_width": null,
            "min_height": null,
            "min_width": null,
            "object_fit": null,
            "object_position": null,
            "order": null,
            "overflow": null,
            "overflow_x": null,
            "overflow_y": null,
            "padding": null,
            "right": null,
            "top": null,
            "visibility": null,
            "width": null
          }
        },
        "20ebe265860241ad974e99c944bd9340": {
          "model_module": "@jupyter-widgets/controls",
          "model_name": "DescriptionStyleModel",
          "model_module_version": "1.5.0",
          "state": {
            "_model_module": "@jupyter-widgets/controls",
            "_model_module_version": "1.5.0",
            "_model_name": "DescriptionStyleModel",
            "_view_count": null,
            "_view_module": "@jupyter-widgets/base",
            "_view_module_version": "1.2.0",
            "_view_name": "StyleView",
            "description_width": ""
          }
        },
        "a9fee90f9f1f4aadb0b3bfe39d101c92": {
          "model_module": "@jupyter-widgets/controls",
          "model_name": "HBoxModel",
          "model_module_version": "1.5.0",
          "state": {
            "_dom_classes": [],
            "_model_module": "@jupyter-widgets/controls",
            "_model_module_version": "1.5.0",
            "_model_name": "HBoxModel",
            "_view_count": null,
            "_view_module": "@jupyter-widgets/controls",
            "_view_module_version": "1.5.0",
            "_view_name": "HBoxView",
            "box_style": "",
            "children": [
              "IPY_MODEL_f9ef169198c649a2a4bb4865e56d4f24",
              "IPY_MODEL_4cb64f92a10c44d499c082ce2dad425c",
              "IPY_MODEL_ec026adefe12497fbe8f891fc121a856"
            ],
            "layout": "IPY_MODEL_2389142555224843b23d6db905be5669"
          }
        },
        "f9ef169198c649a2a4bb4865e56d4f24": {
          "model_module": "@jupyter-widgets/controls",
          "model_name": "HTMLModel",
          "model_module_version": "1.5.0",
          "state": {
            "_dom_classes": [],
            "_model_module": "@jupyter-widgets/controls",
            "_model_module_version": "1.5.0",
            "_model_name": "HTMLModel",
            "_view_count": null,
            "_view_module": "@jupyter-widgets/controls",
            "_view_module_version": "1.5.0",
            "_view_name": "HTMLView",
            "description": "",
            "description_tooltip": null,
            "layout": "IPY_MODEL_4966fa3635ed4820b0dc7a99d98b6119",
            "placeholder": "​",
            "style": "IPY_MODEL_65f393ad6cde43ef85827c75b4bbe487",
            "value": "model.safetensors: 100%"
          }
        },
        "4cb64f92a10c44d499c082ce2dad425c": {
          "model_module": "@jupyter-widgets/controls",
          "model_name": "FloatProgressModel",
          "model_module_version": "1.5.0",
          "state": {
            "_dom_classes": [],
            "_model_module": "@jupyter-widgets/controls",
            "_model_module_version": "1.5.0",
            "_model_name": "FloatProgressModel",
            "_view_count": null,
            "_view_module": "@jupyter-widgets/controls",
            "_view_module_version": "1.5.0",
            "_view_name": "ProgressView",
            "bar_style": "success",
            "description": "",
            "description_tooltip": null,
            "layout": "IPY_MODEL_32923fd5db5d46c893890b730a2378f5",
            "max": 548105171,
            "min": 0,
            "orientation": "horizontal",
            "style": "IPY_MODEL_0450bdf8d7394b26a737475040ed53be",
            "value": 548105171
          }
        },
        "ec026adefe12497fbe8f891fc121a856": {
          "model_module": "@jupyter-widgets/controls",
          "model_name": "HTMLModel",
          "model_module_version": "1.5.0",
          "state": {
            "_dom_classes": [],
            "_model_module": "@jupyter-widgets/controls",
            "_model_module_version": "1.5.0",
            "_model_name": "HTMLModel",
            "_view_count": null,
            "_view_module": "@jupyter-widgets/controls",
            "_view_module_version": "1.5.0",
            "_view_name": "HTMLView",
            "description": "",
            "description_tooltip": null,
            "layout": "IPY_MODEL_e7291a90aac0497d831e9ae37b63f807",
            "placeholder": "​",
            "style": "IPY_MODEL_249ce23ab72545aeb91298ca2d8c93ec",
            "value": " 548M/548M [00:01&lt;00:00, 421MB/s]"
          }
        },
        "2389142555224843b23d6db905be5669": {
          "model_module": "@jupyter-widgets/base",
          "model_name": "LayoutModel",
          "model_module_version": "1.2.0",
          "state": {
            "_model_module": "@jupyter-widgets/base",
            "_model_module_version": "1.2.0",
            "_model_name": "LayoutModel",
            "_view_count": null,
            "_view_module": "@jupyter-widgets/base",
            "_view_module_version": "1.2.0",
            "_view_name": "LayoutView",
            "align_content": null,
            "align_items": null,
            "align_self": null,
            "border": null,
            "bottom": null,
            "display": null,
            "flex": null,
            "flex_flow": null,
            "grid_area": null,
            "grid_auto_columns": null,
            "grid_auto_flow": null,
            "grid_auto_rows": null,
            "grid_column": null,
            "grid_gap": null,
            "grid_row": null,
            "grid_template_areas": null,
            "grid_template_columns": null,
            "grid_template_rows": null,
            "height": null,
            "justify_content": null,
            "justify_items": null,
            "left": null,
            "margin": null,
            "max_height": null,
            "max_width": null,
            "min_height": null,
            "min_width": null,
            "object_fit": null,
            "object_position": null,
            "order": null,
            "overflow": null,
            "overflow_x": null,
            "overflow_y": null,
            "padding": null,
            "right": null,
            "top": null,
            "visibility": null,
            "width": null
          }
        },
        "4966fa3635ed4820b0dc7a99d98b6119": {
          "model_module": "@jupyter-widgets/base",
          "model_name": "LayoutModel",
          "model_module_version": "1.2.0",
          "state": {
            "_model_module": "@jupyter-widgets/base",
            "_model_module_version": "1.2.0",
            "_model_name": "LayoutModel",
            "_view_count": null,
            "_view_module": "@jupyter-widgets/base",
            "_view_module_version": "1.2.0",
            "_view_name": "LayoutView",
            "align_content": null,
            "align_items": null,
            "align_self": null,
            "border": null,
            "bottom": null,
            "display": null,
            "flex": null,
            "flex_flow": null,
            "grid_area": null,
            "grid_auto_columns": null,
            "grid_auto_flow": null,
            "grid_auto_rows": null,
            "grid_column": null,
            "grid_gap": null,
            "grid_row": null,
            "grid_template_areas": null,
            "grid_template_columns": null,
            "grid_template_rows": null,
            "height": null,
            "justify_content": null,
            "justify_items": null,
            "left": null,
            "margin": null,
            "max_height": null,
            "max_width": null,
            "min_height": null,
            "min_width": null,
            "object_fit": null,
            "object_position": null,
            "order": null,
            "overflow": null,
            "overflow_x": null,
            "overflow_y": null,
            "padding": null,
            "right": null,
            "top": null,
            "visibility": null,
            "width": null
          }
        },
        "65f393ad6cde43ef85827c75b4bbe487": {
          "model_module": "@jupyter-widgets/controls",
          "model_name": "DescriptionStyleModel",
          "model_module_version": "1.5.0",
          "state": {
            "_model_module": "@jupyter-widgets/controls",
            "_model_module_version": "1.5.0",
            "_model_name": "DescriptionStyleModel",
            "_view_count": null,
            "_view_module": "@jupyter-widgets/base",
            "_view_module_version": "1.2.0",
            "_view_name": "StyleView",
            "description_width": ""
          }
        },
        "32923fd5db5d46c893890b730a2378f5": {
          "model_module": "@jupyter-widgets/base",
          "model_name": "LayoutModel",
          "model_module_version": "1.2.0",
          "state": {
            "_model_module": "@jupyter-widgets/base",
            "_model_module_version": "1.2.0",
            "_model_name": "LayoutModel",
            "_view_count": null,
            "_view_module": "@jupyter-widgets/base",
            "_view_module_version": "1.2.0",
            "_view_name": "LayoutView",
            "align_content": null,
            "align_items": null,
            "align_self": null,
            "border": null,
            "bottom": null,
            "display": null,
            "flex": null,
            "flex_flow": null,
            "grid_area": null,
            "grid_auto_columns": null,
            "grid_auto_flow": null,
            "grid_auto_rows": null,
            "grid_column": null,
            "grid_gap": null,
            "grid_row": null,
            "grid_template_areas": null,
            "grid_template_columns": null,
            "grid_template_rows": null,
            "height": null,
            "justify_content": null,
            "justify_items": null,
            "left": null,
            "margin": null,
            "max_height": null,
            "max_width": null,
            "min_height": null,
            "min_width": null,
            "object_fit": null,
            "object_position": null,
            "order": null,
            "overflow": null,
            "overflow_x": null,
            "overflow_y": null,
            "padding": null,
            "right": null,
            "top": null,
            "visibility": null,
            "width": null
          }
        },
        "0450bdf8d7394b26a737475040ed53be": {
          "model_module": "@jupyter-widgets/controls",
          "model_name": "ProgressStyleModel",
          "model_module_version": "1.5.0",
          "state": {
            "_model_module": "@jupyter-widgets/controls",
            "_model_module_version": "1.5.0",
            "_model_name": "ProgressStyleModel",
            "_view_count": null,
            "_view_module": "@jupyter-widgets/base",
            "_view_module_version": "1.2.0",
            "_view_name": "StyleView",
            "bar_color": null,
            "description_width": ""
          }
        },
        "e7291a90aac0497d831e9ae37b63f807": {
          "model_module": "@jupyter-widgets/base",
          "model_name": "LayoutModel",
          "model_module_version": "1.2.0",
          "state": {
            "_model_module": "@jupyter-widgets/base",
            "_model_module_version": "1.2.0",
            "_model_name": "LayoutModel",
            "_view_count": null,
            "_view_module": "@jupyter-widgets/base",
            "_view_module_version": "1.2.0",
            "_view_name": "LayoutView",
            "align_content": null,
            "align_items": null,
            "align_self": null,
            "border": null,
            "bottom": null,
            "display": null,
            "flex": null,
            "flex_flow": null,
            "grid_area": null,
            "grid_auto_columns": null,
            "grid_auto_flow": null,
            "grid_auto_rows": null,
            "grid_column": null,
            "grid_gap": null,
            "grid_row": null,
            "grid_template_areas": null,
            "grid_template_columns": null,
            "grid_template_rows": null,
            "height": null,
            "justify_content": null,
            "justify_items": null,
            "left": null,
            "margin": null,
            "max_height": null,
            "max_width": null,
            "min_height": null,
            "min_width": null,
            "object_fit": null,
            "object_position": null,
            "order": null,
            "overflow": null,
            "overflow_x": null,
            "overflow_y": null,
            "padding": null,
            "right": null,
            "top": null,
            "visibility": null,
            "width": null
          }
        },
        "249ce23ab72545aeb91298ca2d8c93ec": {
          "model_module": "@jupyter-widgets/controls",
          "model_name": "DescriptionStyleModel",
          "model_module_version": "1.5.0",
          "state": {
            "_model_module": "@jupyter-widgets/controls",
            "_model_module_version": "1.5.0",
            "_model_name": "DescriptionStyleModel",
            "_view_count": null,
            "_view_module": "@jupyter-widgets/base",
            "_view_module_version": "1.2.0",
            "_view_name": "StyleView",
            "description_width": ""
          }
        },
        "a825da93fbd8477ca74e29b5f175241b": {
          "model_module": "@jupyter-widgets/controls",
          "model_name": "HBoxModel",
          "model_module_version": "1.5.0",
          "state": {
            "_dom_classes": [],
            "_model_module": "@jupyter-widgets/controls",
            "_model_module_version": "1.5.0",
            "_model_name": "HBoxModel",
            "_view_count": null,
            "_view_module": "@jupyter-widgets/controls",
            "_view_module_version": "1.5.0",
            "_view_name": "HBoxView",
            "box_style": "",
            "children": [
              "IPY_MODEL_7f38ff0240cf4e9d92bd635908311a6f",
              "IPY_MODEL_2d4a245c11aa4fb0ae3f4764b81fbd4d",
              "IPY_MODEL_511621ea5a374e919be34894ee7806cb"
            ],
            "layout": "IPY_MODEL_ca5b3b5821e54c0c8ad67441f5a67d99"
          }
        },
        "7f38ff0240cf4e9d92bd635908311a6f": {
          "model_module": "@jupyter-widgets/controls",
          "model_name": "HTMLModel",
          "model_module_version": "1.5.0",
          "state": {
            "_dom_classes": [],
            "_model_module": "@jupyter-widgets/controls",
            "_model_module_version": "1.5.0",
            "_model_name": "HTMLModel",
            "_view_count": null,
            "_view_module": "@jupyter-widgets/controls",
            "_view_module_version": "1.5.0",
            "_view_name": "HTMLView",
            "description": "",
            "description_tooltip": null,
            "layout": "IPY_MODEL_049f3915704941ac9f6808692571eafa",
            "placeholder": "​",
            "style": "IPY_MODEL_d4d4bdabb60f449193993a00e6698548",
            "value": "generation_config.json: 100%"
          }
        },
        "2d4a245c11aa4fb0ae3f4764b81fbd4d": {
          "model_module": "@jupyter-widgets/controls",
          "model_name": "FloatProgressModel",
          "model_module_version": "1.5.0",
          "state": {
            "_dom_classes": [],
            "_model_module": "@jupyter-widgets/controls",
            "_model_module_version": "1.5.0",
            "_model_name": "FloatProgressModel",
            "_view_count": null,
            "_view_module": "@jupyter-widgets/controls",
            "_view_module_version": "1.5.0",
            "_view_name": "ProgressView",
            "bar_style": "success",
            "description": "",
            "description_tooltip": null,
            "layout": "IPY_MODEL_be3e1168589a4166a3e9554cb5415148",
            "max": 124,
            "min": 0,
            "orientation": "horizontal",
            "style": "IPY_MODEL_d68c15c63626446dad80a5f127f936f3",
            "value": 124
          }
        },
        "511621ea5a374e919be34894ee7806cb": {
          "model_module": "@jupyter-widgets/controls",
          "model_name": "HTMLModel",
          "model_module_version": "1.5.0",
          "state": {
            "_dom_classes": [],
            "_model_module": "@jupyter-widgets/controls",
            "_model_module_version": "1.5.0",
            "_model_name": "HTMLModel",
            "_view_count": null,
            "_view_module": "@jupyter-widgets/controls",
            "_view_module_version": "1.5.0",
            "_view_name": "HTMLView",
            "description": "",
            "description_tooltip": null,
            "layout": "IPY_MODEL_b8f344c4135c46b0830de7614df5ae9b",
            "placeholder": "​",
            "style": "IPY_MODEL_ed1931542f1645b0ad6a5491ebcf9fd8",
            "value": " 124/124 [00:00&lt;00:00, 11.9kB/s]"
          }
        },
        "ca5b3b5821e54c0c8ad67441f5a67d99": {
          "model_module": "@jupyter-widgets/base",
          "model_name": "LayoutModel",
          "model_module_version": "1.2.0",
          "state": {
            "_model_module": "@jupyter-widgets/base",
            "_model_module_version": "1.2.0",
            "_model_name": "LayoutModel",
            "_view_count": null,
            "_view_module": "@jupyter-widgets/base",
            "_view_module_version": "1.2.0",
            "_view_name": "LayoutView",
            "align_content": null,
            "align_items": null,
            "align_self": null,
            "border": null,
            "bottom": null,
            "display": null,
            "flex": null,
            "flex_flow": null,
            "grid_area": null,
            "grid_auto_columns": null,
            "grid_auto_flow": null,
            "grid_auto_rows": null,
            "grid_column": null,
            "grid_gap": null,
            "grid_row": null,
            "grid_template_areas": null,
            "grid_template_columns": null,
            "grid_template_rows": null,
            "height": null,
            "justify_content": null,
            "justify_items": null,
            "left": null,
            "margin": null,
            "max_height": null,
            "max_width": null,
            "min_height": null,
            "min_width": null,
            "object_fit": null,
            "object_position": null,
            "order": null,
            "overflow": null,
            "overflow_x": null,
            "overflow_y": null,
            "padding": null,
            "right": null,
            "top": null,
            "visibility": null,
            "width": null
          }
        },
        "049f3915704941ac9f6808692571eafa": {
          "model_module": "@jupyter-widgets/base",
          "model_name": "LayoutModel",
          "model_module_version": "1.2.0",
          "state": {
            "_model_module": "@jupyter-widgets/base",
            "_model_module_version": "1.2.0",
            "_model_name": "LayoutModel",
            "_view_count": null,
            "_view_module": "@jupyter-widgets/base",
            "_view_module_version": "1.2.0",
            "_view_name": "LayoutView",
            "align_content": null,
            "align_items": null,
            "align_self": null,
            "border": null,
            "bottom": null,
            "display": null,
            "flex": null,
            "flex_flow": null,
            "grid_area": null,
            "grid_auto_columns": null,
            "grid_auto_flow": null,
            "grid_auto_rows": null,
            "grid_column": null,
            "grid_gap": null,
            "grid_row": null,
            "grid_template_areas": null,
            "grid_template_columns": null,
            "grid_template_rows": null,
            "height": null,
            "justify_content": null,
            "justify_items": null,
            "left": null,
            "margin": null,
            "max_height": null,
            "max_width": null,
            "min_height": null,
            "min_width": null,
            "object_fit": null,
            "object_position": null,
            "order": null,
            "overflow": null,
            "overflow_x": null,
            "overflow_y": null,
            "padding": null,
            "right": null,
            "top": null,
            "visibility": null,
            "width": null
          }
        },
        "d4d4bdabb60f449193993a00e6698548": {
          "model_module": "@jupyter-widgets/controls",
          "model_name": "DescriptionStyleModel",
          "model_module_version": "1.5.0",
          "state": {
            "_model_module": "@jupyter-widgets/controls",
            "_model_module_version": "1.5.0",
            "_model_name": "DescriptionStyleModel",
            "_view_count": null,
            "_view_module": "@jupyter-widgets/base",
            "_view_module_version": "1.2.0",
            "_view_name": "StyleView",
            "description_width": ""
          }
        },
        "be3e1168589a4166a3e9554cb5415148": {
          "model_module": "@jupyter-widgets/base",
          "model_name": "LayoutModel",
          "model_module_version": "1.2.0",
          "state": {
            "_model_module": "@jupyter-widgets/base",
            "_model_module_version": "1.2.0",
            "_model_name": "LayoutModel",
            "_view_count": null,
            "_view_module": "@jupyter-widgets/base",
            "_view_module_version": "1.2.0",
            "_view_name": "LayoutView",
            "align_content": null,
            "align_items": null,
            "align_self": null,
            "border": null,
            "bottom": null,
            "display": null,
            "flex": null,
            "flex_flow": null,
            "grid_area": null,
            "grid_auto_columns": null,
            "grid_auto_flow": null,
            "grid_auto_rows": null,
            "grid_column": null,
            "grid_gap": null,
            "grid_row": null,
            "grid_template_areas": null,
            "grid_template_columns": null,
            "grid_template_rows": null,
            "height": null,
            "justify_content": null,
            "justify_items": null,
            "left": null,
            "margin": null,
            "max_height": null,
            "max_width": null,
            "min_height": null,
            "min_width": null,
            "object_fit": null,
            "object_position": null,
            "order": null,
            "overflow": null,
            "overflow_x": null,
            "overflow_y": null,
            "padding": null,
            "right": null,
            "top": null,
            "visibility": null,
            "width": null
          }
        },
        "d68c15c63626446dad80a5f127f936f3": {
          "model_module": "@jupyter-widgets/controls",
          "model_name": "ProgressStyleModel",
          "model_module_version": "1.5.0",
          "state": {
            "_model_module": "@jupyter-widgets/controls",
            "_model_module_version": "1.5.0",
            "_model_name": "ProgressStyleModel",
            "_view_count": null,
            "_view_module": "@jupyter-widgets/base",
            "_view_module_version": "1.2.0",
            "_view_name": "StyleView",
            "bar_color": null,
            "description_width": ""
          }
        },
        "b8f344c4135c46b0830de7614df5ae9b": {
          "model_module": "@jupyter-widgets/base",
          "model_name": "LayoutModel",
          "model_module_version": "1.2.0",
          "state": {
            "_model_module": "@jupyter-widgets/base",
            "_model_module_version": "1.2.0",
            "_model_name": "LayoutModel",
            "_view_count": null,
            "_view_module": "@jupyter-widgets/base",
            "_view_module_version": "1.2.0",
            "_view_name": "LayoutView",
            "align_content": null,
            "align_items": null,
            "align_self": null,
            "border": null,
            "bottom": null,
            "display": null,
            "flex": null,
            "flex_flow": null,
            "grid_area": null,
            "grid_auto_columns": null,
            "grid_auto_flow": null,
            "grid_auto_rows": null,
            "grid_column": null,
            "grid_gap": null,
            "grid_row": null,
            "grid_template_areas": null,
            "grid_template_columns": null,
            "grid_template_rows": null,
            "height": null,
            "justify_content": null,
            "justify_items": null,
            "left": null,
            "margin": null,
            "max_height": null,
            "max_width": null,
            "min_height": null,
            "min_width": null,
            "object_fit": null,
            "object_position": null,
            "order": null,
            "overflow": null,
            "overflow_x": null,
            "overflow_y": null,
            "padding": null,
            "right": null,
            "top": null,
            "visibility": null,
            "width": null
          }
        },
        "ed1931542f1645b0ad6a5491ebcf9fd8": {
          "model_module": "@jupyter-widgets/controls",
          "model_name": "DescriptionStyleModel",
          "model_module_version": "1.5.0",
          "state": {
            "_model_module": "@jupyter-widgets/controls",
            "_model_module_version": "1.5.0",
            "_model_name": "DescriptionStyleModel",
            "_view_count": null,
            "_view_module": "@jupyter-widgets/base",
            "_view_module_version": "1.2.0",
            "_view_name": "StyleView",
            "description_width": ""
          }
        }
      }
    },
    "accelerator": "GPU"
  },
  "cells": [
    {
      "cell_type": "markdown",
      "source": [
        "# Setup"
      ],
      "metadata": {
        "id": "S6F7yiUUouDz"
      }
    },
    {
      "cell_type": "code",
      "source": [
        "from transformers import AutoModelForCausalLM, AutoTokenizer\n",
        "import torch as t\n",
        "import torch.nn.functional as F"
      ],
      "metadata": {
        "id": "0t86mJ039Pbo"
      },
      "execution_count": 1,
      "outputs": []
    },
    {
      "cell_type": "code",
      "source": [
        "model_name = 'gpt2'\n",
        "device = 'cuda:0' if t.cuda.is_available() else 'cpu'\n",
        "tokenizer = AutoTokenizer.from_pretrained(model_name)\n",
        "model = AutoModelForCausalLM.from_pretrained(model_name, torch_dtype=t.float16).to(device)"
      ],
      "metadata": {
        "colab": {
          "base_uri": "https://localhost:8080/",
          "height": 0,
          "referenced_widgets": [
            "8bee83b62b8c430a8f9e2e99e1d812eb",
            "566b881f899245599e9cce9eaf79ab29",
            "82758c4a631d47a9a3579df91b20c5f4",
            "dafbc5cb2c9949dd9ccba012204529c3",
            "eed94fc4f9624d8391ff2360bb697227",
            "df28639283d949b79ba40f7c7c8e3bc4",
            "cc43f1d1b50f4b88a5138bdc32046aa0",
            "e397ca9a222e453f82839982e030a562",
            "6e9cc13dba6f4082bc8624beb93b6287",
            "cfbbc8ff7b0e4d529a5035f679f86f06",
            "6897efc9b6ba49059038d3879fd10341",
            "f1c4a45e73d740b686548ac3c1a66542",
            "06f2bede6f1d4d9f93de0fe3ed5c5296",
            "6a39ebcbf92f4930bdf49e103b6e4652",
            "fadb5520654f44c4ad99d6a300517ebf",
            "a942658805a042359fdba7f2cd91e36b",
            "729720c1ba8c4b3e89744a71d3be2aab",
            "b414cbbc48e04e878c60e81a2fc53b10",
            "5869dac16b49481890bacc4ac705affc",
            "0865fd7b3721438785fbc314d03b949b",
            "d123101583664c5984d66a48fe7141f4",
            "84fa0115131b4c8caca0068950115c70",
            "a2d595a3646d492dae99c67dc2ce9c53",
            "b99cd6c7492a4704a34fc4690a04f3ee",
            "8d1767282caa484d919e9dae58585144",
            "3d3ec648d66d434391aef03ee092abd5",
            "010e7318f89747d994fe4b5ad7185fb0",
            "6703548575524a3baca30e4c2321e3a9",
            "dddfe617c80848c0aadd8afcf506243c",
            "02286f966cb6473fb90352c906a413ee",
            "8cd4d2372c95483a9a57d68d8e83f027",
            "463905983d8a4b6abcb19eaf5215bb0b",
            "36539e238f1642cc912831aee242cfe8",
            "57bdbe21a7d447d9a953009b2e4cc9d0",
            "d793aae79c5e46f7845b2d307bc41540",
            "e3268dc76e9141c8af3134c75ae02962",
            "3d38f151d0754d218689d3d97d0b7248",
            "6ecc9835028e4aa1a11d6fe3a82e2e5e",
            "cef1a0de1ce9414d81754737658810fb",
            "39a09c15988d40a3b19f04f2d9545251",
            "7a4c61fb3ea7479eb49a4265bf8b0de1",
            "5c8a4d4c379b411ea2e0b983c49de4f0",
            "149842fd3d164c7ab4a61062204ee584",
            "20ebe265860241ad974e99c944bd9340",
            "a9fee90f9f1f4aadb0b3bfe39d101c92",
            "f9ef169198c649a2a4bb4865e56d4f24",
            "4cb64f92a10c44d499c082ce2dad425c",
            "ec026adefe12497fbe8f891fc121a856",
            "2389142555224843b23d6db905be5669",
            "4966fa3635ed4820b0dc7a99d98b6119",
            "65f393ad6cde43ef85827c75b4bbe487",
            "32923fd5db5d46c893890b730a2378f5",
            "0450bdf8d7394b26a737475040ed53be",
            "e7291a90aac0497d831e9ae37b63f807",
            "249ce23ab72545aeb91298ca2d8c93ec",
            "a825da93fbd8477ca74e29b5f175241b",
            "7f38ff0240cf4e9d92bd635908311a6f",
            "2d4a245c11aa4fb0ae3f4764b81fbd4d",
            "511621ea5a374e919be34894ee7806cb",
            "ca5b3b5821e54c0c8ad67441f5a67d99",
            "049f3915704941ac9f6808692571eafa",
            "d4d4bdabb60f449193993a00e6698548",
            "be3e1168589a4166a3e9554cb5415148",
            "d68c15c63626446dad80a5f127f936f3",
            "b8f344c4135c46b0830de7614df5ae9b",
            "ed1931542f1645b0ad6a5491ebcf9fd8"
          ]
        },
        "id": "o_Yx65j2o0YW",
        "outputId": "19ea4704-af57-4fda-a67d-7ba3ff25d84d"
      },
      "execution_count": 2,
      "outputs": [
        {
          "output_type": "stream",
          "name": "stderr",
          "text": [
            "/usr/local/lib/python3.10/dist-packages/huggingface_hub/utils/_token.py:88: UserWarning: \n",
            "The secret `HF_TOKEN` does not exist in your Colab secrets.\n",
            "To authenticate with the Hugging Face Hub, create a token in your settings tab (https://huggingface.co/settings/tokens), set it as secret in your Google Colab and restart your session.\n",
            "You will be able to reuse this secret in all of your notebooks.\n",
            "Please note that authentication is recommended but still optional to access public models or datasets.\n",
            "  warnings.warn(\n"
          ]
        },
        {
          "output_type": "display_data",
          "data": {
            "text/plain": [
              "config.json:   0%|          | 0.00/665 [00:00<?, ?B/s]"
            ],
            "application/vnd.jupyter.widget-view+json": {
              "version_major": 2,
              "version_minor": 0,
              "model_id": "8bee83b62b8c430a8f9e2e99e1d812eb"
            }
          },
          "metadata": {}
        },
        {
          "output_type": "display_data",
          "data": {
            "text/plain": [
              "vocab.json:   0%|          | 0.00/1.04M [00:00<?, ?B/s]"
            ],
            "application/vnd.jupyter.widget-view+json": {
              "version_major": 2,
              "version_minor": 0,
              "model_id": "f1c4a45e73d740b686548ac3c1a66542"
            }
          },
          "metadata": {}
        },
        {
          "output_type": "display_data",
          "data": {
            "text/plain": [
              "merges.txt:   0%|          | 0.00/456k [00:00<?, ?B/s]"
            ],
            "application/vnd.jupyter.widget-view+json": {
              "version_major": 2,
              "version_minor": 0,
              "model_id": "a2d595a3646d492dae99c67dc2ce9c53"
            }
          },
          "metadata": {}
        },
        {
          "output_type": "display_data",
          "data": {
            "text/plain": [
              "tokenizer.json:   0%|          | 0.00/1.36M [00:00<?, ?B/s]"
            ],
            "application/vnd.jupyter.widget-view+json": {
              "version_major": 2,
              "version_minor": 0,
              "model_id": "57bdbe21a7d447d9a953009b2e4cc9d0"
            }
          },
          "metadata": {}
        },
        {
          "output_type": "display_data",
          "data": {
            "text/plain": [
              "model.safetensors:   0%|          | 0.00/548M [00:00<?, ?B/s]"
            ],
            "application/vnd.jupyter.widget-view+json": {
              "version_major": 2,
              "version_minor": 0,
              "model_id": "a9fee90f9f1f4aadb0b3bfe39d101c92"
            }
          },
          "metadata": {}
        },
        {
          "output_type": "display_data",
          "data": {
            "text/plain": [
              "generation_config.json:   0%|          | 0.00/124 [00:00<?, ?B/s]"
            ],
            "application/vnd.jupyter.widget-view+json": {
              "version_major": 2,
              "version_minor": 0,
              "model_id": "a825da93fbd8477ca74e29b5f175241b"
            }
          },
          "metadata": {}
        }
      ]
    },
    {
      "cell_type": "markdown",
      "source": [
        "# Functions"
      ],
      "metadata": {
        "id": "QZSSALUFF4EY"
      }
    },
    {
      "cell_type": "code",
      "source": [
        "def actvs_to_logits(hidden_states):\n",
        "    \"\"\"\n",
        "    outputs.hidden_states is a tuple for every layer\n",
        "    each tuple member is an actvs tensor of size (batch_size, seq_len, d_model)\n",
        "    loop thru tuple to get actv for each layer\n",
        "    \"\"\"\n",
        "    layer_logits_list = []  # logits for each layer hidden state output actvs\n",
        "    for i, h in enumerate(hidden_states):\n",
        "        h_last_tok = h[:, -1, :]\n",
        "        if i == len(hidden_states) - 1:\n",
        "            h_last_tok = model.transformer.ln_f(h_last_tok)  # apply layer norm as not in last\n",
        "        logits = t.einsum('ab,cb->ac', model.lm_head.weight, h_last_tok)\n",
        "        layer_logits_list.append(logits)\n",
        "    return layer_logits_list\n",
        "\n",
        "def get_logits(input_text):\n",
        "    token_ids = tokenizer.encode(input_text, return_tensors='pt').to(device)\n",
        "    outputs = model(token_ids, output_hidden_states=True)\n",
        "    logits = actvs_to_logits(outputs.hidden_states)\n",
        "    logits = t.stack(logits).squeeze(-1)\n",
        "    return logits"
      ],
      "metadata": {
        "id": "aP84slBk993I"
      },
      "execution_count": 3,
      "outputs": []
    },
    {
      "cell_type": "code",
      "source": [
        "def get_decoded_indiv_toks(layer_logits, k=10):\n",
        "    \"\"\"\n",
        "    i is the layer (from before to last).\n",
        "    layer_logits[i] are the scores for each token in vocab dim for the ith unembedded layer\n",
        "    j is the top 5\n",
        "    \"\"\"\n",
        "    output_list = []\n",
        "    for i, layer in enumerate(layer_logits):\n",
        "        top_5_at_layer = []\n",
        "        sorted_token_ids = F.softmax(layer_logits[i],dim=-1).argsort(descending=True)\n",
        "        for j in range(5):  # loop to separate them in a list, rather than concat into one str\n",
        "            top_5_at_layer.append(tokenizer.decode(sorted_token_ids[j]))\n",
        "        output_list.append( top_5_at_layer )\n",
        "    return output_list"
      ],
      "metadata": {
        "id": "hYhiGnKSFYfN"
      },
      "execution_count": 4,
      "outputs": []
    },
    {
      "cell_type": "markdown",
      "source": [
        "# Test one samp each type"
      ],
      "metadata": {
        "id": "O-LRjEzwpC1w"
      }
    },
    {
      "cell_type": "code",
      "source": [
        "prompts = [\"1 2 3 4\", \"one two three four\", \"January February March April\"]\n",
        "for test_text in prompts:\n",
        "    layer_logits = get_logits(test_text)\n",
        "    tok_logit_lens = get_decoded_indiv_toks(layer_logits)\n",
        "    for i, tokouts in enumerate(tok_logit_lens):\n",
        "        print(i-1, tokouts)\n",
        "    print('\\n')"
      ],
      "metadata": {
        "colab": {
          "base_uri": "https://localhost:8080/"
        },
        "id": "dG6p2Q8WpVDW",
        "outputId": "8ddf7617-c7fe-49c3-f44f-7e1263d4b863"
      },
      "execution_count": 5,
      "outputs": [
        {
          "output_type": "stream",
          "name": "stdout",
          "text": [
            "-1 [' 4', ' 3', ' 5', ' 2', ' 6']\n",
            "0 [' the', '-', ' a', ',', ' \"']\n",
            "1 ['th', '.', '-', ' the', ',']\n",
            "2 ['.', ',', 'th', '-', ' the']\n",
            "3 ['.', ' -', 'th', '.', ' X']\n",
            "4 [' -', '.', ' a', ' 4', 'th']\n",
            "5 [' -', ' 3', '.', ' 4', ' 5']\n",
            "6 [' 4', ' 3', ' 5', ' 1', '.']\n",
            "7 [' 4', ' 5', ' 3', ' 6', '!']\n",
            "8 [' 4', ' 5', ' 3', '!', '\"']\n",
            "9 [' 5', '!', '\"', '#', '$']\n",
            "10 [' 5', '-', '!', '\"', '#']\n",
            "11 [' 5', '\\n', ',', '.', ' (']\n",
            "\n",
            "\n",
            "-1 [' four', ' three', ' five', 'four', 'three']\n",
            "0 [' the', '-', ' and', ' a', ' \"']\n",
            "1 ['teen', '-', 'teenth', ' \"', ' three']\n",
            "2 ['teen', '-', ' hundred', 'teenth', 'some']\n",
            "3 ['teen', '-', ' hundred', ' times', 'teenth']\n",
            "4 ['teen', '-', ' of', ' times', 'teenth']\n",
            "5 ['-', ',', ' of', ' and', '.']\n",
            "6 ['-', ',', '.', ' and', ' of']\n",
            "7 ['-', '\\n', ',', ' and', ' 4']\n",
            "8 [' 4', '-', '\\n', ' 3', ' 5']\n",
            "9 [' five', ' 5', '!', '\"', '#']\n",
            "10 [',', '-', '.', '!', '\"']\n",
            "11 [',', '.', '\\n', ' and', ' the']\n",
            "\n",
            "\n",
            "-1 [' April', 'April', ' June', ' February', 'June']\n",
            "0 [',', ' the', '-', '.', ' and']\n",
            "1 [',', '-', ' the', '.', ' 1']\n",
            "2 [',', '-', ' 3', ' 1', ' 30']\n",
            "3 [',', ' 30', ' 2015', ' 3', '-']\n",
            "4 [',', ' 24', ' 3', ' 4', '.']\n",
            "5 [',', '-', ' 3', '.', '/']\n",
            "6 ['/', ',', ' 30', ' 3', ' 1']\n",
            "7 ['/', ' 1', ' 4', ' the', ' 3']\n",
            "8 [' April', ' May', ' 2014', ' 2015', ' June']\n",
            "9 [' May', '!', '\"', '#', '$']\n",
            "10 [' May', '!', '\"', '#', '$']\n",
            "11 ['\\n', ' May', ',', ' the', ' (']\n",
            "\n",
            "\n"
          ]
        }
      ]
    },
    {
      "cell_type": "markdown",
      "source": [
        "# pure seq prompts"
      ],
      "metadata": {
        "id": "jcwyrfWXt7Dp"
      }
    },
    {
      "cell_type": "code",
      "source": [
        "# def generate_prompts_list(x ,y):\n",
        "#     prompts_list = []\n",
        "#     for i in range(x, y):\n",
        "#         prompt_dict = {\n",
        "#             'corr': str(i+4),\n",
        "#             'incorr': str(i+3),\n",
        "#             'text': f\"{i} {i+1} {i+2} {i+3}\"\n",
        "#         }\n",
        "#         prompts_list.append(prompt_dict)\n",
        "#     return prompts_list\n",
        "\n",
        "# prompts_list = generate_prompts_list(1, 9)"
      ],
      "metadata": {
        "id": "K9IRRBHauN1y"
      },
      "execution_count": null,
      "outputs": []
    },
    {
      "cell_type": "code",
      "source": [
        "# for pd in prompts_list:\n",
        "#     test_text = pd['text']\n",
        "#     layer_logits = get_logits(test_text)\n",
        "#     tok_logit_lens = get_decoded_indiv_toks(layer_logits)\n",
        "#     for i, tokouts in enumerate(tok_logit_lens):\n",
        "#         print(i-1, tokouts)\n",
        "#     print('\\n')"
      ],
      "metadata": {
        "colab": {
          "base_uri": "https://localhost:8080/"
        },
        "id": "fDDAX6cFuiSV",
        "outputId": "550a0921-2dbf-4046-8265-71038b4952f9"
      },
      "execution_count": null,
      "outputs": [
        {
          "output_type": "stream",
          "name": "stdout",
          "text": [
            "-1 [' 4', ' livest', ' mathemat', ' myster', ' horizont']\n",
            "0 ['th', 'teenth', 'x', ' 4', ' 3']\n",
            "1 ['th', 'teenth', '54', 'x', '39']\n",
            "2 ['th', 'x', '34', '54', 'GHz']\n",
            "3 ['34', '54', 'th', 'GHz', '86']\n",
            "4 ['ts', 'ms', '34', 'th', 'ths']\n",
            "5 ['ts', ' 4', ' -', ' 3', ' 5']\n",
            "6 [' 4', '★', ' 3', ' 5', ' 6']\n",
            "7 [' 4', ' 5', ' 6', ' 3', ' 0']\n",
            "8 [' 4', ' 5', ' 3', ' 6', ' 1']\n",
            "9 [' 5', ' 4', ' 6', ' 3', ' 7']\n",
            "10 [' 5', ' 6', ' 4', ' 3', ' 7']\n",
            "11 [' 5', ' 4', ' 1', ' 6', ' 3']\n",
            "\n",
            "\n",
            "-1 [' livest', ' 5', ' destro', 'theless', ' mathemat']\n",
            "0 ['th', ' 5', ' 3', 'x', ' times']\n",
            "1 ['th', 'x', '54', '45', '43']\n",
            "2 ['th', '34', 'x', 'min', '54']\n",
            "3 ['34', 'th', '90', '54', '85']\n",
            "4 ['ths', 'ts', ' -', 'min', '34']\n",
            "5 [' -', 'ts', ' 3', 'ths', ' 5']\n",
            "6 [' 5', ' 4', ' 3', ' 6', '★']\n",
            "7 [' 5', ' 6', ' 4', ' 3', ' 9']\n",
            "8 [' 5', ' 6', ' 4', ' 3', ' 7']\n",
            "9 [' 6', ' 5', ' 4', ' 7', '6']\n",
            "10 [' 6', ' 5', ' 4', ' 7', ' 8']\n",
            "11 [' 6', ' 5', ' 4', ' 7', ' 0']\n",
            "\n",
            "\n",
            "-1 [' 6', ' livest', ' destro', ' mathemat', ' challeng']\n",
            "0 ['th', '36', '31', '34', '38']\n",
            "1 ['th', '36', '34', '31', '38']\n",
            "2 ['34', '36', 'th', '38', '31']\n",
            "3 ['34', '36', '39', '31', '79']\n",
            "4 ['34', 'th', '36', '79', '39']\n",
            "5 [' -', '34', 'ts', '79', ' inches']\n",
            "6 [' 6', ' 4', ' +', ' 3', ' 7']\n",
            "7 [' 6', ' 7', ' 4', ' 5', ' 9']\n",
            "8 [' 6', ' 7', ' 5', ' 4', ' 8']\n",
            "9 [' 7', ' 6', ' 5', ' 8', ' 9']\n",
            "10 [' 7', ' 6', ' 8', ' 9', ' 5']\n",
            "11 [' 7', ' 6', ' 8', ' 5', ' 1']\n",
            "\n",
            "\n",
            "-1 [' 7', ' livest', ' challeng', ' mathemat', 'theless']\n",
            "0 ['th', '16', '14', '11', '17']\n",
            "1 ['th', '69', '79', '39', '71']\n",
            "2 ['th', '69', '34', '38', '39']\n",
            "3 ['79', 'th', '69', '86', '34']\n",
            "4 ['th', '79', ' -', '69', '49']\n",
            "5 [' -', ' 9', ' 7', 'ts', ' +']\n",
            "6 [' 7', ' 9', ' 4', ' 3', ' 8']\n",
            "7 [' 7', ' 9', ' 8', ' 6', ' 4']\n",
            "8 [' 7', ' 8', ' 6', ' 9', ' 4']\n",
            "9 [' 8', ' 7', ' 9', ' 6', ' 4']\n",
            "10 [' 8', ' 7', ' 9', ' 4', ' 6']\n",
            "11 [' 8', ' 7', ' 4', ' 9', ' 6']\n",
            "\n",
            "\n",
            "-1 [' 8', ' mathemat', ' livest', ' challeng', ' horizont']\n",
            "0 ['90', 'th', '16', '80', 'x']\n",
            "1 ['90', '80', '54', '79', 'th']\n",
            "2 ['90', '54', '79', '56', 'x']\n",
            "3 ['79', '90', '76', '54', '74']\n",
            "4 ['79', '54', 'ms', '90', '76']\n",
            "5 [' -', ' +', ' 9', ' tiles', '79']\n",
            "6 [' 9', ' 4', ' 8', ' +', ' 3']\n",
            "7 [' 9', ' 8', ' 4', ' 7', ' 6']\n",
            "8 [' 8', ' 9', ' 7', ' 6', ' 4']\n",
            "9 [' 9', ' 8', ' 7', ' 10', ' 11']\n",
            "10 [' 9', ' 8', ' 7', ' 10', ' 5']\n",
            "11 [' 9', ' 8', ' 10', ' 7', ' 5']\n",
            "\n",
            "\n",
            "-1 [' 9', ' mathemat', ' livest', ' destro', ' challeng']\n",
            "0 ['14', '73', '90', '999', '74']\n",
            "1 ['79', '74', '59', '71', '999']\n",
            "2 ['9999', '999', '79', '74', '39']\n",
            "3 ['9999', '999', '79', '74', '76']\n",
            "4 ['999', '9999', '79', '09', 'ms']\n",
            "5 ['999', '9999', ' +', ' -', ' 9']\n",
            "6 ['999', '9999', ' 9', ' +', ' 4']\n",
            "7 [' 9', '999', ' 6', ' 4', ' 8']\n",
            "8 [' 9', ' 8', ' 10', ' 11', ' 6']\n",
            "9 [' 10', ' 9', ' 8', '10', ' 11']\n",
            "10 [' 10', ' 9', ' 11', ' 8', ' 12']\n",
            "11 [' 10', ' 9', ' 5', ' 8', ' 0']\n",
            "\n",
            "\n",
            "-1 [' 10', ' livest', ' challeng', ' mathemat', 'theless']\n",
            "0 ['40', 'th', '20', ' times', ' 10']\n",
            "1 ['th', '40', '55', '20', '85']\n",
            "2 ['40', '20', '30', 'th', '36']\n",
            "3 [' Tigers', '40', '85', '45', '55']\n",
            "4 [' Tigers', 'ms', '45', '40', ' 9']\n",
            "5 [' +', ' Tigers', 'ms', ' 9', ' votes']\n",
            "6 [' 9', ' +', ' 4', ' 5', ' 6']\n",
            "7 [' 9', ' 11', ' 10', ' 5', ' 6']\n",
            "8 [' 9', ' 10', ' 11', ' 8', ' 6']\n",
            "9 [' 11', ' 10', '11', ' 9', ' 12']\n",
            "10 [' 11', ' 12', ' 10', ' 9', ' 13']\n",
            "11 [' 11', '\\n', ' 12', ' 10', ' 9']\n",
            "\n",
            "\n",
            "-1 [' 11', ' mathemat', ' livest', ' 12', ' challeng']\n",
            "0 ['th', ' 11', '11', '10', '12']\n",
            "1 ['th', ' 11', '45', '10', '30']\n",
            "2 ['th', '30', '45', '34', '36']\n",
            "3 ['30', '45', '34', '37', '36']\n",
            "4 ['45', '34', 'th', '36', '.']\n",
            "5 [' votes', '.', ' 9', ' -', 'work']\n",
            "6 [' 9', '.', ' 11', ' 4', ' 6']\n",
            "7 [' 11', ' 9', ' 1', ' 4', ' 6']\n",
            "8 [' 11', ' 12', ' 111', ' 9', ' 13']\n",
            "9 [' 12', ' 11', '12', ' 13', ' 14']\n",
            "10 [' 12', ' 13', '12', ' 14', ' 11']\n",
            "11 [' 12', ' 13', '\\n', ' 2', ' 0']\n",
            "\n",
            "\n"
          ]
        }
      ]
    },
    {
      "cell_type": "markdown",
      "source": [
        "# pure seq prompts nw"
      ],
      "metadata": {
        "id": "K_-_eyDu8ax-"
      }
    },
    {
      "cell_type": "code",
      "source": [
        "# def generate_prompts_list(x ,y):\n",
        "#     words = [' one', ' two', ' three', ' four', ' five', ' six', ' seven', ' eight', ' nine', ' ten', ' eleven', ' twelve', ' thirteen', ' fourteen', ' fifteen', ' sixteen', ' seventeen', ' eighteen', ' nineteen', ' twenty']\n",
        "#     prompts_list = []\n",
        "#     for i in range(x, y):\n",
        "#         prompt_dict = {\n",
        "#             'S1': words[i],\n",
        "#             'S2': words[i+1],\n",
        "#             'S3': words[i+2],\n",
        "#             'S4': words[i+3],\n",
        "#             'corr': words[i+4],\n",
        "#             'incorr': words[i+3],  # this is arbitrary\n",
        "#             'text': f\"{words[i]}{words[i+1]}{words[i+2]}{words[i+3]}\"\n",
        "#         }\n",
        "#         prompts_list.append(prompt_dict)\n",
        "#     return prompts_list\n",
        "\n",
        "# prompts_list = generate_prompts_list(0, 8)"
      ],
      "metadata": {
        "id": "qygWn9l38ayF"
      },
      "execution_count": null,
      "outputs": []
    },
    {
      "cell_type": "code",
      "source": [
        "# for pd in prompts_list:\n",
        "#     test_text = pd['text']\n",
        "#     layer_logits = get_logits(test_text)\n",
        "#     tok_logit_lens = get_decoded_indiv_toks(layer_logits)\n",
        "#     for i, tokouts in enumerate(tok_logit_lens):\n",
        "#         print(i-1, tokouts)\n",
        "#     print('\\n')"
      ],
      "metadata": {
        "id": "ythEry9w8ayG"
      },
      "execution_count": null,
      "outputs": []
    },
    {
      "cell_type": "markdown",
      "source": [
        "# pure seq prompts months"
      ],
      "metadata": {
        "id": "I5wf7hssBh0T"
      }
    },
    {
      "cell_type": "code",
      "source": [
        "# def generate_prompts_list(x ,y):\n",
        "#     words = ['January', 'February', 'March', 'April', 'May', 'June', 'July', 'August', 'September', 'October', 'November', 'December']\n",
        "#     prompts_list = []\n",
        "#     for i in range(x, y):\n",
        "#         prompt_dict = {\n",
        "#             'S1': words[i],\n",
        "#             'S2': words[i+1],\n",
        "#             'S3': words[i+2],\n",
        "#             'S4': words[i+3],\n",
        "#             'corr': words[i+4],\n",
        "#             'incorr': words[i+3],  # this is arbitrary\n",
        "#             'text': f\"{words[i]}{words[i+1]}{words[i+2]}{words[i+3]}\"\n",
        "#         }\n",
        "#         prompts_list.append(prompt_dict)\n",
        "#     return prompts_list\n",
        "\n",
        "# prompts_list = generate_prompts_list(0, 8)"
      ],
      "metadata": {
        "id": "NWH-wWytBh0a"
      },
      "execution_count": null,
      "outputs": []
    },
    {
      "cell_type": "code",
      "source": [
        "# for pd in prompts_list:\n",
        "#     test_text = pd['text']\n",
        "#     layer_logits = get_logits(test_text)\n",
        "#     tok_logit_lens = get_decoded_indiv_toks(layer_logits)\n",
        "#     for i, tokouts in enumerate(tok_logit_lens):\n",
        "#         print(i-1, tokouts)\n",
        "#     print('\\n')"
      ],
      "metadata": {
        "colab": {
          "base_uri": "https://localhost:8080/"
        },
        "outputId": "3fe6b875-4e8a-4ea8-fdee-ad05ae8e8417",
        "id": "dc4M3yRIBh0a"
      },
      "execution_count": null,
      "outputs": [
        {
          "output_type": "stream",
          "name": "stdout",
          "text": [
            "-1 ['April', 'June', 'February', 'October', 'September']\n",
            "0 [' 2015', ' 2014', ' May', ' Aug', ' 2013']\n",
            "1 [' 2015', ' 2014', ' 2017', ' 2013', ' 2016']\n",
            "2 [' 2014', ' 2015', ' 2013', ' 29', ' 2017']\n",
            "3 [' 2015', ' 2014', ' 29', ' 2017', ' 28']\n",
            "4 [' 2014', ' 2015', ' 29', ' 2017', ' 30']\n",
            "5 [' 29', ' 30', ' 2014', ' 28', '/']\n",
            "6 [' 2014', ' 29', '/', ' 30', ' 2015']\n",
            "7 ['April', 'December', 'June', 'September', 'October']\n",
            "8 ['April', 'June', 'March', 'September', 'October']\n",
            "9 ['May', 'April', 'June', 'Apr', 'October']\n",
            "10 ['May', 'June', 'April', 'July', 'October']\n",
            "11 ['May', 'June', 'July', 'April', 'October']\n",
            "\n",
            "\n",
            "-1 ['May', ' livest', 'June', 'April', 'Apr']\n",
            "0 [' May', 'May', 'flower', ' 2015', 'Aug']\n",
            "1 [' 2015', ' 2014', ' May', ' 2013', 'flower']\n",
            "2 [' 2014', ' 2015', 'flower', ' 2011', ' 2013']\n",
            "3 [' 2015', 'hem', ' 2014', 'nard', ' 31']\n",
            "4 ['weather', 'hem', ' 2014', 'yy', ' 2015']\n",
            "5 ['weather', '/', ']', ' 29', 'way']\n",
            "6 ['flower', 'May', 'June', 'December', 'hem']\n",
            "7 ['hem', 'flower', 'May', 'December', 'ne']\n",
            "8 ['May', 'June', 'April', 'December', 'September']\n",
            "9 ['June', 'May', 'Apr', 'April', 'Jun']\n",
            "10 ['June', 'July', 'October', 'May', 'December']\n",
            "11 ['June', 'July', '6', 'Jun', 'May']\n",
            "\n",
            "\n",
            "-1 ['June', 'July', 'September', 'April', 'February']\n",
            "0 [' June', ' May', ' 2015', ' Aug', ' 2014']\n",
            "1 [' 2015', ' 2014', ' Aug', ' 2017', ' 2013']\n",
            "2 [' 2014', ' 2015', ' 2013', ' 2012', ' 2016']\n",
            "3 [' 2015', ' 2014', ' 2017', ' 2013', ' 2016']\n",
            "4 [' 2014', ' 2015', ' 2013', ' 2017', ' 2018']\n",
            "5 [' 2014', ' 2013', ' 29', ' 2015', ' 2017']\n",
            "6 [' 2014', ' 2015', 'December', ' 2013', '2014']\n",
            "7 ['December', ' 2014', '2014', 'June', 'October']\n",
            "8 ['June', 'December', 'September', 'October', 'July']\n",
            "9 ['July', 'June', 'December', 'November', 'October']\n",
            "10 ['July', 'June', ' July', 'August', 'September']\n",
            "11 ['July', ' July', 'June', 'August', 'November']\n",
            "\n",
            "\n",
            "-1 ['July', 'June', 'September', 'October', 'November']\n",
            "0 [' Aug', ' July', 'Aug', 'July', ' 2015']\n",
            "1 [' Aug', ' 2015', ' 2014', ' 2017', ' 2013']\n",
            "2 [' Aug', ' 2015', ' 2014', ' 2013', ' 2017']\n",
            "3 [' 2015', ' Aug', ' 2017', ' 2014', ' 31']\n",
            "4 [' 2017', ' 2014', ' 2015', ' 2013', ' 31']\n",
            "5 ['/', ' 31', ' 29', ' 6', ']']\n",
            "6 ['/', ' 31', 'December', ' 2014', 'June']\n",
            "7 ['December', 'September', 'June', 'July', '2017']\n",
            "8 ['July', 'June', 'August', 'September', 'December']\n",
            "9 ['August', 'July', 'December', 'September', 'October']\n",
            "10 ['August', ' August', 'Aug', 'September', 'December']\n",
            "11 ['August', 'Aug', ' August', 'October', 'September']\n",
            "\n",
            "\n",
            "-1 ['August', 'September', 'October', 'July', 'November']\n",
            "0 [' Aug', ' August', ' 2017', 'August', ' 2016']\n",
            "1 [' 2017', ' 2014', ' Aug', ' 2016', ' 2015']\n",
            "2 [' 2014', ' 2017', ' 2015', ' 2016', ' 2013']\n",
            "3 [' 2017', ' 2014', ' 2015', ' 2018', ' 2013']\n",
            "4 [' 2014', ' 2017', ' 2018', ' 2013', ' 2015']\n",
            "5 [' 2014', ' 2013', ' 2018', ' 29', ' 2017']\n",
            "6 ['September', 'December', 'August', 'October', ' 2014']\n",
            "7 ['December', 'September', 'August', 'October', 'June']\n",
            "8 ['August', 'September', 'October', 'July', 'June']\n",
            "9 ['September', 'August', 'October', 'December', 'Sept']\n",
            "10 ['September', 'August', 'October', 'December', 'November']\n",
            "11 ['September', 'August', 'October', 'December', ' September']\n",
            "\n",
            "\n",
            "-1 ['September', 'October', 'November', 'December', 'August']\n",
            "0 ['September', ' September', ' Aug', ' 2014', ' August']\n",
            "1 [' 2014', ' 2018', ' 2017', ' 2015', ' 2013']\n",
            "2 [' 2014', ' 29', ' 01', ' 2015', ' 2017']\n",
            "3 [' 2014', ' 29', ' 2018', ' 2015', ' 01']\n",
            "4 [' 2018', ' 2014', ' 29', ' 2017', ' 2015']\n",
            "5 [' 29', ' 2018', ' 6', ' 2014', 'way']\n",
            "6 ['September', 'October', ' 29', 'December', 'ways']\n",
            "7 ['September', 'October', 'December', 'November', '2009']\n",
            "8 ['September', 'October', 'December', 'November', 'August']\n",
            "9 ['October', 'September', 'November', 'December', 'Oct']\n",
            "10 ['October', 'September', 'December', 'November', ' October']\n",
            "11 ['October', ' October', 'November', 'September', 'December']\n",
            "\n",
            "\n",
            "-1 ['October', 'September', 'November', 'December', 'February']\n",
            "0 [' October', ' Aug', ' Sept', ' Oct', ' 2014']\n",
            "1 [' 2014', ' 2015', ' Aug', ' 2013', ' 2017']\n",
            "2 [' 2014', ' 2015', ' 2017', ' 2013', ' 2016']\n",
            "3 [' 2014', ' 2015', ' 2017', ' 2018', ' 2013']\n",
            "4 [' 2014', ' 2015', ' 2017', ' 2018', ' 24']\n",
            "5 [' 2014', ' 29', ' 24', ' 2018', ' 2015']\n",
            "6 ['October', 'September', 'December', 'Oct', ' 2014']\n",
            "7 ['October', 'September', 'December', 'November', 'Oct']\n",
            "8 ['October', 'September', 'November', 'December', 'August']\n",
            "9 ['November', 'October', 'December', '2011', 'Nov']\n",
            "10 ['November', 'December', 'October', ' November', 'January']\n",
            "11 ['November', ' November', 'December', 'October', 'January']\n",
            "\n",
            "\n",
            "-1 ['November', 'October', 'December', 'September', 'January']\n",
            "0 [' November', ' 2014', ' December', ' Aug', 'November']\n",
            "1 [' 2015', ' 2014', ' 2013', ' 2017', ' 2016']\n",
            "2 [' 2014', ' 2015', ' 2013', ' 2017', ' 2016']\n",
            "3 [' 2015', ' 2014', ' 2013', ' 2017', ' 2012']\n",
            "4 [' 2014', ' 2015', ' 2013', ' 2017', ' 2012']\n",
            "5 [' 2014', ' 2013', ']', ' 2015', '/']\n",
            "6 ['December', 'October', 'September', 'November', 'June']\n",
            "7 ['December', 'November', 'October', 'September', 'January']\n",
            "8 ['November', 'October', 'December', 'September', 'April']\n",
            "9 ['December', 'November', 'October', 'January', 'February']\n",
            "10 ['December', 'November', ' December', 'February', 'January']\n",
            "11 ['December', ' December', 'February', 'November', '\\n']\n",
            "\n",
            "\n"
          ]
        }
      ]
    },
    {
      "cell_type": "markdown",
      "source": [
        "# nw- 1536 prompts, among words"
      ],
      "metadata": {
        "id": "94HIbpUg4WBr"
      }
    },
    {
      "cell_type": "code",
      "source": [
        "import pickle\n",
        "\n",
        "task = \"nw\"\n",
        "prompts_list = []\n",
        "\n",
        "temps = ['done', 'lost', 'names']\n",
        "\n",
        "for i in temps:\n",
        "    file_name = f'/content/{task}_prompts_{i}.pkl'\n",
        "    with open(file_name, 'rb') as file:\n",
        "        filelist = pickle.load(file)\n",
        "\n",
        "    print(filelist[0]['text'])\n",
        "    prompts_list += filelist [:512] #768 512\n",
        "\n",
        "len(prompts_list)"
      ],
      "metadata": {
        "colab": {
          "base_uri": "https://localhost:8080/"
        },
        "outputId": "3d729c3f-2f6f-4f63-8117-89e54e768936",
        "id": "sp8q-yaR4WB4"
      },
      "execution_count": null,
      "outputs": [
        {
          "output_type": "stream",
          "name": "stdout",
          "text": [
            "Van done in one. Hat done in two. Ring done in three. Desk done in four. Sun done in\n",
            "Oil lost in one. Apple lost in two. Tree lost in three. Snow lost in four. Apple lost in\n",
            "Marcus born in one. Victoria born in two. George born in three. Brandon born in four. Jamie born in\n"
          ]
        },
        {
          "output_type": "execute_result",
          "data": {
            "text/plain": [
              "1536"
            ]
          },
          "metadata": {},
          "execution_count": 11
        }
      ]
    },
    {
      "cell_type": "code",
      "source": [
        "num_words = [\"one\", \"two\", \"three\", \"four\", \"five\", \"six\", \"seven\", \"eight\", \"nine\", \"ten\",\n",
        "                 \"eleven\", \"twelve\"]\n",
        "\n",
        "anomolies = []\n",
        "num_corr = 0\n",
        "for pd in prompts_list:\n",
        "    test_text = pd['text']\n",
        "    layer_logits = get_logits(test_text)\n",
        "    tok_logit_lens = get_decoded_indiv_toks(layer_logits)\n",
        "\n",
        "    \"\"\"\n",
        "    Check if the 8th layer's predicted token is the sequence member just \"one before\"\n",
        "    the correct next sequence member output found in the ninth layer\n",
        "\n",
        "    Use `try` because when indexing, the output may not be a seq member of the right type!\n",
        "    \"\"\"\n",
        "    try:\n",
        "        a = num_words.index(tok_logit_lens[9][0].replace(' ', ''))\n",
        "        b= num_words.index(tok_logit_lens[10][0].replace(' ', ''))\n",
        "        if int(a) < int(b):\n",
        "            if tok_logit_lens[10][0] == pd['corr']:\n",
        "                num_corr += 1\n",
        "            else:\n",
        "                anomolies.append(pd)\n",
        "        else:\n",
        "                anomolies.append(pd)\n",
        "    except:\n",
        "        anomolies.append(pd)\n",
        "    # for i, tokouts in enumerate(tok_logit_lens):\n",
        "    #     print(i-1, tokouts)\n",
        "    # print('\\n')"
      ],
      "metadata": {
        "id": "WUPrQKBJ4WB4"
      },
      "execution_count": null,
      "outputs": []
    },
    {
      "cell_type": "code",
      "source": [
        "num_corr"
      ],
      "metadata": {
        "colab": {
          "base_uri": "https://localhost:8080/"
        },
        "id": "fqIX6Jeu4WB5",
        "outputId": "a77e5cdf-664a-4125-e7dc-b266a90d9279"
      },
      "execution_count": null,
      "outputs": [
        {
          "output_type": "execute_result",
          "data": {
            "text/plain": [
              "1396"
            ]
          },
          "metadata": {},
          "execution_count": 16
        }
      ]
    },
    {
      "cell_type": "markdown",
      "source": [
        "Do a quick scan of what prompts are anomolies in which 8th layer output is not just \"the seq member one before\" the 9th layer output."
      ],
      "metadata": {
        "id": "-nElNXg7Rj5S"
      }
    },
    {
      "cell_type": "code",
      "source": [
        "for pd in anomolies[:2]:\n",
        "    test_text = pd['text']\n",
        "    layer_logits = get_logits(test_text)\n",
        "    tok_logit_lens = get_decoded_indiv_toks(layer_logits)\n",
        "    for i, tokouts in enumerate(tok_logit_lens):\n",
        "        print(i-1, tokouts)\n",
        "    print('\\n')"
      ],
      "metadata": {
        "colab": {
          "base_uri": "https://localhost:8080/"
        },
        "id": "O04ndqvY4WB6",
        "outputId": "c94e835f-b8f3-4ce4-90ac-c638a05e2f1d"
      },
      "execution_count": null,
      "outputs": [
        {
          "output_type": "stream",
          "name": "stdout",
          "text": [
            "-1 [' challeng', ' mathemat', ' arrang', ' corrid', ' destro']\n",
            "0 [' order', ' the', ' particular', ' a', ' conjunction']\n",
            "1 [' order', ' the', ' conjunction', ' vain', ' particular']\n",
            "2 [' order', ' the', ' vain', ' front', ' conjunction']\n",
            "3 [' order', ' the', ' vain', ' conjunction', ' accordance']\n",
            "4 [' order', ' the', ' relation', ' vain', ' conjunction']\n",
            "5 [' order', ' vain', ' lieu', ' conjunction', ' the']\n",
            "6 [' order', ' three', ' conjunction', ' lieu', ' a']\n",
            "7 [' three', ' five', ' seven', ' nine', ' order']\n",
            "8 [' seven', ' six', ' five', ' four', ' eight']\n",
            "9 [' seven', ' eight', ' six', ' nine', ' seventh']\n",
            "10 [' seven', ' eight', ' nine', ' six', ' nineteen']\n",
            "11 [' seven', ' eight', ' six', ' nine', ' ten']\n",
            "\n",
            "\n",
            "-1 [' challeng', ' mathemat', ' arrang', ' corrid', ' destro']\n",
            "0 [' order', ' the', ' particular', ' a', ' front']\n",
            "1 [' order', ' the', ' conjunction', ' vain', ' particular']\n",
            "2 [' order', ' the', ' vain', ' conjunction', ' front']\n",
            "3 [' order', ' vain', ' the', ' accordance', ' conjunction']\n",
            "4 [' order', ' vain', ' the', ' relation', ' lieu']\n",
            "5 [' order', ' vain', ' lieu', ' the', ' conjunction']\n",
            "6 [' order', ' three', ' vain', ' lieu', ' conjunction']\n",
            "7 [' three', ' five', ' seven', ' order', ' four']\n",
            "8 [' seven', ' six', ' five', ' three', ' four']\n",
            "9 [' seven', ' eight', ' six', ' nine', ' twelve']\n",
            "10 [' seven', ' eight', ' nine', ' six', ' nineteen']\n",
            "11 [' seven', ' eight', ' six', ' nine', ' ten']\n",
            "\n",
            "\n"
          ]
        }
      ]
    },
    {
      "cell_type": "code",
      "source": [
        "for pd in anomolies[-2:]:\n",
        "    test_text = pd['text']\n",
        "    layer_logits = get_logits(test_text)\n",
        "    tok_logit_lens = get_decoded_indiv_toks(layer_logits)\n",
        "    for i, tokouts in enumerate(tok_logit_lens):\n",
        "        print(i-1, tokouts)\n",
        "    print('\\n')"
      ],
      "metadata": {
        "colab": {
          "base_uri": "https://localhost:8080/"
        },
        "id": "eYXFQ61E4WB6",
        "outputId": "2c1ddcb2-1ab3-4e5e-ef0f-9481c86a5a4c"
      },
      "execution_count": null,
      "outputs": [
        {
          "output_type": "stream",
          "name": "stdout",
          "text": [
            "-1 [' challeng', ' mathemat', ' arrang', ' corrid', ' destro']\n",
            "0 [' order', ' the', ' particular', ' a', ' front']\n",
            "1 [' the', ' order', ' a', ' conjunction', ' particular']\n",
            "2 [' the', ' order', ' a', ' conjunction', ' front']\n",
            "3 [' the', ' order', ' accordance', ' conjunction', ' a']\n",
            "4 [' the', ' front', ' order', ' conjunction', ' his']\n",
            "5 [' order', ' 18', ' 17', ' front', ' conjunction']\n",
            "6 [' front', ' 10', ' order', ' 3', ' three']\n",
            "7 [' nine', ' seven', ' 9', ' eight', ' 12']\n",
            "8 [' nine', ' eight', ' 10', ' ten', ' seven']\n",
            "9 [' 10', ' ten', ' nine', ' twelve', ' tenth']\n",
            "10 [' ten', ' twelve', ' eleven', ' 10', ' thirteen']\n",
            "11 [' ten', ' 10', ' twelve', ' eleven', ' fifteen']\n",
            "\n",
            "\n",
            "-1 [' challeng', ' mathemat', ' arrang', ' corrid', ' destro']\n",
            "0 [' order', ' the', ' particular', ' a', ' conjunction']\n",
            "1 [' the', ' order', ' particular', ' conjunction', ' a']\n",
            "2 [' the', ' order', ' a', ' conjunction', ' front']\n",
            "3 [' the', ' order', ' accordance', ' his', ' conjunction']\n",
            "4 [' the', ' order', ' front', ' his', ' conjunction']\n",
            "5 [' order', ' 18', ' front', ' late', ' the']\n",
            "6 [' 10', ' order', ' front', ' 3', ' three']\n",
            "7 [' nine', ' eight', ' seven', ' 9', ' 10']\n",
            "8 [' nine', ' eight', ' 10', ' ten', ' seven']\n",
            "9 [' 10', ' ten', ' nine', ' eight', ' tenth']\n",
            "10 [' ten', ' twelve', ' 10', ' eleven', ' nine']\n",
            "11 [' ten', ' 10', ' twelve', ' nine', ' eleven']\n",
            "\n",
            "\n"
          ]
        }
      ]
    },
    {
      "cell_type": "markdown",
      "source": [
        "# months 1536"
      ],
      "metadata": {
        "id": "s-QkY-fyCKcD"
      }
    },
    {
      "cell_type": "code",
      "source": [
        "import pickle\n",
        "\n",
        "task = \"months\"\n",
        "prompts_list = []\n",
        "\n",
        "temps = ['done', 'lost', 'names']\n",
        "\n",
        "for i in temps:\n",
        "    file_name = f'/content/{task}_prompts_{i}.pkl'\n",
        "    with open(file_name, 'rb') as file:\n",
        "        filelist = pickle.load(file)\n",
        "\n",
        "    print(filelist[0]['text'])\n",
        "    prompts_list += filelist [:512] #768 512\n",
        "\n",
        "len(prompts_list)"
      ],
      "metadata": {
        "colab": {
          "base_uri": "https://localhost:8080/"
        },
        "outputId": "bd9dd59e-b86f-4cec-dd88-d870ca4a3c22",
        "id": "TCfo2ZlOCKcJ"
      },
      "execution_count": null,
      "outputs": [
        {
          "output_type": "stream",
          "name": "stdout",
          "text": [
            "Van done in January. Hat done in February. Ring done in March. Desk done in April. Sun done in\n",
            "Oil lost in January. Apple lost in February. Tree lost in March. Snow lost in April. Apple lost in\n",
            "Marcus born in January. Victoria born in February. George born in March. Brandon born in April. Jamie born in\n"
          ]
        },
        {
          "output_type": "execute_result",
          "data": {
            "text/plain": [
              "1536"
            ]
          },
          "metadata": {},
          "execution_count": 58
        }
      ]
    },
    {
      "cell_type": "code",
      "source": [
        "num_words = ['January', 'February', 'March', 'April', 'May', 'June', 'July', 'August', 'September', 'October', 'November', 'December']\n",
        "\n",
        "anomolies = []\n",
        "num_corr = 0\n",
        "for pd in prompts_list:\n",
        "    test_text = pd['text']\n",
        "    layer_logits = get_logits(test_text)\n",
        "    tok_logit_lens = get_decoded_indiv_toks(layer_logits)\n",
        "\n",
        "    \"\"\"\n",
        "    Check if the 8th layer's predicted token is the sequence member just \"one before\"\n",
        "    the correct next sequence member output found in the ninth layer\n",
        "\n",
        "    Use `try` because when indexing, the output may not be a seq member of the right type!\n",
        "    \"\"\"\n",
        "    try:\n",
        "        a = num_words.index(tok_logit_lens[9][0].replace(' ', ''))\n",
        "        b = num_words.index(tok_logit_lens[10][0].replace(' ', ''))\n",
        "        if int(a) < int(b):\n",
        "            if tok_logit_lens[10][0] == pd['corr']:\n",
        "                num_corr += 1\n",
        "            else:\n",
        "                anomolies.append(pd)\n",
        "        else:\n",
        "                anomolies.append(pd)\n",
        "    except:\n",
        "        anomolies.append(pd)\n",
        "    # for i, tokouts in enumerate(tok_logit_lens):\n",
        "    #     print(i-1, tokouts)\n",
        "    # print('\\n')"
      ],
      "metadata": {
        "id": "qgzLP9dRCKcJ"
      },
      "execution_count": null,
      "outputs": []
    },
    {
      "cell_type": "code",
      "source": [
        "num_corr"
      ],
      "metadata": {
        "colab": {
          "base_uri": "https://localhost:8080/"
        },
        "outputId": "594b425b-aad1-4a21-da2f-e4e44d025a49",
        "id": "2L2mPRRACKcJ"
      },
      "execution_count": null,
      "outputs": [
        {
          "output_type": "execute_result",
          "data": {
            "text/plain": [
              "1495"
            ]
          },
          "metadata": {},
          "execution_count": 60
        }
      ]
    },
    {
      "cell_type": "markdown",
      "source": [
        "Do a quick scan of what prompts are anomolies in which 8th layer output is not just \"the seq member one before\" the 9th layer output."
      ],
      "metadata": {
        "id": "CVCeGyfIRrgY"
      }
    },
    {
      "cell_type": "code",
      "source": [
        "for pd in anomolies[:2]:\n",
        "    test_text = pd['text']\n",
        "    layer_logits = get_logits(test_text)\n",
        "    tok_logit_lens = get_decoded_indiv_toks(layer_logits)\n",
        "    for i, tokouts in enumerate(tok_logit_lens):\n",
        "        print(i-1, tokouts)\n",
        "    print('\\n')"
      ],
      "metadata": {
        "colab": {
          "base_uri": "https://localhost:8080/"
        },
        "outputId": "ffbbc3f2-3666-4242-8b2e-fb84f8b0d01f",
        "id": "XUmQ6MiqCKcK"
      },
      "execution_count": null,
      "outputs": [
        {
          "output_type": "stream",
          "name": "stdout",
          "text": [
            "-1 [' challeng', ' mathemat', ' arrang', ' corrid', ' destro']\n",
            "0 [' order', ' the', ' particular', ' a', ' conjunction']\n",
            "1 [' order', ' the', ' conjunction', ' particular', ' vain']\n",
            "2 [' order', ' the', ' conjunction', ' vain', ' accordance']\n",
            "3 [' order', ' the', ' vain', ' accordance', ' conjunction']\n",
            "4 [' order', ' the', ' conjunction', ' accordance', ' vain']\n",
            "5 [' order', ' lieu', ' vain', ' late', ' conjunction']\n",
            "6 [' order', ' lieu', ' June', ' conjunction', ' late']\n",
            "7 [' June', ' September', ' May', ' March', ' July']\n",
            "8 [' September', ' August', ' July', ' June', ' October']\n",
            "9 [' September', ' October', ' November', ' August', ' Sept']\n",
            "10 [' September', ' October', ' November', ' August', ' December']\n",
            "11 [' September', ' October', ' November', ' August', ' December']\n",
            "\n",
            "\n",
            "-1 [' challeng', ' mathemat', ' arrang', ' corrid', ' destro']\n",
            "0 [' order', ' the', ' particular', ' a', ' conjunction']\n",
            "1 [' order', ' the', ' conjunction', ' particular', ' my']\n",
            "2 [' order', ' the', ' conjunction', ' accordance', ' vain']\n",
            "3 [' order', ' the', ' accordance', ' conjunction', ' vain']\n",
            "4 [' order', ' conjunction', ' accordance', ' the', ' lieu']\n",
            "5 [' order', ' lieu', ' accordance', ' conjunction', ' vain']\n",
            "6 [' order', ' lieu', ' conjunction', ' accordance', ' June']\n",
            "7 [' June', ' September', ' July', ' March', ' February']\n",
            "8 [' September', ' August', ' July', ' November', ' October']\n",
            "9 [' September', ' October', ' November', ' August', ' December']\n",
            "10 [' September', ' October', ' November', ' August', ' December']\n",
            "11 [' September', ' October', ' November', ' August', ' December']\n",
            "\n",
            "\n"
          ]
        }
      ]
    },
    {
      "cell_type": "code",
      "source": [
        "for pd in anomolies[-2:]:\n",
        "    test_text = pd['text']\n",
        "    layer_logits = get_logits(test_text)\n",
        "    tok_logit_lens = get_decoded_indiv_toks(layer_logits)\n",
        "    for i, tokouts in enumerate(tok_logit_lens):\n",
        "        print(i-1, tokouts)\n",
        "    print('\\n')"
      ],
      "metadata": {
        "colab": {
          "base_uri": "https://localhost:8080/"
        },
        "outputId": "c6a2facc-9e73-4258-b52e-517cd45c5183",
        "id": "QMBLiI1FCKcK"
      },
      "execution_count": null,
      "outputs": [
        {
          "output_type": "stream",
          "name": "stdout",
          "text": [
            "-1 [' challeng', ' mathemat', ' arrang', ' corrid', ' destro']\n",
            "0 [' order', ' the', ' particular', ' a', ' conjunction']\n",
            "1 [' order', ' the', ' conjunction', ' particular', ' a']\n",
            "2 [' the', ' order', ' a', ' accordance', ' front']\n",
            "3 [' the', ' order', ' accordance', ' a', ' his']\n",
            "4 [' front', ' the', ' order', ' conjunction', ' his']\n",
            "5 [' order', ' lieu', ' late', ' 1968', ' front']\n",
            "6 [' lieu', ' order', ' June', ' conjunction', ' front']\n",
            "7 [' June', ' September', ' August', ' July', ' May']\n",
            "8 [' September', ' August', ' July', ' October', ' November']\n",
            "9 [' September', ' October', ' November', ' December', ' August']\n",
            "10 [' September', ' October', ' November', ' December', ' August']\n",
            "11 [' September', ' October', ' November', ' December', ' January']\n",
            "\n",
            "\n",
            "-1 [' challeng', ' mathemat', ' arrang', ' corrid', ' destro']\n",
            "0 [' order', ' the', ' particular', ' a', ' conjunction']\n",
            "1 [' order', ' the', ' conjunction', ' particular', ' a']\n",
            "2 [' order', ' the', ' a', ' accordance', ' conjunction']\n",
            "3 [' the', ' order', ' accordance', ' a', ' conjunction']\n",
            "4 [' the', ' order', ' front', ' accordance', ' conjunction']\n",
            "5 [' order', ' lieu', ' late', ' 1976', ' 1968']\n",
            "6 [' lieu', ' order', ' 2009', ' June', ' 1998']\n",
            "7 [' June', ' July', ' September', ' May', ' August']\n",
            "8 [' September', ' August', ' July', ' November', ' October']\n",
            "9 [' September', ' October', ' November', ' December', ' Sept']\n",
            "10 [' September', ' October', ' November', ' December', ' January']\n",
            "11 [' September', ' October', ' November', ' December', ' January']\n",
            "\n",
            "\n"
          ]
        }
      ]
    },
    {
      "cell_type": "markdown",
      "source": [
        "# numerals 1536"
      ],
      "metadata": {
        "id": "_EyD-MhKG0K0"
      }
    },
    {
      "cell_type": "code",
      "source": [
        "task = \"digits\"\n",
        "prompts_list = []\n",
        "\n",
        "temps = ['done', 'lost', 'names']\n",
        "\n",
        "for i in temps:\n",
        "    file_name = f'/content/{task}_prompts_{i}.pkl'\n",
        "    with open(file_name, 'rb') as file:\n",
        "        filelist = pickle.load(file)\n",
        "\n",
        "    print(filelist[0]['text'])\n",
        "    prompts_list += filelist [:512] #768 512\n",
        "\n",
        "len(prompts_list)"
      ],
      "metadata": {
        "colab": {
          "base_uri": "https://localhost:8080/"
        },
        "outputId": "df5fc44a-57b4-4556-f140-17610ce97be4",
        "id": "yRZMKMiYG0K0"
      },
      "execution_count": null,
      "outputs": [
        {
          "output_type": "stream",
          "name": "stdout",
          "text": [
            "Van done in 1. Hat done in 2. Ring done in 3. Desk done in 4. Sun done in\n",
            "Oil lost in 1. Apple lost in 2. Tree lost in 3. Snow lost in 4. Apple lost in\n",
            "Marcus born in 1. Victoria born in 2. George born in 3. Brandon born in 4. Jamie born in\n"
          ]
        },
        {
          "output_type": "execute_result",
          "data": {
            "text/plain": [
              "1536"
            ]
          },
          "metadata": {},
          "execution_count": 11
        }
      ]
    },
    {
      "cell_type": "code",
      "source": [
        "num_corr = 0\n",
        "anomolies = []\n",
        "for pd in prompts_list:\n",
        "    test_text = pd['text']\n",
        "    layer_logits = get_logits(test_text)\n",
        "    tok_logit_lens = get_decoded_indiv_toks(layer_logits)\n",
        "\n",
        "    \"\"\"\n",
        "    Check if the 8th layer's predicted token is the sequence member just \"one before\"\n",
        "    the correct next sequence member output found in the ninth layer\n",
        "\n",
        "    Use `try` because when indexing, the output may not be a seq member of the right type!\n",
        "    \"\"\"\n",
        "    try:\n",
        "        a = tok_logit_lens[9][0].replace(' ', '')\n",
        "        b= tok_logit_lens[10][0].replace(' ', '')\n",
        "        if int(a) < int(b):\n",
        "            if tok_logit_lens[10][0] == pd['corr']:\n",
        "                num_corr += 1\n",
        "            else:\n",
        "                anomolies.append(pd)\n",
        "        else:\n",
        "                anomolies.append(pd)\n",
        "    except:\n",
        "        anomolies.append(pd)\n",
        "    # for i, tokouts in enumerate(tok_logit_lens):\n",
        "    #     print(i-1, tokouts)\n",
        "    # print('\\n')"
      ],
      "metadata": {
        "colab": {
          "base_uri": "https://localhost:8080/"
        },
        "id": "1ZAUrGs8HCY3",
        "outputId": "32693da4-d214-4149-db86-7e2968d1451d"
      },
      "execution_count": null,
      "outputs": [
        {
          "output_type": "execute_result",
          "data": {
            "text/plain": [
              "1531"
            ]
          },
          "metadata": {},
          "execution_count": 12
        }
      ]
    },
    {
      "cell_type": "code",
      "source": [
        "num_corr"
      ],
      "metadata": {
        "colab": {
          "base_uri": "https://localhost:8080/"
        },
        "outputId": "343e4723-83ea-48f6-a603-2f59c54665a5",
        "id": "CHOa5D3qG0K1"
      },
      "execution_count": null,
      "outputs": [
        {
          "output_type": "execute_result",
          "data": {
            "text/plain": [
              "1531"
            ]
          },
          "metadata": {},
          "execution_count": 13
        }
      ]
    },
    {
      "cell_type": "markdown",
      "source": [
        "Do a quick scan of what prompts are anomolies in which 8th layer output is not just \"the seq member one before\" the 9th layer output."
      ],
      "metadata": {
        "id": "dKcyYBrGRtjx"
      }
    },
    {
      "cell_type": "code",
      "source": [
        "for pd in anomolies[:2]:\n",
        "    test_text = pd['text']\n",
        "    layer_logits = get_logits(test_text)\n",
        "    tok_logit_lens = get_decoded_indiv_toks(layer_logits)\n",
        "    for i, tokouts in enumerate(tok_logit_lens):\n",
        "        print(i-1, tokouts)\n",
        "    print('\\n')"
      ],
      "metadata": {
        "colab": {
          "base_uri": "https://localhost:8080/"
        },
        "outputId": "33dadcce-cd49-4d77-e8a7-8e6800c8cbb6",
        "id": "RIOkJgkbG0K1"
      },
      "execution_count": null,
      "outputs": [
        {
          "output_type": "stream",
          "name": "stdout",
          "text": [
            "-1 [' challeng', ' mathemat', ' arrang', ' corrid', ' destro']\n",
            "0 [' order', ' the', ' particular', ' conjunction', ' a']\n",
            "1 [' order', ' the', ' conjunction', ' particular', ' a']\n",
            "2 [' order', ' the', ' vain', ' front', ' conjunction']\n",
            "3 [' order', ' the', ' vain', ' conjunction', ' front']\n",
            "4 [' order', ' the', ' conjunction', ' vain', ' spite']\n",
            "5 [' order', ' conjunction', ' 3', ' vain', ' 15']\n",
            "6 [' 3', ' 5', ' 2', ' 4', ' 7']\n",
            "7 [' 3', ' 5', ' 7', ' 4', ' 2']\n",
            "8 [' 7', ' 6', ' 5', ' 8', ' 1']\n",
            "9 [' 7', ' 8', ' 6', ' 9', '7']\n",
            "10 [' 7', ' 8', ' 9', ' 6', ' 1']\n",
            "11 [' 7', ' 8', ' 1', ' 9', ' 6']\n",
            "\n",
            "\n",
            "-1 [' challeng', ' mathemat', ' arrang', ' corrid', ' destro']\n",
            "0 [' order', ' the', ' particular', ' a', ' conjunction']\n",
            "1 [' order', ' the', ' conjunction', ' a', ' particular']\n",
            "2 [' order', ' the', ' conjunction', ' vain', ' front']\n",
            "3 [' order', ' the', ' conjunction', ' vain', ' accordance']\n",
            "4 [' order', ' conjunction', ' the', ' relation', ' accordance']\n",
            "5 [' order', ' 3', ' 5', ' 18', ' 6']\n",
            "6 [' 5', ' 3', ' 7', ' 6', ' 4']\n",
            "7 [' 5', ' 7', ' 6', ' 3', ' 4']\n",
            "8 [' 7', ' 6', ' 5', ' 8', ' 1']\n",
            "9 [' 7', ' 8', ' 6', '7', ' 9']\n",
            "10 [' 7', ' 8', ' 9', ' 77', ' 6']\n",
            "11 [' 7', ' 8', ' 1', ' 9', '\\n']\n",
            "\n",
            "\n"
          ]
        }
      ]
    },
    {
      "cell_type": "code",
      "source": [
        "for pd in anomolies[-2:]:\n",
        "    test_text = pd['text']\n",
        "    layer_logits = get_logits(test_text)\n",
        "    tok_logit_lens = get_decoded_indiv_toks(layer_logits)\n",
        "    for i, tokouts in enumerate(tok_logit_lens):\n",
        "        print(i-1, tokouts)\n",
        "    print('\\n')"
      ],
      "metadata": {
        "colab": {
          "base_uri": "https://localhost:8080/"
        },
        "outputId": "dcb02cfa-df30-4fe1-c186-291d5454be2f",
        "id": "u3BMZSTPG0K2"
      },
      "execution_count": null,
      "outputs": [
        {
          "output_type": "stream",
          "name": "stdout",
          "text": [
            "-1 [' challeng', ' mathemat', ' arrang', ' corrid', ' destro']\n",
            "0 [' order', ' the', ' particular', ' a', ' front']\n",
            "1 [' order', ' the', ' a', ' conjunction', ' front']\n",
            "2 [' order', ' the', ' a', ' vain', ' accordance']\n",
            "3 [' order', ' the', ' vain', ' his', ' a']\n",
            "4 [' order', ' the', ' spite', ' relation', ' vain']\n",
            "5 [' order', ' 3', ' 2', ' 5', ' 1']\n",
            "6 [' 3', ' 2', ' 5', ' 1', ' 4']\n",
            "7 [' 3', ' 2', ' 1', ' 5', ' 4']\n",
            "8 [' 5', ' 4', ' 3', ' 1', ' 2']\n",
            "9 [' 5', ' 6', ' 1', ' 7', '5']\n",
            "10 [' 5', ' 6', ' 1', ' 7', ' 3']\n",
            "11 [' 5', ' 6', ' 1', ' 7', ' 3']\n",
            "\n",
            "\n",
            "-1 [' challeng', ' mathemat', ' arrang', ' corrid', ' destro']\n",
            "0 [' the', ' order', ' a', ' particular', ' front']\n",
            "1 [' order', ' the', ' a', ' conjunction', ' particular']\n",
            "2 [' order', ' the', ' a', ' accordance', ' vain']\n",
            "3 [' order', ' the', ' accordance', ' relation', ' vain']\n",
            "4 [' order', ' the', ' accordance', ' spite', ' relation']\n",
            "5 [' order', ' 3', ' 5', ' 18', ' 15']\n",
            "6 [' 3', ' 5', ' 2', ' 7', ' 4']\n",
            "7 [' 3', ' 5', ' 7', ' 4', ' 6']\n",
            "8 [' 7', ' 6', ' 5', ' 8', ' 9']\n",
            "9 [' 7', ' 8', ' 6', ' 9', '7']\n",
            "10 [' 7', ' 8', ' 9', ' 6', ' 13']\n",
            "11 [' 7', ' 8', ' 9', ' 1', ' 6']\n",
            "\n",
            "\n"
          ]
        }
      ]
    }
  ]
}